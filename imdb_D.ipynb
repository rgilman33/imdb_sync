{
 "cells": [
  {
   "cell_type": "markdown",
   "metadata": {
    "colab_type": "text",
    "id": "wtzJO_iVMWcm"
   },
   "source": [
    "\n",
    "## IMDb"
   ]
  },
  {
   "cell_type": "markdown",
   "metadata": {
    "colab_type": "text",
    "id": "loEJj5O7J0Ex"
   },
   "source": [
    "\n",
    "\n",
    "figure out how to save model. \n",
    "upload data from deloitte,  process test data in same way as other data. \n",
    "get a good pred, upload\n",
    "\n",
    "data in. rationalize data structure. had mismatch with max 1000"
   ]
  },
  {
   "cell_type": "markdown",
   "metadata": {
    "colab_type": "text",
    "id": "T9jMDrgPMWcn"
   },
   "source": [
    "At Fast.ai we have introduced a new module called fastai.text which replaces the torchtext library that was used in our 2018 dl1 course. The fastai.text module also supersedes the fastai.nlp library but retains many of the key functions."
   ]
  },
  {
   "cell_type": "code",
   "execution_count": 1,
   "metadata": {
    "colab": {
     "base_uri": "https://localhost:8080/",
     "height": 3733
    },
    "colab_type": "code",
    "id": "CGv--rGmMxbT",
    "outputId": "60015313-1b3b-4846-bc08-3503eb8b0699"
   },
   "outputs": [],
   "source": [
    "#!pip install git+https://github.com/fastai/fastai.git # grabbing latest version\n",
    "#!pip install spacy\n",
    "#!python -m spacy download en"
   ]
  },
  {
   "cell_type": "code",
   "execution_count": 1,
   "metadata": {
    "colab": {},
    "colab_type": "code",
    "id": "qGNYbbAHMWcp"
   },
   "outputs": [
    {
     "name": "stderr",
     "output_type": "stream",
     "text": [
      "/home/ubuntu/anaconda3/envs/fastai/lib/python3.6/importlib/_bootstrap.py:219: RuntimeWarning: numpy.dtype size changed, may indicate binary incompatibility. Expected 96, got 88\n",
      "  return f(*args, **kwds)\n",
      "/home/ubuntu/anaconda3/envs/fastai/lib/python3.6/importlib/_bootstrap.py:219: RuntimeWarning: numpy.dtype size changed, may indicate binary incompatibility. Expected 96, got 88\n",
      "  return f(*args, **kwds)\n",
      "/home/ubuntu/anaconda3/envs/fastai/lib/python3.6/importlib/_bootstrap.py:219: RuntimeWarning: numpy.dtype size changed, may indicate binary incompatibility. Expected 96, got 88\n",
      "  return f(*args, **kwds)\n",
      "/home/ubuntu/anaconda3/envs/fastai/lib/python3.6/site-packages/sklearn/ensemble/weight_boosting.py:29: DeprecationWarning: numpy.core.umath_tests is an internal NumPy module and should not be imported. It will be removed in a future NumPy release.\n",
      "  from numpy.core.umath_tests import inner1d\n",
      "/home/ubuntu/anaconda3/envs/fastai/lib/python3.6/importlib/_bootstrap.py:219: RuntimeWarning: numpy.dtype size changed, may indicate binary incompatibility. Expected 96, got 88\n",
      "  return f(*args, **kwds)\n",
      "/home/ubuntu/anaconda3/envs/fastai/lib/python3.6/importlib/_bootstrap.py:219: RuntimeWarning: numpy.ufunc size changed, may indicate binary incompatibility. Expected 192, got 176\n",
      "  return f(*args, **kwds)\n"
     ]
    }
   ],
   "source": [
    "from fastai.text import *\n",
    "import html"
   ]
  },
  {
   "cell_type": "markdown",
   "metadata": {
    "colab_type": "text",
    "id": "g86Ey53PMWcv"
   },
   "source": [
    "The Fastai.text module introduces several custom tokens.\n",
    "\n",
    "We need to download the IMDB large movie reviews from this site: http://ai.stanford.edu/~amaas/data/sentiment/\n",
    "Direct link : [Link](http://ai.stanford.edu/~amaas/data/sentiment/aclImdb_v1.tar.gz) and untar it into the PATH location. We use pathlib which makes directory traveral a breeze."
   ]
  },
  {
   "cell_type": "code",
   "execution_count": 2,
   "metadata": {
    "colab": {},
    "colab_type": "code",
    "id": "lqqb_xRRMWcw"
   },
   "outputs": [],
   "source": [
    "BOS = 'xbos'  # beginning-of-sentence tag\n",
    "FLD = 'xfld'  # data field tag\n",
    "\n",
    "PATH=Path('imdb_data/aclImdb/')"
   ]
  },
  {
   "cell_type": "code",
   "execution_count": 3,
   "metadata": {
    "colab": {},
    "colab_type": "code",
    "id": "Eva7LVasSRWI"
   },
   "outputs": [],
   "source": [
    "#!mkdir \"imdb_data\""
   ]
  },
  {
   "cell_type": "markdown",
   "metadata": {
    "colab_type": "text",
    "id": "kNbwDW_UMWc0"
   },
   "source": [
    "## Standardize format"
   ]
  },
  {
   "cell_type": "code",
   "execution_count": 4,
   "metadata": {
    "colab": {},
    "colab_type": "code",
    "id": "kz3P4RXaMWc1",
    "scrolled": true
   },
   "outputs": [],
   "source": [
    "CLAS_PATH=Path('imdb_clas/')\n",
    "CLAS_PATH.mkdir(exist_ok=True)\n",
    "\n",
    "LM_PATH=Path('imdb_lm/')\n",
    "LM_PATH.mkdir(exist_ok=True)"
   ]
  },
  {
   "cell_type": "markdown",
   "metadata": {
    "colab_type": "text",
    "id": "cEeU74qNMWc5"
   },
   "source": [
    "The imdb dataset has 3 classes. positive, negative and unsupervised(sentiment is unknown). \n",
    "There are 75k training reviews(12.5k pos, 12.5k neg, 50k unsup)\n",
    "There are 25k validation reviews(12.5k pos, 12.5k neg & no unsup)\n",
    "\n",
    "Refer to the README file in the imdb corpus for further information about the dataset."
   ]
  },
  {
   "cell_type": "code",
   "execution_count": 5,
   "metadata": {
    "colab": {},
    "colab_type": "code",
    "id": "vodLUCvlMWdD"
   },
   "outputs": [],
   "source": [
    "col_names = ['labels','text']"
   ]
  },
  {
   "cell_type": "code",
   "execution_count": 6,
   "metadata": {
    "colab": {
     "base_uri": "https://localhost:8080/",
     "height": 101
    },
    "colab_type": "code",
    "id": "Ypq-v2ynRJtt",
    "outputId": "82c6a7c6-83a4-46d2-9a33-ee2a571c3cfa"
   },
   "outputs": [],
   "source": [
    "\n",
    "# Grabbing D data\n",
    "#!git clone https://github.com/rgilman33/imdb_sync.git"
   ]
  },
  {
   "cell_type": "code",
   "execution_count": 7,
   "metadata": {
    "colab": {
     "base_uri": "https://localhost:8080/",
     "height": 212
    },
    "colab_type": "code",
    "id": "8xt3kmJOZXOA",
    "outputId": "731c7b8c-9d2b-4f9a-f92d-15917bfdf086"
   },
   "outputs": [
    {
     "name": "stdout",
     "output_type": "stream",
     "text": [
      "50000\n"
     ]
    },
    {
     "name": "stderr",
     "output_type": "stream",
     "text": [
      "/home/ubuntu/anaconda3/envs/fastai/lib/python3.6/site-packages/ipykernel_launcher.py:8: FutureWarning: Sorting because non-concatenation axis is not aligned. A future version\n",
      "of pandas will change to not sort by default.\n",
      "\n",
      "To accept the future behavior, pass 'sort=False'.\n",
      "\n",
      "To retain the current behavior and silence the warning, pass 'sort=True'.\n",
      "\n",
      "  \n"
     ]
    },
    {
     "data": {
      "text/html": [
       "<div>\n",
       "<style scoped>\n",
       "    .dataframe tbody tr th:only-of-type {\n",
       "        vertical-align: middle;\n",
       "    }\n",
       "\n",
       "    .dataframe tbody tr th {\n",
       "        vertical-align: top;\n",
       "    }\n",
       "\n",
       "    .dataframe thead th {\n",
       "        text-align: right;\n",
       "    }\n",
       "</style>\n",
       "<table border=\"1\" class=\"dataframe\">\n",
       "  <thead>\n",
       "    <tr style=\"text-align: right;\">\n",
       "      <th></th>\n",
       "      <th>dataset</th>\n",
       "      <th>id</th>\n",
       "      <th>labels</th>\n",
       "      <th>text</th>\n",
       "    </tr>\n",
       "  </thead>\n",
       "  <tbody>\n",
       "    <tr>\n",
       "      <th>0</th>\n",
       "      <td>train</td>\n",
       "      <td>2592</td>\n",
       "      <td>0</td>\n",
       "      <td>Un-bleeping-believable! Meg Ryan doesn't even ...</td>\n",
       "    </tr>\n",
       "    <tr>\n",
       "      <th>1</th>\n",
       "      <td>train</td>\n",
       "      <td>18359</td>\n",
       "      <td>1</td>\n",
       "      <td>This is a extremely well-made film. The acting...</td>\n",
       "    </tr>\n",
       "    <tr>\n",
       "      <th>2</th>\n",
       "      <td>train</td>\n",
       "      <td>1040</td>\n",
       "      <td>0</td>\n",
       "      <td>Every once in a long while a movie will come a...</td>\n",
       "    </tr>\n",
       "    <tr>\n",
       "      <th>3</th>\n",
       "      <td>train</td>\n",
       "      <td>17262</td>\n",
       "      <td>1</td>\n",
       "      <td>Name just says it all. I watched this movie wi...</td>\n",
       "    </tr>\n",
       "    <tr>\n",
       "      <th>4</th>\n",
       "      <td>train</td>\n",
       "      <td>9908</td>\n",
       "      <td>0</td>\n",
       "      <td>This movie succeeds at being one of the most u...</td>\n",
       "    </tr>\n",
       "  </tbody>\n",
       "</table>\n",
       "</div>"
      ],
      "text/plain": [
       "  dataset     id  labels                                               text\n",
       "0   train   2592       0  Un-bleeping-believable! Meg Ryan doesn't even ...\n",
       "1   train  18359       1  This is a extremely well-made film. The acting...\n",
       "2   train   1040       0  Every once in a long while a movie will come a...\n",
       "3   train  17262       1  Name just says it all. I watched this movie wi...\n",
       "4   train   9908       0  This movie succeeds at being one of the most u..."
      ]
     },
     "execution_count": 7,
     "metadata": {},
     "output_type": "execute_result"
    }
   ],
   "source": [
    "# Reading in the train set and the test set. Creating single df w everthing.\n",
    "\n",
    "df_trn = pd.read_csv(\"train.csv\")\n",
    "df_test = pd.read_csv(\"test.csv\")\n",
    "df_trn[\"dataset\"] = \"train\"; df_test[\"dataset\"] = \"test\"\n",
    "df_test[\"labels\"] = 3\n",
    "\n",
    "df = pd.concat([df_trn, df_test], axis=0); print(len(df))\n",
    "df.head()"
   ]
  },
  {
   "cell_type": "code",
   "execution_count": 8,
   "metadata": {},
   "outputs": [],
   "source": [
    "df_trn = pd.read_csv(\"train.csv\")\n",
    "df_test = pd.read_csv(\"test.csv\")"
   ]
  },
  {
   "cell_type": "code",
   "execution_count": 9,
   "metadata": {},
   "outputs": [
    {
     "data": {
      "text/plain": [
       "('This film is the freshman effort of Stephanie Beaton and her new production company. While it suffers from a few problems, as every low budget production does, it is a good start for Ms. Beaton and her company.<br /><br />The story is not terribly new having been done in films like The Burning and every Friday the 13th since part 2. But, the performances are heartfelt. So many big budget movies just have the actors going through the motions, its always nice to see actors really trying to hone their craft.<br /><br />The story deals with the murder(and possible return) of a disfigured classmate. The others are sworn to secrecy, but the trauma of the event sends each person in different directions in their lifes. Ten years later, the friends are murdered one by one by a gruesome stalker known as \"The Bagman\". Who will survive? You have to watch.<br /><br />If you are Roger Ebert or any number of arrogant critics, you probably shouldn\\'t bother. But if your taste run more towards Joe Bob Briggs and you want to see a group of people honing their craft, then check out \"The Bagman\".',\n",
       " \"Have wanted to see this for a while: I never thought I'd be watching it in a damp Trafalgar Square, London with 15,000 other people and all to a new score by the Pet Shop Boys.<br /><br />Quickly, that experience specifically. A new departure from PSB, it seemed to suffer from the same problem the miniaturist Hugo Wolf had when he wrote his opera Der Corregidor: the long structure was a chain of short ones, i.e. songs. PSB produced a more fluid, integrated score although it was quite static on its own terms. Neither could they resist song: a setting of the subtitled text worked in this respect a free standing meditation on the action of the Odessa steps massacre during the action of that sequence itself was, I'd go so far to say, counterproductive. Overall it was very exciting though, which is surely what Eisenstein was trying to achieve.<br /><br />It is a very exciting film with choppier editing taking the place of acceleration of tension or action. In fact the film, though beautifully shot and passionately acted (it has a silent film melodrama, but not in the excess of the Hollywood comic style) breathes through its careful editing pacing specific shots with a sense of the rate at which the audience will take them in. And there's a huge range of perspective too; either he had a lot of cameras or the sequences on the harbor and steps took a great deal of time.<br /><br />Super film, which can be assessed irrespective of sound, as that's how the finished product would have been conceived. 8/10\")"
      ]
     },
     "execution_count": 9,
     "metadata": {},
     "output_type": "execute_result"
    }
   ],
   "source": [
    "i = 8\n",
    "df_trn.text.iloc[i], df_test.text.iloc[i]"
   ]
  },
  {
   "cell_type": "code",
   "execution_count": 10,
   "metadata": {},
   "outputs": [
    {
     "data": {
      "text/plain": [
       "(1325.31292, 1294.0274)"
      ]
     },
     "execution_count": 10,
     "metadata": {},
     "output_type": "execute_result"
    }
   ],
   "source": [
    "df_trn.text.str.len().mean(), df_test.text.str.len().mean()"
   ]
  },
  {
   "cell_type": "code",
   "execution_count": 11,
   "metadata": {
    "colab": {},
    "colab_type": "code",
    "id": "hpoOrPz-X0ou"
   },
   "outputs": [],
   "source": [
    "# For dev, use sample\n",
    "\n",
    "\n",
    "#df = df.sample(3000, random_state=2)"
   ]
  },
  {
   "cell_type": "code",
   "execution_count": 12,
   "metadata": {
    "colab": {},
    "colab_type": "code",
    "id": "bww08L1bStmw"
   },
   "outputs": [],
   "source": [
    "# Saving to csv to open again with chunks\n",
    "\n",
    "df.to_csv(LM_PATH/'df.csv', header=False, index=False)"
   ]
  },
  {
   "cell_type": "markdown",
   "metadata": {
    "colab_type": "text",
    "id": "pjMG9rxiO9-3"
   },
   "source": [
    "## Language model tokens"
   ]
  },
  {
   "cell_type": "markdown",
   "metadata": {
    "colab_type": "text",
    "id": "_QWoYYt0MWdj"
   },
   "source": [
    "In this section, we start cleaning up the messy text. There are 2 main activities we need to perform:\n",
    "\n",
    "1. Clean up extra spaces, tab chars, new ln chars and other characters and replace them with standard ones\n",
    "2. Use the awesome [spacy](http://spacy.io) library to tokenize the data. Since spacy does not provide a parallel/multicore version of the tokenizer, the fastai library adds this functionality. This parallel version uses all the cores of your CPUs and runs much faster than the serial version of the spacy tokenizer.\n",
    "\n",
    "Tokenization is the process of splitting the text into separate tokens so that each token can be assigned a unique index. This means we can convert the text into integer indexes our models can use.\n",
    "\n",
    "We use an appropriate chunksize as the tokenization process is memory intensive"
   ]
  },
  {
   "cell_type": "code",
   "execution_count": 13,
   "metadata": {
    "colab": {},
    "colab_type": "code",
    "id": "2qLPT5QtMWdk"
   },
   "outputs": [],
   "source": [
    "chunksize= 10000"
   ]
  },
  {
   "cell_type": "code",
   "execution_count": 14,
   "metadata": {
    "colab": {},
    "colab_type": "code",
    "id": "URPNdSmqMWdn"
   },
   "outputs": [],
   "source": [
    "re1 = re.compile(r'  +')\n",
    "\n",
    "def fixup(x):\n",
    "    x = x.replace('#39;', \"'\").replace('amp;', '&').replace('#146;', \"'\").replace(\n",
    "        'nbsp;', ' ').replace('#36;', '$').replace('\\\\n', \"\\n\").replace('quot;', \"'\").replace(\n",
    "        '<br />', \"\\n\").replace('\\\\\"', '\"').replace('<unk>','u_n').replace(' @.@ ','.').replace(\n",
    "        ' @-@ ','-').replace('\\\\', ' \\\\ ')\n",
    "    return re1.sub(' ', html.unescape(x))"
   ]
  },
  {
   "cell_type": "code",
   "execution_count": 15,
   "metadata": {
    "colab": {},
    "colab_type": "code",
    "id": "wrAqnwZiMWdq"
   },
   "outputs": [],
   "source": [
    "def get_texts(df, n_lbls=1):\n",
    "    #labels = df.iloc[:,range(n_lbls)].values.astype(np.int64)\n",
    "    texts = f'\\n{BOS} {FLD} 1 ' + df[n_lbls].astype(str)\n",
    "    for i in range(n_lbls+1, len(df.columns)): texts += f' {FLD} {i-n_lbls} ' + df[i].astype(str)\n",
    "    texts = list(texts.apply(fixup).values)\n",
    "\n",
    "    tok = Tokenizer().proc_all_mp(partition_by_cores(texts))\n",
    "    return tok"
   ]
  },
  {
   "cell_type": "code",
   "execution_count": 16,
   "metadata": {
    "colab": {},
    "colab_type": "code",
    "id": "fELR8np1MWdu"
   },
   "outputs": [],
   "source": [
    "def get_all(df, n_lbls):\n",
    "    tok = []\n",
    "    for i, r in enumerate(df):\n",
    "        print(i)\n",
    "        tok_ = get_texts(r, n_lbls)\n",
    "        tok += tok_;\n",
    "    return tok"
   ]
  },
  {
   "cell_type": "code",
   "execution_count": 17,
   "metadata": {
    "colab": {},
    "colab_type": "code",
    "id": "Q_SDTbi6MWdw"
   },
   "outputs": [],
   "source": [
    "# Reading back in with chunks\n",
    "\n",
    "df_chunks = pd.read_csv(LM_PATH/'df.csv', header=None, chunksize=chunksize)"
   ]
  },
  {
   "cell_type": "code",
   "execution_count": 18,
   "metadata": {
    "colab": {
     "base_uri": "https://localhost:8080/",
     "height": 50
    },
    "colab_type": "code",
    "id": "U5hg58Q7MWdy",
    "outputId": "25b120a7-b4fd-46fa-bb44-1de80ba88c9f"
   },
   "outputs": [
    {
     "name": "stdout",
     "output_type": "stream",
     "text": [
      "0\n"
     ]
    },
    {
     "name": "stderr",
     "output_type": "stream",
     "text": [
      "/home/ubuntu/anaconda3/envs/fastai/lib/python3.6/importlib/_bootstrap.py:219: RuntimeWarning: numpy.dtype size changed, may indicate binary incompatibility. Expected 96, got 88\n",
      "  return f(*args, **kwds)\n",
      "/home/ubuntu/anaconda3/envs/fastai/lib/python3.6/importlib/_bootstrap.py:219: RuntimeWarning: numpy.ufunc size changed, may indicate binary incompatibility. Expected 192, got 176\n",
      "  return f(*args, **kwds)\n"
     ]
    },
    {
     "name": "stdout",
     "output_type": "stream",
     "text": [
      "1\n",
      "2\n",
      "3\n",
      "4\n"
     ]
    },
    {
     "data": {
      "text/plain": [
       "50000"
      ]
     },
     "execution_count": 18,
     "metadata": {},
     "output_type": "execute_result"
    }
   ],
   "source": [
    "# getting list of tokenized lists\n",
    "\n",
    "tok_text = get_all(df_chunks, 1)\n",
    "len(tok_text)"
   ]
  },
  {
   "cell_type": "code",
   "execution_count": 19,
   "metadata": {
    "colab": {},
    "colab_type": "code",
    "id": "smXWTQAviMAE"
   },
   "outputs": [],
   "source": [
    "# adding back to df\n",
    "df[\"tokenized_text\"] = tok_text"
   ]
  },
  {
   "cell_type": "markdown",
   "metadata": {},
   "source": [
    "create symlink to spacy en model\n",
    "\n",
    "mklink C:\\Users\\rudyg\\AppData\\Local\\conda\\conda\\envs\\fastai\\lib\\site-packages\\spacy\\data\\en C:\\Users\\rudyg\\AppData\\Local\\conda\\conda\\envs\\fastai\\lib\\site-packages\\en_core_web_sm"
   ]
  },
  {
   "cell_type": "code",
   "execution_count": 20,
   "metadata": {
    "colab": {
     "base_uri": "https://localhost:8080/",
     "height": 353
    },
    "colab_type": "code",
    "id": "qD4exjCsMWd1",
    "outputId": "c1781f88-9810-4e5e-b715-4c6116025f61"
   },
   "outputs": [
    {
     "data": {
      "text/plain": [
       "['\\n',\n",
       " 'xbos',\n",
       " 'xfld',\n",
       " '1',\n",
       " '2592',\n",
       " 'xfld',\n",
       " '1',\n",
       " '0',\n",
       " 'xfld',\n",
       " '2',\n",
       " 'un',\n",
       " '-',\n",
       " 'bleeping',\n",
       " '-',\n",
       " 'believable',\n",
       " '!',\n",
       " 'meg',\n",
       " 'ryan',\n",
       " 'does',\n",
       " \"n't\"]"
      ]
     },
     "execution_count": 20,
     "metadata": {},
     "output_type": "execute_result"
    }
   ],
   "source": [
    "df.tokenized_text.iloc[0][:20]"
   ]
  },
  {
   "cell_type": "code",
   "execution_count": 21,
   "metadata": {
    "colab": {
     "base_uri": "https://localhost:8080/",
     "height": 437
    },
    "colab_type": "code",
    "id": "n5wVLf_kMWeA",
    "outputId": "94eae392-b273-4dda-cc4b-e8718e790be1",
    "scrolled": true
   },
   "outputs": [
    {
     "data": {
      "text/plain": [
       "[('the', 666238),\n",
       " ('.', 549276),\n",
       " (',', 542898),\n",
       " ('and', 323667),\n",
       " ('a', 321663),\n",
       " ('of', 289313),\n",
       " ('to', 267950),\n",
       " ('is', 217126),\n",
       " ('it', 189546),\n",
       " ('in', 186509),\n",
       " ('i', 173646),\n",
       " ('this', 150480),\n",
       " ('xfld', 150000),\n",
       " ('that', 144270),\n",
       " ('\"', 130201),\n",
       " (\"'s\", 121976),\n",
       " ('1', 116114),\n",
       " ('-', 103672),\n",
       " ('was', 100025),\n",
       " ('\\n\\n', 98729),\n",
       " ('as', 91576),\n",
       " ('movie', 87553),\n",
       " ('for', 87334),\n",
       " ('with', 87262),\n",
       " ('but', 83204)]"
      ]
     },
     "execution_count": 21,
     "metadata": {},
     "output_type": "execute_result"
    }
   ],
   "source": [
    "freq = Counter(p for o in df.tokenized_text for p in o)\n",
    "freq.most_common(25)"
   ]
  },
  {
   "cell_type": "markdown",
   "metadata": {
    "colab_type": "text",
    "id": "Cx0ZYjSlMWeE"
   },
   "source": [
    "The *vocab* is the **unique set of all tokens** in our dataset. The vocab provides us a way for us to simply replace each word in our datasets with a unique integer called an index.\n",
    "\n",
    "In a large corpus of data one might find some rare words which are only used a few times in the whole dataset. We discard such rare words and avoid trying to learn meaningful patterns out of them.\n",
    "\n",
    "Here we have set a minimum frequency of occurence to 2 times. It has been observed by NLP practicioners that a maximum vocab of 60k usually yields good results for classification tasks. So we set maz_vocab to 60000."
   ]
  },
  {
   "cell_type": "code",
   "execution_count": 22,
   "metadata": {
    "colab": {},
    "colab_type": "code",
    "id": "Du0W05vYMWeF"
   },
   "outputs": [],
   "source": [
    "max_vocab = 60000\n",
    "min_freq = 2"
   ]
  },
  {
   "cell_type": "code",
   "execution_count": 23,
   "metadata": {
    "colab": {},
    "colab_type": "code",
    "id": "4BtZ471qMWeJ"
   },
   "outputs": [],
   "source": [
    "itos = [o for o,c in freq.most_common(max_vocab) if c>min_freq]\n",
    "itos.insert(0, '_pad_')\n",
    "itos.insert(0, '_unk_')"
   ]
  },
  {
   "cell_type": "markdown",
   "metadata": {
    "colab_type": "text",
    "id": "bPawBklfMWeK"
   },
   "source": [
    "We create a reverse mapping called stoi which is useful to lookup the index of a given token. stoi also has the same number of elements as itos. We use a high performance container called [collections.defaultdict](https://docs.python.org/2/library/collections.html#collections.defaultdict) to store our stoi mapping."
   ]
  },
  {
   "cell_type": "code",
   "execution_count": 24,
   "metadata": {
    "colab": {
     "base_uri": "https://localhost:8080/",
     "height": 34
    },
    "colab_type": "code",
    "id": "K1ZG2GZFMWeL",
    "outputId": "50812ddd-1ff9-4dfa-9105-4c06f114536b"
   },
   "outputs": [
    {
     "data": {
      "text/plain": [
       "52315"
      ]
     },
     "execution_count": 24,
     "metadata": {},
     "output_type": "execute_result"
    }
   ],
   "source": [
    "stoi = collections.defaultdict(lambda:0, {v:k for k,v in enumerate(itos)})\n",
    "len(stoi)"
   ]
  },
  {
   "cell_type": "code",
   "execution_count": 25,
   "metadata": {
    "colab": {
     "base_uri": "https://localhost:8080/",
     "height": 34
    },
    "colab_type": "code",
    "id": "-W8I_gjIUtOp",
    "outputId": "f376b359-162f-4b45-fe82-f19811eb9ec0"
   },
   "outputs": [
    {
     "data": {
      "text/plain": [
       "(2, 1182)"
      ]
     },
     "execution_count": 25,
     "metadata": {},
     "output_type": "execute_result"
    }
   ],
   "source": [
    "stoi[\"the\"], stoi[\"awesome\"]"
   ]
  },
  {
   "cell_type": "code",
   "execution_count": 26,
   "metadata": {
    "colab": {},
    "colab_type": "code",
    "id": "HNE4IvY2MWeN"
   },
   "outputs": [],
   "source": [
    "numerized_tokens = [[stoi[o] for o in p] for p in df.tokenized_text]"
   ]
  },
  {
   "cell_type": "code",
   "execution_count": 27,
   "metadata": {
    "colab": {
     "base_uri": "https://localhost:8080/",
     "height": 34
    },
    "colab_type": "code",
    "id": "mXWgHHuLMWeQ",
    "outputId": "d38398b5-6923-4100-9a5a-c89d342ec09b"
   },
   "outputs": [
    {
     "data": {
      "text/plain": [
       "(50000, 97)"
      ]
     },
     "execution_count": 27,
     "metadata": {},
     "output_type": "execute_result"
    }
   ],
   "source": [
    "len(numerized_tokens), len(numerized_tokens[0])"
   ]
  },
  {
   "cell_type": "code",
   "execution_count": 28,
   "metadata": {
    "colab": {},
    "colab_type": "code",
    "id": "3qQKs2EvMWeS"
   },
   "outputs": [],
   "source": [
    "df[\"numerized_tokens\"] = numerized_tokens"
   ]
  },
  {
   "cell_type": "code",
   "execution_count": 29,
   "metadata": {
    "colab": {
     "base_uri": "https://localhost:8080/",
     "height": 353
    },
    "colab_type": "code",
    "id": "Me-x0LiCVtEG",
    "outputId": "a689dacf-bb0b-49e6-cdac-bc81fdc81b99",
    "scrolled": true
   },
   "outputs": [
    {
     "data": {
      "text/plain": [
       "[42,\n",
       " 43,\n",
       " 14,\n",
       " 18,\n",
       " 0,\n",
       " 14,\n",
       " 18,\n",
       " 136,\n",
       " 14,\n",
       " 39,\n",
       " 2774,\n",
       " 19,\n",
       " 36953,\n",
       " 19,\n",
       " 840,\n",
       " 48,\n",
       " 4952,\n",
       " 1667,\n",
       " 92,\n",
       " 31]"
      ]
     },
     "execution_count": 29,
     "metadata": {},
     "output_type": "execute_result"
    }
   ],
   "source": [
    "df[\"numerized_tokens\"].iloc[0][:20]"
   ]
  },
  {
   "cell_type": "code",
   "execution_count": 30,
   "metadata": {
    "colab": {
     "base_uri": "https://localhost:8080/",
     "height": 34
    },
    "colab_type": "code",
    "id": "8q33ej8WMWeU",
    "outputId": "9af2c086-a780-48c6-b795-6d6cdb4c0dca"
   },
   "outputs": [
    {
     "data": {
      "text/plain": [
       "52315"
      ]
     },
     "execution_count": 30,
     "metadata": {},
     "output_type": "execute_result"
    }
   ],
   "source": [
    "vs=len(itos); vs"
   ]
  },
  {
   "cell_type": "code",
   "execution_count": 34,
   "metadata": {},
   "outputs": [],
   "source": [
    "df.to_csv(\"prepped_data.csv\")"
   ]
  },
  {
   "cell_type": "code",
   "execution_count": 5,
   "metadata": {},
   "outputs": [
    {
     "name": "stdout",
     "output_type": "stream",
     "text": [
      "50000\n"
     ]
    }
   ],
   "source": [
    "# Grabbing prepped data\n",
    "\n",
    "df = pd.read_csv(\"prepped_data.csv\"); print(len(df))\n",
    "vs = 52315 # manually set this to match above\n",
    "\n",
    "import ast\n",
    "df[\"numerized_tokens\"] = df[\"numerized_tokens\"].apply(lambda x: ast.literal_eval(x))"
   ]
  },
  {
   "cell_type": "code",
   "execution_count": 31,
   "metadata": {
    "scrolled": true
   },
   "outputs": [
    {
     "data": {
      "text/html": [
       "<div>\n",
       "<style scoped>\n",
       "    .dataframe tbody tr th:only-of-type {\n",
       "        vertical-align: middle;\n",
       "    }\n",
       "\n",
       "    .dataframe tbody tr th {\n",
       "        vertical-align: top;\n",
       "    }\n",
       "\n",
       "    .dataframe thead th {\n",
       "        text-align: right;\n",
       "    }\n",
       "</style>\n",
       "<table border=\"1\" class=\"dataframe\">\n",
       "  <thead>\n",
       "    <tr style=\"text-align: right;\">\n",
       "      <th></th>\n",
       "      <th>dataset</th>\n",
       "      <th>id</th>\n",
       "      <th>labels</th>\n",
       "      <th>text</th>\n",
       "      <th>tokenized_text</th>\n",
       "      <th>numerized_tokens</th>\n",
       "    </tr>\n",
       "  </thead>\n",
       "  <tbody>\n",
       "    <tr>\n",
       "      <th>0</th>\n",
       "      <td>train</td>\n",
       "      <td>2592</td>\n",
       "      <td>0</td>\n",
       "      <td>Un-bleeping-believable! Meg Ryan doesn't even ...</td>\n",
       "      <td>[\\n, xbos, xfld, 1, 2592, xfld, 1, 0, xfld, 2,...</td>\n",
       "      <td>[42, 43, 14, 18, 0, 14, 18, 136, 14, 39, 2774,...</td>\n",
       "    </tr>\n",
       "    <tr>\n",
       "      <th>1</th>\n",
       "      <td>train</td>\n",
       "      <td>18359</td>\n",
       "      <td>1</td>\n",
       "      <td>This is a extremely well-made film. The acting...</td>\n",
       "      <td>[\\n, xbos, xfld, 1, 18359, xfld, 1, 1, xfld, 2...</td>\n",
       "      <td>[42, 43, 14, 18, 0, 14, 18, 18, 14, 39, 13, 9,...</td>\n",
       "    </tr>\n",
       "    <tr>\n",
       "      <th>2</th>\n",
       "      <td>train</td>\n",
       "      <td>1040</td>\n",
       "      <td>0</td>\n",
       "      <td>Every once in a long while a movie will come a...</td>\n",
       "      <td>[\\n, xbos, xfld, 1, 1040, xfld, 1, 0, xfld, 2,...</td>\n",
       "      <td>[42, 43, 14, 18, 0, 14, 18, 136, 14, 39, 192, ...</td>\n",
       "    </tr>\n",
       "    <tr>\n",
       "      <th>3</th>\n",
       "      <td>train</td>\n",
       "      <td>17262</td>\n",
       "      <td>1</td>\n",
       "      <td>Name just says it all. I watched this movie wi...</td>\n",
       "      <td>[\\n, xbos, xfld, 1, 17262, xfld, 1, 1, xfld, 2...</td>\n",
       "      <td>[42, 43, 14, 18, 0, 14, 18, 18, 14, 39, 411, 5...</td>\n",
       "    </tr>\n",
       "    <tr>\n",
       "      <th>4</th>\n",
       "      <td>train</td>\n",
       "      <td>9908</td>\n",
       "      <td>0</td>\n",
       "      <td>This movie succeeds at being one of the most u...</td>\n",
       "      <td>[\\n, xbos, xfld, 1, 9908, xfld, 1, 0, xfld, 2,...</td>\n",
       "      <td>[42, 43, 14, 18, 0, 14, 18, 136, 14, 39, 13, 2...</td>\n",
       "    </tr>\n",
       "  </tbody>\n",
       "</table>\n",
       "</div>"
      ],
      "text/plain": [
       "  dataset     id  labels                                               text  \\\n",
       "0   train   2592       0  Un-bleeping-believable! Meg Ryan doesn't even ...   \n",
       "1   train  18359       1  This is a extremely well-made film. The acting...   \n",
       "2   train   1040       0  Every once in a long while a movie will come a...   \n",
       "3   train  17262       1  Name just says it all. I watched this movie wi...   \n",
       "4   train   9908       0  This movie succeeds at being one of the most u...   \n",
       "\n",
       "                                      tokenized_text  \\\n",
       "0  [\\n, xbos, xfld, 1, 2592, xfld, 1, 0, xfld, 2,...   \n",
       "1  [\\n, xbos, xfld, 1, 18359, xfld, 1, 1, xfld, 2...   \n",
       "2  [\\n, xbos, xfld, 1, 1040, xfld, 1, 0, xfld, 2,...   \n",
       "3  [\\n, xbos, xfld, 1, 17262, xfld, 1, 1, xfld, 2...   \n",
       "4  [\\n, xbos, xfld, 1, 9908, xfld, 1, 0, xfld, 2,...   \n",
       "\n",
       "                                    numerized_tokens  \n",
       "0  [42, 43, 14, 18, 0, 14, 18, 136, 14, 39, 2774,...  \n",
       "1  [42, 43, 14, 18, 0, 14, 18, 18, 14, 39, 13, 9,...  \n",
       "2  [42, 43, 14, 18, 0, 14, 18, 136, 14, 39, 192, ...  \n",
       "3  [42, 43, 14, 18, 0, 14, 18, 18, 14, 39, 411, 5...  \n",
       "4  [42, 43, 14, 18, 0, 14, 18, 136, 14, 39, 13, 2...  "
      ]
     },
     "execution_count": 31,
     "metadata": {},
     "output_type": "execute_result"
    }
   ],
   "source": [
    "df.head()"
   ]
  },
  {
   "cell_type": "markdown",
   "metadata": {
    "colab_type": "text",
    "id": "b_g2lka0MWeW"
   },
   "source": [
    "## wikitext103 conversion"
   ]
  },
  {
   "cell_type": "markdown",
   "metadata": {
    "colab_type": "text",
    "id": "YfwfB4DRMWeW"
   },
   "source": [
    "We are now going to build an english language model for the IMDB corpus. We could start from scratch and try to learn the structure of the english language. But we use a technique called transfer learning to make this process easier. In transfer learning (a fairly recent idea for NLP) a pre-trained LM that has been trained on a large generic corpus(_like wikipedia articles_) can be used to transfer it's knowledge to a target LM and the weights can be fine-tuned.\n",
    "\n",
    "Our source LM is the wikitext103 LM created by Stephen Merity @ Salesforce research. [Link to dataset](https://www.salesforce.com/products/einstein/ai-research/the-wikitext-dependency-language-modeling-dataset/)\n",
    "The language model for wikitext103 (AWD LSTM) has been pre-trained and the weights can be downloaded here: [Link](http://files.fast.ai/models/wt103/). Our target LM is the IMDB LM. "
   ]
  },
  {
   "cell_type": "code",
   "execution_count": 36,
   "metadata": {
    "colab": {
     "base_uri": "https://localhost:8080/",
     "height": 2537
    },
    "colab_type": "code",
    "id": "IxGyZ9gfMWeW",
    "outputId": "3c0b62cc-3694-4b32-be6d-161ed9325f4d",
    "scrolled": true
   },
   "outputs": [
    {
     "name": "stdout",
     "output_type": "stream",
     "text": [
      "--2018-08-23 20:33:47--  http://files.fast.ai/models/wt103/\n",
      "Resolving files.fast.ai (files.fast.ai)... 67.205.15.147\n",
      "Connecting to files.fast.ai (files.fast.ai)|67.205.15.147|:80... connected.\n",
      "HTTP request sent, awaiting response... 200 OK\n",
      "Length: 857 [text/html]\n",
      "Saving to: ‘imdb_data/aclImdb/models/wt103/index.html’\n",
      "\n",
      "models/wt103/index. 100%[===================>]     857  --.-KB/s    in 0s      \n",
      "\n",
      "2018-08-23 20:33:47 (150 MB/s) - ‘imdb_data/aclImdb/models/wt103/index.html’ saved [857/857]\n",
      "\n",
      "Loading robots.txt; please ignore errors.\n",
      "--2018-08-23 20:33:47--  http://files.fast.ai/robots.txt\n",
      "Reusing existing connection to files.fast.ai:80.\n",
      "HTTP request sent, awaiting response... 404 Not Found\n",
      "2018-08-23 20:33:47 ERROR 404: Not Found.\n",
      "\n",
      "--2018-08-23 20:33:47--  http://files.fast.ai/models/wt103/?C=N;O=D\n",
      "Reusing existing connection to files.fast.ai:80.\n",
      "HTTP request sent, awaiting response... 200 OK\n",
      "Length: 857 [text/html]\n",
      "Saving to: ‘imdb_data/aclImdb/models/wt103/index.html?C=N;O=D’\n",
      "\n",
      "models/wt103/index. 100%[===================>]     857  --.-KB/s    in 0s      \n",
      "\n",
      "2018-08-23 20:33:47 (165 MB/s) - ‘imdb_data/aclImdb/models/wt103/index.html?C=N;O=D’ saved [857/857]\n",
      "\n",
      "--2018-08-23 20:33:47--  http://files.fast.ai/models/wt103/?C=M;O=A\n",
      "Reusing existing connection to files.fast.ai:80.\n",
      "HTTP request sent, awaiting response... 200 OK\n",
      "Length: 857 [text/html]\n",
      "Saving to: ‘imdb_data/aclImdb/models/wt103/index.html?C=M;O=A’\n",
      "\n",
      "models/wt103/index. 100%[===================>]     857  --.-KB/s    in 0s      \n",
      "\n",
      "2018-08-23 20:33:47 (161 MB/s) - ‘imdb_data/aclImdb/models/wt103/index.html?C=M;O=A’ saved [857/857]\n",
      "\n",
      "--2018-08-23 20:33:47--  http://files.fast.ai/models/wt103/?C=S;O=A\n",
      "Reusing existing connection to files.fast.ai:80.\n",
      "HTTP request sent, awaiting response... 200 OK\n",
      "Length: 857 [text/html]\n",
      "Saving to: ‘imdb_data/aclImdb/models/wt103/index.html?C=S;O=A’\n",
      "\n",
      "models/wt103/index. 100%[===================>]     857  --.-KB/s    in 0s      \n",
      "\n",
      "2018-08-23 20:33:47 (169 MB/s) - ‘imdb_data/aclImdb/models/wt103/index.html?C=S;O=A’ saved [857/857]\n",
      "\n",
      "--2018-08-23 20:33:47--  http://files.fast.ai/models/wt103/?C=D;O=A\n",
      "Reusing existing connection to files.fast.ai:80.\n",
      "HTTP request sent, awaiting response... 200 OK\n",
      "Length: 857 [text/html]\n",
      "Saving to: ‘imdb_data/aclImdb/models/wt103/index.html?C=D;O=A’\n",
      "\n",
      "models/wt103/index. 100%[===================>]     857  --.-KB/s    in 0s      \n",
      "\n",
      "2018-08-23 20:33:47 (173 MB/s) - ‘imdb_data/aclImdb/models/wt103/index.html?C=D;O=A’ saved [857/857]\n",
      "\n",
      "--2018-08-23 20:33:47--  http://files.fast.ai/models/wt103/bwd_wt103.h5\n",
      "Reusing existing connection to files.fast.ai:80.\n",
      "HTTP request sent, awaiting response... 200 OK\n",
      "Length: 462387687 (441M) [text/plain]\n",
      "Saving to: ‘imdb_data/aclImdb/models/wt103/bwd_wt103.h5’\n",
      "\n",
      "models/wt103/bwd_wt 100%[===================>] 440.97M   113MB/s    in 3.9s    \n",
      "\n",
      "2018-08-23 20:33:51 (112 MB/s) - ‘imdb_data/aclImdb/models/wt103/bwd_wt103.h5’ saved [462387687/462387687]\n",
      "\n",
      "--2018-08-23 20:33:51--  http://files.fast.ai/models/wt103/bwd_wt103_enc.h5\n",
      "Reusing existing connection to files.fast.ai:80.\n",
      "HTTP request sent, awaiting response... 200 OK\n",
      "Length: 462387634 (441M) [text/plain]\n",
      "Saving to: ‘imdb_data/aclImdb/models/wt103/bwd_wt103_enc.h5’\n",
      "\n",
      "models/wt103/bwd_wt 100%[===================>] 440.97M   113MB/s    in 3.9s    \n",
      "\n",
      "2018-08-23 20:33:55 (113 MB/s) - ‘imdb_data/aclImdb/models/wt103/bwd_wt103_enc.h5’ saved [462387634/462387634]\n",
      "\n",
      "--2018-08-23 20:33:55--  http://files.fast.ai/models/wt103/fwd_wt103.h5\n",
      "Reusing existing connection to files.fast.ai:80.\n",
      "HTTP request sent, awaiting response... 200 OK\n",
      "Length: 462387687 (441M) [text/plain]\n",
      "Saving to: ‘imdb_data/aclImdb/models/wt103/fwd_wt103.h5’\n",
      "\n",
      "models/wt103/fwd_wt 100%[===================>] 440.97M   112MB/s    in 3.9s    \n",
      "\n",
      "2018-08-23 20:33:59 (112 MB/s) - ‘imdb_data/aclImdb/models/wt103/fwd_wt103.h5’ saved [462387687/462387687]\n",
      "\n",
      "--2018-08-23 20:33:59--  http://files.fast.ai/models/wt103/fwd_wt103_enc.h5\n",
      "Reusing existing connection to files.fast.ai:80.\n",
      "HTTP request sent, awaiting response... 200 OK\n",
      "Length: 462387634 (441M) [text/plain]\n",
      "Saving to: ‘imdb_data/aclImdb/models/wt103/fwd_wt103_enc.h5’\n",
      "\n",
      "models/wt103/fwd_wt 100%[===================>] 440.97M   113MB/s    in 3.9s    \n",
      "\n",
      "2018-08-23 20:34:03 (113 MB/s) - ‘imdb_data/aclImdb/models/wt103/fwd_wt103_enc.h5’ saved [462387634/462387634]\n",
      "\n",
      "--2018-08-23 20:34:03--  http://files.fast.ai/models/wt103/itos_wt103.pkl\n",
      "Reusing existing connection to files.fast.ai:80.\n",
      "HTTP request sent, awaiting response... 200 OK\n",
      "Length: 4161252 (4.0M) [text/plain]\n",
      "Saving to: ‘imdb_data/aclImdb/models/wt103/itos_wt103.pkl’\n",
      "\n",
      "models/wt103/itos_w 100%[===================>]   3.97M  --.-KB/s    in 0.04s   \n",
      "\n",
      "2018-08-23 20:34:03 (113 MB/s) - ‘imdb_data/aclImdb/models/wt103/itos_wt103.pkl’ saved [4161252/4161252]\n",
      "\n",
      "--2018-08-23 20:34:03--  http://files.fast.ai/models/wt103/?C=N;O=A\n",
      "Reusing existing connection to files.fast.ai:80.\n",
      "HTTP request sent, awaiting response... 200 OK\n",
      "Length: 857 [text/html]\n",
      "Saving to: ‘imdb_data/aclImdb/models/wt103/index.html?C=N;O=A’\n",
      "\n",
      "models/wt103/index. 100%[===================>]     857  --.-KB/s    in 0s      \n",
      "\n",
      "2018-08-23 20:34:03 (160 MB/s) - ‘imdb_data/aclImdb/models/wt103/index.html?C=N;O=A’ saved [857/857]\n",
      "\n",
      "--2018-08-23 20:34:03--  http://files.fast.ai/models/wt103/?C=M;O=D\n",
      "Reusing existing connection to files.fast.ai:80.\n",
      "HTTP request sent, awaiting response... 200 OK\n",
      "Length: 857 [text/html]\n",
      "Saving to: ‘imdb_data/aclImdb/models/wt103/index.html?C=M;O=D’\n",
      "\n",
      "models/wt103/index. 100%[===================>]     857  --.-KB/s    in 0s      \n",
      "\n",
      "2018-08-23 20:34:03 (170 MB/s) - ‘imdb_data/aclImdb/models/wt103/index.html?C=M;O=D’ saved [857/857]\n",
      "\n",
      "--2018-08-23 20:34:03--  http://files.fast.ai/models/wt103/?C=S;O=D\n",
      "Reusing existing connection to files.fast.ai:80.\n",
      "HTTP request sent, awaiting response... 200 OK\n",
      "Length: 857 [text/html]\n",
      "Saving to: ‘imdb_data/aclImdb/models/wt103/index.html?C=S;O=D’\n",
      "\n",
      "models/wt103/index. 100%[===================>]     857  --.-KB/s    in 0s      \n",
      "\n",
      "2018-08-23 20:34:03 (168 MB/s) - ‘imdb_data/aclImdb/models/wt103/index.html?C=S;O=D’ saved [857/857]\n",
      "\n",
      "--2018-08-23 20:34:03--  http://files.fast.ai/models/wt103/?C=D;O=D\n",
      "Reusing existing connection to files.fast.ai:80.\n",
      "HTTP request sent, awaiting response... 200 OK\n",
      "Length: 857 [text/html]\n",
      "Saving to: ‘imdb_data/aclImdb/models/wt103/index.html?C=D;O=D’\n",
      "\n",
      "models/wt103/index. 100%[===================>]     857  --.-KB/s    in 0s      \n",
      "\n",
      "2018-08-23 20:34:03 (177 MB/s) - ‘imdb_data/aclImdb/models/wt103/index.html?C=D;O=D’ saved [857/857]\n",
      "\n",
      "FINISHED --2018-08-23 20:34:03--\n",
      "Total wall clock time: 16s\n",
      "Downloaded: 14 files, 1.7G in 16s (113 MB/s)\n"
     ]
    }
   ],
   "source": [
    "#! wget -nH -r -np -P {PATH} http://files.fast.ai/models/wt103/"
   ]
  },
  {
   "cell_type": "markdown",
   "metadata": {
    "colab_type": "text",
    "id": "8G67GTITMWed"
   },
   "source": [
    "The pre-trained LM weights have an embedding size of 400, 1150 hidden units and just 3 layers. We need to match these values  with the target IMDB LM so that the weights can be loaded up."
   ]
  },
  {
   "cell_type": "code",
   "execution_count": 20,
   "metadata": {
    "colab": {},
    "colab_type": "code",
    "id": "AHuq7UvPMWed"
   },
   "outputs": [],
   "source": [
    "em_sz,nh,nl = 400,1150,3"
   ]
  },
  {
   "cell_type": "code",
   "execution_count": 38,
   "metadata": {
    "colab": {},
    "colab_type": "code",
    "id": "Yv07tk5lMWef"
   },
   "outputs": [],
   "source": [
    "# Grabbing the files from the download \n",
    "\n",
    "PRE_PATH = PATH/'models'/'wt103'\n",
    "PRE_LM_PATH = PRE_PATH/'fwd_wt103.h5'"
   ]
  },
  {
   "cell_type": "code",
   "execution_count": 39,
   "metadata": {
    "colab": {},
    "colab_type": "code",
    "id": "10gs2T02MWeh"
   },
   "outputs": [],
   "source": [
    "wgts = torch.load(PRE_LM_PATH, map_location=lambda storage, loc: storage)"
   ]
  },
  {
   "cell_type": "markdown",
   "metadata": {
    "colab_type": "text",
    "id": "vj8Qm3TVMWen"
   },
   "source": [
    "We calculate the mean of the layer0 encoder weights. This can be used to assign weights to unknown tokens when we transfer to target IMDB LM."
   ]
  },
  {
   "cell_type": "code",
   "execution_count": 40,
   "metadata": {
    "colab": {},
    "colab_type": "code",
    "id": "O9GNMYh2MWeo"
   },
   "outputs": [],
   "source": [
    "enc_wgts = to_np(wgts['0.encoder.weight'])\n",
    "row_m = enc_wgts.mean(0)"
   ]
  },
  {
   "cell_type": "code",
   "execution_count": 41,
   "metadata": {
    "colab": {},
    "colab_type": "code",
    "id": "hkZQvETAMWer"
   },
   "outputs": [],
   "source": [
    "itos2 = pickle.load((PRE_PATH/'itos_wt103.pkl').open('rb'))\n",
    "stoi2 = collections.defaultdict(lambda:-1, {v:k for k,v in enumerate(itos2)})"
   ]
  },
  {
   "cell_type": "markdown",
   "metadata": {
    "colab_type": "text",
    "id": "iIj_QS4CMWew"
   },
   "source": [
    "Before we try to transfer the knowledge from wikitext to the IMDB LM, we match up the vocab words and their indexes. \n",
    "We use the defaultdict container once again, to assign mean weights to unknown IMDB tokens that do not exist in wikitext103."
   ]
  },
  {
   "cell_type": "code",
   "execution_count": 42,
   "metadata": {
    "colab": {},
    "colab_type": "code",
    "id": "y547u_gZMWez"
   },
   "outputs": [],
   "source": [
    "new_w = np.zeros((vs, em_sz), dtype=np.float32)\n",
    "for i,w in enumerate(itos):\n",
    "    r = stoi2[w]\n",
    "    new_w[i] = enc_wgts[r] if r>=0 else row_m"
   ]
  },
  {
   "cell_type": "markdown",
   "metadata": {
    "colab_type": "text",
    "id": "RopA5fUjMWe2"
   },
   "source": [
    "We now overwrite the weights into the wgts odict.\n",
    "The decoder module, which we will explore in detail is also loaded with the same weights due to an idea called weight tying."
   ]
  },
  {
   "cell_type": "code",
   "execution_count": 43,
   "metadata": {
    "colab": {},
    "colab_type": "code",
    "id": "QaBajLUPMWe2"
   },
   "outputs": [],
   "source": [
    "wgts['0.encoder.weight'] = T(new_w)\n",
    "wgts['0.encoder_with_dropout.embed.weight'] = T(np.copy(new_w))\n",
    "wgts['1.decoder.weight'] = T(np.copy(new_w))"
   ]
  },
  {
   "cell_type": "markdown",
   "metadata": {
    "colab_type": "text",
    "id": "ckG6HjllMWe7"
   },
   "source": [
    "Now that we have the weights prepared, we are ready to create and start training our new IMDB language pytorch model!"
   ]
  },
  {
   "cell_type": "markdown",
   "metadata": {
    "colab_type": "text",
    "id": "mNG4uTaPMWe8"
   },
   "source": [
    "## Language model"
   ]
  },
  {
   "cell_type": "markdown",
   "metadata": {
    "colab_type": "text",
    "id": "i2-3FkVFMWe9"
   },
   "source": [
    "It is fairly straightforward to create a new language model using the fastai library. Like every other lesson, our model will have a backbone and a custom head. The backbone in our case is the IMDB LM pre-trained with wikitext and the custom head is a linear classifier. In this section we will focus on the backbone LM and the next section will talk about the classifier custom head.\n",
    "\n",
    "bptt (*also known traditionally in NLP LM as ngrams*) in fastai LMs is approximated to a std. deviation around 70, by perturbing the sequence length on a per-batch basis. This is akin to shuffling our data in computer vision, only that in NLP we cannot shuffle inputs and we have to maintain statefulness. \n",
    "\n",
    "Since we are predicting words using ngrams, we want our next batch to line up with the end-points of the previous mini-batch's items. batch-size is constant and but the fastai library expands and contracts bptt each mini-batch using a clever stochastic implementation of a batch. (original credits attributed to [Smerity](https://twitter.com/jeremyphoward/status/980227258395770882))"
   ]
  },
  {
   "cell_type": "code",
   "execution_count": 6,
   "metadata": {
    "colab": {},
    "colab_type": "code",
    "id": "e7IecerFMWe-"
   },
   "outputs": [],
   "source": [
    "wd=1e-7\n",
    "bptt= 70\n",
    "bs= 52\n",
    "opt_fn = partial(optim.Adam, betas=(0.8, 0.99))"
   ]
  },
  {
   "cell_type": "markdown",
   "metadata": {
    "colab_type": "text",
    "id": "otVoW9EyMWfA"
   },
   "source": [
    "The goal of the LM is to learn to predict a word/token given a preceeding set of words(tokens). We take all the movie reviews in both the 90k training set and 10k validation set and concatenate them to form long strings of tokens. In fastai, we use the `LanguageModelLoader` to create a data loader which makes it easy to create and use bptt sized mini batches. The  `LanguageModelLoader` takes a concatenated string of tokens and returns a loader.\n",
    "\n",
    "We have a special modeldata object class for LMs called `LanguageModelData` to which we can pass the training and validation loaders and get in return the model itself."
   ]
  },
  {
   "cell_type": "code",
   "execution_count": 45,
   "metadata": {
    "colab": {
     "base_uri": "https://localhost:8080/",
     "height": 34
    },
    "colab_type": "code",
    "id": "MVUrNXhhMWdY",
    "outputId": "47a1eeda-b3b7-4860-b901-3a5e5cb6b91c"
   },
   "outputs": [
    {
     "data": {
      "text/plain": [
       "(45000, 5000)"
      ]
     },
     "execution_count": 45,
     "metadata": {},
     "output_type": "execute_result"
    }
   ],
   "source": [
    "# getting train and test\n",
    "\n",
    "trn_lm, val_lm = sklearn.model_selection.train_test_split(np.array(df[\"numerized_tokens\"]), test_size=0.1)\n",
    "len(trn_lm), len(val_lm)"
   ]
  },
  {
   "cell_type": "code",
   "execution_count": null,
   "metadata": {
    "colab": {},
    "colab_type": "code",
    "id": "6AoH_pAUoS2n"
   },
   "outputs": [],
   "source": []
  },
  {
   "cell_type": "code",
   "execution_count": 46,
   "metadata": {
    "colab": {
     "base_uri": "https://localhost:8080/",
     "height": 222
    },
    "colab_type": "code",
    "id": "8i4OzsrlWuH0",
    "outputId": "8e95153f-c13f-42dd-c1d2-71ec3b5d381d",
    "scrolled": true
   },
   "outputs": [
    {
     "data": {
      "text/plain": [
       "array([list([42, 43, 14, 18, 0, 14, 18, 68, 14, 39, 13, 9, 6, 228, 126, 895, 23, 539, 47, 2023, 13525, 4, 1219, 103, 1382, 4, 3937, 9486, 5, 1633, 621, 3, 21, 10, 9, 60, 6, 1648, 4307, 850, 0, 1382, 19, 568, 22, 61, 3999, 61, 50, 1530, 360, 8, 1373, 5612, 25, 2, 386, 46, 35, 929, 11, 3, 36, 9, 3749, 2879, 6, 21709, 4, 4064, 2322, 50, 9, 2308, 25, 6, 71, 974, 4, 828, 5, 995, 271, 459, 16968, 3, 45, 2, 189, 76, 4, 3999, 63, 451, 929, 11, 6, 8827, 15948, 4, 5596, 4, 19, 3937, 9486, 19, 50, 63, 100, 5096, 8, 908, 60, 16968, 3, 69, 2, 141, 960, 7, 5596, 63, 6, 134, 27663, 25, 6, 147, 15, 5596, 1265, 15, 9, 6, 8124, 7, 3999, 4, 72, 1670, 6, 1178, 471, 3999, 5, 2, 12575, 847, 2, 128, 4455, 8, 6, 0, 883, 13, 27, 9, 34, 40, 15, 360, 158, 84, 22, 10, 63, 6, 190, 7, 916, 19, 6534, 5, 221, 1294, 5, 4139, 916, 19, 7332, 3, 54, 35, 105, 1441, 1612, 15, 28, 73, 38, 8, 41, 1990, 34, 8, 1502, 3, 3999, 5, 5596, 35, 221, 71, 12618, 211, 2, 1828, 398, 4, 3999, 153, 1190, 386, 487, 37, 3173, 52, 115, 11, 2, 527, 5, 9, 4255, 360, 8, 116, 115, 685, 3, 26, 7, 288, 5596, 4, 9, 6, 7843, 17449, 50, 184, 4610, 7843, 798, 363, 2, 433, 7, 16, 360, 205, 8, 38, 398, 25, 256, 15, 2302, 3, 16, 72, 607, 563, 19, 2308, 5, 691, 72, 310, 53, 6, 9484, 5, 691, 54, 35, 75, 61, 166, 360, 61, 59, 54, 3, 64, 3331, 88, 111, 7, 44, 20, 2, 61, 99, 61, 234, 50, 480, 6, 1557, 26568, 25, 5596, 17, 141, 447, 50, 9, 2, 382, 491, 7, 6, 45175, 61, 1337, 61, 5, 78, 121, 131, 675, 199, 3150, 47, 3999, 4, 5008, 22, 2301, 8, 2, 11370, 52, 5596, 4, 121, 80, 72, 564, 16, 169, 12, 168, 4149, 3, 16, 741, 8, 15, 2, 16, 386, 35, 153, 13499, 16, 18305, 28, 98, 52, 16968, 34, 131, 1582, 8, 1169, 58, 225, 315, 121, 2203, 10728, 52, 6, 2377, 7, 360, 3, 11, 2763, 7, 44, 2, 1921, 11896, 5, 0, 19, 386, 79, 237, 400, 69, 28, 2438, 31, 131, 731, 25, 115, 65, 19, 13, 23, 92, 38, 2, 2261, 244, 15, 11, 851, 4, 134, 353, 92, 31, 1879, 3, 54, 35, 66, 174, 536, 11, 13, 27, 4, 162, 22, 2322, 5, 37, 1104, 9310, 26, 13, 27, 466, 4, 81, 3725, 2, 2081, 27, 7705, 47, 6, 13288, 1129, 3]),\n",
       "       list([42, 43, 14, 18, 0, 14, 18, 18, 14, 39, 12, 449, 812, 44, 2, 119, 11, 2, 1592, 1374, 229, 25, 2, 1490, 7, 2, 40, 12, 123, 9, 3776, 16, 13802, 16, 3, 16, 42620, 16, 20, 6, 249, 852, 11, 3658, 118, 4, 26, 12, 153, 529, 10, 3, 13, 40, 9, 40, 7, 77, 2537, 7, 2, 229, 4, 62, 183, 347, 24, 2, 104, 369, 7, 16, 163, 1455, 4, 116, 77, 275, 16, 3, 13, 40, 105, 928, 49, 243, 2988, 1085, 135, 7, 306, 864, 167, 15, 38, 245, 58, 383, 3, 56, 123, 16, 12676, 1101, 16, 25, 362, 800, 60, 50, 9, 532, 2, 3536, 5, 28, 38, 148, 135, 3, 2479, 54, 9, 6, 249, 70, 94, 15, 22, 13, 40, 92, 795, 6, 71, 354, 489, 5006, 45, 49, 5721, 1248, 3, 10, 105, 928, 1592, 1374, 404, 6, 15483, 22, 6, 3750, 5, 10, 12810, 74, 3274, 8271, 11, 6, 273, 1969, 152, 3, 2, 81, 920, 15, 1299, 9, 156, 3373, 2590, 86, 8, 38, 2, 273, 1572, 551, 3274, 8271, 11, 51, 129, 7, 37, 119, 3, 72, 994, 2, 585, 199, 6, 244, 192, 76, 78, 69, 466, 2, 23, 9, 753, 8, 88, 3, 2479, 72, 9, 34, 8, 99, 151, 4, 26, 58, 125, 97, 38, 100, 51, 95, 149, 47, 306, 347, 3, 178, 469, 25, 13, 23, 5, 101, 1592, 1374, 119, 4, 45, 236, 46, 241, 331, 8, 41, 14927, 24, 1972, 3, 12, 53, 1972, 22, 95, 22, 2, 390, 414, 4, 26, 57, 90, 82, 376, 157, 7, 110, 4021, 44, 2, 302, 5924, 7, 37, 11376, 3046, 5, 108, 129, 3998, 10, 1743, 65, 153, 4, 71, 354, 2922, 106, 2, 1592, 1374, 229, 7, 119, 3]),\n",
       "       list([42, 43, 14, 18, 0, 14, 18, 136, 14, 39, 13, 9, 187, 8, 41, 2, 111, 3177, 938, 12, 38, 146, 292, 199, 4, 26, 267, 12, 227, 57, 10, 8, 3197, 28, 60, 2, 8231, 8, 456, 15, 16, 2764, 17, 367, 16, 9, 3, 10, 9, 34, 81, 2, 71, 270, 4717, 7, 2, 2021, 229, 4, 26, 9, 230, 74, 54, 25, 2, 270, 209, 766, 7, 44, 76, 48, 10, 20, 374, 4, 1160, 4, 5, 812, 349, 890, 3, 2, 510, 8873, 295, 5, 144, 19, 2, 19, 364, 33, 2105, 1174, 35, 219, 8, 1335, 13, 16, 27, 16, 106, 2, 1507, 3, 217, 4, 10, 92, 31, 562, 54, 4, 56, 741, 99, 138, 4, 6, 406, 250, 4, 5, 6, 640, 7, 922, 3456, 5, 28, 161, 208, 655, 13, 22740, 2625, 7, 32989, 48, 10, 17, 75, 599, 156, 2764, 4, 22, 237, 278, 47, 627, 9789, 4, 63, 112, 128, 50497, 3148, 3, 12, 73, 118, 62, 12, 438, 59, 53, 15, 3, 13, 9, 6, 3786, 476, 81, 23, 4, 57, 31, 5786, 45, 280, 884, 3]),\n",
       "       list([42, 43, 14, 18, 0, 14, 18, 68, 14, 39, 53, 51, 129, 101, 2073, 30, 151, 4, 77, 1824, 7, 13, 140, 35, 10193, 2340, 3, 11, 218, 4, 51, 4287, 35, 326, 12791, 1824, 4, 15, 12, 1033, 4802, 2, 33, 286, 882, 290, 11, 656, 8, 11279, 15, 685, 5, 10575, 838, 7, 1655, 4, 13239, 12, 351, 8, 854, 1317, 24142, 4, 22, 12, 314, 2, 9063, 2898, 7, 3087, 4, 44321, 4, 5672, 4, 29997, 5, 328, 13060, 12435, 6, 1665, 126, 2992, 126, 147, 32, 28, 262, 82, 376, 8, 124, 10, 8, 408, 29, 4, 69, 2, 95, 454, 140, 2783, 3132, 30, 33, 2276, 39, 30, 2424, 16130, 4, 22, 12, 2214, 3, 21, 91, 4, 12, 168, 3687, 8, 154, 15, 78, 121, 44, 155, 175, 5, 169, 816, 13, 25, 1232, 2323, 70, 3076, 32, 48, 29, 540, 4, 2, 140, 63, 448, 636, 7, 113, 15606, 1449, 3, 21, 353, 417, 735, 4, 52, 2, 2668, 122, 5, 85, 2868, 5408, 25, 40, 178, 8, 2, 409, 34, 51, 330, 312, 32, 80, 181, 2749, 8, 18267, 2, 268, 29, 5, 7, 288, 4, 34, 7496, 2, 5979, 912, 631, 441, 723, 52, 2, 109, 888, 4, 2, 2757, 7, 76, 63, 34, 11, 120, 117, 4, 3117, 55, 833, 12350, 120, 7, 3087, 17, 14933, 1449, 3, 21, 22, 3087, 336, 73, 261, 154, 4, 61, 44247, 48, 28, 54, 48, 163, 59, 5, 4096, 655, 66, 4679, 268, 3, 61]),\n",
       "       list([42, 43, 14, 18, 0, 14, 18, 136, 14, 39, 737, 4, 5482, 210, 875, 431, 3, 12588, 12, 23649, 162, 6, 5441, 200, 73, 34, 41, 587, 906, 10, 86, 3660, 3, 12, 493, 3344, 2843, 172, 9, 51, 1559, 155, 503, 32, 5, 103, 81, 98, 453, 29, 15, 40, 79, 34, 1191, 5, 2154, 95, 120, 70, 3, 430, 30, 90, 87, 381, 49, 15905, 50, 20, 20, 11917, 11, 2, 5375, 5, 90, 86, 10, 16453, 199, 280, 9251, 146, 258, 3, 2, 23, 3297, 4058, 4, 754, 203, 143, 2627, 106, 2, 1337, 5, 81, 40, 639, 6102, 24, 2, 604, 3, 66, 7, 2, 16834, 20, 4, 1993, 4, 2260, 48, 10, 17, 274, 8, 282, 269, 73, 78, 1185, 4, 300, 635, 3542, 8, 4, 2, 3308, 7, 12216, 7, 3126, 7, 2251, 8, 116, 13, 4612, 3]),\n",
       "       list([42, 43, 14, 18, 0, 14, 18, 68, 14, 39, 75, 1743, 13581, 9, 6, 23, 15, 158, 11, 75, 117, 146, 41, 623, 630, 3, 10, 1696, 3857, 22, 6, 611, 23, 3, 185, 45, 10, 70, 11, 2, 117, 15, 28, 158, 1332, 829, 52, 3282, 738, 3, 46, 35, 40, 11, 2, 189, 11, 15, 46, 35, 221, 51, 99, 46, 35, 174, 3, 2, 174, 410, 11, 75, 1743, 13581, 35, 645, 2, 687, 15, 35, 31, 462, 8, 41, 3, 69, 1576, 32, 278, 47, 5906, 5494, 22, 81, 36, 79, 311, 115, 29, 5540, 2, 14669, 2196, 59, 7, 2, 993, 121, 37, 109, 2182, 25, 51496, 32, 4108, 5897, 29, 5620, 4693, 5, 10, 9, 40, 194, 7, 2, 23, 15, 192, 414, 158, 84, 3, 10, 254, 41, 2, 1542, 152, 146, 4, 12, 3794, 3, 21, 576, 4, 108, 306, 216, 13, 23, 73, 116, 315, 12, 262, 133, 142, 5, 15, 414, 158, 261, 41, 3596, 106, 11728, 3, 12, 458, 46, 45, 247, 208, 3879, 3, 13, 23, 9014, 6, 18, 59, 7, 370, 30, 77, 2303, 5, 15, 40, 9, 56, 24, 2, 3529, 174, 536, 3]),\n",
       "       list([42, 43, 14, 18, 0, 14, 18, 18, 14, 39, 12, 227, 154, 4, 13, 23, 63, 381, 88, 6, 11117, 1611, 3, 12, 161, 100, 582, 195, 5, 195, 8, 33, 2890, 74, 5, 397, 1399, 53, 6, 1246, 414, 3, 26, 4, 10, 17, 71, 274, 93, 75, 34, 2, 6818, 3, 89, 28, 186, 15, 2208, 5, 13739, 65, 91, 4, 98, 11, 2, 1255, 24, 6, 190, 70, 3, 13, 23, 9, 56, 6752, 48, 10, 17, 34, 6, 27, 8, 140, 148, 1769, 19, 786, 4, 26, 28, 158, 140, 10, 8, 6, 2162, 55, 66, 6072, 234, 45, 148, 15465, 3, 576, 4, 165, 8, 2, 565, 6337, 3, 3032, 13, 2060, 63, 66, 2082, 147, 32, 89, 269, 45, 2, 1150, 1430, 15, 54, 17, 462, 8, 41, 6, 0, 32, 65, 29, 226, 2, 1747, 5, 607, 65, 29, 51, 28, 79, 237, 38, 6, 506, 143, 160, 8, 154, 8, 148, 1427, 55, 2, 1514, 3, 12, 38, 6, 10661, 11, 77, 11209, 3]),\n",
       "       list([42, 43, 14, 18, 0, 14, 18, 68, 14, 39, 16, 349, 654, 68, 16, 9, 2, 23, 4810, 7, 6, 1218, 7958, 3, 44, 2, 122, 32, 1003, 52, 4409, 17, 836, 11195, 4, 7, 288, 29, 1879, 1581, 8, 41, 552, 4, 371, 22, 16, 16305, 16, 32, 2, 67, 463, 29, 55, 22, 16, 12830, 16, 32, 2, 1964, 29, 3, 2, 173, 353, 14447, 30, 2, 3008, 586, 32, 102, 78, 98, 3793, 1136, 5, 2581, 74, 29, 4, 1618, 13, 106, 49, 2594, 342, 7, 16, 9760, 16, 32, 5, 1312, 4, 53, 3232, 4, 1709, 7865, 8, 2989, 336, 52, 2, 2164, 12331, 29, 3, 476, 7, 13, 356, 7, 171, 32, 5, 4, 696, 4, 54, 35, 129, 29, 103, 379, 10, 4, 422, 201, 222, 3, 5125, 3, 32, 196, 18, 126, 39, 29]),\n",
       "       list([42, 43, 14, 18, 0, 14, 18, 68, 14, 39, 11554, 6741, 9, 49, 238, 5, 9, 31, 53, 167, 101, 99, 957, 27, 4, 196, 196, 196, 1356, 196, 196, 196, 6, 425, 785, 11191, 1131, 8, 6, 188, 515, 5, 63, 1117, 45, 387, 4, 36, 9, 67, 5651, 3, 6, 266, 11, 2, 2907, 17, 1090, 25, 58, 1330, 4, 69, 85, 534, 20, 8189, 145, 6, 3200, 3, 11554, 32, 4024, 6356, 2464, 29, 52, 2, 664, 5953, 19, 3671, 0, 9, 2879, 11191, 22, 6, 1341, 8, 98, 6, 14176, 363, 2, 117, 36, 227, 1266, 8, 37, 769, 60, 58, 1341, 4, 5, 439, 404, 13, 14176, 4, 11554, 1644, 8, 2, 3200, 72, 1090, 30, 5, 114, 72, 242, 11, 2, 9049, 534, 7, 58, 1330, 5, 46, 10695, 74, 3, 328, 22, 36, 4034, 58, 36, 704, 6, 266, 50, 310, 56, 53, 58, 3, 32, 57, 28, 282, 11, 0, 6741, 9, 6, 67, 23, 8, 84, 169, 5, 114, 26, 46, 1192, 223, 107, 957, 770, 8, 2167, 289, 74, 25, 388, 119, 5, 298, 12, 223, 10, 6, 21, 708, 126, 182]),\n",
       "       list([42, 43, 14, 18, 0, 14, 18, 68, 14, 39, 12, 186, 10, 638, 15, 56, 107, 2419, 7219, 89, 34, 205, 8, 41, 11, 2, 27, 55, 38, 256, 8, 57, 25, 10, 4, 102, 6177, 123, 2, 23, 1696, 233, 78, 170, 10, 55, 754, 10, 6, 590, 3, 12, 82, 458, 7219, 89, 34, 57, 13, 3, 36, 9, 6, 506, 303, 5, 44, 26, 36, 1833, 102, 265, 52, 6, 557, 23, 3, 21, 12, 277, 10, 455, 3, 10, 20, 31, 348, 3723, 55, 256, 25, 952, 330, 312, 4, 26, 10, 20, 34, 6, 99, 3, 10, 20, 268, 8, 124, 3, 26, 10263, 4, 432, 34, 6, 99, 126, 510, 23, 3, 21, 708, 126, 182])],\n",
       "      dtype=object)"
      ]
     },
     "execution_count": 46,
     "metadata": {},
     "output_type": "execute_result"
    }
   ],
   "source": [
    "trn_lm[:10]"
   ]
  },
  {
   "cell_type": "code",
   "execution_count": 47,
   "metadata": {
    "colab": {},
    "colab_type": "code",
    "id": "_XpTDfniMWfB"
   },
   "outputs": [],
   "source": [
    "trn_dl = LanguageModelLoader(np.concatenate(trn_lm), bs, bptt)\n",
    "val_dl = LanguageModelLoader(np.concatenate(val_lm), bs, bptt)\n",
    "\n",
    "md = LanguageModelData(PATH, 1, vs, trn_dl, val_dl, bs=bs, bptt=bptt)"
   ]
  },
  {
   "cell_type": "markdown",
   "metadata": {
    "colab_type": "text",
    "id": "OzSKZlasMWfF"
   },
   "source": [
    "We setup the dropouts for the model - these values have been chosen after experimentation. If you need to update them for custom LMs, you can change the weighting factor (0.7 here) based on the amount of data you have. For more data, you can reduce dropout factor and for small datasets, you can reduce overfitting by choosing a higher dropout factor. *No other dropout value requires tuning*"
   ]
  },
  {
   "cell_type": "code",
   "execution_count": 48,
   "metadata": {
    "colab": {},
    "colab_type": "code",
    "id": "Z2rXe03eMWfJ"
   },
   "outputs": [],
   "source": [
    "drops = np.array([0.25, 0.1, 0.2, 0.02, 0.15])*0.7"
   ]
  },
  {
   "cell_type": "markdown",
   "metadata": {
    "colab_type": "text",
    "id": "SCv4uQykMWfL"
   },
   "source": [
    "We first tune the last embedding layer so that the missing tokens initialized with mean weights get tuned properly. So we freeze everything except the last layer.\n",
    "\n",
    "We also keep track of the *accuracy* metric."
   ]
  },
  {
   "cell_type": "code",
   "execution_count": 49,
   "metadata": {
    "colab": {},
    "colab_type": "code",
    "id": "fdvG06UgMWfM",
    "scrolled": true
   },
   "outputs": [],
   "source": [
    "learner= md.get_model(opt_fn, em_sz, nh, nl, \n",
    "    dropouti=drops[0], dropout=drops[1], wdrop=drops[2], dropoute=drops[3], dropouth=drops[4])\n",
    "\n",
    "learner.metrics = [accuracy]\n",
    "learner.freeze_to(-1) # why are we unfreezing this one? Don't we want to unfreeze FIRST layer?\n",
    "#learner.freeze_all_but(0) # unfreezing embedding instead"
   ]
  },
  {
   "cell_type": "code",
   "execution_count": 50,
   "metadata": {
    "colab": {},
    "colab_type": "code",
    "id": "GQBT6gdQMWfO"
   },
   "outputs": [],
   "source": [
    "learner.model.load_state_dict(wgts)"
   ]
  },
  {
   "cell_type": "code",
   "execution_count": null,
   "metadata": {},
   "outputs": [],
   "source": []
  },
  {
   "cell_type": "markdown",
   "metadata": {
    "colab_type": "text",
    "id": "ow19E6VOMWfS"
   },
   "source": [
    "We set learning rates and fit our IMDB LM. We first run one epoch to tune the last layer which contains the embedding weights. This should help the missing tokens in the wikitext103 learn better weights."
   ]
  },
  {
   "cell_type": "code",
   "execution_count": 52,
   "metadata": {
    "colab": {},
    "colab_type": "code",
    "id": "2ngvfuUpMWfS"
   },
   "outputs": [],
   "source": [
    "lr=1e-3\n",
    "lrs = lr"
   ]
  },
  {
   "cell_type": "code",
   "execution_count": 53,
   "metadata": {
    "colab": {
     "base_uri": "https://localhost:8080/",
     "height": 101
    },
    "colab_type": "code",
    "id": "Txylyd_FMWfV",
    "outputId": "505ca1cc-9ae2-4089-fc38-a3bb2728637f",
    "scrolled": true
   },
   "outputs": [
    {
     "data": {
      "application/vnd.jupyter.widget-view+json": {
       "model_id": "cc26b94c1dbd4b33b6f5cfd3b4354960",
       "version_major": 2,
       "version_minor": 0
      },
      "text/plain": [
       "HBox(children=(IntProgress(value=0, description='Epoch', max=1), HTML(value='')))"
      ]
     },
     "metadata": {},
     "output_type": "display_data"
    },
    {
     "name": "stdout",
     "output_type": "stream",
     "text": [
      "epoch      trn_loss   val_loss   accuracy                     \n",
      "    0      4.640735   4.403062   0.267446  \n",
      "\n"
     ]
    },
    {
     "data": {
      "text/plain": [
       "[array([4.40306]), 0.2674456997421952]"
      ]
     },
     "execution_count": 53,
     "metadata": {},
     "output_type": "execute_result"
    }
   ],
   "source": [
    "# Train for one epoch, just the embedding layer\n",
    "\n",
    "learner.fit(lrs/2, 1, wds=wd, use_clr=(32,2), cycle_len=1)"
   ]
  },
  {
   "cell_type": "code",
   "execution_count": 54,
   "metadata": {
    "scrolled": true
   },
   "outputs": [],
   "source": [
    "learner.save('lm_last_ft')"
   ]
  },
  {
   "cell_type": "markdown",
   "metadata": {
    "colab_type": "text",
    "id": "dtphT3CQMWfX"
   },
   "source": [
    "Note that we print out accuracy and keep track of how often we end up predicting the target word correctly. While this is a good metric to check, it is not part of our loss function as it can get quite bumpy. We only minimize cross-entropy loss in the LM.\n",
    "\n",
    "The exponent of the cross-entropy loss is called the perplexity of the LM. (low perplexity is better)."
   ]
  },
  {
   "cell_type": "code",
   "execution_count": 55,
   "metadata": {},
   "outputs": [],
   "source": [
    "learner.load('lm_last_ft')"
   ]
  },
  {
   "cell_type": "code",
   "execution_count": 56,
   "metadata": {
    "colab": {},
    "colab_type": "code",
    "id": "Cpbnd8FYMWfd"
   },
   "outputs": [],
   "source": [
    "learner.unfreeze()"
   ]
  },
  {
   "cell_type": "code",
   "execution_count": 77,
   "metadata": {
    "colab": {},
    "colab_type": "code",
    "id": "VDFm0VbvMWff"
   },
   "outputs": [
    {
     "data": {
      "application/vnd.jupyter.widget-view+json": {
       "model_id": "5dc4eb4c491045df8a4332a9dc3f7b81",
       "version_major": 2,
       "version_minor": 0
      },
      "text/plain": [
       "HBox(children=(IntProgress(value=0, description='Epoch', max=1), HTML(value='')))"
      ]
     },
     "metadata": {},
     "output_type": "display_data"
    },
    {
     "name": "stdout",
     "output_type": "stream",
     "text": [
      "epoch      trn_loss   val_loss   accuracy                                                                              \n",
      "    0      5.318755   5.140305   0.217942  \n",
      "\n"
     ]
    }
   ],
   "source": [
    "learner.lr_find(start_lr=lrs/10, end_lr=lrs*10, linear=True)"
   ]
  },
  {
   "cell_type": "code",
   "execution_count": 78,
   "metadata": {
    "colab": {},
    "colab_type": "code",
    "id": "CeR1mFsWMWfg"
   },
   "outputs": [
    {
     "data": {
      "image/png": "[encoded data removed]",
      "text/plain": [
       "<Figure size 432x288 with 1 Axes>"
      ]
     },
     "metadata": {},
     "output_type": "display_data"
    }
   ],
   "source": [
    "learner.sched.plot()"
   ]
  },
  {
   "cell_type": "code",
   "execution_count": 57,
   "metadata": {
    "colab": {
     "base_uri": "https://localhost:8080/",
     "height": 101
    },
    "colab_type": "code",
    "id": "OnQDHt2eMWfj",
    "outputId": "0c28d6fe-fccc-4060-f3ed-8334bf5e82b6",
    "scrolled": true
   },
   "outputs": [
    {
     "data": {
      "application/vnd.jupyter.widget-view+json": {
       "model_id": "1e5761341cc54f89949f5c53f87b1d5e",
       "version_major": 2,
       "version_minor": 0
      },
      "text/plain": [
       "HBox(children=(IntProgress(value=0, description='Epoch', max=10), HTML(value='')))"
      ]
     },
     "metadata": {},
     "output_type": "display_data"
    },
    {
     "name": "stdout",
     "output_type": "stream",
     "text": [
      "epoch      trn_loss   val_loss   accuracy                     \n",
      "    0      4.327969   4.138392   0.292662  \n",
      "    1      4.157868   4.040663   0.302013                     \n",
      "    2      4.066738   3.993988   0.306433                     \n",
      "    3      4.011778   3.970213   0.309139                     \n",
      "    4      3.924371   3.955714   0.311199                     \n",
      "  0%|          | 16/3489 [00:11<41:40,  1.39it/s, loss=3.93]"
     ]
    },
    {
     "ename": "KeyboardInterrupt",
     "evalue": "",
     "output_type": "error",
     "traceback": [
      "\u001b[0;31m---------------------------------------------------------------------------\u001b[0m",
      "\u001b[0;31mKeyboardInterrupt\u001b[0m                         Traceback (most recent call last)",
      "\u001b[0;32m<ipython-input-57-7d4903a96952>\u001b[0m in \u001b[0;36m<module>\u001b[0;34m()\u001b[0m\n\u001b[0;32m----> 1\u001b[0;31m \u001b[0mlearner\u001b[0m\u001b[0;34m.\u001b[0m\u001b[0mfit\u001b[0m\u001b[0;34m(\u001b[0m\u001b[0mlrs\u001b[0m\u001b[0;34m,\u001b[0m \u001b[0;36m1\u001b[0m\u001b[0;34m,\u001b[0m \u001b[0mwds\u001b[0m\u001b[0;34m=\u001b[0m\u001b[0mwd\u001b[0m\u001b[0;34m,\u001b[0m \u001b[0muse_clr\u001b[0m\u001b[0;34m=\u001b[0m\u001b[0;34m(\u001b[0m\u001b[0;36m20\u001b[0m\u001b[0;34m,\u001b[0m\u001b[0;36m10\u001b[0m\u001b[0;34m)\u001b[0m\u001b[0;34m,\u001b[0m \u001b[0mcycle_len\u001b[0m\u001b[0;34m=\u001b[0m\u001b[0;36m10\u001b[0m\u001b[0;34m)\u001b[0m \u001b[0;31m#JH did 15 here. Trying 10.\u001b[0m\u001b[0;34m\u001b[0m\u001b[0m\n\u001b[0m",
      "\u001b[0;32m~/imdb_sync/fastai/text.py\u001b[0m in \u001b[0;36mfit\u001b[0;34m(self, *args, **kwargs)\u001b[0m\n\u001b[1;32m    209\u001b[0m \u001b[0;34m\u001b[0m\u001b[0m\n\u001b[1;32m    210\u001b[0m     \u001b[0;32mdef\u001b[0m \u001b[0m_get_crit\u001b[0m\u001b[0;34m(\u001b[0m\u001b[0mself\u001b[0m\u001b[0;34m,\u001b[0m \u001b[0mdata\u001b[0m\u001b[0;34m)\u001b[0m\u001b[0;34m:\u001b[0m \u001b[0;32mreturn\u001b[0m \u001b[0mF\u001b[0m\u001b[0;34m.\u001b[0m\u001b[0mcross_entropy\u001b[0m\u001b[0;34m\u001b[0m\u001b[0m\n\u001b[0;32m--> 211\u001b[0;31m     \u001b[0;32mdef\u001b[0m \u001b[0mfit\u001b[0m\u001b[0;34m(\u001b[0m\u001b[0mself\u001b[0m\u001b[0;34m,\u001b[0m \u001b[0;34m*\u001b[0m\u001b[0margs\u001b[0m\u001b[0;34m,\u001b[0m \u001b[0;34m**\u001b[0m\u001b[0mkwargs\u001b[0m\u001b[0;34m)\u001b[0m\u001b[0;34m:\u001b[0m \u001b[0;32mreturn\u001b[0m \u001b[0msuper\u001b[0m\u001b[0;34m(\u001b[0m\u001b[0;34m)\u001b[0m\u001b[0;34m.\u001b[0m\u001b[0mfit\u001b[0m\u001b[0;34m(\u001b[0m\u001b[0;34m*\u001b[0m\u001b[0margs\u001b[0m\u001b[0;34m,\u001b[0m \u001b[0;34m**\u001b[0m\u001b[0mkwargs\u001b[0m\u001b[0;34m,\u001b[0m \u001b[0mseq_first\u001b[0m\u001b[0;34m=\u001b[0m\u001b[0;32mTrue\u001b[0m\u001b[0;34m)\u001b[0m\u001b[0;34m\u001b[0m\u001b[0m\n\u001b[0m\u001b[1;32m    212\u001b[0m \u001b[0;34m\u001b[0m\u001b[0m\n\u001b[1;32m    213\u001b[0m     \u001b[0;32mdef\u001b[0m \u001b[0msave_encoder\u001b[0m\u001b[0;34m(\u001b[0m\u001b[0mself\u001b[0m\u001b[0;34m,\u001b[0m \u001b[0mname\u001b[0m\u001b[0;34m)\u001b[0m\u001b[0;34m:\u001b[0m \u001b[0msave_model\u001b[0m\u001b[0;34m(\u001b[0m\u001b[0mself\u001b[0m\u001b[0;34m.\u001b[0m\u001b[0mmodel\u001b[0m\u001b[0;34m[\u001b[0m\u001b[0;36m0\u001b[0m\u001b[0;34m]\u001b[0m\u001b[0;34m,\u001b[0m \u001b[0mself\u001b[0m\u001b[0;34m.\u001b[0m\u001b[0mget_model_path\u001b[0m\u001b[0;34m(\u001b[0m\u001b[0mname\u001b[0m\u001b[0;34m)\u001b[0m\u001b[0;34m)\u001b[0m\u001b[0;34m\u001b[0m\u001b[0m\n",
      "\u001b[0;32m~/imdb_sync/fastai/learner.py\u001b[0m in \u001b[0;36mfit\u001b[0;34m(self, lrs, n_cycle, wds, **kwargs)\u001b[0m\n\u001b[1;32m    302\u001b[0m         \u001b[0mself\u001b[0m\u001b[0;34m.\u001b[0m\u001b[0msched\u001b[0m \u001b[0;34m=\u001b[0m \u001b[0;32mNone\u001b[0m\u001b[0;34m\u001b[0m\u001b[0m\n\u001b[1;32m    303\u001b[0m         \u001b[0mlayer_opt\u001b[0m \u001b[0;34m=\u001b[0m \u001b[0mself\u001b[0m\u001b[0;34m.\u001b[0m\u001b[0mget_layer_opt\u001b[0m\u001b[0;34m(\u001b[0m\u001b[0mlrs\u001b[0m\u001b[0;34m,\u001b[0m \u001b[0mwds\u001b[0m\u001b[0;34m)\u001b[0m\u001b[0;34m\u001b[0m\u001b[0m\n\u001b[0;32m--> 304\u001b[0;31m         \u001b[0;32mreturn\u001b[0m \u001b[0mself\u001b[0m\u001b[0;34m.\u001b[0m\u001b[0mfit_gen\u001b[0m\u001b[0;34m(\u001b[0m\u001b[0mself\u001b[0m\u001b[0;34m.\u001b[0m\u001b[0mmodel\u001b[0m\u001b[0;34m,\u001b[0m \u001b[0mself\u001b[0m\u001b[0;34m.\u001b[0m\u001b[0mdata\u001b[0m\u001b[0;34m,\u001b[0m \u001b[0mlayer_opt\u001b[0m\u001b[0;34m,\u001b[0m \u001b[0mn_cycle\u001b[0m\u001b[0;34m,\u001b[0m \u001b[0;34m**\u001b[0m\u001b[0mkwargs\u001b[0m\u001b[0;34m)\u001b[0m\u001b[0;34m\u001b[0m\u001b[0m\n\u001b[0m\u001b[1;32m    305\u001b[0m \u001b[0;34m\u001b[0m\u001b[0m\n\u001b[1;32m    306\u001b[0m     \u001b[0;32mdef\u001b[0m \u001b[0mwarm_up\u001b[0m\u001b[0;34m(\u001b[0m\u001b[0mself\u001b[0m\u001b[0;34m,\u001b[0m \u001b[0mlr\u001b[0m\u001b[0;34m,\u001b[0m \u001b[0mwds\u001b[0m\u001b[0;34m=\u001b[0m\u001b[0;32mNone\u001b[0m\u001b[0;34m)\u001b[0m\u001b[0;34m:\u001b[0m\u001b[0;34m\u001b[0m\u001b[0m\n",
      "\u001b[0;32m~/imdb_sync/fastai/learner.py\u001b[0m in \u001b[0;36mfit_gen\u001b[0;34m(self, model, data, layer_opt, n_cycle, cycle_len, cycle_mult, cycle_save_name, best_save_name, use_clr, use_clr_beta, metrics, callbacks, use_wd_sched, norm_wds, wds_sched_mult, use_swa, swa_start, swa_eval_freq, **kwargs)\u001b[0m\n\u001b[1;32m    249\u001b[0m             \u001b[0mmetrics\u001b[0m\u001b[0;34m=\u001b[0m\u001b[0mmetrics\u001b[0m\u001b[0;34m,\u001b[0m \u001b[0mcallbacks\u001b[0m\u001b[0;34m=\u001b[0m\u001b[0mcallbacks\u001b[0m\u001b[0;34m,\u001b[0m \u001b[0mreg_fn\u001b[0m\u001b[0;34m=\u001b[0m\u001b[0mself\u001b[0m\u001b[0;34m.\u001b[0m\u001b[0mreg_fn\u001b[0m\u001b[0;34m,\u001b[0m \u001b[0mclip\u001b[0m\u001b[0;34m=\u001b[0m\u001b[0mself\u001b[0m\u001b[0;34m.\u001b[0m\u001b[0mclip\u001b[0m\u001b[0;34m,\u001b[0m \u001b[0mfp16\u001b[0m\u001b[0;34m=\u001b[0m\u001b[0mself\u001b[0m\u001b[0;34m.\u001b[0m\u001b[0mfp16\u001b[0m\u001b[0;34m,\u001b[0m\u001b[0;34m\u001b[0m\u001b[0m\n\u001b[1;32m    250\u001b[0m             \u001b[0mswa_model\u001b[0m\u001b[0;34m=\u001b[0m\u001b[0mself\u001b[0m\u001b[0;34m.\u001b[0m\u001b[0mswa_model\u001b[0m \u001b[0;32mif\u001b[0m \u001b[0muse_swa\u001b[0m \u001b[0;32melse\u001b[0m \u001b[0;32mNone\u001b[0m\u001b[0;34m,\u001b[0m \u001b[0mswa_start\u001b[0m\u001b[0;34m=\u001b[0m\u001b[0mswa_start\u001b[0m\u001b[0;34m,\u001b[0m\u001b[0;34m\u001b[0m\u001b[0m\n\u001b[0;32m--> 251\u001b[0;31m             swa_eval_freq=swa_eval_freq, **kwargs)\n\u001b[0m\u001b[1;32m    252\u001b[0m \u001b[0;34m\u001b[0m\u001b[0m\n\u001b[1;32m    253\u001b[0m     \u001b[0;32mdef\u001b[0m \u001b[0mget_layer_groups\u001b[0m\u001b[0;34m(\u001b[0m\u001b[0mself\u001b[0m\u001b[0;34m)\u001b[0m\u001b[0;34m:\u001b[0m \u001b[0;32mreturn\u001b[0m \u001b[0mself\u001b[0m\u001b[0;34m.\u001b[0m\u001b[0mmodels\u001b[0m\u001b[0;34m.\u001b[0m\u001b[0mget_layer_groups\u001b[0m\u001b[0;34m(\u001b[0m\u001b[0;34m)\u001b[0m\u001b[0;34m\u001b[0m\u001b[0m\n",
      "\u001b[0;32m~/imdb_sync/fastai/model.py\u001b[0m in \u001b[0;36mfit\u001b[0;34m(model, data, n_epochs, opt, crit, metrics, callbacks, stepper, swa_model, swa_start, swa_eval_freq, visualize, **kwargs)\u001b[0m\n\u001b[1;32m    139\u001b[0m             \u001b[0mbatch_num\u001b[0m \u001b[0;34m+=\u001b[0m \u001b[0;36m1\u001b[0m\u001b[0;34m\u001b[0m\u001b[0m\n\u001b[1;32m    140\u001b[0m             \u001b[0;32mfor\u001b[0m \u001b[0mcb\u001b[0m \u001b[0;32min\u001b[0m \u001b[0mcallbacks\u001b[0m\u001b[0;34m:\u001b[0m \u001b[0mcb\u001b[0m\u001b[0;34m.\u001b[0m\u001b[0mon_batch_begin\u001b[0m\u001b[0;34m(\u001b[0m\u001b[0;34m)\u001b[0m\u001b[0;34m\u001b[0m\u001b[0m\n\u001b[0;32m--> 141\u001b[0;31m             \u001b[0mloss\u001b[0m \u001b[0;34m=\u001b[0m \u001b[0mmodel_stepper\u001b[0m\u001b[0;34m.\u001b[0m\u001b[0mstep\u001b[0m\u001b[0;34m(\u001b[0m\u001b[0mV\u001b[0m\u001b[0;34m(\u001b[0m\u001b[0mx\u001b[0m\u001b[0;34m)\u001b[0m\u001b[0;34m,\u001b[0m\u001b[0mV\u001b[0m\u001b[0;34m(\u001b[0m\u001b[0my\u001b[0m\u001b[0;34m)\u001b[0m\u001b[0;34m,\u001b[0m \u001b[0mepoch\u001b[0m\u001b[0;34m)\u001b[0m\u001b[0;34m\u001b[0m\u001b[0m\n\u001b[0m\u001b[1;32m    142\u001b[0m             \u001b[0mavg_loss\u001b[0m \u001b[0;34m=\u001b[0m \u001b[0mavg_loss\u001b[0m \u001b[0;34m*\u001b[0m \u001b[0mavg_mom\u001b[0m \u001b[0;34m+\u001b[0m \u001b[0mloss\u001b[0m \u001b[0;34m*\u001b[0m \u001b[0;34m(\u001b[0m\u001b[0;36m1\u001b[0m\u001b[0;34m-\u001b[0m\u001b[0mavg_mom\u001b[0m\u001b[0;34m)\u001b[0m\u001b[0;34m\u001b[0m\u001b[0m\n\u001b[1;32m    143\u001b[0m             \u001b[0mdebias_loss\u001b[0m \u001b[0;34m=\u001b[0m \u001b[0mavg_loss\u001b[0m \u001b[0;34m/\u001b[0m \u001b[0;34m(\u001b[0m\u001b[0;36m1\u001b[0m \u001b[0;34m-\u001b[0m \u001b[0mavg_mom\u001b[0m\u001b[0;34m**\u001b[0m\u001b[0mbatch_num\u001b[0m\u001b[0;34m)\u001b[0m\u001b[0;34m\u001b[0m\u001b[0m\n",
      "\u001b[0;32m~/imdb_sync/fastai/model.py\u001b[0m in \u001b[0;36mstep\u001b[0;34m(self, xs, y, epoch)\u001b[0m\n\u001b[1;32m     55\u001b[0m         \u001b[0;32mif\u001b[0m \u001b[0mself\u001b[0m\u001b[0;34m.\u001b[0m\u001b[0mloss_scale\u001b[0m \u001b[0;34m!=\u001b[0m \u001b[0;36m1\u001b[0m\u001b[0;34m:\u001b[0m \u001b[0;32massert\u001b[0m\u001b[0;34m(\u001b[0m\u001b[0mself\u001b[0m\u001b[0;34m.\u001b[0m\u001b[0mfp16\u001b[0m\u001b[0;34m)\u001b[0m\u001b[0;34m;\u001b[0m \u001b[0mloss\u001b[0m \u001b[0;34m=\u001b[0m \u001b[0mloss\u001b[0m\u001b[0;34m*\u001b[0m\u001b[0mself\u001b[0m\u001b[0;34m.\u001b[0m\u001b[0mloss_scale\u001b[0m\u001b[0;34m\u001b[0m\u001b[0m\n\u001b[1;32m     56\u001b[0m         \u001b[0;32mif\u001b[0m \u001b[0mself\u001b[0m\u001b[0;34m.\u001b[0m\u001b[0mreg_fn\u001b[0m\u001b[0;34m:\u001b[0m \u001b[0mloss\u001b[0m \u001b[0;34m=\u001b[0m \u001b[0mself\u001b[0m\u001b[0;34m.\u001b[0m\u001b[0mreg_fn\u001b[0m\u001b[0;34m(\u001b[0m\u001b[0moutput\u001b[0m\u001b[0;34m,\u001b[0m \u001b[0mxtra\u001b[0m\u001b[0;34m,\u001b[0m \u001b[0mraw_loss\u001b[0m\u001b[0;34m)\u001b[0m\u001b[0;34m\u001b[0m\u001b[0m\n\u001b[0;32m---> 57\u001b[0;31m         \u001b[0mloss\u001b[0m\u001b[0;34m.\u001b[0m\u001b[0mbackward\u001b[0m\u001b[0;34m(\u001b[0m\u001b[0;34m)\u001b[0m\u001b[0;34m\u001b[0m\u001b[0m\n\u001b[0m\u001b[1;32m     58\u001b[0m         \u001b[0;32mif\u001b[0m \u001b[0mself\u001b[0m\u001b[0;34m.\u001b[0m\u001b[0mfp16\u001b[0m\u001b[0;34m:\u001b[0m \u001b[0mupdate_fp32_grads\u001b[0m\u001b[0;34m(\u001b[0m\u001b[0mself\u001b[0m\u001b[0;34m.\u001b[0m\u001b[0mfp32_params\u001b[0m\u001b[0;34m,\u001b[0m \u001b[0mself\u001b[0m\u001b[0;34m.\u001b[0m\u001b[0mm\u001b[0m\u001b[0;34m)\u001b[0m\u001b[0;34m\u001b[0m\u001b[0m\n\u001b[1;32m     59\u001b[0m         \u001b[0;32mif\u001b[0m \u001b[0mself\u001b[0m\u001b[0;34m.\u001b[0m\u001b[0mloss_scale\u001b[0m \u001b[0;34m!=\u001b[0m \u001b[0;36m1\u001b[0m\u001b[0;34m:\u001b[0m\u001b[0;34m\u001b[0m\u001b[0m\n",
      "\u001b[0;32m~/anaconda3/envs/fastai/lib/python3.6/site-packages/torch/autograd/variable.py\u001b[0m in \u001b[0;36mbackward\u001b[0;34m(self, gradient, retain_graph, create_graph, retain_variables)\u001b[0m\n\u001b[1;32m    165\u001b[0m                 \u001b[0mVariable\u001b[0m\u001b[0;34m.\u001b[0m\u001b[0;34m\u001b[0m\u001b[0m\n\u001b[1;32m    166\u001b[0m         \"\"\"\n\u001b[0;32m--> 167\u001b[0;31m         \u001b[0mtorch\u001b[0m\u001b[0;34m.\u001b[0m\u001b[0mautograd\u001b[0m\u001b[0;34m.\u001b[0m\u001b[0mbackward\u001b[0m\u001b[0;34m(\u001b[0m\u001b[0mself\u001b[0m\u001b[0;34m,\u001b[0m \u001b[0mgradient\u001b[0m\u001b[0;34m,\u001b[0m \u001b[0mretain_graph\u001b[0m\u001b[0;34m,\u001b[0m \u001b[0mcreate_graph\u001b[0m\u001b[0;34m,\u001b[0m \u001b[0mretain_variables\u001b[0m\u001b[0;34m)\u001b[0m\u001b[0;34m\u001b[0m\u001b[0m\n\u001b[0m\u001b[1;32m    168\u001b[0m \u001b[0;34m\u001b[0m\u001b[0m\n\u001b[1;32m    169\u001b[0m     \u001b[0;32mdef\u001b[0m \u001b[0mregister_hook\u001b[0m\u001b[0;34m(\u001b[0m\u001b[0mself\u001b[0m\u001b[0;34m,\u001b[0m \u001b[0mhook\u001b[0m\u001b[0;34m)\u001b[0m\u001b[0;34m:\u001b[0m\u001b[0;34m\u001b[0m\u001b[0m\n",
      "\u001b[0;32m~/anaconda3/envs/fastai/lib/python3.6/site-packages/torch/autograd/__init__.py\u001b[0m in \u001b[0;36mbackward\u001b[0;34m(variables, grad_variables, retain_graph, create_graph, retain_variables)\u001b[0m\n\u001b[1;32m     97\u001b[0m \u001b[0;34m\u001b[0m\u001b[0m\n\u001b[1;32m     98\u001b[0m     Variable._execution_engine.run_backward(\n\u001b[0;32m---> 99\u001b[0;31m         variables, grad_variables, retain_graph)\n\u001b[0m\u001b[1;32m    100\u001b[0m \u001b[0;34m\u001b[0m\u001b[0m\n\u001b[1;32m    101\u001b[0m \u001b[0;34m\u001b[0m\u001b[0m\n",
      "\u001b[0;31mKeyboardInterrupt\u001b[0m: "
     ]
    }
   ],
   "source": [
    "learner.fit(lrs, 1, wds=wd, use_clr=(20,10), cycle_len=10) #JH did 15 here. Trying 10. RESULT: 4 is ideal. "
   ]
  },
  {
   "cell_type": "markdown",
   "metadata": {
    "colab_type": "text",
    "id": "ThDxFGt0MWfm"
   },
   "source": [
    "We save the trained model weights and separately save the encoder part of the LM model as well. This will serve as our backbone in the classification task model."
   ]
  },
  {
   "cell_type": "code",
   "execution_count": 58,
   "metadata": {
    "colab": {},
    "colab_type": "code",
    "id": "OBMEI5OVMWfo"
   },
   "outputs": [],
   "source": [
    "learner.save('lm1')"
   ]
  },
  {
   "cell_type": "code",
   "execution_count": 59,
   "metadata": {
    "colab": {},
    "colab_type": "code",
    "id": "E-nqlyHYMWfp"
   },
   "outputs": [],
   "source": [
    "learner.save_encoder('lm1_enc') # We've got a good one saved. 8.24"
   ]
  },
  {
   "cell_type": "code",
   "execution_count": 60,
   "metadata": {
    "colab": {},
    "colab_type": "code",
    "id": "XVqJcXrDMWfq",
    "scrolled": true
   },
   "outputs": [
    {
     "data": {
      "image/png": "[encoded data removed]",
      "text/plain": [
       "<Figure size 432x288 with 1 Axes>"
      ]
     },
     "metadata": {},
     "output_type": "display_data"
    }
   ],
   "source": [
    "learner.sched.plot_loss()\n"
   ]
  },
  {
   "cell_type": "code",
   "execution_count": null,
   "metadata": {},
   "outputs": [],
   "source": []
  },
  {
   "cell_type": "code",
   "execution_count": 61,
   "metadata": {
    "scrolled": true
   },
   "outputs": [],
   "source": [
    "for c in learner.children:\n",
    "    for p in c.parameters():\n",
    "        del p\n",
    "    del c\n",
    "        \n",
    "del learner\n",
    "        \n",
    "torch.cuda.empty_cache()\n",
    "\n"
   ]
  },
  {
   "cell_type": "markdown",
   "metadata": {
    "colab_type": "text",
    "id": "beFvL2n1MWf7"
   },
   "source": [
    "## Classifier"
   ]
  },
  {
   "cell_type": "markdown",
   "metadata": {
    "colab_type": "text",
    "id": "pkEBapZEMWf8"
   },
   "source": [
    "Now we can create our final model, a classifier which is really a custom linear head over our trained IMDB backbone. The steps to create the classifier model are similar to the ones for the LM."
   ]
  },
  {
   "cell_type": "code",
   "execution_count": 7,
   "metadata": {
    "colab": {
     "base_uri": "https://localhost:8080/",
     "height": 34
    },
    "colab_type": "code",
    "id": "PrNBcnJ1YYYu",
    "outputId": "66c2038f-01f3-46a2-b511-51d6245e18b4"
   },
   "outputs": [
    {
     "data": {
      "text/plain": [
       "(25000, 50000, 22500, 2500)"
      ]
     },
     "execution_count": 7,
     "metadata": {},
     "output_type": "execute_result"
    }
   ],
   "source": [
    "# Only using data with labels\n",
    "no_test_df = df[df[\"dataset\"]==\"train\"] #.drop_duplicates(subset=\"text\") actually can't do this w out changing vocab\n",
    "\n",
    "# Splitting that subset into train and val\n",
    "trn_df, val_df = sklearn.model_selection.train_test_split(no_test_df, test_size=0.1)\n",
    "\n",
    "len(no_test_df), len(df), len(trn_df), len(val_df)"
   ]
  },
  {
   "cell_type": "code",
   "execution_count": 8,
   "metadata": {
    "scrolled": true
   },
   "outputs": [
    {
     "data": {
      "text/plain": [
       "array([1, 0])"
      ]
     },
     "execution_count": 8,
     "metadata": {},
     "output_type": "execute_result"
    }
   ],
   "source": [
    "val_df.labels.unique()"
   ]
  },
  {
   "cell_type": "code",
   "execution_count": 9,
   "metadata": {},
   "outputs": [
    {
     "data": {
      "text/plain": [
       "(25000, 7)"
      ]
     },
     "execution_count": 9,
     "metadata": {},
     "output_type": "execute_result"
    }
   ],
   "source": [
    "test_df = df[df[\"dataset\"]==\"test\"]; test_df.shape"
   ]
  },
  {
   "cell_type": "code",
   "execution_count": 10,
   "metadata": {},
   "outputs": [
    {
     "data": {
      "text/html": [
       "<div>\n",
       "<style scoped>\n",
       "    .dataframe tbody tr th:only-of-type {\n",
       "        vertical-align: middle;\n",
       "    }\n",
       "\n",
       "    .dataframe tbody tr th {\n",
       "        vertical-align: top;\n",
       "    }\n",
       "\n",
       "    .dataframe thead th {\n",
       "        text-align: right;\n",
       "    }\n",
       "</style>\n",
       "<table border=\"1\" class=\"dataframe\">\n",
       "  <thead>\n",
       "    <tr style=\"text-align: right;\">\n",
       "      <th></th>\n",
       "      <th>Unnamed: 0</th>\n",
       "      <th>dataset</th>\n",
       "      <th>id</th>\n",
       "      <th>labels</th>\n",
       "      <th>text</th>\n",
       "      <th>tokenized_text</th>\n",
       "      <th>numerized_tokens</th>\n",
       "    </tr>\n",
       "  </thead>\n",
       "  <tbody>\n",
       "    <tr>\n",
       "      <th>25000</th>\n",
       "      <td>0</td>\n",
       "      <td>test</td>\n",
       "      <td>98481</td>\n",
       "      <td>3</td>\n",
       "      <td>Bud Abbott and Lou Costello always had a good ...</td>\n",
       "      <td>['\\n', 'xbos', 'xfld', '1', '98481', 'xfld', '...</td>\n",
       "      <td>[42, 43, 14, 18, 0, 14, 18, 68, 14, 39, 5284, ...</td>\n",
       "    </tr>\n",
       "    <tr>\n",
       "      <th>25001</th>\n",
       "      <td>1</td>\n",
       "      <td>test</td>\n",
       "      <td>88606</td>\n",
       "      <td>3</td>\n",
       "      <td>This film is not your typical Hollywood fare, ...</td>\n",
       "      <td>['\\n', 'xbos', 'xfld', '1', '88606', 'xfld', '...</td>\n",
       "      <td>[42, 43, 14, 18, 0, 14, 18, 68, 14, 39, 13, 27...</td>\n",
       "    </tr>\n",
       "    <tr>\n",
       "      <th>25002</th>\n",
       "      <td>2</td>\n",
       "      <td>test</td>\n",
       "      <td>88639</td>\n",
       "      <td>3</td>\n",
       "      <td>Henry Thomas, and Robin Tunny, are a couple of...</td>\n",
       "      <td>['\\n', 'xbos', 'xfld', '1', '88639', 'xfld', '...</td>\n",
       "      <td>[42, 43, 14, 18, 0, 14, 18, 68, 14, 39, 1636, ...</td>\n",
       "    </tr>\n",
       "    <tr>\n",
       "      <th>25003</th>\n",
       "      <td>3</td>\n",
       "      <td>test</td>\n",
       "      <td>76170</td>\n",
       "      <td>3</td>\n",
       "      <td>This digital horror film brings us into the Mi...</td>\n",
       "      <td>['\\n', 'xbos', 'xfld', '1', '76170', 'xfld', '...</td>\n",
       "      <td>[42, 43, 14, 18, 0, 14, 18, 68, 14, 39, 13, 36...</td>\n",
       "    </tr>\n",
       "    <tr>\n",
       "      <th>25004</th>\n",
       "      <td>4</td>\n",
       "      <td>test</td>\n",
       "      <td>81803</td>\n",
       "      <td>3</td>\n",
       "      <td>I just saw this on a local independent station...</td>\n",
       "      <td>['\\n', 'xbos', 'xfld', '1', '81803', 'xfld', '...</td>\n",
       "      <td>[42, 43, 14, 18, 0, 14, 18, 68, 14, 39, 12, 56...</td>\n",
       "    </tr>\n",
       "  </tbody>\n",
       "</table>\n",
       "</div>"
      ],
      "text/plain": [
       "       Unnamed: 0 dataset     id  labels  \\\n",
       "25000           0    test  98481       3   \n",
       "25001           1    test  88606       3   \n",
       "25002           2    test  88639       3   \n",
       "25003           3    test  76170       3   \n",
       "25004           4    test  81803       3   \n",
       "\n",
       "                                                    text  \\\n",
       "25000  Bud Abbott and Lou Costello always had a good ...   \n",
       "25001  This film is not your typical Hollywood fare, ...   \n",
       "25002  Henry Thomas, and Robin Tunny, are a couple of...   \n",
       "25003  This digital horror film brings us into the Mi...   \n",
       "25004  I just saw this on a local independent station...   \n",
       "\n",
       "                                          tokenized_text  \\\n",
       "25000  ['\\n', 'xbos', 'xfld', '1', '98481', 'xfld', '...   \n",
       "25001  ['\\n', 'xbos', 'xfld', '1', '88606', 'xfld', '...   \n",
       "25002  ['\\n', 'xbos', 'xfld', '1', '88639', 'xfld', '...   \n",
       "25003  ['\\n', 'xbos', 'xfld', '1', '76170', 'xfld', '...   \n",
       "25004  ['\\n', 'xbos', 'xfld', '1', '81803', 'xfld', '...   \n",
       "\n",
       "                                        numerized_tokens  \n",
       "25000  [42, 43, 14, 18, 0, 14, 18, 68, 14, 39, 5284, ...  \n",
       "25001  [42, 43, 14, 18, 0, 14, 18, 68, 14, 39, 13, 27...  \n",
       "25002  [42, 43, 14, 18, 0, 14, 18, 68, 14, 39, 1636, ...  \n",
       "25003  [42, 43, 14, 18, 0, 14, 18, 68, 14, 39, 13, 36...  \n",
       "25004  [42, 43, 14, 18, 0, 14, 18, 68, 14, 39, 12, 56...  "
      ]
     },
     "execution_count": 10,
     "metadata": {},
     "output_type": "execute_result"
    }
   ],
   "source": [
    "test_df.head()"
   ]
  },
  {
   "cell_type": "markdown",
   "metadata": {
    "colab_type": "text",
    "id": "2lF6B6TvMWgD"
   },
   "source": [
    "In the classifier, unlike LM, we need to read a movie review at a time and learn to predict the it's sentiment as pos/neg. We do not deal with equal bptt size batches, so we have to pad the sequences to the same length in each batch. To create batches of similar sized movie reviews, we use a sortish sampler method invented by [@Smerity](https://twitter.com/Smerity) and [@jekbradbury](https://twitter.com/jekbradbury)\n",
    "\n",
    "The sortishSampler cuts down the overall number of padding tokens the classifier ends up seeing."
   ]
  },
  {
   "cell_type": "code",
   "execution_count": 13,
   "metadata": {
    "colab": {},
    "colab_type": "code",
    "id": "kkrx6upuaSof",
    "scrolled": true
   },
   "outputs": [],
   "source": [
    "trn_clas = np.array(trn_df[\"numerized_tokens\"])\n",
    "val_clas = np.array(val_df[\"numerized_tokens\"])\n",
    "#test_clas = np.array(test_df[\"numerized_tokens\"])\n",
    "\n",
    "trn_labels = np.squeeze(np.array(trn_df[\"labels\"]))\n",
    "val_labels = np.squeeze(np.array(val_df[\"labels\"]))\n",
    "#test_labels = np.squeeze(np.array(test_df[\"labels\"])) # placeholder. meaningless\n",
    "\n",
    "trn_ds = TextDataset(trn_clas, trn_labels)\n",
    "val_ds = TextDataset(val_clas, val_labels)\n",
    "#test_ds = TextDataset(test_clas, test_labels)\n"
   ]
  },
  {
   "cell_type": "code",
   "execution_count": 12,
   "metadata": {
    "scrolled": true
   },
   "outputs": [
    {
     "data": {
      "text/plain": [
       "(array([list([42, 43, 14, 18, 0, 14, 18, 18, 14, 39, 28, 142, 64, 46, 154, 60, 2, 35113, 401, 62, 28, 79, 405, 115, 28, 87, 31, 54, 3, 40, 7, 2, 193, 204, 12, 57, 405, 60, 2, 1403, 17, 20, 2, 71, 109, 4820, 5, 2925, 1100, 2066, 22, 130, 52, 6, 477, 61, 0, 4794, 19, 1164, 2128, 401, 2, 8344, 5874, 3, 62, 2, 482, 212, 7267, 55, 10196, 169, 8, 66, 811, 10, 79, 81, 41, 107, 6, 190, 63, 614, 11, 2, 259, 1089, 175, 5, 2, 228, 9, 31, 61, 1459, 61, 1554, 401, 26, 1339, 48, 69, 13, 23, 407, 59, 10, 20, 6, 109, 401, 5, 66, 7, 155, 5809, 87, 131, 245, 24, 2, 71, 109, 76, 93, 45, 6, 76, 69, 10204, 20, 11, 1050, 4, 2, 2423, 319, 20, 6907, 4, 2, 901, 2949, 20, 11, 385, 6174, 401, 5, 0, 11860, 20, 153, 11, 2772, 7, 2, 33, 2802, 3, 13, 9, 6, 27, 112, 180, 22626, 3253, 5, 22, 162, 10, 20, 40, 7, 2, 109, 8, 214, 6, 215, 24416, 45, 2, 6946, 401, 8, 116, 268, 7, 10, 5, 2, 6331, 45, 2, 189, 76, 3, 5, 1993, 4, 66, 5809, 35, 153, 367, 174, 3, 62, 28, 449, 10228, 5, 9348, 17, 16, 74, 11, 0, 401, 28, 103, 33, 134, 13, 27, 3, 21, 62, 28, 205, 8, 142, 64, 2, 1403, 17, 87, 82, 53, 401, 824, 59, 2, 8344, 5874, 401, 62, 28, 449, 2, 805, 1729, 16, 2229, 16, 52, 60, 2, 189, 344, 5, 216, 10, 20, 230, 30, 2, 961, 11, 113, 3675, 185, 45, 260, 4, 28, 103, 3576, 2, 8344, 5874, 401, 80, 2986, 74, 30, 2, 784, 26, 322, 52, 2, 2742, 7, 2, 811, 93, 2, 213, 811, 50, 87, 1618, 145, 2, 260, 11, 2018, 7, 101, 23825, 201, 222, 3, 90, 86, 100, 2677, 30, 21415, 210, 8459, 16, 581, 10, 8, 11042, 16, 4, 352, 691, 141, 4, 77, 299, 3562, 401, 685, 503, 93, 51, 826, 280, 10917, 69, 167, 7, 203, 50, 87, 12134, 25, 2, 188, 137, 19, 4201, 208, 8, 84, 6, 2220, 74, 7, 2, 882, 22, 130, 52, 280, 2128, 48, 2, 3527, 47, 2, 35631, 6613, 635, 35, 4522, 401, 0, 204, 239, 52, 35631, 16, 201, 222, 3, 5, 2, 2282, 1020, 52, 731, 27, 106, 7356, 2, 1145, 19, 421, 846, 69, 2, 6331, 1948, 2, 10112, 9, 153, 40, 7, 2, 141, 20407, 11, 5, 59, 7, 7089, 12, 38, 146, 130, 30, 27, 3, 21, 62, 28, 449, 2, 10418, 7875, 23, 4, 28, 103, 33, 134, 13, 27, 3, 5, 62, 28, 146, 3743, 156, 148, 946, 1782, 4529, 153, 242, 6, 3534, 33701, 11, 37, 762, 69, 553, 165, 8, 37, 1123, 503, 401, 13, 73, 41, 2, 424, 27, 8, 124, 3, 21, 214, 10, 24, 64, 10, 9, 401, 6, 9401, 7, 2, 236, 93, 5, 6, 7884, 143, 27, 15, 103, 366, 44, 7, 203, 50, 89, 843, 2, 1403, 17, 8, 405, 115, 20114, 3])],\n",
       "       dtype=object),\n",
       " array([list([42, 43, 14, 18, 0, 14, 18, 68, 14, 39, 5284, 7046, 5, 3741, 6010, 237, 86, 6, 67, 983, 787, 434, 4, 26, 11, 85, 3887, 12, 123, 28, 97, 154, 15, 46, 81, 112, 40, 27, 15, 97, 41, 22242, 24, 372, 3, 683, 5, 2, 19169, 20, 15, 40, 27, 3, 21, 10, 20, 194, 7, 6, 128, 457, 1720, 804, 52, 2828, 1135, 4, 2, 359, 27, 131, 7046, 5, 6010, 918, 1566, 23249, 3, 155, 87, 2, 81, 128, 127, 2, 878, 112, 11, 1460, 3, 21, 2, 128, 7, 115, 4, 59, 7, 179, 22, 679, 4, 214, 6, 317, 24, 6, 71, 12754, 5, 2902, 213, 612, 39950, 22, 6, 10099, 3, 283, 10, 555, 59, 25, 6010, 1690, 8, 361, 2, 541, 4, 683, 5, 2, 19169, 22, 6, 17244, 83, 4, 2, 213, 9091, 4103, 74, 914, 10, 8, 6010, 3, 3741, 765, 2406, 5, 11, 37, 1469, 36, 29720, 36, 17, 879, 683, 2, 1334, 499, 3, 21, 1759, 19654, 50, 18290, 2, 878, 11, 2566, 3946, 322, 2, 1334, 5, 36, 17, 208, 6, 1334, 3277, 3681, 1652, 22, 37, 10491, 3, 3681, 20, 6, 215, 266, 4, 50678, 16, 4, 5, 28, 79, 826, 72, 86, 66, 5919, 131, 200, 574, 69, 58, 6025, 20, 351, 22, 6, 981, 3, 40, 7, 2, 81, 1870, 50, 146, 601, 199, 45, 58, 20, 335, 1957, 11, 299, 36499, 45, 0, 16, 3, 1636, 3817, 5, 621, 1458, 11, 30, 280, 7833, 117, 105, 3471, 1192, 744, 58, 4, 26, 195, 58, 6025, 20, 194, 7, 6, 3156, 3, 21, 30421, 41528, 5, 621, 3474, 87, 2, 2732, 5, 2244, 7, 2, 1041, 5, 46, 6339, 1289, 4, 26, 97, 31, 517, 301, 256, 3, 13, 20, 2, 259, 27, 7, 1019, 50679, 50, 17, 641, 2043, 52, 2, 430, 1288, 281, 503, 5, 78, 8, 2, 492, 7, 2, 259, 1058, 30, 933, 3, 36, 278, 2732, 30421, 17, 352, 2, 720, 3, 21, 66, 34, 1980, 912, 706, 1575, 407, 52, 683, 5, 2, 19169, 4, 598, 2, 441, 620, 3, 12, 91, 405, 22, 6, 541, 285, 2, 14891, 1881, 7, 5284, 5, 3741, 1199, 2, 620, 5, 11922, 2, 83, 3, 12, 20, 11, 77, 430, 701, 28094, 175, 4, 26, 909, 6, 10868, 350, 7, 85, 17, 164, 15, 5, 85, 705, 229, 3, 21, 683, 5, 2, 19169, 9, 153, 6, 67, 434, 17, 457, 24, 2, 71, 213, 4, 176, 12, 73, 3197, 786, 8, 3197, 85, 143, 39828, 34, 8, 8484, 213, 1161, 39950, 3])],\n",
       "       dtype=object))"
      ]
     },
     "execution_count": 12,
     "metadata": {},
     "output_type": "execute_result"
    }
   ],
   "source": [
    "trn_clas[:1], test_clas[:1]"
   ]
  },
  {
   "cell_type": "code",
   "execution_count": 14,
   "metadata": {
    "colab": {},
    "colab_type": "code",
    "id": "G5Ksss7aMWgG"
   },
   "outputs": [],
   "source": [
    "trn_samp = SortishSampler(trn_clas, key=lambda x: len(trn_clas[x]), bs=bs//2)\n",
    "val_samp = SortSampler(val_clas, key=lambda x: len(val_clas[x]))\n",
    "#test_samp = SortSampler(test_clas, key=lambda x: len(test_clas[x]))\n",
    "\n",
    "trn_dl = DataLoader(trn_ds, bs//2, transpose=True, num_workers=1, pad_idx=1, sampler=trn_samp)\n",
    "val_dl = DataLoader(val_ds, bs, transpose=True, num_workers=1, pad_idx=1, sampler=val_samp)\n",
    "#test_dl = DataLoader(test_ds, bs, transpose=True, num_workers=1, pad_idx=1) # for ease of submission, don't sort out of order\n",
    "\n",
    "md = ModelData(PATH, trn_dl, val_dl)"
   ]
  },
  {
   "cell_type": "code",
   "execution_count": 15,
   "metadata": {
    "colab": {},
    "colab_type": "code",
    "id": "fK9z_asUMWgL"
   },
   "outputs": [],
   "source": [
    "# part 1\n",
    "#dps = np.array([0.4, 0.5, 0.05, 0.3, 0.1]) # trying this one second. "
   ]
  },
  {
   "cell_type": "code",
   "execution_count": 16,
   "metadata": {},
   "outputs": [],
   "source": [
    "# This is from imdb script. USING THESE.\n",
    "\n",
    "dropmult = 1.5\n",
    "dps = np.array([0.4,0.5,0.05,0.3,0.4])*dropmult\n",
    "\n",
    "lrm = 2.6\n",
    "lr=0.01\n",
    "lrs = np.array([lr/(lrm**4), lr/(lrm**3), lr/(lrm**2), lr/lrm, lr])\n",
    "\n",
    "wd = 1e-6"
   ]
  },
  {
   "cell_type": "code",
   "execution_count": 17,
   "metadata": {},
   "outputs": [],
   "source": [
    "# These are taken from arxiv paper JH.\n",
    "\n",
    "lrs = [0.0001, 0.0001, 0.0001, 0.0001, .001]"
   ]
  },
  {
   "cell_type": "code",
   "execution_count": 18,
   "metadata": {
    "colab": {},
    "colab_type": "code",
    "id": "JLbgEdvyMWgP"
   },
   "outputs": [],
   "source": [
    "#dps = np.array([0.4,0.5,0.05,0.3,0.4])*0.5 # trying this one first! who knows! training breaks as before. Trying above version."
   ]
  },
  {
   "cell_type": "code",
   "execution_count": 21,
   "metadata": {
    "colab": {},
    "colab_type": "code",
    "id": "MlKBpEy4MWgR"
   },
   "outputs": [],
   "source": [
    "c = 2 # NUMBER OF CLASSES\n",
    "\n",
    "\n",
    "m = get_rnn_classifier(bptt, 20*bptt, c, vs, emb_sz=em_sz, n_hid=nh, n_layers=nl, pad_token=1,\n",
    "          layers=[em_sz*3, 50, c], drops=[dps[4], 0.1],\n",
    "          dropouti=dps[0], wdrop=dps[1], dropoute=dps[2], dropouth=dps[3])\n",
    "\n",
    "# Was getting error here in normal pip installed version. Have to get latest from github, then pip install as above"
   ]
  },
  {
   "cell_type": "code",
   "execution_count": 22,
   "metadata": {
    "colab": {},
    "colab_type": "code",
    "id": "pX1MSel-MWgT"
   },
   "outputs": [],
   "source": [
    "opt_fn = partial(optim.Adam, betas=(0.7, 0.99)) # changing down to 70"
   ]
  },
  {
   "cell_type": "code",
   "execution_count": 23,
   "metadata": {
    "colab": {},
    "colab_type": "code",
    "id": "jHhDFY7gMWgV",
    "scrolled": true
   },
   "outputs": [],
   "source": [
    "learn = RNN_Learner(md, TextModel(to_gpu(m)), opt_fn=opt_fn)\n",
    "learn.reg_fn = partial(seq2seq_reg, alpha=2, beta=1)\n",
    "learn.clip=25.\n",
    "learn.metrics = [accuracy]"
   ]
  },
  {
   "cell_type": "code",
   "execution_count": 113,
   "metadata": {
    "colab": {},
    "colab_type": "code",
    "id": "2wK9LjadMWgb",
    "scrolled": true
   },
   "outputs": [],
   "source": [
    "learn.load_encoder('lm1_enc')"
   ]
  },
  {
   "cell_type": "code",
   "execution_count": 114,
   "metadata": {
    "colab": {},
    "colab_type": "code",
    "id": "hXoWGYoDMWge"
   },
   "outputs": [],
   "source": [
    "learn.freeze_to(-1)"
   ]
  },
  {
   "cell_type": "code",
   "execution_count": 43,
   "metadata": {
    "colab": {},
    "colab_type": "code",
    "id": "yd0SyD0hMWgh"
   },
   "outputs": [],
   "source": [
    "#learn.lr_find(lrs/1000)\n",
    "#learn.sched.plot()"
   ]
  },
  {
   "cell_type": "code",
   "execution_count": 115,
   "metadata": {
    "colab": {},
    "colab_type": "code",
    "id": "wf6d53jFMWgi",
    "scrolled": true
   },
   "outputs": [
    {
     "data": {
      "application/vnd.jupyter.widget-view+json": {
       "model_id": "69ef89379c1940e7893cf6151ad3390c",
       "version_major": 2,
       "version_minor": 0
      },
      "text/plain": [
       "HBox(children=(IntProgress(value=0, description='Epoch', max=1), HTML(value='')))"
      ]
     },
     "metadata": {},
     "output_type": "display_data"
    },
    {
     "name": "stdout",
     "output_type": "stream",
     "text": [
      "epoch      trn_loss   val_loss   accuracy                    \n",
      "    0      0.615408   0.262996   0.91      \n",
      "\n"
     ]
    },
    {
     "data": {
      "text/plain": [
       "[array([0.263]), 0.9099999976158142]"
      ]
     },
     "execution_count": 115,
     "metadata": {},
     "output_type": "execute_result"
    }
   ],
   "source": [
    "# Problem here was val loss way too small. Accuracy way to high. Bad sign. Redid w JH parameters from imdb scripts folder in \n",
    "# same repo. damn. still too high a bit!\n",
    "\n",
    "# using an even higher multiplier for dropout. 1.3 instead of 1.0. See if this gets us more in line w JH's results at this point.\n",
    "# RESULT: perhaps closer. val loss is about right, but accuracy is too high. Let's move to next cell.\n",
    "\n",
    "# 8.24 redoing w elim dups train data. drop mult of 1.2. Had to put dup back in bc of vocab sz. Just pushing though\n",
    "# even though accuracy too high\n",
    "\n",
    "# Trying we df fresh from prep, not from saved csv. Hypothesis is something breaks at that step. Loss still too low\n",
    "# Accuracy too high. Tested pred on 1000 rows, avg looked good. Now training 2 layers, try pred again: same! Problem is\n",
    "# not at the csv load stage. \n",
    "\n",
    "# Tried new prediction apparatus, same! Results still strongly skewed. Val set predicted perfectly well. Train set perfectly well\n",
    "# test set abysmal!!\n",
    "\n",
    "# Trying w drop mult of 1.5: first epoch, mean .6, second epoch, .5, third epoch unfrozen .53. Interesting, why is it hovering around .5 now?\n",
    "# Did prep and saved. Doing three epochs full unfreeze, lowered lr to match paper. Train now blows up :(\n",
    "\n",
    "learn.fit(lrs, 1, wds=wd, cycle_len=1, use_clr=(8,3))"
   ]
  },
  {
   "cell_type": "code",
   "execution_count": 45,
   "metadata": {},
   "outputs": [],
   "source": [
    "learn.save('clas_0')"
   ]
  },
  {
   "cell_type": "code",
   "execution_count": 46,
   "metadata": {},
   "outputs": [],
   "source": [
    "learn.load(\"clas_0\")"
   ]
  },
  {
   "cell_type": "code",
   "execution_count": 123,
   "metadata": {},
   "outputs": [],
   "source": [
    "learn.freeze_to(-2)"
   ]
  },
  {
   "cell_type": "code",
   "execution_count": 124,
   "metadata": {
    "colab": {},
    "colab_type": "code",
    "id": "e6NW8SweMWgn",
    "scrolled": true
   },
   "outputs": [
    {
     "data": {
      "application/vnd.jupyter.widget-view+json": {
       "model_id": "61a721103656495dafbdb327a3bbc934",
       "version_major": 2,
       "version_minor": 0
      },
      "text/plain": [
       "HBox(children=(IntProgress(value=0, description='Epoch', max=1), HTML(value='')))"
      ]
     },
     "metadata": {},
     "output_type": "display_data"
    },
    {
     "name": "stdout",
     "output_type": "stream",
     "text": [
      "epoch      trn_loss   val_loss   accuracy                    \n",
      "    0      0.547673   0.178846   0.9332    \n",
      "\n"
     ]
    },
    {
     "data": {
      "text/plain": [
       "[array([0.17885]), 0.9331999968528748]"
      ]
     },
     "execution_count": 124,
     "metadata": {},
     "output_type": "execute_result"
    }
   ],
   "source": [
    "learn.fit(lrs, 1, wds=wd, cycle_len=1, use_clr=(8,3))"
   ]
  },
  {
   "cell_type": "code",
   "execution_count": 49,
   "metadata": {},
   "outputs": [],
   "source": [
    "learn.save('clas_1')"
   ]
  },
  {
   "cell_type": "code",
   "execution_count": null,
   "metadata": {},
   "outputs": [],
   "source": [
    "learn.load('clas_1')"
   ]
  },
  {
   "cell_type": "code",
   "execution_count": 131,
   "metadata": {
    "colab": {
     "base_uri": "https://localhost:8080/",
     "height": 101
    },
    "colab_type": "code",
    "id": "Uxg3XdBrMWgo",
    "outputId": "de1625d2-ae27-405e-bb14-f725febe016a"
   },
   "outputs": [],
   "source": [
    "learn.unfreeze()"
   ]
  },
  {
   "cell_type": "code",
   "execution_count": 155,
   "metadata": {
    "colab": {
     "base_uri": "https://localhost:8080/",
     "height": 134
    },
    "colab_type": "code",
    "id": "had3dZdLMWgv",
    "outputId": "cfa922b0-2d97-49d9-aa54-bd6de57068ea",
    "scrolled": true
   },
   "outputs": [
    {
     "data": {
      "application/vnd.jupyter.widget-view+json": {
       "model_id": "ec6452633b164d168b35538bb209011d",
       "version_major": 2,
       "version_minor": 0
      },
      "text/plain": [
       "HBox(children=(IntProgress(value=0, description='Epoch', max=3), HTML(value='')))"
      ]
     },
     "metadata": {},
     "output_type": "display_data"
    },
    {
     "name": "stdout",
     "output_type": "stream",
     "text": [
      "epoch      trn_loss   val_loss   accuracy                    \n",
      "    0      0.513662   0.141099   0.9448    \n",
      "    1      0.517169   0.137728   0.9452                      \n",
      "    2      0.499543   0.137621   0.9448                      \n",
      "\n"
     ]
    },
    {
     "data": {
      "text/plain": [
       "[array([0.13762]), 0.9447999915122985]"
      ]
     },
     "execution_count": 155,
     "metadata": {},
     "output_type": "execute_result"
    }
   ],
   "source": [
    "learn.fit(lrs, 1, wds=wd, cycle_len=3, use_clr=(32,10)) # JH uses 14."
   ]
  },
  {
   "cell_type": "code",
   "execution_count": 130,
   "metadata": {
    "colab": {},
    "colab_type": "code",
    "id": "0Rj9tTcYMWgx",
    "scrolled": true
   },
   "outputs": [
    {
     "data": {
      "image/png": "[encoded data removed]",
      "text/plain": [
       "<Figure size 432x288 with 1 Axes>"
      ]
     },
     "metadata": {},
     "output_type": "display_data"
    }
   ],
   "source": [
    "learn.sched.plot_loss()"
   ]
  },
  {
   "cell_type": "code",
   "execution_count": 180,
   "metadata": {},
   "outputs": [],
   "source": [
    "learn.save('clas_2')"
   ]
  },
  {
   "cell_type": "code",
   "execution_count": 24,
   "metadata": {},
   "outputs": [],
   "source": [
    "learn.load('clas_2')"
   ]
  },
  {
   "cell_type": "markdown",
   "metadata": {},
   "source": [
    "## using different pred apparatus"
   ]
  },
  {
   "cell_type": "code",
   "execution_count": 25,
   "metadata": {
    "scrolled": true
   },
   "outputs": [
    {
     "data": {
      "text/plain": [
       "SequentialRNN(\n",
       "  (0): MultiBatchRNN(\n",
       "    (encoder): Embedding(52315, 400, padding_idx=1)\n",
       "    (encoder_with_dropout): EmbeddingDropout(\n",
       "      (embed): Embedding(52315, 400, padding_idx=1)\n",
       "    )\n",
       "    (rnns): ModuleList(\n",
       "      (0): WeightDrop(\n",
       "        (module): LSTM(400, 1150)\n",
       "      )\n",
       "      (1): WeightDrop(\n",
       "        (module): LSTM(1150, 1150)\n",
       "      )\n",
       "      (2): WeightDrop(\n",
       "        (module): LSTM(1150, 400)\n",
       "      )\n",
       "    )\n",
       "    (dropouti): LockedDropout(\n",
       "    )\n",
       "    (dropouths): ModuleList(\n",
       "      (0): LockedDropout(\n",
       "      )\n",
       "      (1): LockedDropout(\n",
       "      )\n",
       "      (2): LockedDropout(\n",
       "      )\n",
       "    )\n",
       "  )\n",
       "  (1): PoolingLinearClassifier(\n",
       "    (layers): ModuleList(\n",
       "      (0): LinearBlock(\n",
       "        (lin): Linear(in_features=1200, out_features=50, bias=True)\n",
       "        (drop): Dropout(p=0.6000000000000001)\n",
       "        (bn): BatchNorm1d(1200, eps=1e-05, momentum=0.1, affine=True)\n",
       "      )\n",
       "      (1): LinearBlock(\n",
       "        (lin): Linear(in_features=50, out_features=2, bias=True)\n",
       "        (drop): Dropout(p=0.1)\n",
       "        (bn): BatchNorm1d(50, eps=1e-05, momentum=0.1, affine=True)\n",
       "      )\n",
       "    )\n",
       "  )\n",
       ")"
      ]
     },
     "execution_count": 25,
     "metadata": {},
     "output_type": "execute_result"
    }
   ],
   "source": [
    "model = learn.model\n",
    "model.reset()\n",
    "model.eval()"
   ]
  },
  {
   "cell_type": "code",
   "execution_count": 40,
   "metadata": {
    "scrolled": true
   },
   "outputs": [],
   "source": [
    "model.reset()\n",
    "model.eval()\n",
    "\n",
    "probs = []\n",
    "LEN = len(test_clas)\n",
    "\n",
    "for i in range(LEN):\n",
    "    test_txt = test_clas[i]; #print(test_df.text.iloc[i])\n",
    "\n",
    "    ary = np.reshape(np.array(test_txt),(-1,1))\n",
    "\n",
    "    # turn this array into a tensor\n",
    "    tensor = torch.LongTensor(ary)\n",
    "\n",
    "    # wrap in a torch Variable\n",
    "    variable = Variable(tensor).cuda()\n",
    "\n",
    "    # do the predictions\n",
    "    predictions = model(variable)\n",
    "\n",
    "    # convert back to numpy\n",
    "    numpy_preds = predictions[0].data.cpu().numpy()\n",
    "\n",
    "    prob = softmax(numpy_preds[0])[0]; \n",
    "    \n",
    "    probs.append(prob)"
   ]
  },
  {
   "cell_type": "code",
   "execution_count": 41,
   "metadata": {},
   "outputs": [
    {
     "name": "stderr",
     "output_type": "stream",
     "text": [
      "/home/ubuntu/anaconda3/envs/fastai/lib/python3.6/site-packages/ipykernel_launcher.py:1: SettingWithCopyWarning: \n",
      "A value is trying to be set on a copy of a slice from a DataFrame.\n",
      "Try using .loc[row_indexer,col_indexer] = value instead\n",
      "\n",
      "See the caveats in the documentation: http://pandas.pydata.org/pandas-docs/stable/indexing.html#indexing-view-versus-copy\n",
      "  \"\"\"Entry point for launching an IPython kernel.\n"
     ]
    },
    {
     "data": {
      "text/html": [
       "<div>\n",
       "<style scoped>\n",
       "    .dataframe tbody tr th:only-of-type {\n",
       "        vertical-align: middle;\n",
       "    }\n",
       "\n",
       "    .dataframe tbody tr th {\n",
       "        vertical-align: top;\n",
       "    }\n",
       "\n",
       "    .dataframe thead th {\n",
       "        text-align: right;\n",
       "    }\n",
       "</style>\n",
       "<table border=\"1\" class=\"dataframe\">\n",
       "  <thead>\n",
       "    <tr style=\"text-align: right;\">\n",
       "      <th></th>\n",
       "      <th>Unnamed: 0</th>\n",
       "      <th>dataset</th>\n",
       "      <th>id</th>\n",
       "      <th>labels</th>\n",
       "      <th>text</th>\n",
       "      <th>tokenized_text</th>\n",
       "      <th>numerized_tokens</th>\n",
       "    </tr>\n",
       "  </thead>\n",
       "  <tbody>\n",
       "    <tr>\n",
       "      <th>25000</th>\n",
       "      <td>0</td>\n",
       "      <td>test</td>\n",
       "      <td>98481</td>\n",
       "      <td>0.861524</td>\n",
       "      <td>Bud Abbott and Lou Costello always had a good ...</td>\n",
       "      <td>['\\n', 'xbos', 'xfld', '1', '98481', 'xfld', '...</td>\n",
       "      <td>[42, 43, 14, 18, 0, 14, 18, 68, 14, 39, 5284, ...</td>\n",
       "    </tr>\n",
       "    <tr>\n",
       "      <th>25001</th>\n",
       "      <td>1</td>\n",
       "      <td>test</td>\n",
       "      <td>88606</td>\n",
       "      <td>0.856081</td>\n",
       "      <td>This film is not your typical Hollywood fare, ...</td>\n",
       "      <td>['\\n', 'xbos', 'xfld', '1', '88606', 'xfld', '...</td>\n",
       "      <td>[42, 43, 14, 18, 0, 14, 18, 68, 14, 39, 13, 27...</td>\n",
       "    </tr>\n",
       "    <tr>\n",
       "      <th>25002</th>\n",
       "      <td>2</td>\n",
       "      <td>test</td>\n",
       "      <td>88639</td>\n",
       "      <td>0.908245</td>\n",
       "      <td>Henry Thomas, and Robin Tunny, are a couple of...</td>\n",
       "      <td>['\\n', 'xbos', 'xfld', '1', '88639', 'xfld', '...</td>\n",
       "      <td>[42, 43, 14, 18, 0, 14, 18, 68, 14, 39, 1636, ...</td>\n",
       "    </tr>\n",
       "    <tr>\n",
       "      <th>25003</th>\n",
       "      <td>3</td>\n",
       "      <td>test</td>\n",
       "      <td>76170</td>\n",
       "      <td>0.066361</td>\n",
       "      <td>This digital horror film brings us into the Mi...</td>\n",
       "      <td>['\\n', 'xbos', 'xfld', '1', '76170', 'xfld', '...</td>\n",
       "      <td>[42, 43, 14, 18, 0, 14, 18, 68, 14, 39, 13, 36...</td>\n",
       "    </tr>\n",
       "    <tr>\n",
       "      <th>25004</th>\n",
       "      <td>4</td>\n",
       "      <td>test</td>\n",
       "      <td>81803</td>\n",
       "      <td>0.007510</td>\n",
       "      <td>I just saw this on a local independent station...</td>\n",
       "      <td>['\\n', 'xbos', 'xfld', '1', '81803', 'xfld', '...</td>\n",
       "      <td>[42, 43, 14, 18, 0, 14, 18, 68, 14, 39, 12, 56...</td>\n",
       "    </tr>\n",
       "    <tr>\n",
       "      <th>25005</th>\n",
       "      <td>5</td>\n",
       "      <td>test</td>\n",
       "      <td>93371</td>\n",
       "      <td>0.999545</td>\n",
       "      <td>Those wishing to see film noir remakes, should...</td>\n",
       "      <td>['\\n', 'xbos', 'xfld', '1', '93371', 'xfld', '...</td>\n",
       "      <td>[42, 43, 14, 18, 0, 14, 18, 68, 14, 39, 167, 4...</td>\n",
       "    </tr>\n",
       "    <tr>\n",
       "      <th>25006</th>\n",
       "      <td>6</td>\n",
       "      <td>test</td>\n",
       "      <td>87360</td>\n",
       "      <td>0.002328</td>\n",
       "      <td>I never read the book. Now I don't really want...</td>\n",
       "      <td>['\\n', 'xbos', 'xfld', '1', '87360', 'xfld', '...</td>\n",
       "      <td>[42, 43, 14, 18, 0, 14, 18, 68, 14, 39, 12, 13...</td>\n",
       "    </tr>\n",
       "    <tr>\n",
       "      <th>25007</th>\n",
       "      <td>7</td>\n",
       "      <td>test</td>\n",
       "      <td>88547</td>\n",
       "      <td>0.732679</td>\n",
       "      <td>I think that there was too much action in the ...</td>\n",
       "      <td>['\\n', 'xbos', 'xfld', '1', '88547', 'xfld', '...</td>\n",
       "      <td>[42, 43, 14, 18, 0, 14, 18, 68, 14, 39, 12, 12...</td>\n",
       "    </tr>\n",
       "    <tr>\n",
       "      <th>25008</th>\n",
       "      <td>8</td>\n",
       "      <td>test</td>\n",
       "      <td>88215</td>\n",
       "      <td>0.936093</td>\n",
       "      <td>Have wanted to see this for a while: I never t...</td>\n",
       "      <td>['\\n', 'xbos', 'xfld', '1', '88215', 'xfld', '...</td>\n",
       "      <td>[42, 43, 14, 18, 0, 14, 18, 68, 14, 39, 38, 48...</td>\n",
       "    </tr>\n",
       "    <tr>\n",
       "      <th>25009</th>\n",
       "      <td>9</td>\n",
       "      <td>test</td>\n",
       "      <td>96187</td>\n",
       "      <td>0.974977</td>\n",
       "      <td>This is an interesting, hard to find movie fro...</td>\n",
       "      <td>['\\n', 'xbos', 'xfld', '1', '96187', 'xfld', '...</td>\n",
       "      <td>[42, 43, 14, 18, 0, 14, 18, 68, 14, 39, 13, 9,...</td>\n",
       "    </tr>\n",
       "    <tr>\n",
       "      <th>25010</th>\n",
       "      <td>10</td>\n",
       "      <td>test</td>\n",
       "      <td>81251</td>\n",
       "      <td>0.038988</td>\n",
       "      <td>Well, the Hero and the Terror is slightly belo...</td>\n",
       "      <td>['\\n', 'xbos', 'xfld', '1', '81251', 'xfld', '...</td>\n",
       "      <td>[42, 43, 14, 18, 0, 14, 18, 68, 14, 39, 91, 4,...</td>\n",
       "    </tr>\n",
       "    <tr>\n",
       "      <th>25011</th>\n",
       "      <td>11</td>\n",
       "      <td>test</td>\n",
       "      <td>98086</td>\n",
       "      <td>0.999673</td>\n",
       "      <td>I have been an avid chipmunk fan since the lat...</td>\n",
       "      <td>['\\n', 'xbos', 'xfld', '1', '98086', 'xfld', '...</td>\n",
       "      <td>[42, 43, 14, 18, 0, 14, 18, 68, 14, 39, 12, 38...</td>\n",
       "    </tr>\n",
       "    <tr>\n",
       "      <th>25012</th>\n",
       "      <td>12</td>\n",
       "      <td>test</td>\n",
       "      <td>79688</td>\n",
       "      <td>0.016312</td>\n",
       "      <td>42/100. Often referred as \"Tarzan with clothes...</td>\n",
       "      <td>['\\n', 'xbos', 'xfld', '1', '79688', 'xfld', '...</td>\n",
       "      <td>[42, 43, 14, 18, 0, 14, 18, 68, 14, 39, 12066,...</td>\n",
       "    </tr>\n",
       "    <tr>\n",
       "      <th>25013</th>\n",
       "      <td>13</td>\n",
       "      <td>test</td>\n",
       "      <td>90580</td>\n",
       "      <td>0.938153</td>\n",
       "      <td>I caught this movie late one night and never k...</td>\n",
       "      <td>['\\n', 'xbos', 'xfld', '1', '90580', 'xfld', '...</td>\n",
       "      <td>[42, 43, 14, 18, 0, 14, 18, 68, 14, 39, 12, 10...</td>\n",
       "    </tr>\n",
       "    <tr>\n",
       "      <th>25014</th>\n",
       "      <td>14</td>\n",
       "      <td>test</td>\n",
       "      <td>86756</td>\n",
       "      <td>0.002146</td>\n",
       "      <td>Tyrone Power was cast in the lead as Solomon. ...</td>\n",
       "      <td>['\\n', 'xbos', 'xfld', '1', '86756', 'xfld', '...</td>\n",
       "      <td>[42, 43, 14, 18, 0, 14, 18, 68, 14, 39, 12081,...</td>\n",
       "    </tr>\n",
       "    <tr>\n",
       "      <th>25015</th>\n",
       "      <td>15</td>\n",
       "      <td>test</td>\n",
       "      <td>77906</td>\n",
       "      <td>0.010963</td>\n",
       "      <td>This is one of those religious horror films wh...</td>\n",
       "      <td>['\\n', 'xbos', 'xfld', '1', '77906', 'xfld', '...</td>\n",
       "      <td>[42, 43, 14, 18, 0, 14, 18, 68, 14, 39, 13, 9,...</td>\n",
       "    </tr>\n",
       "    <tr>\n",
       "      <th>25016</th>\n",
       "      <td>16</td>\n",
       "      <td>test</td>\n",
       "      <td>95742</td>\n",
       "      <td>0.984693</td>\n",
       "      <td>Being advertised as the most expensive movie e...</td>\n",
       "      <td>['\\n', 'xbos', 'xfld', '1', '95742', 'xfld', '...</td>\n",
       "      <td>[42, 43, 14, 18, 0, 14, 18, 68, 14, 39, 131, 6...</td>\n",
       "    </tr>\n",
       "    <tr>\n",
       "      <th>25017</th>\n",
       "      <td>17</td>\n",
       "      <td>test</td>\n",
       "      <td>77455</td>\n",
       "      <td>0.001599</td>\n",
       "      <td>The Jaws rip off is the trashiest of the all t...</td>\n",
       "      <td>['\\n', 'xbos', 'xfld', '1', '77455', 'xfld', '...</td>\n",
       "      <td>[42, 43, 14, 18, 0, 14, 18, 68, 14, 39, 2, 454...</td>\n",
       "    </tr>\n",
       "    <tr>\n",
       "      <th>25018</th>\n",
       "      <td>18</td>\n",
       "      <td>test</td>\n",
       "      <td>76454</td>\n",
       "      <td>0.002289</td>\n",
       "      <td>After seeing this film I felt sick to my stoma...</td>\n",
       "      <td>['\\n', 'xbos', 'xfld', '1', '76454', 'xfld', '...</td>\n",
       "      <td>[42, 43, 14, 18, 0, 14, 18, 68, 14, 39, 121, 3...</td>\n",
       "    </tr>\n",
       "    <tr>\n",
       "      <th>25019</th>\n",
       "      <td>19</td>\n",
       "      <td>test</td>\n",
       "      <td>92650</td>\n",
       "      <td>0.999220</td>\n",
       "      <td>I first saw this mini-series as a child and th...</td>\n",
       "      <td>['\\n', 'xbos', 'xfld', '1', '92650', 'xfld', '...</td>\n",
       "      <td>[42, 43, 14, 18, 0, 14, 18, 68, 14, 39, 12, 10...</td>\n",
       "    </tr>\n",
       "    <tr>\n",
       "      <th>25020</th>\n",
       "      <td>20</td>\n",
       "      <td>test</td>\n",
       "      <td>98042</td>\n",
       "      <td>0.998681</td>\n",
       "      <td>The beautiful, charming, supremely versatile a...</td>\n",
       "      <td>['\\n', 'xbos', 'xfld', '1', '98042', 'xfld', '...</td>\n",
       "      <td>[42, 43, 14, 18, 0, 14, 18, 68, 14, 39, 2, 333...</td>\n",
       "    </tr>\n",
       "    <tr>\n",
       "      <th>25021</th>\n",
       "      <td>21</td>\n",
       "      <td>test</td>\n",
       "      <td>81107</td>\n",
       "      <td>0.005361</td>\n",
       "      <td>Everyone I know loves this movie, but I am afr...</td>\n",
       "      <td>['\\n', 'xbos', 'xfld', '1', '81107', 'xfld', '...</td>\n",
       "      <td>[42, 43, 14, 18, 0, 14, 18, 68, 14, 39, 316, 1...</td>\n",
       "    </tr>\n",
       "    <tr>\n",
       "      <th>25022</th>\n",
       "      <td>22</td>\n",
       "      <td>test</td>\n",
       "      <td>83839</td>\n",
       "      <td>0.747667</td>\n",
       "      <td>CORRIDORS OF BLOOD &lt;br /&gt;&lt;br /&gt;Aspect ratio: 1...</td>\n",
       "      <td>['\\n', 'xbos', 'xfld', '1', '83839', 'xfld', '...</td>\n",
       "      <td>[42, 43, 14, 18, 0, 14, 18, 68, 14, 39, 33, 92...</td>\n",
       "    </tr>\n",
       "    <tr>\n",
       "      <th>25023</th>\n",
       "      <td>23</td>\n",
       "      <td>test</td>\n",
       "      <td>87324</td>\n",
       "      <td>0.005912</td>\n",
       "      <td>If this movie had been directed by a man, he w...</td>\n",
       "      <td>['\\n', 'xbos', 'xfld', '1', '87324', 'xfld', '...</td>\n",
       "      <td>[42, 43, 14, 18, 0, 14, 18, 68, 14, 39, 62, 13...</td>\n",
       "    </tr>\n",
       "    <tr>\n",
       "      <th>25024</th>\n",
       "      <td>24</td>\n",
       "      <td>test</td>\n",
       "      <td>84526</td>\n",
       "      <td>0.002335</td>\n",
       "      <td>I like Kevin Bacon and Cathy Moriarty, and I l...</td>\n",
       "      <td>['\\n', 'xbos', 'xfld', '1', '84526', 'xfld', '...</td>\n",
       "      <td>[42, 43, 14, 18, 0, 14, 18, 68, 14, 39, 12, 53...</td>\n",
       "    </tr>\n",
       "    <tr>\n",
       "      <th>25025</th>\n",
       "      <td>25</td>\n",
       "      <td>test</td>\n",
       "      <td>93868</td>\n",
       "      <td>0.985835</td>\n",
       "      <td>Passion In The Desert exemplifies spatial gran...</td>\n",
       "      <td>['\\n', 'xbos', 'xfld', '1', '93868', 'xfld', '...</td>\n",
       "      <td>[42, 43, 14, 18, 0, 14, 18, 68, 14, 39, 1649, ...</td>\n",
       "    </tr>\n",
       "    <tr>\n",
       "      <th>25026</th>\n",
       "      <td>26</td>\n",
       "      <td>test</td>\n",
       "      <td>88605</td>\n",
       "      <td>0.991546</td>\n",
       "      <td>I would recommend this film to anyone who is s...</td>\n",
       "      <td>['\\n', 'xbos', 'xfld', '1', '88605', 'xfld', '...</td>\n",
       "      <td>[42, 43, 14, 18, 0, 14, 18, 68, 14, 39, 12, 73...</td>\n",
       "    </tr>\n",
       "    <tr>\n",
       "      <th>25027</th>\n",
       "      <td>27</td>\n",
       "      <td>test</td>\n",
       "      <td>84436</td>\n",
       "      <td>0.001227</td>\n",
       "      <td>No budget direct to video tale of aliens in Ar...</td>\n",
       "      <td>['\\n', 'xbos', 'xfld', '1', '84436', 'xfld', '...</td>\n",
       "      <td>[42, 43, 14, 18, 0, 14, 18, 68, 14, 39, 75, 35...</td>\n",
       "    </tr>\n",
       "    <tr>\n",
       "      <th>25028</th>\n",
       "      <td>28</td>\n",
       "      <td>test</td>\n",
       "      <td>91698</td>\n",
       "      <td>0.757044</td>\n",
       "      <td>Film about the failure of government and the s...</td>\n",
       "      <td>['\\n', 'xbos', 'xfld', '1', '91698', 'xfld', '...</td>\n",
       "      <td>[42, 43, 14, 18, 0, 14, 18, 68, 14, 39, 27, 60...</td>\n",
       "    </tr>\n",
       "    <tr>\n",
       "      <th>25029</th>\n",
       "      <td>29</td>\n",
       "      <td>test</td>\n",
       "      <td>82413</td>\n",
       "      <td>0.037486</td>\n",
       "      <td>I bought this movie for a couple of dollars at...</td>\n",
       "      <td>['\\n', 'xbos', 'xfld', '1', '82413', 'xfld', '...</td>\n",
       "      <td>[42, 43, 14, 18, 0, 14, 18, 68, 14, 39, 12, 12...</td>\n",
       "    </tr>\n",
       "    <tr>\n",
       "      <th>...</th>\n",
       "      <td>...</td>\n",
       "      <td>...</td>\n",
       "      <td>...</td>\n",
       "      <td>...</td>\n",
       "      <td>...</td>\n",
       "      <td>...</td>\n",
       "      <td>...</td>\n",
       "    </tr>\n",
       "    <tr>\n",
       "      <th>25470</th>\n",
       "      <td>470</td>\n",
       "      <td>test</td>\n",
       "      <td>76042</td>\n",
       "      <td>0.001042</td>\n",
       "      <td>You may not believe this, but when the credits...</td>\n",
       "      <td>['\\n', 'xbos', 'xfld', '1', '76042', 'xfld', '...</td>\n",
       "      <td>[42, 43, 14, 18, 0, 14, 18, 68, 14, 39, 28, 22...</td>\n",
       "    </tr>\n",
       "    <tr>\n",
       "      <th>25471</th>\n",
       "      <td>471</td>\n",
       "      <td>test</td>\n",
       "      <td>75985</td>\n",
       "      <td>0.003930</td>\n",
       "      <td>This movie has to rank with \"Welcome to the Ju...</td>\n",
       "      <td>['\\n', 'xbos', 'xfld', '1', '75985', 'xfld', '...</td>\n",
       "      <td>[42, 43, 14, 18, 0, 14, 18, 68, 14, 39, 13, 23...</td>\n",
       "    </tr>\n",
       "    <tr>\n",
       "      <th>25472</th>\n",
       "      <td>472</td>\n",
       "      <td>test</td>\n",
       "      <td>79137</td>\n",
       "      <td>0.028353</td>\n",
       "      <td>No, *Hitch* is decidedly NOT a romantic-comedy...</td>\n",
       "      <td>['\\n', 'xbos', 'xfld', '1', '79137', 'xfld', '...</td>\n",
       "      <td>[42, 43, 14, 18, 0, 14, 18, 68, 14, 39, 75, 4,...</td>\n",
       "    </tr>\n",
       "    <tr>\n",
       "      <th>25473</th>\n",
       "      <td>473</td>\n",
       "      <td>test</td>\n",
       "      <td>88508</td>\n",
       "      <td>0.980741</td>\n",
       "      <td>The first, and far better, of Kevin Kline's tw...</td>\n",
       "      <td>['\\n', 'xbos', 'xfld', '1', '88508', 'xfld', '...</td>\n",
       "      <td>[42, 43, 14, 18, 0, 14, 18, 68, 14, 39, 2, 109...</td>\n",
       "    </tr>\n",
       "    <tr>\n",
       "      <th>25474</th>\n",
       "      <td>474</td>\n",
       "      <td>test</td>\n",
       "      <td>85297</td>\n",
       "      <td>0.085712</td>\n",
       "      <td>Thomas Hardy is one of my favorite authors. So...</td>\n",
       "      <td>['\\n', 'xbos', 'xfld', '1', '85297', 'xfld', '...</td>\n",
       "      <td>[42, 43, 14, 18, 0, 14, 18, 68, 14, 39, 1661, ...</td>\n",
       "    </tr>\n",
       "    <tr>\n",
       "      <th>25475</th>\n",
       "      <td>475</td>\n",
       "      <td>test</td>\n",
       "      <td>75767</td>\n",
       "      <td>0.011432</td>\n",
       "      <td>never before have i seen such a tale of such t...</td>\n",
       "      <td>['\\n', 'xbos', 'xfld', '1', '75767', 'xfld', '...</td>\n",
       "      <td>[42, 43, 14, 18, 0, 14, 18, 68, 14, 39, 133, 1...</td>\n",
       "    </tr>\n",
       "    <tr>\n",
       "      <th>25476</th>\n",
       "      <td>476</td>\n",
       "      <td>test</td>\n",
       "      <td>96277</td>\n",
       "      <td>0.986423</td>\n",
       "      <td>I really enjoyed this Minghella epic, thought ...</td>\n",
       "      <td>['\\n', 'xbos', 'xfld', '1', '96277', 'xfld', '...</td>\n",
       "      <td>[42, 43, 14, 18, 0, 14, 18, 68, 14, 39, 12, 82...</td>\n",
       "    </tr>\n",
       "    <tr>\n",
       "      <th>25477</th>\n",
       "      <td>477</td>\n",
       "      <td>test</td>\n",
       "      <td>91122</td>\n",
       "      <td>0.957721</td>\n",
       "      <td>I had long wanted to watch this romantic drama...</td>\n",
       "      <td>['\\n', 'xbos', 'xfld', '1', '91122', 'xfld', '...</td>\n",
       "      <td>[42, 43, 14, 18, 0, 14, 18, 68, 14, 39, 12, 86...</td>\n",
       "    </tr>\n",
       "    <tr>\n",
       "      <th>25478</th>\n",
       "      <td>478</td>\n",
       "      <td>test</td>\n",
       "      <td>91143</td>\n",
       "      <td>0.666835</td>\n",
       "      <td>What to say about a movie like Rock Star? A lo...</td>\n",
       "      <td>['\\n', 'xbos', 'xfld', '1', '91143', 'xfld', '...</td>\n",
       "      <td>[42, 43, 14, 18, 0, 14, 18, 68, 14, 39, 64, 8,...</td>\n",
       "    </tr>\n",
       "    <tr>\n",
       "      <th>25479</th>\n",
       "      <td>479</td>\n",
       "      <td>test</td>\n",
       "      <td>76134</td>\n",
       "      <td>0.009788</td>\n",
       "      <td>After seeing the TV commercials for this film ...</td>\n",
       "      <td>['\\n', 'xbos', 'xfld', '1', '76134', 'xfld', '...</td>\n",
       "      <td>[42, 43, 14, 18, 0, 14, 18, 68, 14, 39, 121, 3...</td>\n",
       "    </tr>\n",
       "    <tr>\n",
       "      <th>25480</th>\n",
       "      <td>480</td>\n",
       "      <td>test</td>\n",
       "      <td>98870</td>\n",
       "      <td>0.999570</td>\n",
       "      <td>Peter Lorre turns in one of his finest perform...</td>\n",
       "      <td>['\\n', 'xbos', 'xfld', '1', '98870', 'xfld', '...</td>\n",
       "      <td>[42, 43, 14, 18, 0, 14, 18, 68, 14, 39, 813, 7...</td>\n",
       "    </tr>\n",
       "    <tr>\n",
       "      <th>25481</th>\n",
       "      <td>481</td>\n",
       "      <td>test</td>\n",
       "      <td>85397</td>\n",
       "      <td>0.003792</td>\n",
       "      <td>No spoiler needed to steer you clear of this.....</td>\n",
       "      <td>['\\n', 'xbos', 'xfld', '1', '85397', 'xfld', '...</td>\n",
       "      <td>[42, 43, 14, 18, 0, 14, 18, 68, 14, 39, 75, 13...</td>\n",
       "    </tr>\n",
       "    <tr>\n",
       "      <th>25482</th>\n",
       "      <td>482</td>\n",
       "      <td>test</td>\n",
       "      <td>92781</td>\n",
       "      <td>0.982929</td>\n",
       "      <td>Sacha Baron Cohen is a genius. And this movie ...</td>\n",
       "      <td>['\\n', 'xbos', 'xfld', '1', '92781', 'xfld', '...</td>\n",
       "      <td>[42, 43, 14, 18, 0, 14, 18, 68, 14, 39, 22145,...</td>\n",
       "    </tr>\n",
       "    <tr>\n",
       "      <th>25483</th>\n",
       "      <td>483</td>\n",
       "      <td>test</td>\n",
       "      <td>83306</td>\n",
       "      <td>0.075484</td>\n",
       "      <td>This is a new approach to comedy. It isn't fun...</td>\n",
       "      <td>['\\n', 'xbos', 'xfld', '1', '83306', 'xfld', '...</td>\n",
       "      <td>[42, 43, 14, 18, 0, 14, 18, 68, 14, 39, 13, 9,...</td>\n",
       "    </tr>\n",
       "    <tr>\n",
       "      <th>25484</th>\n",
       "      <td>484</td>\n",
       "      <td>test</td>\n",
       "      <td>80803</td>\n",
       "      <td>0.115318</td>\n",
       "      <td>...in a TV-movie 70's kind of way. It's one of...</td>\n",
       "      <td>['\\n', 'xbos', 'xfld', '1', '80803', 'xfld', '...</td>\n",
       "      <td>[42, 43, 14, 18, 0, 14, 18, 68, 14, 39, 93, 11...</td>\n",
       "    </tr>\n",
       "    <tr>\n",
       "      <th>25485</th>\n",
       "      <td>485</td>\n",
       "      <td>test</td>\n",
       "      <td>91386</td>\n",
       "      <td>0.673554</td>\n",
       "      <td>Before you watch this movie - clean your ears,...</td>\n",
       "      <td>['\\n', 'xbos', 'xfld', '1', '91386', 'xfld', '...</td>\n",
       "      <td>[42, 43, 14, 18, 0, 14, 18, 68, 14, 39, 180, 2...</td>\n",
       "    </tr>\n",
       "    <tr>\n",
       "      <th>25486</th>\n",
       "      <td>486</td>\n",
       "      <td>test</td>\n",
       "      <td>99850</td>\n",
       "      <td>0.999509</td>\n",
       "      <td>I personally LOVE this film amidst the Hallowe...</td>\n",
       "      <td>['\\n', 'xbos', 'xfld', '1', '99850', 'xfld', '...</td>\n",
       "      <td>[42, 43, 14, 18, 0, 14, 18, 68, 14, 39, 12, 12...</td>\n",
       "    </tr>\n",
       "    <tr>\n",
       "      <th>25487</th>\n",
       "      <td>487</td>\n",
       "      <td>test</td>\n",
       "      <td>89095</td>\n",
       "      <td>0.967033</td>\n",
       "      <td>This is a wonderful new movie currently still ...</td>\n",
       "      <td>['\\n', 'xbos', 'xfld', '1', '89095', 'xfld', '...</td>\n",
       "      <td>[42, 43, 14, 18, 0, 14, 18, 68, 14, 39, 13, 9,...</td>\n",
       "    </tr>\n",
       "    <tr>\n",
       "      <th>25488</th>\n",
       "      <td>488</td>\n",
       "      <td>test</td>\n",
       "      <td>80272</td>\n",
       "      <td>0.187558</td>\n",
       "      <td>Through its 2-hour running length, Crash chart...</td>\n",
       "      <td>['\\n', 'xbos', 'xfld', '1', '80272', 'xfld', '...</td>\n",
       "      <td>[42, 43, 14, 18, 0, 14, 18, 68, 14, 39, 164, 1...</td>\n",
       "    </tr>\n",
       "    <tr>\n",
       "      <th>25489</th>\n",
       "      <td>489</td>\n",
       "      <td>test</td>\n",
       "      <td>84021</td>\n",
       "      <td>0.005871</td>\n",
       "      <td>There really is very little positive that can ...</td>\n",
       "      <td>['\\n', 'xbos', 'xfld', '1', '84021', 'xfld', '...</td>\n",
       "      <td>[42, 43, 14, 18, 0, 14, 18, 68, 14, 39, 54, 82...</td>\n",
       "    </tr>\n",
       "    <tr>\n",
       "      <th>25490</th>\n",
       "      <td>490</td>\n",
       "      <td>test</td>\n",
       "      <td>96836</td>\n",
       "      <td>0.977947</td>\n",
       "      <td>It's always a pleasure to see characters in a ...</td>\n",
       "      <td>['\\n', 'xbos', 'xfld', '1', '96836', 'xfld', '...</td>\n",
       "      <td>[42, 43, 14, 18, 0, 14, 18, 68, 14, 39, 10, 17...</td>\n",
       "    </tr>\n",
       "    <tr>\n",
       "      <th>25491</th>\n",
       "      <td>491</td>\n",
       "      <td>test</td>\n",
       "      <td>91120</td>\n",
       "      <td>0.999296</td>\n",
       "      <td>This young filmmaker has a talent for capturin...</td>\n",
       "      <td>['\\n', 'xbos', 'xfld', '1', '91120', 'xfld', '...</td>\n",
       "      <td>[42, 43, 14, 18, 0, 14, 18, 68, 14, 39, 13, 21...</td>\n",
       "    </tr>\n",
       "    <tr>\n",
       "      <th>25492</th>\n",
       "      <td>492</td>\n",
       "      <td>test</td>\n",
       "      <td>90712</td>\n",
       "      <td>0.997958</td>\n",
       "      <td>This was truly a tense and dark episode. Excel...</td>\n",
       "      <td>['\\n', 'xbos', 'xfld', '1', '90712', 'xfld', '...</td>\n",
       "      <td>[42, 43, 14, 18, 0, 14, 18, 68, 14, 39, 13, 20...</td>\n",
       "    </tr>\n",
       "    <tr>\n",
       "      <th>25493</th>\n",
       "      <td>493</td>\n",
       "      <td>test</td>\n",
       "      <td>85722</td>\n",
       "      <td>0.030087</td>\n",
       "      <td>I really wanted to like this film, especially ...</td>\n",
       "      <td>['\\n', 'xbos', 'xfld', '1', '85722', 'xfld', '...</td>\n",
       "      <td>[42, 43, 14, 18, 0, 14, 18, 68, 14, 39, 12, 82...</td>\n",
       "    </tr>\n",
       "    <tr>\n",
       "      <th>25494</th>\n",
       "      <td>494</td>\n",
       "      <td>test</td>\n",
       "      <td>98654</td>\n",
       "      <td>0.986472</td>\n",
       "      <td>Hitchcock made at least 11 films about the ord...</td>\n",
       "      <td>['\\n', 'xbos', 'xfld', '1', '98654', 'xfld', '...</td>\n",
       "      <td>[42, 43, 14, 18, 0, 14, 18, 68, 14, 39, 1465, ...</td>\n",
       "    </tr>\n",
       "    <tr>\n",
       "      <th>25495</th>\n",
       "      <td>495</td>\n",
       "      <td>test</td>\n",
       "      <td>86034</td>\n",
       "      <td>0.013636</td>\n",
       "      <td>&lt;br /&gt;&lt;br /&gt;Very dull, laborious adaptation of...</td>\n",
       "      <td>['\\n', 'xbos', 'xfld', '1', '86034', 'xfld', '...</td>\n",
       "      <td>[42, 43, 14, 18, 0, 14, 18, 68, 14, 39, 21, 71...</td>\n",
       "    </tr>\n",
       "    <tr>\n",
       "      <th>25496</th>\n",
       "      <td>496</td>\n",
       "      <td>test</td>\n",
       "      <td>95350</td>\n",
       "      <td>0.996393</td>\n",
       "      <td>real love. true love. mad love. beautiful love...</td>\n",
       "      <td>['\\n', 'xbos', 'xfld', '1', '95350', 'xfld', '...</td>\n",
       "      <td>[42, 43, 14, 18, 0, 14, 18, 68, 14, 39, 166, 1...</td>\n",
       "    </tr>\n",
       "    <tr>\n",
       "      <th>25497</th>\n",
       "      <td>497</td>\n",
       "      <td>test</td>\n",
       "      <td>88584</td>\n",
       "      <td>0.971911</td>\n",
       "      <td>Its a feel-good movie that made me feel good. ...</td>\n",
       "      <td>['\\n', 'xbos', 'xfld', '1', '88584', 'xfld', '...</td>\n",
       "      <td>[42, 43, 14, 18, 0, 14, 18, 68, 14, 39, 113, 6...</td>\n",
       "    </tr>\n",
       "    <tr>\n",
       "      <th>25498</th>\n",
       "      <td>498</td>\n",
       "      <td>test</td>\n",
       "      <td>82217</td>\n",
       "      <td>0.011830</td>\n",
       "      <td>Christopher Lambert attracted me to this movie...</td>\n",
       "      <td>['\\n', 'xbos', 'xfld', '1', '82217', 'xfld', '...</td>\n",
       "      <td>[42, 43, 14, 18, 0, 14, 18, 68, 14, 39, 1472, ...</td>\n",
       "    </tr>\n",
       "    <tr>\n",
       "      <th>25499</th>\n",
       "      <td>499</td>\n",
       "      <td>test</td>\n",
       "      <td>92141</td>\n",
       "      <td>0.509379</td>\n",
       "      <td>La Petit Tourette is a pretty funny South Park...</td>\n",
       "      <td>['\\n', 'xbos', 'xfld', '1', '92141', 'xfld', '...</td>\n",
       "      <td>[42, 43, 14, 18, 0, 14, 18, 68, 14, 39, 1110, ...</td>\n",
       "    </tr>\n",
       "  </tbody>\n",
       "</table>\n",
       "<p>500 rows × 7 columns</p>\n",
       "</div>"
      ],
      "text/plain": [
       "       Unnamed: 0 dataset     id    labels  \\\n",
       "25000           0    test  98481  0.861524   \n",
       "25001           1    test  88606  0.856081   \n",
       "25002           2    test  88639  0.908245   \n",
       "25003           3    test  76170  0.066361   \n",
       "25004           4    test  81803  0.007510   \n",
       "25005           5    test  93371  0.999545   \n",
       "25006           6    test  87360  0.002328   \n",
       "25007           7    test  88547  0.732679   \n",
       "25008           8    test  88215  0.936093   \n",
       "25009           9    test  96187  0.974977   \n",
       "25010          10    test  81251  0.038988   \n",
       "25011          11    test  98086  0.999673   \n",
       "25012          12    test  79688  0.016312   \n",
       "25013          13    test  90580  0.938153   \n",
       "25014          14    test  86756  0.002146   \n",
       "25015          15    test  77906  0.010963   \n",
       "25016          16    test  95742  0.984693   \n",
       "25017          17    test  77455  0.001599   \n",
       "25018          18    test  76454  0.002289   \n",
       "25019          19    test  92650  0.999220   \n",
       "25020          20    test  98042  0.998681   \n",
       "25021          21    test  81107  0.005361   \n",
       "25022          22    test  83839  0.747667   \n",
       "25023          23    test  87324  0.005912   \n",
       "25024          24    test  84526  0.002335   \n",
       "25025          25    test  93868  0.985835   \n",
       "25026          26    test  88605  0.991546   \n",
       "25027          27    test  84436  0.001227   \n",
       "25028          28    test  91698  0.757044   \n",
       "25029          29    test  82413  0.037486   \n",
       "...           ...     ...    ...       ...   \n",
       "25470         470    test  76042  0.001042   \n",
       "25471         471    test  75985  0.003930   \n",
       "25472         472    test  79137  0.028353   \n",
       "25473         473    test  88508  0.980741   \n",
       "25474         474    test  85297  0.085712   \n",
       "25475         475    test  75767  0.011432   \n",
       "25476         476    test  96277  0.986423   \n",
       "25477         477    test  91122  0.957721   \n",
       "25478         478    test  91143  0.666835   \n",
       "25479         479    test  76134  0.009788   \n",
       "25480         480    test  98870  0.999570   \n",
       "25481         481    test  85397  0.003792   \n",
       "25482         482    test  92781  0.982929   \n",
       "25483         483    test  83306  0.075484   \n",
       "25484         484    test  80803  0.115318   \n",
       "25485         485    test  91386  0.673554   \n",
       "25486         486    test  99850  0.999509   \n",
       "25487         487    test  89095  0.967033   \n",
       "25488         488    test  80272  0.187558   \n",
       "25489         489    test  84021  0.005871   \n",
       "25490         490    test  96836  0.977947   \n",
       "25491         491    test  91120  0.999296   \n",
       "25492         492    test  90712  0.997958   \n",
       "25493         493    test  85722  0.030087   \n",
       "25494         494    test  98654  0.986472   \n",
       "25495         495    test  86034  0.013636   \n",
       "25496         496    test  95350  0.996393   \n",
       "25497         497    test  88584  0.971911   \n",
       "25498         498    test  82217  0.011830   \n",
       "25499         499    test  92141  0.509379   \n",
       "\n",
       "                                                    text  \\\n",
       "25000  Bud Abbott and Lou Costello always had a good ...   \n",
       "25001  This film is not your typical Hollywood fare, ...   \n",
       "25002  Henry Thomas, and Robin Tunny, are a couple of...   \n",
       "25003  This digital horror film brings us into the Mi...   \n",
       "25004  I just saw this on a local independent station...   \n",
       "25005  Those wishing to see film noir remakes, should...   \n",
       "25006  I never read the book. Now I don't really want...   \n",
       "25007  I think that there was too much action in the ...   \n",
       "25008  Have wanted to see this for a while: I never t...   \n",
       "25009  This is an interesting, hard to find movie fro...   \n",
       "25010  Well, the Hero and the Terror is slightly belo...   \n",
       "25011  I have been an avid chipmunk fan since the lat...   \n",
       "25012  42/100. Often referred as \"Tarzan with clothes...   \n",
       "25013  I caught this movie late one night and never k...   \n",
       "25014  Tyrone Power was cast in the lead as Solomon. ...   \n",
       "25015  This is one of those religious horror films wh...   \n",
       "25016  Being advertised as the most expensive movie e...   \n",
       "25017  The Jaws rip off is the trashiest of the all t...   \n",
       "25018  After seeing this film I felt sick to my stoma...   \n",
       "25019  I first saw this mini-series as a child and th...   \n",
       "25020  The beautiful, charming, supremely versatile a...   \n",
       "25021  Everyone I know loves this movie, but I am afr...   \n",
       "25022  CORRIDORS OF BLOOD <br /><br />Aspect ratio: 1...   \n",
       "25023  If this movie had been directed by a man, he w...   \n",
       "25024  I like Kevin Bacon and Cathy Moriarty, and I l...   \n",
       "25025  Passion In The Desert exemplifies spatial gran...   \n",
       "25026  I would recommend this film to anyone who is s...   \n",
       "25027  No budget direct to video tale of aliens in Ar...   \n",
       "25028  Film about the failure of government and the s...   \n",
       "25029  I bought this movie for a couple of dollars at...   \n",
       "...                                                  ...   \n",
       "25470  You may not believe this, but when the credits...   \n",
       "25471  This movie has to rank with \"Welcome to the Ju...   \n",
       "25472  No, *Hitch* is decidedly NOT a romantic-comedy...   \n",
       "25473  The first, and far better, of Kevin Kline's tw...   \n",
       "25474  Thomas Hardy is one of my favorite authors. So...   \n",
       "25475  never before have i seen such a tale of such t...   \n",
       "25476  I really enjoyed this Minghella epic, thought ...   \n",
       "25477  I had long wanted to watch this romantic drama...   \n",
       "25478  What to say about a movie like Rock Star? A lo...   \n",
       "25479  After seeing the TV commercials for this film ...   \n",
       "25480  Peter Lorre turns in one of his finest perform...   \n",
       "25481  No spoiler needed to steer you clear of this.....   \n",
       "25482  Sacha Baron Cohen is a genius. And this movie ...   \n",
       "25483  This is a new approach to comedy. It isn't fun...   \n",
       "25484  ...in a TV-movie 70's kind of way. It's one of...   \n",
       "25485  Before you watch this movie - clean your ears,...   \n",
       "25486  I personally LOVE this film amidst the Hallowe...   \n",
       "25487  This is a wonderful new movie currently still ...   \n",
       "25488  Through its 2-hour running length, Crash chart...   \n",
       "25489  There really is very little positive that can ...   \n",
       "25490  It's always a pleasure to see characters in a ...   \n",
       "25491  This young filmmaker has a talent for capturin...   \n",
       "25492  This was truly a tense and dark episode. Excel...   \n",
       "25493  I really wanted to like this film, especially ...   \n",
       "25494  Hitchcock made at least 11 films about the ord...   \n",
       "25495  <br /><br />Very dull, laborious adaptation of...   \n",
       "25496  real love. true love. mad love. beautiful love...   \n",
       "25497  Its a feel-good movie that made me feel good. ...   \n",
       "25498  Christopher Lambert attracted me to this movie...   \n",
       "25499  La Petit Tourette is a pretty funny South Park...   \n",
       "\n",
       "                                          tokenized_text  \\\n",
       "25000  ['\\n', 'xbos', 'xfld', '1', '98481', 'xfld', '...   \n",
       "25001  ['\\n', 'xbos', 'xfld', '1', '88606', 'xfld', '...   \n",
       "25002  ['\\n', 'xbos', 'xfld', '1', '88639', 'xfld', '...   \n",
       "25003  ['\\n', 'xbos', 'xfld', '1', '76170', 'xfld', '...   \n",
       "25004  ['\\n', 'xbos', 'xfld', '1', '81803', 'xfld', '...   \n",
       "25005  ['\\n', 'xbos', 'xfld', '1', '93371', 'xfld', '...   \n",
       "25006  ['\\n', 'xbos', 'xfld', '1', '87360', 'xfld', '...   \n",
       "25007  ['\\n', 'xbos', 'xfld', '1', '88547', 'xfld', '...   \n",
       "25008  ['\\n', 'xbos', 'xfld', '1', '88215', 'xfld', '...   \n",
       "25009  ['\\n', 'xbos', 'xfld', '1', '96187', 'xfld', '...   \n",
       "25010  ['\\n', 'xbos', 'xfld', '1', '81251', 'xfld', '...   \n",
       "25011  ['\\n', 'xbos', 'xfld', '1', '98086', 'xfld', '...   \n",
       "25012  ['\\n', 'xbos', 'xfld', '1', '79688', 'xfld', '...   \n",
       "25013  ['\\n', 'xbos', 'xfld', '1', '90580', 'xfld', '...   \n",
       "25014  ['\\n', 'xbos', 'xfld', '1', '86756', 'xfld', '...   \n",
       "25015  ['\\n', 'xbos', 'xfld', '1', '77906', 'xfld', '...   \n",
       "25016  ['\\n', 'xbos', 'xfld', '1', '95742', 'xfld', '...   \n",
       "25017  ['\\n', 'xbos', 'xfld', '1', '77455', 'xfld', '...   \n",
       "25018  ['\\n', 'xbos', 'xfld', '1', '76454', 'xfld', '...   \n",
       "25019  ['\\n', 'xbos', 'xfld', '1', '92650', 'xfld', '...   \n",
       "25020  ['\\n', 'xbos', 'xfld', '1', '98042', 'xfld', '...   \n",
       "25021  ['\\n', 'xbos', 'xfld', '1', '81107', 'xfld', '...   \n",
       "25022  ['\\n', 'xbos', 'xfld', '1', '83839', 'xfld', '...   \n",
       "25023  ['\\n', 'xbos', 'xfld', '1', '87324', 'xfld', '...   \n",
       "25024  ['\\n', 'xbos', 'xfld', '1', '84526', 'xfld', '...   \n",
       "25025  ['\\n', 'xbos', 'xfld', '1', '93868', 'xfld', '...   \n",
       "25026  ['\\n', 'xbos', 'xfld', '1', '88605', 'xfld', '...   \n",
       "25027  ['\\n', 'xbos', 'xfld', '1', '84436', 'xfld', '...   \n",
       "25028  ['\\n', 'xbos', 'xfld', '1', '91698', 'xfld', '...   \n",
       "25029  ['\\n', 'xbos', 'xfld', '1', '82413', 'xfld', '...   \n",
       "...                                                  ...   \n",
       "25470  ['\\n', 'xbos', 'xfld', '1', '76042', 'xfld', '...   \n",
       "25471  ['\\n', 'xbos', 'xfld', '1', '75985', 'xfld', '...   \n",
       "25472  ['\\n', 'xbos', 'xfld', '1', '79137', 'xfld', '...   \n",
       "25473  ['\\n', 'xbos', 'xfld', '1', '88508', 'xfld', '...   \n",
       "25474  ['\\n', 'xbos', 'xfld', '1', '85297', 'xfld', '...   \n",
       "25475  ['\\n', 'xbos', 'xfld', '1', '75767', 'xfld', '...   \n",
       "25476  ['\\n', 'xbos', 'xfld', '1', '96277', 'xfld', '...   \n",
       "25477  ['\\n', 'xbos', 'xfld', '1', '91122', 'xfld', '...   \n",
       "25478  ['\\n', 'xbos', 'xfld', '1', '91143', 'xfld', '...   \n",
       "25479  ['\\n', 'xbos', 'xfld', '1', '76134', 'xfld', '...   \n",
       "25480  ['\\n', 'xbos', 'xfld', '1', '98870', 'xfld', '...   \n",
       "25481  ['\\n', 'xbos', 'xfld', '1', '85397', 'xfld', '...   \n",
       "25482  ['\\n', 'xbos', 'xfld', '1', '92781', 'xfld', '...   \n",
       "25483  ['\\n', 'xbos', 'xfld', '1', '83306', 'xfld', '...   \n",
       "25484  ['\\n', 'xbos', 'xfld', '1', '80803', 'xfld', '...   \n",
       "25485  ['\\n', 'xbos', 'xfld', '1', '91386', 'xfld', '...   \n",
       "25486  ['\\n', 'xbos', 'xfld', '1', '99850', 'xfld', '...   \n",
       "25487  ['\\n', 'xbos', 'xfld', '1', '89095', 'xfld', '...   \n",
       "25488  ['\\n', 'xbos', 'xfld', '1', '80272', 'xfld', '...   \n",
       "25489  ['\\n', 'xbos', 'xfld', '1', '84021', 'xfld', '...   \n",
       "25490  ['\\n', 'xbos', 'xfld', '1', '96836', 'xfld', '...   \n",
       "25491  ['\\n', 'xbos', 'xfld', '1', '91120', 'xfld', '...   \n",
       "25492  ['\\n', 'xbos', 'xfld', '1', '90712', 'xfld', '...   \n",
       "25493  ['\\n', 'xbos', 'xfld', '1', '85722', 'xfld', '...   \n",
       "25494  ['\\n', 'xbos', 'xfld', '1', '98654', 'xfld', '...   \n",
       "25495  ['\\n', 'xbos', 'xfld', '1', '86034', 'xfld', '...   \n",
       "25496  ['\\n', 'xbos', 'xfld', '1', '95350', 'xfld', '...   \n",
       "25497  ['\\n', 'xbos', 'xfld', '1', '88584', 'xfld', '...   \n",
       "25498  ['\\n', 'xbos', 'xfld', '1', '82217', 'xfld', '...   \n",
       "25499  ['\\n', 'xbos', 'xfld', '1', '92141', 'xfld', '...   \n",
       "\n",
       "                                        numerized_tokens  \n",
       "25000  [42, 43, 14, 18, 0, 14, 18, 68, 14, 39, 5284, ...  \n",
       "25001  [42, 43, 14, 18, 0, 14, 18, 68, 14, 39, 13, 27...  \n",
       "25002  [42, 43, 14, 18, 0, 14, 18, 68, 14, 39, 1636, ...  \n",
       "25003  [42, 43, 14, 18, 0, 14, 18, 68, 14, 39, 13, 36...  \n",
       "25004  [42, 43, 14, 18, 0, 14, 18, 68, 14, 39, 12, 56...  \n",
       "25005  [42, 43, 14, 18, 0, 14, 18, 68, 14, 39, 167, 4...  \n",
       "25006  [42, 43, 14, 18, 0, 14, 18, 68, 14, 39, 12, 13...  \n",
       "25007  [42, 43, 14, 18, 0, 14, 18, 68, 14, 39, 12, 12...  \n",
       "25008  [42, 43, 14, 18, 0, 14, 18, 68, 14, 39, 38, 48...  \n",
       "25009  [42, 43, 14, 18, 0, 14, 18, 68, 14, 39, 13, 9,...  \n",
       "25010  [42, 43, 14, 18, 0, 14, 18, 68, 14, 39, 91, 4,...  \n",
       "25011  [42, 43, 14, 18, 0, 14, 18, 68, 14, 39, 12, 38...  \n",
       "25012  [42, 43, 14, 18, 0, 14, 18, 68, 14, 39, 12066,...  \n",
       "25013  [42, 43, 14, 18, 0, 14, 18, 68, 14, 39, 12, 10...  \n",
       "25014  [42, 43, 14, 18, 0, 14, 18, 68, 14, 39, 12081,...  \n",
       "25015  [42, 43, 14, 18, 0, 14, 18, 68, 14, 39, 13, 9,...  \n",
       "25016  [42, 43, 14, 18, 0, 14, 18, 68, 14, 39, 131, 6...  \n",
       "25017  [42, 43, 14, 18, 0, 14, 18, 68, 14, 39, 2, 454...  \n",
       "25018  [42, 43, 14, 18, 0, 14, 18, 68, 14, 39, 121, 3...  \n",
       "25019  [42, 43, 14, 18, 0, 14, 18, 68, 14, 39, 12, 10...  \n",
       "25020  [42, 43, 14, 18, 0, 14, 18, 68, 14, 39, 2, 333...  \n",
       "25021  [42, 43, 14, 18, 0, 14, 18, 68, 14, 39, 316, 1...  \n",
       "25022  [42, 43, 14, 18, 0, 14, 18, 68, 14, 39, 33, 92...  \n",
       "25023  [42, 43, 14, 18, 0, 14, 18, 68, 14, 39, 62, 13...  \n",
       "25024  [42, 43, 14, 18, 0, 14, 18, 68, 14, 39, 12, 53...  \n",
       "25025  [42, 43, 14, 18, 0, 14, 18, 68, 14, 39, 1649, ...  \n",
       "25026  [42, 43, 14, 18, 0, 14, 18, 68, 14, 39, 12, 73...  \n",
       "25027  [42, 43, 14, 18, 0, 14, 18, 68, 14, 39, 75, 35...  \n",
       "25028  [42, 43, 14, 18, 0, 14, 18, 68, 14, 39, 27, 60...  \n",
       "25029  [42, 43, 14, 18, 0, 14, 18, 68, 14, 39, 12, 12...  \n",
       "...                                                  ...  \n",
       "25470  [42, 43, 14, 18, 0, 14, 18, 68, 14, 39, 28, 22...  \n",
       "25471  [42, 43, 14, 18, 0, 14, 18, 68, 14, 39, 13, 23...  \n",
       "25472  [42, 43, 14, 18, 0, 14, 18, 68, 14, 39, 75, 4,...  \n",
       "25473  [42, 43, 14, 18, 0, 14, 18, 68, 14, 39, 2, 109...  \n",
       "25474  [42, 43, 14, 18, 0, 14, 18, 68, 14, 39, 1661, ...  \n",
       "25475  [42, 43, 14, 18, 0, 14, 18, 68, 14, 39, 133, 1...  \n",
       "25476  [42, 43, 14, 18, 0, 14, 18, 68, 14, 39, 12, 82...  \n",
       "25477  [42, 43, 14, 18, 0, 14, 18, 68, 14, 39, 12, 86...  \n",
       "25478  [42, 43, 14, 18, 0, 14, 18, 68, 14, 39, 64, 8,...  \n",
       "25479  [42, 43, 14, 18, 0, 14, 18, 68, 14, 39, 121, 3...  \n",
       "25480  [42, 43, 14, 18, 0, 14, 18, 68, 14, 39, 813, 7...  \n",
       "25481  [42, 43, 14, 18, 0, 14, 18, 68, 14, 39, 75, 13...  \n",
       "25482  [42, 43, 14, 18, 0, 14, 18, 68, 14, 39, 22145,...  \n",
       "25483  [42, 43, 14, 18, 0, 14, 18, 68, 14, 39, 13, 9,...  \n",
       "25484  [42, 43, 14, 18, 0, 14, 18, 68, 14, 39, 93, 11...  \n",
       "25485  [42, 43, 14, 18, 0, 14, 18, 68, 14, 39, 180, 2...  \n",
       "25486  [42, 43, 14, 18, 0, 14, 18, 68, 14, 39, 12, 12...  \n",
       "25487  [42, 43, 14, 18, 0, 14, 18, 68, 14, 39, 13, 9,...  \n",
       "25488  [42, 43, 14, 18, 0, 14, 18, 68, 14, 39, 164, 1...  \n",
       "25489  [42, 43, 14, 18, 0, 14, 18, 68, 14, 39, 54, 82...  \n",
       "25490  [42, 43, 14, 18, 0, 14, 18, 68, 14, 39, 10, 17...  \n",
       "25491  [42, 43, 14, 18, 0, 14, 18, 68, 14, 39, 13, 21...  \n",
       "25492  [42, 43, 14, 18, 0, 14, 18, 68, 14, 39, 13, 20...  \n",
       "25493  [42, 43, 14, 18, 0, 14, 18, 68, 14, 39, 12, 82...  \n",
       "25494  [42, 43, 14, 18, 0, 14, 18, 68, 14, 39, 1465, ...  \n",
       "25495  [42, 43, 14, 18, 0, 14, 18, 68, 14, 39, 21, 71...  \n",
       "25496  [42, 43, 14, 18, 0, 14, 18, 68, 14, 39, 166, 1...  \n",
       "25497  [42, 43, 14, 18, 0, 14, 18, 68, 14, 39, 113, 6...  \n",
       "25498  [42, 43, 14, 18, 0, 14, 18, 68, 14, 39, 1472, ...  \n",
       "25499  [42, 43, 14, 18, 0, 14, 18, 68, 14, 39, 1110, ...  \n",
       "\n",
       "[500 rows x 7 columns]"
      ]
     },
     "execution_count": 41,
     "metadata": {},
     "output_type": "execute_result"
    }
   ],
   "source": [
    "test_df[\"labels\"] = np.array(probs)[:,1]\n",
    "test_df.head(500)"
   ]
  },
  {
   "cell_type": "code",
   "execution_count": 45,
   "metadata": {},
   "outputs": [
    {
     "data": {
      "text/plain": [
       "0.46773288"
      ]
     },
     "execution_count": 45,
     "metadata": {},
     "output_type": "execute_result"
    }
   ],
   "source": [
    "test_df.labels.mean()"
   ]
  },
  {
   "cell_type": "code",
   "execution_count": 46,
   "metadata": {},
   "outputs": [],
   "source": [
    "test_df[[\"id\", \"labels\"]].to_csv(\"submission_8.25.csv\", index=False)"
   ]
  },
  {
   "cell_type": "code",
   "execution_count": 27,
   "metadata": {},
   "outputs": [],
   "source": [
    "def softmax(x):\n",
    "    '''\n",
    "    Numpy Softmax, via comments on https://gist.github.com/stober/1946926\n",
    "    >>> res = softmax(np.array([0, 200, 10]))\n",
    "    >>> np.sum(res)\n",
    "    1.0\n",
    "    >>> np.all(np.abs(res - np.array([0, 1, 0])) < 0.0001)\n",
    "    True\n",
    "    >>> res = softmax(np.array([[0, 200, 10], [0, 10, 200], [200, 0, 10]]))\n",
    "    >>> np.sum(res, axis=1)\n",
    "    array([ 1.,  1.,  1.])\n",
    "    >>> res = softmax(np.array([[0, 200, 10], [0, 10, 200]]))\n",
    "    >>> np.sum(res, axis=1)\n",
    "    array([ 1.,  1.])\n",
    "    '''\n",
    "    if x.ndim == 1:\n",
    "        x = x.reshape((1, -1))\n",
    "    max_x = np.max(x, axis=1).reshape((-1, 1))\n",
    "    exp_x = np.exp(x - max_x)\n",
    "    return exp_x / np.sum(exp_x, axis=1).reshape((-1, 1))"
   ]
  },
  {
   "cell_type": "markdown",
   "metadata": {},
   "source": [
    "# predicting test_dl"
   ]
  },
  {
   "cell_type": "code",
   "execution_count": 172,
   "metadata": {},
   "outputs": [],
   "source": [
    "MAX = 500#len(test_clas)\n",
    "\n",
    "test_ds = TextDataset(test_clas[:MAX], test_labels[:MAX])\n",
    "\n",
    "test_dl = DataLoader(test_ds, bs, transpose=True, num_workers=1, pad_idx=1) # for ease of submission, don't sort out of order"
   ]
  },
  {
   "cell_type": "code",
   "execution_count": 173,
   "metadata": {},
   "outputs": [],
   "source": [
    "# Predicting val_dl to verify that it works\n",
    "learn.data.test_dl = test_dl\n",
    "log_preds_test = learn.predict(is_test=True);"
   ]
  },
  {
   "cell_type": "code",
   "execution_count": 174,
   "metadata": {},
   "outputs": [],
   "source": [
    "# Getting probs from logprobs\n",
    "#probs_test = F.softmax(V(torch.Tensor(log_preds_test)));\n",
    "probs_test = softmax(log_preds_test); # trying this custom softmax. SAME RESULT."
   ]
  },
  {
   "cell_type": "code",
   "execution_count": 175,
   "metadata": {},
   "outputs": [
    {
     "data": {
      "text/plain": [
       "array([[0.93232, 0.06768],\n",
       "       [0.98529, 0.01471],\n",
       "       [0.98943, 0.01057],\n",
       "       [0.99674, 0.00326],\n",
       "       [0.99803, 0.00197],\n",
       "       [0.95644, 0.04356],\n",
       "       [0.99805, 0.00195],\n",
       "       [0.98405, 0.01595],\n",
       "       [0.95762, 0.04238],\n",
       "       [0.58386, 0.41614],\n",
       "       [0.99652, 0.00348],\n",
       "       [0.95782, 0.04218],\n",
       "       [0.9977 , 0.0023 ],\n",
       "       [0.99088, 0.00912],\n",
       "       [0.9978 , 0.0022 ],\n",
       "       [0.99455, 0.00545],\n",
       "       [0.93929, 0.06071],\n",
       "       [0.99871, 0.00129],\n",
       "       [0.99864, 0.00136],\n",
       "       [0.96728, 0.03272],\n",
       "       [0.03287, 0.96713],\n",
       "       [0.99671, 0.00329],\n",
       "       [0.90676, 0.09324],\n",
       "       [0.9977 , 0.0023 ],\n",
       "       [0.99843, 0.00157],\n",
       "       [0.9232 , 0.0768 ],\n",
       "       [0.97885, 0.02115],\n",
       "       [0.9984 , 0.0016 ],\n",
       "       [0.9834 , 0.0166 ],\n",
       "       [0.99543, 0.00457],\n",
       "       [0.97133, 0.02867],\n",
       "       [0.94973, 0.05027],\n",
       "       [0.97322, 0.02678],\n",
       "       [0.99739, 0.00261],\n",
       "       [0.98691, 0.01309],\n",
       "       [0.99433, 0.00567],\n",
       "       [0.99835, 0.00165],\n",
       "       [0.97764, 0.02236],\n",
       "       [0.99479, 0.00521],\n",
       "       [0.97166, 0.02834],\n",
       "       [0.98794, 0.01206],\n",
       "       [0.9805 , 0.0195 ],\n",
       "       [0.96809, 0.03191],\n",
       "       [0.93616, 0.06384],\n",
       "       [0.98954, 0.01046],\n",
       "       [0.92061, 0.07939],\n",
       "       [0.96299, 0.03701],\n",
       "       [0.98456, 0.01544],\n",
       "       [0.99623, 0.00377],\n",
       "       [0.99667, 0.00333],\n",
       "       [0.98128, 0.01872],\n",
       "       [0.98192, 0.01808],\n",
       "       [0.99297, 0.00703],\n",
       "       [0.96827, 0.03173],\n",
       "       [0.99138, 0.00862],\n",
       "       [0.98447, 0.01553],\n",
       "       [0.9785 , 0.0215 ],\n",
       "       [0.98854, 0.01146],\n",
       "       [0.99796, 0.00204],\n",
       "       [0.92562, 0.07438],\n",
       "       [0.997  , 0.003  ],\n",
       "       [0.99749, 0.00251],\n",
       "       [0.99634, 0.00366],\n",
       "       [0.93828, 0.06172],\n",
       "       [0.97238, 0.02762],\n",
       "       [0.98139, 0.01861],\n",
       "       [0.99288, 0.00712],\n",
       "       [0.95825, 0.04175],\n",
       "       [0.96616, 0.03384],\n",
       "       [0.9544 , 0.0456 ],\n",
       "       [0.9914 , 0.0086 ],\n",
       "       [0.89696, 0.10304],\n",
       "       [0.94898, 0.05102],\n",
       "       [0.98097, 0.01903],\n",
       "       [0.85556, 0.14444],\n",
       "       [0.99751, 0.00249],\n",
       "       [0.99906, 0.00094],\n",
       "       [0.99892, 0.00108],\n",
       "       [0.99798, 0.00202],\n",
       "       [0.9054 , 0.0946 ],\n",
       "       [0.99454, 0.00546],\n",
       "       [0.84898, 0.15102],\n",
       "       [0.99352, 0.00648],\n",
       "       [0.99911, 0.00089],\n",
       "       [0.97881, 0.02119],\n",
       "       [0.99749, 0.00251],\n",
       "       [0.88257, 0.11743],\n",
       "       [0.99644, 0.00356],\n",
       "       [0.97763, 0.02237],\n",
       "       [0.9986 , 0.0014 ],\n",
       "       [0.95833, 0.04167],\n",
       "       [0.99594, 0.00406],\n",
       "       [0.99478, 0.00522],\n",
       "       [0.99859, 0.00141],\n",
       "       [0.87071, 0.12929],\n",
       "       [0.99646, 0.00354],\n",
       "       [0.82001, 0.17999],\n",
       "       [0.99536, 0.00464],\n",
       "       [0.99787, 0.00213],\n",
       "       [0.99164, 0.00836],\n",
       "       [0.98023, 0.01977],\n",
       "       [0.99467, 0.00533],\n",
       "       [0.99461, 0.00539],\n",
       "       [0.99558, 0.00442],\n",
       "       [0.99488, 0.00512],\n",
       "       [0.79476, 0.20524],\n",
       "       [0.9816 , 0.0184 ],\n",
       "       [0.99821, 0.00179],\n",
       "       [0.99624, 0.00376],\n",
       "       [0.99825, 0.00175],\n",
       "       [0.99813, 0.00187],\n",
       "       [0.88331, 0.11669],\n",
       "       [0.98875, 0.01125],\n",
       "       [0.99272, 0.00728],\n",
       "       [0.98769, 0.01231],\n",
       "       [0.99851, 0.00149],\n",
       "       [0.99031, 0.00969],\n",
       "       [0.99459, 0.00541],\n",
       "       [0.98418, 0.01582],\n",
       "       [0.99882, 0.00118],\n",
       "       [0.9126 , 0.0874 ],\n",
       "       [0.93526, 0.06474],\n",
       "       [0.98862, 0.01138],\n",
       "       [0.97938, 0.02062],\n",
       "       [0.9797 , 0.0203 ],\n",
       "       [0.99834, 0.00166],\n",
       "       [0.99837, 0.00163],\n",
       "       [0.92294, 0.07706],\n",
       "       [0.99599, 0.00401],\n",
       "       [0.98084, 0.01916],\n",
       "       [0.9709 , 0.0291 ],\n",
       "       [0.99876, 0.00124],\n",
       "       [0.99773, 0.00227],\n",
       "       [0.9426 , 0.0574 ],\n",
       "       [0.62983, 0.37017],\n",
       "       [0.9982 , 0.0018 ],\n",
       "       [0.98845, 0.01155],\n",
       "       [0.95138, 0.04862],\n",
       "       [0.9972 , 0.0028 ],\n",
       "       [0.99725, 0.00275],\n",
       "       [0.99064, 0.00936],\n",
       "       [0.99624, 0.00376],\n",
       "       [0.94453, 0.05547],\n",
       "       [0.98787, 0.01213],\n",
       "       [0.99561, 0.00439],\n",
       "       [0.98883, 0.01117],\n",
       "       [0.98994, 0.01006],\n",
       "       [0.91432, 0.08568],\n",
       "       [0.73206, 0.26794],\n",
       "       [0.95262, 0.04738],\n",
       "       [0.98429, 0.01571],\n",
       "       [0.92293, 0.07707],\n",
       "       [0.9032 , 0.0968 ],\n",
       "       [0.99734, 0.00266],\n",
       "       [0.96071, 0.03929],\n",
       "       [0.99633, 0.00367],\n",
       "       [0.23045, 0.76955],\n",
       "       [0.83476, 0.16524],\n",
       "       [0.89055, 0.10945],\n",
       "       [0.98932, 0.01068],\n",
       "       [0.08661, 0.91339],\n",
       "       [0.98807, 0.01193],\n",
       "       [0.90651, 0.09349],\n",
       "       [0.97501, 0.02499],\n",
       "       [0.99594, 0.00406],\n",
       "       [0.96821, 0.03179],\n",
       "       [0.99748, 0.00252],\n",
       "       [0.85068, 0.14932],\n",
       "       [0.99792, 0.00208],\n",
       "       [0.99543, 0.00457],\n",
       "       [0.97478, 0.02522],\n",
       "       [0.96223, 0.03777],\n",
       "       [0.91556, 0.08444],\n",
       "       [0.93901, 0.06099],\n",
       "       [0.99403, 0.00597],\n",
       "       [0.9649 , 0.03511],\n",
       "       [0.97883, 0.02117],\n",
       "       [0.99433, 0.00567],\n",
       "       [0.11146, 0.88854],\n",
       "       [0.40294, 0.59706],\n",
       "       [0.99446, 0.00554],\n",
       "       [0.9661 , 0.0339 ],\n",
       "       [0.85425, 0.14575],\n",
       "       [0.98347, 0.01653],\n",
       "       [0.94458, 0.05542],\n",
       "       [0.88121, 0.11879],\n",
       "       [0.98825, 0.01175],\n",
       "       [0.95236, 0.04764],\n",
       "       [0.99171, 0.00829],\n",
       "       [0.63143, 0.36857],\n",
       "       [0.97619, 0.02381],\n",
       "       [0.3514 , 0.6486 ],\n",
       "       [0.98524, 0.01476],\n",
       "       [0.84731, 0.15269],\n",
       "       [0.97923, 0.02077],\n",
       "       [0.76347, 0.23653],\n",
       "       [0.99507, 0.00493],\n",
       "       [0.915  , 0.085  ],\n",
       "       [0.82898, 0.17102],\n",
       "       [0.98634, 0.01366],\n",
       "       [0.99785, 0.00215],\n",
       "       [0.99786, 0.00214],\n",
       "       [0.95545, 0.04455],\n",
       "       [0.84793, 0.15207],\n",
       "       [0.9443 , 0.0557 ],\n",
       "       [0.84412, 0.15588],\n",
       "       [0.99059, 0.00941],\n",
       "       [0.99679, 0.00321],\n",
       "       [0.99588, 0.00412],\n",
       "       [0.99155, 0.00845],\n",
       "       [0.99274, 0.00726],\n",
       "       [0.84952, 0.15048],\n",
       "       [0.99724, 0.00276],\n",
       "       [0.99768, 0.00232],\n",
       "       [0.98242, 0.01758],\n",
       "       [0.9619 , 0.0381 ],\n",
       "       [0.19005, 0.80995],\n",
       "       [0.76688, 0.23312],\n",
       "       [0.90088, 0.09912],\n",
       "       [0.91428, 0.08572],\n",
       "       [0.99265, 0.00735],\n",
       "       [0.87114, 0.12886],\n",
       "       [0.9942 , 0.0058 ],\n",
       "       [0.99601, 0.00399],\n",
       "       [0.95662, 0.04338],\n",
       "       [0.92351, 0.0765 ],\n",
       "       [0.99751, 0.00249],\n",
       "       [0.38449, 0.61551],\n",
       "       [0.98553, 0.01447],\n",
       "       [0.89594, 0.10406],\n",
       "       [0.99288, 0.00712],\n",
       "       [0.96587, 0.03413],\n",
       "       [0.99459, 0.00541],\n",
       "       [0.15683, 0.84317],\n",
       "       [0.99704, 0.00295],\n",
       "       [0.98444, 0.01556],\n",
       "       [0.94899, 0.05101],\n",
       "       [0.99048, 0.00952],\n",
       "       [0.96024, 0.03976],\n",
       "       [0.99187, 0.00813],\n",
       "       [0.99013, 0.00987],\n",
       "       [0.99271, 0.00729],\n",
       "       [0.98462, 0.01538],\n",
       "       [0.98408, 0.01592],\n",
       "       [0.33412, 0.66588],\n",
       "       [0.99628, 0.00372],\n",
       "       [0.94113, 0.05887],\n",
       "       [0.92194, 0.07806],\n",
       "       [0.99129, 0.00871],\n",
       "       [0.83426, 0.16574],\n",
       "       [0.2049 , 0.7951 ],\n",
       "       [0.9929 , 0.0071 ],\n",
       "       [0.91395, 0.08605],\n",
       "       [0.99265, 0.00735],\n",
       "       [0.97458, 0.02542],\n",
       "       [0.95461, 0.04539],\n",
       "       [0.99235, 0.00765],\n",
       "       [0.80027, 0.19973],\n",
       "       [0.99181, 0.00819],\n",
       "       [0.94258, 0.05742],\n",
       "       [0.86701, 0.13299],\n",
       "       [0.99807, 0.00193],\n",
       "       [0.97413, 0.02587],\n",
       "       [0.99531, 0.00469],\n",
       "       [0.92417, 0.07583],\n",
       "       [0.92341, 0.07659],\n",
       "       [0.28365, 0.71635],\n",
       "       [0.98489, 0.01511],\n",
       "       [0.98888, 0.01112],\n",
       "       [0.99579, 0.00421],\n",
       "       [0.99562, 0.00438],\n",
       "       [0.97672, 0.02328],\n",
       "       [0.99733, 0.00267],\n",
       "       [0.93214, 0.06786],\n",
       "       [0.54671, 0.45329],\n",
       "       [0.95488, 0.04512],\n",
       "       [0.99829, 0.00171],\n",
       "       [0.99693, 0.00307],\n",
       "       [0.97877, 0.02123],\n",
       "       [0.98314, 0.01686],\n",
       "       [0.3606 , 0.6394 ],\n",
       "       [0.59429, 0.40571],\n",
       "       [0.46598, 0.53402],\n",
       "       [0.1313 , 0.8687 ],\n",
       "       [0.99725, 0.00275],\n",
       "       [0.94737, 0.05263],\n",
       "       [0.99782, 0.00218],\n",
       "       [0.99727, 0.00273],\n",
       "       [0.9594 , 0.0406 ],\n",
       "       [0.96622, 0.03378],\n",
       "       [0.94733, 0.05267],\n",
       "       [0.94288, 0.05712],\n",
       "       [0.99519, 0.00481],\n",
       "       [0.99752, 0.00248],\n",
       "       [0.99801, 0.00199],\n",
       "       [0.99603, 0.00397],\n",
       "       [0.99504, 0.00496],\n",
       "       [0.95046, 0.04954],\n",
       "       [0.91571, 0.08429],\n",
       "       [0.94572, 0.05428],\n",
       "       [0.997  , 0.003  ],\n",
       "       [0.01425, 0.98575],\n",
       "       [0.99661, 0.00339],\n",
       "       [0.99036, 0.00964],\n",
       "       [0.99791, 0.00209],\n",
       "       [0.98624, 0.01376],\n",
       "       [0.92816, 0.07184],\n",
       "       [0.98817, 0.01183],\n",
       "       [0.97902, 0.02098],\n",
       "       [0.85979, 0.14021],\n",
       "       [0.27228, 0.72772],\n",
       "       [0.99336, 0.00664],\n",
       "       [0.33373, 0.66627],\n",
       "       [0.92415, 0.07585],\n",
       "       [0.97189, 0.02811],\n",
       "       [0.79558, 0.20442],\n",
       "       [0.99345, 0.00655],\n",
       "       [0.96274, 0.03726],\n",
       "       [0.9179 , 0.0821 ],\n",
       "       [0.34755, 0.65245],\n",
       "       [0.96974, 0.03026],\n",
       "       [0.96633, 0.03367],\n",
       "       [0.95031, 0.04969],\n",
       "       [0.99394, 0.00606],\n",
       "       [0.99109, 0.00891],\n",
       "       [0.11366, 0.88634],\n",
       "       [0.97241, 0.02759],\n",
       "       [0.96711, 0.03289],\n",
       "       [0.95727, 0.04273],\n",
       "       [0.98656, 0.01344],\n",
       "       [0.98065, 0.01935],\n",
       "       [0.98462, 0.01538],\n",
       "       [0.95932, 0.04068],\n",
       "       [0.99787, 0.00213],\n",
       "       [0.98631, 0.01369],\n",
       "       [0.9833 , 0.0167 ],\n",
       "       [0.83237, 0.16763],\n",
       "       [0.99176, 0.00824],\n",
       "       [0.60646, 0.39354],\n",
       "       [0.99526, 0.00474],\n",
       "       [0.99485, 0.00515],\n",
       "       [0.983  , 0.017  ],\n",
       "       [0.99728, 0.00272],\n",
       "       [0.97373, 0.02627],\n",
       "       [0.97726, 0.02274],\n",
       "       [0.99532, 0.00468],\n",
       "       [0.99837, 0.00163],\n",
       "       [0.78902, 0.21098],\n",
       "       [0.59754, 0.40246],\n",
       "       [0.00584, 0.99416],\n",
       "       [0.98562, 0.01438],\n",
       "       [0.85367, 0.14633],\n",
       "       [0.87922, 0.12078],\n",
       "       [0.99549, 0.00451],\n",
       "       [0.97623, 0.02377],\n",
       "       [0.99315, 0.00685],\n",
       "       [0.99625, 0.00375],\n",
       "       [0.97866, 0.02134],\n",
       "       [0.99576, 0.00424],\n",
       "       [0.98285, 0.01715],\n",
       "       [0.96621, 0.03379],\n",
       "       [0.99422, 0.00578],\n",
       "       [0.99767, 0.00233],\n",
       "       [0.95598, 0.04402],\n",
       "       [0.98508, 0.01492],\n",
       "       [0.99698, 0.00302],\n",
       "       [0.94825, 0.05175],\n",
       "       [0.98985, 0.01015],\n",
       "       [0.99393, 0.00607],\n",
       "       [0.96598, 0.03402],\n",
       "       [0.99469, 0.00531],\n",
       "       [0.93824, 0.06176],\n",
       "       [0.99512, 0.00488],\n",
       "       [0.88961, 0.11039],\n",
       "       [0.98263, 0.01737],\n",
       "       [0.99617, 0.00383],\n",
       "       [0.99506, 0.00494],\n",
       "       [0.99302, 0.00698],\n",
       "       [0.99539, 0.00461],\n",
       "       [0.97816, 0.02184],\n",
       "       [0.44794, 0.55206],\n",
       "       [0.92976, 0.07024],\n",
       "       [0.98517, 0.01483],\n",
       "       [0.98219, 0.01781],\n",
       "       [0.5196 , 0.4804 ],\n",
       "       [0.97059, 0.02941],\n",
       "       [0.99765, 0.00235],\n",
       "       [0.9975 , 0.0025 ],\n",
       "       [0.95388, 0.04612],\n",
       "       [0.99627, 0.00373],\n",
       "       [0.94883, 0.05117],\n",
       "       [0.96491, 0.03509],\n",
       "       [0.97834, 0.02166],\n",
       "       [0.97602, 0.02398],\n",
       "       [0.99735, 0.00265],\n",
       "       [0.97077, 0.02923],\n",
       "       [0.92594, 0.07406],\n",
       "       [0.99213, 0.00787],\n",
       "       [0.9264 , 0.0736 ],\n",
       "       [0.98602, 0.01398],\n",
       "       [0.98663, 0.01337],\n",
       "       [0.99788, 0.00212],\n",
       "       [0.98533, 0.01467],\n",
       "       [0.99497, 0.00503],\n",
       "       [0.99302, 0.00698],\n",
       "       [0.78003, 0.21997],\n",
       "       [0.98046, 0.01954],\n",
       "       [0.97636, 0.02364],\n",
       "       [0.99064, 0.00936],\n",
       "       [0.98495, 0.01505],\n",
       "       [0.96526, 0.03474],\n",
       "       [0.99496, 0.00504],\n",
       "       [0.99724, 0.00276],\n",
       "       [0.80899, 0.19101],\n",
       "       [0.9916 , 0.0084 ],\n",
       "       [0.99841, 0.00159],\n",
       "       [0.99102, 0.00898],\n",
       "       [0.19148, 0.80852],\n",
       "       [0.94603, 0.05397],\n",
       "       [0.98237, 0.01763],\n",
       "       [0.97883, 0.02117],\n",
       "       [0.98422, 0.01578],\n",
       "       [0.96371, 0.03629],\n",
       "       [0.45799, 0.54201],\n",
       "       [0.13467, 0.86533],\n",
       "       [0.98794, 0.01206],\n",
       "       [0.021  , 0.979  ],\n",
       "       [0.98432, 0.01568],\n",
       "       [0.99016, 0.00984],\n",
       "       [0.99846, 0.00154],\n",
       "       [0.31783, 0.68217],\n",
       "       [0.61203, 0.38797],\n",
       "       [0.99831, 0.00169],\n",
       "       [0.99647, 0.00353],\n",
       "       [0.70165, 0.29835],\n",
       "       [0.99285, 0.00715],\n",
       "       [0.1792 , 0.82079],\n",
       "       [0.99787, 0.00213],\n",
       "       [0.96322, 0.03678],\n",
       "       [0.97345, 0.02655],\n",
       "       [0.99299, 0.00701],\n",
       "       [0.97988, 0.02012],\n",
       "       [0.99578, 0.00422],\n",
       "       [0.86154, 0.13847],\n",
       "       [0.47655, 0.52345],\n",
       "       [0.99889, 0.00111],\n",
       "       [0.99767, 0.00233],\n",
       "       [0.99803, 0.00197],\n",
       "       [0.96467, 0.03533],\n",
       "       [0.74544, 0.25456],\n",
       "       [0.99157, 0.00843],\n",
       "       [0.9976 , 0.0024 ],\n",
       "       [0.99292, 0.00708],\n",
       "       [0.99699, 0.00301],\n",
       "       [0.99553, 0.00447],\n",
       "       [0.99745, 0.00255],\n",
       "       [0.74509, 0.25491],\n",
       "       [0.99278, 0.00722],\n",
       "       [0.99706, 0.00294],\n",
       "       [0.9977 , 0.0023 ],\n",
       "       [0.99522, 0.00478],\n",
       "       [0.99463, 0.00537],\n",
       "       [0.95423, 0.04577],\n",
       "       [0.94288, 0.05712],\n",
       "       [0.96991, 0.03009],\n",
       "       [0.99187, 0.00813],\n",
       "       [0.99843, 0.00157],\n",
       "       [0.97937, 0.02063],\n",
       "       [0.996  , 0.004  ],\n",
       "       [0.99844, 0.00156],\n",
       "       [0.99862, 0.00138],\n",
       "       [0.99807, 0.00193],\n",
       "       [0.98853, 0.01147],\n",
       "       [0.92822, 0.07178],\n",
       "       [0.99652, 0.00348],\n",
       "       [0.99617, 0.00383],\n",
       "       [0.95911, 0.04089],\n",
       "       [0.58968, 0.41032],\n",
       "       [0.44429, 0.55571],\n",
       "       [0.99769, 0.00231],\n",
       "       [0.70716, 0.29284],\n",
       "       [0.99837, 0.00163],\n",
       "       [0.97702, 0.02298],\n",
       "       [0.98877, 0.01123],\n",
       "       [0.99789, 0.00211],\n",
       "       [0.98669, 0.01331],\n",
       "       [0.95442, 0.04558],\n",
       "       [0.03297, 0.96703],\n",
       "       [0.84787, 0.15213],\n",
       "       [0.99848, 0.00152],\n",
       "       [0.97212, 0.02788],\n",
       "       [0.96533, 0.03467],\n",
       "       [0.97469, 0.02531],\n",
       "       [0.99057, 0.00943],\n",
       "       [0.39532, 0.60468],\n",
       "       [0.99799, 0.00201],\n",
       "       [0.96745, 0.03255],\n",
       "       [0.98976, 0.01024],\n",
       "       [0.99763, 0.00237],\n",
       "       [0.99147, 0.00853]], dtype=float32)"
      ]
     },
     "execution_count": 175,
     "metadata": {},
     "output_type": "execute_result"
    }
   ],
   "source": [
    "probs_test"
   ]
  },
  {
   "cell_type": "code",
   "execution_count": 160,
   "metadata": {},
   "outputs": [
    {
     "data": {
      "text/plain": [
       "Variable containing:\n",
       "1.00000e-02 *\n",
       "  8.7492\n",
       "[torch.cuda.FloatTensor of size 1 (GPU 0)]"
      ]
     },
     "execution_count": 160,
     "metadata": {},
     "output_type": "execute_result"
    }
   ],
   "source": [
    "#probs_test.detach().data.cpu().numpy()[:, 1].mean()\n",
    "probs_test[:, 1].mean()"
   ]
  },
  {
   "cell_type": "code",
   "execution_count": 150,
   "metadata": {},
   "outputs": [
    {
     "name": "stderr",
     "output_type": "stream",
     "text": [
      "/home/ubuntu/anaconda3/envs/fastai/lib/python3.6/site-packages/ipykernel_launcher.py:1: SettingWithCopyWarning: \n",
      "A value is trying to be set on a copy of a slice from a DataFrame.\n",
      "Try using .loc[row_indexer,col_indexer] = value instead\n",
      "\n",
      "See the caveats in the documentation: http://pandas.pydata.org/pandas-docs/stable/indexing.html#indexing-view-versus-copy\n",
      "  \"\"\"Entry point for launching an IPython kernel.\n"
     ]
    }
   ],
   "source": [
    "test_df[\"labels\"] = probs_test.detach().data.cpu().numpy()[:, 1];"
   ]
  },
  {
   "cell_type": "code",
   "execution_count": 151,
   "metadata": {},
   "outputs": [
    {
     "data": {
      "text/html": [
       "<div>\n",
       "<style scoped>\n",
       "    .dataframe tbody tr th:only-of-type {\n",
       "        vertical-align: middle;\n",
       "    }\n",
       "\n",
       "    .dataframe tbody tr th {\n",
       "        vertical-align: top;\n",
       "    }\n",
       "\n",
       "    .dataframe thead th {\n",
       "        text-align: right;\n",
       "    }\n",
       "</style>\n",
       "<table border=\"1\" class=\"dataframe\">\n",
       "  <thead>\n",
       "    <tr style=\"text-align: right;\">\n",
       "      <th></th>\n",
       "      <th>dataset</th>\n",
       "      <th>id</th>\n",
       "      <th>labels</th>\n",
       "      <th>text</th>\n",
       "      <th>tokenized_text</th>\n",
       "      <th>numerized_tokens</th>\n",
       "    </tr>\n",
       "  </thead>\n",
       "  <tbody>\n",
       "    <tr>\n",
       "      <th>0</th>\n",
       "      <td>test</td>\n",
       "      <td>98481</td>\n",
       "      <td>0.800664</td>\n",
       "      <td>Bud Abbott and Lou Costello always had a good ...</td>\n",
       "      <td>[\\n, xbos, xfld, 1, 98481, xfld, 1, 3, xfld, 2...</td>\n",
       "      <td>[42, 43, 14, 18, 0, 14, 18, 68, 14, 39, 5284, ...</td>\n",
       "    </tr>\n",
       "    <tr>\n",
       "      <th>1</th>\n",
       "      <td>test</td>\n",
       "      <td>88606</td>\n",
       "      <td>0.917258</td>\n",
       "      <td>This film is not your typical Hollywood fare, ...</td>\n",
       "      <td>[\\n, xbos, xfld, 1, 88606, xfld, 1, 3, xfld, 2...</td>\n",
       "      <td>[42, 43, 14, 18, 0, 14, 18, 68, 14, 39, 13, 27...</td>\n",
       "    </tr>\n",
       "    <tr>\n",
       "      <th>2</th>\n",
       "      <td>test</td>\n",
       "      <td>88639</td>\n",
       "      <td>0.791573</td>\n",
       "      <td>Henry Thomas, and Robin Tunny, are a couple of...</td>\n",
       "      <td>[\\n, xbos, xfld, 1, 88639, xfld, 1, 3, xfld, 2...</td>\n",
       "      <td>[42, 43, 14, 18, 0, 14, 18, 68, 14, 39, 1636, ...</td>\n",
       "    </tr>\n",
       "    <tr>\n",
       "      <th>3</th>\n",
       "      <td>test</td>\n",
       "      <td>76170</td>\n",
       "      <td>0.585307</td>\n",
       "      <td>This digital horror film brings us into the Mi...</td>\n",
       "      <td>[\\n, xbos, xfld, 1, 76170, xfld, 1, 3, xfld, 2...</td>\n",
       "      <td>[42, 43, 14, 18, 0, 14, 18, 68, 14, 39, 13, 36...</td>\n",
       "    </tr>\n",
       "    <tr>\n",
       "      <th>4</th>\n",
       "      <td>test</td>\n",
       "      <td>81803</td>\n",
       "      <td>0.146130</td>\n",
       "      <td>I just saw this on a local independent station...</td>\n",
       "      <td>[\\n, xbos, xfld, 1, 81803, xfld, 1, 3, xfld, 2...</td>\n",
       "      <td>[42, 43, 14, 18, 0, 14, 18, 68, 14, 39, 12, 56...</td>\n",
       "    </tr>\n",
       "    <tr>\n",
       "      <th>5</th>\n",
       "      <td>test</td>\n",
       "      <td>93371</td>\n",
       "      <td>0.976136</td>\n",
       "      <td>Those wishing to see film noir remakes, should...</td>\n",
       "      <td>[\\n, xbos, xfld, 1, 93371, xfld, 1, 3, xfld, 2...</td>\n",
       "      <td>[42, 43, 14, 18, 0, 14, 18, 68, 14, 39, 167, 4...</td>\n",
       "    </tr>\n",
       "    <tr>\n",
       "      <th>6</th>\n",
       "      <td>test</td>\n",
       "      <td>87360</td>\n",
       "      <td>0.113354</td>\n",
       "      <td>I never read the book. Now I don't really want...</td>\n",
       "      <td>[\\n, xbos, xfld, 1, 87360, xfld, 1, 3, xfld, 2...</td>\n",
       "      <td>[42, 43, 14, 18, 0, 14, 18, 68, 14, 39, 12, 13...</td>\n",
       "    </tr>\n",
       "    <tr>\n",
       "      <th>7</th>\n",
       "      <td>test</td>\n",
       "      <td>88547</td>\n",
       "      <td>0.854794</td>\n",
       "      <td>I think that there was too much action in the ...</td>\n",
       "      <td>[\\n, xbos, xfld, 1, 88547, xfld, 1, 3, xfld, 2...</td>\n",
       "      <td>[42, 43, 14, 18, 0, 14, 18, 68, 14, 39, 12, 12...</td>\n",
       "    </tr>\n",
       "    <tr>\n",
       "      <th>8</th>\n",
       "      <td>test</td>\n",
       "      <td>88215</td>\n",
       "      <td>0.886257</td>\n",
       "      <td>Have wanted to see this for a while: I never t...</td>\n",
       "      <td>[\\n, xbos, xfld, 1, 88215, xfld, 1, 3, xfld, 2...</td>\n",
       "      <td>[42, 43, 14, 18, 0, 14, 18, 68, 14, 39, 38, 48...</td>\n",
       "    </tr>\n",
       "    <tr>\n",
       "      <th>9</th>\n",
       "      <td>test</td>\n",
       "      <td>96187</td>\n",
       "      <td>0.951508</td>\n",
       "      <td>This is an interesting, hard to find movie fro...</td>\n",
       "      <td>[\\n, xbos, xfld, 1, 96187, xfld, 1, 3, xfld, 2...</td>\n",
       "      <td>[42, 43, 14, 18, 0, 14, 18, 68, 14, 39, 13, 9,...</td>\n",
       "    </tr>\n",
       "    <tr>\n",
       "      <th>10</th>\n",
       "      <td>test</td>\n",
       "      <td>81251</td>\n",
       "      <td>0.354020</td>\n",
       "      <td>Well, the Hero and the Terror is slightly belo...</td>\n",
       "      <td>[\\n, xbos, xfld, 1, 81251, xfld, 1, 3, xfld, 2...</td>\n",
       "      <td>[42, 43, 14, 18, 0, 14, 18, 68, 14, 39, 91, 4,...</td>\n",
       "    </tr>\n",
       "    <tr>\n",
       "      <th>11</th>\n",
       "      <td>test</td>\n",
       "      <td>98086</td>\n",
       "      <td>0.979950</td>\n",
       "      <td>I have been an avid chipmunk fan since the lat...</td>\n",
       "      <td>[\\n, xbos, xfld, 1, 98086, xfld, 1, 3, xfld, 2...</td>\n",
       "      <td>[42, 43, 14, 18, 0, 14, 18, 68, 14, 39, 12, 38...</td>\n",
       "    </tr>\n",
       "    <tr>\n",
       "      <th>12</th>\n",
       "      <td>test</td>\n",
       "      <td>79688</td>\n",
       "      <td>0.189360</td>\n",
       "      <td>42/100. Often referred as \"Tarzan with clothes...</td>\n",
       "      <td>[\\n, xbos, xfld, 1, 79688, xfld, 1, 3, xfld, 2...</td>\n",
       "      <td>[42, 43, 14, 18, 0, 14, 18, 68, 14, 39, 12066,...</td>\n",
       "    </tr>\n",
       "    <tr>\n",
       "      <th>13</th>\n",
       "      <td>test</td>\n",
       "      <td>90580</td>\n",
       "      <td>0.833677</td>\n",
       "      <td>I caught this movie late one night and never k...</td>\n",
       "      <td>[\\n, xbos, xfld, 1, 90580, xfld, 1, 3, xfld, 2...</td>\n",
       "      <td>[42, 43, 14, 18, 0, 14, 18, 68, 14, 39, 12, 10...</td>\n",
       "    </tr>\n",
       "    <tr>\n",
       "      <th>14</th>\n",
       "      <td>test</td>\n",
       "      <td>86756</td>\n",
       "      <td>0.036847</td>\n",
       "      <td>Tyrone Power was cast in the lead as Solomon. ...</td>\n",
       "      <td>[\\n, xbos, xfld, 1, 86756, xfld, 1, 3, xfld, 2...</td>\n",
       "      <td>[42, 43, 14, 18, 0, 14, 18, 68, 14, 39, 12081,...</td>\n",
       "    </tr>\n",
       "    <tr>\n",
       "      <th>15</th>\n",
       "      <td>test</td>\n",
       "      <td>77906</td>\n",
       "      <td>0.079038</td>\n",
       "      <td>This is one of those religious horror films wh...</td>\n",
       "      <td>[\\n, xbos, xfld, 1, 77906, xfld, 1, 3, xfld, 2...</td>\n",
       "      <td>[42, 43, 14, 18, 0, 14, 18, 68, 14, 39, 13, 9,...</td>\n",
       "    </tr>\n",
       "    <tr>\n",
       "      <th>16</th>\n",
       "      <td>test</td>\n",
       "      <td>95742</td>\n",
       "      <td>0.941689</td>\n",
       "      <td>Being advertised as the most expensive movie e...</td>\n",
       "      <td>[\\n, xbos, xfld, 1, 95742, xfld, 1, 3, xfld, 2...</td>\n",
       "      <td>[42, 43, 14, 18, 0, 14, 18, 68, 14, 39, 131, 6...</td>\n",
       "    </tr>\n",
       "    <tr>\n",
       "      <th>17</th>\n",
       "      <td>test</td>\n",
       "      <td>77455</td>\n",
       "      <td>0.069222</td>\n",
       "      <td>The Jaws rip off is the trashiest of the all t...</td>\n",
       "      <td>[\\n, xbos, xfld, 1, 77455, xfld, 1, 3, xfld, 2...</td>\n",
       "      <td>[42, 43, 14, 18, 0, 14, 18, 68, 14, 39, 2, 454...</td>\n",
       "    </tr>\n",
       "    <tr>\n",
       "      <th>18</th>\n",
       "      <td>test</td>\n",
       "      <td>76454</td>\n",
       "      <td>0.145270</td>\n",
       "      <td>After seeing this film I felt sick to my stoma...</td>\n",
       "      <td>[\\n, xbos, xfld, 1, 76454, xfld, 1, 3, xfld, 2...</td>\n",
       "      <td>[42, 43, 14, 18, 0, 14, 18, 68, 14, 39, 121, 3...</td>\n",
       "    </tr>\n",
       "    <tr>\n",
       "      <th>19</th>\n",
       "      <td>test</td>\n",
       "      <td>92650</td>\n",
       "      <td>0.970550</td>\n",
       "      <td>I first saw this mini-series as a child and th...</td>\n",
       "      <td>[\\n, xbos, xfld, 1, 92650, xfld, 1, 3, xfld, 2...</td>\n",
       "      <td>[42, 43, 14, 18, 0, 14, 18, 68, 14, 39, 12, 10...</td>\n",
       "    </tr>\n",
       "    <tr>\n",
       "      <th>20</th>\n",
       "      <td>test</td>\n",
       "      <td>98042</td>\n",
       "      <td>0.997075</td>\n",
       "      <td>The beautiful, charming, supremely versatile a...</td>\n",
       "      <td>[\\n, xbos, xfld, 1, 98042, xfld, 1, 3, xfld, 2...</td>\n",
       "      <td>[42, 43, 14, 18, 0, 14, 18, 68, 14, 39, 2, 333...</td>\n",
       "    </tr>\n",
       "    <tr>\n",
       "      <th>21</th>\n",
       "      <td>test</td>\n",
       "      <td>81107</td>\n",
       "      <td>0.114117</td>\n",
       "      <td>Everyone I know loves this movie, but I am afr...</td>\n",
       "      <td>[\\n, xbos, xfld, 1, 81107, xfld, 1, 3, xfld, 2...</td>\n",
       "      <td>[42, 43, 14, 18, 0, 14, 18, 68, 14, 39, 316, 1...</td>\n",
       "    </tr>\n",
       "    <tr>\n",
       "      <th>22</th>\n",
       "      <td>test</td>\n",
       "      <td>83839</td>\n",
       "      <td>0.825491</td>\n",
       "      <td>CORRIDORS OF BLOOD &lt;br /&gt;&lt;br /&gt;Aspect ratio: 1...</td>\n",
       "      <td>[\\n, xbos, xfld, 1, 83839, xfld, 1, 3, xfld, 2...</td>\n",
       "      <td>[42, 43, 14, 18, 0, 14, 18, 68, 14, 39, 33, 92...</td>\n",
       "    </tr>\n",
       "    <tr>\n",
       "      <th>23</th>\n",
       "      <td>test</td>\n",
       "      <td>87324</td>\n",
       "      <td>0.114128</td>\n",
       "      <td>If this movie had been directed by a man, he w...</td>\n",
       "      <td>[\\n, xbos, xfld, 1, 87324, xfld, 1, 3, xfld, 2...</td>\n",
       "      <td>[42, 43, 14, 18, 0, 14, 18, 68, 14, 39, 62, 13...</td>\n",
       "    </tr>\n",
       "    <tr>\n",
       "      <th>24</th>\n",
       "      <td>test</td>\n",
       "      <td>84526</td>\n",
       "      <td>0.125871</td>\n",
       "      <td>I like Kevin Bacon and Cathy Moriarty, and I l...</td>\n",
       "      <td>[\\n, xbos, xfld, 1, 84526, xfld, 1, 3, xfld, 2...</td>\n",
       "      <td>[42, 43, 14, 18, 0, 14, 18, 68, 14, 39, 12, 53...</td>\n",
       "    </tr>\n",
       "    <tr>\n",
       "      <th>25</th>\n",
       "      <td>test</td>\n",
       "      <td>93868</td>\n",
       "      <td>0.960230</td>\n",
       "      <td>Passion In The Desert exemplifies spatial gran...</td>\n",
       "      <td>[\\n, xbos, xfld, 1, 93868, xfld, 1, 3, xfld, 2...</td>\n",
       "      <td>[42, 43, 14, 18, 0, 14, 18, 68, 14, 39, 1649, ...</td>\n",
       "    </tr>\n",
       "    <tr>\n",
       "      <th>26</th>\n",
       "      <td>test</td>\n",
       "      <td>88605</td>\n",
       "      <td>0.944729</td>\n",
       "      <td>I would recommend this film to anyone who is s...</td>\n",
       "      <td>[\\n, xbos, xfld, 1, 88605, xfld, 1, 3, xfld, 2...</td>\n",
       "      <td>[42, 43, 14, 18, 0, 14, 18, 68, 14, 39, 12, 73...</td>\n",
       "    </tr>\n",
       "    <tr>\n",
       "      <th>27</th>\n",
       "      <td>test</td>\n",
       "      <td>84436</td>\n",
       "      <td>0.144978</td>\n",
       "      <td>No budget direct to video tale of aliens in Ar...</td>\n",
       "      <td>[\\n, xbos, xfld, 1, 84436, xfld, 1, 3, xfld, 2...</td>\n",
       "      <td>[42, 43, 14, 18, 0, 14, 18, 68, 14, 39, 75, 35...</td>\n",
       "    </tr>\n",
       "    <tr>\n",
       "      <th>28</th>\n",
       "      <td>test</td>\n",
       "      <td>91698</td>\n",
       "      <td>0.827979</td>\n",
       "      <td>Film about the failure of government and the s...</td>\n",
       "      <td>[\\n, xbos, xfld, 1, 91698, xfld, 1, 3, xfld, 2...</td>\n",
       "      <td>[42, 43, 14, 18, 0, 14, 18, 68, 14, 39, 27, 60...</td>\n",
       "    </tr>\n",
       "    <tr>\n",
       "      <th>29</th>\n",
       "      <td>test</td>\n",
       "      <td>82413</td>\n",
       "      <td>0.309286</td>\n",
       "      <td>I bought this movie for a couple of dollars at...</td>\n",
       "      <td>[\\n, xbos, xfld, 1, 82413, xfld, 1, 3, xfld, 2...</td>\n",
       "      <td>[42, 43, 14, 18, 0, 14, 18, 68, 14, 39, 12, 12...</td>\n",
       "    </tr>\n",
       "    <tr>\n",
       "      <th>...</th>\n",
       "      <td>...</td>\n",
       "      <td>...</td>\n",
       "      <td>...</td>\n",
       "      <td>...</td>\n",
       "      <td>...</td>\n",
       "      <td>...</td>\n",
       "    </tr>\n",
       "    <tr>\n",
       "      <th>970</th>\n",
       "      <td>test</td>\n",
       "      <td>80982</td>\n",
       "      <td>0.332379</td>\n",
       "      <td>did anyone notice?when miss brook went skinny ...</td>\n",
       "      <td>[\\n, xbos, xfld, 1, 80982, xfld, 1, 3, xfld, 2...</td>\n",
       "      <td>[42, 43, 14, 18, 0, 14, 18, 68, 14, 39, 89, 26...</td>\n",
       "    </tr>\n",
       "    <tr>\n",
       "      <th>971</th>\n",
       "      <td>test</td>\n",
       "      <td>91715</td>\n",
       "      <td>0.887710</td>\n",
       "      <td>i was very impressed with this production on l...</td>\n",
       "      <td>[\\n, xbos, xfld, 1, 91715, xfld, 1, 3, xfld, 2...</td>\n",
       "      <td>[42, 43, 14, 18, 0, 14, 18, 68, 14, 39, 12, 20...</td>\n",
       "    </tr>\n",
       "    <tr>\n",
       "      <th>972</th>\n",
       "      <td>test</td>\n",
       "      <td>86777</td>\n",
       "      <td>0.218858</td>\n",
       "      <td>I can't knock this film too terribly, because ...</td>\n",
       "      <td>[\\n, xbos, xfld, 1, 86777, xfld, 1, 3, xfld, 2...</td>\n",
       "      <td>[42, 43, 14, 18, 0, 14, 18, 68, 14, 39, 12, 19...</td>\n",
       "    </tr>\n",
       "    <tr>\n",
       "      <th>973</th>\n",
       "      <td>test</td>\n",
       "      <td>81441</td>\n",
       "      <td>0.127447</td>\n",
       "      <td>The combination of Dan Haggerty (Elves) and Li...</td>\n",
       "      <td>[\\n, xbos, xfld, 1, 81441, xfld, 1, 3, xfld, 2...</td>\n",
       "      <td>[42, 43, 14, 18, 0, 14, 18, 68, 14, 39, 2, 219...</td>\n",
       "    </tr>\n",
       "    <tr>\n",
       "      <th>974</th>\n",
       "      <td>test</td>\n",
       "      <td>97172</td>\n",
       "      <td>0.853092</td>\n",
       "      <td>Perhaps the deepest cartoon made in the USA, \"...</td>\n",
       "      <td>[\\n, xbos, xfld, 1, 97172, xfld, 1, 3, xfld, 2...</td>\n",
       "      <td>[42, 43, 14, 18, 0, 14, 18, 68, 14, 39, 409, 2...</td>\n",
       "    </tr>\n",
       "    <tr>\n",
       "      <th>975</th>\n",
       "      <td>test</td>\n",
       "      <td>76066</td>\n",
       "      <td>0.246388</td>\n",
       "      <td>I'm no director or writer or anything related ...</td>\n",
       "      <td>[\\n, xbos, xfld, 1, 76066, xfld, 1, 3, xfld, 2...</td>\n",
       "      <td>[42, 43, 14, 18, 0, 14, 18, 68, 14, 39, 12, 16...</td>\n",
       "    </tr>\n",
       "    <tr>\n",
       "      <th>976</th>\n",
       "      <td>test</td>\n",
       "      <td>97373</td>\n",
       "      <td>0.921476</td>\n",
       "      <td>\"Cherry\" tells of a naive, unmarried virgin wh...</td>\n",
       "      <td>[\\n, xbos, xfld, 1, 97373, xfld, 1, 3, xfld, 2...</td>\n",
       "      <td>[42, 43, 14, 18, 0, 14, 18, 68, 14, 39, 16, 97...</td>\n",
       "    </tr>\n",
       "    <tr>\n",
       "      <th>977</th>\n",
       "      <td>test</td>\n",
       "      <td>79730</td>\n",
       "      <td>0.766686</td>\n",
       "      <td>This is one of the best looking films of the p...</td>\n",
       "      <td>[\\n, xbos, xfld, 1, 79730, xfld, 1, 3, xfld, 2...</td>\n",
       "      <td>[42, 43, 14, 18, 0, 14, 18, 68, 14, 39, 13, 9,...</td>\n",
       "    </tr>\n",
       "    <tr>\n",
       "      <th>978</th>\n",
       "      <td>test</td>\n",
       "      <td>87434</td>\n",
       "      <td>0.710443</td>\n",
       "      <td>This is among one of many USA attempts of rema...</td>\n",
       "      <td>[\\n, xbos, xfld, 1, 87434, xfld, 1, 3, xfld, 2...</td>\n",
       "      <td>[42, 43, 14, 18, 0, 14, 18, 68, 14, 39, 13, 9,...</td>\n",
       "    </tr>\n",
       "    <tr>\n",
       "      <th>979</th>\n",
       "      <td>test</td>\n",
       "      <td>83930</td>\n",
       "      <td>0.462911</td>\n",
       "      <td>I'd never thought that I would be caught sayin...</td>\n",
       "      <td>[\\n, xbos, xfld, 1, 83930, xfld, 1, 3, xfld, 2...</td>\n",
       "      <td>[42, 43, 14, 18, 0, 14, 18, 68, 14, 39, 12, 32...</td>\n",
       "    </tr>\n",
       "    <tr>\n",
       "      <th>980</th>\n",
       "      <td>test</td>\n",
       "      <td>86844</td>\n",
       "      <td>0.142833</td>\n",
       "      <td>This movie was utterly and unequivocally terri...</td>\n",
       "      <td>[\\n, xbos, xfld, 1, 86844, xfld, 1, 3, xfld, 2...</td>\n",
       "      <td>[42, 43, 14, 18, 0, 14, 18, 68, 14, 39, 13, 23...</td>\n",
       "    </tr>\n",
       "    <tr>\n",
       "      <th>981</th>\n",
       "      <td>test</td>\n",
       "      <td>77190</td>\n",
       "      <td>0.157745</td>\n",
       "      <td>My roommate and I have another friend that wor...</td>\n",
       "      <td>[\\n, xbos, xfld, 1, 77190, xfld, 1, 3, xfld, 2...</td>\n",
       "      <td>[42, 43, 14, 18, 0, 14, 18, 68, 14, 39, 77, 61...</td>\n",
       "    </tr>\n",
       "    <tr>\n",
       "      <th>982</th>\n",
       "      <td>test</td>\n",
       "      <td>83936</td>\n",
       "      <td>0.151391</td>\n",
       "      <td>The fact that this cruddy series could elicit ...</td>\n",
       "      <td>[\\n, xbos, xfld, 1, 83936, xfld, 1, 3, xfld, 2...</td>\n",
       "      <td>[42, 43, 14, 18, 0, 14, 18, 68, 14, 39, 2, 218...</td>\n",
       "    </tr>\n",
       "    <tr>\n",
       "      <th>983</th>\n",
       "      <td>test</td>\n",
       "      <td>78994</td>\n",
       "      <td>0.593336</td>\n",
       "      <td>Mediocre at best. Slow, but probably more ente...</td>\n",
       "      <td>[\\n, xbos, xfld, 1, 78994, xfld, 1, 3, xfld, 2...</td>\n",
       "      <td>[42, 43, 14, 18, 0, 14, 18, 68, 14, 39, 1572, ...</td>\n",
       "    </tr>\n",
       "    <tr>\n",
       "      <th>984</th>\n",
       "      <td>test</td>\n",
       "      <td>87983</td>\n",
       "      <td>0.860947</td>\n",
       "      <td>i see there are great reviews of this film alr...</td>\n",
       "      <td>[\\n, xbos, xfld, 1, 87983, xfld, 1, 3, xfld, 2...</td>\n",
       "      <td>[42, 43, 14, 18, 0, 14, 18, 68, 14, 39, 12, 84...</td>\n",
       "    </tr>\n",
       "    <tr>\n",
       "      <th>985</th>\n",
       "      <td>test</td>\n",
       "      <td>76549</td>\n",
       "      <td>0.776804</td>\n",
       "      <td>After watching this film, I thought to myself,...</td>\n",
       "      <td>[\\n, xbos, xfld, 1, 76549, xfld, 1, 3, xfld, 2...</td>\n",
       "      <td>[42, 43, 14, 18, 0, 14, 18, 68, 14, 39, 121, 1...</td>\n",
       "    </tr>\n",
       "    <tr>\n",
       "      <th>986</th>\n",
       "      <td>test</td>\n",
       "      <td>89227</td>\n",
       "      <td>0.907711</td>\n",
       "      <td>This movie starts off somewhat slowly and gets...</td>\n",
       "      <td>[\\n, xbos, xfld, 1, 89227, xfld, 1, 3, xfld, 2...</td>\n",
       "      <td>[42, 43, 14, 18, 0, 14, 18, 68, 14, 39, 13, 23...</td>\n",
       "    </tr>\n",
       "    <tr>\n",
       "      <th>987</th>\n",
       "      <td>test</td>\n",
       "      <td>98472</td>\n",
       "      <td>0.772110</td>\n",
       "      <td>I grew up with the Abbott and Costello movies,...</td>\n",
       "      <td>[\\n, xbos, xfld, 1, 98472, xfld, 1, 3, xfld, 2...</td>\n",
       "      <td>[42, 43, 14, 18, 0, 14, 18, 68, 14, 39, 12, 21...</td>\n",
       "    </tr>\n",
       "    <tr>\n",
       "      <th>988</th>\n",
       "      <td>test</td>\n",
       "      <td>92694</td>\n",
       "      <td>0.803387</td>\n",
       "      <td>I saw this film at the 2005 Palm Springs Inter...</td>\n",
       "      <td>[\\n, xbos, xfld, 1, 92694, xfld, 1, 3, xfld, 2...</td>\n",
       "      <td>[42, 43, 14, 18, 0, 14, 18, 68, 14, 39, 12, 23...</td>\n",
       "    </tr>\n",
       "    <tr>\n",
       "      <th>989</th>\n",
       "      <td>test</td>\n",
       "      <td>98615</td>\n",
       "      <td>0.979689</td>\n",
       "      <td>I remember seeing this in the early 90's on UK...</td>\n",
       "      <td>[\\n, xbos, xfld, 1, 98615, xfld, 1, 3, xfld, 2...</td>\n",
       "      <td>[42, 43, 14, 18, 0, 14, 18, 68, 14, 39, 12, 40...</td>\n",
       "    </tr>\n",
       "    <tr>\n",
       "      <th>990</th>\n",
       "      <td>test</td>\n",
       "      <td>96298</td>\n",
       "      <td>0.374073</td>\n",
       "      <td>This BRASS EYE special PAEDO-GEDDON was swampe...</td>\n",
       "      <td>[\\n, xbos, xfld, 1, 96298, xfld, 1, 3, xfld, 2...</td>\n",
       "      <td>[42, 43, 14, 18, 0, 14, 18, 68, 14, 39, 13, 33...</td>\n",
       "    </tr>\n",
       "    <tr>\n",
       "      <th>991</th>\n",
       "      <td>test</td>\n",
       "      <td>77215</td>\n",
       "      <td>0.088223</td>\n",
       "      <td>A total and utter travesty of a movie.'Dark po...</td>\n",
       "      <td>[\\n, xbos, xfld, 1, 77215, xfld, 1, 3, xfld, 2...</td>\n",
       "      <td>[42, 43, 14, 18, 0, 14, 18, 68, 14, 39, 6, 951...</td>\n",
       "    </tr>\n",
       "    <tr>\n",
       "      <th>992</th>\n",
       "      <td>test</td>\n",
       "      <td>90501</td>\n",
       "      <td>0.672782</td>\n",
       "      <td>Rather than go on location and make a realisti...</td>\n",
       "      <td>[\\n, xbos, xfld, 1, 90501, xfld, 1, 3, xfld, 2...</td>\n",
       "      <td>[42, 43, 14, 18, 0, 14, 18, 68, 14, 39, 273, 9...</td>\n",
       "    </tr>\n",
       "    <tr>\n",
       "      <th>993</th>\n",
       "      <td>test</td>\n",
       "      <td>77327</td>\n",
       "      <td>0.192292</td>\n",
       "      <td>Consider \"I Know All\" Action hero is lighting ...</td>\n",
       "      <td>[\\n, xbos, xfld, 1, 77327, xfld, 1, 3, xfld, 2...</td>\n",
       "      <td>[42, 43, 14, 18, 0, 14, 18, 68, 14, 39, 1185, ...</td>\n",
       "    </tr>\n",
       "    <tr>\n",
       "      <th>994</th>\n",
       "      <td>test</td>\n",
       "      <td>79437</td>\n",
       "      <td>0.149589</td>\n",
       "      <td>I admit to a secret admiration of the original...</td>\n",
       "      <td>[\\n, xbos, xfld, 1, 79437, xfld, 1, 3, xfld, 2...</td>\n",
       "      <td>[42, 43, 14, 18, 0, 14, 18, 68, 14, 39, 12, 99...</td>\n",
       "    </tr>\n",
       "    <tr>\n",
       "      <th>995</th>\n",
       "      <td>test</td>\n",
       "      <td>80957</td>\n",
       "      <td>0.092605</td>\n",
       "      <td>This movie reminds me old B movies, but not in...</td>\n",
       "      <td>[\\n, xbos, xfld, 1, 80957, xfld, 1, 3, xfld, 2...</td>\n",
       "      <td>[42, 43, 14, 18, 0, 14, 18, 68, 14, 39, 13, 23...</td>\n",
       "    </tr>\n",
       "    <tr>\n",
       "      <th>996</th>\n",
       "      <td>test</td>\n",
       "      <td>76319</td>\n",
       "      <td>0.130617</td>\n",
       "      <td>The Man (Gaston Modot) and the Young Girl (Lya...</td>\n",
       "      <td>[\\n, xbos, xfld, 1, 76319, xfld, 1, 3, xfld, 2...</td>\n",
       "      <td>[42, 43, 14, 18, 0, 14, 18, 68, 14, 39, 2, 147...</td>\n",
       "    </tr>\n",
       "    <tr>\n",
       "      <th>997</th>\n",
       "      <td>test</td>\n",
       "      <td>92207</td>\n",
       "      <td>0.870846</td>\n",
       "      <td>i really love this movie , i saw it for the fi...</td>\n",
       "      <td>[\\n, xbos, xfld, 1, 92207, xfld, 1, 3, xfld, 2...</td>\n",
       "      <td>[42, 43, 14, 18, 0, 14, 18, 68, 14, 39, 12, 82...</td>\n",
       "    </tr>\n",
       "    <tr>\n",
       "      <th>998</th>\n",
       "      <td>test</td>\n",
       "      <td>75575</td>\n",
       "      <td>0.005534</td>\n",
       "      <td>There are some great Canadian films. There are...</td>\n",
       "      <td>[\\n, xbos, xfld, 1, 75575, xfld, 1, 3, xfld, 2...</td>\n",
       "      <td>[42, 43, 14, 18, 0, 14, 18, 68, 14, 39, 54, 35...</td>\n",
       "    </tr>\n",
       "    <tr>\n",
       "      <th>999</th>\n",
       "      <td>test</td>\n",
       "      <td>75814</td>\n",
       "      <td>0.145314</td>\n",
       "      <td>Detective Sergent Vince De Carlo (James Luisi)...</td>\n",
       "      <td>[\\n, xbos, xfld, 1, 75814, xfld, 1, 3, xfld, 2...</td>\n",
       "      <td>[42, 43, 14, 18, 0, 14, 18, 68, 14, 39, 1359, ...</td>\n",
       "    </tr>\n",
       "  </tbody>\n",
       "</table>\n",
       "<p>1000 rows × 6 columns</p>\n",
       "</div>"
      ],
      "text/plain": [
       "    dataset     id    labels  \\\n",
       "0      test  98481  0.800664   \n",
       "1      test  88606  0.917258   \n",
       "2      test  88639  0.791573   \n",
       "3      test  76170  0.585307   \n",
       "4      test  81803  0.146130   \n",
       "5      test  93371  0.976136   \n",
       "6      test  87360  0.113354   \n",
       "7      test  88547  0.854794   \n",
       "8      test  88215  0.886257   \n",
       "9      test  96187  0.951508   \n",
       "10     test  81251  0.354020   \n",
       "11     test  98086  0.979950   \n",
       "12     test  79688  0.189360   \n",
       "13     test  90580  0.833677   \n",
       "14     test  86756  0.036847   \n",
       "15     test  77906  0.079038   \n",
       "16     test  95742  0.941689   \n",
       "17     test  77455  0.069222   \n",
       "18     test  76454  0.145270   \n",
       "19     test  92650  0.970550   \n",
       "20     test  98042  0.997075   \n",
       "21     test  81107  0.114117   \n",
       "22     test  83839  0.825491   \n",
       "23     test  87324  0.114128   \n",
       "24     test  84526  0.125871   \n",
       "25     test  93868  0.960230   \n",
       "26     test  88605  0.944729   \n",
       "27     test  84436  0.144978   \n",
       "28     test  91698  0.827979   \n",
       "29     test  82413  0.309286   \n",
       "..      ...    ...       ...   \n",
       "970    test  80982  0.332379   \n",
       "971    test  91715  0.887710   \n",
       "972    test  86777  0.218858   \n",
       "973    test  81441  0.127447   \n",
       "974    test  97172  0.853092   \n",
       "975    test  76066  0.246388   \n",
       "976    test  97373  0.921476   \n",
       "977    test  79730  0.766686   \n",
       "978    test  87434  0.710443   \n",
       "979    test  83930  0.462911   \n",
       "980    test  86844  0.142833   \n",
       "981    test  77190  0.157745   \n",
       "982    test  83936  0.151391   \n",
       "983    test  78994  0.593336   \n",
       "984    test  87983  0.860947   \n",
       "985    test  76549  0.776804   \n",
       "986    test  89227  0.907711   \n",
       "987    test  98472  0.772110   \n",
       "988    test  92694  0.803387   \n",
       "989    test  98615  0.979689   \n",
       "990    test  96298  0.374073   \n",
       "991    test  77215  0.088223   \n",
       "992    test  90501  0.672782   \n",
       "993    test  77327  0.192292   \n",
       "994    test  79437  0.149589   \n",
       "995    test  80957  0.092605   \n",
       "996    test  76319  0.130617   \n",
       "997    test  92207  0.870846   \n",
       "998    test  75575  0.005534   \n",
       "999    test  75814  0.145314   \n",
       "\n",
       "                                                  text  \\\n",
       "0    Bud Abbott and Lou Costello always had a good ...   \n",
       "1    This film is not your typical Hollywood fare, ...   \n",
       "2    Henry Thomas, and Robin Tunny, are a couple of...   \n",
       "3    This digital horror film brings us into the Mi...   \n",
       "4    I just saw this on a local independent station...   \n",
       "5    Those wishing to see film noir remakes, should...   \n",
       "6    I never read the book. Now I don't really want...   \n",
       "7    I think that there was too much action in the ...   \n",
       "8    Have wanted to see this for a while: I never t...   \n",
       "9    This is an interesting, hard to find movie fro...   \n",
       "10   Well, the Hero and the Terror is slightly belo...   \n",
       "11   I have been an avid chipmunk fan since the lat...   \n",
       "12   42/100. Often referred as \"Tarzan with clothes...   \n",
       "13   I caught this movie late one night and never k...   \n",
       "14   Tyrone Power was cast in the lead as Solomon. ...   \n",
       "15   This is one of those religious horror films wh...   \n",
       "16   Being advertised as the most expensive movie e...   \n",
       "17   The Jaws rip off is the trashiest of the all t...   \n",
       "18   After seeing this film I felt sick to my stoma...   \n",
       "19   I first saw this mini-series as a child and th...   \n",
       "20   The beautiful, charming, supremely versatile a...   \n",
       "21   Everyone I know loves this movie, but I am afr...   \n",
       "22   CORRIDORS OF BLOOD <br /><br />Aspect ratio: 1...   \n",
       "23   If this movie had been directed by a man, he w...   \n",
       "24   I like Kevin Bacon and Cathy Moriarty, and I l...   \n",
       "25   Passion In The Desert exemplifies spatial gran...   \n",
       "26   I would recommend this film to anyone who is s...   \n",
       "27   No budget direct to video tale of aliens in Ar...   \n",
       "28   Film about the failure of government and the s...   \n",
       "29   I bought this movie for a couple of dollars at...   \n",
       "..                                                 ...   \n",
       "970  did anyone notice?when miss brook went skinny ...   \n",
       "971  i was very impressed with this production on l...   \n",
       "972  I can't knock this film too terribly, because ...   \n",
       "973  The combination of Dan Haggerty (Elves) and Li...   \n",
       "974  Perhaps the deepest cartoon made in the USA, \"...   \n",
       "975  I'm no director or writer or anything related ...   \n",
       "976  \"Cherry\" tells of a naive, unmarried virgin wh...   \n",
       "977  This is one of the best looking films of the p...   \n",
       "978  This is among one of many USA attempts of rema...   \n",
       "979  I'd never thought that I would be caught sayin...   \n",
       "980  This movie was utterly and unequivocally terri...   \n",
       "981  My roommate and I have another friend that wor...   \n",
       "982  The fact that this cruddy series could elicit ...   \n",
       "983  Mediocre at best. Slow, but probably more ente...   \n",
       "984  i see there are great reviews of this film alr...   \n",
       "985  After watching this film, I thought to myself,...   \n",
       "986  This movie starts off somewhat slowly and gets...   \n",
       "987  I grew up with the Abbott and Costello movies,...   \n",
       "988  I saw this film at the 2005 Palm Springs Inter...   \n",
       "989  I remember seeing this in the early 90's on UK...   \n",
       "990  This BRASS EYE special PAEDO-GEDDON was swampe...   \n",
       "991  A total and utter travesty of a movie.'Dark po...   \n",
       "992  Rather than go on location and make a realisti...   \n",
       "993  Consider \"I Know All\" Action hero is lighting ...   \n",
       "994  I admit to a secret admiration of the original...   \n",
       "995  This movie reminds me old B movies, but not in...   \n",
       "996  The Man (Gaston Modot) and the Young Girl (Lya...   \n",
       "997  i really love this movie , i saw it for the fi...   \n",
       "998  There are some great Canadian films. There are...   \n",
       "999  Detective Sergent Vince De Carlo (James Luisi)...   \n",
       "\n",
       "                                        tokenized_text  \\\n",
       "0    [\\n, xbos, xfld, 1, 98481, xfld, 1, 3, xfld, 2...   \n",
       "1    [\\n, xbos, xfld, 1, 88606, xfld, 1, 3, xfld, 2...   \n",
       "2    [\\n, xbos, xfld, 1, 88639, xfld, 1, 3, xfld, 2...   \n",
       "3    [\\n, xbos, xfld, 1, 76170, xfld, 1, 3, xfld, 2...   \n",
       "4    [\\n, xbos, xfld, 1, 81803, xfld, 1, 3, xfld, 2...   \n",
       "5    [\\n, xbos, xfld, 1, 93371, xfld, 1, 3, xfld, 2...   \n",
       "6    [\\n, xbos, xfld, 1, 87360, xfld, 1, 3, xfld, 2...   \n",
       "7    [\\n, xbos, xfld, 1, 88547, xfld, 1, 3, xfld, 2...   \n",
       "8    [\\n, xbos, xfld, 1, 88215, xfld, 1, 3, xfld, 2...   \n",
       "9    [\\n, xbos, xfld, 1, 96187, xfld, 1, 3, xfld, 2...   \n",
       "10   [\\n, xbos, xfld, 1, 81251, xfld, 1, 3, xfld, 2...   \n",
       "11   [\\n, xbos, xfld, 1, 98086, xfld, 1, 3, xfld, 2...   \n",
       "12   [\\n, xbos, xfld, 1, 79688, xfld, 1, 3, xfld, 2...   \n",
       "13   [\\n, xbos, xfld, 1, 90580, xfld, 1, 3, xfld, 2...   \n",
       "14   [\\n, xbos, xfld, 1, 86756, xfld, 1, 3, xfld, 2...   \n",
       "15   [\\n, xbos, xfld, 1, 77906, xfld, 1, 3, xfld, 2...   \n",
       "16   [\\n, xbos, xfld, 1, 95742, xfld, 1, 3, xfld, 2...   \n",
       "17   [\\n, xbos, xfld, 1, 77455, xfld, 1, 3, xfld, 2...   \n",
       "18   [\\n, xbos, xfld, 1, 76454, xfld, 1, 3, xfld, 2...   \n",
       "19   [\\n, xbos, xfld, 1, 92650, xfld, 1, 3, xfld, 2...   \n",
       "20   [\\n, xbos, xfld, 1, 98042, xfld, 1, 3, xfld, 2...   \n",
       "21   [\\n, xbos, xfld, 1, 81107, xfld, 1, 3, xfld, 2...   \n",
       "22   [\\n, xbos, xfld, 1, 83839, xfld, 1, 3, xfld, 2...   \n",
       "23   [\\n, xbos, xfld, 1, 87324, xfld, 1, 3, xfld, 2...   \n",
       "24   [\\n, xbos, xfld, 1, 84526, xfld, 1, 3, xfld, 2...   \n",
       "25   [\\n, xbos, xfld, 1, 93868, xfld, 1, 3, xfld, 2...   \n",
       "26   [\\n, xbos, xfld, 1, 88605, xfld, 1, 3, xfld, 2...   \n",
       "27   [\\n, xbos, xfld, 1, 84436, xfld, 1, 3, xfld, 2...   \n",
       "28   [\\n, xbos, xfld, 1, 91698, xfld, 1, 3, xfld, 2...   \n",
       "29   [\\n, xbos, xfld, 1, 82413, xfld, 1, 3, xfld, 2...   \n",
       "..                                                 ...   \n",
       "970  [\\n, xbos, xfld, 1, 80982, xfld, 1, 3, xfld, 2...   \n",
       "971  [\\n, xbos, xfld, 1, 91715, xfld, 1, 3, xfld, 2...   \n",
       "972  [\\n, xbos, xfld, 1, 86777, xfld, 1, 3, xfld, 2...   \n",
       "973  [\\n, xbos, xfld, 1, 81441, xfld, 1, 3, xfld, 2...   \n",
       "974  [\\n, xbos, xfld, 1, 97172, xfld, 1, 3, xfld, 2...   \n",
       "975  [\\n, xbos, xfld, 1, 76066, xfld, 1, 3, xfld, 2...   \n",
       "976  [\\n, xbos, xfld, 1, 97373, xfld, 1, 3, xfld, 2...   \n",
       "977  [\\n, xbos, xfld, 1, 79730, xfld, 1, 3, xfld, 2...   \n",
       "978  [\\n, xbos, xfld, 1, 87434, xfld, 1, 3, xfld, 2...   \n",
       "979  [\\n, xbos, xfld, 1, 83930, xfld, 1, 3, xfld, 2...   \n",
       "980  [\\n, xbos, xfld, 1, 86844, xfld, 1, 3, xfld, 2...   \n",
       "981  [\\n, xbos, xfld, 1, 77190, xfld, 1, 3, xfld, 2...   \n",
       "982  [\\n, xbos, xfld, 1, 83936, xfld, 1, 3, xfld, 2...   \n",
       "983  [\\n, xbos, xfld, 1, 78994, xfld, 1, 3, xfld, 2...   \n",
       "984  [\\n, xbos, xfld, 1, 87983, xfld, 1, 3, xfld, 2...   \n",
       "985  [\\n, xbos, xfld, 1, 76549, xfld, 1, 3, xfld, 2...   \n",
       "986  [\\n, xbos, xfld, 1, 89227, xfld, 1, 3, xfld, 2...   \n",
       "987  [\\n, xbos, xfld, 1, 98472, xfld, 1, 3, xfld, 2...   \n",
       "988  [\\n, xbos, xfld, 1, 92694, xfld, 1, 3, xfld, 2...   \n",
       "989  [\\n, xbos, xfld, 1, 98615, xfld, 1, 3, xfld, 2...   \n",
       "990  [\\n, xbos, xfld, 1, 96298, xfld, 1, 3, xfld, 2...   \n",
       "991  [\\n, xbos, xfld, 1, 77215, xfld, 1, 3, xfld, 2...   \n",
       "992  [\\n, xbos, xfld, 1, 90501, xfld, 1, 3, xfld, 2...   \n",
       "993  [\\n, xbos, xfld, 1, 77327, xfld, 1, 3, xfld, 2...   \n",
       "994  [\\n, xbos, xfld, 1, 79437, xfld, 1, 3, xfld, 2...   \n",
       "995  [\\n, xbos, xfld, 1, 80957, xfld, 1, 3, xfld, 2...   \n",
       "996  [\\n, xbos, xfld, 1, 76319, xfld, 1, 3, xfld, 2...   \n",
       "997  [\\n, xbos, xfld, 1, 92207, xfld, 1, 3, xfld, 2...   \n",
       "998  [\\n, xbos, xfld, 1, 75575, xfld, 1, 3, xfld, 2...   \n",
       "999  [\\n, xbos, xfld, 1, 75814, xfld, 1, 3, xfld, 2...   \n",
       "\n",
       "                                      numerized_tokens  \n",
       "0    [42, 43, 14, 18, 0, 14, 18, 68, 14, 39, 5284, ...  \n",
       "1    [42, 43, 14, 18, 0, 14, 18, 68, 14, 39, 13, 27...  \n",
       "2    [42, 43, 14, 18, 0, 14, 18, 68, 14, 39, 1636, ...  \n",
       "3    [42, 43, 14, 18, 0, 14, 18, 68, 14, 39, 13, 36...  \n",
       "4    [42, 43, 14, 18, 0, 14, 18, 68, 14, 39, 12, 56...  \n",
       "5    [42, 43, 14, 18, 0, 14, 18, 68, 14, 39, 167, 4...  \n",
       "6    [42, 43, 14, 18, 0, 14, 18, 68, 14, 39, 12, 13...  \n",
       "7    [42, 43, 14, 18, 0, 14, 18, 68, 14, 39, 12, 12...  \n",
       "8    [42, 43, 14, 18, 0, 14, 18, 68, 14, 39, 38, 48...  \n",
       "9    [42, 43, 14, 18, 0, 14, 18, 68, 14, 39, 13, 9,...  \n",
       "10   [42, 43, 14, 18, 0, 14, 18, 68, 14, 39, 91, 4,...  \n",
       "11   [42, 43, 14, 18, 0, 14, 18, 68, 14, 39, 12, 38...  \n",
       "12   [42, 43, 14, 18, 0, 14, 18, 68, 14, 39, 12066,...  \n",
       "13   [42, 43, 14, 18, 0, 14, 18, 68, 14, 39, 12, 10...  \n",
       "14   [42, 43, 14, 18, 0, 14, 18, 68, 14, 39, 12081,...  \n",
       "15   [42, 43, 14, 18, 0, 14, 18, 68, 14, 39, 13, 9,...  \n",
       "16   [42, 43, 14, 18, 0, 14, 18, 68, 14, 39, 131, 6...  \n",
       "17   [42, 43, 14, 18, 0, 14, 18, 68, 14, 39, 2, 454...  \n",
       "18   [42, 43, 14, 18, 0, 14, 18, 68, 14, 39, 121, 3...  \n",
       "19   [42, 43, 14, 18, 0, 14, 18, 68, 14, 39, 12, 10...  \n",
       "20   [42, 43, 14, 18, 0, 14, 18, 68, 14, 39, 2, 333...  \n",
       "21   [42, 43, 14, 18, 0, 14, 18, 68, 14, 39, 316, 1...  \n",
       "22   [42, 43, 14, 18, 0, 14, 18, 68, 14, 39, 33, 92...  \n",
       "23   [42, 43, 14, 18, 0, 14, 18, 68, 14, 39, 62, 13...  \n",
       "24   [42, 43, 14, 18, 0, 14, 18, 68, 14, 39, 12, 53...  \n",
       "25   [42, 43, 14, 18, 0, 14, 18, 68, 14, 39, 1649, ...  \n",
       "26   [42, 43, 14, 18, 0, 14, 18, 68, 14, 39, 12, 73...  \n",
       "27   [42, 43, 14, 18, 0, 14, 18, 68, 14, 39, 75, 35...  \n",
       "28   [42, 43, 14, 18, 0, 14, 18, 68, 14, 39, 27, 60...  \n",
       "29   [42, 43, 14, 18, 0, 14, 18, 68, 14, 39, 12, 12...  \n",
       "..                                                 ...  \n",
       "970  [42, 43, 14, 18, 0, 14, 18, 68, 14, 39, 89, 26...  \n",
       "971  [42, 43, 14, 18, 0, 14, 18, 68, 14, 39, 12, 20...  \n",
       "972  [42, 43, 14, 18, 0, 14, 18, 68, 14, 39, 12, 19...  \n",
       "973  [42, 43, 14, 18, 0, 14, 18, 68, 14, 39, 2, 219...  \n",
       "974  [42, 43, 14, 18, 0, 14, 18, 68, 14, 39, 409, 2...  \n",
       "975  [42, 43, 14, 18, 0, 14, 18, 68, 14, 39, 12, 16...  \n",
       "976  [42, 43, 14, 18, 0, 14, 18, 68, 14, 39, 16, 97...  \n",
       "977  [42, 43, 14, 18, 0, 14, 18, 68, 14, 39, 13, 9,...  \n",
       "978  [42, 43, 14, 18, 0, 14, 18, 68, 14, 39, 13, 9,...  \n",
       "979  [42, 43, 14, 18, 0, 14, 18, 68, 14, 39, 12, 32...  \n",
       "980  [42, 43, 14, 18, 0, 14, 18, 68, 14, 39, 13, 23...  \n",
       "981  [42, 43, 14, 18, 0, 14, 18, 68, 14, 39, 77, 61...  \n",
       "982  [42, 43, 14, 18, 0, 14, 18, 68, 14, 39, 2, 218...  \n",
       "983  [42, 43, 14, 18, 0, 14, 18, 68, 14, 39, 1572, ...  \n",
       "984  [42, 43, 14, 18, 0, 14, 18, 68, 14, 39, 12, 84...  \n",
       "985  [42, 43, 14, 18, 0, 14, 18, 68, 14, 39, 121, 1...  \n",
       "986  [42, 43, 14, 18, 0, 14, 18, 68, 14, 39, 13, 23...  \n",
       "987  [42, 43, 14, 18, 0, 14, 18, 68, 14, 39, 12, 21...  \n",
       "988  [42, 43, 14, 18, 0, 14, 18, 68, 14, 39, 12, 23...  \n",
       "989  [42, 43, 14, 18, 0, 14, 18, 68, 14, 39, 12, 40...  \n",
       "990  [42, 43, 14, 18, 0, 14, 18, 68, 14, 39, 13, 33...  \n",
       "991  [42, 43, 14, 18, 0, 14, 18, 68, 14, 39, 6, 951...  \n",
       "992  [42, 43, 14, 18, 0, 14, 18, 68, 14, 39, 273, 9...  \n",
       "993  [42, 43, 14, 18, 0, 14, 18, 68, 14, 39, 1185, ...  \n",
       "994  [42, 43, 14, 18, 0, 14, 18, 68, 14, 39, 12, 99...  \n",
       "995  [42, 43, 14, 18, 0, 14, 18, 68, 14, 39, 13, 23...  \n",
       "996  [42, 43, 14, 18, 0, 14, 18, 68, 14, 39, 2, 147...  \n",
       "997  [42, 43, 14, 18, 0, 14, 18, 68, 14, 39, 12, 82...  \n",
       "998  [42, 43, 14, 18, 0, 14, 18, 68, 14, 39, 54, 35...  \n",
       "999  [42, 43, 14, 18, 0, 14, 18, 68, 14, 39, 1359, ...  \n",
       "\n",
       "[1000 rows x 6 columns]"
      ]
     },
     "execution_count": 151,
     "metadata": {},
     "output_type": "execute_result"
    }
   ],
   "source": [
    "test_df.head(1000)"
   ]
  },
  {
   "cell_type": "code",
   "execution_count": 255,
   "metadata": {
    "scrolled": true
   },
   "outputs": [
    {
     "data": {
      "text/plain": [
       "'When I first saw the Premiere Episode of Farscape, I had no idea what to expect. I was immensely impressed and satisfied with \"Premiere\". Subsequent re-watches, however, have made numerous flaws apparent to me that I missed initially. \"Premiere\" is not a great Farscape Episode, but it deserves credit for successfully and efficiently setting up the plot and giving the basic back stories to many of the regular characters.<br /><br />The episode begins with John Crichton (Ben Browder), an astronaut and scientist, preparing to launch into space in the Farscape Module, a small space ship perfected by Crichton and his friend DK. Crichton has a revealing conversation with his father, Jack Crichton, and then begins his test flight in space. Of course, everything goes wrong and Crichton is \"shot through a wormhole\" and winds up in \"a distant part of the galaxy\".<br /><br />After exiting the wormhole, Crichton\\'s module is pulled on board a living space ship. From here, the characters and story line for the Farscape series are introduced in an entertaining albeit rushed manner.<br /><br />The regular characters are properly introduced during the first half of the episode. Of course, there is Crichton, played well by Ben Browder. He offers a the audience a sympathetic character to identify with. He\\'s lost and has no idea how to do much of anything. In \"Premiere\", Crichton has to choose between joining the prisoners or the Peacekeepers. He knows nothing at all about either side, but in helping Aeryn (a captured Peacekeeper pilot) it becomes clear that he intends to help the Peacekeepers. He probably would not have ended up siding with the prisoners if it hadn\\'t been for Crais, a Peacekeeper captain, declaring Crichton to be the murderer of his brother. This puts Crichton in an interesting situation: he\\'s stuck with bizarre, violent escaped prisoners in a far-off galaxy about which he knows nothing at all. Crichton\\'s total lack of knowledge of the Farsape world makes him a particularly interesting protagonist during Farscape\\'s first season.<br /><br />The supporting cast is just as compelling. There\\'s Zhaan, a blue Delvian and former prisoner. She\\'s peaceful and reasonable, as opposed to fellow prisoner Ka D\\'Argo, a powerful and hard-headed warrior. Virginia Hey is totally covered in blue makeup, allowing her character of Zhaan to appear cool and convincing. D\\'Argo\\'s mega-makeup, in contrast, is below-par. He looks kind of silly with his giant tentacles and strange nose, and there is something peculiar about his eyes. They look as if they have had some sort of allergic reaction to his makeup. Farscape would give some improvements to his makeup in Season 1, but the overall costume would, for me at least, remain as a problem until Season 2.<br /><br />The puppet/digital characters of Rygel and Pilot are, to put it simply, excellent. Rygel is a tiny Hynerian Dominar who floats around on some sort of hovercraft. In \"Premiere\" he is given some good dialogue but not much else. Pilot nearly steals the show as the liaison between the living ship, Moya, and Moya\\'s passengers. Even in the first episode, Pilot gives off the appearance of being a real, living alien; he never once in the show seems to be a giant, expensive machine.<br /><br />The Peacekeeper characters introduced are quite interesting as well. The Peacekeepers are made up of a race called Sebaceans, who look just like humans. The chief antagonist is introduced in \"Premiere\" as Captian Crais, who believes that Crichton killed his brother. In reality, Crais\\'s brother\\'s death was merely an accident resulting from an accidental collision with Crichton\\'s ship. Aeryn Sun, a pilot who Crichton helps escape, tries to explain that the death was an accident, but Crais just claims that she is \"irreversiby contaminated\" and refused to change his mind. Crais obsession for revenge, warranted or not (it should be clear to Crais that Crichton isn\\'t responsible), is mysterious in \"Premiere\", but would be explained later in the season. Aeryn herself provides an extremely interesting character. By being forced to leave the Peacekeepers, she changes her whole way of life, and is in that regard in a similar (though less severe) situation as Crichton.<br /><br />The actual episode, as mentioned earlier, feels somewhat rushed and clunky. So much happens that not enough time is spent on anything. Also, D\\'Argo (for now) looks kind of silly running around in his mediocre costume trying to appear menacing. Still, \"Premiere\" is solid entertainment. The special effects (such as in the starburst sequences) are impressive. Most of the costumes and the sets on board Moya are original. Despite its flaws, \"Premiere\" is a must-see for Farscape fans. 3/4'"
      ]
     },
     "execution_count": 255,
     "metadata": {},
     "output_type": "execute_result"
    }
   ],
   "source": [
    "test_df[(test_df.labels>.4) & (test_df.labels<.5)].text.iloc[10]"
   ]
  },
  {
   "cell_type": "code",
   "execution_count": 152,
   "metadata": {},
   "outputs": [],
   "source": [
    "# Save submission\n",
    "\n",
    "test_df[[\"id\", \"labels\"]].to_csv(\"submission_8.24.csv\", index=False)"
   ]
  },
  {
   "cell_type": "markdown",
   "metadata": {},
   "source": [
    "8.18:\n",
    "Our predictions are working well w the validation set, but not w test set. Test set is predicting mostly negative, although the directionality appears correct. what to do?\n",
    "\n",
    "added test_dl to md. Trying again w fresh classifier. The mean looks good after training two epochs. Training for three more epochs, see if it remains balanced. out of memory error. submit this version to test. gets #5 on leaderboard. bce of around .25 or .27. Train more and see how it improves. training improves w single unfrozen layer. But! With two unfrozen layers, gets unbalanced again!\n",
    "\n",
    "Start afresh. Unfreeze a single layer. trained again. saved. ready for submission."
   ]
  },
  {
   "cell_type": "markdown",
   "metadata": {
    "colab": {},
    "colab_type": "code",
    "id": "OqgYMLn5Byb5"
   },
   "source": [
    "8.23\n",
    "Moving to AWS and increasing batch size and bptt length, first insight was that we're able to train our LM to a much better level. That was promising. Second problem we're still running into is that our first training loss drops way to fast, to not believable levels. this correlates w having way skewed predictions. We've brought in JH's parameters from his imdb folder and are now experimenting w increasing the dropout multiplier. \n",
    "\n",
    "why would accuracy be too high? how could that happen? Could we possibly have duplicates w/in the training data set? "
   ]
  },
  {
   "cell_type": "markdown",
   "metadata": {
    "colab_type": "text",
    "id": "WZ1OFAsaMWg2"
   },
   "source": [
    "## Fin"
   ]
  },
  {
   "cell_type": "code",
   "execution_count": null,
   "metadata": {
    "colab": {},
    "colab_type": "code",
    "id": "Uqeysp4vMWg3"
   },
   "outputs": [],
   "source": [
    "learn.sched.plot_loss()"
   ]
  }
 ],
 "metadata": {
  "accelerator": "GPU",
  "colab": {
   "collapsed_sections": [],
   "name": "imdb_D.ipynb",
   "provenance": [],
   "version": "0.3.2"
  },
  "kernelspec": {
   "display_name": "Python 3",
   "language": "python",
   "name": "python3"
  },
  "language_info": {
   "codemirror_mode": {
    "name": "ipython",
    "version": 3
   },
   "file_extension": ".py",
   "mimetype": "text/x-python",
   "name": "python",
   "nbconvert_exporter": "python",
   "pygments_lexer": "ipython3",
   "version": "3.6.6"
  }
 },
 "nbformat": 4,
 "nbformat_minor": 1
}
