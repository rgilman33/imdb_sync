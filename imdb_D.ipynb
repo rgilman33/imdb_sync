{
 "cells": [
  {
   "cell_type": "markdown",
   "metadata": {
    "colab_type": "text",
    "id": "wtzJO_iVMWcm"
   },
   "source": [
    "\n",
    "## IMDb"
   ]
  },
  {
   "cell_type": "markdown",
   "metadata": {
    "colab_type": "text",
    "id": "loEJj5O7J0Ex"
   },
   "source": [
    "\n",
    "\n",
    "figure out how to save model. \n",
    "upload data from deloitte,  process test data in same way as other data. \n",
    "get a good pred, upload\n",
    "\n",
    "data in. rationalize data structure. had mismatch with max 1000"
   ]
  },
  {
   "cell_type": "markdown",
   "metadata": {
    "colab_type": "text",
    "id": "T9jMDrgPMWcn"
   },
   "source": [
    "At Fast.ai we have introduced a new module called fastai.text which replaces the torchtext library that was used in our 2018 dl1 course. The fastai.text module also supersedes the fastai.nlp library but retains many of the key functions."
   ]
  },
  {
   "cell_type": "code",
   "execution_count": 1,
   "metadata": {
    "colab": {
     "base_uri": "https://localhost:8080/",
     "height": 3733
    },
    "colab_type": "code",
    "id": "CGv--rGmMxbT",
    "outputId": "60015313-1b3b-4846-bc08-3503eb8b0699"
   },
   "outputs": [],
   "source": [
    "#!pip install git+https://github.com/fastai/fastai.git # grabbing latest version\n",
    "#!pip install spacy\n",
    "#!python -m spacy download en"
   ]
  },
  {
   "cell_type": "code",
   "execution_count": 2,
   "metadata": {
    "colab": {},
    "colab_type": "code",
    "id": "qGNYbbAHMWcp"
   },
   "outputs": [
    {
     "name": "stderr",
     "output_type": "stream",
     "text": [
      "/home/ubuntu/anaconda3/envs/fastai/lib/python3.6/importlib/_bootstrap.py:219: RuntimeWarning: numpy.dtype size changed, may indicate binary incompatibility. Expected 96, got 88\n",
      "  return f(*args, **kwds)\n",
      "/home/ubuntu/anaconda3/envs/fastai/lib/python3.6/importlib/_bootstrap.py:219: RuntimeWarning: numpy.dtype size changed, may indicate binary incompatibility. Expected 96, got 88\n",
      "  return f(*args, **kwds)\n",
      "/home/ubuntu/anaconda3/envs/fastai/lib/python3.6/importlib/_bootstrap.py:219: RuntimeWarning: numpy.dtype size changed, may indicate binary incompatibility. Expected 96, got 88\n",
      "  return f(*args, **kwds)\n",
      "/home/ubuntu/anaconda3/envs/fastai/lib/python3.6/site-packages/sklearn/ensemble/weight_boosting.py:29: DeprecationWarning: numpy.core.umath_tests is an internal NumPy module and should not be imported. It will be removed in a future NumPy release.\n",
      "  from numpy.core.umath_tests import inner1d\n",
      "/home/ubuntu/anaconda3/envs/fastai/lib/python3.6/importlib/_bootstrap.py:219: RuntimeWarning: numpy.dtype size changed, may indicate binary incompatibility. Expected 96, got 88\n",
      "  return f(*args, **kwds)\n",
      "/home/ubuntu/anaconda3/envs/fastai/lib/python3.6/importlib/_bootstrap.py:219: RuntimeWarning: numpy.ufunc size changed, may indicate binary incompatibility. Expected 192, got 176\n",
      "  return f(*args, **kwds)\n"
     ]
    }
   ],
   "source": [
    "from fastai.text import *\n",
    "import html"
   ]
  },
  {
   "cell_type": "markdown",
   "metadata": {
    "colab_type": "text",
    "id": "g86Ey53PMWcv"
   },
   "source": [
    "The Fastai.text module introduces several custom tokens.\n",
    "\n",
    "We need to download the IMDB large movie reviews from this site: http://ai.stanford.edu/~amaas/data/sentiment/\n",
    "Direct link : [Link](http://ai.stanford.edu/~amaas/data/sentiment/aclImdb_v1.tar.gz) and untar it into the PATH location. We use pathlib which makes directory traveral a breeze."
   ]
  },
  {
   "cell_type": "code",
   "execution_count": 3,
   "metadata": {
    "colab": {},
    "colab_type": "code",
    "id": "lqqb_xRRMWcw"
   },
   "outputs": [],
   "source": [
    "BOS = 'xbos'  # beginning-of-sentence tag\n",
    "FLD = 'xfld'  # data field tag\n",
    "\n",
    "PATH=Path('imdb_data/aclImdb/')"
   ]
  },
  {
   "cell_type": "code",
   "execution_count": 4,
   "metadata": {
    "colab": {},
    "colab_type": "code",
    "id": "Eva7LVasSRWI"
   },
   "outputs": [],
   "source": [
    "#!mkdir \"imdb_data\""
   ]
  },
  {
   "cell_type": "markdown",
   "metadata": {
    "colab_type": "text",
    "id": "kNbwDW_UMWc0"
   },
   "source": [
    "## Standardize format"
   ]
  },
  {
   "cell_type": "code",
   "execution_count": 5,
   "metadata": {
    "colab": {},
    "colab_type": "code",
    "id": "kz3P4RXaMWc1",
    "scrolled": true
   },
   "outputs": [],
   "source": [
    "CLAS_PATH=Path('imdb_clas/')\n",
    "CLAS_PATH.mkdir(exist_ok=True)\n",
    "\n",
    "LM_PATH=Path('imdb_lm/')\n",
    "LM_PATH.mkdir(exist_ok=True)"
   ]
  },
  {
   "cell_type": "markdown",
   "metadata": {
    "colab_type": "text",
    "id": "cEeU74qNMWc5"
   },
   "source": [
    "The imdb dataset has 3 classes. positive, negative and unsupervised(sentiment is unknown). \n",
    "There are 75k training reviews(12.5k pos, 12.5k neg, 50k unsup)\n",
    "There are 25k validation reviews(12.5k pos, 12.5k neg & no unsup)\n",
    "\n",
    "Refer to the README file in the imdb corpus for further information about the dataset."
   ]
  },
  {
   "cell_type": "code",
   "execution_count": 5,
   "metadata": {
    "colab": {},
    "colab_type": "code",
    "id": "vodLUCvlMWdD"
   },
   "outputs": [],
   "source": [
    "col_names = ['labels','text']"
   ]
  },
  {
   "cell_type": "code",
   "execution_count": 6,
   "metadata": {
    "colab": {
     "base_uri": "https://localhost:8080/",
     "height": 101
    },
    "colab_type": "code",
    "id": "Ypq-v2ynRJtt",
    "outputId": "82c6a7c6-83a4-46d2-9a33-ee2a571c3cfa"
   },
   "outputs": [],
   "source": [
    "\n",
    "# Grabbing D data\n",
    "#!git clone https://github.com/rgilman33/imdb_sync.git"
   ]
  },
  {
   "cell_type": "code",
   "execution_count": 7,
   "metadata": {
    "colab": {
     "base_uri": "https://localhost:8080/",
     "height": 212
    },
    "colab_type": "code",
    "id": "8xt3kmJOZXOA",
    "outputId": "731c7b8c-9d2b-4f9a-f92d-15917bfdf086"
   },
   "outputs": [
    {
     "name": "stdout",
     "output_type": "stream",
     "text": [
      "50000\n"
     ]
    },
    {
     "name": "stderr",
     "output_type": "stream",
     "text": [
      "/home/ubuntu/anaconda3/envs/fastai/lib/python3.6/site-packages/ipykernel_launcher.py:8: FutureWarning: Sorting because non-concatenation axis is not aligned. A future version\n",
      "of pandas will change to not sort by default.\n",
      "\n",
      "To accept the future behavior, pass 'sort=False'.\n",
      "\n",
      "To retain the current behavior and silence the warning, pass 'sort=True'.\n",
      "\n",
      "  \n"
     ]
    },
    {
     "data": {
      "text/html": [
       "<div>\n",
       "<style scoped>\n",
       "    .dataframe tbody tr th:only-of-type {\n",
       "        vertical-align: middle;\n",
       "    }\n",
       "\n",
       "    .dataframe tbody tr th {\n",
       "        vertical-align: top;\n",
       "    }\n",
       "\n",
       "    .dataframe thead th {\n",
       "        text-align: right;\n",
       "    }\n",
       "</style>\n",
       "<table border=\"1\" class=\"dataframe\">\n",
       "  <thead>\n",
       "    <tr style=\"text-align: right;\">\n",
       "      <th></th>\n",
       "      <th>dataset</th>\n",
       "      <th>id</th>\n",
       "      <th>labels</th>\n",
       "      <th>text</th>\n",
       "    </tr>\n",
       "  </thead>\n",
       "  <tbody>\n",
       "    <tr>\n",
       "      <th>0</th>\n",
       "      <td>train</td>\n",
       "      <td>2592</td>\n",
       "      <td>0</td>\n",
       "      <td>Un-bleeping-believable! Meg Ryan doesn't even ...</td>\n",
       "    </tr>\n",
       "    <tr>\n",
       "      <th>1</th>\n",
       "      <td>train</td>\n",
       "      <td>18359</td>\n",
       "      <td>1</td>\n",
       "      <td>This is a extremely well-made film. The acting...</td>\n",
       "    </tr>\n",
       "    <tr>\n",
       "      <th>2</th>\n",
       "      <td>train</td>\n",
       "      <td>1040</td>\n",
       "      <td>0</td>\n",
       "      <td>Every once in a long while a movie will come a...</td>\n",
       "    </tr>\n",
       "    <tr>\n",
       "      <th>3</th>\n",
       "      <td>train</td>\n",
       "      <td>17262</td>\n",
       "      <td>1</td>\n",
       "      <td>Name just says it all. I watched this movie wi...</td>\n",
       "    </tr>\n",
       "    <tr>\n",
       "      <th>4</th>\n",
       "      <td>train</td>\n",
       "      <td>9908</td>\n",
       "      <td>0</td>\n",
       "      <td>This movie succeeds at being one of the most u...</td>\n",
       "    </tr>\n",
       "  </tbody>\n",
       "</table>\n",
       "</div>"
      ],
      "text/plain": [
       "  dataset     id  labels                                               text\n",
       "0   train   2592       0  Un-bleeping-believable! Meg Ryan doesn't even ...\n",
       "1   train  18359       1  This is a extremely well-made film. The acting...\n",
       "2   train   1040       0  Every once in a long while a movie will come a...\n",
       "3   train  17262       1  Name just says it all. I watched this movie wi...\n",
       "4   train   9908       0  This movie succeeds at being one of the most u..."
      ]
     },
     "execution_count": 7,
     "metadata": {},
     "output_type": "execute_result"
    }
   ],
   "source": [
    "# Reading in the train set and the test set. Creating single df w everthing.\n",
    "\n",
    "df_trn = pd.read_csv(\"train.csv\")\n",
    "df_test = pd.read_csv(\"test.csv\")\n",
    "df_trn[\"dataset\"] = \"train\"; df_test[\"dataset\"] = \"test\"\n",
    "df_test[\"labels\"] = 3\n",
    "\n",
    "df = pd.concat([df_trn, df_test], axis=0); print(len(df))\n",
    "df.head()"
   ]
  },
  {
   "cell_type": "code",
   "execution_count": 8,
   "metadata": {},
   "outputs": [
    {
     "data": {
      "text/plain": [
       "(1325.31292, 1294.0274)"
      ]
     },
     "execution_count": 8,
     "metadata": {},
     "output_type": "execute_result"
    }
   ],
   "source": [
    "df_trn.text.str.len().mean(), df_test.text.str.len().mean()"
   ]
  },
  {
   "cell_type": "code",
   "execution_count": 16,
   "metadata": {
    "colab": {},
    "colab_type": "code",
    "id": "bww08L1bStmw"
   },
   "outputs": [],
   "source": [
    "# Saving to csv to open again with chunks\n",
    "\n",
    "df.to_csv(LM_PATH/'df.csv', index=False)"
   ]
  },
  {
   "cell_type": "markdown",
   "metadata": {
    "colab_type": "text",
    "id": "pjMG9rxiO9-3"
   },
   "source": [
    "## Language model tokens"
   ]
  },
  {
   "cell_type": "markdown",
   "metadata": {
    "colab_type": "text",
    "id": "_QWoYYt0MWdj"
   },
   "source": [
    "In this section, we start cleaning up the messy text. There are 2 main activities we need to perform:\n",
    "\n",
    "1. Clean up extra spaces, tab chars, new ln chars and other characters and replace them with standard ones\n",
    "2. Use the awesome [spacy](http://spacy.io) library to tokenize the data. Since spacy does not provide a parallel/multicore version of the tokenizer, the fastai library adds this functionality. This parallel version uses all the cores of your CPUs and runs much faster than the serial version of the spacy tokenizer.\n",
    "\n",
    "Tokenization is the process of splitting the text into separate tokens so that each token can be assigned a unique index. This means we can convert the text into integer indexes our models can use.\n",
    "\n",
    "We use an appropriate chunksize as the tokenization process is memory intensive"
   ]
  },
  {
   "cell_type": "code",
   "execution_count": 17,
   "metadata": {
    "colab": {},
    "colab_type": "code",
    "id": "2qLPT5QtMWdk"
   },
   "outputs": [],
   "source": [
    "chunksize= 10000"
   ]
  },
  {
   "cell_type": "code",
   "execution_count": 18,
   "metadata": {
    "colab": {},
    "colab_type": "code",
    "id": "URPNdSmqMWdn"
   },
   "outputs": [],
   "source": [
    "re1 = re.compile(r'  +')\n",
    "\n",
    "def fixup(x):\n",
    "    x = x.replace('#39;', \"'\").replace('amp;', '&').replace('#146;', \"'\").replace(\n",
    "        'nbsp;', ' ').replace('#36;', '$').replace('\\\\n', \"\\n\").replace('quot;', \"'\").replace(\n",
    "        '<br />', \"\\n\").replace('\\\\\"', '\"').replace('<unk>','u_n').replace(' @.@ ','.').replace(\n",
    "        ' @-@ ','-').replace('\\\\', ' \\\\ ')\n",
    "    return re1.sub(' ', html.unescape(x))"
   ]
  },
  {
   "cell_type": "code",
   "execution_count": 19,
   "metadata": {
    "colab": {},
    "colab_type": "code",
    "id": "wrAqnwZiMWdq"
   },
   "outputs": [],
   "source": [
    "def get_texts(df, n_lbls=1):\n",
    "    texts = f'\\n{BOS} {FLD} 1 '\n",
    "    texts += df[\"text\"].astype(str) # wow, think i was sending in real labels as part of text...\n",
    "    texts = list(texts.apply(fixup).values)\n",
    "\n",
    "    tok = Tokenizer().proc_all_mp(partition_by_cores(texts))\n",
    "    return tok"
   ]
  },
  {
   "cell_type": "code",
   "execution_count": 20,
   "metadata": {
    "colab": {},
    "colab_type": "code",
    "id": "fELR8np1MWdu"
   },
   "outputs": [],
   "source": [
    "def get_all(df, n_lbls):\n",
    "    tok = []\n",
    "    for i, r in enumerate(df):\n",
    "        print(i)\n",
    "        tok_ = get_texts(r, n_lbls)\n",
    "        tok += tok_;\n",
    "    return tok"
   ]
  },
  {
   "cell_type": "code",
   "execution_count": 21,
   "metadata": {
    "colab": {},
    "colab_type": "code",
    "id": "Q_SDTbi6MWdw"
   },
   "outputs": [],
   "source": [
    "# Reading back in with chunks\n",
    "\n",
    "df_chunks = pd.read_csv(LM_PATH/'df.csv', chunksize=chunksize)"
   ]
  },
  {
   "cell_type": "code",
   "execution_count": 22,
   "metadata": {
    "colab": {
     "base_uri": "https://localhost:8080/",
     "height": 50
    },
    "colab_type": "code",
    "id": "U5hg58Q7MWdy",
    "outputId": "25b120a7-b4fd-46fa-bb44-1de80ba88c9f"
   },
   "outputs": [
    {
     "name": "stdout",
     "output_type": "stream",
     "text": [
      "0\n"
     ]
    },
    {
     "name": "stderr",
     "output_type": "stream",
     "text": [
      "/home/ubuntu/anaconda3/envs/fastai/lib/python3.6/importlib/_bootstrap.py:219: RuntimeWarning: numpy.dtype size changed, may indicate binary incompatibility. Expected 96, got 88\n",
      "  return f(*args, **kwds)\n",
      "/home/ubuntu/anaconda3/envs/fastai/lib/python3.6/importlib/_bootstrap.py:219: RuntimeWarning: numpy.ufunc size changed, may indicate binary incompatibility. Expected 192, got 176\n",
      "  return f(*args, **kwds)\n"
     ]
    },
    {
     "name": "stdout",
     "output_type": "stream",
     "text": [
      "1\n",
      "2\n",
      "3\n",
      "4\n"
     ]
    },
    {
     "data": {
      "text/plain": [
       "50000"
      ]
     },
     "execution_count": 22,
     "metadata": {},
     "output_type": "execute_result"
    }
   ],
   "source": [
    "# getting list of tokenized lists\n",
    "\n",
    "tok_text = get_all(df_chunks, 1)\n",
    "len(tok_text)"
   ]
  },
  {
   "cell_type": "code",
   "execution_count": 23,
   "metadata": {
    "colab": {},
    "colab_type": "code",
    "id": "smXWTQAviMAE"
   },
   "outputs": [],
   "source": [
    "# adding back to df\n",
    "df[\"tokenized_text\"] = tok_text"
   ]
  },
  {
   "cell_type": "code",
   "execution_count": 24,
   "metadata": {},
   "outputs": [
    {
     "data": {
      "text/html": [
       "<div>\n",
       "<style scoped>\n",
       "    .dataframe tbody tr th:only-of-type {\n",
       "        vertical-align: middle;\n",
       "    }\n",
       "\n",
       "    .dataframe tbody tr th {\n",
       "        vertical-align: top;\n",
       "    }\n",
       "\n",
       "    .dataframe thead th {\n",
       "        text-align: right;\n",
       "    }\n",
       "</style>\n",
       "<table border=\"1\" class=\"dataframe\">\n",
       "  <thead>\n",
       "    <tr style=\"text-align: right;\">\n",
       "      <th></th>\n",
       "      <th>dataset</th>\n",
       "      <th>id</th>\n",
       "      <th>labels</th>\n",
       "      <th>text</th>\n",
       "      <th>tokenized_text</th>\n",
       "    </tr>\n",
       "  </thead>\n",
       "  <tbody>\n",
       "    <tr>\n",
       "      <th>0</th>\n",
       "      <td>train</td>\n",
       "      <td>2592</td>\n",
       "      <td>0</td>\n",
       "      <td>Un-bleeping-believable! Meg Ryan doesn't even ...</td>\n",
       "      <td>[\\n, xbos, xfld, 1, un, -, bleeping, -, believ...</td>\n",
       "    </tr>\n",
       "    <tr>\n",
       "      <th>1</th>\n",
       "      <td>train</td>\n",
       "      <td>18359</td>\n",
       "      <td>1</td>\n",
       "      <td>This is a extremely well-made film. The acting...</td>\n",
       "      <td>[\\n, xbos, xfld, 1, this, is, a, extremely, we...</td>\n",
       "    </tr>\n",
       "    <tr>\n",
       "      <th>2</th>\n",
       "      <td>train</td>\n",
       "      <td>1040</td>\n",
       "      <td>0</td>\n",
       "      <td>Every once in a long while a movie will come a...</td>\n",
       "      <td>[\\n, xbos, xfld, 1, every, once, in, a, long, ...</td>\n",
       "    </tr>\n",
       "    <tr>\n",
       "      <th>3</th>\n",
       "      <td>train</td>\n",
       "      <td>17262</td>\n",
       "      <td>1</td>\n",
       "      <td>Name just says it all. I watched this movie wi...</td>\n",
       "      <td>[\\n, xbos, xfld, 1, name, just, says, it, all,...</td>\n",
       "    </tr>\n",
       "    <tr>\n",
       "      <th>4</th>\n",
       "      <td>train</td>\n",
       "      <td>9908</td>\n",
       "      <td>0</td>\n",
       "      <td>This movie succeeds at being one of the most u...</td>\n",
       "      <td>[\\n, xbos, xfld, 1, this, movie, succeeds, at,...</td>\n",
       "    </tr>\n",
       "  </tbody>\n",
       "</table>\n",
       "</div>"
      ],
      "text/plain": [
       "  dataset     id  labels                                               text  \\\n",
       "0   train   2592       0  Un-bleeping-believable! Meg Ryan doesn't even ...   \n",
       "1   train  18359       1  This is a extremely well-made film. The acting...   \n",
       "2   train   1040       0  Every once in a long while a movie will come a...   \n",
       "3   train  17262       1  Name just says it all. I watched this movie wi...   \n",
       "4   train   9908       0  This movie succeeds at being one of the most u...   \n",
       "\n",
       "                                      tokenized_text  \n",
       "0  [\\n, xbos, xfld, 1, un, -, bleeping, -, believ...  \n",
       "1  [\\n, xbos, xfld, 1, this, is, a, extremely, we...  \n",
       "2  [\\n, xbos, xfld, 1, every, once, in, a, long, ...  \n",
       "3  [\\n, xbos, xfld, 1, name, just, says, it, all,...  \n",
       "4  [\\n, xbos, xfld, 1, this, movie, succeeds, at,...  "
      ]
     },
     "execution_count": 24,
     "metadata": {},
     "output_type": "execute_result"
    }
   ],
   "source": [
    "df.head()"
   ]
  },
  {
   "cell_type": "markdown",
   "metadata": {},
   "source": [
    "create symlink to spacy en model\n",
    "\n",
    "mklink C:\\Users\\rudyg\\AppData\\Local\\conda\\conda\\envs\\fastai\\lib\\site-packages\\spacy\\data\\en C:\\Users\\rudyg\\AppData\\Local\\conda\\conda\\envs\\fastai\\lib\\site-packages\\en_core_web_sm"
   ]
  },
  {
   "cell_type": "code",
   "execution_count": 25,
   "metadata": {
    "colab": {
     "base_uri": "https://localhost:8080/",
     "height": 437
    },
    "colab_type": "code",
    "id": "n5wVLf_kMWeA",
    "outputId": "94eae392-b273-4dda-cc4b-e8718e790be1",
    "scrolled": true
   },
   "outputs": [
    {
     "data": {
      "text/plain": [
       "[('the', 666238),\n",
       " ('.', 549276),\n",
       " (',', 542898),\n",
       " ('and', 323667),\n",
       " ('a', 321663),\n",
       " ('of', 289313),\n",
       " ('to', 267950),\n",
       " ('is', 217126),\n",
       " ('it', 189546),\n",
       " ('in', 186509),\n",
       " ('i', 173646),\n",
       " ('this', 150480),\n",
       " ('that', 144270),\n",
       " ('\"', 130201),\n",
       " (\"'s\", 121976),\n",
       " ('-', 103672),\n",
       " ('was', 100025),\n",
       " ('\\n\\n', 98729),\n",
       " ('as', 91576),\n",
       " ('movie', 87553),\n",
       " ('for', 87334),\n",
       " ('with', 87262),\n",
       " ('but', 83204),\n",
       " ('film', 79428),\n",
       " ('you', 68831)]"
      ]
     },
     "execution_count": 25,
     "metadata": {},
     "output_type": "execute_result"
    }
   ],
   "source": [
    "freq = Counter(p for o in df.tokenized_text for p in o)\n",
    "freq.most_common(25)"
   ]
  },
  {
   "cell_type": "markdown",
   "metadata": {
    "colab_type": "text",
    "id": "Cx0ZYjSlMWeE"
   },
   "source": [
    "The *vocab* is the **unique set of all tokens** in our dataset. The vocab provides us a way for us to simply replace each word in our datasets with a unique integer called an index.\n",
    "\n",
    "In a large corpus of data one might find some rare words which are only used a few times in the whole dataset. We discard such rare words and avoid trying to learn meaningful patterns out of them.\n",
    "\n",
    "Here we have set a minimum frequency of occurence to 2 times. It has been observed by NLP practicioners that a maximum vocab of 60k usually yields good results for classification tasks. So we set maz_vocab to 60000."
   ]
  },
  {
   "cell_type": "code",
   "execution_count": 26,
   "metadata": {
    "colab": {},
    "colab_type": "code",
    "id": "Du0W05vYMWeF"
   },
   "outputs": [],
   "source": [
    "max_vocab = 60000\n",
    "min_freq = 2"
   ]
  },
  {
   "cell_type": "code",
   "execution_count": 27,
   "metadata": {
    "colab": {},
    "colab_type": "code",
    "id": "4BtZ471qMWeJ"
   },
   "outputs": [],
   "source": [
    "itos = [o for o,c in freq.most_common(max_vocab) if c>min_freq]\n",
    "itos.insert(0, '_pad_')\n",
    "itos.insert(0, '_unk_')"
   ]
  },
  {
   "cell_type": "markdown",
   "metadata": {
    "colab_type": "text",
    "id": "bPawBklfMWeK"
   },
   "source": [
    "We create a reverse mapping called stoi which is useful to lookup the index of a given token. stoi also has the same number of elements as itos. We use a high performance container called [collections.defaultdict](https://docs.python.org/2/library/collections.html#collections.defaultdict) to store our stoi mapping."
   ]
  },
  {
   "cell_type": "code",
   "execution_count": 28,
   "metadata": {
    "colab": {
     "base_uri": "https://localhost:8080/",
     "height": 34
    },
    "colab_type": "code",
    "id": "K1ZG2GZFMWeL",
    "outputId": "50812ddd-1ff9-4dfa-9105-4c06f114536b"
   },
   "outputs": [
    {
     "data": {
      "text/plain": [
       "52234"
      ]
     },
     "execution_count": 28,
     "metadata": {},
     "output_type": "execute_result"
    }
   ],
   "source": [
    "stoi = collections.defaultdict(lambda:0, {v:k for k,v in enumerate(itos)})\n",
    "len(stoi)"
   ]
  },
  {
   "cell_type": "code",
   "execution_count": 29,
   "metadata": {
    "colab": {
     "base_uri": "https://localhost:8080/",
     "height": 34
    },
    "colab_type": "code",
    "id": "-W8I_gjIUtOp",
    "outputId": "f376b359-162f-4b45-fe82-f19811eb9ec0"
   },
   "outputs": [
    {
     "data": {
      "text/plain": [
       "(2, 1181)"
      ]
     },
     "execution_count": 29,
     "metadata": {},
     "output_type": "execute_result"
    }
   ],
   "source": [
    "stoi[\"the\"], stoi[\"awesome\"]"
   ]
  },
  {
   "cell_type": "code",
   "execution_count": 30,
   "metadata": {
    "colab": {},
    "colab_type": "code",
    "id": "HNE4IvY2MWeN"
   },
   "outputs": [],
   "source": [
    "numerized_tokens = [[stoi[o] for o in p] for p in df.tokenized_text]"
   ]
  },
  {
   "cell_type": "code",
   "execution_count": 31,
   "metadata": {
    "colab": {
     "base_uri": "https://localhost:8080/",
     "height": 34
    },
    "colab_type": "code",
    "id": "mXWgHHuLMWeQ",
    "outputId": "d38398b5-6923-4100-9a5a-c89d342ec09b"
   },
   "outputs": [
    {
     "data": {
      "text/plain": [
       "(50000, 91)"
      ]
     },
     "execution_count": 31,
     "metadata": {},
     "output_type": "execute_result"
    }
   ],
   "source": [
    "len(numerized_tokens), len(numerized_tokens[0])"
   ]
  },
  {
   "cell_type": "code",
   "execution_count": 32,
   "metadata": {
    "colab": {},
    "colab_type": "code",
    "id": "3qQKs2EvMWeS"
   },
   "outputs": [],
   "source": [
    "df[\"numerized_tokens\"] = numerized_tokens"
   ]
  },
  {
   "cell_type": "code",
   "execution_count": 33,
   "metadata": {
    "colab": {
     "base_uri": "https://localhost:8080/",
     "height": 353
    },
    "colab_type": "code",
    "id": "Me-x0LiCVtEG",
    "outputId": "a689dacf-bb0b-49e6-cdac-bc81fdc81b99",
    "scrolled": true
   },
   "outputs": [
    {
     "data": {
      "text/plain": [
       "[40,\n",
       " 41,\n",
       " 42,\n",
       " 37,\n",
       " 2773,\n",
       " 17,\n",
       " 36931,\n",
       " 17,\n",
       " 839,\n",
       " 47,\n",
       " 4951,\n",
       " 1666,\n",
       " 90,\n",
       " 29,\n",
       " 76,\n",
       " 182,\n",
       " 57,\n",
       " 678,\n",
       " 20287,\n",
       " 3089]"
      ]
     },
     "execution_count": 33,
     "metadata": {},
     "output_type": "execute_result"
    }
   ],
   "source": [
    "df[\"numerized_tokens\"].iloc[0][:20]"
   ]
  },
  {
   "cell_type": "code",
   "execution_count": 34,
   "metadata": {
    "colab": {
     "base_uri": "https://localhost:8080/",
     "height": 34
    },
    "colab_type": "code",
    "id": "8q33ej8WMWeU",
    "outputId": "9af2c086-a780-48c6-b795-6d6cdb4c0dca"
   },
   "outputs": [
    {
     "data": {
      "text/plain": [
       "52234"
      ]
     },
     "execution_count": 34,
     "metadata": {},
     "output_type": "execute_result"
    }
   ],
   "source": [
    "vs=len(itos); vs"
   ]
  },
  {
   "cell_type": "code",
   "execution_count": 35,
   "metadata": {},
   "outputs": [],
   "source": [
    "df.to_csv(\"prepped_data.csv\", index=False)"
   ]
  },
  {
   "cell_type": "code",
   "execution_count": 6,
   "metadata": {},
   "outputs": [
    {
     "name": "stdout",
     "output_type": "stream",
     "text": [
      "50000\n"
     ]
    }
   ],
   "source": [
    "# Grabbing prepped data\n",
    "\n",
    "df = pd.read_csv(\"prepped_data.csv\"); print(len(df))\n",
    "vs = 52234 # manually set this to match above\n",
    "\n",
    "import ast\n",
    "df[\"numerized_tokens\"] = df[\"numerized_tokens\"].apply(lambda x: ast.literal_eval(x))"
   ]
  },
  {
   "cell_type": "code",
   "execution_count": 7,
   "metadata": {
    "scrolled": true
   },
   "outputs": [
    {
     "data": {
      "text/html": [
       "<div>\n",
       "<style scoped>\n",
       "    .dataframe tbody tr th:only-of-type {\n",
       "        vertical-align: middle;\n",
       "    }\n",
       "\n",
       "    .dataframe tbody tr th {\n",
       "        vertical-align: top;\n",
       "    }\n",
       "\n",
       "    .dataframe thead th {\n",
       "        text-align: right;\n",
       "    }\n",
       "</style>\n",
       "<table border=\"1\" class=\"dataframe\">\n",
       "  <thead>\n",
       "    <tr style=\"text-align: right;\">\n",
       "      <th></th>\n",
       "      <th>dataset</th>\n",
       "      <th>id</th>\n",
       "      <th>labels</th>\n",
       "      <th>text</th>\n",
       "      <th>tokenized_text</th>\n",
       "      <th>numerized_tokens</th>\n",
       "    </tr>\n",
       "  </thead>\n",
       "  <tbody>\n",
       "    <tr>\n",
       "      <th>0</th>\n",
       "      <td>train</td>\n",
       "      <td>2592</td>\n",
       "      <td>0</td>\n",
       "      <td>Un-bleeping-believable! Meg Ryan doesn't even ...</td>\n",
       "      <td>['\\n', 'xbos', 'xfld', '1', 'un', '-', 'bleepi...</td>\n",
       "      <td>[40, 41, 42, 37, 2773, 17, 36931, 17, 839, 47,...</td>\n",
       "    </tr>\n",
       "    <tr>\n",
       "      <th>1</th>\n",
       "      <td>train</td>\n",
       "      <td>18359</td>\n",
       "      <td>1</td>\n",
       "      <td>This is a extremely well-made film. The acting...</td>\n",
       "      <td>['\\n', 'xbos', 'xfld', '1', 'this', 'is', 'a',...</td>\n",
       "      <td>[40, 41, 42, 37, 13, 9, 6, 583, 89, 17, 110, 2...</td>\n",
       "    </tr>\n",
       "    <tr>\n",
       "      <th>2</th>\n",
       "      <td>train</td>\n",
       "      <td>1040</td>\n",
       "      <td>0</td>\n",
       "      <td>Every once in a long while a movie will come a...</td>\n",
       "      <td>['\\n', 'xbos', 'xfld', '1', 'every', 'once', '...</td>\n",
       "      <td>[40, 41, 42, 37, 189, 303, 11, 6, 217, 156, 6,...</td>\n",
       "    </tr>\n",
       "    <tr>\n",
       "      <th>3</th>\n",
       "      <td>train</td>\n",
       "      <td>17262</td>\n",
       "      <td>1</td>\n",
       "      <td>Name just says it all. I watched this movie wi...</td>\n",
       "      <td>['\\n', 'xbos', 'xfld', '1', 'name', 'just', 's...</td>\n",
       "      <td>[40, 41, 42, 37, 410, 55, 563, 10, 43, 3, 12, ...</td>\n",
       "    </tr>\n",
       "    <tr>\n",
       "      <th>4</th>\n",
       "      <td>train</td>\n",
       "      <td>9908</td>\n",
       "      <td>0</td>\n",
       "      <td>This movie succeeds at being one of the most u...</td>\n",
       "      <td>['\\n', 'xbos', 'xfld', '1', 'this', 'movie', '...</td>\n",
       "      <td>[40, 41, 42, 37, 13, 21, 2814, 44, 129, 38, 7,...</td>\n",
       "    </tr>\n",
       "  </tbody>\n",
       "</table>\n",
       "</div>"
      ],
      "text/plain": [
       "  dataset     id  labels                                               text  \\\n",
       "0   train   2592       0  Un-bleeping-believable! Meg Ryan doesn't even ...   \n",
       "1   train  18359       1  This is a extremely well-made film. The acting...   \n",
       "2   train   1040       0  Every once in a long while a movie will come a...   \n",
       "3   train  17262       1  Name just says it all. I watched this movie wi...   \n",
       "4   train   9908       0  This movie succeeds at being one of the most u...   \n",
       "\n",
       "                                      tokenized_text  \\\n",
       "0  ['\\n', 'xbos', 'xfld', '1', 'un', '-', 'bleepi...   \n",
       "1  ['\\n', 'xbos', 'xfld', '1', 'this', 'is', 'a',...   \n",
       "2  ['\\n', 'xbos', 'xfld', '1', 'every', 'once', '...   \n",
       "3  ['\\n', 'xbos', 'xfld', '1', 'name', 'just', 's...   \n",
       "4  ['\\n', 'xbos', 'xfld', '1', 'this', 'movie', '...   \n",
       "\n",
       "                                    numerized_tokens  \n",
       "0  [40, 41, 42, 37, 2773, 17, 36931, 17, 839, 47,...  \n",
       "1  [40, 41, 42, 37, 13, 9, 6, 583, 89, 17, 110, 2...  \n",
       "2  [40, 41, 42, 37, 189, 303, 11, 6, 217, 156, 6,...  \n",
       "3  [40, 41, 42, 37, 410, 55, 563, 10, 43, 3, 12, ...  \n",
       "4  [40, 41, 42, 37, 13, 21, 2814, 44, 129, 38, 7,...  "
      ]
     },
     "execution_count": 7,
     "metadata": {},
     "output_type": "execute_result"
    }
   ],
   "source": [
    "df.head()"
   ]
  },
  {
   "cell_type": "code",
   "execution_count": 8,
   "metadata": {},
   "outputs": [
    {
     "data": {
      "text/html": [
       "<div>\n",
       "<style scoped>\n",
       "    .dataframe tbody tr th:only-of-type {\n",
       "        vertical-align: middle;\n",
       "    }\n",
       "\n",
       "    .dataframe tbody tr th {\n",
       "        vertical-align: top;\n",
       "    }\n",
       "\n",
       "    .dataframe thead th {\n",
       "        text-align: right;\n",
       "    }\n",
       "</style>\n",
       "<table border=\"1\" class=\"dataframe\">\n",
       "  <thead>\n",
       "    <tr style=\"text-align: right;\">\n",
       "      <th></th>\n",
       "      <th>dataset</th>\n",
       "      <th>id</th>\n",
       "      <th>labels</th>\n",
       "      <th>text</th>\n",
       "      <th>tokenized_text</th>\n",
       "      <th>numerized_tokens</th>\n",
       "    </tr>\n",
       "  </thead>\n",
       "  <tbody>\n",
       "    <tr>\n",
       "      <th>25000</th>\n",
       "      <td>test</td>\n",
       "      <td>98481</td>\n",
       "      <td>3</td>\n",
       "      <td>Bud Abbott and Lou Costello always had a good ...</td>\n",
       "      <td>['\\n', 'xbos', 'xfld', '1', 'bud', 'abbott', '...</td>\n",
       "      <td>[40, 41, 42, 37, 5284, 7045, 5, 3741, 6007, 23...</td>\n",
       "    </tr>\n",
       "    <tr>\n",
       "      <th>25001</th>\n",
       "      <td>test</td>\n",
       "      <td>88606</td>\n",
       "      <td>3</td>\n",
       "      <td>This film is not your typical Hollywood fare, ...</td>\n",
       "      <td>['\\n', 'xbos', 'xfld', '1', 'this', 'film', 'i...</td>\n",
       "      <td>[40, 41, 42, 37, 13, 25, 9, 32, 145, 798, 366,...</td>\n",
       "    </tr>\n",
       "    <tr>\n",
       "      <th>25002</th>\n",
       "      <td>test</td>\n",
       "      <td>88639</td>\n",
       "      <td>3</td>\n",
       "      <td>Henry Thomas, and Robin Tunny, are a couple of...</td>\n",
       "      <td>['\\n', 'xbos', 'xfld', '1', 'henry', 'thomas',...</td>\n",
       "      <td>[40, 41, 42, 37, 1635, 1660, 4, 5, 1886, 34013...</td>\n",
       "    </tr>\n",
       "    <tr>\n",
       "      <th>25003</th>\n",
       "      <td>test</td>\n",
       "      <td>76170</td>\n",
       "      <td>3</td>\n",
       "      <td>This digital horror film brings us into the Mi...</td>\n",
       "      <td>['\\n', 'xbos', 'xfld', '1', 'this', 'digital',...</td>\n",
       "      <td>[40, 41, 42, 37, 13, 3654, 206, 25, 993, 199, ...</td>\n",
       "    </tr>\n",
       "    <tr>\n",
       "      <th>25004</th>\n",
       "      <td>test</td>\n",
       "      <td>81803</td>\n",
       "      <td>3</td>\n",
       "      <td>I just saw this on a local independent station...</td>\n",
       "      <td>['\\n', 'xbos', 'xfld', '1', 'i', 'just', 'saw'...</td>\n",
       "      <td>[40, 41, 42, 37, 12, 55, 232, 13, 28, 6, 714, ...</td>\n",
       "    </tr>\n",
       "  </tbody>\n",
       "</table>\n",
       "</div>"
      ],
      "text/plain": [
       "      dataset     id  labels  \\\n",
       "25000    test  98481       3   \n",
       "25001    test  88606       3   \n",
       "25002    test  88639       3   \n",
       "25003    test  76170       3   \n",
       "25004    test  81803       3   \n",
       "\n",
       "                                                    text  \\\n",
       "25000  Bud Abbott and Lou Costello always had a good ...   \n",
       "25001  This film is not your typical Hollywood fare, ...   \n",
       "25002  Henry Thomas, and Robin Tunny, are a couple of...   \n",
       "25003  This digital horror film brings us into the Mi...   \n",
       "25004  I just saw this on a local independent station...   \n",
       "\n",
       "                                          tokenized_text  \\\n",
       "25000  ['\\n', 'xbos', 'xfld', '1', 'bud', 'abbott', '...   \n",
       "25001  ['\\n', 'xbos', 'xfld', '1', 'this', 'film', 'i...   \n",
       "25002  ['\\n', 'xbos', 'xfld', '1', 'henry', 'thomas',...   \n",
       "25003  ['\\n', 'xbos', 'xfld', '1', 'this', 'digital',...   \n",
       "25004  ['\\n', 'xbos', 'xfld', '1', 'i', 'just', 'saw'...   \n",
       "\n",
       "                                        numerized_tokens  \n",
       "25000  [40, 41, 42, 37, 5284, 7045, 5, 3741, 6007, 23...  \n",
       "25001  [40, 41, 42, 37, 13, 25, 9, 32, 145, 798, 366,...  \n",
       "25002  [40, 41, 42, 37, 1635, 1660, 4, 5, 1886, 34013...  \n",
       "25003  [40, 41, 42, 37, 13, 3654, 206, 25, 993, 199, ...  \n",
       "25004  [40, 41, 42, 37, 12, 55, 232, 13, 28, 6, 714, ...  "
      ]
     },
     "execution_count": 8,
     "metadata": {},
     "output_type": "execute_result"
    }
   ],
   "source": [
    "df[df.dataset==\"test\"].head()"
   ]
  },
  {
   "cell_type": "markdown",
   "metadata": {
    "colab_type": "text",
    "id": "b_g2lka0MWeW"
   },
   "source": [
    "## wikitext103 conversion"
   ]
  },
  {
   "cell_type": "markdown",
   "metadata": {
    "colab_type": "text",
    "id": "YfwfB4DRMWeW"
   },
   "source": [
    "We are now going to build an english language model for the IMDB corpus. We could start from scratch and try to learn the structure of the english language. But we use a technique called transfer learning to make this process easier. In transfer learning (a fairly recent idea for NLP) a pre-trained LM that has been trained on a large generic corpus(_like wikipedia articles_) can be used to transfer it's knowledge to a target LM and the weights can be fine-tuned.\n",
    "\n",
    "Our source LM is the wikitext103 LM created by Stephen Merity @ Salesforce research. [Link to dataset](https://www.salesforce.com/products/einstein/ai-research/the-wikitext-dependency-language-modeling-dataset/)\n",
    "The language model for wikitext103 (AWD LSTM) has been pre-trained and the weights can be downloaded here: [Link](http://files.fast.ai/models/wt103/). Our target LM is the IMDB LM. "
   ]
  },
  {
   "cell_type": "code",
   "execution_count": 36,
   "metadata": {
    "colab": {
     "base_uri": "https://localhost:8080/",
     "height": 2537
    },
    "colab_type": "code",
    "id": "IxGyZ9gfMWeW",
    "outputId": "3c0b62cc-3694-4b32-be6d-161ed9325f4d",
    "scrolled": true
   },
   "outputs": [
    {
     "name": "stdout",
     "output_type": "stream",
     "text": [
      "--2018-08-23 20:33:47--  http://files.fast.ai/models/wt103/\n",
      "Resolving files.fast.ai (files.fast.ai)... 67.205.15.147\n",
      "Connecting to files.fast.ai (files.fast.ai)|67.205.15.147|:80... connected.\n",
      "HTTP request sent, awaiting response... 200 OK\n",
      "Length: 857 [text/html]\n",
      "Saving to: ‘imdb_data/aclImdb/models/wt103/index.html’\n",
      "\n",
      "models/wt103/index. 100%[===================>]     857  --.-KB/s    in 0s      \n",
      "\n",
      "2018-08-23 20:33:47 (150 MB/s) - ‘imdb_data/aclImdb/models/wt103/index.html’ saved [857/857]\n",
      "\n",
      "Loading robots.txt; please ignore errors.\n",
      "--2018-08-23 20:33:47--  http://files.fast.ai/robots.txt\n",
      "Reusing existing connection to files.fast.ai:80.\n",
      "HTTP request sent, awaiting response... 404 Not Found\n",
      "2018-08-23 20:33:47 ERROR 404: Not Found.\n",
      "\n",
      "--2018-08-23 20:33:47--  http://files.fast.ai/models/wt103/?C=N;O=D\n",
      "Reusing existing connection to files.fast.ai:80.\n",
      "HTTP request sent, awaiting response... 200 OK\n",
      "Length: 857 [text/html]\n",
      "Saving to: ‘imdb_data/aclImdb/models/wt103/index.html?C=N;O=D’\n",
      "\n",
      "models/wt103/index. 100%[===================>]     857  --.-KB/s    in 0s      \n",
      "\n",
      "2018-08-23 20:33:47 (165 MB/s) - ‘imdb_data/aclImdb/models/wt103/index.html?C=N;O=D’ saved [857/857]\n",
      "\n",
      "--2018-08-23 20:33:47--  http://files.fast.ai/models/wt103/?C=M;O=A\n",
      "Reusing existing connection to files.fast.ai:80.\n",
      "HTTP request sent, awaiting response... 200 OK\n",
      "Length: 857 [text/html]\n",
      "Saving to: ‘imdb_data/aclImdb/models/wt103/index.html?C=M;O=A’\n",
      "\n",
      "models/wt103/index. 100%[===================>]     857  --.-KB/s    in 0s      \n",
      "\n",
      "2018-08-23 20:33:47 (161 MB/s) - ‘imdb_data/aclImdb/models/wt103/index.html?C=M;O=A’ saved [857/857]\n",
      "\n",
      "--2018-08-23 20:33:47--  http://files.fast.ai/models/wt103/?C=S;O=A\n",
      "Reusing existing connection to files.fast.ai:80.\n",
      "HTTP request sent, awaiting response... 200 OK\n",
      "Length: 857 [text/html]\n",
      "Saving to: ‘imdb_data/aclImdb/models/wt103/index.html?C=S;O=A’\n",
      "\n",
      "models/wt103/index. 100%[===================>]     857  --.-KB/s    in 0s      \n",
      "\n",
      "2018-08-23 20:33:47 (169 MB/s) - ‘imdb_data/aclImdb/models/wt103/index.html?C=S;O=A’ saved [857/857]\n",
      "\n",
      "--2018-08-23 20:33:47--  http://files.fast.ai/models/wt103/?C=D;O=A\n",
      "Reusing existing connection to files.fast.ai:80.\n",
      "HTTP request sent, awaiting response... 200 OK\n",
      "Length: 857 [text/html]\n",
      "Saving to: ‘imdb_data/aclImdb/models/wt103/index.html?C=D;O=A’\n",
      "\n",
      "models/wt103/index. 100%[===================>]     857  --.-KB/s    in 0s      \n",
      "\n",
      "2018-08-23 20:33:47 (173 MB/s) - ‘imdb_data/aclImdb/models/wt103/index.html?C=D;O=A’ saved [857/857]\n",
      "\n",
      "--2018-08-23 20:33:47--  http://files.fast.ai/models/wt103/bwd_wt103.h5\n",
      "Reusing existing connection to files.fast.ai:80.\n",
      "HTTP request sent, awaiting response... 200 OK\n",
      "Length: 462387687 (441M) [text/plain]\n",
      "Saving to: ‘imdb_data/aclImdb/models/wt103/bwd_wt103.h5’\n",
      "\n",
      "models/wt103/bwd_wt 100%[===================>] 440.97M   113MB/s    in 3.9s    \n",
      "\n",
      "2018-08-23 20:33:51 (112 MB/s) - ‘imdb_data/aclImdb/models/wt103/bwd_wt103.h5’ saved [462387687/462387687]\n",
      "\n",
      "--2018-08-23 20:33:51--  http://files.fast.ai/models/wt103/bwd_wt103_enc.h5\n",
      "Reusing existing connection to files.fast.ai:80.\n",
      "HTTP request sent, awaiting response... 200 OK\n",
      "Length: 462387634 (441M) [text/plain]\n",
      "Saving to: ‘imdb_data/aclImdb/models/wt103/bwd_wt103_enc.h5’\n",
      "\n",
      "models/wt103/bwd_wt 100%[===================>] 440.97M   113MB/s    in 3.9s    \n",
      "\n",
      "2018-08-23 20:33:55 (113 MB/s) - ‘imdb_data/aclImdb/models/wt103/bwd_wt103_enc.h5’ saved [462387634/462387634]\n",
      "\n",
      "--2018-08-23 20:33:55--  http://files.fast.ai/models/wt103/fwd_wt103.h5\n",
      "Reusing existing connection to files.fast.ai:80.\n",
      "HTTP request sent, awaiting response... 200 OK\n",
      "Length: 462387687 (441M) [text/plain]\n",
      "Saving to: ‘imdb_data/aclImdb/models/wt103/fwd_wt103.h5’\n",
      "\n",
      "models/wt103/fwd_wt 100%[===================>] 440.97M   112MB/s    in 3.9s    \n",
      "\n",
      "2018-08-23 20:33:59 (112 MB/s) - ‘imdb_data/aclImdb/models/wt103/fwd_wt103.h5’ saved [462387687/462387687]\n",
      "\n",
      "--2018-08-23 20:33:59--  http://files.fast.ai/models/wt103/fwd_wt103_enc.h5\n",
      "Reusing existing connection to files.fast.ai:80.\n",
      "HTTP request sent, awaiting response... 200 OK\n",
      "Length: 462387634 (441M) [text/plain]\n",
      "Saving to: ‘imdb_data/aclImdb/models/wt103/fwd_wt103_enc.h5’\n",
      "\n",
      "models/wt103/fwd_wt 100%[===================>] 440.97M   113MB/s    in 3.9s    \n",
      "\n",
      "2018-08-23 20:34:03 (113 MB/s) - ‘imdb_data/aclImdb/models/wt103/fwd_wt103_enc.h5’ saved [462387634/462387634]\n",
      "\n",
      "--2018-08-23 20:34:03--  http://files.fast.ai/models/wt103/itos_wt103.pkl\n",
      "Reusing existing connection to files.fast.ai:80.\n",
      "HTTP request sent, awaiting response... 200 OK\n",
      "Length: 4161252 (4.0M) [text/plain]\n",
      "Saving to: ‘imdb_data/aclImdb/models/wt103/itos_wt103.pkl’\n",
      "\n",
      "models/wt103/itos_w 100%[===================>]   3.97M  --.-KB/s    in 0.04s   \n",
      "\n",
      "2018-08-23 20:34:03 (113 MB/s) - ‘imdb_data/aclImdb/models/wt103/itos_wt103.pkl’ saved [4161252/4161252]\n",
      "\n",
      "--2018-08-23 20:34:03--  http://files.fast.ai/models/wt103/?C=N;O=A\n",
      "Reusing existing connection to files.fast.ai:80.\n",
      "HTTP request sent, awaiting response... 200 OK\n",
      "Length: 857 [text/html]\n",
      "Saving to: ‘imdb_data/aclImdb/models/wt103/index.html?C=N;O=A’\n",
      "\n",
      "models/wt103/index. 100%[===================>]     857  --.-KB/s    in 0s      \n",
      "\n",
      "2018-08-23 20:34:03 (160 MB/s) - ‘imdb_data/aclImdb/models/wt103/index.html?C=N;O=A’ saved [857/857]\n",
      "\n",
      "--2018-08-23 20:34:03--  http://files.fast.ai/models/wt103/?C=M;O=D\n",
      "Reusing existing connection to files.fast.ai:80.\n",
      "HTTP request sent, awaiting response... 200 OK\n",
      "Length: 857 [text/html]\n",
      "Saving to: ‘imdb_data/aclImdb/models/wt103/index.html?C=M;O=D’\n",
      "\n",
      "models/wt103/index. 100%[===================>]     857  --.-KB/s    in 0s      \n",
      "\n",
      "2018-08-23 20:34:03 (170 MB/s) - ‘imdb_data/aclImdb/models/wt103/index.html?C=M;O=D’ saved [857/857]\n",
      "\n",
      "--2018-08-23 20:34:03--  http://files.fast.ai/models/wt103/?C=S;O=D\n",
      "Reusing existing connection to files.fast.ai:80.\n",
      "HTTP request sent, awaiting response... 200 OK\n",
      "Length: 857 [text/html]\n",
      "Saving to: ‘imdb_data/aclImdb/models/wt103/index.html?C=S;O=D’\n",
      "\n",
      "models/wt103/index. 100%[===================>]     857  --.-KB/s    in 0s      \n",
      "\n",
      "2018-08-23 20:34:03 (168 MB/s) - ‘imdb_data/aclImdb/models/wt103/index.html?C=S;O=D’ saved [857/857]\n",
      "\n",
      "--2018-08-23 20:34:03--  http://files.fast.ai/models/wt103/?C=D;O=D\n",
      "Reusing existing connection to files.fast.ai:80.\n",
      "HTTP request sent, awaiting response... 200 OK\n",
      "Length: 857 [text/html]\n",
      "Saving to: ‘imdb_data/aclImdb/models/wt103/index.html?C=D;O=D’\n",
      "\n",
      "models/wt103/index. 100%[===================>]     857  --.-KB/s    in 0s      \n",
      "\n",
      "2018-08-23 20:34:03 (177 MB/s) - ‘imdb_data/aclImdb/models/wt103/index.html?C=D;O=D’ saved [857/857]\n",
      "\n",
      "FINISHED --2018-08-23 20:34:03--\n",
      "Total wall clock time: 16s\n",
      "Downloaded: 14 files, 1.7G in 16s (113 MB/s)\n"
     ]
    }
   ],
   "source": [
    "#! wget -nH -r -np -P {PATH} http://files.fast.ai/models/wt103/"
   ]
  },
  {
   "cell_type": "markdown",
   "metadata": {
    "colab_type": "text",
    "id": "8G67GTITMWed"
   },
   "source": [
    "The pre-trained LM weights have an embedding size of 400, 1150 hidden units and just 3 layers. We need to match these values  with the target IMDB LM so that the weights can be loaded up."
   ]
  },
  {
   "cell_type": "code",
   "execution_count": 7,
   "metadata": {
    "colab": {},
    "colab_type": "code",
    "id": "AHuq7UvPMWed"
   },
   "outputs": [],
   "source": [
    "em_sz,nh,nl = 400,1150,3"
   ]
  },
  {
   "cell_type": "code",
   "execution_count": 39,
   "metadata": {
    "colab": {},
    "colab_type": "code",
    "id": "Yv07tk5lMWef"
   },
   "outputs": [],
   "source": [
    "# Grabbing the files from the download \n",
    "\n",
    "PRE_PATH = PATH/'models'/'wt103'\n",
    "PRE_LM_PATH = PRE_PATH/'fwd_wt103.h5'"
   ]
  },
  {
   "cell_type": "code",
   "execution_count": 40,
   "metadata": {
    "colab": {},
    "colab_type": "code",
    "id": "10gs2T02MWeh"
   },
   "outputs": [],
   "source": [
    "wgts = torch.load(PRE_LM_PATH, map_location=lambda storage, loc: storage)"
   ]
  },
  {
   "cell_type": "markdown",
   "metadata": {
    "colab_type": "text",
    "id": "vj8Qm3TVMWen"
   },
   "source": [
    "We calculate the mean of the layer0 encoder weights. This can be used to assign weights to unknown tokens when we transfer to target IMDB LM."
   ]
  },
  {
   "cell_type": "code",
   "execution_count": 41,
   "metadata": {
    "colab": {},
    "colab_type": "code",
    "id": "O9GNMYh2MWeo"
   },
   "outputs": [],
   "source": [
    "enc_wgts = to_np(wgts['0.encoder.weight'])\n",
    "row_m = enc_wgts.mean(0)"
   ]
  },
  {
   "cell_type": "code",
   "execution_count": 42,
   "metadata": {
    "colab": {},
    "colab_type": "code",
    "id": "hkZQvETAMWer"
   },
   "outputs": [],
   "source": [
    "itos2 = pickle.load((PRE_PATH/'itos_wt103.pkl').open('rb'))\n",
    "stoi2 = collections.defaultdict(lambda:-1, {v:k for k,v in enumerate(itos2)})"
   ]
  },
  {
   "cell_type": "markdown",
   "metadata": {
    "colab_type": "text",
    "id": "iIj_QS4CMWew"
   },
   "source": [
    "Before we try to transfer the knowledge from wikitext to the IMDB LM, we match up the vocab words and their indexes. \n",
    "We use the defaultdict container once again, to assign mean weights to unknown IMDB tokens that do not exist in wikitext103."
   ]
  },
  {
   "cell_type": "code",
   "execution_count": 43,
   "metadata": {
    "colab": {},
    "colab_type": "code",
    "id": "y547u_gZMWez"
   },
   "outputs": [],
   "source": [
    "new_w = np.zeros((vs, em_sz), dtype=np.float32)\n",
    "counter = 0\n",
    "for i,w in enumerate(itos):\n",
    "    r = stoi2[w]\n",
    "    new_w[i] = enc_wgts[r] if r>=0 else row_m\n",
    "    if r<0:counter += 1"
   ]
  },
  {
   "cell_type": "code",
   "execution_count": 44,
   "metadata": {},
   "outputs": [
    {
     "data": {
      "text/plain": [
       "(52234, 6629)"
      ]
     },
     "execution_count": 44,
     "metadata": {},
     "output_type": "execute_result"
    }
   ],
   "source": [
    "len(itos), counter"
   ]
  },
  {
   "cell_type": "markdown",
   "metadata": {
    "colab_type": "text",
    "id": "RopA5fUjMWe2"
   },
   "source": [
    "We now overwrite the weights into the wgts odict.\n",
    "The decoder module, which we will explore in detail is also loaded with the same weights due to an idea called weight tying."
   ]
  },
  {
   "cell_type": "code",
   "execution_count": 45,
   "metadata": {
    "colab": {},
    "colab_type": "code",
    "id": "QaBajLUPMWe2"
   },
   "outputs": [],
   "source": [
    "wgts['0.encoder.weight'] = T(new_w)\n",
    "wgts['0.encoder_with_dropout.embed.weight'] = T(np.copy(new_w))\n",
    "wgts['1.decoder.weight'] = T(np.copy(new_w))"
   ]
  },
  {
   "cell_type": "markdown",
   "metadata": {
    "colab_type": "text",
    "id": "ckG6HjllMWe7"
   },
   "source": [
    "Now that we have the weights prepared, we are ready to create and start training our new IMDB language pytorch model!"
   ]
  },
  {
   "cell_type": "markdown",
   "metadata": {
    "colab_type": "text",
    "id": "mNG4uTaPMWe8"
   },
   "source": [
    "## Language model"
   ]
  },
  {
   "cell_type": "markdown",
   "metadata": {
    "colab_type": "text",
    "id": "i2-3FkVFMWe9"
   },
   "source": [
    "It is fairly straightforward to create a new language model using the fastai library. Like every other lesson, our model will have a backbone and a custom head. The backbone in our case is the IMDB LM pre-trained with wikitext and the custom head is a linear classifier. In this section we will focus on the backbone LM and the next section will talk about the classifier custom head.\n",
    "\n",
    "bptt (*also known traditionally in NLP LM as ngrams*) in fastai LMs is approximated to a std. deviation around 70, by perturbing the sequence length on a per-batch basis. This is akin to shuffling our data in computer vision, only that in NLP we cannot shuffle inputs and we have to maintain statefulness. \n",
    "\n",
    "Since we are predicting words using ngrams, we want our next batch to line up with the end-points of the previous mini-batch's items. batch-size is constant and but the fastai library expands and contracts bptt each mini-batch using a clever stochastic implementation of a batch. (original credits attributed to [Smerity](https://twitter.com/jeremyphoward/status/980227258395770882))"
   ]
  },
  {
   "cell_type": "code",
   "execution_count": 8,
   "metadata": {
    "colab": {},
    "colab_type": "code",
    "id": "e7IecerFMWe-"
   },
   "outputs": [],
   "source": [
    "wd=1e-7\n",
    "bptt= 70\n",
    "bs= 52\n",
    "opt_fn = partial(optim.Adam, betas=(0.8, 0.99))"
   ]
  },
  {
   "cell_type": "markdown",
   "metadata": {
    "colab_type": "text",
    "id": "otVoW9EyMWfA"
   },
   "source": [
    "The goal of the LM is to learn to predict a word/token given a preceeding set of words(tokens). We take all the movie reviews in both the 90k training set and 10k validation set and concatenate them to form long strings of tokens. In fastai, we use the `LanguageModelLoader` to create a data loader which makes it easy to create and use bptt sized mini batches. The  `LanguageModelLoader` takes a concatenated string of tokens and returns a loader.\n",
    "\n",
    "We have a special modeldata object class for LMs called `LanguageModelData` to which we can pass the training and validation loaders and get in return the model itself."
   ]
  },
  {
   "cell_type": "code",
   "execution_count": 47,
   "metadata": {
    "colab": {
     "base_uri": "https://localhost:8080/",
     "height": 34
    },
    "colab_type": "code",
    "id": "MVUrNXhhMWdY",
    "outputId": "47a1eeda-b3b7-4860-b901-3a5e5cb6b91c"
   },
   "outputs": [
    {
     "data": {
      "text/plain": [
       "(45000, 5000)"
      ]
     },
     "execution_count": 47,
     "metadata": {},
     "output_type": "execute_result"
    }
   ],
   "source": [
    "# getting train and test\n",
    "\n",
    "trn_lm, val_lm = sklearn.model_selection.train_test_split(np.array(df[\"numerized_tokens\"]), test_size=0.1)\n",
    "len(trn_lm), len(val_lm)"
   ]
  },
  {
   "cell_type": "code",
   "execution_count": 48,
   "metadata": {
    "colab": {
     "base_uri": "https://localhost:8080/",
     "height": 222
    },
    "colab_type": "code",
    "id": "8i4OzsrlWuH0",
    "outputId": "8e95153f-c13f-42dd-c1d2-71ec3b5d381d",
    "scrolled": true
   },
   "outputs": [
    {
     "data": {
      "text/plain": [
       "array([list([40, 41, 42, 37, 812, 11885, 4, 46, 922, 7, 3141, 11, 2263, 17, 226, 5, 110, 17, 22, 17, 257, 125, 4, 427, 239, 48, 11479, 319, 11957, 7, 97, 847, 17, 644, 51, 5342, 20490, 49, 232, 728, 249, 7, 2, 25, 4, 283, 1202, 17, 26503, 104, 10, 325, 17, 115, 161, 3, 89, 4, 12, 158, 55, 359, 43, 2, 99, 890, 847, 22, 13, 25, 5, 254, 6634, 8, 82, 32, 6, 700, 97, 675, 324, 59, 2, 11802, 3855, 17, 14, 155, 39, 216, 8, 36, 26, 13097, 58, 8, 796, 13, 25, 47, 47, 19, 812, 11885, 1285, 48, 7736, 22, 35, 237, 11, 13, 25, 5, 167, 10, 76, 303, 101, 137, 26, 153, 34, 1824, 10, 50, 93, 201, 220, 3, 19, 277, 8, 39, 5095, 4, 12, 3162, 8, 16308, 13, 25, 3, 323, 4, 12, 275, 555, 6979, 196, 189, 38, 7, 75, 638, 14131, 17, 2986, 3, 13, 9, 63, 311, 4, 809, 25, 17, 252, 9, 59, 3, 13, 9, 32, 145, 798, 366, 16547, 4, 136, 287, 9, 10811, 17, 10, 16, 50, 809, 5, 311, 8, 134, 14, 100, 36, 213, 10, 16, 463, 28, 6, 163, 1555, 47, 47]),\n",
       "       list([40, 41, 42, 37, 31, 1341, 4, 438, 1252, 3742, 62, 3709, 51, 2, 1089, 3, 13, 21, 84, 86, 1045, 5, 2493, 3, 10, 103, 3274, 6, 759, 14, 88, 155, 43, 139, 5, 865, 51, 3, 45718, 9414, 18, 102, 4, 70, 101, 438, 36, 6, 591, 21, 484, 57, 6069, 3, 61, 26, 448, 6987, 6987, 26, 101, 132, 13, 21, 3, 12, 219, 10, 836, 124, 179, 3]),\n",
       "       list([40, 41, 42, 37, 2482, 4, 445, 4, 24, 12, 665, 5074, 52, 12, 82, 5074, 3, 19, 12, 232, 13, 11, 2, 545, 998, 16, 4, 5, 10, 18, 391, 38, 7, 2, 109, 394, 4, 372, 125, 12, 158, 143, 910, 555, 8, 122, 3, 19, 445, 4, 2, 646, 9, 1326, 3, 2, 6663, 2967, 33, 391, 1437, 3, 2, 997, 3565, 9, 11782, 4, 24, 1044, 756, 15, 4323, 288, 15, 579, 30, 3607, 2504, 828, 3, 21431, 2504, 30, 20752, 27, 27, 4, 13, 38, 1229, 8, 114, 2, 2560, 3426, 8, 2, 81, 4, 54, 76, 240, 3, 19, 270, 4, 15671, 5, 10068, 33, 331, 3, 24, 13, 25, 1029, 8, 114, 76, 15, 2587, 15, 154, 7263, 5, 577, 3, 12, 165, 43, 22, 894, 4, 24, 13, 21, 18, 50, 372, 4, 12, 671, 1411, 2, 5998, 71, 1214, 113, 43, 5, 290, 48, 147, 8, 75, 4787, 3, 19, 12, 165, 270, 61, 12, 318, 359, 2, 292, 4, 2, 81, 71, 36, 110, 6, 246, 68, 305, 3, 214, 4, 134, 16, 116, 354, 8, 23116, 118, 68, 74, 28, 13, 38, 3]),\n",
       "       list([40, 41, 42, 37, 416, 21, 23, 66, 81, 102, 1200, 30, 65, 102, 38, 17, 2507, 27, 5, 6, 749, 8, 735, 22, 3, 19, 12, 158, 128, 10, 398, 233, 50, 245, 3, 19, 2, 306, 1241, 33, 184, 8, 132, 10, 3]),\n",
       "       list([40, 41, 42, 37, 12, 312, 13, 25, 634, 4, 11, 2, 473, 4, 5, 10, 18, 383, 1737, 1006, 47, 12, 87, 29, 56, 10, 11, 1281, 4, 10, 55, 613, 11, 13, 115, 3, 50, 43, 2, 817, 85, 53, 22, 13, 25, 8, 2387, 2, 601, 58, 7, 86, 47, 47, 89, 4, 10, 87, 29, 4, 11, 215, 12, 479, 8, 2890, 142, 2, 31, 284, 1756, 119, 79, 754, 249, 4, 24, 12, 213, 236, 28, 219, 10, 6, 589, 4, 497, 12, 87, 3, 2, 135, 18, 394, 4, 2, 79, 38, 23, 65, 556, 135, 18, 37035, 6172, 3, 2, 133, 9, 32, 235, 4, 61, 26, 33, 6, 206, 348, 112, 10, 9, 55, 2, 186, 534, 26, 36, 128, 127, 233, 177, 3, 65, 154, 87, 29, 114, 305, 44, 43, 4, 5, 26, 55, 96, 2, 571, 14, 2, 170, 479, 8, 114, 2, 21, 1157, 47, 2, 767, 18, 2, 1132, 1433, 7, 2, 21, 3, 2, 30, 679, 27, 154, 600, 52, 45, 4251, 8, 6, 206, 21, 51, 2, 1804, 67, 53, 18, 32, 216, 2297, 4, 264, 65, 66, 117, 85, 110, 162, 112, 47, 12, 18, 772, 8, 82, 2, 410, 7, 6, 670, 376, 1065, 44, 2, 472, 7, 2, 21, 4, 12, 213, 95, 29, 45, 290, 65, 313, 11, 13, 5, 114, 10, 556, 64, 47, 47, 12, 95, 29, 1033, 68, 23, 2, 2847, 14, 2, 21, 205, 4, 10, 9, 103, 75, 699, 22, 10, 4, 398, 58, 7, 179, 3]),\n",
       "       list([40, 41, 42, 37, 11, 2, 11256, 574, 17, 7, 17, 615, 800, 15, 32405, 4, 75, 350, 4, 15, 2063, 24906, 4, 7, 15, 13025, 15, 2034, 4, 320, 48, 15195, 1034, 9409, 401, 24450, 401, 2807, 8, 3092, 35, 500, 4, 4989, 30, 0, 0, 17, 0, 27, 4, 11, 3829, 3922, 16, 2999, 3, 2, 670, 13502, 8, 2, 248, 16, 17349, 5, 2934, 9, 35, 338, 4, 5328, 30, 18932, 16492, 27, 4, 49, 30656, 26762, 57, 2086, 12086, 46, 9057, 40705, 72, 23, 99, 358, 3, 486, 57, 560, 7297, 1931, 4, 32405, 3237, 8, 2486, 57, 6, 4349, 4, 48446, 9073, 334, 11, 2, 5945, 457, 14, 70, 101, 38, 273, 1024, 8, 108, 3, 10, 9, 4, 497, 4, 2, 66, 17, 2350, 5, 66, 17, 6981, 0, 49, 224, 2234, 2369, 8, 43, 13, 9572, 7481, 17, 5, 10, 9, 35, 20677, 14, 2576, 20, 2, 2940, 22, 2, 21, 30, 0, 0, 71, 326, 2111, 72, 8, 39, 48, 1993, 27, 3, 19, 76, 173, 12, 3470, 15, 32405, 4, 75, 350, 15, 22, 63, 10, 9, 285, 8, 56, 4, 12, 194, 29, 1243, 151, 12, 528, 10, 4, 22, 156, 2, 25, 62, 65, 505, 389, 5, 610, 3226, 184, 22, 10, 4, 152, 351, 33, 29, 216, 8, 27337, 2, 14227, 788, 5, 42999, 1808, 4, 78, 580, 2, 322, 20, 22471, 5, 4167, 20, 2, 100, 28, 279, 3, 6, 610, 5086, 17, 7, 17, 134, 467, 9, 38, 168, 4, 24, 13, 31523, 9361, 15620, 11, 9137, 4, 5250, 5, 2627, 16771, 30, 298, 634, 3162, 16771, 27, 9, 157, 345, 192, 3]),\n",
       "       list([40, 41, 42, 37, 2572, 8, 628, 5, 5335, 68, 1133, 92, 15, 42993, 15, 4, 3189, 0, 16, 15, 1487, 920, 15, 9, 150, 6, 204, 771, 137, 3, 192, 13, 9438, 9, 80, 79, 17781, 11, 28, 2, 60, 23138, 60, 10758, 24, 44, 244, 88, 96, 6, 140, 246, 7, 734, 51, 2, 133, 4, 78, 3350, 2, 487, 7, 297, 210, 371, 5, 6, 1129, 602, 4, 43, 1866, 72, 11, 6422, 4, 185, 857, 3, 274, 62, 83, 222, 971, 645, 3, 38, 9, 6, 9262, 4, 38, 6, 22342, 3, 4, 175, 48, 1734, 49, 2184, 60, 42520, 60, 4, 156, 140, 17399, 60, 897, 9, 6, 886, 60, 2924, 5145, 60, 3267, 3, 19, 0, 9, 2070, 8, 7272, 118, 163, 322, 631, 11, 2, 81, 173, 4, 5, 35, 210, 197, 33, 4905, 2807, 23, 83, 120, 3, 1560, 10, 9, 332, 238, 1104, 8, 2, 8040, 229, 5, 2, 60, 1458, 60, 1103, 8, 597, 2, 273, 3, 19, 4184, 9, 192, 2276, 22, 218, 1387, 5, 920, 154, 4, 24, 13, 634, 9, 32, 216, 8, 5166, 15, 15, 1487, 920, 15, 8, 2656, 5609, 3, 497, 2, 25, 80, 764, 1060, 545, 28, 4, 119, 773, 6, 11767, 7, 457, 14, 10, 55, 251, 96, 240, 3, 19, 2774, 4, 6769, 2663, 4, 4814, 17, 393]),\n",
       "       list([40, 41, 42, 37, 33391, 4, 6, 940, 2615, 563, 15, 61, 26, 52, 2057, 5, 3408, 26, 101, 377, 13, 25, 15, 12, 95, 32, 3054, 68, 4, 13, 25, 4151, 73, 1183, 8, 111, 20313, 30167, 5, 62, 4115, 126, 7, 2, 138, 453, 864, 859, 14076, 8, 140, 68, 92, 6, 1361, 206, 1256, 21, 4, 10, 62, 635, 7, 2, 1095, 54, 8977, 1008, 11, 940, 1150, 54, 3408, 117, 5, 53, 9, 73, 9583, 485, 123, 4, 12, 80, 87, 32, 477, 59, 118, 7, 2, 120, 5, 12, 5321, 33360, 8, 82, 2, 2535, 197, 735, 20, 546, 20, 638, 11, 2, 5945, 457, 157, 146, 71, 5119, 113, 4, 10, 80, 327, 1193, 414, 8888, 8, 36, 126, 7, 2, 109, 18988, 2115, 143, 5238, 5321, 1935, 8, 114, 6, 3035, 3283, 21, 4, 79, 122, 13, 61, 26, 202, 8, 82, 106, 31, 32, 8, 56, 10, 3]),\n",
       "       list([40, 41, 42, 37, 2, 21, 62, 671, 4, 2, 9866, 3155, 4, 145, 533, 62, 5744, 6, 1404, 470, 2, 1644, 201, 220, 3, 26, 198, 531, 26, 194, 29, 96, 11, 992, 4, 26, 848, 4, 15, 61, 12, 160, 58, 4, 12, 165, 660, 26, 23, 86, 91, 15, 26, 6991, 104, 2, 1892, 13791, 28, 2, 504, 7, 2, 1210, 4, 26, 491, 8, 591, 1644, 24, 145, 5274, 9, 97, 201, 220, 3, 4383, 4, 26, 158, 793, 72, 2, 162, 7, 6, 23016, 4, 5, 6991, 26, 158, 6903, 11, 6, 11771, 3, 145, 533, 2584, 28, 965, 3, 26, 95, 96, 58, 61, 26, 479, 4, 24, 2, 883, 7, 2327, 62, 622, 26, 91, 31, 4383, 47, 145, 533, 3336, 72, 4, 314, 308, 28, 11, 4551, 4, 65, 2493, 91, 2, 466, 7, 6, 13683, 731, 26, 2, 1513, 33, 574, 3, 314, 239, 11, 83, 1892, 5, 13852, 4, 1207, 26, 8, 3511, 3, 2, 30106, 1298, 7, 2, 1892, 1962, 4452, 53, 4, 2396, 2, 28, 33912, 91, 26, 198, 365, 3, 19, 13, 9, 38, 7, 2, 154, 130, 178, 111, 2, 107, 149, 11, 2, 21, 3, 53, 33, 127, 68, 52, 10, 3, 20, 26, 2319, 2, 14248, 7, 2, 1644, 11, 35, 24764, 58, 36790, 1651, 4, 3966, 22335, 11, 35, 951, 31, 51328, 4, 5, 127, 421, 11, 13, 5080, 51, 2, 526, 201, 220, 3, 31, 333, 31, 41474, 930, 4, 15, 31, 649, 28, 31, 1966, 15, 15, 0, 1253, 44, 118, 0, 15]),\n",
       "       list([40, 41, 42, 37, 1970, 100, 986, 86, 8, 410, 2, 6416, 21, 12, 158, 143, 128, 4, 12, 11065, 10481, 15, 335, 11091, 15, 5, 8, 13, 273, 1250, 16, 143, 569, 7, 10, 3, 19, 12, 312, 10, 634, 65, 1088, 172, 623, 44, 2, 4324, 615, 7, 2413, 67, 75, 785, 84, 793, 58, 22, 2, 2226, 3, 20, 245, 20, 12, 139, 111, 79, 143, 98, 621, 303, 11, 2, 2364, 5, 1087, 9, 13702, 28, 31, 284, 54, 31, 1809, 3, 19, 61, 266, 77, 6442, 6, 967, 617, 298, 86, 139, 3, 19, 61, 12, 312, 10, 192, 166, 10, 71, 258, 39, 6, 212, 1433, 24, 10, 62, 234, 1573, 11, 75, 1698, 20, 6, 599, 1240, 140, 25, 47])],\n",
       "      dtype=object)"
      ]
     },
     "execution_count": 48,
     "metadata": {},
     "output_type": "execute_result"
    }
   ],
   "source": [
    "trn_lm[:10]"
   ]
  },
  {
   "cell_type": "code",
   "execution_count": 49,
   "metadata": {
    "colab": {},
    "colab_type": "code",
    "id": "_XpTDfniMWfB"
   },
   "outputs": [],
   "source": [
    "trn_dl = LanguageModelLoader(np.concatenate(trn_lm), bs, bptt)\n",
    "val_dl = LanguageModelLoader(np.concatenate(val_lm), bs, bptt)\n",
    "\n",
    "md = LanguageModelData(PATH, 1, vs, trn_dl, val_dl, bs=bs, bptt=bptt)"
   ]
  },
  {
   "cell_type": "markdown",
   "metadata": {
    "colab_type": "text",
    "id": "OzSKZlasMWfF"
   },
   "source": [
    "We setup the dropouts for the model - these values have been chosen after experimentation. If you need to update them for custom LMs, you can change the weighting factor (0.7 here) based on the amount of data you have. For more data, you can reduce dropout factor and for small datasets, you can reduce overfitting by choosing a higher dropout factor. *No other dropout value requires tuning*"
   ]
  },
  {
   "cell_type": "code",
   "execution_count": 50,
   "metadata": {
    "colab": {},
    "colab_type": "code",
    "id": "Z2rXe03eMWfJ"
   },
   "outputs": [],
   "source": [
    "drops = np.array([0.25, 0.1, 0.2, 0.02, 0.15])*0.7 # We should probably update these to match below? Or tune mult upwards"
   ]
  },
  {
   "cell_type": "markdown",
   "metadata": {
    "colab_type": "text",
    "id": "SCv4uQykMWfL"
   },
   "source": [
    "We first tune the last embedding layer so that the missing tokens initialized with mean weights get tuned properly. So we freeze everything except the last layer.\n",
    "\n",
    "We also keep track of the *accuracy* metric."
   ]
  },
  {
   "cell_type": "code",
   "execution_count": 51,
   "metadata": {
    "colab": {},
    "colab_type": "code",
    "id": "fdvG06UgMWfM",
    "scrolled": true
   },
   "outputs": [],
   "source": [
    "learner= md.get_model(opt_fn, em_sz, nh, nl, \n",
    "    dropouti=drops[0], dropout=drops[1], wdrop=drops[2], dropoute=drops[3], dropouth=drops[4])\n",
    "\n",
    "learner.metrics = [accuracy]\n",
    "learner.freeze_to(-1) # why are we unfreezing this one? Don't we want to unfreeze FIRST layer?\n",
    "#learner.freeze_all_but(0) # unfreezing embedding instead"
   ]
  },
  {
   "cell_type": "code",
   "execution_count": 52,
   "metadata": {
    "colab": {},
    "colab_type": "code",
    "id": "GQBT6gdQMWfO"
   },
   "outputs": [],
   "source": [
    "learner.model.load_state_dict(wgts)"
   ]
  },
  {
   "cell_type": "markdown",
   "metadata": {
    "colab_type": "text",
    "id": "ow19E6VOMWfS"
   },
   "source": [
    "We set learning rates and fit our IMDB LM. We first run one epoch to tune the last layer which contains the embedding weights. This should help the missing tokens in the wikitext103 learn better weights."
   ]
  },
  {
   "cell_type": "code",
   "execution_count": 53,
   "metadata": {
    "colab": {},
    "colab_type": "code",
    "id": "2ngvfuUpMWfS"
   },
   "outputs": [],
   "source": [
    "lr=1e-3\n",
    "lrs = lr"
   ]
  },
  {
   "cell_type": "code",
   "execution_count": 54,
   "metadata": {
    "colab": {
     "base_uri": "https://localhost:8080/",
     "height": 101
    },
    "colab_type": "code",
    "id": "Txylyd_FMWfV",
    "outputId": "505ca1cc-9ae2-4089-fc38-a3bb2728637f",
    "scrolled": true
   },
   "outputs": [
    {
     "data": {
      "application/vnd.jupyter.widget-view+json": {
       "model_id": "25dc0344285f4a528d3f79644aa72717",
       "version_major": 2,
       "version_minor": 0
      },
      "text/plain": [
       "HBox(children=(IntProgress(value=0, description='Epoch', max=1), HTML(value='')))"
      ]
     },
     "metadata": {},
     "output_type": "display_data"
    },
    {
     "name": "stdout",
     "output_type": "stream",
     "text": [
      "epoch      trn_loss   val_loss   accuracy                     \n",
      "    0      4.702822   4.489972   0.253783  \n",
      "\n"
     ]
    },
    {
     "data": {
      "text/plain": [
       "[array([4.48997]), 0.25378331182331876]"
      ]
     },
     "execution_count": 54,
     "metadata": {},
     "output_type": "execute_result"
    }
   ],
   "source": [
    "# Train for one epoch, just the embedding layer\n",
    "\n",
    "learner.fit(lrs/2, 1, wds=wd, use_clr=(32,2), cycle_len=1)"
   ]
  },
  {
   "cell_type": "code",
   "execution_count": 55,
   "metadata": {
    "scrolled": true
   },
   "outputs": [],
   "source": [
    "learner.save('lm_last_ft')"
   ]
  },
  {
   "cell_type": "markdown",
   "metadata": {
    "colab_type": "text",
    "id": "dtphT3CQMWfX"
   },
   "source": [
    "Note that we print out accuracy and keep track of how often we end up predicting the target word correctly. While this is a good metric to check, it is not part of our loss function as it can get quite bumpy. We only minimize cross-entropy loss in the LM.\n",
    "\n",
    "The exponent of the cross-entropy loss is called the perplexity of the LM. (low perplexity is better)."
   ]
  },
  {
   "cell_type": "code",
   "execution_count": 55,
   "metadata": {},
   "outputs": [],
   "source": [
    "learner.load('lm_last_ft')"
   ]
  },
  {
   "cell_type": "code",
   "execution_count": 56,
   "metadata": {
    "colab": {},
    "colab_type": "code",
    "id": "Cpbnd8FYMWfd"
   },
   "outputs": [],
   "source": [
    "learner.unfreeze()"
   ]
  },
  {
   "cell_type": "code",
   "execution_count": 77,
   "metadata": {
    "colab": {},
    "colab_type": "code",
    "id": "VDFm0VbvMWff"
   },
   "outputs": [
    {
     "data": {
      "application/vnd.jupyter.widget-view+json": {
       "model_id": "5dc4eb4c491045df8a4332a9dc3f7b81",
       "version_major": 2,
       "version_minor": 0
      },
      "text/plain": [
       "HBox(children=(IntProgress(value=0, description='Epoch', max=1), HTML(value='')))"
      ]
     },
     "metadata": {},
     "output_type": "display_data"
    },
    {
     "name": "stdout",
     "output_type": "stream",
     "text": [
      "epoch      trn_loss   val_loss   accuracy                                                                              \n",
      "    0      5.318755   5.140305   0.217942  \n",
      "\n"
     ]
    }
   ],
   "source": [
    "learner.lr_find(start_lr=lrs/10, end_lr=lrs*10, linear=True)"
   ]
  },
  {
   "cell_type": "code",
   "execution_count": 78,
   "metadata": {
    "colab": {},
    "colab_type": "code",
    "id": "CeR1mFsWMWfg"
   },
   "outputs": [
    {
     "data": {
      "image/png": "[encoded data removed]",
      "text/plain": [
       "<Figure size 432x288 with 1 Axes>"
      ]
     },
     "metadata": {},
     "output_type": "display_data"
    }
   ],
   "source": [
    "learner.sched.plot()"
   ]
  },
  {
   "cell_type": "code",
   "execution_count": 57,
   "metadata": {
    "colab": {
     "base_uri": "https://localhost:8080/",
     "height": 101
    },
    "colab_type": "code",
    "id": "OnQDHt2eMWfj",
    "outputId": "0c28d6fe-fccc-4060-f3ed-8334bf5e82b6",
    "scrolled": true
   },
   "outputs": [
    {
     "data": {
      "application/vnd.jupyter.widget-view+json": {
       "model_id": "a0fc0d042d5c459cb8349a8940439102",
       "version_major": 2,
       "version_minor": 0
      },
      "text/plain": [
       "HBox(children=(IntProgress(value=0, description='Epoch', max=4), HTML(value='')))"
      ]
     },
     "metadata": {},
     "output_type": "display_data"
    },
    {
     "name": "stdout",
     "output_type": "stream",
     "text": [
      "epoch      trn_loss   val_loss   accuracy                     \n",
      "    0      4.369006   4.184027   0.283078  \n",
      "    1      4.188926   4.097981   0.29145                      \n",
      "    2      4.111346   4.056015   0.295844                     \n",
      "    3      4.038394   4.035749   0.298004                     \n",
      "\n"
     ]
    },
    {
     "data": {
      "text/plain": [
       "[array([4.03575]), 0.2980042148173962]"
      ]
     },
     "execution_count": 57,
     "metadata": {},
     "output_type": "execute_result"
    }
   ],
   "source": [
    "learner.fit(lrs, 1, wds=wd, use_clr=(20,10), cycle_len=4) #JH did 15 here. Trying 10. RESULT: 4 is ideal. 8.26 doing 4 "
   ]
  },
  {
   "cell_type": "markdown",
   "metadata": {
    "colab_type": "text",
    "id": "ThDxFGt0MWfm"
   },
   "source": [
    "We save the trained model weights and separately save the encoder part of the LM model as well. This will serve as our backbone in the classification task model."
   ]
  },
  {
   "cell_type": "code",
   "execution_count": 60,
   "metadata": {
    "colab": {},
    "colab_type": "code",
    "id": "OBMEI5OVMWfo"
   },
   "outputs": [],
   "source": [
    "learner.save('lm1')"
   ]
  },
  {
   "cell_type": "code",
   "execution_count": 61,
   "metadata": {
    "colab": {},
    "colab_type": "code",
    "id": "E-nqlyHYMWfp"
   },
   "outputs": [],
   "source": [
    "learner.save_encoder('lm1_enc') # We've got a good one saved. 8.24"
   ]
  },
  {
   "cell_type": "code",
   "execution_count": 62,
   "metadata": {
    "colab": {},
    "colab_type": "code",
    "id": "XVqJcXrDMWfq",
    "scrolled": true
   },
   "outputs": [
    {
     "data": {
      "image/png": "[encoded data removed]",
      "text/plain": [
       "<Figure size 432x288 with 1 Axes>"
      ]
     },
     "metadata": {},
     "output_type": "display_data"
    }
   ],
   "source": [
    "learner.sched.plot_loss()\n"
   ]
  },
  {
   "cell_type": "code",
   "execution_count": null,
   "metadata": {},
   "outputs": [],
   "source": []
  },
  {
   "cell_type": "code",
   "execution_count": 63,
   "metadata": {
    "scrolled": true
   },
   "outputs": [],
   "source": [
    "for c in learner.children:\n",
    "    for p in c.parameters():\n",
    "        del p\n",
    "    del c\n",
    "        \n",
    "del learner\n",
    "        \n",
    "torch.cuda.empty_cache()\n",
    "\n"
   ]
  },
  {
   "cell_type": "markdown",
   "metadata": {
    "colab_type": "text",
    "id": "beFvL2n1MWf7"
   },
   "source": [
    "## Classifier"
   ]
  },
  {
   "cell_type": "markdown",
   "metadata": {
    "colab_type": "text",
    "id": "pkEBapZEMWf8"
   },
   "source": [
    "Now we can create our final model, a classifier which is really a custom linear head over our trained IMDB backbone. The steps to create the classifier model are similar to the ones for the LM."
   ]
  },
  {
   "cell_type": "code",
   "execution_count": 9,
   "metadata": {
    "colab": {
     "base_uri": "https://localhost:8080/",
     "height": 34
    },
    "colab_type": "code",
    "id": "PrNBcnJ1YYYu",
    "outputId": "66c2038f-01f3-46a2-b511-51d6245e18b4"
   },
   "outputs": [
    {
     "data": {
      "text/plain": [
       "(25000, 50000, 22500, 2500)"
      ]
     },
     "execution_count": 9,
     "metadata": {},
     "output_type": "execute_result"
    }
   ],
   "source": [
    "# Only using data with labels\n",
    "no_test_df = df[df[\"dataset\"]==\"train\"] #.drop_duplicates(subset=\"text\") actually can't do this w out changing vocab\n",
    "\n",
    "# Splitting that subset into train and val\n",
    "trn_df, val_df = sklearn.model_selection.train_test_split(no_test_df, test_size=0.1)\n",
    "\n",
    "len(no_test_df), len(df), len(trn_df), len(val_df)"
   ]
  },
  {
   "cell_type": "code",
   "execution_count": 10,
   "metadata": {},
   "outputs": [
    {
     "data": {
      "text/plain": [
       "(25000, 6)"
      ]
     },
     "execution_count": 10,
     "metadata": {},
     "output_type": "execute_result"
    }
   ],
   "source": [
    "# Actual Test\n",
    "\n",
    "test_df = df[df[\"dataset\"]==\"test\"]; test_df.shape"
   ]
  },
  {
   "cell_type": "markdown",
   "metadata": {
    "colab_type": "text",
    "id": "2lF6B6TvMWgD"
   },
   "source": [
    "In the classifier, unlike LM, we need to read a movie review at a time and learn to predict the it's sentiment as pos/neg. We do not deal with equal bptt size batches, so we have to pad the sequences to the same length in each batch. To create batches of similar sized movie reviews, we use a sortish sampler method invented by [@Smerity](https://twitter.com/Smerity) and [@jekbradbury](https://twitter.com/jekbradbury)\n",
    "\n",
    "The sortishSampler cuts down the overall number of padding tokens the classifier ends up seeing."
   ]
  },
  {
   "cell_type": "code",
   "execution_count": 11,
   "metadata": {
    "colab": {},
    "colab_type": "code",
    "id": "kkrx6upuaSof",
    "scrolled": true
   },
   "outputs": [],
   "source": [
    "trn_clas = np.array(trn_df[\"numerized_tokens\"])\n",
    "val_clas = np.array(val_df[\"numerized_tokens\"])\n",
    "test_clas = np.array(test_df[\"numerized_tokens\"])\n",
    "\n",
    "trn_labels = np.squeeze(np.array(trn_df[\"labels\"]))\n",
    "val_labels = np.squeeze(np.array(val_df[\"labels\"]))\n",
    "test_labels = np.squeeze(np.array(test_df[\"labels\"])) # placeholder. meaningless\n",
    "\n",
    "trn_ds = TextDataset(trn_clas, trn_labels)\n",
    "val_ds = TextDataset(val_clas, val_labels)\n",
    "test_ds = TextDataset(test_clas, test_labels)\n"
   ]
  },
  {
   "cell_type": "code",
   "execution_count": 12,
   "metadata": {
    "scrolled": true
   },
   "outputs": [
    {
     "data": {
      "text/plain": [
       "(array([list([40, 41, 42, 37, 2, 21, 178, 62, 6, 999, 66, 81, 4, 24, 239, 14485, 196, 11, 464, 1371, 1378, 3, 10, 16, 238, 20, 61, 2, 170, 3538, 2, 21, 316, 230, 660, 2, 74, 8, 114, 65, 3309, 1932, 11, 2, 25, 3, 2397, 4923, 90, 6, 999, 556, 315, 11, 35, 237, 91, 24, 157, 9, 715, 1026, 51, 464, 1371, 154, 3, 19, 13, 15338, 553, 21, 95, 36, 98, 4115, 8, 59, 6, 267, 553, 21, 3, 5, 258, 71, 36, 98, 6, 93, 146, 25, 84, 10, 32, 84, 2, 250, 20, 61, 10, 18, 1349, 316, 3, 19])],\n",
       "       dtype=object),\n",
       " array([list([40, 41, 42, 37, 5284, 7045, 5, 3741, 6007, 234, 84, 6, 66, 982, 786, 433, 4, 24, 11, 83, 3887, 12, 121, 26, 95, 151, 14, 45, 79, 110, 38, 25, 14, 95, 39, 22238, 22, 370, 3, 682, 5, 2, 19165, 18, 14, 38, 25, 3, 19, 10, 18, 191, 7, 6, 126, 456, 1719, 803, 51, 2828, 1134, 4, 2, 357, 25, 129, 7045, 5, 6007, 917, 1565, 23246, 3, 152, 85, 2, 79, 126, 125, 2, 877, 110, 11, 1459, 3, 19, 2, 126, 7, 113, 4, 58, 7, 176, 20, 678, 4, 211, 6, 315, 22, 6, 69, 12751, 5, 2902, 210, 611, 39931, 20, 6, 10097, 3, 281, 10, 554, 58, 23, 6007, 1689, 8, 359, 2, 540, 4, 682, 5, 2, 19165, 20, 6, 17241, 81, 4, 2, 210, 9090, 4103, 72, 913, 10, 8, 6007, 3, 3741, 764, 2405, 5, 11, 35, 1468, 34, 29714, 34, 16, 878, 682, 2, 1333, 498, 3, 19, 1758, 19649, 49, 18284, 2, 877, 11, 2565, 3945, 320, 2, 1333, 5, 34, 16, 205, 6, 1333, 3276, 3681, 1651, 20, 35, 10489, 3, 3681, 18, 6, 212, 263, 4, 50590, 15, 4, 5, 26, 77, 825, 70, 84, 65, 5919, 129, 197, 573, 67, 57, 6024, 18, 349, 20, 6, 980, 3, 38, 7, 2, 79, 1869, 49, 143, 600, 196, 44, 57, 18, 333, 1956, 11, 297, 36475, 44, 0, 15, 3, 1635, 3816, 5, 620, 1457, 11, 28, 278, 7832, 115, 103, 3471, 1191, 742, 57, 4, 24, 192, 57, 6024, 18, 191, 7, 6, 3156, 3, 19, 30411, 41504, 5, 620, 3474, 85, 2, 2732, 5, 2243, 7, 2, 1040, 5, 45, 6339, 1288, 4, 24, 95, 29, 516, 299, 253, 3, 13, 18, 2, 256, 25, 7, 1018, 50591, 49, 16, 640, 2042, 51, 2, 429, 1287, 279, 502, 5, 76, 8, 2, 491, 7, 2, 256, 1057, 28, 932, 3, 34, 276, 2732, 30411, 16, 350, 2, 719, 3, 19, 65, 32, 1979, 911, 705, 1574, 406, 51, 682, 5, 2, 19165, 4, 597, 2, 440, 619, 3, 12, 89, 404, 20, 6, 540, 283, 2, 15178, 1880, 7, 5284, 5, 3741, 1198, 2, 619, 5, 11920, 2, 81, 3, 12, 18, 11, 75, 429, 700, 28087, 172, 4, 24, 908, 6, 10868, 348, 7, 83, 16, 161, 14, 5, 83, 704, 226, 3, 19, 682, 5, 2, 19165, 9, 150, 6, 66, 433, 16, 456, 22, 2, 69, 210, 4, 173, 12, 71, 3197, 785, 8, 3197, 83, 140, 39810, 32, 8, 8483, 210, 1160, 39931, 3])],\n",
       "       dtype=object))"
      ]
     },
     "execution_count": 12,
     "metadata": {},
     "output_type": "execute_result"
    }
   ],
   "source": [
    "trn_clas[:1], test_clas[:1]"
   ]
  },
  {
   "cell_type": "code",
   "execution_count": 13,
   "metadata": {},
   "outputs": [],
   "source": [
    "bs = 40 # reducing this bs bc got mem error"
   ]
  },
  {
   "cell_type": "code",
   "execution_count": 14,
   "metadata": {
    "colab": {},
    "colab_type": "code",
    "id": "G5Ksss7aMWgG"
   },
   "outputs": [],
   "source": [
    "trn_samp = SortishSampler(trn_clas, key=lambda x: len(trn_clas[x]), bs=bs//2)\n",
    "val_samp = SortSampler(val_clas, key=lambda x: len(val_clas[x]))\n",
    "#test_samp = SortSampler(test_clas, key=lambda x: len(test_clas[x]))\n",
    "\n",
    "trn_dl = DataLoader(trn_ds, bs//2, transpose=True, num_workers=1, pad_idx=1, sampler=trn_samp)\n",
    "val_dl = DataLoader(val_ds, bs, transpose=True, num_workers=1, pad_idx=1, sampler=val_samp)\n",
    "test_dl = DataLoader(test_ds, bs, transpose=True, num_workers=1, pad_idx=1) # for ease of submission, don't sort out of order\n",
    "\n",
    "md = ModelData(PATH, trn_dl, val_dl)"
   ]
  },
  {
   "cell_type": "code",
   "execution_count": 15,
   "metadata": {},
   "outputs": [],
   "source": [
    "# This is from imdb script. USING THESE.\n",
    "\n",
    "dropmult = 1.0\n",
    "dps = np.array([0.4,0.5,0.05,0.3,0.4])*dropmult\n",
    "\n",
    "lrm = 2.6\n",
    "lr=0.01\n",
    "lrs = np.array([lr/(lrm**4), lr/(lrm**3), lr/(lrm**2), lr/lrm, lr])\n",
    "\n",
    "wd = 1e-6"
   ]
  },
  {
   "cell_type": "code",
   "execution_count": 16,
   "metadata": {},
   "outputs": [],
   "source": [
    "# These are taken from arxiv paper JH.\n",
    "\n",
    "lrs = [0.0001, 0.0001, 0.0001, 0.0001, .001]"
   ]
  },
  {
   "cell_type": "code",
   "execution_count": 17,
   "metadata": {
    "colab": {},
    "colab_type": "code",
    "id": "MlKBpEy4MWgR"
   },
   "outputs": [],
   "source": [
    "c = 2 # NUMBER OF CLASSES\n",
    "\n",
    "\n",
    "m = get_rnn_classifier(bptt, 20*bptt, c, vs, emb_sz=em_sz, n_hid=nh, n_layers=nl, pad_token=1,\n",
    "          layers=[em_sz*3, 50, c], drops=[dps[4], 0.1],\n",
    "          dropouti=dps[0], wdrop=dps[1], dropoute=dps[2], dropouth=dps[3])\n",
    "\n",
    "# Was getting error here in normal pip installed version. Have to get latest from github, then pip install as above"
   ]
  },
  {
   "cell_type": "code",
   "execution_count": 18,
   "metadata": {
    "colab": {},
    "colab_type": "code",
    "id": "pX1MSel-MWgT"
   },
   "outputs": [],
   "source": [
    "opt_fn = partial(optim.Adam, betas=(0.7, 0.99)) # changing down to 70"
   ]
  },
  {
   "cell_type": "code",
   "execution_count": 19,
   "metadata": {
    "colab": {},
    "colab_type": "code",
    "id": "jHhDFY7gMWgV",
    "scrolled": true
   },
   "outputs": [],
   "source": [
    "learn = RNN_Learner(md, TextModel(to_gpu(m)), opt_fn=opt_fn)\n",
    "learn.reg_fn = partial(seq2seq_reg, alpha=2, beta=1)\n",
    "learn.clip=25.\n",
    "learn.metrics = [accuracy]"
   ]
  },
  {
   "cell_type": "code",
   "execution_count": 76,
   "metadata": {
    "colab": {},
    "colab_type": "code",
    "id": "2wK9LjadMWgb",
    "scrolled": true
   },
   "outputs": [],
   "source": [
    "learn.load_encoder('lm1_enc')"
   ]
  },
  {
   "cell_type": "code",
   "execution_count": 77,
   "metadata": {
    "colab": {},
    "colab_type": "code",
    "id": "hXoWGYoDMWge"
   },
   "outputs": [],
   "source": [
    "learn.freeze_to(-1)"
   ]
  },
  {
   "cell_type": "code",
   "execution_count": 43,
   "metadata": {
    "colab": {},
    "colab_type": "code",
    "id": "yd0SyD0hMWgh"
   },
   "outputs": [],
   "source": [
    "#learn.lr_find(lrs/1000)\n",
    "#learn.sched.plot()"
   ]
  },
  {
   "cell_type": "code",
   "execution_count": 78,
   "metadata": {
    "colab": {},
    "colab_type": "code",
    "id": "wf6d53jFMWgi",
    "scrolled": true
   },
   "outputs": [
    {
     "data": {
      "application/vnd.jupyter.widget-view+json": {
       "model_id": "036b6dfb36b34d2c94261cd209b2c184",
       "version_major": 2,
       "version_minor": 0
      },
      "text/plain": [
       "HBox(children=(IntProgress(value=0, description='Epoch', max=1), HTML(value='')))"
      ]
     },
     "metadata": {},
     "output_type": "display_data"
    },
    {
     "name": "stdout",
     "output_type": "stream",
     "text": [
      "epoch      trn_loss   val_loss   accuracy                      \n",
      "    0      0.35873    0.247925   0.9008    \n",
      "\n"
     ]
    },
    {
     "data": {
      "text/plain": [
       "[array([0.24793]), 0.9007999992370606]"
      ]
     },
     "execution_count": 78,
     "metadata": {},
     "output_type": "execute_result"
    }
   ],
   "source": [
    "learn.fit(lrs, 1, wds=wd, cycle_len=1, use_clr=(8,3))"
   ]
  },
  {
   "cell_type": "code",
   "execution_count": 79,
   "metadata": {},
   "outputs": [],
   "source": [
    "learn.save('clas_0')"
   ]
  },
  {
   "cell_type": "code",
   "execution_count": 42,
   "metadata": {},
   "outputs": [],
   "source": [
    "learn.load(\"clas_0\")"
   ]
  },
  {
   "cell_type": "code",
   "execution_count": 80,
   "metadata": {},
   "outputs": [],
   "source": [
    "learn.freeze_to(-2)"
   ]
  },
  {
   "cell_type": "code",
   "execution_count": 81,
   "metadata": {
    "colab": {},
    "colab_type": "code",
    "id": "e6NW8SweMWgn",
    "scrolled": true
   },
   "outputs": [
    {
     "data": {
      "application/vnd.jupyter.widget-view+json": {
       "model_id": "7c611646dcc64ea392db6aeb371924ec",
       "version_major": 2,
       "version_minor": 0
      },
      "text/plain": [
       "HBox(children=(IntProgress(value=0, description='Epoch', max=1), HTML(value='')))"
      ]
     },
     "metadata": {},
     "output_type": "display_data"
    },
    {
     "name": "stdout",
     "output_type": "stream",
     "text": [
      "epoch      trn_loss   val_loss   accuracy                      \n",
      "    0      0.358904   0.236666   0.9084    \n",
      "\n"
     ]
    },
    {
     "data": {
      "text/plain": [
       "[array([0.23667]), 0.9083999972343445]"
      ]
     },
     "execution_count": 81,
     "metadata": {},
     "output_type": "execute_result"
    }
   ],
   "source": [
    "learn.fit(lrs, 1, wds=wd, cycle_len=1, use_clr=(8,3))"
   ]
  },
  {
   "cell_type": "code",
   "execution_count": 82,
   "metadata": {},
   "outputs": [],
   "source": [
    "learn.save('clas_1')"
   ]
  },
  {
   "cell_type": "code",
   "execution_count": 25,
   "metadata": {},
   "outputs": [],
   "source": [
    "learn.load('clas_1')"
   ]
  },
  {
   "cell_type": "code",
   "execution_count": 23,
   "metadata": {
    "colab": {
     "base_uri": "https://localhost:8080/",
     "height": 101
    },
    "colab_type": "code",
    "id": "Uxg3XdBrMWgo",
    "outputId": "de1625d2-ae27-405e-bb14-f725febe016a"
   },
   "outputs": [],
   "source": [
    "learn.unfreeze()"
   ]
  },
  {
   "cell_type": "code",
   "execution_count": 37,
   "metadata": {
    "colab": {
     "base_uri": "https://localhost:8080/",
     "height": 134
    },
    "colab_type": "code",
    "id": "had3dZdLMWgv",
    "outputId": "cfa922b0-2d97-49d9-aa54-bd6de57068ea",
    "scrolled": true
   },
   "outputs": [
    {
     "data": {
      "application/vnd.jupyter.widget-view+json": {
       "model_id": "0bc2611ccc4849d4a42397fb07366c46",
       "version_major": 2,
       "version_minor": 0
      },
      "text/plain": [
       "HBox(children=(IntProgress(value=0, description='Epoch', max=15), HTML(value='')))"
      ]
     },
     "metadata": {},
     "output_type": "display_data"
    },
    {
     "name": "stdout",
     "output_type": "stream",
     "text": [
      "  0%|          | 3/1125 [00:08<50:40,  2.71s/it, loss=0.211]  "
     ]
    },
    {
     "ename": "RuntimeError",
     "evalue": "cuda runtime error (2) : out of memory at /opt/conda/conda-bld/pytorch_1518244421288/work/torch/lib/THC/generic/THCStorage.cu:58",
     "output_type": "error",
     "traceback": [
      "\u001b[0;31m---------------------------------------------------------------------------\u001b[0m",
      "\u001b[0;31mRuntimeError\u001b[0m                              Traceback (most recent call last)",
      "\u001b[0;32m<ipython-input-37-0876ade19b57>\u001b[0m in \u001b[0;36m<module>\u001b[0;34m()\u001b[0m\n\u001b[0;32m----> 1\u001b[0;31m \u001b[0mlearn\u001b[0m\u001b[0;34m.\u001b[0m\u001b[0mfit\u001b[0m\u001b[0;34m(\u001b[0m\u001b[0mlrs\u001b[0m\u001b[0;34m,\u001b[0m \u001b[0;36m1\u001b[0m\u001b[0;34m,\u001b[0m \u001b[0mwds\u001b[0m\u001b[0;34m=\u001b[0m\u001b[0mwd\u001b[0m\u001b[0;34m,\u001b[0m \u001b[0mcycle_len\u001b[0m\u001b[0;34m=\u001b[0m\u001b[0;36m15\u001b[0m\u001b[0;34m,\u001b[0m \u001b[0muse_clr\u001b[0m\u001b[0;34m=\u001b[0m\u001b[0;34m(\u001b[0m\u001b[0;36m32\u001b[0m\u001b[0;34m,\u001b[0m\u001b[0;36m10\u001b[0m\u001b[0;34m)\u001b[0m\u001b[0;34m)\u001b[0m\u001b[0;34m\u001b[0m\u001b[0m\n\u001b[0m\u001b[1;32m      2\u001b[0m \u001b[0;31m# JH uses 14. 8.26: first 4, then 3, then 2. saved model, reloaded 8.27 and set up for 5 epochs\u001b[0m\u001b[0;34m\u001b[0m\u001b[0;34m\u001b[0m\u001b[0m\n",
      "\u001b[0;32m~/imdb_sync/fastai/text.py\u001b[0m in \u001b[0;36mfit\u001b[0;34m(self, *args, **kwargs)\u001b[0m\n\u001b[1;32m    209\u001b[0m \u001b[0;34m\u001b[0m\u001b[0m\n\u001b[1;32m    210\u001b[0m     \u001b[0;32mdef\u001b[0m \u001b[0m_get_crit\u001b[0m\u001b[0;34m(\u001b[0m\u001b[0mself\u001b[0m\u001b[0;34m,\u001b[0m \u001b[0mdata\u001b[0m\u001b[0;34m)\u001b[0m\u001b[0;34m:\u001b[0m \u001b[0;32mreturn\u001b[0m \u001b[0mF\u001b[0m\u001b[0;34m.\u001b[0m\u001b[0mcross_entropy\u001b[0m\u001b[0;34m\u001b[0m\u001b[0m\n\u001b[0;32m--> 211\u001b[0;31m     \u001b[0;32mdef\u001b[0m \u001b[0mfit\u001b[0m\u001b[0;34m(\u001b[0m\u001b[0mself\u001b[0m\u001b[0;34m,\u001b[0m \u001b[0;34m*\u001b[0m\u001b[0margs\u001b[0m\u001b[0;34m,\u001b[0m \u001b[0;34m**\u001b[0m\u001b[0mkwargs\u001b[0m\u001b[0;34m)\u001b[0m\u001b[0;34m:\u001b[0m \u001b[0;32mreturn\u001b[0m \u001b[0msuper\u001b[0m\u001b[0;34m(\u001b[0m\u001b[0;34m)\u001b[0m\u001b[0;34m.\u001b[0m\u001b[0mfit\u001b[0m\u001b[0;34m(\u001b[0m\u001b[0;34m*\u001b[0m\u001b[0margs\u001b[0m\u001b[0;34m,\u001b[0m \u001b[0;34m**\u001b[0m\u001b[0mkwargs\u001b[0m\u001b[0;34m,\u001b[0m \u001b[0mseq_first\u001b[0m\u001b[0;34m=\u001b[0m\u001b[0;32mTrue\u001b[0m\u001b[0;34m)\u001b[0m\u001b[0;34m\u001b[0m\u001b[0m\n\u001b[0m\u001b[1;32m    212\u001b[0m \u001b[0;34m\u001b[0m\u001b[0m\n\u001b[1;32m    213\u001b[0m     \u001b[0;32mdef\u001b[0m \u001b[0msave_encoder\u001b[0m\u001b[0;34m(\u001b[0m\u001b[0mself\u001b[0m\u001b[0;34m,\u001b[0m \u001b[0mname\u001b[0m\u001b[0;34m)\u001b[0m\u001b[0;34m:\u001b[0m \u001b[0msave_model\u001b[0m\u001b[0;34m(\u001b[0m\u001b[0mself\u001b[0m\u001b[0;34m.\u001b[0m\u001b[0mmodel\u001b[0m\u001b[0;34m[\u001b[0m\u001b[0;36m0\u001b[0m\u001b[0;34m]\u001b[0m\u001b[0;34m,\u001b[0m \u001b[0mself\u001b[0m\u001b[0;34m.\u001b[0m\u001b[0mget_model_path\u001b[0m\u001b[0;34m(\u001b[0m\u001b[0mname\u001b[0m\u001b[0;34m)\u001b[0m\u001b[0;34m)\u001b[0m\u001b[0;34m\u001b[0m\u001b[0m\n",
      "\u001b[0;32m~/imdb_sync/fastai/learner.py\u001b[0m in \u001b[0;36mfit\u001b[0;34m(self, lrs, n_cycle, wds, **kwargs)\u001b[0m\n\u001b[1;32m    302\u001b[0m         \u001b[0mself\u001b[0m\u001b[0;34m.\u001b[0m\u001b[0msched\u001b[0m \u001b[0;34m=\u001b[0m \u001b[0;32mNone\u001b[0m\u001b[0;34m\u001b[0m\u001b[0m\n\u001b[1;32m    303\u001b[0m         \u001b[0mlayer_opt\u001b[0m \u001b[0;34m=\u001b[0m \u001b[0mself\u001b[0m\u001b[0;34m.\u001b[0m\u001b[0mget_layer_opt\u001b[0m\u001b[0;34m(\u001b[0m\u001b[0mlrs\u001b[0m\u001b[0;34m,\u001b[0m \u001b[0mwds\u001b[0m\u001b[0;34m)\u001b[0m\u001b[0;34m\u001b[0m\u001b[0m\n\u001b[0;32m--> 304\u001b[0;31m         \u001b[0;32mreturn\u001b[0m \u001b[0mself\u001b[0m\u001b[0;34m.\u001b[0m\u001b[0mfit_gen\u001b[0m\u001b[0;34m(\u001b[0m\u001b[0mself\u001b[0m\u001b[0;34m.\u001b[0m\u001b[0mmodel\u001b[0m\u001b[0;34m,\u001b[0m \u001b[0mself\u001b[0m\u001b[0;34m.\u001b[0m\u001b[0mdata\u001b[0m\u001b[0;34m,\u001b[0m \u001b[0mlayer_opt\u001b[0m\u001b[0;34m,\u001b[0m \u001b[0mn_cycle\u001b[0m\u001b[0;34m,\u001b[0m \u001b[0;34m**\u001b[0m\u001b[0mkwargs\u001b[0m\u001b[0;34m)\u001b[0m\u001b[0;34m\u001b[0m\u001b[0m\n\u001b[0m\u001b[1;32m    305\u001b[0m \u001b[0;34m\u001b[0m\u001b[0m\n\u001b[1;32m    306\u001b[0m     \u001b[0;32mdef\u001b[0m \u001b[0mwarm_up\u001b[0m\u001b[0;34m(\u001b[0m\u001b[0mself\u001b[0m\u001b[0;34m,\u001b[0m \u001b[0mlr\u001b[0m\u001b[0;34m,\u001b[0m \u001b[0mwds\u001b[0m\u001b[0;34m=\u001b[0m\u001b[0;32mNone\u001b[0m\u001b[0;34m)\u001b[0m\u001b[0;34m:\u001b[0m\u001b[0;34m\u001b[0m\u001b[0m\n",
      "\u001b[0;32m~/imdb_sync/fastai/learner.py\u001b[0m in \u001b[0;36mfit_gen\u001b[0;34m(self, model, data, layer_opt, n_cycle, cycle_len, cycle_mult, cycle_save_name, best_save_name, use_clr, use_clr_beta, metrics, callbacks, use_wd_sched, norm_wds, wds_sched_mult, use_swa, swa_start, swa_eval_freq, **kwargs)\u001b[0m\n\u001b[1;32m    249\u001b[0m             \u001b[0mmetrics\u001b[0m\u001b[0;34m=\u001b[0m\u001b[0mmetrics\u001b[0m\u001b[0;34m,\u001b[0m \u001b[0mcallbacks\u001b[0m\u001b[0;34m=\u001b[0m\u001b[0mcallbacks\u001b[0m\u001b[0;34m,\u001b[0m \u001b[0mreg_fn\u001b[0m\u001b[0;34m=\u001b[0m\u001b[0mself\u001b[0m\u001b[0;34m.\u001b[0m\u001b[0mreg_fn\u001b[0m\u001b[0;34m,\u001b[0m \u001b[0mclip\u001b[0m\u001b[0;34m=\u001b[0m\u001b[0mself\u001b[0m\u001b[0;34m.\u001b[0m\u001b[0mclip\u001b[0m\u001b[0;34m,\u001b[0m \u001b[0mfp16\u001b[0m\u001b[0;34m=\u001b[0m\u001b[0mself\u001b[0m\u001b[0;34m.\u001b[0m\u001b[0mfp16\u001b[0m\u001b[0;34m,\u001b[0m\u001b[0;34m\u001b[0m\u001b[0m\n\u001b[1;32m    250\u001b[0m             \u001b[0mswa_model\u001b[0m\u001b[0;34m=\u001b[0m\u001b[0mself\u001b[0m\u001b[0;34m.\u001b[0m\u001b[0mswa_model\u001b[0m \u001b[0;32mif\u001b[0m \u001b[0muse_swa\u001b[0m \u001b[0;32melse\u001b[0m \u001b[0;32mNone\u001b[0m\u001b[0;34m,\u001b[0m \u001b[0mswa_start\u001b[0m\u001b[0;34m=\u001b[0m\u001b[0mswa_start\u001b[0m\u001b[0;34m,\u001b[0m\u001b[0;34m\u001b[0m\u001b[0m\n\u001b[0;32m--> 251\u001b[0;31m             swa_eval_freq=swa_eval_freq, **kwargs)\n\u001b[0m\u001b[1;32m    252\u001b[0m \u001b[0;34m\u001b[0m\u001b[0m\n\u001b[1;32m    253\u001b[0m     \u001b[0;32mdef\u001b[0m \u001b[0mget_layer_groups\u001b[0m\u001b[0;34m(\u001b[0m\u001b[0mself\u001b[0m\u001b[0;34m)\u001b[0m\u001b[0;34m:\u001b[0m \u001b[0;32mreturn\u001b[0m \u001b[0mself\u001b[0m\u001b[0;34m.\u001b[0m\u001b[0mmodels\u001b[0m\u001b[0;34m.\u001b[0m\u001b[0mget_layer_groups\u001b[0m\u001b[0;34m(\u001b[0m\u001b[0;34m)\u001b[0m\u001b[0;34m\u001b[0m\u001b[0m\n",
      "\u001b[0;32m~/imdb_sync/fastai/model.py\u001b[0m in \u001b[0;36mfit\u001b[0;34m(model, data, n_epochs, opt, crit, metrics, callbacks, stepper, swa_model, swa_start, swa_eval_freq, visualize, **kwargs)\u001b[0m\n\u001b[1;32m    139\u001b[0m             \u001b[0mbatch_num\u001b[0m \u001b[0;34m+=\u001b[0m \u001b[0;36m1\u001b[0m\u001b[0;34m\u001b[0m\u001b[0m\n\u001b[1;32m    140\u001b[0m             \u001b[0;32mfor\u001b[0m \u001b[0mcb\u001b[0m \u001b[0;32min\u001b[0m \u001b[0mcallbacks\u001b[0m\u001b[0;34m:\u001b[0m \u001b[0mcb\u001b[0m\u001b[0;34m.\u001b[0m\u001b[0mon_batch_begin\u001b[0m\u001b[0;34m(\u001b[0m\u001b[0;34m)\u001b[0m\u001b[0;34m\u001b[0m\u001b[0m\n\u001b[0;32m--> 141\u001b[0;31m             \u001b[0mloss\u001b[0m \u001b[0;34m=\u001b[0m \u001b[0mmodel_stepper\u001b[0m\u001b[0;34m.\u001b[0m\u001b[0mstep\u001b[0m\u001b[0;34m(\u001b[0m\u001b[0mV\u001b[0m\u001b[0;34m(\u001b[0m\u001b[0mx\u001b[0m\u001b[0;34m)\u001b[0m\u001b[0;34m,\u001b[0m\u001b[0mV\u001b[0m\u001b[0;34m(\u001b[0m\u001b[0my\u001b[0m\u001b[0;34m)\u001b[0m\u001b[0;34m,\u001b[0m \u001b[0mepoch\u001b[0m\u001b[0;34m)\u001b[0m\u001b[0;34m\u001b[0m\u001b[0m\n\u001b[0m\u001b[1;32m    142\u001b[0m             \u001b[0mavg_loss\u001b[0m \u001b[0;34m=\u001b[0m \u001b[0mavg_loss\u001b[0m \u001b[0;34m*\u001b[0m \u001b[0mavg_mom\u001b[0m \u001b[0;34m+\u001b[0m \u001b[0mloss\u001b[0m \u001b[0;34m*\u001b[0m \u001b[0;34m(\u001b[0m\u001b[0;36m1\u001b[0m\u001b[0;34m-\u001b[0m\u001b[0mavg_mom\u001b[0m\u001b[0;34m)\u001b[0m\u001b[0;34m\u001b[0m\u001b[0m\n\u001b[1;32m    143\u001b[0m             \u001b[0mdebias_loss\u001b[0m \u001b[0;34m=\u001b[0m \u001b[0mavg_loss\u001b[0m \u001b[0;34m/\u001b[0m \u001b[0;34m(\u001b[0m\u001b[0;36m1\u001b[0m \u001b[0;34m-\u001b[0m \u001b[0mavg_mom\u001b[0m\u001b[0;34m**\u001b[0m\u001b[0mbatch_num\u001b[0m\u001b[0;34m)\u001b[0m\u001b[0;34m\u001b[0m\u001b[0m\n",
      "\u001b[0;32m~/imdb_sync/fastai/model.py\u001b[0m in \u001b[0;36mstep\u001b[0;34m(self, xs, y, epoch)\u001b[0m\n\u001b[1;32m     55\u001b[0m         \u001b[0;32mif\u001b[0m \u001b[0mself\u001b[0m\u001b[0;34m.\u001b[0m\u001b[0mloss_scale\u001b[0m \u001b[0;34m!=\u001b[0m \u001b[0;36m1\u001b[0m\u001b[0;34m:\u001b[0m \u001b[0;32massert\u001b[0m\u001b[0;34m(\u001b[0m\u001b[0mself\u001b[0m\u001b[0;34m.\u001b[0m\u001b[0mfp16\u001b[0m\u001b[0;34m)\u001b[0m\u001b[0;34m;\u001b[0m \u001b[0mloss\u001b[0m \u001b[0;34m=\u001b[0m \u001b[0mloss\u001b[0m\u001b[0;34m*\u001b[0m\u001b[0mself\u001b[0m\u001b[0;34m.\u001b[0m\u001b[0mloss_scale\u001b[0m\u001b[0;34m\u001b[0m\u001b[0m\n\u001b[1;32m     56\u001b[0m         \u001b[0;32mif\u001b[0m \u001b[0mself\u001b[0m\u001b[0;34m.\u001b[0m\u001b[0mreg_fn\u001b[0m\u001b[0;34m:\u001b[0m \u001b[0mloss\u001b[0m \u001b[0;34m=\u001b[0m \u001b[0mself\u001b[0m\u001b[0;34m.\u001b[0m\u001b[0mreg_fn\u001b[0m\u001b[0;34m(\u001b[0m\u001b[0moutput\u001b[0m\u001b[0;34m,\u001b[0m \u001b[0mxtra\u001b[0m\u001b[0;34m,\u001b[0m \u001b[0mraw_loss\u001b[0m\u001b[0;34m)\u001b[0m\u001b[0;34m\u001b[0m\u001b[0m\n\u001b[0;32m---> 57\u001b[0;31m         \u001b[0mloss\u001b[0m\u001b[0;34m.\u001b[0m\u001b[0mbackward\u001b[0m\u001b[0;34m(\u001b[0m\u001b[0;34m)\u001b[0m\u001b[0;34m\u001b[0m\u001b[0m\n\u001b[0m\u001b[1;32m     58\u001b[0m         \u001b[0;32mif\u001b[0m \u001b[0mself\u001b[0m\u001b[0;34m.\u001b[0m\u001b[0mfp16\u001b[0m\u001b[0;34m:\u001b[0m \u001b[0mupdate_fp32_grads\u001b[0m\u001b[0;34m(\u001b[0m\u001b[0mself\u001b[0m\u001b[0;34m.\u001b[0m\u001b[0mfp32_params\u001b[0m\u001b[0;34m,\u001b[0m \u001b[0mself\u001b[0m\u001b[0;34m.\u001b[0m\u001b[0mm\u001b[0m\u001b[0;34m)\u001b[0m\u001b[0;34m\u001b[0m\u001b[0m\n\u001b[1;32m     59\u001b[0m         \u001b[0;32mif\u001b[0m \u001b[0mself\u001b[0m\u001b[0;34m.\u001b[0m\u001b[0mloss_scale\u001b[0m \u001b[0;34m!=\u001b[0m \u001b[0;36m1\u001b[0m\u001b[0;34m:\u001b[0m\u001b[0;34m\u001b[0m\u001b[0m\n",
      "\u001b[0;32m~/anaconda3/envs/fastai/lib/python3.6/site-packages/torch/autograd/variable.py\u001b[0m in \u001b[0;36mbackward\u001b[0;34m(self, gradient, retain_graph, create_graph, retain_variables)\u001b[0m\n\u001b[1;32m    165\u001b[0m                 \u001b[0mVariable\u001b[0m\u001b[0;34m.\u001b[0m\u001b[0;34m\u001b[0m\u001b[0m\n\u001b[1;32m    166\u001b[0m         \"\"\"\n\u001b[0;32m--> 167\u001b[0;31m         \u001b[0mtorch\u001b[0m\u001b[0;34m.\u001b[0m\u001b[0mautograd\u001b[0m\u001b[0;34m.\u001b[0m\u001b[0mbackward\u001b[0m\u001b[0;34m(\u001b[0m\u001b[0mself\u001b[0m\u001b[0;34m,\u001b[0m \u001b[0mgradient\u001b[0m\u001b[0;34m,\u001b[0m \u001b[0mretain_graph\u001b[0m\u001b[0;34m,\u001b[0m \u001b[0mcreate_graph\u001b[0m\u001b[0;34m,\u001b[0m \u001b[0mretain_variables\u001b[0m\u001b[0;34m)\u001b[0m\u001b[0;34m\u001b[0m\u001b[0m\n\u001b[0m\u001b[1;32m    168\u001b[0m \u001b[0;34m\u001b[0m\u001b[0m\n\u001b[1;32m    169\u001b[0m     \u001b[0;32mdef\u001b[0m \u001b[0mregister_hook\u001b[0m\u001b[0;34m(\u001b[0m\u001b[0mself\u001b[0m\u001b[0;34m,\u001b[0m \u001b[0mhook\u001b[0m\u001b[0;34m)\u001b[0m\u001b[0;34m:\u001b[0m\u001b[0;34m\u001b[0m\u001b[0m\n",
      "\u001b[0;32m~/anaconda3/envs/fastai/lib/python3.6/site-packages/torch/autograd/__init__.py\u001b[0m in \u001b[0;36mbackward\u001b[0;34m(variables, grad_variables, retain_graph, create_graph, retain_variables)\u001b[0m\n\u001b[1;32m     97\u001b[0m \u001b[0;34m\u001b[0m\u001b[0m\n\u001b[1;32m     98\u001b[0m     Variable._execution_engine.run_backward(\n\u001b[0;32m---> 99\u001b[0;31m         variables, grad_variables, retain_graph)\n\u001b[0m\u001b[1;32m    100\u001b[0m \u001b[0;34m\u001b[0m\u001b[0m\n\u001b[1;32m    101\u001b[0m \u001b[0;34m\u001b[0m\u001b[0m\n",
      "\u001b[0;32m~/anaconda3/envs/fastai/lib/python3.6/site-packages/torch/autograd/function.py\u001b[0m in \u001b[0;36mapply\u001b[0;34m(self, *args)\u001b[0m\n\u001b[1;32m     89\u001b[0m \u001b[0;34m\u001b[0m\u001b[0m\n\u001b[1;32m     90\u001b[0m     \u001b[0;32mdef\u001b[0m \u001b[0mapply\u001b[0m\u001b[0;34m(\u001b[0m\u001b[0mself\u001b[0m\u001b[0;34m,\u001b[0m \u001b[0;34m*\u001b[0m\u001b[0margs\u001b[0m\u001b[0;34m)\u001b[0m\u001b[0;34m:\u001b[0m\u001b[0;34m\u001b[0m\u001b[0m\n\u001b[0;32m---> 91\u001b[0;31m         \u001b[0;32mreturn\u001b[0m \u001b[0mself\u001b[0m\u001b[0;34m.\u001b[0m\u001b[0m_forward_cls\u001b[0m\u001b[0;34m.\u001b[0m\u001b[0mbackward\u001b[0m\u001b[0;34m(\u001b[0m\u001b[0mself\u001b[0m\u001b[0;34m,\u001b[0m \u001b[0;34m*\u001b[0m\u001b[0margs\u001b[0m\u001b[0;34m)\u001b[0m\u001b[0;34m\u001b[0m\u001b[0m\n\u001b[0m\u001b[1;32m     92\u001b[0m \u001b[0;34m\u001b[0m\u001b[0m\n\u001b[1;32m     93\u001b[0m \u001b[0;34m\u001b[0m\u001b[0m\n",
      "\u001b[0;32m~/anaconda3/envs/fastai/lib/python3.6/site-packages/torch/autograd/function.py\u001b[0m in \u001b[0;36mwrapper\u001b[0;34m(ctx, *args)\u001b[0m\n\u001b[1;32m    203\u001b[0m         tensor_args = [arg.data if isinstance(arg, Variable) else arg\n\u001b[1;32m    204\u001b[0m                        for arg in args]\n\u001b[0;32m--> 205\u001b[0;31m         \u001b[0moutputs\u001b[0m \u001b[0;34m=\u001b[0m \u001b[0mfn\u001b[0m\u001b[0;34m(\u001b[0m\u001b[0mctx\u001b[0m\u001b[0;34m,\u001b[0m \u001b[0;34m*\u001b[0m\u001b[0mtensor_args\u001b[0m\u001b[0;34m)\u001b[0m\u001b[0;34m\u001b[0m\u001b[0m\n\u001b[0m\u001b[1;32m    206\u001b[0m         \u001b[0;31m# XXX: this is only an approximation of these flags - there's no way\u001b[0m\u001b[0;34m\u001b[0m\u001b[0;34m\u001b[0m\u001b[0m\n\u001b[1;32m    207\u001b[0m         \u001b[0;31m# to figure out if fn didn't use ctx.saved_variables and as a result\u001b[0m\u001b[0;34m\u001b[0m\u001b[0;34m\u001b[0m\u001b[0m\n",
      "\u001b[0;32m~/anaconda3/envs/fastai/lib/python3.6/site-packages/torch/nn/_functions/thnn/sparse.py\u001b[0m in \u001b[0;36mbackward\u001b[0;34m(ctx, grad_output)\u001b[0m\n\u001b[1;32m     84\u001b[0m                     \u001b[0m_sorted\u001b[0m \u001b[0;34m=\u001b[0m \u001b[0m_indices\u001b[0m \u001b[0;34m=\u001b[0m \u001b[0;32mNone\u001b[0m\u001b[0;34m\u001b[0m\u001b[0m\n\u001b[1;32m     85\u001b[0m \u001b[0;34m\u001b[0m\u001b[0m\n\u001b[0;32m---> 86\u001b[0;31m             \u001b[0mgrad_weight\u001b[0m \u001b[0;34m=\u001b[0m \u001b[0mgrad_output\u001b[0m\u001b[0;34m.\u001b[0m\u001b[0mnew\u001b[0m\u001b[0;34m(\u001b[0m\u001b[0mctx\u001b[0m\u001b[0;34m.\u001b[0m\u001b[0m_weight_size\u001b[0m\u001b[0;34m)\u001b[0m\u001b[0;34m.\u001b[0m\u001b[0mzero_\u001b[0m\u001b[0;34m(\u001b[0m\u001b[0;34m)\u001b[0m\u001b[0;34m\u001b[0m\u001b[0m\n\u001b[0m\u001b[1;32m     87\u001b[0m             \u001b[0;31m# Doesn't support Variable grad_output\u001b[0m\u001b[0;34m\u001b[0m\u001b[0;34m\u001b[0m\u001b[0m\n\u001b[1;32m     88\u001b[0m             ctx._backend.LookupTable_accGradParameters(\n",
      "\u001b[0;31mRuntimeError\u001b[0m: cuda runtime error (2) : out of memory at /opt/conda/conda-bld/pytorch_1518244421288/work/torch/lib/THC/generic/THCStorage.cu:58"
     ]
    }
   ],
   "source": [
    "learn.fit(lrs, 1, wds=wd, cycle_len=20, use_clr=(32,10)) \n",
    "# JH uses 14. 8.26: first 4, then 3, then 2. saved model, reloaded 8.27 and set up for 5 epochs. pred on this, now 20 more"
   ]
  },
  {
   "cell_type": "code",
   "execution_count": 25,
   "metadata": {
    "colab": {},
    "colab_type": "code",
    "id": "0Rj9tTcYMWgx",
    "scrolled": true
   },
   "outputs": [
    {
     "data": {
      "image/png": "[encoded data removed]",
      "text/plain": [
       "<Figure size 432x288 with 1 Axes>"
      ]
     },
     "metadata": {},
     "output_type": "display_data"
    }
   ],
   "source": [
    "learn.sched.plot_loss() # Loss is still going down. We could keep training this guy if necessary"
   ]
  },
  {
   "cell_type": "code",
   "execution_count": 26,
   "metadata": {},
   "outputs": [],
   "source": [
    "learn.save('clas_2')"
   ]
  },
  {
   "cell_type": "code",
   "execution_count": 20,
   "metadata": {},
   "outputs": [],
   "source": [
    "learn.load('clas_2')"
   ]
  },
  {
   "cell_type": "markdown",
   "metadata": {},
   "source": [
    "## using different pred apparatus"
   ]
  },
  {
   "cell_type": "code",
   "execution_count": 23,
   "metadata": {
    "scrolled": true
   },
   "outputs": [
    {
     "data": {
      "text/plain": [
       "SequentialRNN(\n",
       "  (0): MultiBatchRNN(\n",
       "    (encoder): Embedding(52315, 400, padding_idx=1)\n",
       "    (encoder_with_dropout): EmbeddingDropout(\n",
       "      (embed): Embedding(52315, 400, padding_idx=1)\n",
       "    )\n",
       "    (rnns): ModuleList(\n",
       "      (0): WeightDrop(\n",
       "        (module): LSTM(400, 1150)\n",
       "      )\n",
       "      (1): WeightDrop(\n",
       "        (module): LSTM(1150, 1150)\n",
       "      )\n",
       "      (2): WeightDrop(\n",
       "        (module): LSTM(1150, 400)\n",
       "      )\n",
       "    )\n",
       "    (dropouti): LockedDropout(\n",
       "    )\n",
       "    (dropouths): ModuleList(\n",
       "      (0): LockedDropout(\n",
       "      )\n",
       "      (1): LockedDropout(\n",
       "      )\n",
       "      (2): LockedDropout(\n",
       "      )\n",
       "    )\n",
       "  )\n",
       "  (1): PoolingLinearClassifier(\n",
       "    (layers): ModuleList(\n",
       "      (0): LinearBlock(\n",
       "        (lin): Linear(in_features=1200, out_features=50, bias=True)\n",
       "        (drop): Dropout(p=0.4)\n",
       "        (bn): BatchNorm1d(1200, eps=1e-05, momentum=0.1, affine=True)\n",
       "      )\n",
       "      (1): LinearBlock(\n",
       "        (lin): Linear(in_features=50, out_features=2, bias=True)\n",
       "        (drop): Dropout(p=0.1)\n",
       "        (bn): BatchNorm1d(50, eps=1e-05, momentum=0.1, affine=True)\n",
       "      )\n",
       "    )\n",
       "  )\n",
       ")"
      ]
     },
     "execution_count": 23,
     "metadata": {},
     "output_type": "execute_result"
    }
   ],
   "source": [
    "model = learn.model\n",
    "model.reset()\n",
    "model.eval()"
   ]
  },
  {
   "cell_type": "code",
   "execution_count": 45,
   "metadata": {
    "scrolled": true
   },
   "outputs": [],
   "source": [
    "model.reset()\n",
    "model.eval()\n",
    "\n",
    "probs = []\n",
    "LEN = 100#len(test_clas)\n",
    "\n",
    "for i in range(LEN):\n",
    "    test_txt = test_clas[i+600]; #print(test_df.text.iloc[i])\n",
    "\n",
    "    ary = np.reshape(np.array(test_txt),(-1,1))\n",
    "\n",
    "    # turn this array into a tensor\n",
    "    tensor = torch.LongTensor(ary)\n",
    "\n",
    "    # wrap in a torch Variable\n",
    "    variable = Variable(tensor).cuda()\n",
    "\n",
    "    # do the predictions\n",
    "    predictions = model(variable)\n",
    "\n",
    "    # convert back to numpy\n",
    "    numpy_preds = predictions[0].data.cpu().numpy()\n",
    "\n",
    "    prob = softmax(numpy_preds[0])[0]; \n",
    "    \n",
    "    probs.append(prob)"
   ]
  },
  {
   "cell_type": "code",
   "execution_count": 46,
   "metadata": {},
   "outputs": [
    {
     "data": {
      "text/plain": [
       "0.3172778"
      ]
     },
     "execution_count": 46,
     "metadata": {},
     "output_type": "execute_result"
    }
   ],
   "source": [
    "np.array(probs)[:,1].mean()"
   ]
  },
  {
   "cell_type": "code",
   "execution_count": 47,
   "metadata": {
    "scrolled": true
   },
   "outputs": [
    {
     "data": {
      "text/plain": [
       "[array([0.99134, 0.00866], dtype=float32),\n",
       " array([0.031, 0.969], dtype=float32),\n",
       " array([0.49665, 0.50335], dtype=float32),\n",
       " array([0.99958, 0.00042], dtype=float32),\n",
       " array([0.84995, 0.15005], dtype=float32),\n",
       " array([0.99496, 0.00504], dtype=float32),\n",
       " array([0.99909, 0.00091], dtype=float32),\n",
       " array([0.5651, 0.4349], dtype=float32),\n",
       " array([0.99987, 0.00013], dtype=float32),\n",
       " array([0.36191, 0.63809], dtype=float32),\n",
       " array([0.09606, 0.90394], dtype=float32),\n",
       " array([0.47851, 0.52149], dtype=float32),\n",
       " array([0.96359, 0.03641], dtype=float32),\n",
       " array([0.99929, 0.00071], dtype=float32),\n",
       " array([0.99855, 0.00145], dtype=float32),\n",
       " array([0.98241, 0.01759], dtype=float32),\n",
       " array([0.82922, 0.17078], dtype=float32),\n",
       " array([0.41452, 0.58548], dtype=float32),\n",
       " array([0.99909, 0.00091], dtype=float32),\n",
       " array([0.99703, 0.00297], dtype=float32),\n",
       " array([0.89057, 0.10943], dtype=float32),\n",
       " array([0.03383, 0.96617], dtype=float32),\n",
       " array([0.54149, 0.45851], dtype=float32),\n",
       " array([0.95063, 0.04937], dtype=float32),\n",
       " array([0.43607, 0.56393], dtype=float32),\n",
       " array([0.99907, 0.00093], dtype=float32),\n",
       " array([0.99662, 0.00338], dtype=float32),\n",
       " array([0.99888, 0.00112], dtype=float32),\n",
       " array([0.46425, 0.53575], dtype=float32),\n",
       " array([0.99921, 0.00079], dtype=float32),\n",
       " array([0.19642, 0.80358], dtype=float32),\n",
       " array([0.99596, 0.00404], dtype=float32),\n",
       " array([0.94507, 0.05493], dtype=float32),\n",
       " array([0.99827, 0.00173], dtype=float32),\n",
       " array([0.40475, 0.59525], dtype=float32),\n",
       " array([0.99592, 0.00408], dtype=float32),\n",
       " array([0.1404, 0.8596], dtype=float32),\n",
       " array([0.05304, 0.94696], dtype=float32),\n",
       " array([0.99796, 0.00204], dtype=float32),\n",
       " array([0.99813, 0.00187], dtype=float32),\n",
       " array([0.99951, 0.00049], dtype=float32),\n",
       " array([0.87024, 0.12976], dtype=float32),\n",
       " array([0.9981, 0.0019], dtype=float32),\n",
       " array([0.97552, 0.02448], dtype=float32),\n",
       " array([0.811, 0.189], dtype=float32),\n",
       " array([0.99984, 0.00016], dtype=float32),\n",
       " array([0.99958, 0.00042], dtype=float32),\n",
       " array([0.99008, 0.00992], dtype=float32),\n",
       " array([0.99855, 0.00145], dtype=float32),\n",
       " array([0.99903, 0.00097], dtype=float32),\n",
       " array([0.97846, 0.02154], dtype=float32),\n",
       " array([0.10863, 0.89137], dtype=float32),\n",
       " array([0.99923, 0.00077], dtype=float32),\n",
       " array([0.45624, 0.54376], dtype=float32),\n",
       " array([0.99524, 0.00476], dtype=float32),\n",
       " array([0.17599, 0.82401], dtype=float32),\n",
       " array([0.99958, 0.00042], dtype=float32),\n",
       " array([0.07264, 0.92736], dtype=float32),\n",
       " array([0.33799, 0.66201], dtype=float32),\n",
       " array([0.99909, 0.00091], dtype=float32),\n",
       " array([0.22857, 0.77143], dtype=float32),\n",
       " array([0.02432, 0.97568], dtype=float32),\n",
       " array([0.12621, 0.87379], dtype=float32),\n",
       " array([0.99938, 0.00062], dtype=float32),\n",
       " array([0.66416, 0.33584], dtype=float32),\n",
       " array([0.99934, 0.00066], dtype=float32),\n",
       " array([0.95307, 0.04693], dtype=float32),\n",
       " array([0.68755, 0.31245], dtype=float32),\n",
       " array([0.2079, 0.7921], dtype=float32),\n",
       " array([0.17262, 0.82738], dtype=float32),\n",
       " array([0.2919, 0.7081], dtype=float32),\n",
       " array([0.81427, 0.18573], dtype=float32),\n",
       " array([0.26741, 0.73259], dtype=float32),\n",
       " array([0.32563, 0.67437], dtype=float32),\n",
       " array([0.99971, 0.00029], dtype=float32),\n",
       " array([0.98105, 0.01895], dtype=float32),\n",
       " array([0.99925, 0.00075], dtype=float32),\n",
       " array([0.01647, 0.98353], dtype=float32),\n",
       " array([0.99949, 0.00051], dtype=float32),\n",
       " array([0.999, 0.001], dtype=float32),\n",
       " array([0.99653, 0.00347], dtype=float32),\n",
       " array([0.11498, 0.88502], dtype=float32),\n",
       " array([0.41163, 0.58837], dtype=float32),\n",
       " array([0.99927, 0.00073], dtype=float32),\n",
       " array([0.99973, 0.00027], dtype=float32),\n",
       " array([0.99947, 0.00053], dtype=float32),\n",
       " array([0.99871, 0.00129], dtype=float32),\n",
       " array([0.0197, 0.9803], dtype=float32),\n",
       " array([0.96951, 0.03049], dtype=float32),\n",
       " array([0.99887, 0.00113], dtype=float32),\n",
       " array([0.04639, 0.95361], dtype=float32),\n",
       " array([0.03085, 0.96915], dtype=float32),\n",
       " array([0.99868, 0.00132], dtype=float32),\n",
       " array([0.02758, 0.97242], dtype=float32),\n",
       " array([0.51955, 0.48045], dtype=float32),\n",
       " array([0.73676, 0.26324], dtype=float32),\n",
       " array([0.39605, 0.60395], dtype=float32),\n",
       " array([0.77192, 0.22808], dtype=float32),\n",
       " array([0.5654, 0.4346], dtype=float32),\n",
       " array([0.06457, 0.93543], dtype=float32)]"
      ]
     },
     "execution_count": 47,
     "metadata": {},
     "output_type": "execute_result"
    }
   ],
   "source": [
    "probs"
   ]
  },
  {
   "cell_type": "code",
   "execution_count": 41,
   "metadata": {},
   "outputs": [
    {
     "name": "stderr",
     "output_type": "stream",
     "text": [
      "/home/ubuntu/anaconda3/envs/fastai/lib/python3.6/site-packages/ipykernel_launcher.py:1: SettingWithCopyWarning: \n",
      "A value is trying to be set on a copy of a slice from a DataFrame.\n",
      "Try using .loc[row_indexer,col_indexer] = value instead\n",
      "\n",
      "See the caveats in the documentation: http://pandas.pydata.org/pandas-docs/stable/indexing.html#indexing-view-versus-copy\n",
      "  \"\"\"Entry point for launching an IPython kernel.\n"
     ]
    },
    {
     "data": {
      "text/html": [
       "<div>\n",
       "<style scoped>\n",
       "    .dataframe tbody tr th:only-of-type {\n",
       "        vertical-align: middle;\n",
       "    }\n",
       "\n",
       "    .dataframe tbody tr th {\n",
       "        vertical-align: top;\n",
       "    }\n",
       "\n",
       "    .dataframe thead th {\n",
       "        text-align: right;\n",
       "    }\n",
       "</style>\n",
       "<table border=\"1\" class=\"dataframe\">\n",
       "  <thead>\n",
       "    <tr style=\"text-align: right;\">\n",
       "      <th></th>\n",
       "      <th>Unnamed: 0</th>\n",
       "      <th>dataset</th>\n",
       "      <th>id</th>\n",
       "      <th>labels</th>\n",
       "      <th>text</th>\n",
       "      <th>tokenized_text</th>\n",
       "      <th>numerized_tokens</th>\n",
       "    </tr>\n",
       "  </thead>\n",
       "  <tbody>\n",
       "    <tr>\n",
       "      <th>25000</th>\n",
       "      <td>0</td>\n",
       "      <td>test</td>\n",
       "      <td>98481</td>\n",
       "      <td>0.861524</td>\n",
       "      <td>Bud Abbott and Lou Costello always had a good ...</td>\n",
       "      <td>['\\n', 'xbos', 'xfld', '1', '98481', 'xfld', '...</td>\n",
       "      <td>[42, 43, 14, 18, 0, 14, 18, 68, 14, 39, 5284, ...</td>\n",
       "    </tr>\n",
       "    <tr>\n",
       "      <th>25001</th>\n",
       "      <td>1</td>\n",
       "      <td>test</td>\n",
       "      <td>88606</td>\n",
       "      <td>0.856081</td>\n",
       "      <td>This film is not your typical Hollywood fare, ...</td>\n",
       "      <td>['\\n', 'xbos', 'xfld', '1', '88606', 'xfld', '...</td>\n",
       "      <td>[42, 43, 14, 18, 0, 14, 18, 68, 14, 39, 13, 27...</td>\n",
       "    </tr>\n",
       "    <tr>\n",
       "      <th>25002</th>\n",
       "      <td>2</td>\n",
       "      <td>test</td>\n",
       "      <td>88639</td>\n",
       "      <td>0.908245</td>\n",
       "      <td>Henry Thomas, and Robin Tunny, are a couple of...</td>\n",
       "      <td>['\\n', 'xbos', 'xfld', '1', '88639', 'xfld', '...</td>\n",
       "      <td>[42, 43, 14, 18, 0, 14, 18, 68, 14, 39, 1636, ...</td>\n",
       "    </tr>\n",
       "    <tr>\n",
       "      <th>25003</th>\n",
       "      <td>3</td>\n",
       "      <td>test</td>\n",
       "      <td>76170</td>\n",
       "      <td>0.066361</td>\n",
       "      <td>This digital horror film brings us into the Mi...</td>\n",
       "      <td>['\\n', 'xbos', 'xfld', '1', '76170', 'xfld', '...</td>\n",
       "      <td>[42, 43, 14, 18, 0, 14, 18, 68, 14, 39, 13, 36...</td>\n",
       "    </tr>\n",
       "    <tr>\n",
       "      <th>25004</th>\n",
       "      <td>4</td>\n",
       "      <td>test</td>\n",
       "      <td>81803</td>\n",
       "      <td>0.007510</td>\n",
       "      <td>I just saw this on a local independent station...</td>\n",
       "      <td>['\\n', 'xbos', 'xfld', '1', '81803', 'xfld', '...</td>\n",
       "      <td>[42, 43, 14, 18, 0, 14, 18, 68, 14, 39, 12, 56...</td>\n",
       "    </tr>\n",
       "    <tr>\n",
       "      <th>25005</th>\n",
       "      <td>5</td>\n",
       "      <td>test</td>\n",
       "      <td>93371</td>\n",
       "      <td>0.999545</td>\n",
       "      <td>Those wishing to see film noir remakes, should...</td>\n",
       "      <td>['\\n', 'xbos', 'xfld', '1', '93371', 'xfld', '...</td>\n",
       "      <td>[42, 43, 14, 18, 0, 14, 18, 68, 14, 39, 167, 4...</td>\n",
       "    </tr>\n",
       "    <tr>\n",
       "      <th>25006</th>\n",
       "      <td>6</td>\n",
       "      <td>test</td>\n",
       "      <td>87360</td>\n",
       "      <td>0.002328</td>\n",
       "      <td>I never read the book. Now I don't really want...</td>\n",
       "      <td>['\\n', 'xbos', 'xfld', '1', '87360', 'xfld', '...</td>\n",
       "      <td>[42, 43, 14, 18, 0, 14, 18, 68, 14, 39, 12, 13...</td>\n",
       "    </tr>\n",
       "    <tr>\n",
       "      <th>25007</th>\n",
       "      <td>7</td>\n",
       "      <td>test</td>\n",
       "      <td>88547</td>\n",
       "      <td>0.732679</td>\n",
       "      <td>I think that there was too much action in the ...</td>\n",
       "      <td>['\\n', 'xbos', 'xfld', '1', '88547', 'xfld', '...</td>\n",
       "      <td>[42, 43, 14, 18, 0, 14, 18, 68, 14, 39, 12, 12...</td>\n",
       "    </tr>\n",
       "    <tr>\n",
       "      <th>25008</th>\n",
       "      <td>8</td>\n",
       "      <td>test</td>\n",
       "      <td>88215</td>\n",
       "      <td>0.936093</td>\n",
       "      <td>Have wanted to see this for a while: I never t...</td>\n",
       "      <td>['\\n', 'xbos', 'xfld', '1', '88215', 'xfld', '...</td>\n",
       "      <td>[42, 43, 14, 18, 0, 14, 18, 68, 14, 39, 38, 48...</td>\n",
       "    </tr>\n",
       "    <tr>\n",
       "      <th>25009</th>\n",
       "      <td>9</td>\n",
       "      <td>test</td>\n",
       "      <td>96187</td>\n",
       "      <td>0.974977</td>\n",
       "      <td>This is an interesting, hard to find movie fro...</td>\n",
       "      <td>['\\n', 'xbos', 'xfld', '1', '96187', 'xfld', '...</td>\n",
       "      <td>[42, 43, 14, 18, 0, 14, 18, 68, 14, 39, 13, 9,...</td>\n",
       "    </tr>\n",
       "    <tr>\n",
       "      <th>25010</th>\n",
       "      <td>10</td>\n",
       "      <td>test</td>\n",
       "      <td>81251</td>\n",
       "      <td>0.038988</td>\n",
       "      <td>Well, the Hero and the Terror is slightly belo...</td>\n",
       "      <td>['\\n', 'xbos', 'xfld', '1', '81251', 'xfld', '...</td>\n",
       "      <td>[42, 43, 14, 18, 0, 14, 18, 68, 14, 39, 91, 4,...</td>\n",
       "    </tr>\n",
       "    <tr>\n",
       "      <th>25011</th>\n",
       "      <td>11</td>\n",
       "      <td>test</td>\n",
       "      <td>98086</td>\n",
       "      <td>0.999673</td>\n",
       "      <td>I have been an avid chipmunk fan since the lat...</td>\n",
       "      <td>['\\n', 'xbos', 'xfld', '1', '98086', 'xfld', '...</td>\n",
       "      <td>[42, 43, 14, 18, 0, 14, 18, 68, 14, 39, 12, 38...</td>\n",
       "    </tr>\n",
       "    <tr>\n",
       "      <th>25012</th>\n",
       "      <td>12</td>\n",
       "      <td>test</td>\n",
       "      <td>79688</td>\n",
       "      <td>0.016312</td>\n",
       "      <td>42/100. Often referred as \"Tarzan with clothes...</td>\n",
       "      <td>['\\n', 'xbos', 'xfld', '1', '79688', 'xfld', '...</td>\n",
       "      <td>[42, 43, 14, 18, 0, 14, 18, 68, 14, 39, 12066,...</td>\n",
       "    </tr>\n",
       "    <tr>\n",
       "      <th>25013</th>\n",
       "      <td>13</td>\n",
       "      <td>test</td>\n",
       "      <td>90580</td>\n",
       "      <td>0.938153</td>\n",
       "      <td>I caught this movie late one night and never k...</td>\n",
       "      <td>['\\n', 'xbos', 'xfld', '1', '90580', 'xfld', '...</td>\n",
       "      <td>[42, 43, 14, 18, 0, 14, 18, 68, 14, 39, 12, 10...</td>\n",
       "    </tr>\n",
       "    <tr>\n",
       "      <th>25014</th>\n",
       "      <td>14</td>\n",
       "      <td>test</td>\n",
       "      <td>86756</td>\n",
       "      <td>0.002146</td>\n",
       "      <td>Tyrone Power was cast in the lead as Solomon. ...</td>\n",
       "      <td>['\\n', 'xbos', 'xfld', '1', '86756', 'xfld', '...</td>\n",
       "      <td>[42, 43, 14, 18, 0, 14, 18, 68, 14, 39, 12081,...</td>\n",
       "    </tr>\n",
       "    <tr>\n",
       "      <th>25015</th>\n",
       "      <td>15</td>\n",
       "      <td>test</td>\n",
       "      <td>77906</td>\n",
       "      <td>0.010963</td>\n",
       "      <td>This is one of those religious horror films wh...</td>\n",
       "      <td>['\\n', 'xbos', 'xfld', '1', '77906', 'xfld', '...</td>\n",
       "      <td>[42, 43, 14, 18, 0, 14, 18, 68, 14, 39, 13, 9,...</td>\n",
       "    </tr>\n",
       "    <tr>\n",
       "      <th>25016</th>\n",
       "      <td>16</td>\n",
       "      <td>test</td>\n",
       "      <td>95742</td>\n",
       "      <td>0.984693</td>\n",
       "      <td>Being advertised as the most expensive movie e...</td>\n",
       "      <td>['\\n', 'xbos', 'xfld', '1', '95742', 'xfld', '...</td>\n",
       "      <td>[42, 43, 14, 18, 0, 14, 18, 68, 14, 39, 131, 6...</td>\n",
       "    </tr>\n",
       "    <tr>\n",
       "      <th>25017</th>\n",
       "      <td>17</td>\n",
       "      <td>test</td>\n",
       "      <td>77455</td>\n",
       "      <td>0.001599</td>\n",
       "      <td>The Jaws rip off is the trashiest of the all t...</td>\n",
       "      <td>['\\n', 'xbos', 'xfld', '1', '77455', 'xfld', '...</td>\n",
       "      <td>[42, 43, 14, 18, 0, 14, 18, 68, 14, 39, 2, 454...</td>\n",
       "    </tr>\n",
       "    <tr>\n",
       "      <th>25018</th>\n",
       "      <td>18</td>\n",
       "      <td>test</td>\n",
       "      <td>76454</td>\n",
       "      <td>0.002289</td>\n",
       "      <td>After seeing this film I felt sick to my stoma...</td>\n",
       "      <td>['\\n', 'xbos', 'xfld', '1', '76454', 'xfld', '...</td>\n",
       "      <td>[42, 43, 14, 18, 0, 14, 18, 68, 14, 39, 121, 3...</td>\n",
       "    </tr>\n",
       "    <tr>\n",
       "      <th>25019</th>\n",
       "      <td>19</td>\n",
       "      <td>test</td>\n",
       "      <td>92650</td>\n",
       "      <td>0.999220</td>\n",
       "      <td>I first saw this mini-series as a child and th...</td>\n",
       "      <td>['\\n', 'xbos', 'xfld', '1', '92650', 'xfld', '...</td>\n",
       "      <td>[42, 43, 14, 18, 0, 14, 18, 68, 14, 39, 12, 10...</td>\n",
       "    </tr>\n",
       "    <tr>\n",
       "      <th>25020</th>\n",
       "      <td>20</td>\n",
       "      <td>test</td>\n",
       "      <td>98042</td>\n",
       "      <td>0.998681</td>\n",
       "      <td>The beautiful, charming, supremely versatile a...</td>\n",
       "      <td>['\\n', 'xbos', 'xfld', '1', '98042', 'xfld', '...</td>\n",
       "      <td>[42, 43, 14, 18, 0, 14, 18, 68, 14, 39, 2, 333...</td>\n",
       "    </tr>\n",
       "    <tr>\n",
       "      <th>25021</th>\n",
       "      <td>21</td>\n",
       "      <td>test</td>\n",
       "      <td>81107</td>\n",
       "      <td>0.005361</td>\n",
       "      <td>Everyone I know loves this movie, but I am afr...</td>\n",
       "      <td>['\\n', 'xbos', 'xfld', '1', '81107', 'xfld', '...</td>\n",
       "      <td>[42, 43, 14, 18, 0, 14, 18, 68, 14, 39, 316, 1...</td>\n",
       "    </tr>\n",
       "    <tr>\n",
       "      <th>25022</th>\n",
       "      <td>22</td>\n",
       "      <td>test</td>\n",
       "      <td>83839</td>\n",
       "      <td>0.747667</td>\n",
       "      <td>CORRIDORS OF BLOOD &lt;br /&gt;&lt;br /&gt;Aspect ratio: 1...</td>\n",
       "      <td>['\\n', 'xbos', 'xfld', '1', '83839', 'xfld', '...</td>\n",
       "      <td>[42, 43, 14, 18, 0, 14, 18, 68, 14, 39, 33, 92...</td>\n",
       "    </tr>\n",
       "    <tr>\n",
       "      <th>25023</th>\n",
       "      <td>23</td>\n",
       "      <td>test</td>\n",
       "      <td>87324</td>\n",
       "      <td>0.005912</td>\n",
       "      <td>If this movie had been directed by a man, he w...</td>\n",
       "      <td>['\\n', 'xbos', 'xfld', '1', '87324', 'xfld', '...</td>\n",
       "      <td>[42, 43, 14, 18, 0, 14, 18, 68, 14, 39, 62, 13...</td>\n",
       "    </tr>\n",
       "    <tr>\n",
       "      <th>25024</th>\n",
       "      <td>24</td>\n",
       "      <td>test</td>\n",
       "      <td>84526</td>\n",
       "      <td>0.002335</td>\n",
       "      <td>I like Kevin Bacon and Cathy Moriarty, and I l...</td>\n",
       "      <td>['\\n', 'xbos', 'xfld', '1', '84526', 'xfld', '...</td>\n",
       "      <td>[42, 43, 14, 18, 0, 14, 18, 68, 14, 39, 12, 53...</td>\n",
       "    </tr>\n",
       "    <tr>\n",
       "      <th>25025</th>\n",
       "      <td>25</td>\n",
       "      <td>test</td>\n",
       "      <td>93868</td>\n",
       "      <td>0.985835</td>\n",
       "      <td>Passion In The Desert exemplifies spatial gran...</td>\n",
       "      <td>['\\n', 'xbos', 'xfld', '1', '93868', 'xfld', '...</td>\n",
       "      <td>[42, 43, 14, 18, 0, 14, 18, 68, 14, 39, 1649, ...</td>\n",
       "    </tr>\n",
       "    <tr>\n",
       "      <th>25026</th>\n",
       "      <td>26</td>\n",
       "      <td>test</td>\n",
       "      <td>88605</td>\n",
       "      <td>0.991546</td>\n",
       "      <td>I would recommend this film to anyone who is s...</td>\n",
       "      <td>['\\n', 'xbos', 'xfld', '1', '88605', 'xfld', '...</td>\n",
       "      <td>[42, 43, 14, 18, 0, 14, 18, 68, 14, 39, 12, 73...</td>\n",
       "    </tr>\n",
       "    <tr>\n",
       "      <th>25027</th>\n",
       "      <td>27</td>\n",
       "      <td>test</td>\n",
       "      <td>84436</td>\n",
       "      <td>0.001227</td>\n",
       "      <td>No budget direct to video tale of aliens in Ar...</td>\n",
       "      <td>['\\n', 'xbos', 'xfld', '1', '84436', 'xfld', '...</td>\n",
       "      <td>[42, 43, 14, 18, 0, 14, 18, 68, 14, 39, 75, 35...</td>\n",
       "    </tr>\n",
       "    <tr>\n",
       "      <th>25028</th>\n",
       "      <td>28</td>\n",
       "      <td>test</td>\n",
       "      <td>91698</td>\n",
       "      <td>0.757044</td>\n",
       "      <td>Film about the failure of government and the s...</td>\n",
       "      <td>['\\n', 'xbos', 'xfld', '1', '91698', 'xfld', '...</td>\n",
       "      <td>[42, 43, 14, 18, 0, 14, 18, 68, 14, 39, 27, 60...</td>\n",
       "    </tr>\n",
       "    <tr>\n",
       "      <th>25029</th>\n",
       "      <td>29</td>\n",
       "      <td>test</td>\n",
       "      <td>82413</td>\n",
       "      <td>0.037486</td>\n",
       "      <td>I bought this movie for a couple of dollars at...</td>\n",
       "      <td>['\\n', 'xbos', 'xfld', '1', '82413', 'xfld', '...</td>\n",
       "      <td>[42, 43, 14, 18, 0, 14, 18, 68, 14, 39, 12, 12...</td>\n",
       "    </tr>\n",
       "    <tr>\n",
       "      <th>...</th>\n",
       "      <td>...</td>\n",
       "      <td>...</td>\n",
       "      <td>...</td>\n",
       "      <td>...</td>\n",
       "      <td>...</td>\n",
       "      <td>...</td>\n",
       "      <td>...</td>\n",
       "    </tr>\n",
       "    <tr>\n",
       "      <th>25470</th>\n",
       "      <td>470</td>\n",
       "      <td>test</td>\n",
       "      <td>76042</td>\n",
       "      <td>0.001042</td>\n",
       "      <td>You may not believe this, but when the credits...</td>\n",
       "      <td>['\\n', 'xbos', 'xfld', '1', '76042', 'xfld', '...</td>\n",
       "      <td>[42, 43, 14, 18, 0, 14, 18, 68, 14, 39, 28, 22...</td>\n",
       "    </tr>\n",
       "    <tr>\n",
       "      <th>25471</th>\n",
       "      <td>471</td>\n",
       "      <td>test</td>\n",
       "      <td>75985</td>\n",
       "      <td>0.003930</td>\n",
       "      <td>This movie has to rank with \"Welcome to the Ju...</td>\n",
       "      <td>['\\n', 'xbos', 'xfld', '1', '75985', 'xfld', '...</td>\n",
       "      <td>[42, 43, 14, 18, 0, 14, 18, 68, 14, 39, 13, 23...</td>\n",
       "    </tr>\n",
       "    <tr>\n",
       "      <th>25472</th>\n",
       "      <td>472</td>\n",
       "      <td>test</td>\n",
       "      <td>79137</td>\n",
       "      <td>0.028353</td>\n",
       "      <td>No, *Hitch* is decidedly NOT a romantic-comedy...</td>\n",
       "      <td>['\\n', 'xbos', 'xfld', '1', '79137', 'xfld', '...</td>\n",
       "      <td>[42, 43, 14, 18, 0, 14, 18, 68, 14, 39, 75, 4,...</td>\n",
       "    </tr>\n",
       "    <tr>\n",
       "      <th>25473</th>\n",
       "      <td>473</td>\n",
       "      <td>test</td>\n",
       "      <td>88508</td>\n",
       "      <td>0.980741</td>\n",
       "      <td>The first, and far better, of Kevin Kline's tw...</td>\n",
       "      <td>['\\n', 'xbos', 'xfld', '1', '88508', 'xfld', '...</td>\n",
       "      <td>[42, 43, 14, 18, 0, 14, 18, 68, 14, 39, 2, 109...</td>\n",
       "    </tr>\n",
       "    <tr>\n",
       "      <th>25474</th>\n",
       "      <td>474</td>\n",
       "      <td>test</td>\n",
       "      <td>85297</td>\n",
       "      <td>0.085712</td>\n",
       "      <td>Thomas Hardy is one of my favorite authors. So...</td>\n",
       "      <td>['\\n', 'xbos', 'xfld', '1', '85297', 'xfld', '...</td>\n",
       "      <td>[42, 43, 14, 18, 0, 14, 18, 68, 14, 39, 1661, ...</td>\n",
       "    </tr>\n",
       "    <tr>\n",
       "      <th>25475</th>\n",
       "      <td>475</td>\n",
       "      <td>test</td>\n",
       "      <td>75767</td>\n",
       "      <td>0.011432</td>\n",
       "      <td>never before have i seen such a tale of such t...</td>\n",
       "      <td>['\\n', 'xbos', 'xfld', '1', '75767', 'xfld', '...</td>\n",
       "      <td>[42, 43, 14, 18, 0, 14, 18, 68, 14, 39, 133, 1...</td>\n",
       "    </tr>\n",
       "    <tr>\n",
       "      <th>25476</th>\n",
       "      <td>476</td>\n",
       "      <td>test</td>\n",
       "      <td>96277</td>\n",
       "      <td>0.986423</td>\n",
       "      <td>I really enjoyed this Minghella epic, thought ...</td>\n",
       "      <td>['\\n', 'xbos', 'xfld', '1', '96277', 'xfld', '...</td>\n",
       "      <td>[42, 43, 14, 18, 0, 14, 18, 68, 14, 39, 12, 82...</td>\n",
       "    </tr>\n",
       "    <tr>\n",
       "      <th>25477</th>\n",
       "      <td>477</td>\n",
       "      <td>test</td>\n",
       "      <td>91122</td>\n",
       "      <td>0.957721</td>\n",
       "      <td>I had long wanted to watch this romantic drama...</td>\n",
       "      <td>['\\n', 'xbos', 'xfld', '1', '91122', 'xfld', '...</td>\n",
       "      <td>[42, 43, 14, 18, 0, 14, 18, 68, 14, 39, 12, 86...</td>\n",
       "    </tr>\n",
       "    <tr>\n",
       "      <th>25478</th>\n",
       "      <td>478</td>\n",
       "      <td>test</td>\n",
       "      <td>91143</td>\n",
       "      <td>0.666835</td>\n",
       "      <td>What to say about a movie like Rock Star? A lo...</td>\n",
       "      <td>['\\n', 'xbos', 'xfld', '1', '91143', 'xfld', '...</td>\n",
       "      <td>[42, 43, 14, 18, 0, 14, 18, 68, 14, 39, 64, 8,...</td>\n",
       "    </tr>\n",
       "    <tr>\n",
       "      <th>25479</th>\n",
       "      <td>479</td>\n",
       "      <td>test</td>\n",
       "      <td>76134</td>\n",
       "      <td>0.009788</td>\n",
       "      <td>After seeing the TV commercials for this film ...</td>\n",
       "      <td>['\\n', 'xbos', 'xfld', '1', '76134', 'xfld', '...</td>\n",
       "      <td>[42, 43, 14, 18, 0, 14, 18, 68, 14, 39, 121, 3...</td>\n",
       "    </tr>\n",
       "    <tr>\n",
       "      <th>25480</th>\n",
       "      <td>480</td>\n",
       "      <td>test</td>\n",
       "      <td>98870</td>\n",
       "      <td>0.999570</td>\n",
       "      <td>Peter Lorre turns in one of his finest perform...</td>\n",
       "      <td>['\\n', 'xbos', 'xfld', '1', '98870', 'xfld', '...</td>\n",
       "      <td>[42, 43, 14, 18, 0, 14, 18, 68, 14, 39, 813, 7...</td>\n",
       "    </tr>\n",
       "    <tr>\n",
       "      <th>25481</th>\n",
       "      <td>481</td>\n",
       "      <td>test</td>\n",
       "      <td>85397</td>\n",
       "      <td>0.003792</td>\n",
       "      <td>No spoiler needed to steer you clear of this.....</td>\n",
       "      <td>['\\n', 'xbos', 'xfld', '1', '85397', 'xfld', '...</td>\n",
       "      <td>[42, 43, 14, 18, 0, 14, 18, 68, 14, 39, 75, 13...</td>\n",
       "    </tr>\n",
       "    <tr>\n",
       "      <th>25482</th>\n",
       "      <td>482</td>\n",
       "      <td>test</td>\n",
       "      <td>92781</td>\n",
       "      <td>0.982929</td>\n",
       "      <td>Sacha Baron Cohen is a genius. And this movie ...</td>\n",
       "      <td>['\\n', 'xbos', 'xfld', '1', '92781', 'xfld', '...</td>\n",
       "      <td>[42, 43, 14, 18, 0, 14, 18, 68, 14, 39, 22145,...</td>\n",
       "    </tr>\n",
       "    <tr>\n",
       "      <th>25483</th>\n",
       "      <td>483</td>\n",
       "      <td>test</td>\n",
       "      <td>83306</td>\n",
       "      <td>0.075484</td>\n",
       "      <td>This is a new approach to comedy. It isn't fun...</td>\n",
       "      <td>['\\n', 'xbos', 'xfld', '1', '83306', 'xfld', '...</td>\n",
       "      <td>[42, 43, 14, 18, 0, 14, 18, 68, 14, 39, 13, 9,...</td>\n",
       "    </tr>\n",
       "    <tr>\n",
       "      <th>25484</th>\n",
       "      <td>484</td>\n",
       "      <td>test</td>\n",
       "      <td>80803</td>\n",
       "      <td>0.115318</td>\n",
       "      <td>...in a TV-movie 70's kind of way. It's one of...</td>\n",
       "      <td>['\\n', 'xbos', 'xfld', '1', '80803', 'xfld', '...</td>\n",
       "      <td>[42, 43, 14, 18, 0, 14, 18, 68, 14, 39, 93, 11...</td>\n",
       "    </tr>\n",
       "    <tr>\n",
       "      <th>25485</th>\n",
       "      <td>485</td>\n",
       "      <td>test</td>\n",
       "      <td>91386</td>\n",
       "      <td>0.673554</td>\n",
       "      <td>Before you watch this movie - clean your ears,...</td>\n",
       "      <td>['\\n', 'xbos', 'xfld', '1', '91386', 'xfld', '...</td>\n",
       "      <td>[42, 43, 14, 18, 0, 14, 18, 68, 14, 39, 180, 2...</td>\n",
       "    </tr>\n",
       "    <tr>\n",
       "      <th>25486</th>\n",
       "      <td>486</td>\n",
       "      <td>test</td>\n",
       "      <td>99850</td>\n",
       "      <td>0.999509</td>\n",
       "      <td>I personally LOVE this film amidst the Hallowe...</td>\n",
       "      <td>['\\n', 'xbos', 'xfld', '1', '99850', 'xfld', '...</td>\n",
       "      <td>[42, 43, 14, 18, 0, 14, 18, 68, 14, 39, 12, 12...</td>\n",
       "    </tr>\n",
       "    <tr>\n",
       "      <th>25487</th>\n",
       "      <td>487</td>\n",
       "      <td>test</td>\n",
       "      <td>89095</td>\n",
       "      <td>0.967033</td>\n",
       "      <td>This is a wonderful new movie currently still ...</td>\n",
       "      <td>['\\n', 'xbos', 'xfld', '1', '89095', 'xfld', '...</td>\n",
       "      <td>[42, 43, 14, 18, 0, 14, 18, 68, 14, 39, 13, 9,...</td>\n",
       "    </tr>\n",
       "    <tr>\n",
       "      <th>25488</th>\n",
       "      <td>488</td>\n",
       "      <td>test</td>\n",
       "      <td>80272</td>\n",
       "      <td>0.187558</td>\n",
       "      <td>Through its 2-hour running length, Crash chart...</td>\n",
       "      <td>['\\n', 'xbos', 'xfld', '1', '80272', 'xfld', '...</td>\n",
       "      <td>[42, 43, 14, 18, 0, 14, 18, 68, 14, 39, 164, 1...</td>\n",
       "    </tr>\n",
       "    <tr>\n",
       "      <th>25489</th>\n",
       "      <td>489</td>\n",
       "      <td>test</td>\n",
       "      <td>84021</td>\n",
       "      <td>0.005871</td>\n",
       "      <td>There really is very little positive that can ...</td>\n",
       "      <td>['\\n', 'xbos', 'xfld', '1', '84021', 'xfld', '...</td>\n",
       "      <td>[42, 43, 14, 18, 0, 14, 18, 68, 14, 39, 54, 82...</td>\n",
       "    </tr>\n",
       "    <tr>\n",
       "      <th>25490</th>\n",
       "      <td>490</td>\n",
       "      <td>test</td>\n",
       "      <td>96836</td>\n",
       "      <td>0.977947</td>\n",
       "      <td>It's always a pleasure to see characters in a ...</td>\n",
       "      <td>['\\n', 'xbos', 'xfld', '1', '96836', 'xfld', '...</td>\n",
       "      <td>[42, 43, 14, 18, 0, 14, 18, 68, 14, 39, 10, 17...</td>\n",
       "    </tr>\n",
       "    <tr>\n",
       "      <th>25491</th>\n",
       "      <td>491</td>\n",
       "      <td>test</td>\n",
       "      <td>91120</td>\n",
       "      <td>0.999296</td>\n",
       "      <td>This young filmmaker has a talent for capturin...</td>\n",
       "      <td>['\\n', 'xbos', 'xfld', '1', '91120', 'xfld', '...</td>\n",
       "      <td>[42, 43, 14, 18, 0, 14, 18, 68, 14, 39, 13, 21...</td>\n",
       "    </tr>\n",
       "    <tr>\n",
       "      <th>25492</th>\n",
       "      <td>492</td>\n",
       "      <td>test</td>\n",
       "      <td>90712</td>\n",
       "      <td>0.997958</td>\n",
       "      <td>This was truly a tense and dark episode. Excel...</td>\n",
       "      <td>['\\n', 'xbos', 'xfld', '1', '90712', 'xfld', '...</td>\n",
       "      <td>[42, 43, 14, 18, 0, 14, 18, 68, 14, 39, 13, 20...</td>\n",
       "    </tr>\n",
       "    <tr>\n",
       "      <th>25493</th>\n",
       "      <td>493</td>\n",
       "      <td>test</td>\n",
       "      <td>85722</td>\n",
       "      <td>0.030087</td>\n",
       "      <td>I really wanted to like this film, especially ...</td>\n",
       "      <td>['\\n', 'xbos', 'xfld', '1', '85722', 'xfld', '...</td>\n",
       "      <td>[42, 43, 14, 18, 0, 14, 18, 68, 14, 39, 12, 82...</td>\n",
       "    </tr>\n",
       "    <tr>\n",
       "      <th>25494</th>\n",
       "      <td>494</td>\n",
       "      <td>test</td>\n",
       "      <td>98654</td>\n",
       "      <td>0.986472</td>\n",
       "      <td>Hitchcock made at least 11 films about the ord...</td>\n",
       "      <td>['\\n', 'xbos', 'xfld', '1', '98654', 'xfld', '...</td>\n",
       "      <td>[42, 43, 14, 18, 0, 14, 18, 68, 14, 39, 1465, ...</td>\n",
       "    </tr>\n",
       "    <tr>\n",
       "      <th>25495</th>\n",
       "      <td>495</td>\n",
       "      <td>test</td>\n",
       "      <td>86034</td>\n",
       "      <td>0.013636</td>\n",
       "      <td>&lt;br /&gt;&lt;br /&gt;Very dull, laborious adaptation of...</td>\n",
       "      <td>['\\n', 'xbos', 'xfld', '1', '86034', 'xfld', '...</td>\n",
       "      <td>[42, 43, 14, 18, 0, 14, 18, 68, 14, 39, 21, 71...</td>\n",
       "    </tr>\n",
       "    <tr>\n",
       "      <th>25496</th>\n",
       "      <td>496</td>\n",
       "      <td>test</td>\n",
       "      <td>95350</td>\n",
       "      <td>0.996393</td>\n",
       "      <td>real love. true love. mad love. beautiful love...</td>\n",
       "      <td>['\\n', 'xbos', 'xfld', '1', '95350', 'xfld', '...</td>\n",
       "      <td>[42, 43, 14, 18, 0, 14, 18, 68, 14, 39, 166, 1...</td>\n",
       "    </tr>\n",
       "    <tr>\n",
       "      <th>25497</th>\n",
       "      <td>497</td>\n",
       "      <td>test</td>\n",
       "      <td>88584</td>\n",
       "      <td>0.971911</td>\n",
       "      <td>Its a feel-good movie that made me feel good. ...</td>\n",
       "      <td>['\\n', 'xbos', 'xfld', '1', '88584', 'xfld', '...</td>\n",
       "      <td>[42, 43, 14, 18, 0, 14, 18, 68, 14, 39, 113, 6...</td>\n",
       "    </tr>\n",
       "    <tr>\n",
       "      <th>25498</th>\n",
       "      <td>498</td>\n",
       "      <td>test</td>\n",
       "      <td>82217</td>\n",
       "      <td>0.011830</td>\n",
       "      <td>Christopher Lambert attracted me to this movie...</td>\n",
       "      <td>['\\n', 'xbos', 'xfld', '1', '82217', 'xfld', '...</td>\n",
       "      <td>[42, 43, 14, 18, 0, 14, 18, 68, 14, 39, 1472, ...</td>\n",
       "    </tr>\n",
       "    <tr>\n",
       "      <th>25499</th>\n",
       "      <td>499</td>\n",
       "      <td>test</td>\n",
       "      <td>92141</td>\n",
       "      <td>0.509379</td>\n",
       "      <td>La Petit Tourette is a pretty funny South Park...</td>\n",
       "      <td>['\\n', 'xbos', 'xfld', '1', '92141', 'xfld', '...</td>\n",
       "      <td>[42, 43, 14, 18, 0, 14, 18, 68, 14, 39, 1110, ...</td>\n",
       "    </tr>\n",
       "  </tbody>\n",
       "</table>\n",
       "<p>500 rows × 7 columns</p>\n",
       "</div>"
      ],
      "text/plain": [
       "       Unnamed: 0 dataset     id    labels  \\\n",
       "25000           0    test  98481  0.861524   \n",
       "25001           1    test  88606  0.856081   \n",
       "25002           2    test  88639  0.908245   \n",
       "25003           3    test  76170  0.066361   \n",
       "25004           4    test  81803  0.007510   \n",
       "25005           5    test  93371  0.999545   \n",
       "25006           6    test  87360  0.002328   \n",
       "25007           7    test  88547  0.732679   \n",
       "25008           8    test  88215  0.936093   \n",
       "25009           9    test  96187  0.974977   \n",
       "25010          10    test  81251  0.038988   \n",
       "25011          11    test  98086  0.999673   \n",
       "25012          12    test  79688  0.016312   \n",
       "25013          13    test  90580  0.938153   \n",
       "25014          14    test  86756  0.002146   \n",
       "25015          15    test  77906  0.010963   \n",
       "25016          16    test  95742  0.984693   \n",
       "25017          17    test  77455  0.001599   \n",
       "25018          18    test  76454  0.002289   \n",
       "25019          19    test  92650  0.999220   \n",
       "25020          20    test  98042  0.998681   \n",
       "25021          21    test  81107  0.005361   \n",
       "25022          22    test  83839  0.747667   \n",
       "25023          23    test  87324  0.005912   \n",
       "25024          24    test  84526  0.002335   \n",
       "25025          25    test  93868  0.985835   \n",
       "25026          26    test  88605  0.991546   \n",
       "25027          27    test  84436  0.001227   \n",
       "25028          28    test  91698  0.757044   \n",
       "25029          29    test  82413  0.037486   \n",
       "...           ...     ...    ...       ...   \n",
       "25470         470    test  76042  0.001042   \n",
       "25471         471    test  75985  0.003930   \n",
       "25472         472    test  79137  0.028353   \n",
       "25473         473    test  88508  0.980741   \n",
       "25474         474    test  85297  0.085712   \n",
       "25475         475    test  75767  0.011432   \n",
       "25476         476    test  96277  0.986423   \n",
       "25477         477    test  91122  0.957721   \n",
       "25478         478    test  91143  0.666835   \n",
       "25479         479    test  76134  0.009788   \n",
       "25480         480    test  98870  0.999570   \n",
       "25481         481    test  85397  0.003792   \n",
       "25482         482    test  92781  0.982929   \n",
       "25483         483    test  83306  0.075484   \n",
       "25484         484    test  80803  0.115318   \n",
       "25485         485    test  91386  0.673554   \n",
       "25486         486    test  99850  0.999509   \n",
       "25487         487    test  89095  0.967033   \n",
       "25488         488    test  80272  0.187558   \n",
       "25489         489    test  84021  0.005871   \n",
       "25490         490    test  96836  0.977947   \n",
       "25491         491    test  91120  0.999296   \n",
       "25492         492    test  90712  0.997958   \n",
       "25493         493    test  85722  0.030087   \n",
       "25494         494    test  98654  0.986472   \n",
       "25495         495    test  86034  0.013636   \n",
       "25496         496    test  95350  0.996393   \n",
       "25497         497    test  88584  0.971911   \n",
       "25498         498    test  82217  0.011830   \n",
       "25499         499    test  92141  0.509379   \n",
       "\n",
       "                                                    text  \\\n",
       "25000  Bud Abbott and Lou Costello always had a good ...   \n",
       "25001  This film is not your typical Hollywood fare, ...   \n",
       "25002  Henry Thomas, and Robin Tunny, are a couple of...   \n",
       "25003  This digital horror film brings us into the Mi...   \n",
       "25004  I just saw this on a local independent station...   \n",
       "25005  Those wishing to see film noir remakes, should...   \n",
       "25006  I never read the book. Now I don't really want...   \n",
       "25007  I think that there was too much action in the ...   \n",
       "25008  Have wanted to see this for a while: I never t...   \n",
       "25009  This is an interesting, hard to find movie fro...   \n",
       "25010  Well, the Hero and the Terror is slightly belo...   \n",
       "25011  I have been an avid chipmunk fan since the lat...   \n",
       "25012  42/100. Often referred as \"Tarzan with clothes...   \n",
       "25013  I caught this movie late one night and never k...   \n",
       "25014  Tyrone Power was cast in the lead as Solomon. ...   \n",
       "25015  This is one of those religious horror films wh...   \n",
       "25016  Being advertised as the most expensive movie e...   \n",
       "25017  The Jaws rip off is the trashiest of the all t...   \n",
       "25018  After seeing this film I felt sick to my stoma...   \n",
       "25019  I first saw this mini-series as a child and th...   \n",
       "25020  The beautiful, charming, supremely versatile a...   \n",
       "25021  Everyone I know loves this movie, but I am afr...   \n",
       "25022  CORRIDORS OF BLOOD <br /><br />Aspect ratio: 1...   \n",
       "25023  If this movie had been directed by a man, he w...   \n",
       "25024  I like Kevin Bacon and Cathy Moriarty, and I l...   \n",
       "25025  Passion In The Desert exemplifies spatial gran...   \n",
       "25026  I would recommend this film to anyone who is s...   \n",
       "25027  No budget direct to video tale of aliens in Ar...   \n",
       "25028  Film about the failure of government and the s...   \n",
       "25029  I bought this movie for a couple of dollars at...   \n",
       "...                                                  ...   \n",
       "25470  You may not believe this, but when the credits...   \n",
       "25471  This movie has to rank with \"Welcome to the Ju...   \n",
       "25472  No, *Hitch* is decidedly NOT a romantic-comedy...   \n",
       "25473  The first, and far better, of Kevin Kline's tw...   \n",
       "25474  Thomas Hardy is one of my favorite authors. So...   \n",
       "25475  never before have i seen such a tale of such t...   \n",
       "25476  I really enjoyed this Minghella epic, thought ...   \n",
       "25477  I had long wanted to watch this romantic drama...   \n",
       "25478  What to say about a movie like Rock Star? A lo...   \n",
       "25479  After seeing the TV commercials for this film ...   \n",
       "25480  Peter Lorre turns in one of his finest perform...   \n",
       "25481  No spoiler needed to steer you clear of this.....   \n",
       "25482  Sacha Baron Cohen is a genius. And this movie ...   \n",
       "25483  This is a new approach to comedy. It isn't fun...   \n",
       "25484  ...in a TV-movie 70's kind of way. It's one of...   \n",
       "25485  Before you watch this movie - clean your ears,...   \n",
       "25486  I personally LOVE this film amidst the Hallowe...   \n",
       "25487  This is a wonderful new movie currently still ...   \n",
       "25488  Through its 2-hour running length, Crash chart...   \n",
       "25489  There really is very little positive that can ...   \n",
       "25490  It's always a pleasure to see characters in a ...   \n",
       "25491  This young filmmaker has a talent for capturin...   \n",
       "25492  This was truly a tense and dark episode. Excel...   \n",
       "25493  I really wanted to like this film, especially ...   \n",
       "25494  Hitchcock made at least 11 films about the ord...   \n",
       "25495  <br /><br />Very dull, laborious adaptation of...   \n",
       "25496  real love. true love. mad love. beautiful love...   \n",
       "25497  Its a feel-good movie that made me feel good. ...   \n",
       "25498  Christopher Lambert attracted me to this movie...   \n",
       "25499  La Petit Tourette is a pretty funny South Park...   \n",
       "\n",
       "                                          tokenized_text  \\\n",
       "25000  ['\\n', 'xbos', 'xfld', '1', '98481', 'xfld', '...   \n",
       "25001  ['\\n', 'xbos', 'xfld', '1', '88606', 'xfld', '...   \n",
       "25002  ['\\n', 'xbos', 'xfld', '1', '88639', 'xfld', '...   \n",
       "25003  ['\\n', 'xbos', 'xfld', '1', '76170', 'xfld', '...   \n",
       "25004  ['\\n', 'xbos', 'xfld', '1', '81803', 'xfld', '...   \n",
       "25005  ['\\n', 'xbos', 'xfld', '1', '93371', 'xfld', '...   \n",
       "25006  ['\\n', 'xbos', 'xfld', '1', '87360', 'xfld', '...   \n",
       "25007  ['\\n', 'xbos', 'xfld', '1', '88547', 'xfld', '...   \n",
       "25008  ['\\n', 'xbos', 'xfld', '1', '88215', 'xfld', '...   \n",
       "25009  ['\\n', 'xbos', 'xfld', '1', '96187', 'xfld', '...   \n",
       "25010  ['\\n', 'xbos', 'xfld', '1', '81251', 'xfld', '...   \n",
       "25011  ['\\n', 'xbos', 'xfld', '1', '98086', 'xfld', '...   \n",
       "25012  ['\\n', 'xbos', 'xfld', '1', '79688', 'xfld', '...   \n",
       "25013  ['\\n', 'xbos', 'xfld', '1', '90580', 'xfld', '...   \n",
       "25014  ['\\n', 'xbos', 'xfld', '1', '86756', 'xfld', '...   \n",
       "25015  ['\\n', 'xbos', 'xfld', '1', '77906', 'xfld', '...   \n",
       "25016  ['\\n', 'xbos', 'xfld', '1', '95742', 'xfld', '...   \n",
       "25017  ['\\n', 'xbos', 'xfld', '1', '77455', 'xfld', '...   \n",
       "25018  ['\\n', 'xbos', 'xfld', '1', '76454', 'xfld', '...   \n",
       "25019  ['\\n', 'xbos', 'xfld', '1', '92650', 'xfld', '...   \n",
       "25020  ['\\n', 'xbos', 'xfld', '1', '98042', 'xfld', '...   \n",
       "25021  ['\\n', 'xbos', 'xfld', '1', '81107', 'xfld', '...   \n",
       "25022  ['\\n', 'xbos', 'xfld', '1', '83839', 'xfld', '...   \n",
       "25023  ['\\n', 'xbos', 'xfld', '1', '87324', 'xfld', '...   \n",
       "25024  ['\\n', 'xbos', 'xfld', '1', '84526', 'xfld', '...   \n",
       "25025  ['\\n', 'xbos', 'xfld', '1', '93868', 'xfld', '...   \n",
       "25026  ['\\n', 'xbos', 'xfld', '1', '88605', 'xfld', '...   \n",
       "25027  ['\\n', 'xbos', 'xfld', '1', '84436', 'xfld', '...   \n",
       "25028  ['\\n', 'xbos', 'xfld', '1', '91698', 'xfld', '...   \n",
       "25029  ['\\n', 'xbos', 'xfld', '1', '82413', 'xfld', '...   \n",
       "...                                                  ...   \n",
       "25470  ['\\n', 'xbos', 'xfld', '1', '76042', 'xfld', '...   \n",
       "25471  ['\\n', 'xbos', 'xfld', '1', '75985', 'xfld', '...   \n",
       "25472  ['\\n', 'xbos', 'xfld', '1', '79137', 'xfld', '...   \n",
       "25473  ['\\n', 'xbos', 'xfld', '1', '88508', 'xfld', '...   \n",
       "25474  ['\\n', 'xbos', 'xfld', '1', '85297', 'xfld', '...   \n",
       "25475  ['\\n', 'xbos', 'xfld', '1', '75767', 'xfld', '...   \n",
       "25476  ['\\n', 'xbos', 'xfld', '1', '96277', 'xfld', '...   \n",
       "25477  ['\\n', 'xbos', 'xfld', '1', '91122', 'xfld', '...   \n",
       "25478  ['\\n', 'xbos', 'xfld', '1', '91143', 'xfld', '...   \n",
       "25479  ['\\n', 'xbos', 'xfld', '1', '76134', 'xfld', '...   \n",
       "25480  ['\\n', 'xbos', 'xfld', '1', '98870', 'xfld', '...   \n",
       "25481  ['\\n', 'xbos', 'xfld', '1', '85397', 'xfld', '...   \n",
       "25482  ['\\n', 'xbos', 'xfld', '1', '92781', 'xfld', '...   \n",
       "25483  ['\\n', 'xbos', 'xfld', '1', '83306', 'xfld', '...   \n",
       "25484  ['\\n', 'xbos', 'xfld', '1', '80803', 'xfld', '...   \n",
       "25485  ['\\n', 'xbos', 'xfld', '1', '91386', 'xfld', '...   \n",
       "25486  ['\\n', 'xbos', 'xfld', '1', '99850', 'xfld', '...   \n",
       "25487  ['\\n', 'xbos', 'xfld', '1', '89095', 'xfld', '...   \n",
       "25488  ['\\n', 'xbos', 'xfld', '1', '80272', 'xfld', '...   \n",
       "25489  ['\\n', 'xbos', 'xfld', '1', '84021', 'xfld', '...   \n",
       "25490  ['\\n', 'xbos', 'xfld', '1', '96836', 'xfld', '...   \n",
       "25491  ['\\n', 'xbos', 'xfld', '1', '91120', 'xfld', '...   \n",
       "25492  ['\\n', 'xbos', 'xfld', '1', '90712', 'xfld', '...   \n",
       "25493  ['\\n', 'xbos', 'xfld', '1', '85722', 'xfld', '...   \n",
       "25494  ['\\n', 'xbos', 'xfld', '1', '98654', 'xfld', '...   \n",
       "25495  ['\\n', 'xbos', 'xfld', '1', '86034', 'xfld', '...   \n",
       "25496  ['\\n', 'xbos', 'xfld', '1', '95350', 'xfld', '...   \n",
       "25497  ['\\n', 'xbos', 'xfld', '1', '88584', 'xfld', '...   \n",
       "25498  ['\\n', 'xbos', 'xfld', '1', '82217', 'xfld', '...   \n",
       "25499  ['\\n', 'xbos', 'xfld', '1', '92141', 'xfld', '...   \n",
       "\n",
       "                                        numerized_tokens  \n",
       "25000  [42, 43, 14, 18, 0, 14, 18, 68, 14, 39, 5284, ...  \n",
       "25001  [42, 43, 14, 18, 0, 14, 18, 68, 14, 39, 13, 27...  \n",
       "25002  [42, 43, 14, 18, 0, 14, 18, 68, 14, 39, 1636, ...  \n",
       "25003  [42, 43, 14, 18, 0, 14, 18, 68, 14, 39, 13, 36...  \n",
       "25004  [42, 43, 14, 18, 0, 14, 18, 68, 14, 39, 12, 56...  \n",
       "25005  [42, 43, 14, 18, 0, 14, 18, 68, 14, 39, 167, 4...  \n",
       "25006  [42, 43, 14, 18, 0, 14, 18, 68, 14, 39, 12, 13...  \n",
       "25007  [42, 43, 14, 18, 0, 14, 18, 68, 14, 39, 12, 12...  \n",
       "25008  [42, 43, 14, 18, 0, 14, 18, 68, 14, 39, 38, 48...  \n",
       "25009  [42, 43, 14, 18, 0, 14, 18, 68, 14, 39, 13, 9,...  \n",
       "25010  [42, 43, 14, 18, 0, 14, 18, 68, 14, 39, 91, 4,...  \n",
       "25011  [42, 43, 14, 18, 0, 14, 18, 68, 14, 39, 12, 38...  \n",
       "25012  [42, 43, 14, 18, 0, 14, 18, 68, 14, 39, 12066,...  \n",
       "25013  [42, 43, 14, 18, 0, 14, 18, 68, 14, 39, 12, 10...  \n",
       "25014  [42, 43, 14, 18, 0, 14, 18, 68, 14, 39, 12081,...  \n",
       "25015  [42, 43, 14, 18, 0, 14, 18, 68, 14, 39, 13, 9,...  \n",
       "25016  [42, 43, 14, 18, 0, 14, 18, 68, 14, 39, 131, 6...  \n",
       "25017  [42, 43, 14, 18, 0, 14, 18, 68, 14, 39, 2, 454...  \n",
       "25018  [42, 43, 14, 18, 0, 14, 18, 68, 14, 39, 121, 3...  \n",
       "25019  [42, 43, 14, 18, 0, 14, 18, 68, 14, 39, 12, 10...  \n",
       "25020  [42, 43, 14, 18, 0, 14, 18, 68, 14, 39, 2, 333...  \n",
       "25021  [42, 43, 14, 18, 0, 14, 18, 68, 14, 39, 316, 1...  \n",
       "25022  [42, 43, 14, 18, 0, 14, 18, 68, 14, 39, 33, 92...  \n",
       "25023  [42, 43, 14, 18, 0, 14, 18, 68, 14, 39, 62, 13...  \n",
       "25024  [42, 43, 14, 18, 0, 14, 18, 68, 14, 39, 12, 53...  \n",
       "25025  [42, 43, 14, 18, 0, 14, 18, 68, 14, 39, 1649, ...  \n",
       "25026  [42, 43, 14, 18, 0, 14, 18, 68, 14, 39, 12, 73...  \n",
       "25027  [42, 43, 14, 18, 0, 14, 18, 68, 14, 39, 75, 35...  \n",
       "25028  [42, 43, 14, 18, 0, 14, 18, 68, 14, 39, 27, 60...  \n",
       "25029  [42, 43, 14, 18, 0, 14, 18, 68, 14, 39, 12, 12...  \n",
       "...                                                  ...  \n",
       "25470  [42, 43, 14, 18, 0, 14, 18, 68, 14, 39, 28, 22...  \n",
       "25471  [42, 43, 14, 18, 0, 14, 18, 68, 14, 39, 13, 23...  \n",
       "25472  [42, 43, 14, 18, 0, 14, 18, 68, 14, 39, 75, 4,...  \n",
       "25473  [42, 43, 14, 18, 0, 14, 18, 68, 14, 39, 2, 109...  \n",
       "25474  [42, 43, 14, 18, 0, 14, 18, 68, 14, 39, 1661, ...  \n",
       "25475  [42, 43, 14, 18, 0, 14, 18, 68, 14, 39, 133, 1...  \n",
       "25476  [42, 43, 14, 18, 0, 14, 18, 68, 14, 39, 12, 82...  \n",
       "25477  [42, 43, 14, 18, 0, 14, 18, 68, 14, 39, 12, 86...  \n",
       "25478  [42, 43, 14, 18, 0, 14, 18, 68, 14, 39, 64, 8,...  \n",
       "25479  [42, 43, 14, 18, 0, 14, 18, 68, 14, 39, 121, 3...  \n",
       "25480  [42, 43, 14, 18, 0, 14, 18, 68, 14, 39, 813, 7...  \n",
       "25481  [42, 43, 14, 18, 0, 14, 18, 68, 14, 39, 75, 13...  \n",
       "25482  [42, 43, 14, 18, 0, 14, 18, 68, 14, 39, 22145,...  \n",
       "25483  [42, 43, 14, 18, 0, 14, 18, 68, 14, 39, 13, 9,...  \n",
       "25484  [42, 43, 14, 18, 0, 14, 18, 68, 14, 39, 93, 11...  \n",
       "25485  [42, 43, 14, 18, 0, 14, 18, 68, 14, 39, 180, 2...  \n",
       "25486  [42, 43, 14, 18, 0, 14, 18, 68, 14, 39, 12, 12...  \n",
       "25487  [42, 43, 14, 18, 0, 14, 18, 68, 14, 39, 13, 9,...  \n",
       "25488  [42, 43, 14, 18, 0, 14, 18, 68, 14, 39, 164, 1...  \n",
       "25489  [42, 43, 14, 18, 0, 14, 18, 68, 14, 39, 54, 82...  \n",
       "25490  [42, 43, 14, 18, 0, 14, 18, 68, 14, 39, 10, 17...  \n",
       "25491  [42, 43, 14, 18, 0, 14, 18, 68, 14, 39, 13, 21...  \n",
       "25492  [42, 43, 14, 18, 0, 14, 18, 68, 14, 39, 13, 20...  \n",
       "25493  [42, 43, 14, 18, 0, 14, 18, 68, 14, 39, 12, 82...  \n",
       "25494  [42, 43, 14, 18, 0, 14, 18, 68, 14, 39, 1465, ...  \n",
       "25495  [42, 43, 14, 18, 0, 14, 18, 68, 14, 39, 21, 71...  \n",
       "25496  [42, 43, 14, 18, 0, 14, 18, 68, 14, 39, 166, 1...  \n",
       "25497  [42, 43, 14, 18, 0, 14, 18, 68, 14, 39, 113, 6...  \n",
       "25498  [42, 43, 14, 18, 0, 14, 18, 68, 14, 39, 1472, ...  \n",
       "25499  [42, 43, 14, 18, 0, 14, 18, 68, 14, 39, 1110, ...  \n",
       "\n",
       "[500 rows x 7 columns]"
      ]
     },
     "execution_count": 41,
     "metadata": {},
     "output_type": "execute_result"
    }
   ],
   "source": [
    "test_df[\"labels\"] = np.array(probs)[:,1]\n",
    "test_df.head(500)"
   ]
  },
  {
   "cell_type": "code",
   "execution_count": 45,
   "metadata": {},
   "outputs": [
    {
     "data": {
      "text/plain": [
       "0.46773288"
      ]
     },
     "execution_count": 45,
     "metadata": {},
     "output_type": "execute_result"
    }
   ],
   "source": [
    "test_df.labels.mean()"
   ]
  },
  {
   "cell_type": "code",
   "execution_count": 46,
   "metadata": {},
   "outputs": [],
   "source": [
    "test_df[[\"id\", \"labels\"]].to_csv(\"submission_8.25.csv\", index=False)"
   ]
  },
  {
   "cell_type": "code",
   "execution_count": 27,
   "metadata": {},
   "outputs": [],
   "source": [
    "def softmax(x):\n",
    "    '''\n",
    "    Numpy Softmax, via comments on https://gist.github.com/stober/1946926\n",
    "    >>> res = softmax(np.array([0, 200, 10]))\n",
    "    >>> np.sum(res)\n",
    "    1.0\n",
    "    >>> np.all(np.abs(res - np.array([0, 1, 0])) < 0.0001)\n",
    "    True\n",
    "    >>> res = softmax(np.array([[0, 200, 10], [0, 10, 200], [200, 0, 10]]))\n",
    "    >>> np.sum(res, axis=1)\n",
    "    array([ 1.,  1.,  1.])\n",
    "    >>> res = softmax(np.array([[0, 200, 10], [0, 10, 200]]))\n",
    "    >>> np.sum(res, axis=1)\n",
    "    array([ 1.,  1.])\n",
    "    '''\n",
    "    if x.ndim == 1:\n",
    "        x = x.reshape((1, -1))\n",
    "    max_x = np.max(x, axis=1).reshape((-1, 1))\n",
    "    exp_x = np.exp(x - max_x)\n",
    "    return exp_x / np.sum(exp_x, axis=1).reshape((-1, 1))"
   ]
  },
  {
   "cell_type": "markdown",
   "metadata": {},
   "source": [
    "# predicting test_dl"
   ]
  },
  {
   "cell_type": "code",
   "execution_count": 28,
   "metadata": {},
   "outputs": [],
   "source": [
    "MAX = len(test_clas)\n",
    "\n",
    "test_ds = TextDataset(test_clas[:MAX], test_labels[:MAX])\n",
    "\n",
    "test_dl = DataLoader(test_ds, bs, transpose=True, num_workers=1, pad_idx=1) # for ease of submission, don't sort out of order"
   ]
  },
  {
   "cell_type": "code",
   "execution_count": 29,
   "metadata": {},
   "outputs": [],
   "source": [
    "# Predicting val_dl to verify that it works\n",
    "learn.data.test_dl = test_dl\n",
    "log_preds_test = learn.predict(is_test=True);"
   ]
  },
  {
   "cell_type": "code",
   "execution_count": 30,
   "metadata": {},
   "outputs": [],
   "source": [
    "# Getting probs from logprobs\n",
    "probs_test = F.softmax(V(torch.Tensor(log_preds_test)));\n",
    "#probs_test = softmax(log_preds_test); # trying this custom softmax. SAME RESULT."
   ]
  },
  {
   "cell_type": "code",
   "execution_count": 31,
   "metadata": {},
   "outputs": [
    {
     "data": {
      "text/plain": [
       "Variable containing:\n",
       " 0.0489  0.9511\n",
       " 0.0043  0.9957\n",
       " 0.0625  0.9375\n",
       "       ⋮        \n",
       " 0.0474  0.9526\n",
       " 0.9982  0.0018\n",
       " 0.9341  0.0659\n",
       "[torch.cuda.FloatTensor of size 25000x2 (GPU 0)]"
      ]
     },
     "execution_count": 31,
     "metadata": {},
     "output_type": "execute_result"
    }
   ],
   "source": [
    "probs_test"
   ]
  },
  {
   "cell_type": "code",
   "execution_count": 32,
   "metadata": {},
   "outputs": [
    {
     "data": {
      "text/plain": [
       "Variable containing:\n",
       " 0.5091\n",
       "[torch.cuda.FloatTensor of size 1 (GPU 0)]"
      ]
     },
     "execution_count": 32,
     "metadata": {},
     "output_type": "execute_result"
    }
   ],
   "source": [
    "#probs_test.detach().data.cpu().numpy()[:, 1].mean()\n",
    "probs_test[:, 1].mean()"
   ]
  },
  {
   "cell_type": "code",
   "execution_count": 33,
   "metadata": {},
   "outputs": [
    {
     "name": "stderr",
     "output_type": "stream",
     "text": [
      "/home/ubuntu/anaconda3/envs/fastai/lib/python3.6/site-packages/ipykernel_launcher.py:1: SettingWithCopyWarning: \n",
      "A value is trying to be set on a copy of a slice from a DataFrame.\n",
      "Try using .loc[row_indexer,col_indexer] = value instead\n",
      "\n",
      "See the caveats in the documentation: http://pandas.pydata.org/pandas-docs/stable/indexing.html#indexing-view-versus-copy\n",
      "  \"\"\"Entry point for launching an IPython kernel.\n"
     ]
    }
   ],
   "source": [
    "test_df[\"labels\"] = probs_test.detach().data.cpu().numpy()[:, 1];"
   ]
  },
  {
   "cell_type": "code",
   "execution_count": 34,
   "metadata": {},
   "outputs": [
    {
     "data": {
      "text/html": [
       "<div>\n",
       "<style scoped>\n",
       "    .dataframe tbody tr th:only-of-type {\n",
       "        vertical-align: middle;\n",
       "    }\n",
       "\n",
       "    .dataframe tbody tr th {\n",
       "        vertical-align: top;\n",
       "    }\n",
       "\n",
       "    .dataframe thead th {\n",
       "        text-align: right;\n",
       "    }\n",
       "</style>\n",
       "<table border=\"1\" class=\"dataframe\">\n",
       "  <thead>\n",
       "    <tr style=\"text-align: right;\">\n",
       "      <th></th>\n",
       "      <th>dataset</th>\n",
       "      <th>id</th>\n",
       "      <th>labels</th>\n",
       "      <th>text</th>\n",
       "      <th>tokenized_text</th>\n",
       "      <th>numerized_tokens</th>\n",
       "    </tr>\n",
       "  </thead>\n",
       "  <tbody>\n",
       "    <tr>\n",
       "      <th>25000</th>\n",
       "      <td>test</td>\n",
       "      <td>98481</td>\n",
       "      <td>0.951113</td>\n",
       "      <td>Bud Abbott and Lou Costello always had a good ...</td>\n",
       "      <td>['\\n', 'xbos', 'xfld', '1', 'bud', 'abbott', '...</td>\n",
       "      <td>[40, 41, 42, 37, 5284, 7045, 5, 3741, 6007, 23...</td>\n",
       "    </tr>\n",
       "    <tr>\n",
       "      <th>25001</th>\n",
       "      <td>test</td>\n",
       "      <td>88606</td>\n",
       "      <td>0.995722</td>\n",
       "      <td>This film is not your typical Hollywood fare, ...</td>\n",
       "      <td>['\\n', 'xbos', 'xfld', '1', 'this', 'film', 'i...</td>\n",
       "      <td>[40, 41, 42, 37, 13, 25, 9, 32, 145, 798, 366,...</td>\n",
       "    </tr>\n",
       "    <tr>\n",
       "      <th>25002</th>\n",
       "      <td>test</td>\n",
       "      <td>88639</td>\n",
       "      <td>0.937529</td>\n",
       "      <td>Henry Thomas, and Robin Tunny, are a couple of...</td>\n",
       "      <td>['\\n', 'xbos', 'xfld', '1', 'henry', 'thomas',...</td>\n",
       "      <td>[40, 41, 42, 37, 1635, 1660, 4, 5, 1886, 34013...</td>\n",
       "    </tr>\n",
       "    <tr>\n",
       "      <th>25003</th>\n",
       "      <td>test</td>\n",
       "      <td>76170</td>\n",
       "      <td>0.555694</td>\n",
       "      <td>This digital horror film brings us into the Mi...</td>\n",
       "      <td>['\\n', 'xbos', 'xfld', '1', 'this', 'digital',...</td>\n",
       "      <td>[40, 41, 42, 37, 13, 3654, 206, 25, 993, 199, ...</td>\n",
       "    </tr>\n",
       "    <tr>\n",
       "      <th>25004</th>\n",
       "      <td>test</td>\n",
       "      <td>81803</td>\n",
       "      <td>0.011527</td>\n",
       "      <td>I just saw this on a local independent station...</td>\n",
       "      <td>['\\n', 'xbos', 'xfld', '1', 'i', 'just', 'saw'...</td>\n",
       "      <td>[40, 41, 42, 37, 12, 55, 232, 13, 28, 6, 714, ...</td>\n",
       "    </tr>\n",
       "    <tr>\n",
       "      <th>25005</th>\n",
       "      <td>test</td>\n",
       "      <td>93371</td>\n",
       "      <td>0.986796</td>\n",
       "      <td>Those wishing to see film noir remakes, should...</td>\n",
       "      <td>['\\n', 'xbos', 'xfld', '1', 'those', 'wishing'...</td>\n",
       "      <td>[40, 41, 42, 37, 164, 4747, 8, 82, 25, 1497, 5...</td>\n",
       "    </tr>\n",
       "    <tr>\n",
       "      <th>25006</th>\n",
       "      <td>test</td>\n",
       "      <td>87360</td>\n",
       "      <td>0.006029</td>\n",
       "      <td>I never read the book. Now I don't really want...</td>\n",
       "      <td>['\\n', 'xbos', 'xfld', '1', 'i', 'never', 'rea...</td>\n",
       "      <td>[40, 41, 42, 37, 12, 131, 359, 2, 292, 3, 166,...</td>\n",
       "    </tr>\n",
       "    <tr>\n",
       "      <th>25007</th>\n",
       "      <td>test</td>\n",
       "      <td>88547</td>\n",
       "      <td>0.867354</td>\n",
       "      <td>I think that there was too much action in the ...</td>\n",
       "      <td>['\\n', 'xbos', 'xfld', '1', 'i', 'think', 'tha...</td>\n",
       "      <td>[40, 41, 42, 37, 12, 121, 14, 53, 18, 116, 93,...</td>\n",
       "    </tr>\n",
       "    <tr>\n",
       "      <th>25008</th>\n",
       "      <td>test</td>\n",
       "      <td>88215</td>\n",
       "      <td>0.998647</td>\n",
       "      <td>Have wanted to see this for a while: I never t...</td>\n",
       "      <td>['\\n', 'xbos', 'xfld', '1', 'have', 'wanted', ...</td>\n",
       "      <td>[40, 41, 42, 37, 36, 479, 8, 82, 13, 22, 6, 15...</td>\n",
       "    </tr>\n",
       "    <tr>\n",
       "      <th>25009</th>\n",
       "      <td>test</td>\n",
       "      <td>96187</td>\n",
       "      <td>0.992374</td>\n",
       "      <td>This is an interesting, hard to find movie fro...</td>\n",
       "      <td>['\\n', 'xbos', 'xfld', '1', 'this', 'is', 'an'...</td>\n",
       "      <td>[40, 41, 42, 37, 13, 9, 48, 240, 4, 272, 8, 18...</td>\n",
       "    </tr>\n",
       "    <tr>\n",
       "      <th>25010</th>\n",
       "      <td>test</td>\n",
       "      <td>81251</td>\n",
       "      <td>0.109781</td>\n",
       "      <td>Well, the Hero and the Terror is slightly belo...</td>\n",
       "      <td>['\\n', 'xbos', 'xfld', '1', 'well', ',', 'the'...</td>\n",
       "      <td>[40, 41, 42, 37, 89, 4, 2, 590, 5, 2, 2248, 9,...</td>\n",
       "    </tr>\n",
       "    <tr>\n",
       "      <th>25011</th>\n",
       "      <td>test</td>\n",
       "      <td>98086</td>\n",
       "      <td>0.991448</td>\n",
       "      <td>I have been an avid chipmunk fan since the lat...</td>\n",
       "      <td>['\\n', 'xbos', 'xfld', '1', 'i', 'have', 'been...</td>\n",
       "      <td>[40, 41, 42, 37, 12, 36, 98, 48, 6349, 14497, ...</td>\n",
       "    </tr>\n",
       "    <tr>\n",
       "      <th>25012</th>\n",
       "      <td>test</td>\n",
       "      <td>79688</td>\n",
       "      <td>0.034544</td>\n",
       "      <td>42/100. Often referred as \"Tarzan with clothes...</td>\n",
       "      <td>['\\n', 'xbos', 'xfld', '1', '42', '/', '100', ...</td>\n",
       "      <td>[40, 41, 42, 37, 12239, 124, 1301, 3, 427, 524...</td>\n",
       "    </tr>\n",
       "    <tr>\n",
       "      <th>25013</th>\n",
       "      <td>test</td>\n",
       "      <td>90580</td>\n",
       "      <td>0.835991</td>\n",
       "      <td>I caught this movie late one night and never k...</td>\n",
       "      <td>['\\n', 'xbos', 'xfld', '1', 'i', 'caught', 'th...</td>\n",
       "      <td>[40, 41, 42, 37, 12, 1035, 13, 21, 545, 38, 33...</td>\n",
       "    </tr>\n",
       "    <tr>\n",
       "      <th>25014</th>\n",
       "      <td>test</td>\n",
       "      <td>86756</td>\n",
       "      <td>0.002240</td>\n",
       "      <td>Tyrone Power was cast in the lead as Solomon. ...</td>\n",
       "      <td>['\\n', 'xbos', 'xfld', '1', 'tyrone', 'power',...</td>\n",
       "      <td>[40, 41, 42, 37, 12080, 663, 18, 197, 11, 2, 4...</td>\n",
       "    </tr>\n",
       "    <tr>\n",
       "      <th>25015</th>\n",
       "      <td>test</td>\n",
       "      <td>77906</td>\n",
       "      <td>0.003379</td>\n",
       "      <td>This is one of those religious horror films wh...</td>\n",
       "      <td>['\\n', 'xbos', 'xfld', '1', 'this', 'is', 'one...</td>\n",
       "      <td>[40, 41, 42, 37, 13, 9, 38, 7, 164, 1704, 206,...</td>\n",
       "    </tr>\n",
       "    <tr>\n",
       "      <th>25016</th>\n",
       "      <td>test</td>\n",
       "      <td>95742</td>\n",
       "      <td>0.986793</td>\n",
       "      <td>Being advertised as the most expensive movie e...</td>\n",
       "      <td>['\\n', 'xbos', 'xfld', '1', 'being', 'advertis...</td>\n",
       "      <td>[40, 41, 42, 37, 129, 6689, 20, 2, 109, 3429, ...</td>\n",
       "    </tr>\n",
       "    <tr>\n",
       "      <th>25017</th>\n",
       "      <td>test</td>\n",
       "      <td>77455</td>\n",
       "      <td>0.001581</td>\n",
       "      <td>The Jaws rip off is the trashiest of the all t...</td>\n",
       "      <td>['\\n', 'xbos', 'xfld', '1', 'the', 'jaws', 'ri...</td>\n",
       "      <td>[40, 41, 42, 37, 2, 4545, 1575, 142, 9, 2, 424...</td>\n",
       "    </tr>\n",
       "    <tr>\n",
       "      <th>25018</th>\n",
       "      <td>test</td>\n",
       "      <td>76454</td>\n",
       "      <td>0.033978</td>\n",
       "      <td>After seeing this film I felt sick to my stoma...</td>\n",
       "      <td>['\\n', 'xbos', 'xfld', '1', 'after', 'seeing',...</td>\n",
       "      <td>[40, 41, 42, 37, 119, 336, 13, 25, 12, 459, 11...</td>\n",
       "    </tr>\n",
       "    <tr>\n",
       "      <th>25019</th>\n",
       "      <td>test</td>\n",
       "      <td>92650</td>\n",
       "      <td>0.987419</td>\n",
       "      <td>I first saw this mini-series as a child and th...</td>\n",
       "      <td>['\\n', 'xbos', 'xfld', '1', 'i', 'first', 'saw...</td>\n",
       "      <td>[40, 41, 42, 37, 12, 107, 232, 13, 2263, 17, 2...</td>\n",
       "    </tr>\n",
       "    <tr>\n",
       "      <th>25020</th>\n",
       "      <td>test</td>\n",
       "      <td>98042</td>\n",
       "      <td>0.998976</td>\n",
       "      <td>The beautiful, charming, supremely versatile a...</td>\n",
       "      <td>['\\n', 'xbos', 'xfld', '1', 'the', 'beautiful'...</td>\n",
       "      <td>[40, 41, 42, 37, 2, 331, 4, 1325, 4, 9821, 914...</td>\n",
       "    </tr>\n",
       "    <tr>\n",
       "      <th>25021</th>\n",
       "      <td>test</td>\n",
       "      <td>81107</td>\n",
       "      <td>0.001048</td>\n",
       "      <td>Everyone I know loves this movie, but I am afr...</td>\n",
       "      <td>['\\n', 'xbos', 'xfld', '1', 'everyone', 'i', '...</td>\n",
       "      <td>[40, 41, 42, 37, 314, 12, 139, 1377, 13, 21, 4...</td>\n",
       "    </tr>\n",
       "    <tr>\n",
       "      <th>25022</th>\n",
       "      <td>test</td>\n",
       "      <td>83839</td>\n",
       "      <td>0.735683</td>\n",
       "      <td>CORRIDORS OF BLOOD &lt;br /&gt;&lt;br /&gt;Aspect ratio: 1...</td>\n",
       "      <td>['\\n', 'xbos', 'xfld', '1', 't_up', 'corridors...</td>\n",
       "      <td>[40, 41, 42, 37, 31, 9299, 7, 31, 565, 19, 130...</td>\n",
       "    </tr>\n",
       "    <tr>\n",
       "      <th>25023</th>\n",
       "      <td>test</td>\n",
       "      <td>87324</td>\n",
       "      <td>0.003779</td>\n",
       "      <td>If this movie had been directed by a man, he w...</td>\n",
       "      <td>['\\n', 'xbos', 'xfld', '1', 'if', 'this', 'mov...</td>\n",
       "      <td>[40, 41, 42, 37, 61, 13, 21, 84, 98, 538, 46, ...</td>\n",
       "    </tr>\n",
       "    <tr>\n",
       "      <th>25024</th>\n",
       "      <td>test</td>\n",
       "      <td>84526</td>\n",
       "      <td>0.002555</td>\n",
       "      <td>I like Kevin Bacon and Cathy Moriarty, and I l...</td>\n",
       "      <td>['\\n', 'xbos', 'xfld', '1', 'i', 'like', 'kevi...</td>\n",
       "      <td>[40, 41, 42, 37, 12, 52, 1632, 5694, 5, 10219,...</td>\n",
       "    </tr>\n",
       "    <tr>\n",
       "      <th>25025</th>\n",
       "      <td>test</td>\n",
       "      <td>93868</td>\n",
       "      <td>0.991330</td>\n",
       "      <td>Passion In The Desert exemplifies spatial gran...</td>\n",
       "      <td>['\\n', 'xbos', 'xfld', '1', 'passion', 'in', '...</td>\n",
       "      <td>[40, 41, 42, 37, 1648, 11, 2, 1763, 14672, 239...</td>\n",
       "    </tr>\n",
       "    <tr>\n",
       "      <th>25026</th>\n",
       "      <td>test</td>\n",
       "      <td>88605</td>\n",
       "      <td>0.982743</td>\n",
       "      <td>I would recommend this film to anyone who is s...</td>\n",
       "      <td>['\\n', 'xbos', 'xfld', '1', 'i', 'would', 'rec...</td>\n",
       "      <td>[40, 41, 42, 37, 12, 71, 397, 13, 25, 8, 266, ...</td>\n",
       "    </tr>\n",
       "    <tr>\n",
       "      <th>25027</th>\n",
       "      <td>test</td>\n",
       "      <td>84436</td>\n",
       "      <td>0.002225</td>\n",
       "      <td>No budget direct to video tale of aliens in Ar...</td>\n",
       "      <td>['\\n', 'xbos', 'xfld', '1', 'no', 'budget', 'd...</td>\n",
       "      <td>[40, 41, 42, 37, 73, 353, 1472, 8, 393, 800, 7...</td>\n",
       "    </tr>\n",
       "    <tr>\n",
       "      <th>25028</th>\n",
       "      <td>test</td>\n",
       "      <td>91698</td>\n",
       "      <td>0.864546</td>\n",
       "      <td>Film about the failure of government and the s...</td>\n",
       "      <td>['\\n', 'xbos', 'xfld', '1', 'film', 'about', '...</td>\n",
       "      <td>[40, 41, 42, 37, 25, 59, 2, 2060, 7, 1294, 5, ...</td>\n",
       "    </tr>\n",
       "    <tr>\n",
       "      <th>25029</th>\n",
       "      <td>test</td>\n",
       "      <td>82413</td>\n",
       "      <td>0.142455</td>\n",
       "      <td>I bought this movie for a couple of dollars at...</td>\n",
       "      <td>['\\n', 'xbos', 'xfld', '1', 'i', 'bought', 'th...</td>\n",
       "      <td>[40, 41, 42, 37, 12, 1234, 13, 21, 22, 6, 392,...</td>\n",
       "    </tr>\n",
       "    <tr>\n",
       "      <th>...</th>\n",
       "      <td>...</td>\n",
       "      <td>...</td>\n",
       "      <td>...</td>\n",
       "      <td>...</td>\n",
       "      <td>...</td>\n",
       "      <td>...</td>\n",
       "    </tr>\n",
       "    <tr>\n",
       "      <th>25970</th>\n",
       "      <td>test</td>\n",
       "      <td>80982</td>\n",
       "      <td>0.085249</td>\n",
       "      <td>did anyone notice?when miss brook went skinny ...</td>\n",
       "      <td>['\\n', 'xbos', 'xfld', '1', 'did', 'anyone', '...</td>\n",
       "      <td>[40, 41, 42, 37, 87, 266, 0, 710, 14240, 437, ...</td>\n",
       "    </tr>\n",
       "    <tr>\n",
       "      <th>25971</th>\n",
       "      <td>test</td>\n",
       "      <td>91715</td>\n",
       "      <td>0.961507</td>\n",
       "      <td>i was very impressed with this production on l...</td>\n",
       "      <td>['\\n', 'xbos', 'xfld', '1', 'i', 'was', 'very'...</td>\n",
       "      <td>[40, 41, 42, 37, 12, 18, 69, 1519, 23, 13, 376...</td>\n",
       "    </tr>\n",
       "    <tr>\n",
       "      <th>25972</th>\n",
       "      <td>test</td>\n",
       "      <td>86777</td>\n",
       "      <td>0.007782</td>\n",
       "      <td>I can't knock this film too terribly, because ...</td>\n",
       "      <td>['\\n', 'xbos', 'xfld', '1', 'i', 'ca', \"n't\", ...</td>\n",
       "      <td>[40, 41, 42, 37, 12, 194, 29, 3683, 13, 25, 11...</td>\n",
       "    </tr>\n",
       "    <tr>\n",
       "      <th>25973</th>\n",
       "      <td>test</td>\n",
       "      <td>81441</td>\n",
       "      <td>0.000164</td>\n",
       "      <td>The combination of Dan Haggerty (Elves) and Li...</td>\n",
       "      <td>['\\n', 'xbos', 'xfld', '1', 'the', 'combinatio...</td>\n",
       "      <td>[40, 41, 42, 37, 2, 2193, 7, 2151, 27889, 30, ...</td>\n",
       "    </tr>\n",
       "    <tr>\n",
       "      <th>25974</th>\n",
       "      <td>test</td>\n",
       "      <td>97172</td>\n",
       "      <td>0.985983</td>\n",
       "      <td>Perhaps the deepest cartoon made in the USA, \"...</td>\n",
       "      <td>['\\n', 'xbos', 'xfld', '1', 'perhaps', 'the', ...</td>\n",
       "      <td>[40, 41, 42, 37, 408, 2, 9107, 1066, 110, 11, ...</td>\n",
       "    </tr>\n",
       "    <tr>\n",
       "      <th>25975</th>\n",
       "      <td>test</td>\n",
       "      <td>76066</td>\n",
       "      <td>0.046974</td>\n",
       "      <td>I'm no director or writer or anything related ...</td>\n",
       "      <td>['\\n', 'xbos', 'xfld', '1', 'i', \"'m\", 'no', '...</td>\n",
       "      <td>[40, 41, 42, 37, 12, 165, 73, 170, 54, 568, 54...</td>\n",
       "    </tr>\n",
       "    <tr>\n",
       "      <th>25976</th>\n",
       "      <td>test</td>\n",
       "      <td>97373</td>\n",
       "      <td>0.982790</td>\n",
       "      <td>\"Cherry\" tells of a naive, unmarried virgin wh...</td>\n",
       "      <td>['\\n', 'xbos', 'xfld', '1', '\"', 'cherry', '\"'...</td>\n",
       "      <td>[40, 41, 42, 37, 15, 9795, 15, 731, 7, 6, 2552...</td>\n",
       "    </tr>\n",
       "    <tr>\n",
       "      <th>25977</th>\n",
       "      <td>test</td>\n",
       "      <td>79730</td>\n",
       "      <td>0.362624</td>\n",
       "      <td>This is one of the best looking films of the p...</td>\n",
       "      <td>['\\n', 'xbos', 'xfld', '1', 'this', 'is', 'one...</td>\n",
       "      <td>[40, 41, 42, 37, 13, 9, 38, 7, 2, 138, 277, 12...</td>\n",
       "    </tr>\n",
       "    <tr>\n",
       "      <th>25978</th>\n",
       "      <td>test</td>\n",
       "      <td>87434</td>\n",
       "      <td>0.170612</td>\n",
       "      <td>This is among one of many USA attempts of rema...</td>\n",
       "      <td>['\\n', 'xbos', 'xfld', '1', 'this', 'is', 'amo...</td>\n",
       "      <td>[40, 41, 42, 37, 13, 9, 786, 38, 7, 127, 31, 2...</td>\n",
       "    </tr>\n",
       "    <tr>\n",
       "      <th>25979</th>\n",
       "      <td>test</td>\n",
       "      <td>83930</td>\n",
       "      <td>0.192164</td>\n",
       "      <td>I'd never thought that I would be caught sayin...</td>\n",
       "      <td>['\\n', 'xbos', 'xfld', '1', 'i', \"'d\", 'never'...</td>\n",
       "      <td>[40, 41, 42, 37, 12, 318, 131, 213, 14, 12, 71...</td>\n",
       "    </tr>\n",
       "    <tr>\n",
       "      <th>25980</th>\n",
       "      <td>test</td>\n",
       "      <td>86844</td>\n",
       "      <td>0.003957</td>\n",
       "      <td>This movie was utterly and unequivocally terri...</td>\n",
       "      <td>['\\n', 'xbos', 'xfld', '1', 'this', 'movie', '...</td>\n",
       "      <td>[40, 41, 42, 37, 13, 21, 18, 1316, 5, 28083, 4...</td>\n",
       "    </tr>\n",
       "    <tr>\n",
       "      <th>25981</th>\n",
       "      <td>test</td>\n",
       "      <td>77190</td>\n",
       "      <td>0.009989</td>\n",
       "      <td>My roommate and I have another friend that wor...</td>\n",
       "      <td>['\\n', 'xbos', 'xfld', '1', 'my', 'roommate', ...</td>\n",
       "      <td>[40, 41, 42, 37, 75, 6134, 5, 12, 36, 175, 446...</td>\n",
       "    </tr>\n",
       "    <tr>\n",
       "      <th>25982</th>\n",
       "      <td>test</td>\n",
       "      <td>83936</td>\n",
       "      <td>0.019290</td>\n",
       "      <td>The fact that this cruddy series could elicit ...</td>\n",
       "      <td>['\\n', 'xbos', 'xfld', '1', 'the', 'fact', 'th...</td>\n",
       "      <td>[40, 41, 42, 37, 2, 215, 14, 13, 18626, 226, 9...</td>\n",
       "    </tr>\n",
       "    <tr>\n",
       "      <th>25983</th>\n",
       "      <td>test</td>\n",
       "      <td>78994</td>\n",
       "      <td>0.121543</td>\n",
       "      <td>Mediocre at best. Slow, but probably more ente...</td>\n",
       "      <td>['\\n', 'xbos', 'xfld', '1', 'mediocre', 'at', ...</td>\n",
       "      <td>[40, 41, 42, 37, 1571, 44, 138, 3, 577, 4, 24,...</td>\n",
       "    </tr>\n",
       "    <tr>\n",
       "      <th>25984</th>\n",
       "      <td>test</td>\n",
       "      <td>87983</td>\n",
       "      <td>0.930665</td>\n",
       "      <td>i see there are great reviews of this film alr...</td>\n",
       "      <td>['\\n', 'xbos', 'xfld', '1', 'i', 'see', 'there...</td>\n",
       "      <td>[40, 41, 42, 37, 12, 82, 53, 33, 102, 847, 7, ...</td>\n",
       "    </tr>\n",
       "    <tr>\n",
       "      <th>25985</th>\n",
       "      <td>test</td>\n",
       "      <td>76549</td>\n",
       "      <td>0.762935</td>\n",
       "      <td>After watching this film, I thought to myself,...</td>\n",
       "      <td>['\\n', 'xbos', 'xfld', '1', 'after', 'watching...</td>\n",
       "      <td>[40, 41, 42, 37, 119, 167, 13, 25, 4, 12, 213,...</td>\n",
       "    </tr>\n",
       "    <tr>\n",
       "      <th>25986</th>\n",
       "      <td>test</td>\n",
       "      <td>89227</td>\n",
       "      <td>0.997024</td>\n",
       "      <td>This movie starts off somewhat slowly and gets...</td>\n",
       "      <td>['\\n', 'xbos', 'xfld', '1', 'this', 'movie', '...</td>\n",
       "      <td>[40, 41, 42, 37, 13, 21, 554, 142, 687, 1384, ...</td>\n",
       "    </tr>\n",
       "    <tr>\n",
       "      <th>25987</th>\n",
       "      <td>test</td>\n",
       "      <td>98472</td>\n",
       "      <td>0.927621</td>\n",
       "      <td>I grew up with the Abbott and Costello movies,...</td>\n",
       "      <td>['\\n', 'xbos', 'xfld', '1', 'i', 'grew', 'up',...</td>\n",
       "      <td>[40, 41, 42, 37, 12, 2156, 72, 23, 2, 7045, 5,...</td>\n",
       "    </tr>\n",
       "    <tr>\n",
       "      <th>25988</th>\n",
       "      <td>test</td>\n",
       "      <td>92694</td>\n",
       "      <td>0.972436</td>\n",
       "      <td>I saw this film at the 2005 Palm Springs Inter...</td>\n",
       "      <td>['\\n', 'xbos', 'xfld', '1', 'i', 'saw', 'this'...</td>\n",
       "      <td>[40, 41, 42, 37, 12, 232, 13, 25, 44, 2, 3087,...</td>\n",
       "    </tr>\n",
       "    <tr>\n",
       "      <th>25989</th>\n",
       "      <td>test</td>\n",
       "      <td>98615</td>\n",
       "      <td>0.989233</td>\n",
       "      <td>I remember seeing this in the early 90's on UK...</td>\n",
       "      <td>['\\n', 'xbos', 'xfld', '1', 'i', 'remember', '...</td>\n",
       "      <td>[40, 41, 42, 37, 12, 404, 336, 13, 11, 2, 429,...</td>\n",
       "    </tr>\n",
       "    <tr>\n",
       "      <th>25990</th>\n",
       "      <td>test</td>\n",
       "      <td>96298</td>\n",
       "      <td>0.154134</td>\n",
       "      <td>This BRASS EYE special PAEDO-GEDDON was swampe...</td>\n",
       "      <td>['\\n', 'xbos', 'xfld', '1', 'this', 't_up', 'b...</td>\n",
       "      <td>[40, 41, 42, 37, 13, 31, 9175, 31, 761, 328, 3...</td>\n",
       "    </tr>\n",
       "    <tr>\n",
       "      <th>25991</th>\n",
       "      <td>test</td>\n",
       "      <td>77215</td>\n",
       "      <td>0.009085</td>\n",
       "      <td>A total and utter travesty of a movie.'Dark po...</td>\n",
       "      <td>['\\n', 'xbos', 'xfld', '1', 'a', 'total', 'and...</td>\n",
       "      <td>[40, 41, 42, 37, 6, 950, 5, 2050, 4960, 7, 6, ...</td>\n",
       "    </tr>\n",
       "    <tr>\n",
       "      <th>25992</th>\n",
       "      <td>test</td>\n",
       "      <td>90501</td>\n",
       "      <td>0.804636</td>\n",
       "      <td>Rather than go on location and make a realisti...</td>\n",
       "      <td>['\\n', 'xbos', 'xfld', '1', 'rather', 'than', ...</td>\n",
       "      <td>[40, 41, 42, 37, 271, 92, 160, 28, 1478, 5, 11...</td>\n",
       "    </tr>\n",
       "    <tr>\n",
       "      <th>25993</th>\n",
       "      <td>test</td>\n",
       "      <td>77327</td>\n",
       "      <td>0.005808</td>\n",
       "      <td>Consider \"I Know All\" Action hero is lighting ...</td>\n",
       "      <td>['\\n', 'xbos', 'xfld', '1', 'consider', '\"', '...</td>\n",
       "      <td>[40, 41, 42, 37, 1184, 15, 12, 139, 43, 15, 22...</td>\n",
       "    </tr>\n",
       "    <tr>\n",
       "      <th>25994</th>\n",
       "      <td>test</td>\n",
       "      <td>79437</td>\n",
       "      <td>0.015545</td>\n",
       "      <td>I admit to a secret admiration of the original...</td>\n",
       "      <td>['\\n', 'xbos', 'xfld', '1', 'i', 'admit', 'to'...</td>\n",
       "      <td>[40, 41, 42, 37, 12, 996, 8, 6, 1023, 7316, 7,...</td>\n",
       "    </tr>\n",
       "    <tr>\n",
       "      <th>25995</th>\n",
       "      <td>test</td>\n",
       "      <td>80957</td>\n",
       "      <td>0.007308</td>\n",
       "      <td>This movie reminds me old B movies, but not in...</td>\n",
       "      <td>['\\n', 'xbos', 'xfld', '1', 'this', 'movie', '...</td>\n",
       "      <td>[40, 41, 42, 37, 13, 21, 1770, 86, 174, 641, 1...</td>\n",
       "    </tr>\n",
       "    <tr>\n",
       "      <th>25996</th>\n",
       "      <td>test</td>\n",
       "      <td>76319</td>\n",
       "      <td>0.005730</td>\n",
       "      <td>The Man (Gaston Modot) and the Young Girl (Lya...</td>\n",
       "      <td>['\\n', 'xbos', 'xfld', '1', 'the', 'man', '(',...</td>\n",
       "      <td>[40, 41, 42, 37, 2, 144, 30, 30114, 0, 27, 5, ...</td>\n",
       "    </tr>\n",
       "    <tr>\n",
       "      <th>25997</th>\n",
       "      <td>test</td>\n",
       "      <td>92207</td>\n",
       "      <td>0.990003</td>\n",
       "      <td>i really love this movie , i saw it for the fi...</td>\n",
       "      <td>['\\n', 'xbos', 'xfld', '1', 'i', 'really', 'lo...</td>\n",
       "      <td>[40, 41, 42, 37, 12, 80, 132, 13, 21, 4, 12, 2...</td>\n",
       "    </tr>\n",
       "    <tr>\n",
       "      <th>25998</th>\n",
       "      <td>test</td>\n",
       "      <td>75575</td>\n",
       "      <td>0.001993</td>\n",
       "      <td>There are some great Canadian films. There are...</td>\n",
       "      <td>['\\n', 'xbos', 'xfld', '1', 'there', 'are', 's...</td>\n",
       "      <td>[40, 41, 42, 37, 53, 33, 65, 102, 2367, 125, 3...</td>\n",
       "    </tr>\n",
       "    <tr>\n",
       "      <th>25999</th>\n",
       "      <td>test</td>\n",
       "      <td>75814</td>\n",
       "      <td>0.013928</td>\n",
       "      <td>Detective Sergent Vince De Carlo (James Luisi)...</td>\n",
       "      <td>['\\n', 'xbos', 'xfld', '1', 'detective', 'serg...</td>\n",
       "      <td>[40, 41, 42, 37, 1358, 39563, 5356, 912, 12411...</td>\n",
       "    </tr>\n",
       "  </tbody>\n",
       "</table>\n",
       "<p>1000 rows × 6 columns</p>\n",
       "</div>"
      ],
      "text/plain": [
       "      dataset     id    labels  \\\n",
       "25000    test  98481  0.951113   \n",
       "25001    test  88606  0.995722   \n",
       "25002    test  88639  0.937529   \n",
       "25003    test  76170  0.555694   \n",
       "25004    test  81803  0.011527   \n",
       "25005    test  93371  0.986796   \n",
       "25006    test  87360  0.006029   \n",
       "25007    test  88547  0.867354   \n",
       "25008    test  88215  0.998647   \n",
       "25009    test  96187  0.992374   \n",
       "25010    test  81251  0.109781   \n",
       "25011    test  98086  0.991448   \n",
       "25012    test  79688  0.034544   \n",
       "25013    test  90580  0.835991   \n",
       "25014    test  86756  0.002240   \n",
       "25015    test  77906  0.003379   \n",
       "25016    test  95742  0.986793   \n",
       "25017    test  77455  0.001581   \n",
       "25018    test  76454  0.033978   \n",
       "25019    test  92650  0.987419   \n",
       "25020    test  98042  0.998976   \n",
       "25021    test  81107  0.001048   \n",
       "25022    test  83839  0.735683   \n",
       "25023    test  87324  0.003779   \n",
       "25024    test  84526  0.002555   \n",
       "25025    test  93868  0.991330   \n",
       "25026    test  88605  0.982743   \n",
       "25027    test  84436  0.002225   \n",
       "25028    test  91698  0.864546   \n",
       "25029    test  82413  0.142455   \n",
       "...       ...    ...       ...   \n",
       "25970    test  80982  0.085249   \n",
       "25971    test  91715  0.961507   \n",
       "25972    test  86777  0.007782   \n",
       "25973    test  81441  0.000164   \n",
       "25974    test  97172  0.985983   \n",
       "25975    test  76066  0.046974   \n",
       "25976    test  97373  0.982790   \n",
       "25977    test  79730  0.362624   \n",
       "25978    test  87434  0.170612   \n",
       "25979    test  83930  0.192164   \n",
       "25980    test  86844  0.003957   \n",
       "25981    test  77190  0.009989   \n",
       "25982    test  83936  0.019290   \n",
       "25983    test  78994  0.121543   \n",
       "25984    test  87983  0.930665   \n",
       "25985    test  76549  0.762935   \n",
       "25986    test  89227  0.997024   \n",
       "25987    test  98472  0.927621   \n",
       "25988    test  92694  0.972436   \n",
       "25989    test  98615  0.989233   \n",
       "25990    test  96298  0.154134   \n",
       "25991    test  77215  0.009085   \n",
       "25992    test  90501  0.804636   \n",
       "25993    test  77327  0.005808   \n",
       "25994    test  79437  0.015545   \n",
       "25995    test  80957  0.007308   \n",
       "25996    test  76319  0.005730   \n",
       "25997    test  92207  0.990003   \n",
       "25998    test  75575  0.001993   \n",
       "25999    test  75814  0.013928   \n",
       "\n",
       "                                                    text  \\\n",
       "25000  Bud Abbott and Lou Costello always had a good ...   \n",
       "25001  This film is not your typical Hollywood fare, ...   \n",
       "25002  Henry Thomas, and Robin Tunny, are a couple of...   \n",
       "25003  This digital horror film brings us into the Mi...   \n",
       "25004  I just saw this on a local independent station...   \n",
       "25005  Those wishing to see film noir remakes, should...   \n",
       "25006  I never read the book. Now I don't really want...   \n",
       "25007  I think that there was too much action in the ...   \n",
       "25008  Have wanted to see this for a while: I never t...   \n",
       "25009  This is an interesting, hard to find movie fro...   \n",
       "25010  Well, the Hero and the Terror is slightly belo...   \n",
       "25011  I have been an avid chipmunk fan since the lat...   \n",
       "25012  42/100. Often referred as \"Tarzan with clothes...   \n",
       "25013  I caught this movie late one night and never k...   \n",
       "25014  Tyrone Power was cast in the lead as Solomon. ...   \n",
       "25015  This is one of those religious horror films wh...   \n",
       "25016  Being advertised as the most expensive movie e...   \n",
       "25017  The Jaws rip off is the trashiest of the all t...   \n",
       "25018  After seeing this film I felt sick to my stoma...   \n",
       "25019  I first saw this mini-series as a child and th...   \n",
       "25020  The beautiful, charming, supremely versatile a...   \n",
       "25021  Everyone I know loves this movie, but I am afr...   \n",
       "25022  CORRIDORS OF BLOOD <br /><br />Aspect ratio: 1...   \n",
       "25023  If this movie had been directed by a man, he w...   \n",
       "25024  I like Kevin Bacon and Cathy Moriarty, and I l...   \n",
       "25025  Passion In The Desert exemplifies spatial gran...   \n",
       "25026  I would recommend this film to anyone who is s...   \n",
       "25027  No budget direct to video tale of aliens in Ar...   \n",
       "25028  Film about the failure of government and the s...   \n",
       "25029  I bought this movie for a couple of dollars at...   \n",
       "...                                                  ...   \n",
       "25970  did anyone notice?when miss brook went skinny ...   \n",
       "25971  i was very impressed with this production on l...   \n",
       "25972  I can't knock this film too terribly, because ...   \n",
       "25973  The combination of Dan Haggerty (Elves) and Li...   \n",
       "25974  Perhaps the deepest cartoon made in the USA, \"...   \n",
       "25975  I'm no director or writer or anything related ...   \n",
       "25976  \"Cherry\" tells of a naive, unmarried virgin wh...   \n",
       "25977  This is one of the best looking films of the p...   \n",
       "25978  This is among one of many USA attempts of rema...   \n",
       "25979  I'd never thought that I would be caught sayin...   \n",
       "25980  This movie was utterly and unequivocally terri...   \n",
       "25981  My roommate and I have another friend that wor...   \n",
       "25982  The fact that this cruddy series could elicit ...   \n",
       "25983  Mediocre at best. Slow, but probably more ente...   \n",
       "25984  i see there are great reviews of this film alr...   \n",
       "25985  After watching this film, I thought to myself,...   \n",
       "25986  This movie starts off somewhat slowly and gets...   \n",
       "25987  I grew up with the Abbott and Costello movies,...   \n",
       "25988  I saw this film at the 2005 Palm Springs Inter...   \n",
       "25989  I remember seeing this in the early 90's on UK...   \n",
       "25990  This BRASS EYE special PAEDO-GEDDON was swampe...   \n",
       "25991  A total and utter travesty of a movie.'Dark po...   \n",
       "25992  Rather than go on location and make a realisti...   \n",
       "25993  Consider \"I Know All\" Action hero is lighting ...   \n",
       "25994  I admit to a secret admiration of the original...   \n",
       "25995  This movie reminds me old B movies, but not in...   \n",
       "25996  The Man (Gaston Modot) and the Young Girl (Lya...   \n",
       "25997  i really love this movie , i saw it for the fi...   \n",
       "25998  There are some great Canadian films. There are...   \n",
       "25999  Detective Sergent Vince De Carlo (James Luisi)...   \n",
       "\n",
       "                                          tokenized_text  \\\n",
       "25000  ['\\n', 'xbos', 'xfld', '1', 'bud', 'abbott', '...   \n",
       "25001  ['\\n', 'xbos', 'xfld', '1', 'this', 'film', 'i...   \n",
       "25002  ['\\n', 'xbos', 'xfld', '1', 'henry', 'thomas',...   \n",
       "25003  ['\\n', 'xbos', 'xfld', '1', 'this', 'digital',...   \n",
       "25004  ['\\n', 'xbos', 'xfld', '1', 'i', 'just', 'saw'...   \n",
       "25005  ['\\n', 'xbos', 'xfld', '1', 'those', 'wishing'...   \n",
       "25006  ['\\n', 'xbos', 'xfld', '1', 'i', 'never', 'rea...   \n",
       "25007  ['\\n', 'xbos', 'xfld', '1', 'i', 'think', 'tha...   \n",
       "25008  ['\\n', 'xbos', 'xfld', '1', 'have', 'wanted', ...   \n",
       "25009  ['\\n', 'xbos', 'xfld', '1', 'this', 'is', 'an'...   \n",
       "25010  ['\\n', 'xbos', 'xfld', '1', 'well', ',', 'the'...   \n",
       "25011  ['\\n', 'xbos', 'xfld', '1', 'i', 'have', 'been...   \n",
       "25012  ['\\n', 'xbos', 'xfld', '1', '42', '/', '100', ...   \n",
       "25013  ['\\n', 'xbos', 'xfld', '1', 'i', 'caught', 'th...   \n",
       "25014  ['\\n', 'xbos', 'xfld', '1', 'tyrone', 'power',...   \n",
       "25015  ['\\n', 'xbos', 'xfld', '1', 'this', 'is', 'one...   \n",
       "25016  ['\\n', 'xbos', 'xfld', '1', 'being', 'advertis...   \n",
       "25017  ['\\n', 'xbos', 'xfld', '1', 'the', 'jaws', 'ri...   \n",
       "25018  ['\\n', 'xbos', 'xfld', '1', 'after', 'seeing',...   \n",
       "25019  ['\\n', 'xbos', 'xfld', '1', 'i', 'first', 'saw...   \n",
       "25020  ['\\n', 'xbos', 'xfld', '1', 'the', 'beautiful'...   \n",
       "25021  ['\\n', 'xbos', 'xfld', '1', 'everyone', 'i', '...   \n",
       "25022  ['\\n', 'xbos', 'xfld', '1', 't_up', 'corridors...   \n",
       "25023  ['\\n', 'xbos', 'xfld', '1', 'if', 'this', 'mov...   \n",
       "25024  ['\\n', 'xbos', 'xfld', '1', 'i', 'like', 'kevi...   \n",
       "25025  ['\\n', 'xbos', 'xfld', '1', 'passion', 'in', '...   \n",
       "25026  ['\\n', 'xbos', 'xfld', '1', 'i', 'would', 'rec...   \n",
       "25027  ['\\n', 'xbos', 'xfld', '1', 'no', 'budget', 'd...   \n",
       "25028  ['\\n', 'xbos', 'xfld', '1', 'film', 'about', '...   \n",
       "25029  ['\\n', 'xbos', 'xfld', '1', 'i', 'bought', 'th...   \n",
       "...                                                  ...   \n",
       "25970  ['\\n', 'xbos', 'xfld', '1', 'did', 'anyone', '...   \n",
       "25971  ['\\n', 'xbos', 'xfld', '1', 'i', 'was', 'very'...   \n",
       "25972  ['\\n', 'xbos', 'xfld', '1', 'i', 'ca', \"n't\", ...   \n",
       "25973  ['\\n', 'xbos', 'xfld', '1', 'the', 'combinatio...   \n",
       "25974  ['\\n', 'xbos', 'xfld', '1', 'perhaps', 'the', ...   \n",
       "25975  ['\\n', 'xbos', 'xfld', '1', 'i', \"'m\", 'no', '...   \n",
       "25976  ['\\n', 'xbos', 'xfld', '1', '\"', 'cherry', '\"'...   \n",
       "25977  ['\\n', 'xbos', 'xfld', '1', 'this', 'is', 'one...   \n",
       "25978  ['\\n', 'xbos', 'xfld', '1', 'this', 'is', 'amo...   \n",
       "25979  ['\\n', 'xbos', 'xfld', '1', 'i', \"'d\", 'never'...   \n",
       "25980  ['\\n', 'xbos', 'xfld', '1', 'this', 'movie', '...   \n",
       "25981  ['\\n', 'xbos', 'xfld', '1', 'my', 'roommate', ...   \n",
       "25982  ['\\n', 'xbos', 'xfld', '1', 'the', 'fact', 'th...   \n",
       "25983  ['\\n', 'xbos', 'xfld', '1', 'mediocre', 'at', ...   \n",
       "25984  ['\\n', 'xbos', 'xfld', '1', 'i', 'see', 'there...   \n",
       "25985  ['\\n', 'xbos', 'xfld', '1', 'after', 'watching...   \n",
       "25986  ['\\n', 'xbos', 'xfld', '1', 'this', 'movie', '...   \n",
       "25987  ['\\n', 'xbos', 'xfld', '1', 'i', 'grew', 'up',...   \n",
       "25988  ['\\n', 'xbos', 'xfld', '1', 'i', 'saw', 'this'...   \n",
       "25989  ['\\n', 'xbos', 'xfld', '1', 'i', 'remember', '...   \n",
       "25990  ['\\n', 'xbos', 'xfld', '1', 'this', 't_up', 'b...   \n",
       "25991  ['\\n', 'xbos', 'xfld', '1', 'a', 'total', 'and...   \n",
       "25992  ['\\n', 'xbos', 'xfld', '1', 'rather', 'than', ...   \n",
       "25993  ['\\n', 'xbos', 'xfld', '1', 'consider', '\"', '...   \n",
       "25994  ['\\n', 'xbos', 'xfld', '1', 'i', 'admit', 'to'...   \n",
       "25995  ['\\n', 'xbos', 'xfld', '1', 'this', 'movie', '...   \n",
       "25996  ['\\n', 'xbos', 'xfld', '1', 'the', 'man', '(',...   \n",
       "25997  ['\\n', 'xbos', 'xfld', '1', 'i', 'really', 'lo...   \n",
       "25998  ['\\n', 'xbos', 'xfld', '1', 'there', 'are', 's...   \n",
       "25999  ['\\n', 'xbos', 'xfld', '1', 'detective', 'serg...   \n",
       "\n",
       "                                        numerized_tokens  \n",
       "25000  [40, 41, 42, 37, 5284, 7045, 5, 3741, 6007, 23...  \n",
       "25001  [40, 41, 42, 37, 13, 25, 9, 32, 145, 798, 366,...  \n",
       "25002  [40, 41, 42, 37, 1635, 1660, 4, 5, 1886, 34013...  \n",
       "25003  [40, 41, 42, 37, 13, 3654, 206, 25, 993, 199, ...  \n",
       "25004  [40, 41, 42, 37, 12, 55, 232, 13, 28, 6, 714, ...  \n",
       "25005  [40, 41, 42, 37, 164, 4747, 8, 82, 25, 1497, 5...  \n",
       "25006  [40, 41, 42, 37, 12, 131, 359, 2, 292, 3, 166,...  \n",
       "25007  [40, 41, 42, 37, 12, 121, 14, 53, 18, 116, 93,...  \n",
       "25008  [40, 41, 42, 37, 36, 479, 8, 82, 13, 22, 6, 15...  \n",
       "25009  [40, 41, 42, 37, 13, 9, 48, 240, 4, 272, 8, 18...  \n",
       "25010  [40, 41, 42, 37, 89, 4, 2, 590, 5, 2, 2248, 9,...  \n",
       "25011  [40, 41, 42, 37, 12, 36, 98, 48, 6349, 14497, ...  \n",
       "25012  [40, 41, 42, 37, 12239, 124, 1301, 3, 427, 524...  \n",
       "25013  [40, 41, 42, 37, 12, 1035, 13, 21, 545, 38, 33...  \n",
       "25014  [40, 41, 42, 37, 12080, 663, 18, 197, 11, 2, 4...  \n",
       "25015  [40, 41, 42, 37, 13, 9, 38, 7, 164, 1704, 206,...  \n",
       "25016  [40, 41, 42, 37, 129, 6689, 20, 2, 109, 3429, ...  \n",
       "25017  [40, 41, 42, 37, 2, 4545, 1575, 142, 9, 2, 424...  \n",
       "25018  [40, 41, 42, 37, 119, 336, 13, 25, 12, 459, 11...  \n",
       "25019  [40, 41, 42, 37, 12, 107, 232, 13, 2263, 17, 2...  \n",
       "25020  [40, 41, 42, 37, 2, 331, 4, 1325, 4, 9821, 914...  \n",
       "25021  [40, 41, 42, 37, 314, 12, 139, 1377, 13, 21, 4...  \n",
       "25022  [40, 41, 42, 37, 31, 9299, 7, 31, 565, 19, 130...  \n",
       "25023  [40, 41, 42, 37, 61, 13, 21, 84, 98, 538, 46, ...  \n",
       "25024  [40, 41, 42, 37, 12, 52, 1632, 5694, 5, 10219,...  \n",
       "25025  [40, 41, 42, 37, 1648, 11, 2, 1763, 14672, 239...  \n",
       "25026  [40, 41, 42, 37, 12, 71, 397, 13, 25, 8, 266, ...  \n",
       "25027  [40, 41, 42, 37, 73, 353, 1472, 8, 393, 800, 7...  \n",
       "25028  [40, 41, 42, 37, 25, 59, 2, 2060, 7, 1294, 5, ...  \n",
       "25029  [40, 41, 42, 37, 12, 1234, 13, 21, 22, 6, 392,...  \n",
       "...                                                  ...  \n",
       "25970  [40, 41, 42, 37, 87, 266, 0, 710, 14240, 437, ...  \n",
       "25971  [40, 41, 42, 37, 12, 18, 69, 1519, 23, 13, 376...  \n",
       "25972  [40, 41, 42, 37, 12, 194, 29, 3683, 13, 25, 11...  \n",
       "25973  [40, 41, 42, 37, 2, 2193, 7, 2151, 27889, 30, ...  \n",
       "25974  [40, 41, 42, 37, 408, 2, 9107, 1066, 110, 11, ...  \n",
       "25975  [40, 41, 42, 37, 12, 165, 73, 170, 54, 568, 54...  \n",
       "25976  [40, 41, 42, 37, 15, 9795, 15, 731, 7, 6, 2552...  \n",
       "25977  [40, 41, 42, 37, 13, 9, 38, 7, 2, 138, 277, 12...  \n",
       "25978  [40, 41, 42, 37, 13, 9, 786, 38, 7, 127, 31, 2...  \n",
       "25979  [40, 41, 42, 37, 12, 318, 131, 213, 14, 12, 71...  \n",
       "25980  [40, 41, 42, 37, 13, 21, 18, 1316, 5, 28083, 4...  \n",
       "25981  [40, 41, 42, 37, 75, 6134, 5, 12, 36, 175, 446...  \n",
       "25982  [40, 41, 42, 37, 2, 215, 14, 13, 18626, 226, 9...  \n",
       "25983  [40, 41, 42, 37, 1571, 44, 138, 3, 577, 4, 24,...  \n",
       "25984  [40, 41, 42, 37, 12, 82, 53, 33, 102, 847, 7, ...  \n",
       "25985  [40, 41, 42, 37, 119, 167, 13, 25, 4, 12, 213,...  \n",
       "25986  [40, 41, 42, 37, 13, 21, 554, 142, 687, 1384, ...  \n",
       "25987  [40, 41, 42, 37, 12, 2156, 72, 23, 2, 7045, 5,...  \n",
       "25988  [40, 41, 42, 37, 12, 232, 13, 25, 44, 2, 3087,...  \n",
       "25989  [40, 41, 42, 37, 12, 404, 336, 13, 11, 2, 429,...  \n",
       "25990  [40, 41, 42, 37, 13, 31, 9175, 31, 761, 328, 3...  \n",
       "25991  [40, 41, 42, 37, 6, 950, 5, 2050, 4960, 7, 6, ...  \n",
       "25992  [40, 41, 42, 37, 271, 92, 160, 28, 1478, 5, 11...  \n",
       "25993  [40, 41, 42, 37, 1184, 15, 12, 139, 43, 15, 22...  \n",
       "25994  [40, 41, 42, 37, 12, 996, 8, 6, 1023, 7316, 7,...  \n",
       "25995  [40, 41, 42, 37, 13, 21, 1770, 86, 174, 641, 1...  \n",
       "25996  [40, 41, 42, 37, 2, 144, 30, 30114, 0, 27, 5, ...  \n",
       "25997  [40, 41, 42, 37, 12, 80, 132, 13, 21, 4, 12, 2...  \n",
       "25998  [40, 41, 42, 37, 53, 33, 65, 102, 2367, 125, 3...  \n",
       "25999  [40, 41, 42, 37, 1358, 39563, 5356, 912, 12411...  \n",
       "\n",
       "[1000 rows x 6 columns]"
      ]
     },
     "execution_count": 34,
     "metadata": {},
     "output_type": "execute_result"
    }
   ],
   "source": [
    "test_df.head(1000)"
   ]
  },
  {
   "cell_type": "code",
   "execution_count": 255,
   "metadata": {
    "scrolled": true
   },
   "outputs": [
    {
     "data": {
      "text/plain": [
       "'When I first saw the Premiere Episode of Farscape, I had no idea what to expect. I was immensely impressed and satisfied with \"Premiere\". Subsequent re-watches, however, have made numerous flaws apparent to me that I missed initially. \"Premiere\" is not a great Farscape Episode, but it deserves credit for successfully and efficiently setting up the plot and giving the basic back stories to many of the regular characters.<br /><br />The episode begins with John Crichton (Ben Browder), an astronaut and scientist, preparing to launch into space in the Farscape Module, a small space ship perfected by Crichton and his friend DK. Crichton has a revealing conversation with his father, Jack Crichton, and then begins his test flight in space. Of course, everything goes wrong and Crichton is \"shot through a wormhole\" and winds up in \"a distant part of the galaxy\".<br /><br />After exiting the wormhole, Crichton\\'s module is pulled on board a living space ship. From here, the characters and story line for the Farscape series are introduced in an entertaining albeit rushed manner.<br /><br />The regular characters are properly introduced during the first half of the episode. Of course, there is Crichton, played well by Ben Browder. He offers a the audience a sympathetic character to identify with. He\\'s lost and has no idea how to do much of anything. In \"Premiere\", Crichton has to choose between joining the prisoners or the Peacekeepers. He knows nothing at all about either side, but in helping Aeryn (a captured Peacekeeper pilot) it becomes clear that he intends to help the Peacekeepers. He probably would not have ended up siding with the prisoners if it hadn\\'t been for Crais, a Peacekeeper captain, declaring Crichton to be the murderer of his brother. This puts Crichton in an interesting situation: he\\'s stuck with bizarre, violent escaped prisoners in a far-off galaxy about which he knows nothing at all. Crichton\\'s total lack of knowledge of the Farsape world makes him a particularly interesting protagonist during Farscape\\'s first season.<br /><br />The supporting cast is just as compelling. There\\'s Zhaan, a blue Delvian and former prisoner. She\\'s peaceful and reasonable, as opposed to fellow prisoner Ka D\\'Argo, a powerful and hard-headed warrior. Virginia Hey is totally covered in blue makeup, allowing her character of Zhaan to appear cool and convincing. D\\'Argo\\'s mega-makeup, in contrast, is below-par. He looks kind of silly with his giant tentacles and strange nose, and there is something peculiar about his eyes. They look as if they have had some sort of allergic reaction to his makeup. Farscape would give some improvements to his makeup in Season 1, but the overall costume would, for me at least, remain as a problem until Season 2.<br /><br />The puppet/digital characters of Rygel and Pilot are, to put it simply, excellent. Rygel is a tiny Hynerian Dominar who floats around on some sort of hovercraft. In \"Premiere\" he is given some good dialogue but not much else. Pilot nearly steals the show as the liaison between the living ship, Moya, and Moya\\'s passengers. Even in the first episode, Pilot gives off the appearance of being a real, living alien; he never once in the show seems to be a giant, expensive machine.<br /><br />The Peacekeeper characters introduced are quite interesting as well. The Peacekeepers are made up of a race called Sebaceans, who look just like humans. The chief antagonist is introduced in \"Premiere\" as Captian Crais, who believes that Crichton killed his brother. In reality, Crais\\'s brother\\'s death was merely an accident resulting from an accidental collision with Crichton\\'s ship. Aeryn Sun, a pilot who Crichton helps escape, tries to explain that the death was an accident, but Crais just claims that she is \"irreversiby contaminated\" and refused to change his mind. Crais obsession for revenge, warranted or not (it should be clear to Crais that Crichton isn\\'t responsible), is mysterious in \"Premiere\", but would be explained later in the season. Aeryn herself provides an extremely interesting character. By being forced to leave the Peacekeepers, she changes her whole way of life, and is in that regard in a similar (though less severe) situation as Crichton.<br /><br />The actual episode, as mentioned earlier, feels somewhat rushed and clunky. So much happens that not enough time is spent on anything. Also, D\\'Argo (for now) looks kind of silly running around in his mediocre costume trying to appear menacing. Still, \"Premiere\" is solid entertainment. The special effects (such as in the starburst sequences) are impressive. Most of the costumes and the sets on board Moya are original. Despite its flaws, \"Premiere\" is a must-see for Farscape fans. 3/4'"
      ]
     },
     "execution_count": 255,
     "metadata": {},
     "output_type": "execute_result"
    }
   ],
   "source": [
    "test_df[(test_df.labels>.4) & (test_df.labels<.5)].text.iloc[10]"
   ]
  },
  {
   "cell_type": "code",
   "execution_count": 36,
   "metadata": {},
   "outputs": [],
   "source": [
    "# Save submission\n",
    "\n",
    "test_df[[\"id\", \"labels\"]].to_csv(\"submission_8.27.csv\", index=False)"
   ]
  },
  {
   "cell_type": "markdown",
   "metadata": {},
   "source": [
    "8.18:\n",
    "Our predictions are working well w the validation set, but not w test set. Test set is predicting mostly negative, although the directionality appears correct. what to do?\n",
    "\n",
    "added test_dl to md. Trying again w fresh classifier. The mean looks good after training two epochs. Training for three more epochs, see if it remains balanced. out of memory error. submit this version to test. gets #5 on leaderboard. bce of around .25 or .27. Train more and see how it improves. training improves w single unfrozen layer. But! With two unfrozen layers, gets unbalanced again!\n",
    "\n",
    "Start afresh. Unfreeze a single layer. trained again. saved. ready for submission."
   ]
  },
  {
   "cell_type": "markdown",
   "metadata": {
    "colab": {},
    "colab_type": "code",
    "id": "OqgYMLn5Byb5"
   },
   "source": [
    "8.23\n",
    "Moving to AWS and increasing batch size and bptt length, first insight was that we're able to train our LM to a much better level. That was promising. Second problem we're still running into is that our first training loss drops way to fast, to not believable levels. this correlates w having way skewed predictions. We've brought in JH's parameters from his imdb folder and are now experimenting w increasing the dropout multiplier. \n",
    "\n",
    "why would accuracy be too high? how could that happen? Could we possibly have duplicates w/in the training data set? "
   ]
  },
  {
   "cell_type": "markdown",
   "metadata": {
    "colab_type": "text",
    "id": "WZ1OFAsaMWg2"
   },
   "source": [
    "## Fin"
   ]
  },
  {
   "cell_type": "code",
   "execution_count": null,
   "metadata": {
    "colab": {},
    "colab_type": "code",
    "id": "Uqeysp4vMWg3"
   },
   "outputs": [],
   "source": [
    "learn.sched.plot_loss()"
   ]
  }
 ],
 "metadata": {
  "accelerator": "GPU",
  "colab": {
   "collapsed_sections": [],
   "name": "imdb_D.ipynb",
   "provenance": [],
   "version": "0.3.2"
  },
  "kernelspec": {
   "display_name": "Python 3",
   "language": "python",
   "name": "python3"
  },
  "language_info": {
   "codemirror_mode": {
    "name": "ipython",
    "version": 3
   },
   "file_extension": ".py",
   "mimetype": "text/x-python",
   "name": "python",
   "nbconvert_exporter": "python",
   "pygments_lexer": "ipython3",
   "version": "3.6.6"
  }
 },
 "nbformat": 4,
 "nbformat_minor": 1
}
