{
 "cells": [
  {
   "cell_type": "markdown",
   "metadata": {
    "colab_type": "text",
    "id": "wtzJO_iVMWcm"
   },
   "source": [
    "\n",
    "## IMDb"
   ]
  },
  {
   "cell_type": "markdown",
   "metadata": {
    "colab_type": "text",
    "id": "loEJj5O7J0Ex"
   },
   "source": [
    "\n",
    "\n",
    "figure out how to save model. \n",
    "upload data from deloitte,  process test data in same way as other data. \n",
    "get a good pred, upload\n",
    "\n",
    "data in. rationalize data structure. had mismatch with max 1000"
   ]
  },
  {
   "cell_type": "markdown",
   "metadata": {
    "colab_type": "text",
    "id": "T9jMDrgPMWcn"
   },
   "source": [
    "At Fast.ai we have introduced a new module called fastai.text which replaces the torchtext library that was used in our 2018 dl1 course. The fastai.text module also supersedes the fastai.nlp library but retains many of the key functions."
   ]
  },
  {
   "cell_type": "code",
   "execution_count": 1,
   "metadata": {
    "colab": {
     "base_uri": "https://localhost:8080/",
     "height": 3733
    },
    "colab_type": "code",
    "id": "CGv--rGmMxbT",
    "outputId": "60015313-1b3b-4846-bc08-3503eb8b0699"
   },
   "outputs": [],
   "source": [
    "#!pip install git+https://github.com/fastai/fastai.git # grabbing latest version\n",
    "#!pip install spacy\n",
    "#!python -m spacy download en"
   ]
  },
  {
   "cell_type": "code",
   "execution_count": 2,
   "metadata": {
    "colab": {},
    "colab_type": "code",
    "id": "qGNYbbAHMWcp"
   },
   "outputs": [
    {
     "name": "stderr",
     "output_type": "stream",
     "text": [
      "C:\\Users\\rudyg\\AppData\\Local\\conda\\conda\\envs\\fastai\\lib\\site-packages\\sklearn\\ensemble\\weight_boosting.py:29: DeprecationWarning: numpy.core.umath_tests is an internal NumPy module and should not be imported. It will be removed in a future NumPy release.\n",
      "  from numpy.core.umath_tests import inner1d\n",
      "C:\\Users\\rudyg\\AppData\\Local\\conda\\conda\\envs\\fastai\\lib\\importlib\\_bootstrap.py:219: RuntimeWarning: numpy.dtype size changed, may indicate binary incompatibility. Expected 96, got 88\n",
      "  return f(*args, **kwds)\n",
      "C:\\Users\\rudyg\\AppData\\Local\\conda\\conda\\envs\\fastai\\lib\\importlib\\_bootstrap.py:219: RuntimeWarning: numpy.ufunc size changed, may indicate binary incompatibility. Expected 192, got 176\n",
      "  return f(*args, **kwds)\n"
     ]
    }
   ],
   "source": [
    "from fastai.text import *\n",
    "import html"
   ]
  },
  {
   "cell_type": "markdown",
   "metadata": {
    "colab_type": "text",
    "id": "g86Ey53PMWcv"
   },
   "source": [
    "The Fastai.text module introduces several custom tokens.\n",
    "\n",
    "We need to download the IMDB large movie reviews from this site: http://ai.stanford.edu/~amaas/data/sentiment/\n",
    "Direct link : [Link](http://ai.stanford.edu/~amaas/data/sentiment/aclImdb_v1.tar.gz) and untar it into the PATH location. We use pathlib which makes directory traveral a breeze."
   ]
  },
  {
   "cell_type": "code",
   "execution_count": 3,
   "metadata": {
    "colab": {},
    "colab_type": "code",
    "id": "lqqb_xRRMWcw"
   },
   "outputs": [],
   "source": [
    "BOS = 'xbos'  # beginning-of-sentence tag\n",
    "FLD = 'xfld'  # data field tag\n",
    "\n",
    "PATH=Path('imdb_data/aclImdb/')"
   ]
  },
  {
   "cell_type": "code",
   "execution_count": 4,
   "metadata": {
    "colab": {},
    "colab_type": "code",
    "id": "Eva7LVasSRWI"
   },
   "outputs": [],
   "source": [
    "#!mkdir \"imdb_data\""
   ]
  },
  {
   "cell_type": "markdown",
   "metadata": {
    "colab_type": "text",
    "id": "kNbwDW_UMWc0"
   },
   "source": [
    "## Standardize format"
   ]
  },
  {
   "cell_type": "code",
   "execution_count": 5,
   "metadata": {
    "colab": {},
    "colab_type": "code",
    "id": "kz3P4RXaMWc1"
   },
   "outputs": [],
   "source": [
    "CLAS_PATH=Path('imdb_data/imdb_clas/')\n",
    "CLAS_PATH.mkdir(exist_ok=True)\n",
    "\n",
    "LM_PATH=Path('imdb_data/imdb_lm/')\n",
    "LM_PATH.mkdir(exist_ok=True)"
   ]
  },
  {
   "cell_type": "markdown",
   "metadata": {
    "colab_type": "text",
    "id": "cEeU74qNMWc5"
   },
   "source": [
    "The imdb dataset has 3 classes. positive, negative and unsupervised(sentiment is unknown). \n",
    "There are 75k training reviews(12.5k pos, 12.5k neg, 50k unsup)\n",
    "There are 25k validation reviews(12.5k pos, 12.5k neg & no unsup)\n",
    "\n",
    "Refer to the README file in the imdb corpus for further information about the dataset."
   ]
  },
  {
   "cell_type": "code",
   "execution_count": 5,
   "metadata": {
    "colab": {},
    "colab_type": "code",
    "id": "vodLUCvlMWdD"
   },
   "outputs": [],
   "source": [
    "col_names = ['labels','text']"
   ]
  },
  {
   "cell_type": "code",
   "execution_count": 6,
   "metadata": {
    "colab": {
     "base_uri": "https://localhost:8080/",
     "height": 101
    },
    "colab_type": "code",
    "id": "Ypq-v2ynRJtt",
    "outputId": "82c6a7c6-83a4-46d2-9a33-ee2a571c3cfa"
   },
   "outputs": [],
   "source": [
    "\n",
    "# Grabbing D data\n",
    "#!git clone https://github.com/rgilman33/imdb_sync.git"
   ]
  },
  {
   "cell_type": "code",
   "execution_count": 7,
   "metadata": {
    "colab": {
     "base_uri": "https://localhost:8080/",
     "height": 212
    },
    "colab_type": "code",
    "id": "8xt3kmJOZXOA",
    "outputId": "731c7b8c-9d2b-4f9a-f92d-15917bfdf086"
   },
   "outputs": [
    {
     "name": "stderr",
     "output_type": "stream",
     "text": [
      "C:\\Users\\rudyg\\AppData\\Local\\conda\\conda\\envs\\fastai\\lib\\site-packages\\ipykernel_launcher.py:8: FutureWarning: Sorting because non-concatenation axis is not aligned. A future version\n",
      "of pandas will change to not sort by default.\n",
      "\n",
      "To accept the future behavior, pass 'sort=False'.\n",
      "\n",
      "To retain the current behavior and silence the warning, pass 'sort=True'.\n",
      "\n",
      "  \n"
     ]
    },
    {
     "name": "stdout",
     "output_type": "stream",
     "text": [
      "50000\n"
     ]
    },
    {
     "data": {
      "text/html": [
       "<div>\n",
       "<style scoped>\n",
       "    .dataframe tbody tr th:only-of-type {\n",
       "        vertical-align: middle;\n",
       "    }\n",
       "\n",
       "    .dataframe tbody tr th {\n",
       "        vertical-align: top;\n",
       "    }\n",
       "\n",
       "    .dataframe thead th {\n",
       "        text-align: right;\n",
       "    }\n",
       "</style>\n",
       "<table border=\"1\" class=\"dataframe\">\n",
       "  <thead>\n",
       "    <tr style=\"text-align: right;\">\n",
       "      <th></th>\n",
       "      <th>dataset</th>\n",
       "      <th>id</th>\n",
       "      <th>labels</th>\n",
       "      <th>text</th>\n",
       "    </tr>\n",
       "  </thead>\n",
       "  <tbody>\n",
       "    <tr>\n",
       "      <th>0</th>\n",
       "      <td>train</td>\n",
       "      <td>2592</td>\n",
       "      <td>0</td>\n",
       "      <td>Un-bleeping-believable! Meg Ryan doesn't even ...</td>\n",
       "    </tr>\n",
       "    <tr>\n",
       "      <th>1</th>\n",
       "      <td>train</td>\n",
       "      <td>18359</td>\n",
       "      <td>1</td>\n",
       "      <td>This is a extremely well-made film. The acting...</td>\n",
       "    </tr>\n",
       "    <tr>\n",
       "      <th>2</th>\n",
       "      <td>train</td>\n",
       "      <td>1040</td>\n",
       "      <td>0</td>\n",
       "      <td>Every once in a long while a movie will come a...</td>\n",
       "    </tr>\n",
       "    <tr>\n",
       "      <th>3</th>\n",
       "      <td>train</td>\n",
       "      <td>17262</td>\n",
       "      <td>1</td>\n",
       "      <td>Name just says it all. I watched this movie wi...</td>\n",
       "    </tr>\n",
       "    <tr>\n",
       "      <th>4</th>\n",
       "      <td>train</td>\n",
       "      <td>9908</td>\n",
       "      <td>0</td>\n",
       "      <td>This movie succeeds at being one of the most u...</td>\n",
       "    </tr>\n",
       "  </tbody>\n",
       "</table>\n",
       "</div>"
      ],
      "text/plain": [
       "  dataset     id  labels                                               text\n",
       "0   train   2592       0  Un-bleeping-believable! Meg Ryan doesn't even ...\n",
       "1   train  18359       1  This is a extremely well-made film. The acting...\n",
       "2   train   1040       0  Every once in a long while a movie will come a...\n",
       "3   train  17262       1  Name just says it all. I watched this movie wi...\n",
       "4   train   9908       0  This movie succeeds at being one of the most u..."
      ]
     },
     "execution_count": 7,
     "metadata": {},
     "output_type": "execute_result"
    }
   ],
   "source": [
    "# Reading in the train set and the test set. Creating single df w everthing.\n",
    "\n",
    "df_trn = pd.read_csv(\"train.csv\")\n",
    "df_test = pd.read_csv(\"test.csv\")\n",
    "df_trn[\"dataset\"] = \"train\"; df_test[\"dataset\"] = \"test\"\n",
    "df_test[\"labels\"] = 3\n",
    "\n",
    "df = pd.concat([df_trn, df_test], axis=0); print(len(df))\n",
    "df.head()"
   ]
  },
  {
   "cell_type": "code",
   "execution_count": 8,
   "metadata": {},
   "outputs": [],
   "source": [
    "df_trn = pd.read_csv(\"train.csv\")\n",
    "df_test = pd.read_csv(\"test.csv\")"
   ]
  },
  {
   "cell_type": "code",
   "execution_count": 9,
   "metadata": {},
   "outputs": [
    {
     "data": {
      "text/plain": [
       "('This film is the freshman effort of Stephanie Beaton and her new production company. While it suffers from a few problems, as every low budget production does, it is a good start for Ms. Beaton and her company.<br /><br />The story is not terribly new having been done in films like The Burning and every Friday the 13th since part 2. But, the performances are heartfelt. So many big budget movies just have the actors going through the motions, its always nice to see actors really trying to hone their craft.<br /><br />The story deals with the murder(and possible return) of a disfigured classmate. The others are sworn to secrecy, but the trauma of the event sends each person in different directions in their lifes. Ten years later, the friends are murdered one by one by a gruesome stalker known as \"The Bagman\". Who will survive? You have to watch.<br /><br />If you are Roger Ebert or any number of arrogant critics, you probably shouldn\\'t bother. But if your taste run more towards Joe Bob Briggs and you want to see a group of people honing their craft, then check out \"The Bagman\".',\n",
       " \"Have wanted to see this for a while: I never thought I'd be watching it in a damp Trafalgar Square, London with 15,000 other people and all to a new score by the Pet Shop Boys.<br /><br />Quickly, that experience specifically. A new departure from PSB, it seemed to suffer from the same problem the miniaturist Hugo Wolf had when he wrote his opera Der Corregidor: the long structure was a chain of short ones, i.e. songs. PSB produced a more fluid, integrated score although it was quite static on its own terms. Neither could they resist song: a setting of the subtitled text worked in this respect a free standing meditation on the action of the Odessa steps massacre during the action of that sequence itself was, I'd go so far to say, counterproductive. Overall it was very exciting though, which is surely what Eisenstein was trying to achieve.<br /><br />It is a very exciting film with choppier editing taking the place of acceleration of tension or action. In fact the film, though beautifully shot and passionately acted (it has a silent film melodrama, but not in the excess of the Hollywood comic style) breathes through its careful editing pacing specific shots with a sense of the rate at which the audience will take them in. And there's a huge range of perspective too; either he had a lot of cameras or the sequences on the harbor and steps took a great deal of time.<br /><br />Super film, which can be assessed irrespective of sound, as that's how the finished product would have been conceived. 8/10\")"
      ]
     },
     "execution_count": 9,
     "metadata": {},
     "output_type": "execute_result"
    }
   ],
   "source": [
    "i = 8\n",
    "df_trn.text.iloc[i], df_test.text.iloc[i]"
   ]
  },
  {
   "cell_type": "code",
   "execution_count": 10,
   "metadata": {},
   "outputs": [
    {
     "data": {
      "text/plain": [
       "(1325.31292, 1294.0274)"
      ]
     },
     "execution_count": 10,
     "metadata": {},
     "output_type": "execute_result"
    }
   ],
   "source": [
    "df_trn.text.str.len().mean(), df_test.text.str.len().mean()"
   ]
  },
  {
   "cell_type": "code",
   "execution_count": 11,
   "metadata": {
    "colab": {},
    "colab_type": "code",
    "id": "hpoOrPz-X0ou"
   },
   "outputs": [],
   "source": [
    "# For dev, use sample\n",
    "\n",
    "\n",
    "#df = df.sample(3000, random_state=2)"
   ]
  },
  {
   "cell_type": "code",
   "execution_count": 12,
   "metadata": {
    "colab": {},
    "colab_type": "code",
    "id": "bww08L1bStmw"
   },
   "outputs": [],
   "source": [
    "# Saving to csv to open again with chunks\n",
    "\n",
    "df.to_csv(LM_PATH/'df.csv', header=False, index=False)"
   ]
  },
  {
   "cell_type": "markdown",
   "metadata": {
    "colab_type": "text",
    "id": "pjMG9rxiO9-3"
   },
   "source": [
    "## Language model tokens"
   ]
  },
  {
   "cell_type": "markdown",
   "metadata": {
    "colab_type": "text",
    "id": "_QWoYYt0MWdj"
   },
   "source": [
    "In this section, we start cleaning up the messy text. There are 2 main activities we need to perform:\n",
    "\n",
    "1. Clean up extra spaces, tab chars, new ln chars and other characters and replace them with standard ones\n",
    "2. Use the awesome [spacy](http://spacy.io) library to tokenize the data. Since spacy does not provide a parallel/multicore version of the tokenizer, the fastai library adds this functionality. This parallel version uses all the cores of your CPUs and runs much faster than the serial version of the spacy tokenizer.\n",
    "\n",
    "Tokenization is the process of splitting the text into separate tokens so that each token can be assigned a unique index. This means we can convert the text into integer indexes our models can use.\n",
    "\n",
    "We use an appropriate chunksize as the tokenization process is memory intensive"
   ]
  },
  {
   "cell_type": "code",
   "execution_count": 13,
   "metadata": {
    "colab": {},
    "colab_type": "code",
    "id": "2qLPT5QtMWdk"
   },
   "outputs": [],
   "source": [
    "chunksize= 5000 # 24000"
   ]
  },
  {
   "cell_type": "code",
   "execution_count": 14,
   "metadata": {
    "colab": {},
    "colab_type": "code",
    "id": "URPNdSmqMWdn"
   },
   "outputs": [],
   "source": [
    "re1 = re.compile(r'  +')\n",
    "\n",
    "def fixup(x):\n",
    "    x = x.replace('#39;', \"'\").replace('amp;', '&').replace('#146;', \"'\").replace(\n",
    "        'nbsp;', ' ').replace('#36;', '$').replace('\\\\n', \"\\n\").replace('quot;', \"'\").replace(\n",
    "        '<br />', \"\\n\").replace('\\\\\"', '\"').replace('<unk>','u_n').replace(' @.@ ','.').replace(\n",
    "        ' @-@ ','-').replace('\\\\', ' \\\\ ')\n",
    "    return re1.sub(' ', html.unescape(x))"
   ]
  },
  {
   "cell_type": "code",
   "execution_count": 15,
   "metadata": {
    "colab": {},
    "colab_type": "code",
    "id": "wrAqnwZiMWdq"
   },
   "outputs": [],
   "source": [
    "def get_texts(df, n_lbls=1):\n",
    "    #labels = df.iloc[:,range(n_lbls)].values.astype(np.int64)\n",
    "    texts = f'\\n{BOS} {FLD} 1 ' + df[n_lbls].astype(str)\n",
    "    for i in range(n_lbls+1, len(df.columns)): texts += f' {FLD} {i-n_lbls} ' + df[i].astype(str)\n",
    "    texts = list(texts.apply(fixup).values)\n",
    "\n",
    "    tok = Tokenizer().proc_all_mp(partition_by_cores(texts))\n",
    "    return tok"
   ]
  },
  {
   "cell_type": "code",
   "execution_count": 16,
   "metadata": {
    "colab": {},
    "colab_type": "code",
    "id": "fELR8np1MWdu"
   },
   "outputs": [],
   "source": [
    "def get_all(df, n_lbls):\n",
    "    tok = []\n",
    "    for i, r in enumerate(df):\n",
    "        print(i)\n",
    "        tok_ = get_texts(r, n_lbls)\n",
    "        tok += tok_;\n",
    "    return tok"
   ]
  },
  {
   "cell_type": "code",
   "execution_count": 17,
   "metadata": {
    "colab": {},
    "colab_type": "code",
    "id": "Q_SDTbi6MWdw"
   },
   "outputs": [],
   "source": [
    "# Reading back in with chunks\n",
    "\n",
    "df_chunks = pd.read_csv(LM_PATH/'df.csv', header=None, chunksize=chunksize)"
   ]
  },
  {
   "cell_type": "code",
   "execution_count": 18,
   "metadata": {
    "colab": {
     "base_uri": "https://localhost:8080/",
     "height": 50
    },
    "colab_type": "code",
    "id": "U5hg58Q7MWdy",
    "outputId": "25b120a7-b4fd-46fa-bb44-1de80ba88c9f"
   },
   "outputs": [
    {
     "name": "stdout",
     "output_type": "stream",
     "text": [
      "0\n"
     ]
    },
    {
     "name": "stderr",
     "output_type": "stream",
     "text": [
      "C:\\Users\\rudyg\\AppData\\Local\\conda\\conda\\envs\\fastai\\lib\\importlib\\_bootstrap.py:219: RuntimeWarning: numpy.dtype size changed, may indicate binary incompatibility. Expected 96, got 88\n",
      "  return f(*args, **kwds)\n",
      "C:\\Users\\rudyg\\AppData\\Local\\conda\\conda\\envs\\fastai\\lib\\importlib\\_bootstrap.py:219: RuntimeWarning: numpy.ufunc size changed, may indicate binary incompatibility. Expected 192, got 176\n",
      "  return f(*args, **kwds)\n"
     ]
    },
    {
     "name": "stdout",
     "output_type": "stream",
     "text": [
      "1\n",
      "2\n",
      "3\n",
      "4\n",
      "5\n",
      "6\n",
      "7\n",
      "8\n",
      "9\n"
     ]
    },
    {
     "data": {
      "text/plain": [
       "50000"
      ]
     },
     "execution_count": 18,
     "metadata": {},
     "output_type": "execute_result"
    }
   ],
   "source": [
    "# getting list of tokenized lists\n",
    "\n",
    "tok_text = get_all(df_chunks, 1)\n",
    "len(tok_text)"
   ]
  },
  {
   "cell_type": "code",
   "execution_count": 19,
   "metadata": {
    "colab": {},
    "colab_type": "code",
    "id": "smXWTQAviMAE"
   },
   "outputs": [],
   "source": [
    "# adding back to df\n",
    "df[\"tokenized_text\"] = tok_text"
   ]
  },
  {
   "cell_type": "markdown",
   "metadata": {},
   "source": [
    "create symlink to spacy en model\n",
    "\n",
    "mklink C:\\Users\\rudyg\\AppData\\Local\\conda\\conda\\envs\\fastai\\lib\\site-packages\\spacy\\data\\en C:\\Users\\rudyg\\AppData\\Local\\conda\\conda\\envs\\fastai\\lib\\site-packages\\en_core_web_sm"
   ]
  },
  {
   "cell_type": "code",
   "execution_count": 20,
   "metadata": {
    "colab": {
     "base_uri": "https://localhost:8080/",
     "height": 353
    },
    "colab_type": "code",
    "id": "qD4exjCsMWd1",
    "outputId": "c1781f88-9810-4e5e-b715-4c6116025f61"
   },
   "outputs": [
    {
     "data": {
      "text/plain": [
       "['\\n',\n",
       " 'xbos',\n",
       " 'xfld',\n",
       " '1',\n",
       " '2592',\n",
       " 'xfld',\n",
       " '1',\n",
       " '0',\n",
       " 'xfld',\n",
       " '2',\n",
       " 'un',\n",
       " '-',\n",
       " 'bleeping',\n",
       " '-',\n",
       " 'believable',\n",
       " '!',\n",
       " 'meg',\n",
       " 'ryan',\n",
       " 'does',\n",
       " \"n't\"]"
      ]
     },
     "execution_count": 20,
     "metadata": {},
     "output_type": "execute_result"
    }
   ],
   "source": [
    "df.tokenized_text.iloc[0][:20]"
   ]
  },
  {
   "cell_type": "code",
   "execution_count": 21,
   "metadata": {
    "colab": {
     "base_uri": "https://localhost:8080/",
     "height": 437
    },
    "colab_type": "code",
    "id": "n5wVLf_kMWeA",
    "outputId": "94eae392-b273-4dda-cc4b-e8718e790be1"
   },
   "outputs": [
    {
     "data": {
      "text/plain": [
       "[('the', 666238),\n",
       " ('.', 549276),\n",
       " (',', 542898),\n",
       " ('and', 323667),\n",
       " ('a', 321663),\n",
       " ('of', 289313),\n",
       " ('to', 267950),\n",
       " ('is', 217126),\n",
       " ('it', 189546),\n",
       " ('in', 186509),\n",
       " ('i', 173646),\n",
       " ('this', 150480),\n",
       " ('xfld', 150000),\n",
       " ('that', 144270),\n",
       " ('\"', 130201),\n",
       " (\"'s\", 121976),\n",
       " ('1', 116114),\n",
       " ('-', 103672),\n",
       " ('was', 100025),\n",
       " ('\\n\\n', 98729),\n",
       " ('as', 91576),\n",
       " ('movie', 87553),\n",
       " ('for', 87334),\n",
       " ('with', 87262),\n",
       " ('but', 83204)]"
      ]
     },
     "execution_count": 21,
     "metadata": {},
     "output_type": "execute_result"
    }
   ],
   "source": [
    "freq = Counter(p for o in df.tokenized_text for p in o)\n",
    "freq.most_common(25)"
   ]
  },
  {
   "cell_type": "markdown",
   "metadata": {
    "colab_type": "text",
    "id": "Cx0ZYjSlMWeE"
   },
   "source": [
    "The *vocab* is the **unique set of all tokens** in our dataset. The vocab provides us a way for us to simply replace each word in our datasets with a unique integer called an index.\n",
    "\n",
    "In a large corpus of data one might find some rare words which are only used a few times in the whole dataset. We discard such rare words and avoid trying to learn meaningful patterns out of them.\n",
    "\n",
    "Here we have set a minimum frequency of occurence to 2 times. It has been observed by NLP practicioners that a maximum vocab of 60k usually yields good results for classification tasks. So we set maz_vocab to 60000."
   ]
  },
  {
   "cell_type": "code",
   "execution_count": 22,
   "metadata": {
    "colab": {},
    "colab_type": "code",
    "id": "Du0W05vYMWeF"
   },
   "outputs": [],
   "source": [
    "max_vocab = 60000\n",
    "min_freq = 2"
   ]
  },
  {
   "cell_type": "code",
   "execution_count": 23,
   "metadata": {
    "colab": {},
    "colab_type": "code",
    "id": "4BtZ471qMWeJ"
   },
   "outputs": [],
   "source": [
    "itos = [o for o,c in freq.most_common(max_vocab) if c>min_freq]\n",
    "itos.insert(0, '_pad_')\n",
    "itos.insert(0, '_unk_')"
   ]
  },
  {
   "cell_type": "markdown",
   "metadata": {
    "colab_type": "text",
    "id": "bPawBklfMWeK"
   },
   "source": [
    "We create a reverse mapping called stoi which is useful to lookup the index of a given token. stoi also has the same number of elements as itos. We use a high performance container called [collections.defaultdict](https://docs.python.org/2/library/collections.html#collections.defaultdict) to store our stoi mapping."
   ]
  },
  {
   "cell_type": "code",
   "execution_count": 24,
   "metadata": {
    "colab": {
     "base_uri": "https://localhost:8080/",
     "height": 34
    },
    "colab_type": "code",
    "id": "K1ZG2GZFMWeL",
    "outputId": "50812ddd-1ff9-4dfa-9105-4c06f114536b"
   },
   "outputs": [
    {
     "data": {
      "text/plain": [
       "52315"
      ]
     },
     "execution_count": 24,
     "metadata": {},
     "output_type": "execute_result"
    }
   ],
   "source": [
    "stoi = collections.defaultdict(lambda:0, {v:k for k,v in enumerate(itos)})\n",
    "len(stoi)"
   ]
  },
  {
   "cell_type": "code",
   "execution_count": 25,
   "metadata": {
    "colab": {
     "base_uri": "https://localhost:8080/",
     "height": 34
    },
    "colab_type": "code",
    "id": "-W8I_gjIUtOp",
    "outputId": "f376b359-162f-4b45-fe82-f19811eb9ec0"
   },
   "outputs": [
    {
     "data": {
      "text/plain": [
       "(2, 1182)"
      ]
     },
     "execution_count": 25,
     "metadata": {},
     "output_type": "execute_result"
    }
   ],
   "source": [
    "stoi[\"the\"], stoi[\"awesome\"]"
   ]
  },
  {
   "cell_type": "code",
   "execution_count": 26,
   "metadata": {
    "colab": {},
    "colab_type": "code",
    "id": "HNE4IvY2MWeN"
   },
   "outputs": [],
   "source": [
    "numerized_tokens = [[stoi[o] for o in p] for p in df.tokenized_text]"
   ]
  },
  {
   "cell_type": "code",
   "execution_count": 27,
   "metadata": {
    "colab": {
     "base_uri": "https://localhost:8080/",
     "height": 34
    },
    "colab_type": "code",
    "id": "mXWgHHuLMWeQ",
    "outputId": "d38398b5-6923-4100-9a5a-c89d342ec09b"
   },
   "outputs": [
    {
     "data": {
      "text/plain": [
       "(50000, 97)"
      ]
     },
     "execution_count": 27,
     "metadata": {},
     "output_type": "execute_result"
    }
   ],
   "source": [
    "len(numerized_tokens), len(numerized_tokens[0])"
   ]
  },
  {
   "cell_type": "code",
   "execution_count": 28,
   "metadata": {
    "colab": {},
    "colab_type": "code",
    "id": "3qQKs2EvMWeS"
   },
   "outputs": [],
   "source": [
    "df[\"numerized_tokens\"] = numerized_tokens"
   ]
  },
  {
   "cell_type": "code",
   "execution_count": 29,
   "metadata": {
    "colab": {
     "base_uri": "https://localhost:8080/",
     "height": 353
    },
    "colab_type": "code",
    "id": "Me-x0LiCVtEG",
    "outputId": "a689dacf-bb0b-49e6-cdac-bc81fdc81b99"
   },
   "outputs": [
    {
     "data": {
      "text/plain": [
       "[42,\n",
       " 43,\n",
       " 14,\n",
       " 18,\n",
       " 0,\n",
       " 14,\n",
       " 18,\n",
       " 136,\n",
       " 14,\n",
       " 39,\n",
       " 2774,\n",
       " 19,\n",
       " 36953,\n",
       " 19,\n",
       " 840,\n",
       " 48,\n",
       " 4952,\n",
       " 1667,\n",
       " 92,\n",
       " 31]"
      ]
     },
     "execution_count": 29,
     "metadata": {},
     "output_type": "execute_result"
    }
   ],
   "source": [
    "df[\"numerized_tokens\"].iloc[0][:20]"
   ]
  },
  {
   "cell_type": "code",
   "execution_count": 30,
   "metadata": {
    "colab": {
     "base_uri": "https://localhost:8080/",
     "height": 34
    },
    "colab_type": "code",
    "id": "8q33ej8WMWeU",
    "outputId": "9af2c086-a780-48c6-b795-6d6cdb4c0dca"
   },
   "outputs": [
    {
     "data": {
      "text/plain": [
       "52315"
      ]
     },
     "execution_count": 30,
     "metadata": {},
     "output_type": "execute_result"
    }
   ],
   "source": [
    "vs=len(itos); vs"
   ]
  },
  {
   "cell_type": "code",
   "execution_count": 31,
   "metadata": {},
   "outputs": [],
   "source": [
    "df.to_csv(\"prepped_data.csv\")"
   ]
  },
  {
   "cell_type": "code",
   "execution_count": 6,
   "metadata": {},
   "outputs": [
    {
     "name": "stdout",
     "output_type": "stream",
     "text": [
      "50000\n"
     ]
    }
   ],
   "source": [
    "# Grabbing prepped data\n",
    "\n",
    "df = pd.read_csv(\"prepped_data.csv\"); print(len(df))\n",
    "vs = 52315 # manually set this to match above\n",
    "\n",
    "import ast\n",
    "df[\"numerized_tokens\"] = df[\"numerized_tokens\"].apply(lambda x: ast.literal_eval(x))"
   ]
  },
  {
   "cell_type": "code",
   "execution_count": 7,
   "metadata": {
    "scrolled": true
   },
   "outputs": [
    {
     "data": {
      "text/html": [
       "<div>\n",
       "<style scoped>\n",
       "    .dataframe tbody tr th:only-of-type {\n",
       "        vertical-align: middle;\n",
       "    }\n",
       "\n",
       "    .dataframe tbody tr th {\n",
       "        vertical-align: top;\n",
       "    }\n",
       "\n",
       "    .dataframe thead th {\n",
       "        text-align: right;\n",
       "    }\n",
       "</style>\n",
       "<table border=\"1\" class=\"dataframe\">\n",
       "  <thead>\n",
       "    <tr style=\"text-align: right;\">\n",
       "      <th></th>\n",
       "      <th>Unnamed: 0</th>\n",
       "      <th>dataset</th>\n",
       "      <th>id</th>\n",
       "      <th>labels</th>\n",
       "      <th>text</th>\n",
       "      <th>tokenized_text</th>\n",
       "      <th>numerized_tokens</th>\n",
       "    </tr>\n",
       "  </thead>\n",
       "  <tbody>\n",
       "    <tr>\n",
       "      <th>0</th>\n",
       "      <td>0</td>\n",
       "      <td>train</td>\n",
       "      <td>2592</td>\n",
       "      <td>0</td>\n",
       "      <td>Un-bleeping-believable! Meg Ryan doesn't even ...</td>\n",
       "      <td>['\\n', 'xbos', 'xfld', '1', '2592', 'xfld', '1...</td>\n",
       "      <td>[42, 43, 14, 18, 0, 14, 18, 136, 14, 39, 2774,...</td>\n",
       "    </tr>\n",
       "    <tr>\n",
       "      <th>1</th>\n",
       "      <td>1</td>\n",
       "      <td>train</td>\n",
       "      <td>18359</td>\n",
       "      <td>1</td>\n",
       "      <td>This is a extremely well-made film. The acting...</td>\n",
       "      <td>['\\n', 'xbos', 'xfld', '1', '18359', 'xfld', '...</td>\n",
       "      <td>[42, 43, 14, 18, 0, 14, 18, 18, 14, 39, 13, 9,...</td>\n",
       "    </tr>\n",
       "    <tr>\n",
       "      <th>2</th>\n",
       "      <td>2</td>\n",
       "      <td>train</td>\n",
       "      <td>1040</td>\n",
       "      <td>0</td>\n",
       "      <td>Every once in a long while a movie will come a...</td>\n",
       "      <td>['\\n', 'xbos', 'xfld', '1', '1040', 'xfld', '1...</td>\n",
       "      <td>[42, 43, 14, 18, 0, 14, 18, 136, 14, 39, 192, ...</td>\n",
       "    </tr>\n",
       "    <tr>\n",
       "      <th>3</th>\n",
       "      <td>3</td>\n",
       "      <td>train</td>\n",
       "      <td>17262</td>\n",
       "      <td>1</td>\n",
       "      <td>Name just says it all. I watched this movie wi...</td>\n",
       "      <td>['\\n', 'xbos', 'xfld', '1', '17262', 'xfld', '...</td>\n",
       "      <td>[42, 43, 14, 18, 0, 14, 18, 18, 14, 39, 411, 5...</td>\n",
       "    </tr>\n",
       "    <tr>\n",
       "      <th>4</th>\n",
       "      <td>4</td>\n",
       "      <td>train</td>\n",
       "      <td>9908</td>\n",
       "      <td>0</td>\n",
       "      <td>This movie succeeds at being one of the most u...</td>\n",
       "      <td>['\\n', 'xbos', 'xfld', '1', '9908', 'xfld', '1...</td>\n",
       "      <td>[42, 43, 14, 18, 0, 14, 18, 136, 14, 39, 13, 2...</td>\n",
       "    </tr>\n",
       "  </tbody>\n",
       "</table>\n",
       "</div>"
      ],
      "text/plain": [
       "   Unnamed: 0 dataset     id  labels  \\\n",
       "0           0   train   2592       0   \n",
       "1           1   train  18359       1   \n",
       "2           2   train   1040       0   \n",
       "3           3   train  17262       1   \n",
       "4           4   train   9908       0   \n",
       "\n",
       "                                                text  \\\n",
       "0  Un-bleeping-believable! Meg Ryan doesn't even ...   \n",
       "1  This is a extremely well-made film. The acting...   \n",
       "2  Every once in a long while a movie will come a...   \n",
       "3  Name just says it all. I watched this movie wi...   \n",
       "4  This movie succeeds at being one of the most u...   \n",
       "\n",
       "                                      tokenized_text  \\\n",
       "0  ['\\n', 'xbos', 'xfld', '1', '2592', 'xfld', '1...   \n",
       "1  ['\\n', 'xbos', 'xfld', '1', '18359', 'xfld', '...   \n",
       "2  ['\\n', 'xbos', 'xfld', '1', '1040', 'xfld', '1...   \n",
       "3  ['\\n', 'xbos', 'xfld', '1', '17262', 'xfld', '...   \n",
       "4  ['\\n', 'xbos', 'xfld', '1', '9908', 'xfld', '1...   \n",
       "\n",
       "                                    numerized_tokens  \n",
       "0  [42, 43, 14, 18, 0, 14, 18, 136, 14, 39, 2774,...  \n",
       "1  [42, 43, 14, 18, 0, 14, 18, 18, 14, 39, 13, 9,...  \n",
       "2  [42, 43, 14, 18, 0, 14, 18, 136, 14, 39, 192, ...  \n",
       "3  [42, 43, 14, 18, 0, 14, 18, 18, 14, 39, 411, 5...  \n",
       "4  [42, 43, 14, 18, 0, 14, 18, 136, 14, 39, 13, 2...  "
      ]
     },
     "execution_count": 7,
     "metadata": {},
     "output_type": "execute_result"
    }
   ],
   "source": [
    "\n",
    "df.head()"
   ]
  },
  {
   "cell_type": "markdown",
   "metadata": {
    "colab_type": "text",
    "id": "b_g2lka0MWeW"
   },
   "source": [
    "## wikitext103 conversion"
   ]
  },
  {
   "cell_type": "markdown",
   "metadata": {
    "colab_type": "text",
    "id": "YfwfB4DRMWeW"
   },
   "source": [
    "We are now going to build an english language model for the IMDB corpus. We could start from scratch and try to learn the structure of the english language. But we use a technique called transfer learning to make this process easier. In transfer learning (a fairly recent idea for NLP) a pre-trained LM that has been trained on a large generic corpus(_like wikipedia articles_) can be used to transfer it's knowledge to a target LM and the weights can be fine-tuned.\n",
    "\n",
    "Our source LM is the wikitext103 LM created by Stephen Merity @ Salesforce research. [Link to dataset](https://www.salesforce.com/products/einstein/ai-research/the-wikitext-dependency-language-modeling-dataset/)\n",
    "The language model for wikitext103 (AWD LSTM) has been pre-trained and the weights can be downloaded here: [Link](http://files.fast.ai/models/wt103/). Our target LM is the IMDB LM. "
   ]
  },
  {
   "cell_type": "code",
   "execution_count": 8,
   "metadata": {
    "colab": {
     "base_uri": "https://localhost:8080/",
     "height": 2537
    },
    "colab_type": "code",
    "id": "IxGyZ9gfMWeW",
    "outputId": "3c0b62cc-3694-4b32-be6d-161ed9325f4d"
   },
   "outputs": [],
   "source": [
    "#! wget -nH -r -np -P {PATH} http://files.fast.ai/models/wt103/"
   ]
  },
  {
   "cell_type": "markdown",
   "metadata": {
    "colab_type": "text",
    "id": "8G67GTITMWed"
   },
   "source": [
    "The pre-trained LM weights have an embedding size of 400, 1150 hidden units and just 3 layers. We need to match these values  with the target IMDB LM so that the weights can be loaded up."
   ]
  },
  {
   "cell_type": "code",
   "execution_count": 9,
   "metadata": {
    "colab": {},
    "colab_type": "code",
    "id": "AHuq7UvPMWed"
   },
   "outputs": [],
   "source": [
    "em_sz,nh,nl = 400,1150,3"
   ]
  },
  {
   "cell_type": "code",
   "execution_count": 10,
   "metadata": {
    "colab": {},
    "colab_type": "code",
    "id": "Yv07tk5lMWef"
   },
   "outputs": [],
   "source": [
    "# Grabbing the files from the download \n",
    "\n",
    "PRE_PATH = PATH/'models'/'wt103'\n",
    "PRE_LM_PATH = PRE_PATH/'fwd_wt103.h5'"
   ]
  },
  {
   "cell_type": "code",
   "execution_count": 11,
   "metadata": {
    "colab": {},
    "colab_type": "code",
    "id": "10gs2T02MWeh"
   },
   "outputs": [],
   "source": [
    "wgts = torch.load(PRE_LM_PATH, map_location=lambda storage, loc: storage)"
   ]
  },
  {
   "cell_type": "markdown",
   "metadata": {
    "colab_type": "text",
    "id": "vj8Qm3TVMWen"
   },
   "source": [
    "We calculate the mean of the layer0 encoder weights. This can be used to assign weights to unknown tokens when we transfer to target IMDB LM."
   ]
  },
  {
   "cell_type": "code",
   "execution_count": 12,
   "metadata": {
    "colab": {},
    "colab_type": "code",
    "id": "O9GNMYh2MWeo"
   },
   "outputs": [],
   "source": [
    "enc_wgts = to_np(wgts['0.encoder.weight'])\n",
    "row_m = enc_wgts.mean(0)"
   ]
  },
  {
   "cell_type": "code",
   "execution_count": 13,
   "metadata": {
    "colab": {},
    "colab_type": "code",
    "id": "hkZQvETAMWer"
   },
   "outputs": [],
   "source": [
    "itos2 = pickle.load((PRE_PATH/'itos_wt103.pkl').open('rb'))\n",
    "stoi2 = collections.defaultdict(lambda:-1, {v:k for k,v in enumerate(itos2)})"
   ]
  },
  {
   "cell_type": "markdown",
   "metadata": {
    "colab_type": "text",
    "id": "iIj_QS4CMWew"
   },
   "source": [
    "Before we try to transfer the knowledge from wikitext to the IMDB LM, we match up the vocab words and their indexes. \n",
    "We use the defaultdict container once again, to assign mean weights to unknown IMDB tokens that do not exist in wikitext103."
   ]
  },
  {
   "cell_type": "code",
   "execution_count": 14,
   "metadata": {
    "colab": {},
    "colab_type": "code",
    "id": "y547u_gZMWez"
   },
   "outputs": [
    {
     "ename": "NameError",
     "evalue": "name 'itos' is not defined",
     "output_type": "error",
     "traceback": [
      "\u001b[1;31m---------------------------------------------------------------------------\u001b[0m",
      "\u001b[1;31mNameError\u001b[0m                                 Traceback (most recent call last)",
      "\u001b[1;32m<ipython-input-14-059b5d968fd2>\u001b[0m in \u001b[0;36m<module>\u001b[1;34m()\u001b[0m\n\u001b[0;32m      1\u001b[0m \u001b[0mnew_w\u001b[0m \u001b[1;33m=\u001b[0m \u001b[0mnp\u001b[0m\u001b[1;33m.\u001b[0m\u001b[0mzeros\u001b[0m\u001b[1;33m(\u001b[0m\u001b[1;33m(\u001b[0m\u001b[0mvs\u001b[0m\u001b[1;33m,\u001b[0m \u001b[0mem_sz\u001b[0m\u001b[1;33m)\u001b[0m\u001b[1;33m,\u001b[0m \u001b[0mdtype\u001b[0m\u001b[1;33m=\u001b[0m\u001b[0mnp\u001b[0m\u001b[1;33m.\u001b[0m\u001b[0mfloat32\u001b[0m\u001b[1;33m)\u001b[0m\u001b[1;33m\u001b[0m\u001b[0m\n\u001b[1;32m----> 2\u001b[1;33m \u001b[1;32mfor\u001b[0m \u001b[0mi\u001b[0m\u001b[1;33m,\u001b[0m\u001b[0mw\u001b[0m \u001b[1;32min\u001b[0m \u001b[0menumerate\u001b[0m\u001b[1;33m(\u001b[0m\u001b[0mitos\u001b[0m\u001b[1;33m)\u001b[0m\u001b[1;33m:\u001b[0m\u001b[1;33m\u001b[0m\u001b[0m\n\u001b[0m\u001b[0;32m      3\u001b[0m     \u001b[0mr\u001b[0m \u001b[1;33m=\u001b[0m \u001b[0mstoi2\u001b[0m\u001b[1;33m[\u001b[0m\u001b[0mw\u001b[0m\u001b[1;33m]\u001b[0m\u001b[1;33m\u001b[0m\u001b[0m\n\u001b[0;32m      4\u001b[0m     \u001b[0mnew_w\u001b[0m\u001b[1;33m[\u001b[0m\u001b[0mi\u001b[0m\u001b[1;33m]\u001b[0m \u001b[1;33m=\u001b[0m \u001b[0menc_wgts\u001b[0m\u001b[1;33m[\u001b[0m\u001b[0mr\u001b[0m\u001b[1;33m]\u001b[0m \u001b[1;32mif\u001b[0m \u001b[0mr\u001b[0m\u001b[1;33m>=\u001b[0m\u001b[1;36m0\u001b[0m \u001b[1;32melse\u001b[0m \u001b[0mrow_m\u001b[0m\u001b[1;33m\u001b[0m\u001b[0m\n",
      "\u001b[1;31mNameError\u001b[0m: name 'itos' is not defined"
     ]
    }
   ],
   "source": [
    "new_w = np.zeros((vs, em_sz), dtype=np.float32)\n",
    "for i,w in enumerate(itos):\n",
    "    r = stoi2[w]\n",
    "    new_w[i] = enc_wgts[r] if r>=0 else row_m"
   ]
  },
  {
   "cell_type": "markdown",
   "metadata": {
    "colab_type": "text",
    "id": "RopA5fUjMWe2"
   },
   "source": [
    "We now overwrite the weights into the wgts odict.\n",
    "The decoder module, which we will explore in detail is also loaded with the same weights due to an idea called weight tying."
   ]
  },
  {
   "cell_type": "code",
   "execution_count": null,
   "metadata": {
    "colab": {},
    "colab_type": "code",
    "id": "QaBajLUPMWe2"
   },
   "outputs": [],
   "source": [
    "wgts['0.encoder.weight'] = T(new_w)\n",
    "wgts['0.encoder_with_dropout.embed.weight'] = T(np.copy(new_w))\n",
    "wgts['1.decoder.weight'] = T(np.copy(new_w))"
   ]
  },
  {
   "cell_type": "markdown",
   "metadata": {
    "colab_type": "text",
    "id": "ckG6HjllMWe7"
   },
   "source": [
    "Now that we have the weights prepared, we are ready to create and start training our new IMDB language pytorch model!"
   ]
  },
  {
   "cell_type": "markdown",
   "metadata": {
    "colab_type": "text",
    "id": "mNG4uTaPMWe8"
   },
   "source": [
    "## Language model"
   ]
  },
  {
   "cell_type": "markdown",
   "metadata": {
    "colab_type": "text",
    "id": "i2-3FkVFMWe9"
   },
   "source": [
    "It is fairly straightforward to create a new language model using the fastai library. Like every other lesson, our model will have a backbone and a custom head. The backbone in our case is the IMDB LM pre-trained with wikitext and the custom head is a linear classifier. In this section we will focus on the backbone LM and the next section will talk about the classifier custom head.\n",
    "\n",
    "bptt (*also known traditionally in NLP LM as ngrams*) in fastai LMs is approximated to a std. deviation around 70, by perturbing the sequence length on a per-batch basis. This is akin to shuffling our data in computer vision, only that in NLP we cannot shuffle inputs and we have to maintain statefulness. \n",
    "\n",
    "Since we are predicting words using ngrams, we want our next batch to line up with the end-points of the previous mini-batch's items. batch-size is constant and but the fastai library expands and contracts bptt each mini-batch using a clever stochastic implementation of a batch. (original credits attributed to [Smerity](https://twitter.com/jeremyphoward/status/980227258395770882))"
   ]
  },
  {
   "cell_type": "code",
   "execution_count": 8,
   "metadata": {
    "colab": {},
    "colab_type": "code",
    "id": "e7IecerFMWe-"
   },
   "outputs": [],
   "source": [
    "wd=1e-7\n",
    "bptt= 70\n",
    "bs= 20 #25 #52\n",
    "opt_fn = partial(optim.Adam, betas=(0.8, 0.99))"
   ]
  },
  {
   "cell_type": "markdown",
   "metadata": {
    "colab_type": "text",
    "id": "otVoW9EyMWfA"
   },
   "source": [
    "The goal of the LM is to learn to predict a word/token given a preceeding set of words(tokens). We take all the movie reviews in both the 90k training set and 10k validation set and concatenate them to form long strings of tokens. In fastai, we use the `LanguageModelLoader` to create a data loader which makes it easy to create and use bptt sized mini batches. The  `LanguageModelLoader` takes a concatenated string of tokens and returns a loader.\n",
    "\n",
    "We have a special modeldata object class for LMs called `LanguageModelData` to which we can pass the training and validation loaders and get in return the model itself."
   ]
  },
  {
   "cell_type": "code",
   "execution_count": 41,
   "metadata": {
    "colab": {
     "base_uri": "https://localhost:8080/",
     "height": 34
    },
    "colab_type": "code",
    "id": "MVUrNXhhMWdY",
    "outputId": "47a1eeda-b3b7-4860-b901-3a5e5cb6b91c"
   },
   "outputs": [
    {
     "data": {
      "text/plain": [
       "(45000, 5000)"
      ]
     },
     "execution_count": 41,
     "metadata": {},
     "output_type": "execute_result"
    }
   ],
   "source": [
    "# getting train and test\n",
    "\n",
    "trn_lm, val_lm = sklearn.model_selection.train_test_split(np.array(df[\"numerized_tokens\"]), test_size=0.1)\n",
    "len(trn_lm), len(val_lm)"
   ]
  },
  {
   "cell_type": "code",
   "execution_count": null,
   "metadata": {
    "colab": {},
    "colab_type": "code",
    "id": "6AoH_pAUoS2n"
   },
   "outputs": [],
   "source": []
  },
  {
   "cell_type": "code",
   "execution_count": 42,
   "metadata": {
    "colab": {
     "base_uri": "https://localhost:8080/",
     "height": 222
    },
    "colab_type": "code",
    "id": "8i4OzsrlWuH0",
    "outputId": "8e95153f-c13f-42dd-c1d2-71ec3b5d381d",
    "scrolled": true
   },
   "outputs": [
    {
     "data": {
      "text/plain": [
       "array([list([42, 43, 14, 18, 0, 14, 18, 68, 14, 39, 45, 77, 715, 395, 2267, 1092, 4, 46, 38, 6, 330, 296, 24, 128, 542, 5, 6, 234, 3, 10, 17, 6, 220, 650, 981, 82, 3, 2, 7170, 1578, 102, 827, 10, 24, 890, 3, 46, 1106, 85, 7761, 118, 95, 8, 300, 115, 472, 85, 274, 4029, 315, 30, 10, 3, 21, 12, 20, 584, 773, 8, 84, 15, 102, 530, 13, 23, 6, 67, 730, 3, 297, 306, 79, 1266, 10, 8, 88, 3, 32, 55, 297, 2, 1172, 798, 87, 633, 65, 89, 102, 587, 25, 2, 23, 908, 115, 65, 409, 2, 419, 7, 2, 173, 126, 569, 65, 29, 21, 297, 12, 161, 56, 130, 51, 129, 67, 119, 15, 13, 40, 1016, 11, 1915, 3]),\n",
       "       list([42, 43, 14, 18, 0, 14, 18, 18, 14, 39, 13, 9, 6, 25413, 11716, 5638, 686, 44, 346, 13818, 14415, 7, 44, 2, 430, 7798, 427, 15, 2828, 6048, 97, 4148, 3, 93, 5, 53, 111, 101, 1709, 130, 127, 181, 112, 323, 2, 546, 11534, 4, 49, 3235, 1452, 8, 84, 5, 853, 2, 1961, 9618, 10022, 61, 17259, 5, 0, 292, 8, 620, 5, 873, 3, 33, 2, 33, 140, 7, 33, 298, 9, 207, 6985, 3, 9086, 517, 121, 18740, 121, 5036, 873, 121, 32041, 121, 2901, 121, 350, 19, 873, 121, 34656, 12399, 121, 28557, 7620, 7620, 50, 4196, 61, 49, 10280, 640, 61, 93, 32, 48, 29, 93, 5, 30, 5, 30, 10, 28225, 4, 11455, 5, 42153, 265, 11, 2951, 0, 500, 28856, 467, 3, 10, 9, 248, 118, 220, 4, 26, 787, 10, 17, 9814, 11405, 35, 2, 1182, 16, 10833, 11, 2, 9466, 16, 640, 1060, 30, 6, 2303, 7, 80, 2, 33, 48081, 21981, 73, 41, 2565, 93, 15137, 32344, 27049, 47, 6, 1769, 3313, 25, 66, 2934, 878, 10789, 25361, 6, 1927, 27578, 4, 2022, 4081, 4, 5, 2, 133, 19, 295, 1769, 2013, 11, 128, 1460, 1460, 93, 80, 9, 44, 290, 8, 2, 620, 33, 793, 33, 2050, 3, 3, 51, 5702, 35, 2, 34020, 5519, 369, 5, 15969, 2006, 8, 5331, 19, 46820, 19, 0, 203, 15, 46, 241, 1908, 550, 3369, 11, 85, 225, 1467, 25, 10917, 5, 791, 3, 3114, 121, 3114, 7, 16, 3582, 16, 122, 5145, 527, 5, 66, 78, 6284, 52, 2, 1860, 3, 12, 541, 28, 34, 4, 54, 35, 78, 542, 13041, 8, 2, 4104, 0, 4, 25909, 25, 9380, 35595, 5, 10339, 74, 25, 4291, 13401, 4, 2071, 8, 841, 32, 24, 503, 4, 12, 826, 4, 323, 378, 29, 1823, 13, 0, 7, 2984, 19, 882, 21787, 17518, 5, 39474, 1798, 8, 2, 34656, 6333, 3, 7, 288, 12, 454, 10, 5, 86, 8, 124, 13, 1460, 2013, 144, 5, 144, 5, 114, 7846, 373, 5, 251, 8, 2, 281, 24, 2330, 30, 150, 56, 8, 0, 5, 22969, 115, 276, 12368, 5, 8, 1844, 60, 30, 2, 15447, 11, 14285, 11, 3043, 45, 276, 5, 192, 19392, 7, 85, 15902, 3585, 3, 5, 51, 158, 28, 93, 5, 18113, 15, 54, 20, 49, 1014, 69, 13, 20, 1060, 353, 8, 2801, 5, 3955, 3, 10, 9, 44, 51, 5485, 3]),\n",
       "       list([42, 43, 14, 18, 0, 14, 18, 18, 14, 39, 16, 1110, 28575, 16, 47, 37080, 22381, 9, 464, 30, 2, 356, 83, 16, 0, 16, 431, 47, 16602, 0, 402, 0, 0, 0, 308, 10671, 25320, 8, 2, 501, 7, 49, 15199, 10389, 4, 2689, 45, 2, 251, 17, 12446, 20169, 5, 2373, 7, 6, 8183, 0, 2714, 22936, 8, 17906, 2, 3785, 0, 9, 21947, 15, 6, 1118, 793, 7, 2, 0, 0, 3569, 11, 7656, 398, 25, 2, 1565, 5, 3290, 704, 820, 8275, 47, 1469, 7, 2, 3293, 3, 16, 2, 2714, 16, 9, 49, 518, 19, 345, 1548, 7, 2248, 209, 4, 3866, 4931, 5, 0, 6395, 14479, 4, 4655, 5, 9899, 11, 2, 27017, 4, 13017, 1168, 38563, 19983, 30, 31971, 3513, 4, 10886, 25, 6, 2191, 5, 4, 111, 2163, 7, 44, 4, 2, 10897, 2714, 20974, 25, 964, 215, 0, 13, 2039, 2588, 27, 9, 1763, 3624, 5, 0, 386, 151, 35, 6283, 333, 5, 46, 35, 1291, 111, 7, 2, 0, 16, 1110, 28575, 16, 9, 6, 1078, 0, 10, 41, 52, 2, 26685, 699, 8, 1562, 4, 55, 2, 1078, 13889, 2820, 25, 1529, 4, 22381, 17, 931, 158, 41, 314, 25, 478, 5, 0, 227, 19, 84, 24, 476, 7, 1949, 1247, 456, 3]),\n",
       "       list([42, 43, 14, 18, 0, 14, 18, 68, 14, 39, 121, 6, 559, 7, 213, 373, 577, 534, 1117, 1823, 9668, 145, 2, 3596, 1368, 4, 46, 1731, 49, 1461, 7, 366, 52, 2784, 715, 475, 3, 15965, 32, 2889, 10422, 29, 4, 1976, 7, 6, 3785, 3973, 385, 7, 1319, 3972, 10655, 3, 305, 45, 2, 992, 17539, 3249, 4, 2, 373, 35, 7817, 47, 6, 2304, 19, 1617, 7345, 50, 79, 752, 2, 3973, 17, 13364, 8, 137, 164, 2, 664, 7, 2, 348, 3, 21, 4704, 3259, 17, 99, 234, 9, 6, 5485, 1623, 226, 2, 2012, 3482, 235, 2690, 17, 16501, 5, 2015, 4, 2, 680, 541, 52, 2, 382, 4661, 3288, 423, 61, 10, 17, 6, 67, 137, 61, 4, 1823, 2, 135, 9, 6, 3954, 7, 818, 52, 2, 3960, 33, 6491, 4, 1465, 17, 2181, 4, 5, 345, 7, 3972, 3, 2, 867, 5, 2631, 7, 4704, 3259, 4, 217, 4, 9, 51, 477, 145, 19, 13944, 15, 4, 11, 13, 1184, 4, 10, 17, 2380, 1197, 8, 2482, 1915, 25, 101, 967, 119, 3, 21, 173, 612, 28219, 17, 5645, 4141, 5, 5280, 2243, 7, 37, 225, 250, 435, 2, 27, 6, 8339, 7915, 500, 4, 5, 25, 6, 533, 334, 19, 1830, 263, 52, 10422, 4, 49, 10913, 992, 585, 52, 14722, 21941, 4, 6, 1536, 7, 393, 4681, 10655, 25, 0, 4545, 4, 5, 2, 1323, 7, 1194, 1269, 12384, 2593, 4, 50, 2400, 2, 27, 11, 32, 5, 3212, 59, 7, 29, 2138, 31406, 887, 19, 3897, 5, 6, 849, 14164, 10285, 19, 5874, 4, 4704, 3259, 9, 6, 477, 3235, 5, 1171, 40, 19, 7, 19, 6, 19, 264, 209, 577, 91, 5917, 7, 113, 1247, 983, 3]),\n",
       "       list([42, 43, 14, 18, 0, 14, 18, 136, 14, 39, 13, 9, 2, 270, 23, 12, 38, 146, 130, 3, 12, 20, 14973, 106, 553, 10, 254, 41, 67, 107, 6, 394, 7, 77, 537, 172, 35, 11, 10, 3, 169, 12, 205, 8, 2808, 1622, 20945, 11, 2, 413, 24, 661, 13, 240, 3, 12, 20, 3150, 1832, 121, 170, 13, 27, 3, 12, 82, 57, 31, 408, 368, 549, 3, 54, 35, 51, 129, 102, 287, 8, 1020, 11, 15, 12, 168, 272, 28, 79, 50007, 145, 2, 364, 5, 98, 2, 71, 141, 3, 15, 117, 2, 270, 23, 28, 116, 9, 4810, 8, 10554, 0, 325, 7, 13, 18726, 3, 2, 1807, 53, 2, 1113, 3582, 5, 6022, 5705, 145, 12829, 3527, 1258, 8, 2, 45179, 7, 2, 27, 3, 1262, 12, 4668, 13, 27, 5, 314, 10, 30, 260, 3, 13, 1663, 15, 28, 158, 814, 9107, 4918, 45, 44, 2139, 3]),\n",
       "       list([42, 43, 14, 18, 0, 14, 18, 68, 14, 39, 308, 19, 112, 489, 2922, 11, 2, 16, 566, 940, 16, 229, 7, 14000, 209, 127, 3351, 29805, 6672, 32, 4012, 9862, 29, 4, 11562, 7, 6, 2977, 663, 3, 36, 1505, 7, 4773, 4, 267, 10, 17, 2540, 59, 108, 8, 752, 110, 165, 96, 292, 37, 1124, 106, 6, 22470, 660, 3, 2, 1140, 850, 11, 2772, 32, 6995, 1884, 29, 1415, 10, 11, 6, 561, 2557, 660, 96, 2, 26945, 8503, 1334, 24646, 785, 20751, 32, 335, 7381, 29, 3, 6, 850, 447, 7, 2, 11562, 525, 8, 19732, 2286, 5, 292, 49, 150, 8, 2, 1140, 4850, 61, 2374, 3, 21, 27, 19, 255, 6172, 5204, 7627, 11120, 32, 1270, 29, 5, 1732, 11190, 32, 173, 29, 25787, 465, 172, 46, 161, 965, 25, 180, 4, 605, 1884, 4, 0, 61, 1269, 340, 12645, 21538, 4, 12453, 22602, 4, 44551, 51044, 4, 5, 17612, 51150, 3, 46, 779, 8, 163, 24, 2, 253, 7, 2, 941, 16, 566, 940, 16, 6668, 26, 40, 79, 400, 13, 20, 112, 35081, 3, 159, 34, 2734, 6, 16, 67, 16, 27, 4, 10, 17, 208, 6, 771, 7, 1147, 818, 8, 741, 74, 8, 49, 19636, 4526, 246, 3, 6, 11572, 8028, 32, 22602, 29, 4, 2089, 11575, 4, 6, 273, 2778, 2418, 317, 30, 7381, 4, 2, 998, 4058, 3469, 4, 28001, 385, 7, 23755, 4, 538, 3, 2, 1361, 9, 181, 207, 4224, 4, 25, 135, 1259, 1350, 11, 151, 5, 54, 3, 12, 123, 10, 97, 38, 100, 13674, 6, 249, 132, 66, 157, 2158, 3, 26, 10, 17, 208, 113, 268, 410, 5, 49, 295, 102, 254, 34, 545, 3, 21, 24, 13, 264, 7, 171, 4, 2, 138, 9, 31, 118, 99, 3, 221, 1884, 5, 22602, 35, 268, 132, 2, 1570, 212, 8, 41, 285, 206, 6, 67, 76, 11, 37, 240, 3, 51150, 9, 2458, 219, 4, 5, 1751, 9, 10715, 3, 11, 2, 3631, 240, 3, 11, 120, 1556, 4, 10, 17, 354, 8, 84, 44, 7, 155, 1085, 1467, 11, 40, 7, 155, 127, 3, 21, 442, 183, 330, 4, 26, 22, 6, 4526, 642, 16, 209, 16, 32, 12, 380, 2, 676, 3566, 4, 636, 7, 13, 9, 637, 680, 29, 27, 4, 10, 445, 19750, 3, 21, 708, 126, 182]),\n",
       "       list([42, 43, 14, 18, 0, 14, 18, 68, 14, 39, 62, 28, 35, 53, 88, 5, 28, 1235, 2, 188, 10444, 1206, 4348, 2, 275, 10, 407, 59, 4, 5, 438, 106, 2, 27, 1349, 44, 2, 3886, 8, 44, 2, 734, 201, 222, 3, 114, 28, 103, 33, 445, 379, 13, 27, 3, 446, 12, 257, 5132, 22, 6, 657, 10444, 1206, 350, 4, 26, 12, 82, 89, 53, 13, 27, 80, 112, 88, 5442, 206, 6, 190, 3, 21, 13, 23, 20, 207, 95, 289, 12, 872, 3, 1740, 1213, 7794, 74, 47, 104, 28053, 5, 66, 104, 3456, 52, 1187, 5154, 5, 1706, 5311, 3, 12, 600, 529, 1706, 5311, 61, 194, 3, 21, 62, 4, 217, 4, 28, 35, 7043, 25, 10444, 1206, 17, 33, 3248, 229, 5, 821, 2093, 4348, 4, 114, 13, 224, 34, 38, 206, 2, 189, 1740, 1591, 30, 28, 3, 12, 73, 153, 399, 28, 163, 5, 124, 15, 107, 10, 153, 301, 192, 11111, 7, 2, 7215, 1821, 5, 103, 116, 28, 1866, 78, 62, 28, 35, 31, 11, 9508, 2, 246, 76, 3]),\n",
       "       list([42, 43, 14, 18, 0, 14, 18, 18, 14, 39, 16, 11, 2, 198, 7, 177, 19, 387, 2366, 2133, 119, 4, 139, 1178, 1325, 407, 6, 9988, 6, 2575, 4, 10, 567, 6, 190, 24, 6, 27, 8, 790, 59, 191, 5, 78, 70, 8, 116, 10, 6, 350, 537, 121, 44, 155, 175, 3, 64, 9, 4841, 10306, 21084, 17, 1956, 23, 2085, 8, 1076, 2402, 144, 2, 2873, 2230, 23, 1534, 4, 52, 2, 1416, 7, 5453, 4, 10470, 5, 1178, 22, 4246, 47, 335, 4649, 32, 50, 208, 37, 397, 11, 2, 6300, 23, 1534, 778, 24, 10306, 29, 323, 2, 10593, 7, 3631, 8796, 323, 2, 546, 2770, 17, 4, 8, 70, 697, 119, 53, 6, 147, 459, 591, 4, 80, 2369, 6, 125, 11, 6, 2425, 1601, 47, 13, 27, 3, 2, 2402, 63, 105, 2887, 106, 101, 3658, 22, 91, 4, 52, 232, 162, 22, 2, 10051, 19, 18400, 6948, 4, 260, 3527, 24, 32748, 5, 395, 1615, 162, 22, 16, 8252, 26979, 3, 16, 51, 64, 184, 13, 23, 51, 330, 65, 2, 135, 191, 30, 2, 2316, 191, 9, 207, 608, 3, 10, 1975, 25, 1049, 7, 6, 8023, 559, 568, 22, 2, 16, 5629, 6948, 16, 50, 35, 3065, 24, 6, 2720, 1710, 47, 85, 0, 3, 44, 7, 2, 1049, 7, 2, 6948, 38, 2495, 2366, 2133, 3787, 4, 0, 47, 85, 1702, 4201, 4, 55, 16, 16394, 16, 32, 2, 8060, 79, 7024, 3714, 4, 2, 7264, 63, 6, 2502, 3769, 4, 538, 3, 29, 3, 2, 1022, 9, 15, 258, 2, 6948, 237, 2952, 5802, 4, 34, 44, 7, 115, 568, 50, 2, 422, 35, 3, 1392, 6, 608, 135, 495, 241, 6, 775, 717, 3, 90, 202, 34, 690, 2, 679, 3418, 151, 4, 26, 10, 17, 248, 744, 129, 101, 2366, 2133, 119, 7, 2, 76, 3, 1517, 4, 1856, 8367, 20, 34, 118, 685, 25, 10306, 17, 250, 191, 53, 111, 7, 37, 119, 4, 46, 460, 10, 20, 118, 474, 5, 1132, 191, 5, 46, 181, 480, 110, 8, 741, 3812, 733, 2134, 8, 10, 3, 2539, 4, 10306, 1574, 8, 37, 1972, 5, 2718, 25, 37, 238, 250, 4, 80, 63, 258, 63, 451, 12007, 22, 40, 7, 2, 141, 24, 2, 127, 7, 113, 76, 4, 62, 34, 146, 4, 12750, 49, 241, 424, 976, 6404, 5, 3617, 2, 424, 12500, 24, 2, 2495, 231, 862, 3, 21, 26, 64, 82, 30757, 2, 23, 35, 2, 16394, 550, 3, 10306, 21084, 592, 698, 6, 2668, 2188, 25, 2, 200, 191, 34, 81, 89, 36, 3503, 1040, 1695, 2839, 32, 659, 1131, 4, 26897, 233, 2, 4226, 7, 9626, 55, 101, 330, 312, 4, 292, 111, 697, 1695, 2839, 8, 884, 29, 26, 104, 172, 22, 91, 3, 2, 2188, 2223, 51, 1094, 15, 10306, 645, 86, 40, 55, 70, 7, 2, 16394, 11, 37, 328, 119, 3, 404, 165, 8, 2286, 45, 543, 4, 11, 111, 177, 19, 387, 119, 4, 2, 172, 331, 8, 418, 59, 3400, 14648, 4, 26, 151, 2, 172, 181, 1023, 122, 3, 10, 212, 15, 316, 63, 6, 537, 13035, 32, 1770, 9, 3285, 40792, 191, 141, 568, 8, 129, 22, 1140, 802, 52, 274, 19, 8057, 191, 22, 8060, 29, 5, 10, 9, 13, 948, 1909, 8, 2, 122, 15, 2, 719, 2502, 16394, 12279, 80, 184, 10, 6, 313, 382, 7, 2, 531, 3, 78, 62, 28, 202, 1871, 34, 6, 350, 7, 177, 19, 387, 119, 4, 28, 376, 8, 824, 2, 719, 2502, 16394, 59, 4, 62, 24, 183, 347, 8, 84, 139, 697, 119, 208, 85, 2858, 52, 3, 16]),\n",
       "       list([42, 43, 14, 18, 0, 14, 18, 136, 14, 39, 62, 28, 205, 8, 124, 6, 166, 61, 500, 61, 23, 98, 1076, 7, 2, 10639, 2188, 3, 13, 11707, 27, 227, 38, 2139, 44, 7, 863, 1419, 8, 116, 3, 10, 928, 6, 20559, 1642, 250, 4, 9732, 99, 745, 4, 1522, 5, 375, 179, 4, 5, 6, 562, 1301, 4, 2120, 19, 21017, 768, 15, 9, 1317, 1354, 32, 10, 310, 53, 46, 549, 351, 6, 234, 11, 6, 4136, 1955, 5, 126, 55, 6, 12426, 3475, 24, 2, 768, 19, 26, 44, 87, 1409, 2081, 29, 3, 21, 2, 172, 44, 1087, 85, 433, 22, 176, 46, 161, 133, 130, 115, 180, 5, 35, 914, 145, 6, 30566, 3, 2, 330, 312, 35, 117, 684, 2271, 3, 5, 2, 81, 638, 171, 9, 15, 46, 3438, 2, 82, 7880, 238, 441, 61, 0, 13734, 61, 80, 5578, 74, 637, 64, 28, 98, 24, 2, 385, 1180, 252, 3, 21, 13, 9, 64, 571, 69, 28, 19603, 2, 1316, 7, 2, 5402, 51, 274, 28, 1020, 164, 8, 2, 14767, 15, 1628, 5590, 3, 21, 12, 454, 192, 876, 7, 10, 3]),\n",
       "       list([42, 43, 14, 18, 0, 14, 18, 136, 14, 39, 45, 247, 787, 167, 119, 25, 1300, 6193, 55, 70, 3, 2270, 24, 141, 927, 431, 2527, 24, 2, 281, 65, 5972, 13667, 2270, 24, 141, 551, 11, 6, 1002, 240, 65, 65, 2270, 24, 141, 457, 65, 65, 12, 237, 3054, 25, 129, 7, 2, 805, 2986, 4, 26, 13, 23, 254, 71, 91, 41, 2, 270, 23, 7, 44, 76, 8, 41, 12649, 47, 2, 1841, 3, 2, 508, 5, 138, 87, 221, 510, 3, 13667, 17, 0, 11, 874, 20, 40, 7, 2, 270, 12, 161, 146, 130, 4, 5, 261, 2, 111, 144, 19, 1207, 138, 263, 7, 44, 76, 3, 396, 23, 4, 34, 1439, 7, 2, 215, 281, 5, 34, 1439, 7, 120, 1905, 55, 705, 1203, 15, 63, 146, 278, 10, 4, 605, 33, 0, 12, 235, 10, 29, 3, 12, 257, 81, 9733, 12, 89, 31, 181, 984, 8, 84, 40, 7, 2, 111, 144, 19, 1207, 119, 7, 44, 76, 3])],\n",
       "      dtype=object)"
      ]
     },
     "execution_count": 42,
     "metadata": {},
     "output_type": "execute_result"
    }
   ],
   "source": [
    "trn_lm[:10]"
   ]
  },
  {
   "cell_type": "code",
   "execution_count": 43,
   "metadata": {
    "colab": {},
    "colab_type": "code",
    "id": "_XpTDfniMWfB"
   },
   "outputs": [],
   "source": [
    "trn_dl = LanguageModelLoader(np.concatenate(trn_lm), bs, bptt)\n",
    "val_dl = LanguageModelLoader(np.concatenate(val_lm), bs, bptt)\n",
    "\n",
    "md = LanguageModelData(PATH, 1, vs, trn_dl, val_dl, bs=bs, bptt=bptt)"
   ]
  },
  {
   "cell_type": "markdown",
   "metadata": {
    "colab_type": "text",
    "id": "OzSKZlasMWfF"
   },
   "source": [
    "We setup the dropouts for the model - these values have been chosen after experimentation. If you need to update them for custom LMs, you can change the weighting factor (0.7 here) based on the amount of data you have. For more data, you can reduce dropout factor and for small datasets, you can reduce overfitting by choosing a higher dropout factor. *No other dropout value requires tuning*"
   ]
  },
  {
   "cell_type": "code",
   "execution_count": 44,
   "metadata": {
    "colab": {},
    "colab_type": "code",
    "id": "Z2rXe03eMWfJ"
   },
   "outputs": [],
   "source": [
    "drops = np.array([0.25, 0.1, 0.2, 0.02, 0.15])*0.8 # changing to .8 from .7 bc data is smaller"
   ]
  },
  {
   "cell_type": "markdown",
   "metadata": {
    "colab_type": "text",
    "id": "SCv4uQykMWfL"
   },
   "source": [
    "We first tune the last embedding layer so that the missing tokens initialized with mean weights get tuned properly. So we freeze everything except the last layer.\n",
    "\n",
    "We also keep track of the *accuracy* metric."
   ]
  },
  {
   "cell_type": "code",
   "execution_count": 57,
   "metadata": {
    "colab": {},
    "colab_type": "code",
    "id": "fdvG06UgMWfM",
    "scrolled": true
   },
   "outputs": [],
   "source": [
    "learner= md.get_model(opt_fn, em_sz, nh, nl, \n",
    "    dropouti=drops[0], dropout=drops[1], wdrop=drops[2], dropoute=drops[3], dropouth=drops[4])\n",
    "\n",
    "learner.metrics = [accuracy]\n",
    "#learner.freeze_to(-1) # why are we unfreezing this one? Don't we want to unfreeze FIRST layer?\n",
    "learner.freeze_all_but(0) # unfreezing embedding instead"
   ]
  },
  {
   "cell_type": "code",
   "execution_count": 58,
   "metadata": {
    "colab": {},
    "colab_type": "code",
    "id": "GQBT6gdQMWfO"
   },
   "outputs": [],
   "source": [
    "learner.model.load_state_dict(wgts)"
   ]
  },
  {
   "cell_type": "code",
   "execution_count": null,
   "metadata": {},
   "outputs": [],
   "source": []
  },
  {
   "cell_type": "markdown",
   "metadata": {
    "colab_type": "text",
    "id": "ow19E6VOMWfS"
   },
   "source": [
    "We set learning rates and fit our IMDB LM. We first run one epoch to tune the last layer which contains the embedding weights. This should help the missing tokens in the wikitext103 learn better weights."
   ]
  },
  {
   "cell_type": "code",
   "execution_count": 59,
   "metadata": {
    "colab": {},
    "colab_type": "code",
    "id": "2ngvfuUpMWfS"
   },
   "outputs": [],
   "source": [
    "lr=1e-3\n",
    "lrs = lr"
   ]
  },
  {
   "cell_type": "code",
   "execution_count": 60,
   "metadata": {
    "colab": {
     "base_uri": "https://localhost:8080/",
     "height": 101
    },
    "colab_type": "code",
    "id": "Txylyd_FMWfV",
    "outputId": "505ca1cc-9ae2-4089-fc38-a3bb2728637f",
    "scrolled": true
   },
   "outputs": [
    {
     "data": {
      "application/vnd.jupyter.widget-view+json": {
       "model_id": "d526aaf4f4054fbb84c9860660dcee50",
       "version_major": 2,
       "version_minor": 0
      },
      "text/plain": [
       "HBox(children=(IntProgress(value=0, description='Epoch', max=2), HTML(value='')))"
      ]
     },
     "metadata": {},
     "output_type": "display_data"
    },
    {
     "name": "stdout",
     "output_type": "stream",
     "text": [
      "epoch      trn_loss   val_loss   accuracy                                                                              \n",
      "    0      4.906028   4.654178   0.267469  \n",
      "    1      4.870828   4.623743   0.270785                                                                              \n",
      "\n"
     ]
    },
    {
     "data": {
      "text/plain": [
       "[array([4.62374]), 0.27078476861307893]"
      ]
     },
     "execution_count": 60,
     "metadata": {},
     "output_type": "execute_result"
    }
   ],
   "source": [
    "# Train for one epoch, just the embedding layer\n",
    "\n",
    "learner.fit(lrs/2, 1, wds=wd, cycle_len=2) # did"
   ]
  },
  {
   "cell_type": "code",
   "execution_count": 62,
   "metadata": {
    "scrolled": true
   },
   "outputs": [
    {
     "data": {
      "application/vnd.jupyter.widget-view+json": {
       "model_id": "09621f067eb54e058a63ba4b97de3691",
       "version_major": 2,
       "version_minor": 0
      },
      "text/plain": [
       "HBox(children=(IntProgress(value=0, description='Epoch', max=18), HTML(value='')))"
      ]
     },
     "metadata": {},
     "output_type": "display_data"
    },
    {
     "name": "stdout",
     "output_type": "stream",
     "text": [
      "  1%|▌                                                                  | 263/31706 [00:19<39:01, 13.43it/s, loss=4.78]"
     ]
    },
    {
     "ename": "KeyboardInterrupt",
     "evalue": "",
     "output_type": "error",
     "traceback": [
      "\u001b[1;31m---------------------------------------------------------------------------\u001b[0m",
      "\u001b[1;31mKeyboardInterrupt\u001b[0m                         Traceback (most recent call last)",
      "\u001b[1;32m<ipython-input-62-31bbbc85d0cf>\u001b[0m in \u001b[0;36m<module>\u001b[1;34m()\u001b[0m\n\u001b[0;32m      3\u001b[0m \u001b[0mlearner\u001b[0m\u001b[1;33m.\u001b[0m\u001b[0mfreeze_to\u001b[0m\u001b[1;33m(\u001b[0m\u001b[1;33m-\u001b[0m\u001b[1;36m1\u001b[0m\u001b[1;33m)\u001b[0m\u001b[1;33m\u001b[0m\u001b[0m\n\u001b[0;32m      4\u001b[0m \u001b[1;33m\u001b[0m\u001b[0m\n\u001b[1;32m----> 5\u001b[1;33m \u001b[0mlearner\u001b[0m\u001b[1;33m.\u001b[0m\u001b[0mfit\u001b[0m\u001b[1;33m(\u001b[0m\u001b[1;36m1e-4\u001b[0m\u001b[1;33m,\u001b[0m \u001b[1;36m1\u001b[0m\u001b[1;33m,\u001b[0m \u001b[0mwds\u001b[0m\u001b[1;33m=\u001b[0m\u001b[0mwd\u001b[0m\u001b[1;33m,\u001b[0m \u001b[0mcycle_len\u001b[0m\u001b[1;33m=\u001b[0m\u001b[1;36m18\u001b[0m\u001b[1;33m)\u001b[0m \u001b[1;31m# did\u001b[0m\u001b[1;33m\u001b[0m\u001b[0m\n\u001b[0m",
      "\u001b[1;32m~\\Documents\\imdb_sync\\fastai\\text.py\u001b[0m in \u001b[0;36mfit\u001b[1;34m(self, *args, **kwargs)\u001b[0m\n\u001b[0;32m    209\u001b[0m \u001b[1;33m\u001b[0m\u001b[0m\n\u001b[0;32m    210\u001b[0m     \u001b[1;32mdef\u001b[0m \u001b[0m_get_crit\u001b[0m\u001b[1;33m(\u001b[0m\u001b[0mself\u001b[0m\u001b[1;33m,\u001b[0m \u001b[0mdata\u001b[0m\u001b[1;33m)\u001b[0m\u001b[1;33m:\u001b[0m \u001b[1;32mreturn\u001b[0m \u001b[0mF\u001b[0m\u001b[1;33m.\u001b[0m\u001b[0mcross_entropy\u001b[0m\u001b[1;33m\u001b[0m\u001b[0m\n\u001b[1;32m--> 211\u001b[1;33m     \u001b[1;32mdef\u001b[0m \u001b[0mfit\u001b[0m\u001b[1;33m(\u001b[0m\u001b[0mself\u001b[0m\u001b[1;33m,\u001b[0m \u001b[1;33m*\u001b[0m\u001b[0margs\u001b[0m\u001b[1;33m,\u001b[0m \u001b[1;33m**\u001b[0m\u001b[0mkwargs\u001b[0m\u001b[1;33m)\u001b[0m\u001b[1;33m:\u001b[0m \u001b[1;32mreturn\u001b[0m \u001b[0msuper\u001b[0m\u001b[1;33m(\u001b[0m\u001b[1;33m)\u001b[0m\u001b[1;33m.\u001b[0m\u001b[0mfit\u001b[0m\u001b[1;33m(\u001b[0m\u001b[1;33m*\u001b[0m\u001b[0margs\u001b[0m\u001b[1;33m,\u001b[0m \u001b[1;33m**\u001b[0m\u001b[0mkwargs\u001b[0m\u001b[1;33m,\u001b[0m \u001b[0mseq_first\u001b[0m\u001b[1;33m=\u001b[0m\u001b[1;32mTrue\u001b[0m\u001b[1;33m)\u001b[0m\u001b[1;33m\u001b[0m\u001b[0m\n\u001b[0m\u001b[0;32m    212\u001b[0m \u001b[1;33m\u001b[0m\u001b[0m\n\u001b[0;32m    213\u001b[0m     \u001b[1;32mdef\u001b[0m \u001b[0msave_encoder\u001b[0m\u001b[1;33m(\u001b[0m\u001b[0mself\u001b[0m\u001b[1;33m,\u001b[0m \u001b[0mname\u001b[0m\u001b[1;33m)\u001b[0m\u001b[1;33m:\u001b[0m \u001b[0msave_model\u001b[0m\u001b[1;33m(\u001b[0m\u001b[0mself\u001b[0m\u001b[1;33m.\u001b[0m\u001b[0mmodel\u001b[0m\u001b[1;33m[\u001b[0m\u001b[1;36m0\u001b[0m\u001b[1;33m]\u001b[0m\u001b[1;33m,\u001b[0m \u001b[0mself\u001b[0m\u001b[1;33m.\u001b[0m\u001b[0mget_model_path\u001b[0m\u001b[1;33m(\u001b[0m\u001b[0mname\u001b[0m\u001b[1;33m)\u001b[0m\u001b[1;33m)\u001b[0m\u001b[1;33m\u001b[0m\u001b[0m\n",
      "\u001b[1;32m~\\Documents\\imdb_sync\\fastai\\learner.py\u001b[0m in \u001b[0;36mfit\u001b[1;34m(self, lrs, n_cycle, wds, **kwargs)\u001b[0m\n\u001b[0;32m    302\u001b[0m         \u001b[0mself\u001b[0m\u001b[1;33m.\u001b[0m\u001b[0msched\u001b[0m \u001b[1;33m=\u001b[0m \u001b[1;32mNone\u001b[0m\u001b[1;33m\u001b[0m\u001b[0m\n\u001b[0;32m    303\u001b[0m         \u001b[0mlayer_opt\u001b[0m \u001b[1;33m=\u001b[0m \u001b[0mself\u001b[0m\u001b[1;33m.\u001b[0m\u001b[0mget_layer_opt\u001b[0m\u001b[1;33m(\u001b[0m\u001b[0mlrs\u001b[0m\u001b[1;33m,\u001b[0m \u001b[0mwds\u001b[0m\u001b[1;33m)\u001b[0m\u001b[1;33m\u001b[0m\u001b[0m\n\u001b[1;32m--> 304\u001b[1;33m         \u001b[1;32mreturn\u001b[0m \u001b[0mself\u001b[0m\u001b[1;33m.\u001b[0m\u001b[0mfit_gen\u001b[0m\u001b[1;33m(\u001b[0m\u001b[0mself\u001b[0m\u001b[1;33m.\u001b[0m\u001b[0mmodel\u001b[0m\u001b[1;33m,\u001b[0m \u001b[0mself\u001b[0m\u001b[1;33m.\u001b[0m\u001b[0mdata\u001b[0m\u001b[1;33m,\u001b[0m \u001b[0mlayer_opt\u001b[0m\u001b[1;33m,\u001b[0m \u001b[0mn_cycle\u001b[0m\u001b[1;33m,\u001b[0m \u001b[1;33m**\u001b[0m\u001b[0mkwargs\u001b[0m\u001b[1;33m)\u001b[0m\u001b[1;33m\u001b[0m\u001b[0m\n\u001b[0m\u001b[0;32m    305\u001b[0m \u001b[1;33m\u001b[0m\u001b[0m\n\u001b[0;32m    306\u001b[0m     \u001b[1;32mdef\u001b[0m \u001b[0mwarm_up\u001b[0m\u001b[1;33m(\u001b[0m\u001b[0mself\u001b[0m\u001b[1;33m,\u001b[0m \u001b[0mlr\u001b[0m\u001b[1;33m,\u001b[0m \u001b[0mwds\u001b[0m\u001b[1;33m=\u001b[0m\u001b[1;32mNone\u001b[0m\u001b[1;33m)\u001b[0m\u001b[1;33m:\u001b[0m\u001b[1;33m\u001b[0m\u001b[0m\n",
      "\u001b[1;32m~\\Documents\\imdb_sync\\fastai\\learner.py\u001b[0m in \u001b[0;36mfit_gen\u001b[1;34m(self, model, data, layer_opt, n_cycle, cycle_len, cycle_mult, cycle_save_name, best_save_name, use_clr, use_clr_beta, metrics, callbacks, use_wd_sched, norm_wds, wds_sched_mult, use_swa, swa_start, swa_eval_freq, **kwargs)\u001b[0m\n\u001b[0;32m    249\u001b[0m             \u001b[0mmetrics\u001b[0m\u001b[1;33m=\u001b[0m\u001b[0mmetrics\u001b[0m\u001b[1;33m,\u001b[0m \u001b[0mcallbacks\u001b[0m\u001b[1;33m=\u001b[0m\u001b[0mcallbacks\u001b[0m\u001b[1;33m,\u001b[0m \u001b[0mreg_fn\u001b[0m\u001b[1;33m=\u001b[0m\u001b[0mself\u001b[0m\u001b[1;33m.\u001b[0m\u001b[0mreg_fn\u001b[0m\u001b[1;33m,\u001b[0m \u001b[0mclip\u001b[0m\u001b[1;33m=\u001b[0m\u001b[0mself\u001b[0m\u001b[1;33m.\u001b[0m\u001b[0mclip\u001b[0m\u001b[1;33m,\u001b[0m \u001b[0mfp16\u001b[0m\u001b[1;33m=\u001b[0m\u001b[0mself\u001b[0m\u001b[1;33m.\u001b[0m\u001b[0mfp16\u001b[0m\u001b[1;33m,\u001b[0m\u001b[1;33m\u001b[0m\u001b[0m\n\u001b[0;32m    250\u001b[0m             \u001b[0mswa_model\u001b[0m\u001b[1;33m=\u001b[0m\u001b[0mself\u001b[0m\u001b[1;33m.\u001b[0m\u001b[0mswa_model\u001b[0m \u001b[1;32mif\u001b[0m \u001b[0muse_swa\u001b[0m \u001b[1;32melse\u001b[0m \u001b[1;32mNone\u001b[0m\u001b[1;33m,\u001b[0m \u001b[0mswa_start\u001b[0m\u001b[1;33m=\u001b[0m\u001b[0mswa_start\u001b[0m\u001b[1;33m,\u001b[0m\u001b[1;33m\u001b[0m\u001b[0m\n\u001b[1;32m--> 251\u001b[1;33m             swa_eval_freq=swa_eval_freq, **kwargs)\n\u001b[0m\u001b[0;32m    252\u001b[0m \u001b[1;33m\u001b[0m\u001b[0m\n\u001b[0;32m    253\u001b[0m     \u001b[1;32mdef\u001b[0m \u001b[0mget_layer_groups\u001b[0m\u001b[1;33m(\u001b[0m\u001b[0mself\u001b[0m\u001b[1;33m)\u001b[0m\u001b[1;33m:\u001b[0m \u001b[1;32mreturn\u001b[0m \u001b[0mself\u001b[0m\u001b[1;33m.\u001b[0m\u001b[0mmodels\u001b[0m\u001b[1;33m.\u001b[0m\u001b[0mget_layer_groups\u001b[0m\u001b[1;33m(\u001b[0m\u001b[1;33m)\u001b[0m\u001b[1;33m\u001b[0m\u001b[0m\n",
      "\u001b[1;32m~\\Documents\\imdb_sync\\fastai\\model.py\u001b[0m in \u001b[0;36mfit\u001b[1;34m(model, data, n_epochs, opt, crit, metrics, callbacks, stepper, swa_model, swa_start, swa_eval_freq, visualize, **kwargs)\u001b[0m\n\u001b[0;32m    139\u001b[0m             \u001b[0mbatch_num\u001b[0m \u001b[1;33m+=\u001b[0m \u001b[1;36m1\u001b[0m\u001b[1;33m\u001b[0m\u001b[0m\n\u001b[0;32m    140\u001b[0m             \u001b[1;32mfor\u001b[0m \u001b[0mcb\u001b[0m \u001b[1;32min\u001b[0m \u001b[0mcallbacks\u001b[0m\u001b[1;33m:\u001b[0m \u001b[0mcb\u001b[0m\u001b[1;33m.\u001b[0m\u001b[0mon_batch_begin\u001b[0m\u001b[1;33m(\u001b[0m\u001b[1;33m)\u001b[0m\u001b[1;33m\u001b[0m\u001b[0m\n\u001b[1;32m--> 141\u001b[1;33m             \u001b[0mloss\u001b[0m \u001b[1;33m=\u001b[0m \u001b[0mmodel_stepper\u001b[0m\u001b[1;33m.\u001b[0m\u001b[0mstep\u001b[0m\u001b[1;33m(\u001b[0m\u001b[0mV\u001b[0m\u001b[1;33m(\u001b[0m\u001b[0mx\u001b[0m\u001b[1;33m)\u001b[0m\u001b[1;33m,\u001b[0m\u001b[0mV\u001b[0m\u001b[1;33m(\u001b[0m\u001b[0my\u001b[0m\u001b[1;33m)\u001b[0m\u001b[1;33m,\u001b[0m \u001b[0mepoch\u001b[0m\u001b[1;33m)\u001b[0m\u001b[1;33m\u001b[0m\u001b[0m\n\u001b[0m\u001b[0;32m    142\u001b[0m             \u001b[0mavg_loss\u001b[0m \u001b[1;33m=\u001b[0m \u001b[0mavg_loss\u001b[0m \u001b[1;33m*\u001b[0m \u001b[0mavg_mom\u001b[0m \u001b[1;33m+\u001b[0m \u001b[0mloss\u001b[0m \u001b[1;33m*\u001b[0m \u001b[1;33m(\u001b[0m\u001b[1;36m1\u001b[0m\u001b[1;33m-\u001b[0m\u001b[0mavg_mom\u001b[0m\u001b[1;33m)\u001b[0m\u001b[1;33m\u001b[0m\u001b[0m\n\u001b[0;32m    143\u001b[0m             \u001b[0mdebias_loss\u001b[0m \u001b[1;33m=\u001b[0m \u001b[0mavg_loss\u001b[0m \u001b[1;33m/\u001b[0m \u001b[1;33m(\u001b[0m\u001b[1;36m1\u001b[0m \u001b[1;33m-\u001b[0m \u001b[0mavg_mom\u001b[0m\u001b[1;33m**\u001b[0m\u001b[0mbatch_num\u001b[0m\u001b[1;33m)\u001b[0m\u001b[1;33m\u001b[0m\u001b[0m\n",
      "\u001b[1;32m~\\Documents\\imdb_sync\\fastai\\model.py\u001b[0m in \u001b[0;36mstep\u001b[1;34m(self, xs, y, epoch)\u001b[0m\n\u001b[0;32m     72\u001b[0m             \u001b[0mcopy_fp32_to_model\u001b[0m\u001b[1;33m(\u001b[0m\u001b[0mself\u001b[0m\u001b[1;33m.\u001b[0m\u001b[0mm\u001b[0m\u001b[1;33m,\u001b[0m \u001b[0mself\u001b[0m\u001b[1;33m.\u001b[0m\u001b[0mfp32_params\u001b[0m\u001b[1;33m)\u001b[0m\u001b[1;33m\u001b[0m\u001b[0m\n\u001b[0;32m     73\u001b[0m             \u001b[0mtorch\u001b[0m\u001b[1;33m.\u001b[0m\u001b[0mcuda\u001b[0m\u001b[1;33m.\u001b[0m\u001b[0msynchronize\u001b[0m\u001b[1;33m(\u001b[0m\u001b[1;33m)\u001b[0m\u001b[1;33m\u001b[0m\u001b[0m\n\u001b[1;32m---> 74\u001b[1;33m         \u001b[1;32mreturn\u001b[0m \u001b[0mtorch_item\u001b[0m\u001b[1;33m(\u001b[0m\u001b[0mraw_loss\u001b[0m\u001b[1;33m.\u001b[0m\u001b[0mdata\u001b[0m\u001b[1;33m)\u001b[0m\u001b[1;33m\u001b[0m\u001b[0m\n\u001b[0m\u001b[0;32m     75\u001b[0m \u001b[1;33m\u001b[0m\u001b[0m\n\u001b[0;32m     76\u001b[0m     \u001b[1;32mdef\u001b[0m \u001b[0mevaluate\u001b[0m\u001b[1;33m(\u001b[0m\u001b[0mself\u001b[0m\u001b[1;33m,\u001b[0m \u001b[0mxs\u001b[0m\u001b[1;33m,\u001b[0m \u001b[0my\u001b[0m\u001b[1;33m)\u001b[0m\u001b[1;33m:\u001b[0m\u001b[1;33m\u001b[0m\u001b[0m\n",
      "\u001b[1;31mKeyboardInterrupt\u001b[0m: "
     ]
    }
   ],
   "source": [
    "# After this, let's train the last layer(s) a bit by themselves\n",
    "learner.unfreeze()\n",
    "learner.freeze_to(-1)\n",
    "\n",
    "learner.fit(1e-4, 1, wds=wd, cycle_len=3) # did"
   ]
  },
  {
   "cell_type": "markdown",
   "metadata": {
    "colab_type": "text",
    "id": "dtphT3CQMWfX"
   },
   "source": [
    "Note that we print out accuracy and keep track of how often we end up predicting the target word correctly. While this is a good metric to check, it is not part of our loss function as it can get quite bumpy. We only minimize cross-entropy loss in the LM.\n",
    "\n",
    "The exponent of the cross-entropy loss is called the perplexity of the LM. (low perplexity is better)."
   ]
  },
  {
   "cell_type": "code",
   "execution_count": 63,
   "metadata": {
    "colab": {},
    "colab_type": "code",
    "id": "Cpbnd8FYMWfd"
   },
   "outputs": [],
   "source": [
    "learner.unfreeze()"
   ]
  },
  {
   "cell_type": "code",
   "execution_count": 77,
   "metadata": {
    "colab": {},
    "colab_type": "code",
    "id": "VDFm0VbvMWff"
   },
   "outputs": [
    {
     "data": {
      "application/vnd.jupyter.widget-view+json": {
       "model_id": "5dc4eb4c491045df8a4332a9dc3f7b81",
       "version_major": 2,
       "version_minor": 0
      },
      "text/plain": [
       "HBox(children=(IntProgress(value=0, description='Epoch', max=1), HTML(value='')))"
      ]
     },
     "metadata": {},
     "output_type": "display_data"
    },
    {
     "name": "stdout",
     "output_type": "stream",
     "text": [
      "epoch      trn_loss   val_loss   accuracy                                                                              \n",
      "    0      5.318755   5.140305   0.217942  \n",
      "\n"
     ]
    }
   ],
   "source": [
    "learner.lr_find(start_lr=lrs/10, end_lr=lrs*10, linear=True)"
   ]
  },
  {
   "cell_type": "code",
   "execution_count": 78,
   "metadata": {
    "colab": {},
    "colab_type": "code",
    "id": "CeR1mFsWMWfg"
   },
   "outputs": [
    {
     "data": {
      "image/png": "[encoded data removed]",
      "text/plain": [
       "<Figure size 432x288 with 1 Axes>"
      ]
     },
     "metadata": {},
     "output_type": "display_data"
    }
   ],
   "source": [
    "learner.sched.plot()"
   ]
  },
  {
   "cell_type": "code",
   "execution_count": 64,
   "metadata": {},
   "outputs": [],
   "source": [
    "lrs =.0004 # halving lr. too slow.\n",
    "#lrs = .001 #back to original to speed training. wait, error went UP? wtf? was i using small lr before??\n",
    "# running again w smaller lr after loading from previous checkpoint. wtf it started from scratch again?? \n",
    "# val loss is way up again!! eff it. just using the ones saved from yesterday."
   ]
  },
  {
   "cell_type": "code",
   "execution_count": 101,
   "metadata": {},
   "outputs": [],
   "source": [
    "learner.load('lm1')"
   ]
  },
  {
   "cell_type": "code",
   "execution_count": 69,
   "metadata": {
    "colab": {
     "base_uri": "https://localhost:8080/",
     "height": 101
    },
    "colab_type": "code",
    "id": "OnQDHt2eMWfj",
    "outputId": "0c28d6fe-fccc-4060-f3ed-8334bf5e82b6",
    "scrolled": true
   },
   "outputs": [
    {
     "data": {
      "application/vnd.jupyter.widget-view+json": {
       "model_id": "08fe833c2df04cb19ee5f97d1cfcb658",
       "version_major": 2,
       "version_minor": 0
      },
      "text/plain": [
       "HBox(children=(IntProgress(value=0, description='Epoch', max=1), HTML(value='')))"
      ]
     },
     "metadata": {},
     "output_type": "display_data"
    },
    {
     "name": "stdout",
     "output_type": "stream",
     "text": [
      "epoch      trn_loss   val_loss   accuracy                                                                              \n",
      "    0      4.482863   4.328416   0.296496  \n"
     ]
    },
    {
     "data": {
      "text/plain": [
       "[array([4.32842]), 0.29649594552322445]"
      ]
     },
     "execution_count": 69,
     "metadata": {},
     "output_type": "execute_result"
    }
   ],
   "source": [
    "learner.fit(lrs, 1, wds=wd, cycle_len=1) # JH uses 15 here, we'll use 10 (less data). 8.19 trying 8"
   ]
  },
  {
   "cell_type": "markdown",
   "metadata": {
    "colab_type": "text",
    "id": "ThDxFGt0MWfm"
   },
   "source": [
    "We save the trained model weights and separately save the encoder part of the LM model as well. This will serve as our backbone in the classification task model."
   ]
  },
  {
   "cell_type": "code",
   "execution_count": 66,
   "metadata": {
    "colab": {},
    "colab_type": "code",
    "id": "OBMEI5OVMWfo"
   },
   "outputs": [],
   "source": [
    "learner.save('lm1')"
   ]
  },
  {
   "cell_type": "code",
   "execution_count": 67,
   "metadata": {
    "colab": {},
    "colab_type": "code",
    "id": "E-nqlyHYMWfp"
   },
   "outputs": [],
   "source": [
    "learner.save_encoder('lm1_enc')"
   ]
  },
  {
   "cell_type": "code",
   "execution_count": 70,
   "metadata": {
    "colab": {},
    "colab_type": "code",
    "id": "XVqJcXrDMWfq",
    "scrolled": true
   },
   "outputs": [
    {
     "data": {
      "image/png": "[encoded data removed]",
      "text/plain": [
       "<Figure size 432x288 with 1 Axes>"
      ]
     },
     "metadata": {},
     "output_type": "display_data"
    }
   ],
   "source": [
    "learner.sched.plot_loss()\n"
   ]
  },
  {
   "cell_type": "code",
   "execution_count": null,
   "metadata": {},
   "outputs": [],
   "source": []
  },
  {
   "cell_type": "code",
   "execution_count": 71,
   "metadata": {
    "scrolled": true
   },
   "outputs": [],
   "source": [
    "for c in learner.children:\n",
    "    for p in c.parameters():\n",
    "        del p\n",
    "    del c\n",
    "        \n",
    "del learner\n",
    "        \n",
    "torch.cuda.empty_cache()\n",
    "\n"
   ]
  },
  {
   "cell_type": "markdown",
   "metadata": {
    "colab_type": "text",
    "id": "beFvL2n1MWf7"
   },
   "source": [
    "## Classifier"
   ]
  },
  {
   "cell_type": "markdown",
   "metadata": {
    "colab_type": "text",
    "id": "pkEBapZEMWf8"
   },
   "source": [
    "Now we can create our final model, a classifier which is really a custom linear head over our trained IMDB backbone. The steps to create the classifier model are similar to the ones for the LM."
   ]
  },
  {
   "cell_type": "code",
   "execution_count": 9,
   "metadata": {
    "colab": {
     "base_uri": "https://localhost:8080/",
     "height": 34
    },
    "colab_type": "code",
    "id": "PrNBcnJ1YYYu",
    "outputId": "66c2038f-01f3-46a2-b511-51d6245e18b4"
   },
   "outputs": [
    {
     "data": {
      "text/plain": [
       "(25000, 50000, 22500, 2500)"
      ]
     },
     "execution_count": 9,
     "metadata": {},
     "output_type": "execute_result"
    }
   ],
   "source": [
    "# Only using data with labels\n",
    "no_test_df = df[df[\"dataset\"]==\"train\"]\n",
    "\n",
    "# Splitting that subset into train and val\n",
    "trn_df, val_df = sklearn.model_selection.train_test_split(no_test_df, test_size=0.1)\n",
    "\n",
    "len(no_test_df), len(df), len(trn_df), len(val_df)"
   ]
  },
  {
   "cell_type": "code",
   "execution_count": 10,
   "metadata": {
    "scrolled": true
   },
   "outputs": [
    {
     "data": {
      "text/plain": [
       "11595    1\n",
       "5501     1\n",
       "2562     1\n",
       "11597    0\n",
       "245      1\n",
       "13910    0\n",
       "20272    1\n",
       "3436     0\n",
       "713      0\n",
       "14618    1\n",
       "15832    1\n",
       "21563    1\n",
       "2909     0\n",
       "22887    1\n",
       "10327    1\n",
       "9030     1\n",
       "7852     1\n",
       "4969     0\n",
       "3095     1\n",
       "10788    1\n",
       "13573    1\n",
       "9132     1\n",
       "7000     0\n",
       "18440    0\n",
       "22223    0\n",
       "18265    1\n",
       "1719     1\n",
       "16234    1\n",
       "9908     0\n",
       "19214    0\n",
       "        ..\n",
       "2957     0\n",
       "3110     1\n",
       "23474    0\n",
       "23308    1\n",
       "19953    0\n",
       "4695     1\n",
       "4552     1\n",
       "17111    1\n",
       "13565    1\n",
       "2944     1\n",
       "848      1\n",
       "8775     1\n",
       "1830     0\n",
       "12689    1\n",
       "20354    1\n",
       "16525    0\n",
       "13193    0\n",
       "8316     1\n",
       "19099    0\n",
       "2868     0\n",
       "23948    0\n",
       "15462    1\n",
       "20782    1\n",
       "19395    0\n",
       "11104    1\n",
       "5436     0\n",
       "17879    1\n",
       "9375     1\n",
       "3017     1\n",
       "2278     0\n",
       "Name: labels, Length: 2500, dtype: int64"
      ]
     },
     "execution_count": 10,
     "metadata": {},
     "output_type": "execute_result"
    }
   ],
   "source": [
    "val_df.labels"
   ]
  },
  {
   "cell_type": "code",
   "execution_count": 11,
   "metadata": {},
   "outputs": [
    {
     "data": {
      "text/plain": [
       "(25000, 7)"
      ]
     },
     "execution_count": 11,
     "metadata": {},
     "output_type": "execute_result"
    }
   ],
   "source": [
    "test_df = df[df[\"dataset\"]==\"test\"]; test_df.shape"
   ]
  },
  {
   "cell_type": "code",
   "execution_count": 12,
   "metadata": {},
   "outputs": [
    {
     "data": {
      "text/html": [
       "<div>\n",
       "<style scoped>\n",
       "    .dataframe tbody tr th:only-of-type {\n",
       "        vertical-align: middle;\n",
       "    }\n",
       "\n",
       "    .dataframe tbody tr th {\n",
       "        vertical-align: top;\n",
       "    }\n",
       "\n",
       "    .dataframe thead th {\n",
       "        text-align: right;\n",
       "    }\n",
       "</style>\n",
       "<table border=\"1\" class=\"dataframe\">\n",
       "  <thead>\n",
       "    <tr style=\"text-align: right;\">\n",
       "      <th></th>\n",
       "      <th>Unnamed: 0</th>\n",
       "      <th>dataset</th>\n",
       "      <th>id</th>\n",
       "      <th>labels</th>\n",
       "      <th>text</th>\n",
       "      <th>tokenized_text</th>\n",
       "      <th>numerized_tokens</th>\n",
       "    </tr>\n",
       "  </thead>\n",
       "  <tbody>\n",
       "    <tr>\n",
       "      <th>25000</th>\n",
       "      <td>0</td>\n",
       "      <td>test</td>\n",
       "      <td>98481</td>\n",
       "      <td>3</td>\n",
       "      <td>Bud Abbott and Lou Costello always had a good ...</td>\n",
       "      <td>['\\n', 'xbos', 'xfld', '1', '98481', 'xfld', '...</td>\n",
       "      <td>[42, 43, 14, 18, 0, 14, 18, 68, 14, 39, 5284, ...</td>\n",
       "    </tr>\n",
       "    <tr>\n",
       "      <th>25001</th>\n",
       "      <td>1</td>\n",
       "      <td>test</td>\n",
       "      <td>88606</td>\n",
       "      <td>3</td>\n",
       "      <td>This film is not your typical Hollywood fare, ...</td>\n",
       "      <td>['\\n', 'xbos', 'xfld', '1', '88606', 'xfld', '...</td>\n",
       "      <td>[42, 43, 14, 18, 0, 14, 18, 68, 14, 39, 13, 27...</td>\n",
       "    </tr>\n",
       "    <tr>\n",
       "      <th>25002</th>\n",
       "      <td>2</td>\n",
       "      <td>test</td>\n",
       "      <td>88639</td>\n",
       "      <td>3</td>\n",
       "      <td>Henry Thomas, and Robin Tunny, are a couple of...</td>\n",
       "      <td>['\\n', 'xbos', 'xfld', '1', '88639', 'xfld', '...</td>\n",
       "      <td>[42, 43, 14, 18, 0, 14, 18, 68, 14, 39, 1636, ...</td>\n",
       "    </tr>\n",
       "    <tr>\n",
       "      <th>25003</th>\n",
       "      <td>3</td>\n",
       "      <td>test</td>\n",
       "      <td>76170</td>\n",
       "      <td>3</td>\n",
       "      <td>This digital horror film brings us into the Mi...</td>\n",
       "      <td>['\\n', 'xbos', 'xfld', '1', '76170', 'xfld', '...</td>\n",
       "      <td>[42, 43, 14, 18, 0, 14, 18, 68, 14, 39, 13, 36...</td>\n",
       "    </tr>\n",
       "    <tr>\n",
       "      <th>25004</th>\n",
       "      <td>4</td>\n",
       "      <td>test</td>\n",
       "      <td>81803</td>\n",
       "      <td>3</td>\n",
       "      <td>I just saw this on a local independent station...</td>\n",
       "      <td>['\\n', 'xbos', 'xfld', '1', '81803', 'xfld', '...</td>\n",
       "      <td>[42, 43, 14, 18, 0, 14, 18, 68, 14, 39, 12, 56...</td>\n",
       "    </tr>\n",
       "  </tbody>\n",
       "</table>\n",
       "</div>"
      ],
      "text/plain": [
       "       Unnamed: 0 dataset     id  labels  \\\n",
       "25000           0    test  98481       3   \n",
       "25001           1    test  88606       3   \n",
       "25002           2    test  88639       3   \n",
       "25003           3    test  76170       3   \n",
       "25004           4    test  81803       3   \n",
       "\n",
       "                                                    text  \\\n",
       "25000  Bud Abbott and Lou Costello always had a good ...   \n",
       "25001  This film is not your typical Hollywood fare, ...   \n",
       "25002  Henry Thomas, and Robin Tunny, are a couple of...   \n",
       "25003  This digital horror film brings us into the Mi...   \n",
       "25004  I just saw this on a local independent station...   \n",
       "\n",
       "                                          tokenized_text  \\\n",
       "25000  ['\\n', 'xbos', 'xfld', '1', '98481', 'xfld', '...   \n",
       "25001  ['\\n', 'xbos', 'xfld', '1', '88606', 'xfld', '...   \n",
       "25002  ['\\n', 'xbos', 'xfld', '1', '88639', 'xfld', '...   \n",
       "25003  ['\\n', 'xbos', 'xfld', '1', '76170', 'xfld', '...   \n",
       "25004  ['\\n', 'xbos', 'xfld', '1', '81803', 'xfld', '...   \n",
       "\n",
       "                                        numerized_tokens  \n",
       "25000  [42, 43, 14, 18, 0, 14, 18, 68, 14, 39, 5284, ...  \n",
       "25001  [42, 43, 14, 18, 0, 14, 18, 68, 14, 39, 13, 27...  \n",
       "25002  [42, 43, 14, 18, 0, 14, 18, 68, 14, 39, 1636, ...  \n",
       "25003  [42, 43, 14, 18, 0, 14, 18, 68, 14, 39, 13, 36...  \n",
       "25004  [42, 43, 14, 18, 0, 14, 18, 68, 14, 39, 12, 56...  "
      ]
     },
     "execution_count": 12,
     "metadata": {},
     "output_type": "execute_result"
    }
   ],
   "source": [
    "test_df.head()"
   ]
  },
  {
   "cell_type": "markdown",
   "metadata": {
    "colab_type": "text",
    "id": "2lF6B6TvMWgD"
   },
   "source": [
    "In the classifier, unlike LM, we need to read a movie review at a time and learn to predict the it's sentiment as pos/neg. We do not deal with equal bptt size batches, so we have to pad the sequences to the same length in each batch. To create batches of similar sized movie reviews, we use a sortish sampler method invented by [@Smerity](https://twitter.com/Smerity) and [@jekbradbury](https://twitter.com/jekbradbury)\n",
    "\n",
    "The sortishSampler cuts down the overall number of padding tokens the classifier ends up seeing."
   ]
  },
  {
   "cell_type": "code",
   "execution_count": 13,
   "metadata": {
    "colab": {},
    "colab_type": "code",
    "id": "kkrx6upuaSof",
    "scrolled": true
   },
   "outputs": [],
   "source": [
    "trn_clas = np.array(trn_df[\"numerized_tokens\"])\n",
    "val_clas = np.array(val_df[\"numerized_tokens\"])\n",
    "test_clas = np.array(test_df[\"numerized_tokens\"])\n",
    "\n",
    "trn_labels = np.squeeze(np.array(trn_df[\"labels\"]))\n",
    "val_labels = np.squeeze(np.array(val_df[\"labels\"]))\n",
    "test_labels = np.squeeze(np.array(test_df[\"labels\"])) # placeholder. meaningless\n",
    "\n",
    "trn_ds = TextDataset(trn_clas, trn_labels)\n",
    "val_ds = TextDataset(val_clas, val_labels)\n",
    "test_ds = TextDataset(test_clas, test_labels)\n"
   ]
  },
  {
   "cell_type": "code",
   "execution_count": 14,
   "metadata": {
    "scrolled": true
   },
   "outputs": [
    {
     "data": {
      "text/plain": [
       "(array([list([42, 43, 14, 18, 0, 14, 18, 136, 14, 39, 1347, 5, 6765, 772, 313, 19, 831, 23, 15, 63, 875, 200, 125, 303, 3639, 34873, 32545, 12897, 37, 117, 164, 2, 441, 240, 7, 4465, 7971, 4, 50, 20, 747, 40, 7, 2, 259, 1058, 17, 111, 5908, 12015, 126, 1569, 2325, 3, 628, 731, 19, 8, 19, 395, 165, 11, 430, 4065, 4, 16, 7971, 16, 9, 49, 9697, 8434, 4, 374, 4, 947, 897, 5, 2380, 14873, 15796, 19, 3216, 7, 6, 313, 19, 831, 468, 15, 133, 393, 10965, 106, 2, 9616, 5, 5485, 6495, 7, 2, 546, 3215, 2722, 53, 10, 86, 2, 934, 67, 1059, 8, 57, 48, 64, 10, 92, 4, 217, 4, 617, 8, 57, 24, 1006, 1773, 8, 88, 9, 8096, 66, 452, 7, 2413, 11, 2, 526, 24, 2, 147, 47, 2342, 110, 59, 8, 41, 64, 9, 1171, 6, 2784, 4, 45994, 5, 5016, 7407, 2834, 4110, 3499, 50, 20, 353, 21739, 61, 24, 134, 11, 44, 2, 383, 1379, 22, 3357, 8, 2, 1075, 4, 14387, 5, 11398, 21928, 5, 8182, 15, 36, 20, 48, 466, 4, 4065, 17, 16, 7971, 16, 9, 40, 15, 313, 19, 831, 4596, 2518, 254, 22, 91, 1861, 107, 12, 168, 34, 3934, 69, 12, 154, 15, 10, 17, 40, 7, 2, 270, 1569, 19, 499, 18434, 146, 245, 48, 10, 17, 78, 0, 94, 101, 1163, 5, 15123, 731, 19, 8, 19, 395, 1173, 53, 16, 0, 16, 4, 16, 18497, 16, 4, 16, 1367, 7529, 16, 5, 16, 2, 332, 6958, 16, 48, 32, 2395, 19, 1653, 427, 29])],\n",
       "       dtype=object),\n",
       " array([list([42, 43, 14, 18, 0, 14, 18, 68, 14, 39, 5284, 7046, 5, 3741, 6010, 237, 86, 6, 67, 983, 787, 434, 4, 26, 11, 85, 3887, 12, 123, 28, 97, 154, 15, 46, 81, 112, 40, 27, 15, 97, 41, 22242, 24, 372, 3, 683, 5, 2, 19169, 20, 15, 40, 27, 3, 21, 10, 20, 194, 7, 6, 128, 457, 1720, 804, 52, 2828, 1135, 4, 2, 359, 27, 131, 7046, 5, 6010, 918, 1566, 23249, 3, 155, 87, 2, 81, 128, 127, 2, 878, 112, 11, 1460, 3, 21, 2, 128, 7, 115, 4, 59, 7, 179, 22, 679, 4, 214, 6, 317, 24, 6, 71, 12754, 5, 2902, 213, 612, 39950, 22, 6, 10099, 3, 283, 10, 555, 59, 25, 6010, 1690, 8, 361, 2, 541, 4, 683, 5, 2, 19169, 22, 6, 17244, 83, 4, 2, 213, 9091, 4103, 74, 914, 10, 8, 6010, 3, 3741, 765, 2406, 5, 11, 37, 1469, 36, 29720, 36, 17, 879, 683, 2, 1334, 499, 3, 21, 1759, 19654, 50, 18290, 2, 878, 11, 2566, 3946, 322, 2, 1334, 5, 36, 17, 208, 6, 1334, 3277, 3681, 1652, 22, 37, 10491, 3, 3681, 20, 6, 215, 266, 4, 50678, 16, 4, 5, 28, 79, 826, 72, 86, 66, 5919, 131, 200, 574, 69, 58, 6025, 20, 351, 22, 6, 981, 3, 40, 7, 2, 81, 1870, 50, 146, 601, 199, 45, 58, 20, 335, 1957, 11, 299, 36499, 45, 0, 16, 3, 1636, 3817, 5, 621, 1458, 11, 30, 280, 7833, 117, 105, 3471, 1192, 744, 58, 4, 26, 195, 58, 6025, 20, 194, 7, 6, 3156, 3, 21, 30421, 41528, 5, 621, 3474, 87, 2, 2732, 5, 2244, 7, 2, 1041, 5, 46, 6339, 1289, 4, 26, 97, 31, 517, 301, 256, 3, 13, 20, 2, 259, 27, 7, 1019, 50679, 50, 17, 641, 2043, 52, 2, 430, 1288, 281, 503, 5, 78, 8, 2, 492, 7, 2, 259, 1058, 30, 933, 3, 36, 278, 2732, 30421, 17, 352, 2, 720, 3, 21, 66, 34, 1980, 912, 706, 1575, 407, 52, 683, 5, 2, 19169, 4, 598, 2, 441, 620, 3, 12, 91, 405, 22, 6, 541, 285, 2, 14891, 1881, 7, 5284, 5, 3741, 1199, 2, 620, 5, 11922, 2, 83, 3, 12, 20, 11, 77, 430, 701, 28094, 175, 4, 26, 909, 6, 10868, 350, 7, 85, 17, 164, 15, 5, 85, 705, 229, 3, 21, 683, 5, 2, 19169, 9, 153, 6, 67, 434, 17, 457, 24, 2, 71, 213, 4, 176, 12, 73, 3197, 786, 8, 3197, 85, 143, 39828, 34, 8, 8484, 213, 1161, 39950, 3])],\n",
       "       dtype=object))"
      ]
     },
     "execution_count": 14,
     "metadata": {},
     "output_type": "execute_result"
    }
   ],
   "source": [
    "trn_clas[:1], test_clas[:1]"
   ]
  },
  {
   "cell_type": "code",
   "execution_count": 15,
   "metadata": {
    "colab": {},
    "colab_type": "code",
    "id": "G5Ksss7aMWgG"
   },
   "outputs": [],
   "source": [
    "trn_samp = SortishSampler(trn_clas, key=lambda x: len(trn_clas[x]), bs=bs//2)\n",
    "val_samp = SortSampler(val_clas, key=lambda x: len(val_clas[x]))\n",
    "#test_samp = SortSampler(test_clas, key=lambda x: len(test_clas[x]))\n",
    "\n",
    "bs = 5\n",
    "trn_dl = DataLoader(trn_ds, bs, transpose=True, num_workers=1, pad_idx=1, sampler=trn_samp)\n",
    "val_dl = DataLoader(val_ds, bs, transpose=True, num_workers=1, pad_idx=1, sampler=val_samp)\n",
    "test_dl = DataLoader(test_ds, bs, transpose=True, num_workers=1, pad_idx=1) # for ease of submission, don't sort out of order\n",
    "\n",
    "md = ModelData(PATH, trn_dl, val_dl, test_dl=test_dl)"
   ]
  },
  {
   "cell_type": "code",
   "execution_count": 16,
   "metadata": {},
   "outputs": [],
   "source": [
    "# Testing w out sorting to validate\n",
    "\n",
    "#val_dl = DataLoader(val_ds, bs, transpose=True, num_workers=1, pad_idx=1)"
   ]
  },
  {
   "cell_type": "code",
   "execution_count": 17,
   "metadata": {
    "colab": {},
    "colab_type": "code",
    "id": "fK9z_asUMWgL"
   },
   "outputs": [],
   "source": [
    "# part 1\n",
    "dps = np.array([0.4, 0.5, 0.05, 0.3, 0.1])"
   ]
  },
  {
   "cell_type": "code",
   "execution_count": 18,
   "metadata": {
    "colab": {},
    "colab_type": "code",
    "id": "JLbgEdvyMWgP"
   },
   "outputs": [],
   "source": [
    "dps = np.array([0.4,0.5,0.05,0.3,0.4])*0.5\n",
    "bptt = 20"
   ]
  },
  {
   "cell_type": "code",
   "execution_count": 19,
   "metadata": {
    "colab": {},
    "colab_type": "code",
    "id": "MlKBpEy4MWgR"
   },
   "outputs": [],
   "source": [
    "c = 2 # NUMBER OF CLASSES\n",
    "\n",
    "\n",
    "m = get_rnn_classifier(bptt, 20*bptt, c, vs, emb_sz=em_sz, n_hid=nh, n_layers=nl, pad_token=1,\n",
    "          layers=[em_sz*3, 50, c], drops=[dps[4], 0.1],\n",
    "          dropouti=dps[0], wdrop=dps[1], dropoute=dps[2], dropouth=dps[3])\n",
    "\n",
    "# Was getting error here in normal pip installed version. Have to get latest from github, then pip install as above"
   ]
  },
  {
   "cell_type": "code",
   "execution_count": 20,
   "metadata": {
    "colab": {},
    "colab_type": "code",
    "id": "pX1MSel-MWgT"
   },
   "outputs": [],
   "source": [
    "opt_fn = partial(optim.Adam, betas=(0.7, 0.99))"
   ]
  },
  {
   "cell_type": "code",
   "execution_count": 21,
   "metadata": {
    "colab": {},
    "colab_type": "code",
    "id": "jHhDFY7gMWgV",
    "scrolled": true
   },
   "outputs": [],
   "source": [
    "learn = RNN_Learner(md, TextModel(to_gpu(m)), opt_fn=opt_fn)\n",
    "learn.reg_fn = partial(seq2seq_reg, alpha=2, beta=1)\n",
    "learn.clip=25.\n",
    "learn.metrics = [accuracy]"
   ]
  },
  {
   "cell_type": "code",
   "execution_count": 22,
   "metadata": {
    "colab": {},
    "colab_type": "code",
    "id": "WYPA2RF3MWgZ"
   },
   "outputs": [],
   "source": [
    "lr=3e-3\n",
    "lrm = 2.6\n",
    "lrs = np.array([lr/(lrm**4), lr/(lrm**3), lr/(lrm**2), lr/lrm, lr])"
   ]
  },
  {
   "cell_type": "code",
   "execution_count": 23,
   "metadata": {
    "colab": {},
    "colab_type": "code",
    "id": "x2I9KNvAMWga"
   },
   "outputs": [],
   "source": [
    "lrs=np.array([1e-4,1e-4,1e-4,1e-3,1e-2])"
   ]
  },
  {
   "cell_type": "code",
   "execution_count": 24,
   "metadata": {
    "colab": {},
    "colab_type": "code",
    "id": "2wK9LjadMWgb",
    "scrolled": true
   },
   "outputs": [],
   "source": [
    "wd = 1e-7\n",
    "wd = 0\n",
    "learn.load_encoder('lm1_enc')"
   ]
  },
  {
   "cell_type": "code",
   "execution_count": 25,
   "metadata": {
    "colab": {},
    "colab_type": "code",
    "id": "hXoWGYoDMWge"
   },
   "outputs": [],
   "source": [
    "learn.freeze_to(-1)"
   ]
  },
  {
   "cell_type": "code",
   "execution_count": 27,
   "metadata": {
    "colab": {},
    "colab_type": "code",
    "id": "yd0SyD0hMWgh"
   },
   "outputs": [
    {
     "data": {
      "application/vnd.jupyter.widget-view+json": {
       "model_id": "a00918bcb54c44aabe9ca48870e07103",
       "version_major": 2,
       "version_minor": 0
      },
      "text/plain": [
       "HBox(children=(IntProgress(value=0, description='Epoch', max=1), HTML(value='')))"
      ]
     },
     "metadata": {},
     "output_type": "display_data"
    },
    {
     "name": "stdout",
     "output_type": "stream",
     "text": [
      " 71%|███████████████████████████████████████████████▎                   | 3181/4500 [12:53<05:20,  4.11it/s, loss=1.35]"
     ]
    },
    {
     "data": {
      "image/png": "[encoded data removed]",
      "text/plain": [
       "<Figure size 432x288 with 1 Axes>"
      ]
     },
     "metadata": {},
     "output_type": "display_data"
    }
   ],
   "source": [
    "learn.lr_find(lrs/1000)\n",
    "learn.sched.plot()"
   ]
  },
  {
   "cell_type": "code",
   "execution_count": 26,
   "metadata": {},
   "outputs": [],
   "source": [
    "lrs = 1e-4"
   ]
  },
  {
   "cell_type": "code",
   "execution_count": 27,
   "metadata": {
    "colab": {},
    "colab_type": "code",
    "id": "wf6d53jFMWgi",
    "scrolled": true
   },
   "outputs": [
    {
     "data": {
      "application/vnd.jupyter.widget-view+json": {
       "model_id": "07b2bd0c40e7424383a6926a1875f168",
       "version_major": 2,
       "version_minor": 0
      },
      "text/plain": [
       "HBox(children=(IntProgress(value=0, description='Epoch', max=2), HTML(value='')))"
      ]
     },
     "metadata": {},
     "output_type": "display_data"
    },
    {
     "name": "stdout",
     "output_type": "stream",
     "text": [
      "epoch      trn_loss   val_loss   accuracy                                                                              \n",
      "    0      0.285526   0.199439   0.934     \n",
      "    1      0.320537   0.191448   0.9428                                                                                \n",
      "\n"
     ]
    },
    {
     "data": {
      "text/plain": [
       "[array([0.19145]), 0.9428000032901764]"
      ]
     },
     "execution_count": 27,
     "metadata": {},
     "output_type": "execute_result"
    }
   ],
   "source": [
    "# Only do this one!\n",
    "learn.fit(lrs, 1, wds=wd, cycle_len=2, best_save_name='clas-best') # Train the classifier layer (?) for one epoch"
   ]
  },
  {
   "cell_type": "code",
   "execution_count": 36,
   "metadata": {
    "scrolled": true
   },
   "outputs": [
    {
     "data": {
      "text/plain": [
       "SequentialRNN(\n",
       "  (0): MultiBatchRNN(\n",
       "    (encoder): Embedding(52315, 400, padding_idx=1)\n",
       "    (encoder_with_dropout): EmbeddingDropout(\n",
       "      (embed): Embedding(52315, 400, padding_idx=1)\n",
       "    )\n",
       "    (rnns): ModuleList(\n",
       "      (0): WeightDrop(\n",
       "        (module): LSTM(400, 1150)\n",
       "      )\n",
       "      (1): WeightDrop(\n",
       "        (module): LSTM(1150, 1150)\n",
       "      )\n",
       "      (2): WeightDrop(\n",
       "        (module): LSTM(1150, 400)\n",
       "      )\n",
       "    )\n",
       "    (dropouti): LockedDropout(\n",
       "    )\n",
       "    (dropouths): ModuleList(\n",
       "      (0): LockedDropout(\n",
       "      )\n",
       "      (1): LockedDropout(\n",
       "      )\n",
       "      (2): LockedDropout(\n",
       "      )\n",
       "    )\n",
       "  )\n",
       "  (1): PoolingLinearClassifier(\n",
       "    (layers): ModuleList(\n",
       "      (0): LinearBlock(\n",
       "        (lin): Linear(in_features=1200, out_features=50, bias=True)\n",
       "        (drop): Dropout(p=0.2)\n",
       "        (bn): BatchNorm1d(1200, eps=1e-05, momentum=0.1, affine=True)\n",
       "      )\n",
       "      (1): LinearBlock(\n",
       "        (lin): Linear(in_features=50, out_features=2, bias=True)\n",
       "        (drop): Dropout(p=0.1)\n",
       "        (bn): BatchNorm1d(50, eps=1e-05, momentum=0.1, affine=True)\n",
       "      )\n",
       "    )\n",
       "  )\n",
       ")"
      ]
     },
     "execution_count": 36,
     "metadata": {},
     "output_type": "execute_result"
    }
   ],
   "source": [
    "#Trying this. Saw if in JH's code.\n",
    "\n",
    "learn.model.reset()\n",
    "learn.model.eval()"
   ]
  },
  {
   "cell_type": "code",
   "execution_count": 31,
   "metadata": {},
   "outputs": [],
   "source": [
    "learn.save('clas_0')"
   ]
  },
  {
   "cell_type": "code",
   "execution_count": 45,
   "metadata": {},
   "outputs": [],
   "source": [
    "learn.load(\"clas-best\")"
   ]
  },
  {
   "cell_type": "code",
   "execution_count": 57,
   "metadata": {},
   "outputs": [
    {
     "data": {
      "text/plain": [
       "PoolingLinearClassifier(\n",
       "  (layers): ModuleList(\n",
       "    (0): LinearBlock(\n",
       "      (lin): Linear(in_features=1200, out_features=50, bias=True)\n",
       "      (drop): Dropout(p=0.1)\n",
       "      (bn): BatchNorm1d(1200, eps=1e-05, momentum=0.1, affine=True)\n",
       "    )\n",
       "    (1): LinearBlock(\n",
       "      (lin): Linear(in_features=50, out_features=2, bias=True)\n",
       "      (drop): Dropout(p=0.1)\n",
       "      (bn): BatchNorm1d(50, eps=1e-05, momentum=0.1, affine=True)\n",
       "    )\n",
       "  )\n",
       ")"
      ]
     },
     "execution_count": 57,
     "metadata": {},
     "output_type": "execute_result"
    }
   ],
   "source": [
    "learn.model[1]"
   ]
  },
  {
   "cell_type": "code",
   "execution_count": 34,
   "metadata": {
    "colab": {},
    "colab_type": "code",
    "id": "e6NW8SweMWgn"
   },
   "outputs": [],
   "source": [
    "learn.freeze_to(-2) # Things break if do this!"
   ]
  },
  {
   "cell_type": "code",
   "execution_count": 32,
   "metadata": {},
   "outputs": [],
   "source": [
    "lrs = 1e-4"
   ]
  },
  {
   "cell_type": "code",
   "execution_count": 35,
   "metadata": {
    "colab": {
     "base_uri": "https://localhost:8080/",
     "height": 101
    },
    "colab_type": "code",
    "id": "Uxg3XdBrMWgo",
    "outputId": "de1625d2-ae27-405e-bb14-f725febe016a"
   },
   "outputs": [
    {
     "data": {
      "application/vnd.jupyter.widget-view+json": {
       "model_id": "a557ba5ebe4542f19f3a82a791291aee",
       "version_major": 2,
       "version_minor": 0
      },
      "text/plain": [
       "HBox(children=(IntProgress(value=0, description='Epoch', max=2), HTML(value='')))"
      ]
     },
     "metadata": {},
     "output_type": "display_data"
    },
    {
     "name": "stdout",
     "output_type": "stream",
     "text": [
      "epoch      trn_loss   val_loss   accuracy                                                                              \n",
      "    0      0.311772   0.171185   0.9468    \n",
      "    1      0.22299    0.102439   0.9676                                                                                \n",
      "\n"
     ]
    },
    {
     "data": {
      "text/plain": [
       "[array([0.10244]), 0.9676000018119812]"
      ]
     },
     "execution_count": 35,
     "metadata": {},
     "output_type": "execute_result"
    }
   ],
   "source": [
    "learn.fit(lrs, 1, wds=wd, cycle_len=2, use_clr=(8,3)) \n",
    "# Train the last two layers for one epoch\n",
    "# 8.20 did a couple epochs w lower lr, hasn't blown up like it did previously. trying w 5 epochs now.\n",
    "# Did 20 epochs. breaks like when below. pred mean way skewed down."
   ]
  },
  {
   "cell_type": "code",
   "execution_count": 36,
   "metadata": {
    "colab": {},
    "colab_type": "code",
    "id": "EjgOHbH_MWgp"
   },
   "outputs": [],
   "source": [
    "learn.save('clas_1')"
   ]
  },
  {
   "cell_type": "code",
   "execution_count": 30,
   "metadata": {
    "colab": {},
    "colab_type": "code",
    "id": "AmXoo7QjMWgq"
   },
   "outputs": [],
   "source": [
    "learn.load('clas_1')"
   ]
  },
  {
   "cell_type": "code",
   "execution_count": null,
   "metadata": {
    "colab": {},
    "colab_type": "code",
    "id": "w6SSyGhtMWgu"
   },
   "outputs": [],
   "source": [
    "#learn.unfreeze()"
   ]
  },
  {
   "cell_type": "code",
   "execution_count": null,
   "metadata": {},
   "outputs": [],
   "source": []
  },
  {
   "cell_type": "code",
   "execution_count": 29,
   "metadata": {
    "colab": {
     "base_uri": "https://localhost:8080/",
     "height": 134
    },
    "colab_type": "code",
    "id": "had3dZdLMWgv",
    "outputId": "cfa922b0-2d97-49d9-aa54-bd6de57068ea",
    "scrolled": true
   },
   "outputs": [
    {
     "ename": "RuntimeError",
     "evalue": "cuda runtime error (2) : out of memory at c:\\anaconda2\\conda-bld\\pytorch_1519501749874\\work\\torch\\lib\\thc\\generic/THCTensorMath.cu:35",
     "output_type": "error",
     "traceback": [
      "\u001b[1;31m---------------------------------------------------------------------------\u001b[0m",
      "\u001b[1;31mRuntimeError\u001b[0m                              Traceback (most recent call last)",
      "\u001b[1;32m<ipython-input-29-87d3af27e85f>\u001b[0m in \u001b[0;36m<module>\u001b[1;34m()\u001b[0m\n\u001b[0;32m      1\u001b[0m \u001b[1;31m#learn.fit(lrs, 1, wds=wd, cycle_len=14, use_clr=(32,10))\u001b[0m\u001b[1;33m\u001b[0m\u001b[1;33m\u001b[0m\u001b[0m\n\u001b[1;32m----> 2\u001b[1;33m \u001b[0mlearn\u001b[0m\u001b[1;33m.\u001b[0m\u001b[0mfit\u001b[0m\u001b[1;33m(\u001b[0m\u001b[0mlrs\u001b[0m\u001b[1;33m,\u001b[0m \u001b[1;36m1\u001b[0m\u001b[1;33m,\u001b[0m \u001b[0mwds\u001b[0m\u001b[1;33m=\u001b[0m\u001b[0mwd\u001b[0m\u001b[1;33m,\u001b[0m \u001b[0mcycle_len\u001b[0m\u001b[1;33m=\u001b[0m\u001b[1;36m3\u001b[0m\u001b[1;33m,\u001b[0m \u001b[0muse_clr\u001b[0m\u001b[1;33m=\u001b[0m\u001b[1;33m(\u001b[0m\u001b[1;36m32\u001b[0m\u001b[1;33m,\u001b[0m\u001b[1;36m10\u001b[0m\u001b[1;33m)\u001b[0m\u001b[1;33m)\u001b[0m \u001b[1;31m# Use ten here. Using 3 just to verify that loss is dropping\u001b[0m\u001b[1;33m\u001b[0m\u001b[0m\n\u001b[0m",
      "\u001b[1;32m~\\Documents\\imdb_sync\\fastai\\text.py\u001b[0m in \u001b[0;36mfit\u001b[1;34m(self, *args, **kwargs)\u001b[0m\n\u001b[0;32m    209\u001b[0m \u001b[1;33m\u001b[0m\u001b[0m\n\u001b[0;32m    210\u001b[0m     \u001b[1;32mdef\u001b[0m \u001b[0m_get_crit\u001b[0m\u001b[1;33m(\u001b[0m\u001b[0mself\u001b[0m\u001b[1;33m,\u001b[0m \u001b[0mdata\u001b[0m\u001b[1;33m)\u001b[0m\u001b[1;33m:\u001b[0m \u001b[1;32mreturn\u001b[0m \u001b[0mF\u001b[0m\u001b[1;33m.\u001b[0m\u001b[0mcross_entropy\u001b[0m\u001b[1;33m\u001b[0m\u001b[0m\n\u001b[1;32m--> 211\u001b[1;33m     \u001b[1;32mdef\u001b[0m \u001b[0mfit\u001b[0m\u001b[1;33m(\u001b[0m\u001b[0mself\u001b[0m\u001b[1;33m,\u001b[0m \u001b[1;33m*\u001b[0m\u001b[0margs\u001b[0m\u001b[1;33m,\u001b[0m \u001b[1;33m**\u001b[0m\u001b[0mkwargs\u001b[0m\u001b[1;33m)\u001b[0m\u001b[1;33m:\u001b[0m \u001b[1;32mreturn\u001b[0m \u001b[0msuper\u001b[0m\u001b[1;33m(\u001b[0m\u001b[1;33m)\u001b[0m\u001b[1;33m.\u001b[0m\u001b[0mfit\u001b[0m\u001b[1;33m(\u001b[0m\u001b[1;33m*\u001b[0m\u001b[0margs\u001b[0m\u001b[1;33m,\u001b[0m \u001b[1;33m**\u001b[0m\u001b[0mkwargs\u001b[0m\u001b[1;33m,\u001b[0m \u001b[0mseq_first\u001b[0m\u001b[1;33m=\u001b[0m\u001b[1;32mTrue\u001b[0m\u001b[1;33m)\u001b[0m\u001b[1;33m\u001b[0m\u001b[0m\n\u001b[0m\u001b[0;32m    212\u001b[0m \u001b[1;33m\u001b[0m\u001b[0m\n\u001b[0;32m    213\u001b[0m     \u001b[1;32mdef\u001b[0m \u001b[0msave_encoder\u001b[0m\u001b[1;33m(\u001b[0m\u001b[0mself\u001b[0m\u001b[1;33m,\u001b[0m \u001b[0mname\u001b[0m\u001b[1;33m)\u001b[0m\u001b[1;33m:\u001b[0m \u001b[0msave_model\u001b[0m\u001b[1;33m(\u001b[0m\u001b[0mself\u001b[0m\u001b[1;33m.\u001b[0m\u001b[0mmodel\u001b[0m\u001b[1;33m[\u001b[0m\u001b[1;36m0\u001b[0m\u001b[1;33m]\u001b[0m\u001b[1;33m,\u001b[0m \u001b[0mself\u001b[0m\u001b[1;33m.\u001b[0m\u001b[0mget_model_path\u001b[0m\u001b[1;33m(\u001b[0m\u001b[0mname\u001b[0m\u001b[1;33m)\u001b[0m\u001b[1;33m)\u001b[0m\u001b[1;33m\u001b[0m\u001b[0m\n",
      "\u001b[1;32m~\\Documents\\imdb_sync\\fastai\\learner.py\u001b[0m in \u001b[0;36mfit\u001b[1;34m(self, lrs, n_cycle, wds, **kwargs)\u001b[0m\n\u001b[0;32m    302\u001b[0m         \u001b[0mself\u001b[0m\u001b[1;33m.\u001b[0m\u001b[0msched\u001b[0m \u001b[1;33m=\u001b[0m \u001b[1;32mNone\u001b[0m\u001b[1;33m\u001b[0m\u001b[0m\n\u001b[0;32m    303\u001b[0m         \u001b[0mlayer_opt\u001b[0m \u001b[1;33m=\u001b[0m \u001b[0mself\u001b[0m\u001b[1;33m.\u001b[0m\u001b[0mget_layer_opt\u001b[0m\u001b[1;33m(\u001b[0m\u001b[0mlrs\u001b[0m\u001b[1;33m,\u001b[0m \u001b[0mwds\u001b[0m\u001b[1;33m)\u001b[0m\u001b[1;33m\u001b[0m\u001b[0m\n\u001b[1;32m--> 304\u001b[1;33m         \u001b[1;32mreturn\u001b[0m \u001b[0mself\u001b[0m\u001b[1;33m.\u001b[0m\u001b[0mfit_gen\u001b[0m\u001b[1;33m(\u001b[0m\u001b[0mself\u001b[0m\u001b[1;33m.\u001b[0m\u001b[0mmodel\u001b[0m\u001b[1;33m,\u001b[0m \u001b[0mself\u001b[0m\u001b[1;33m.\u001b[0m\u001b[0mdata\u001b[0m\u001b[1;33m,\u001b[0m \u001b[0mlayer_opt\u001b[0m\u001b[1;33m,\u001b[0m \u001b[0mn_cycle\u001b[0m\u001b[1;33m,\u001b[0m \u001b[1;33m**\u001b[0m\u001b[0mkwargs\u001b[0m\u001b[1;33m)\u001b[0m\u001b[1;33m\u001b[0m\u001b[0m\n\u001b[0m\u001b[0;32m    305\u001b[0m \u001b[1;33m\u001b[0m\u001b[0m\n\u001b[0;32m    306\u001b[0m     \u001b[1;32mdef\u001b[0m \u001b[0mwarm_up\u001b[0m\u001b[1;33m(\u001b[0m\u001b[0mself\u001b[0m\u001b[1;33m,\u001b[0m \u001b[0mlr\u001b[0m\u001b[1;33m,\u001b[0m \u001b[0mwds\u001b[0m\u001b[1;33m=\u001b[0m\u001b[1;32mNone\u001b[0m\u001b[1;33m)\u001b[0m\u001b[1;33m:\u001b[0m\u001b[1;33m\u001b[0m\u001b[0m\n",
      "\u001b[1;32m~\\Documents\\imdb_sync\\fastai\\learner.py\u001b[0m in \u001b[0;36mfit_gen\u001b[1;34m(self, model, data, layer_opt, n_cycle, cycle_len, cycle_mult, cycle_save_name, best_save_name, use_clr, use_clr_beta, metrics, callbacks, use_wd_sched, norm_wds, wds_sched_mult, use_swa, swa_start, swa_eval_freq, **kwargs)\u001b[0m\n\u001b[0;32m    249\u001b[0m             \u001b[0mmetrics\u001b[0m\u001b[1;33m=\u001b[0m\u001b[0mmetrics\u001b[0m\u001b[1;33m,\u001b[0m \u001b[0mcallbacks\u001b[0m\u001b[1;33m=\u001b[0m\u001b[0mcallbacks\u001b[0m\u001b[1;33m,\u001b[0m \u001b[0mreg_fn\u001b[0m\u001b[1;33m=\u001b[0m\u001b[0mself\u001b[0m\u001b[1;33m.\u001b[0m\u001b[0mreg_fn\u001b[0m\u001b[1;33m,\u001b[0m \u001b[0mclip\u001b[0m\u001b[1;33m=\u001b[0m\u001b[0mself\u001b[0m\u001b[1;33m.\u001b[0m\u001b[0mclip\u001b[0m\u001b[1;33m,\u001b[0m \u001b[0mfp16\u001b[0m\u001b[1;33m=\u001b[0m\u001b[0mself\u001b[0m\u001b[1;33m.\u001b[0m\u001b[0mfp16\u001b[0m\u001b[1;33m,\u001b[0m\u001b[1;33m\u001b[0m\u001b[0m\n\u001b[0;32m    250\u001b[0m             \u001b[0mswa_model\u001b[0m\u001b[1;33m=\u001b[0m\u001b[0mself\u001b[0m\u001b[1;33m.\u001b[0m\u001b[0mswa_model\u001b[0m \u001b[1;32mif\u001b[0m \u001b[0muse_swa\u001b[0m \u001b[1;32melse\u001b[0m \u001b[1;32mNone\u001b[0m\u001b[1;33m,\u001b[0m \u001b[0mswa_start\u001b[0m\u001b[1;33m=\u001b[0m\u001b[0mswa_start\u001b[0m\u001b[1;33m,\u001b[0m\u001b[1;33m\u001b[0m\u001b[0m\n\u001b[1;32m--> 251\u001b[1;33m             swa_eval_freq=swa_eval_freq, **kwargs)\n\u001b[0m\u001b[0;32m    252\u001b[0m \u001b[1;33m\u001b[0m\u001b[0m\n\u001b[0;32m    253\u001b[0m     \u001b[1;32mdef\u001b[0m \u001b[0mget_layer_groups\u001b[0m\u001b[1;33m(\u001b[0m\u001b[0mself\u001b[0m\u001b[1;33m)\u001b[0m\u001b[1;33m:\u001b[0m \u001b[1;32mreturn\u001b[0m \u001b[0mself\u001b[0m\u001b[1;33m.\u001b[0m\u001b[0mmodels\u001b[0m\u001b[1;33m.\u001b[0m\u001b[0mget_layer_groups\u001b[0m\u001b[1;33m(\u001b[0m\u001b[1;33m)\u001b[0m\u001b[1;33m\u001b[0m\u001b[0m\n",
      "\u001b[1;32m~\\Documents\\imdb_sync\\fastai\\model.py\u001b[0m in \u001b[0;36mfit\u001b[1;34m(model, data, n_epochs, opt, crit, metrics, callbacks, stepper, swa_model, swa_start, swa_eval_freq, visualize, **kwargs)\u001b[0m\n\u001b[0;32m    121\u001b[0m     \u001b[1;32mif\u001b[0m \u001b[0mlen\u001b[0m\u001b[1;33m(\u001b[0m\u001b[0mdata\u001b[0m\u001b[1;33m)\u001b[0m \u001b[1;33m==\u001b[0m \u001b[1;36m1\u001b[0m\u001b[1;33m:\u001b[0m \u001b[0mdata\u001b[0m \u001b[1;33m=\u001b[0m \u001b[0mdata\u001b[0m \u001b[1;33m*\u001b[0m \u001b[0mlen\u001b[0m\u001b[1;33m(\u001b[0m\u001b[0mn_epochs\u001b[0m\u001b[1;33m)\u001b[0m\u001b[1;33m\u001b[0m\u001b[0m\n\u001b[0;32m    122\u001b[0m     \u001b[1;32mfor\u001b[0m \u001b[0mcb\u001b[0m \u001b[1;32min\u001b[0m \u001b[0mcallbacks\u001b[0m\u001b[1;33m:\u001b[0m \u001b[0mcb\u001b[0m\u001b[1;33m.\u001b[0m\u001b[0mon_phase_begin\u001b[0m\u001b[1;33m(\u001b[0m\u001b[1;33m)\u001b[0m\u001b[1;33m\u001b[0m\u001b[0m\n\u001b[1;32m--> 123\u001b[1;33m     \u001b[0mmodel_stepper\u001b[0m \u001b[1;33m=\u001b[0m \u001b[0mstepper\u001b[0m\u001b[1;33m(\u001b[0m\u001b[0mmodel\u001b[0m\u001b[1;33m,\u001b[0m \u001b[0mopt\u001b[0m\u001b[1;33m.\u001b[0m\u001b[0mopt\u001b[0m \u001b[1;32mif\u001b[0m \u001b[0mhasattr\u001b[0m\u001b[1;33m(\u001b[0m\u001b[0mopt\u001b[0m\u001b[1;33m,\u001b[0m\u001b[1;34m'opt'\u001b[0m\u001b[1;33m)\u001b[0m \u001b[1;32melse\u001b[0m \u001b[0mopt\u001b[0m\u001b[1;33m,\u001b[0m \u001b[0mcrit\u001b[0m\u001b[1;33m,\u001b[0m \u001b[1;33m**\u001b[0m\u001b[0mkwargs\u001b[0m\u001b[1;33m)\u001b[0m\u001b[1;33m\u001b[0m\u001b[0m\n\u001b[0m\u001b[0;32m    124\u001b[0m     \u001b[0mep_vals\u001b[0m \u001b[1;33m=\u001b[0m \u001b[0mcollections\u001b[0m\u001b[1;33m.\u001b[0m\u001b[0mOrderedDict\u001b[0m\u001b[1;33m(\u001b[0m\u001b[1;33m)\u001b[0m\u001b[1;33m\u001b[0m\u001b[0m\n\u001b[0;32m    125\u001b[0m     \u001b[0mtot_epochs\u001b[0m \u001b[1;33m=\u001b[0m \u001b[0mint\u001b[0m\u001b[1;33m(\u001b[0m\u001b[0mnp\u001b[0m\u001b[1;33m.\u001b[0m\u001b[0mceil\u001b[0m\u001b[1;33m(\u001b[0m\u001b[0mnp\u001b[0m\u001b[1;33m.\u001b[0m\u001b[0marray\u001b[0m\u001b[1;33m(\u001b[0m\u001b[0mn_epochs\u001b[0m\u001b[1;33m)\u001b[0m\u001b[1;33m.\u001b[0m\u001b[0msum\u001b[0m\u001b[1;33m(\u001b[0m\u001b[1;33m)\u001b[0m\u001b[1;33m)\u001b[0m\u001b[1;33m)\u001b[0m\u001b[1;33m\u001b[0m\u001b[0m\n",
      "\u001b[1;32m~\\Documents\\imdb_sync\\fastai\\model.py\u001b[0m in \u001b[0;36m__init__\u001b[1;34m(self, m, opt, crit, clip, reg_fn, fp16, loss_scale)\u001b[0m\n\u001b[0;32m     35\u001b[0m         \u001b[0mself\u001b[0m\u001b[1;33m.\u001b[0m\u001b[0mm\u001b[0m\u001b[1;33m,\u001b[0m\u001b[0mself\u001b[0m\u001b[1;33m.\u001b[0m\u001b[0mopt\u001b[0m\u001b[1;33m,\u001b[0m\u001b[0mself\u001b[0m\u001b[1;33m.\u001b[0m\u001b[0mcrit\u001b[0m\u001b[1;33m,\u001b[0m\u001b[0mself\u001b[0m\u001b[1;33m.\u001b[0m\u001b[0mclip\u001b[0m\u001b[1;33m,\u001b[0m\u001b[0mself\u001b[0m\u001b[1;33m.\u001b[0m\u001b[0mreg_fn\u001b[0m \u001b[1;33m=\u001b[0m \u001b[0mm\u001b[0m\u001b[1;33m,\u001b[0m\u001b[0mopt\u001b[0m\u001b[1;33m,\u001b[0m\u001b[0mcrit\u001b[0m\u001b[1;33m,\u001b[0m\u001b[0mclip\u001b[0m\u001b[1;33m,\u001b[0m\u001b[0mreg_fn\u001b[0m\u001b[1;33m\u001b[0m\u001b[0m\n\u001b[0;32m     36\u001b[0m         \u001b[0mself\u001b[0m\u001b[1;33m.\u001b[0m\u001b[0mfp16\u001b[0m \u001b[1;33m=\u001b[0m \u001b[0mfp16\u001b[0m\u001b[1;33m\u001b[0m\u001b[0m\n\u001b[1;32m---> 37\u001b[1;33m         \u001b[0mself\u001b[0m\u001b[1;33m.\u001b[0m\u001b[0mreset\u001b[0m\u001b[1;33m(\u001b[0m\u001b[1;32mTrue\u001b[0m\u001b[1;33m)\u001b[0m\u001b[1;33m\u001b[0m\u001b[0m\n\u001b[0m\u001b[0;32m     38\u001b[0m         \u001b[1;32mif\u001b[0m \u001b[0mself\u001b[0m\u001b[1;33m.\u001b[0m\u001b[0mfp16\u001b[0m\u001b[1;33m:\u001b[0m \u001b[0mself\u001b[0m\u001b[1;33m.\u001b[0m\u001b[0mfp32_params\u001b[0m \u001b[1;33m=\u001b[0m \u001b[0mcopy_model_to_fp32\u001b[0m\u001b[1;33m(\u001b[0m\u001b[0mm\u001b[0m\u001b[1;33m,\u001b[0m \u001b[0mopt\u001b[0m\u001b[1;33m)\u001b[0m\u001b[1;33m\u001b[0m\u001b[0m\n\u001b[0;32m     39\u001b[0m         \u001b[0mself\u001b[0m\u001b[1;33m.\u001b[0m\u001b[0mloss_scale\u001b[0m \u001b[1;33m=\u001b[0m \u001b[0mloss_scale\u001b[0m\u001b[1;33m\u001b[0m\u001b[0m\n",
      "\u001b[1;32m~\\Documents\\imdb_sync\\fastai\\model.py\u001b[0m in \u001b[0;36mreset\u001b[1;34m(self, train)\u001b[0m\n\u001b[0;32m     43\u001b[0m         \u001b[1;32melse\u001b[0m\u001b[1;33m:\u001b[0m \u001b[0mself\u001b[0m\u001b[1;33m.\u001b[0m\u001b[0mm\u001b[0m\u001b[1;33m.\u001b[0m\u001b[0meval\u001b[0m\u001b[1;33m(\u001b[0m\u001b[1;33m)\u001b[0m\u001b[1;33m\u001b[0m\u001b[0m\n\u001b[0;32m     44\u001b[0m         \u001b[1;32mif\u001b[0m \u001b[0mhasattr\u001b[0m\u001b[1;33m(\u001b[0m\u001b[0mself\u001b[0m\u001b[1;33m.\u001b[0m\u001b[0mm\u001b[0m\u001b[1;33m,\u001b[0m \u001b[1;34m'reset'\u001b[0m\u001b[1;33m)\u001b[0m\u001b[1;33m:\u001b[0m\u001b[1;33m\u001b[0m\u001b[0m\n\u001b[1;32m---> 45\u001b[1;33m             \u001b[0mself\u001b[0m\u001b[1;33m.\u001b[0m\u001b[0mm\u001b[0m\u001b[1;33m.\u001b[0m\u001b[0mreset\u001b[0m\u001b[1;33m(\u001b[0m\u001b[1;33m)\u001b[0m\u001b[1;33m\u001b[0m\u001b[0m\n\u001b[0m\u001b[0;32m     46\u001b[0m             \u001b[1;32mif\u001b[0m \u001b[0mself\u001b[0m\u001b[1;33m.\u001b[0m\u001b[0mfp16\u001b[0m\u001b[1;33m:\u001b[0m \u001b[0mself\u001b[0m\u001b[1;33m.\u001b[0m\u001b[0mfp32_params\u001b[0m \u001b[1;33m=\u001b[0m \u001b[0mcopy_model_to_fp32\u001b[0m\u001b[1;33m(\u001b[0m\u001b[0mself\u001b[0m\u001b[1;33m.\u001b[0m\u001b[0mm\u001b[0m\u001b[1;33m,\u001b[0m \u001b[0mself\u001b[0m\u001b[1;33m.\u001b[0m\u001b[0mopt\u001b[0m\u001b[1;33m)\u001b[0m\u001b[1;33m\u001b[0m\u001b[0m\n\u001b[0;32m     47\u001b[0m \u001b[1;33m\u001b[0m\u001b[0m\n",
      "\u001b[1;32m~\\Documents\\imdb_sync\\fastai\\lm_rnn.py\u001b[0m in \u001b[0;36mreset\u001b[1;34m(self)\u001b[0m\n\u001b[0;32m    199\u001b[0m     \u001b[1;32mdef\u001b[0m \u001b[0mreset\u001b[0m\u001b[1;33m(\u001b[0m\u001b[0mself\u001b[0m\u001b[1;33m)\u001b[0m\u001b[1;33m:\u001b[0m\u001b[1;33m\u001b[0m\u001b[0m\n\u001b[0;32m    200\u001b[0m         \u001b[1;32mfor\u001b[0m \u001b[0mc\u001b[0m \u001b[1;32min\u001b[0m \u001b[0mself\u001b[0m\u001b[1;33m.\u001b[0m\u001b[0mchildren\u001b[0m\u001b[1;33m(\u001b[0m\u001b[1;33m)\u001b[0m\u001b[1;33m:\u001b[0m\u001b[1;33m\u001b[0m\u001b[0m\n\u001b[1;32m--> 201\u001b[1;33m             \u001b[1;32mif\u001b[0m \u001b[0mhasattr\u001b[0m\u001b[1;33m(\u001b[0m\u001b[0mc\u001b[0m\u001b[1;33m,\u001b[0m \u001b[1;34m'reset'\u001b[0m\u001b[1;33m)\u001b[0m\u001b[1;33m:\u001b[0m \u001b[0mc\u001b[0m\u001b[1;33m.\u001b[0m\u001b[0mreset\u001b[0m\u001b[1;33m(\u001b[0m\u001b[1;33m)\u001b[0m\u001b[1;33m\u001b[0m\u001b[0m\n\u001b[0m\u001b[0;32m    202\u001b[0m \u001b[1;33m\u001b[0m\u001b[0m\n\u001b[0;32m    203\u001b[0m \u001b[1;33m\u001b[0m\u001b[0m\n",
      "\u001b[1;32m~\\Documents\\imdb_sync\\fastai\\lm_rnn.py\u001b[0m in \u001b[0;36mreset\u001b[1;34m(self)\u001b[0m\n\u001b[0;32m    122\u001b[0m         \u001b[0mself\u001b[0m\u001b[1;33m.\u001b[0m\u001b[0mweights\u001b[0m \u001b[1;33m=\u001b[0m \u001b[0mnext\u001b[0m\u001b[1;33m(\u001b[0m\u001b[0mself\u001b[0m\u001b[1;33m.\u001b[0m\u001b[0mparameters\u001b[0m\u001b[1;33m(\u001b[0m\u001b[1;33m)\u001b[0m\u001b[1;33m)\u001b[0m\u001b[1;33m.\u001b[0m\u001b[0mdata\u001b[0m\u001b[1;33m\u001b[0m\u001b[0m\n\u001b[0;32m    123\u001b[0m         \u001b[1;32mif\u001b[0m \u001b[0mself\u001b[0m\u001b[1;33m.\u001b[0m\u001b[0mqrnn\u001b[0m\u001b[1;33m:\u001b[0m \u001b[0mself\u001b[0m\u001b[1;33m.\u001b[0m\u001b[0mhidden\u001b[0m \u001b[1;33m=\u001b[0m \u001b[1;33m[\u001b[0m\u001b[0mself\u001b[0m\u001b[1;33m.\u001b[0m\u001b[0mone_hidden\u001b[0m\u001b[1;33m(\u001b[0m\u001b[0ml\u001b[0m\u001b[1;33m)\u001b[0m \u001b[1;32mfor\u001b[0m \u001b[0ml\u001b[0m \u001b[1;32min\u001b[0m \u001b[0mrange\u001b[0m\u001b[1;33m(\u001b[0m\u001b[0mself\u001b[0m\u001b[1;33m.\u001b[0m\u001b[0mn_layers\u001b[0m\u001b[1;33m)\u001b[0m\u001b[1;33m]\u001b[0m\u001b[1;33m\u001b[0m\u001b[0m\n\u001b[1;32m--> 124\u001b[1;33m         \u001b[1;32melse\u001b[0m\u001b[1;33m:\u001b[0m \u001b[0mself\u001b[0m\u001b[1;33m.\u001b[0m\u001b[0mhidden\u001b[0m \u001b[1;33m=\u001b[0m \u001b[1;33m[\u001b[0m\u001b[1;33m(\u001b[0m\u001b[0mself\u001b[0m\u001b[1;33m.\u001b[0m\u001b[0mone_hidden\u001b[0m\u001b[1;33m(\u001b[0m\u001b[0ml\u001b[0m\u001b[1;33m)\u001b[0m\u001b[1;33m,\u001b[0m \u001b[0mself\u001b[0m\u001b[1;33m.\u001b[0m\u001b[0mone_hidden\u001b[0m\u001b[1;33m(\u001b[0m\u001b[0ml\u001b[0m\u001b[1;33m)\u001b[0m\u001b[1;33m)\u001b[0m \u001b[1;32mfor\u001b[0m \u001b[0ml\u001b[0m \u001b[1;32min\u001b[0m \u001b[0mrange\u001b[0m\u001b[1;33m(\u001b[0m\u001b[0mself\u001b[0m\u001b[1;33m.\u001b[0m\u001b[0mn_layers\u001b[0m\u001b[1;33m)\u001b[0m\u001b[1;33m]\u001b[0m\u001b[1;33m\u001b[0m\u001b[0m\n\u001b[0m\u001b[0;32m    125\u001b[0m \u001b[1;33m\u001b[0m\u001b[0m\n\u001b[0;32m    126\u001b[0m \u001b[1;33m\u001b[0m\u001b[0m\n",
      "\u001b[1;32m~\\Documents\\imdb_sync\\fastai\\lm_rnn.py\u001b[0m in \u001b[0;36m<listcomp>\u001b[1;34m(.0)\u001b[0m\n\u001b[0;32m    122\u001b[0m         \u001b[0mself\u001b[0m\u001b[1;33m.\u001b[0m\u001b[0mweights\u001b[0m \u001b[1;33m=\u001b[0m \u001b[0mnext\u001b[0m\u001b[1;33m(\u001b[0m\u001b[0mself\u001b[0m\u001b[1;33m.\u001b[0m\u001b[0mparameters\u001b[0m\u001b[1;33m(\u001b[0m\u001b[1;33m)\u001b[0m\u001b[1;33m)\u001b[0m\u001b[1;33m.\u001b[0m\u001b[0mdata\u001b[0m\u001b[1;33m\u001b[0m\u001b[0m\n\u001b[0;32m    123\u001b[0m         \u001b[1;32mif\u001b[0m \u001b[0mself\u001b[0m\u001b[1;33m.\u001b[0m\u001b[0mqrnn\u001b[0m\u001b[1;33m:\u001b[0m \u001b[0mself\u001b[0m\u001b[1;33m.\u001b[0m\u001b[0mhidden\u001b[0m \u001b[1;33m=\u001b[0m \u001b[1;33m[\u001b[0m\u001b[0mself\u001b[0m\u001b[1;33m.\u001b[0m\u001b[0mone_hidden\u001b[0m\u001b[1;33m(\u001b[0m\u001b[0ml\u001b[0m\u001b[1;33m)\u001b[0m \u001b[1;32mfor\u001b[0m \u001b[0ml\u001b[0m \u001b[1;32min\u001b[0m \u001b[0mrange\u001b[0m\u001b[1;33m(\u001b[0m\u001b[0mself\u001b[0m\u001b[1;33m.\u001b[0m\u001b[0mn_layers\u001b[0m\u001b[1;33m)\u001b[0m\u001b[1;33m]\u001b[0m\u001b[1;33m\u001b[0m\u001b[0m\n\u001b[1;32m--> 124\u001b[1;33m         \u001b[1;32melse\u001b[0m\u001b[1;33m:\u001b[0m \u001b[0mself\u001b[0m\u001b[1;33m.\u001b[0m\u001b[0mhidden\u001b[0m \u001b[1;33m=\u001b[0m \u001b[1;33m[\u001b[0m\u001b[1;33m(\u001b[0m\u001b[0mself\u001b[0m\u001b[1;33m.\u001b[0m\u001b[0mone_hidden\u001b[0m\u001b[1;33m(\u001b[0m\u001b[0ml\u001b[0m\u001b[1;33m)\u001b[0m\u001b[1;33m,\u001b[0m \u001b[0mself\u001b[0m\u001b[1;33m.\u001b[0m\u001b[0mone_hidden\u001b[0m\u001b[1;33m(\u001b[0m\u001b[0ml\u001b[0m\u001b[1;33m)\u001b[0m\u001b[1;33m)\u001b[0m \u001b[1;32mfor\u001b[0m \u001b[0ml\u001b[0m \u001b[1;32min\u001b[0m \u001b[0mrange\u001b[0m\u001b[1;33m(\u001b[0m\u001b[0mself\u001b[0m\u001b[1;33m.\u001b[0m\u001b[0mn_layers\u001b[0m\u001b[1;33m)\u001b[0m\u001b[1;33m]\u001b[0m\u001b[1;33m\u001b[0m\u001b[0m\n\u001b[0m\u001b[0;32m    125\u001b[0m \u001b[1;33m\u001b[0m\u001b[0m\n\u001b[0;32m    126\u001b[0m \u001b[1;33m\u001b[0m\u001b[0m\n",
      "\u001b[1;32m~\\Documents\\imdb_sync\\fastai\\lm_rnn.py\u001b[0m in \u001b[0;36mone_hidden\u001b[1;34m(self, l)\u001b[0m\n\u001b[0;32m    116\u001b[0m         \u001b[0mnh\u001b[0m \u001b[1;33m=\u001b[0m \u001b[1;33m(\u001b[0m\u001b[0mself\u001b[0m\u001b[1;33m.\u001b[0m\u001b[0mn_hid\u001b[0m \u001b[1;32mif\u001b[0m \u001b[0ml\u001b[0m \u001b[1;33m!=\u001b[0m \u001b[0mself\u001b[0m\u001b[1;33m.\u001b[0m\u001b[0mn_layers\u001b[0m \u001b[1;33m-\u001b[0m \u001b[1;36m1\u001b[0m \u001b[1;32melse\u001b[0m \u001b[0mself\u001b[0m\u001b[1;33m.\u001b[0m\u001b[0memb_sz\u001b[0m\u001b[1;33m)\u001b[0m\u001b[1;33m//\u001b[0m\u001b[0mself\u001b[0m\u001b[1;33m.\u001b[0m\u001b[0mndir\u001b[0m\u001b[1;33m\u001b[0m\u001b[0m\n\u001b[0;32m    117\u001b[0m         \u001b[1;32mif\u001b[0m \u001b[0mIS_TORCH_04\u001b[0m\u001b[1;33m:\u001b[0m \u001b[1;32mreturn\u001b[0m \u001b[0mVariable\u001b[0m\u001b[1;33m(\u001b[0m\u001b[0mself\u001b[0m\u001b[1;33m.\u001b[0m\u001b[0mweights\u001b[0m\u001b[1;33m.\u001b[0m\u001b[0mnew\u001b[0m\u001b[1;33m(\u001b[0m\u001b[0mself\u001b[0m\u001b[1;33m.\u001b[0m\u001b[0mndir\u001b[0m\u001b[1;33m,\u001b[0m \u001b[0mself\u001b[0m\u001b[1;33m.\u001b[0m\u001b[0mbs\u001b[0m\u001b[1;33m,\u001b[0m \u001b[0mnh\u001b[0m\u001b[1;33m)\u001b[0m\u001b[1;33m.\u001b[0m\u001b[0mzero_\u001b[0m\u001b[1;33m(\u001b[0m\u001b[1;33m)\u001b[0m\u001b[1;33m)\u001b[0m\u001b[1;33m\u001b[0m\u001b[0m\n\u001b[1;32m--> 118\u001b[1;33m         \u001b[1;32melse\u001b[0m\u001b[1;33m:\u001b[0m \u001b[1;32mreturn\u001b[0m \u001b[0mVariable\u001b[0m\u001b[1;33m(\u001b[0m\u001b[0mself\u001b[0m\u001b[1;33m.\u001b[0m\u001b[0mweights\u001b[0m\u001b[1;33m.\u001b[0m\u001b[0mnew\u001b[0m\u001b[1;33m(\u001b[0m\u001b[0mself\u001b[0m\u001b[1;33m.\u001b[0m\u001b[0mndir\u001b[0m\u001b[1;33m,\u001b[0m \u001b[0mself\u001b[0m\u001b[1;33m.\u001b[0m\u001b[0mbs\u001b[0m\u001b[1;33m,\u001b[0m \u001b[0mnh\u001b[0m\u001b[1;33m)\u001b[0m\u001b[1;33m.\u001b[0m\u001b[0mzero_\u001b[0m\u001b[1;33m(\u001b[0m\u001b[1;33m)\u001b[0m\u001b[1;33m,\u001b[0m \u001b[0mvolatile\u001b[0m\u001b[1;33m=\u001b[0m\u001b[1;32mnot\u001b[0m \u001b[0mself\u001b[0m\u001b[1;33m.\u001b[0m\u001b[0mtraining\u001b[0m\u001b[1;33m)\u001b[0m\u001b[1;33m\u001b[0m\u001b[0m\n\u001b[0m\u001b[0;32m    119\u001b[0m \u001b[1;33m\u001b[0m\u001b[0m\n\u001b[0;32m    120\u001b[0m     \u001b[1;32mdef\u001b[0m \u001b[0mreset\u001b[0m\u001b[1;33m(\u001b[0m\u001b[0mself\u001b[0m\u001b[1;33m)\u001b[0m\u001b[1;33m:\u001b[0m\u001b[1;33m\u001b[0m\u001b[0m\n",
      "\u001b[1;31mRuntimeError\u001b[0m: cuda runtime error (2) : out of memory at c:\\anaconda2\\conda-bld\\pytorch_1519501749874\\work\\torch\\lib\\thc\\generic/THCTensorMath.cu:35"
     ]
    }
   ],
   "source": [
    "#learn.fit(lrs, 1, wds=wd, cycle_len=14, use_clr=(32,10))\n",
    "learn.fit(lrs, 1, wds=wd, cycle_len=3, use_clr=(32,10)) # Use ten here. Using 3 just to verify that loss is dropping"
   ]
  },
  {
   "cell_type": "code",
   "execution_count": 51,
   "metadata": {
    "colab": {},
    "colab_type": "code",
    "id": "0Rj9tTcYMWgx",
    "scrolled": true
   },
   "outputs": [
    {
     "data": {
      "image/png": "[encoded data removed]",
      "text/plain": [
       "<Figure size 432x288 with 1 Axes>"
      ]
     },
     "metadata": {},
     "output_type": "display_data"
    }
   ],
   "source": [
    "learn.sched.plot_loss()"
   ]
  },
  {
   "cell_type": "code",
   "execution_count": null,
   "metadata": {},
   "outputs": [],
   "source": [
    "learn."
   ]
  },
  {
   "cell_type": "markdown",
   "metadata": {},
   "source": [
    "# testing prediction apparatus on val_dl"
   ]
  },
  {
   "cell_type": "code",
   "execution_count": 38,
   "metadata": {
    "colab": {},
    "colab_type": "code",
    "id": "owAGLTa5GzbU"
   },
   "outputs": [
    {
     "data": {
      "text/plain": [
       "array([[-2.39628,  2.05013],\n",
       "       [-1.69912,  0.76697],\n",
       "       [-0.96589,  0.33341],\n",
       "       ...,\n",
       "       [ 4.46606, -3.08102],\n",
       "       [ 4.50563, -2.75023],\n",
       "       [ 4.27751, -3.16779]], dtype=float32)"
      ]
     },
     "execution_count": 38,
     "metadata": {},
     "output_type": "execute_result"
    }
   ],
   "source": [
    "# Predicting val_dl to verify that it works\n",
    "learn.data.test_dl = val_dl\n",
    "log_preds = learn.predict(is_test=True); log_preds"
   ]
  },
  {
   "cell_type": "code",
   "execution_count": 39,
   "metadata": {},
   "outputs": [
    {
     "data": {
      "text/plain": [
       "Variable containing:\n",
       " 0.0116  0.9884\n",
       " 0.0783  0.9217\n",
       " 0.2143  0.7857\n",
       "       ⋮        \n",
       " 0.9995  0.0005\n",
       " 0.9993  0.0007\n",
       " 0.9994  0.0006\n",
       "[torch.cuda.FloatTensor of size 2500x2 (GPU 0)]"
      ]
     },
     "execution_count": 39,
     "metadata": {},
     "output_type": "execute_result"
    }
   ],
   "source": [
    "# Getting probs from logprobs\n",
    "probs = F.softmax(V(torch.Tensor(log_preds))); probs"
   ]
  },
  {
   "cell_type": "code",
   "execution_count": 40,
   "metadata": {},
   "outputs": [
    {
     "name": "stderr",
     "output_type": "stream",
     "text": [
      "C:\\Users\\rudyg\\AppData\\Local\\conda\\conda\\envs\\fastai\\lib\\site-packages\\ipykernel_launcher.py:1: SettingWithCopyWarning: \n",
      "A value is trying to be set on a copy of a slice from a DataFrame.\n",
      "Try using .loc[row_indexer,col_indexer] = value instead\n",
      "\n",
      "See the caveats in the documentation: http://pandas.pydata.org/pandas-docs/stable/indexing.html#indexing-view-versus-copy\n",
      "  \"\"\"Entry point for launching an IPython kernel.\n"
     ]
    },
    {
     "data": {
      "text/plain": [
       "0.47800738"
      ]
     },
     "execution_count": 40,
     "metadata": {},
     "output_type": "execute_result"
    }
   ],
   "source": [
    "val_df[\"labels_pred\"] = probs.detach().data.cpu().numpy()[:, 1]; val_df.labels_pred.mean()"
   ]
  },
  {
   "cell_type": "code",
   "execution_count": 41,
   "metadata": {
    "scrolled": true
   },
   "outputs": [
    {
     "data": {
      "text/html": [
       "<div>\n",
       "<style scoped>\n",
       "    .dataframe tbody tr th:only-of-type {\n",
       "        vertical-align: middle;\n",
       "    }\n",
       "\n",
       "    .dataframe tbody tr th {\n",
       "        vertical-align: top;\n",
       "    }\n",
       "\n",
       "    .dataframe thead th {\n",
       "        text-align: right;\n",
       "    }\n",
       "</style>\n",
       "<table border=\"1\" class=\"dataframe\">\n",
       "  <thead>\n",
       "    <tr style=\"text-align: right;\">\n",
       "      <th></th>\n",
       "      <th>Unnamed: 0</th>\n",
       "      <th>dataset</th>\n",
       "      <th>id</th>\n",
       "      <th>labels</th>\n",
       "      <th>text</th>\n",
       "      <th>tokenized_text</th>\n",
       "      <th>numerized_tokens</th>\n",
       "      <th>labels_pred</th>\n",
       "    </tr>\n",
       "  </thead>\n",
       "  <tbody>\n",
       "    <tr>\n",
       "      <th>12591</th>\n",
       "      <td>12591</td>\n",
       "      <td>train</td>\n",
       "      <td>22643</td>\n",
       "      <td>1</td>\n",
       "      <td>The plot of this enjoyable MGM musical is cont...</td>\n",
       "      <td>['\\n', 'xbos', 'xfld', '1', '22643', 'xfld', '...</td>\n",
       "      <td>[42, 43, 14, 18, 0, 14, 18, 18, 14, 39, 2, 135...</td>\n",
       "      <td>0.988415</td>\n",
       "    </tr>\n",
       "    <tr>\n",
       "      <th>24924</th>\n",
       "      <td>24924</td>\n",
       "      <td>train</td>\n",
       "      <td>12874</td>\n",
       "      <td>1</td>\n",
       "      <td>This movie was extremely funny, I would like t...</td>\n",
       "      <td>['\\n', 'xbos', 'xfld', '1', '12874', 'xfld', '...</td>\n",
       "      <td>[42, 43, 14, 18, 0, 14, 18, 18, 14, 39, 13, 23...</td>\n",
       "      <td>0.921730</td>\n",
       "    </tr>\n",
       "    <tr>\n",
       "      <th>4216</th>\n",
       "      <td>4216</td>\n",
       "      <td>train</td>\n",
       "      <td>19765</td>\n",
       "      <td>1</td>\n",
       "      <td>If you want to be cynical and pedantic you cou...</td>\n",
       "      <td>['\\n', 'xbos', 'xfld', '1', '19765', 'xfld', '...</td>\n",
       "      <td>[42, 43, 14, 18, 0, 14, 18, 18, 14, 39, 62, 28...</td>\n",
       "      <td>0.785717</td>\n",
       "    </tr>\n",
       "    <tr>\n",
       "      <th>7292</th>\n",
       "      <td>7292</td>\n",
       "      <td>train</td>\n",
       "      <td>22473</td>\n",
       "      <td>1</td>\n",
       "      <td>FORBIDDEN PLANET is the best SF film from the ...</td>\n",
       "      <td>['\\n', 'xbos', 'xfld', '1', '22473', 'xfld', '...</td>\n",
       "      <td>[42, 43, 14, 18, 0, 14, 18, 18, 14, 39, 33, 44...</td>\n",
       "      <td>0.002084</td>\n",
       "    </tr>\n",
       "    <tr>\n",
       "      <th>17835</th>\n",
       "      <td>17835</td>\n",
       "      <td>train</td>\n",
       "      <td>22768</td>\n",
       "      <td>1</td>\n",
       "      <td>There are many reasons to watch this movie: to...</td>\n",
       "      <td>['\\n', 'xbos', 'xfld', '1', '22768', 'xfld', '...</td>\n",
       "      <td>[42, 43, 14, 18, 0, 14, 18, 18, 14, 39, 54, 35...</td>\n",
       "      <td>0.239121</td>\n",
       "    </tr>\n",
       "    <tr>\n",
       "      <th>4067</th>\n",
       "      <td>4067</td>\n",
       "      <td>train</td>\n",
       "      <td>12403</td>\n",
       "      <td>0</td>\n",
       "      <td>This movie tackles child abduction from the po...</td>\n",
       "      <td>['\\n', 'xbos', 'xfld', '1', '12403', 'xfld', '...</td>\n",
       "      <td>[42, 43, 14, 18, 0, 14, 18, 136, 14, 39, 13, 2...</td>\n",
       "      <td>0.013578</td>\n",
       "    </tr>\n",
       "    <tr>\n",
       "      <th>19515</th>\n",
       "      <td>19515</td>\n",
       "      <td>train</td>\n",
       "      <td>22343</td>\n",
       "      <td>1</td>\n",
       "      <td>I had not seen this movie since the late '80s ...</td>\n",
       "      <td>['\\n', 'xbos', 'xfld', '1', '22343', 'xfld', '...</td>\n",
       "      <td>[42, 43, 14, 18, 0, 14, 18, 18, 14, 39, 12, 86...</td>\n",
       "      <td>0.850616</td>\n",
       "    </tr>\n",
       "    <tr>\n",
       "      <th>7667</th>\n",
       "      <td>7667</td>\n",
       "      <td>train</td>\n",
       "      <td>16109</td>\n",
       "      <td>1</td>\n",
       "      <td>I've seen hundreds of silent movies. Some will...</td>\n",
       "      <td>['\\n', 'xbos', 'xfld', '1', '16109', 'xfld', '...</td>\n",
       "      <td>[42, 43, 14, 18, 0, 14, 18, 18, 14, 39, 12, 16...</td>\n",
       "      <td>0.262059</td>\n",
       "    </tr>\n",
       "    <tr>\n",
       "      <th>16117</th>\n",
       "      <td>16117</td>\n",
       "      <td>train</td>\n",
       "      <td>10291</td>\n",
       "      <td>0</td>\n",
       "      <td>As a lesbian, I am always on the lookout for f...</td>\n",
       "      <td>['\\n', 'xbos', 'xfld', '1', '10291', 'xfld', '...</td>\n",
       "      <td>[42, 43, 14, 18, 0, 14, 18, 136, 14, 39, 22, 6...</td>\n",
       "      <td>0.926781</td>\n",
       "    </tr>\n",
       "    <tr>\n",
       "      <th>3783</th>\n",
       "      <td>3783</td>\n",
       "      <td>train</td>\n",
       "      <td>1164</td>\n",
       "      <td>0</td>\n",
       "      <td>Malcolm McDowell has not had too many good mov...</td>\n",
       "      <td>['\\n', 'xbos', 'xfld', '1', '1164', 'xfld', '1...</td>\n",
       "      <td>[42, 43, 14, 18, 0, 14, 18, 136, 14, 39, 7731,...</td>\n",
       "      <td>0.296085</td>\n",
       "    </tr>\n",
       "    <tr>\n",
       "      <th>18160</th>\n",
       "      <td>18160</td>\n",
       "      <td>train</td>\n",
       "      <td>13071</td>\n",
       "      <td>1</td>\n",
       "      <td>Emma is a horribly flawed film based on Jane A...</td>\n",
       "      <td>['\\n', 'xbos', 'xfld', '1', '13071', 'xfld', '...</td>\n",
       "      <td>[42, 43, 14, 18, 0, 14, 18, 18, 14, 39, 3314, ...</td>\n",
       "      <td>0.685653</td>\n",
       "    </tr>\n",
       "    <tr>\n",
       "      <th>15728</th>\n",
       "      <td>15728</td>\n",
       "      <td>train</td>\n",
       "      <td>20454</td>\n",
       "      <td>1</td>\n",
       "      <td>I have read the short story by Norman Maclean,...</td>\n",
       "      <td>['\\n', 'xbos', 'xfld', '1', '20454', 'xfld', '...</td>\n",
       "      <td>[42, 43, 14, 18, 0, 14, 18, 18, 14, 39, 12, 38...</td>\n",
       "      <td>0.001751</td>\n",
       "    </tr>\n",
       "    <tr>\n",
       "      <th>15594</th>\n",
       "      <td>15594</td>\n",
       "      <td>train</td>\n",
       "      <td>3062</td>\n",
       "      <td>0</td>\n",
       "      <td>In 1914, Charlie Chaplin began making pictures...</td>\n",
       "      <td>['\\n', 'xbos', 'xfld', '1', '3062', 'xfld', '1...</td>\n",
       "      <td>[42, 43, 14, 18, 0, 14, 18, 136, 14, 39, 11, 1...</td>\n",
       "      <td>0.005759</td>\n",
       "    </tr>\n",
       "    <tr>\n",
       "      <th>23264</th>\n",
       "      <td>23264</td>\n",
       "      <td>train</td>\n",
       "      <td>7601</td>\n",
       "      <td>0</td>\n",
       "      <td>It is hard to describe this film and one wants...</td>\n",
       "      <td>['\\n', 'xbos', 'xfld', '1', '7601', 'xfld', '1...</td>\n",
       "      <td>[42, 43, 14, 18, 0, 14, 18, 136, 14, 39, 10, 9...</td>\n",
       "      <td>0.982238</td>\n",
       "    </tr>\n",
       "    <tr>\n",
       "      <th>13112</th>\n",
       "      <td>13112</td>\n",
       "      <td>train</td>\n",
       "      <td>23647</td>\n",
       "      <td>1</td>\n",
       "      <td>Flynn, known mostly for his swashbuckling role...</td>\n",
       "      <td>['\\n', 'xbos', 'xfld', '1', '23647', 'xfld', '...</td>\n",
       "      <td>[42, 43, 14, 18, 0, 14, 18, 18, 14, 39, 3121, ...</td>\n",
       "      <td>0.046350</td>\n",
       "    </tr>\n",
       "    <tr>\n",
       "      <th>15809</th>\n",
       "      <td>15809</td>\n",
       "      <td>train</td>\n",
       "      <td>544</td>\n",
       "      <td>0</td>\n",
       "      <td>I notice that the previous reviewer (who appea...</td>\n",
       "      <td>['\\n', 'xbos', 'xfld', '1', '544', 'xfld', '1'...</td>\n",
       "      <td>[42, 43, 14, 18, 0, 14, 18, 136, 14, 39, 12, 1...</td>\n",
       "      <td>0.979825</td>\n",
       "    </tr>\n",
       "    <tr>\n",
       "      <th>14228</th>\n",
       "      <td>14228</td>\n",
       "      <td>train</td>\n",
       "      <td>22182</td>\n",
       "      <td>1</td>\n",
       "      <td>Warning: Does contain spoilers.&lt;br /&gt;&lt;br /&gt;Ope...</td>\n",
       "      <td>['\\n', 'xbos', 'xfld', '1', '22182', 'xfld', '...</td>\n",
       "      <td>[42, 43, 14, 18, 0, 14, 18, 18, 14, 39, 1754, ...</td>\n",
       "      <td>0.938297</td>\n",
       "    </tr>\n",
       "    <tr>\n",
       "      <th>5671</th>\n",
       "      <td>5671</td>\n",
       "      <td>train</td>\n",
       "      <td>5148</td>\n",
       "      <td>0</td>\n",
       "      <td>If you were to judge based on the movie alone,...</td>\n",
       "      <td>['\\n', 'xbos', 'xfld', '1', '5148', 'xfld', '1...</td>\n",
       "      <td>[42, 43, 14, 18, 0, 14, 18, 136, 14, 39, 62, 2...</td>\n",
       "      <td>0.615848</td>\n",
       "    </tr>\n",
       "    <tr>\n",
       "      <th>15964</th>\n",
       "      <td>15964</td>\n",
       "      <td>train</td>\n",
       "      <td>13292</td>\n",
       "      <td>1</td>\n",
       "      <td>An angry boy who has tragically lost his paren...</td>\n",
       "      <td>['\\n', 'xbos', 'xfld', '1', '13292', 'xfld', '...</td>\n",
       "      <td>[42, 43, 14, 18, 0, 14, 18, 18, 14, 39, 49, 16...</td>\n",
       "      <td>0.937930</td>\n",
       "    </tr>\n",
       "    <tr>\n",
       "      <th>20519</th>\n",
       "      <td>20519</td>\n",
       "      <td>train</td>\n",
       "      <td>11467</td>\n",
       "      <td>0</td>\n",
       "      <td>Dave (Devon Sawa) and his friends Sam (Jason S...</td>\n",
       "      <td>['\\n', 'xbos', 'xfld', '1', '11467', 'xfld', '...</td>\n",
       "      <td>[42, 43, 14, 18, 0, 14, 18, 136, 14, 39, 3034,...</td>\n",
       "      <td>0.002879</td>\n",
       "    </tr>\n",
       "    <tr>\n",
       "      <th>18173</th>\n",
       "      <td>18173</td>\n",
       "      <td>train</td>\n",
       "      <td>2031</td>\n",
       "      <td>0</td>\n",
       "      <td>I wandered into this movie after watching the ...</td>\n",
       "      <td>['\\n', 'xbos', 'xfld', '1', '2031', 'xfld', '1...</td>\n",
       "      <td>[42, 43, 14, 18, 48363, 14, 18, 136, 14, 39, 1...</td>\n",
       "      <td>0.201359</td>\n",
       "    </tr>\n",
       "    <tr>\n",
       "      <th>5238</th>\n",
       "      <td>5238</td>\n",
       "      <td>train</td>\n",
       "      <td>4391</td>\n",
       "      <td>0</td>\n",
       "      <td>Singleton has some serious issues he has to co...</td>\n",
       "      <td>['\\n', 'xbos', 'xfld', '1', '4391', 'xfld', '1...</td>\n",
       "      <td>[42, 43, 14, 18, 0, 14, 18, 136, 14, 39, 15605...</td>\n",
       "      <td>0.846254</td>\n",
       "    </tr>\n",
       "    <tr>\n",
       "      <th>4924</th>\n",
       "      <td>4924</td>\n",
       "      <td>train</td>\n",
       "      <td>1038</td>\n",
       "      <td>0</td>\n",
       "      <td>I've never been a huge fan of Mormon films. Be...</td>\n",
       "      <td>['\\n', 'xbos', 'xfld', '1', '1038', 'xfld', '1...</td>\n",
       "      <td>[42, 43, 14, 18, 0, 14, 18, 136, 14, 39, 12, 1...</td>\n",
       "      <td>0.576038</td>\n",
       "    </tr>\n",
       "    <tr>\n",
       "      <th>14860</th>\n",
       "      <td>14860</td>\n",
       "      <td>train</td>\n",
       "      <td>21497</td>\n",
       "      <td>1</td>\n",
       "      <td>May contain minor spoilers.&lt;br /&gt;&lt;br /&gt;Dressed...</td>\n",
       "      <td>['\\n', 'xbos', 'xfld', '1', '21497', 'xfld', '...</td>\n",
       "      <td>[42, 43, 14, 18, 0, 14, 18, 18, 14, 39, 224, 2...</td>\n",
       "      <td>0.869694</td>\n",
       "    </tr>\n",
       "    <tr>\n",
       "      <th>10669</th>\n",
       "      <td>10669</td>\n",
       "      <td>train</td>\n",
       "      <td>15125</td>\n",
       "      <td>1</td>\n",
       "      <td>This 1986 Italian-French remake of the 1946 fi...</td>\n",
       "      <td>['\\n', 'xbos', 'xfld', '1', '15125', 'xfld', '...</td>\n",
       "      <td>[42, 43, 14, 18, 0, 14, 18, 18, 14, 39, 13, 61...</td>\n",
       "      <td>0.078752</td>\n",
       "    </tr>\n",
       "    <tr>\n",
       "      <th>977</th>\n",
       "      <td>977</td>\n",
       "      <td>train</td>\n",
       "      <td>1842</td>\n",
       "      <td>0</td>\n",
       "      <td>I *loved* the original Scary Movie. I'm a huge...</td>\n",
       "      <td>['\\n', 'xbos', 'xfld', '1', '1842', 'xfld', '1...</td>\n",
       "      <td>[42, 43, 14, 18, 45541, 14, 18, 136, 14, 39, 1...</td>\n",
       "      <td>0.373293</td>\n",
       "    </tr>\n",
       "    <tr>\n",
       "      <th>11295</th>\n",
       "      <td>11295</td>\n",
       "      <td>train</td>\n",
       "      <td>6679</td>\n",
       "      <td>0</td>\n",
       "      <td>I saw this movie not knowing anything about it...</td>\n",
       "      <td>['\\n', 'xbos', 'xfld', '1', '6679', 'xfld', '1...</td>\n",
       "      <td>[42, 43, 14, 18, 0, 14, 18, 136, 14, 39, 12, 2...</td>\n",
       "      <td>0.043340</td>\n",
       "    </tr>\n",
       "    <tr>\n",
       "      <th>5675</th>\n",
       "      <td>5675</td>\n",
       "      <td>train</td>\n",
       "      <td>10608</td>\n",
       "      <td>0</td>\n",
       "      <td>A Christmas Story Is A Holiday Classic And My ...</td>\n",
       "      <td>['\\n', 'xbos', 'xfld', '1', '10608', 'xfld', '...</td>\n",
       "      <td>[42, 43, 14, 18, 0, 14, 18, 136, 14, 39, 6, 11...</td>\n",
       "      <td>0.932882</td>\n",
       "    </tr>\n",
       "    <tr>\n",
       "      <th>13973</th>\n",
       "      <td>13973</td>\n",
       "      <td>train</td>\n",
       "      <td>10370</td>\n",
       "      <td>0</td>\n",
       "      <td>I picked this title up from a friend who had i...</td>\n",
       "      <td>['\\n', 'xbos', 'xfld', '1', '10370', 'xfld', '...</td>\n",
       "      <td>[42, 43, 14, 18, 0, 14, 18, 136, 14, 39, 12, 1...</td>\n",
       "      <td>0.021593</td>\n",
       "    </tr>\n",
       "    <tr>\n",
       "      <th>12599</th>\n",
       "      <td>12599</td>\n",
       "      <td>train</td>\n",
       "      <td>7148</td>\n",
       "      <td>0</td>\n",
       "      <td>I expected to enjoy a romantic comedy featurin...</td>\n",
       "      <td>['\\n', 'xbos', 'xfld', '1', '7148', 'xfld', '1...</td>\n",
       "      <td>[42, 43, 14, 18, 0, 14, 18, 136, 14, 39, 12, 8...</td>\n",
       "      <td>0.970023</td>\n",
       "    </tr>\n",
       "    <tr>\n",
       "      <th>...</th>\n",
       "      <td>...</td>\n",
       "      <td>...</td>\n",
       "      <td>...</td>\n",
       "      <td>...</td>\n",
       "      <td>...</td>\n",
       "      <td>...</td>\n",
       "      <td>...</td>\n",
       "      <td>...</td>\n",
       "    </tr>\n",
       "    <tr>\n",
       "      <th>5976</th>\n",
       "      <td>5976</td>\n",
       "      <td>train</td>\n",
       "      <td>2785</td>\n",
       "      <td>0</td>\n",
       "      <td>If there's one thing that annoys me most in se...</td>\n",
       "      <td>['\\n', 'xbos', 'xfld', '1', '2785', 'xfld', '1...</td>\n",
       "      <td>[42, 43, 14, 18, 0, 14, 18, 136, 14, 39, 62, 5...</td>\n",
       "      <td>0.002650</td>\n",
       "    </tr>\n",
       "    <tr>\n",
       "      <th>612</th>\n",
       "      <td>612</td>\n",
       "      <td>train</td>\n",
       "      <td>17444</td>\n",
       "      <td>1</td>\n",
       "      <td>Once upon a time in a castle...... Two little ...</td>\n",
       "      <td>['\\n', 'xbos', 'xfld', '1', '17444', 'xfld', '...</td>\n",
       "      <td>[42, 43, 14, 18, 0, 14, 18, 18, 14, 39, 305, 6...</td>\n",
       "      <td>0.002256</td>\n",
       "    </tr>\n",
       "    <tr>\n",
       "      <th>6751</th>\n",
       "      <td>6751</td>\n",
       "      <td>train</td>\n",
       "      <td>3334</td>\n",
       "      <td>0</td>\n",
       "      <td>Watched on Hulu (far too many commercials!) so...</td>\n",
       "      <td>['\\n', 'xbos', 'xfld', '1', '3334', 'xfld', '1...</td>\n",
       "      <td>[42, 43, 14, 18, 0, 14, 18, 136, 14, 39, 314, ...</td>\n",
       "      <td>0.987396</td>\n",
       "    </tr>\n",
       "    <tr>\n",
       "      <th>9372</th>\n",
       "      <td>9372</td>\n",
       "      <td>train</td>\n",
       "      <td>20682</td>\n",
       "      <td>1</td>\n",
       "      <td>A really sweet movie that has some similaritie...</td>\n",
       "      <td>['\\n', 'xbos', 'xfld', '1', '20682', 'xfld', '...</td>\n",
       "      <td>[42, 43, 14, 18, 0, 14, 18, 18, 14, 39, 6, 82,...</td>\n",
       "      <td>0.028511</td>\n",
       "    </tr>\n",
       "    <tr>\n",
       "      <th>6967</th>\n",
       "      <td>6967</td>\n",
       "      <td>train</td>\n",
       "      <td>7630</td>\n",
       "      <td>0</td>\n",
       "      <td>I'm actually surprised at the amount of good r...</td>\n",
       "      <td>['\\n', 'xbos', 'xfld', '1', '7630', 'xfld', '1...</td>\n",
       "      <td>[42, 43, 14, 18, 0, 14, 18, 136, 14, 39, 12, 1...</td>\n",
       "      <td>0.001060</td>\n",
       "    </tr>\n",
       "    <tr>\n",
       "      <th>309</th>\n",
       "      <td>309</td>\n",
       "      <td>train</td>\n",
       "      <td>18052</td>\n",
       "      <td>1</td>\n",
       "      <td>I've watched it plenty of times and I'm planni...</td>\n",
       "      <td>['\\n', 'xbos', 'xfld', '1', '18052', 'xfld', '...</td>\n",
       "      <td>[42, 43, 14, 18, 0, 14, 18, 18, 14, 39, 12, 16...</td>\n",
       "      <td>0.974395</td>\n",
       "    </tr>\n",
       "    <tr>\n",
       "      <th>5631</th>\n",
       "      <td>5631</td>\n",
       "      <td>train</td>\n",
       "      <td>5893</td>\n",
       "      <td>0</td>\n",
       "      <td>Ah, the spirit of '68. The streets of Paris we...</td>\n",
       "      <td>['\\n', 'xbos', 'xfld', '1', '5893', 'xfld', '1...</td>\n",
       "      <td>[42, 43, 14, 18, 0, 14, 18, 136, 14, 39, 3771,...</td>\n",
       "      <td>0.017971</td>\n",
       "    </tr>\n",
       "    <tr>\n",
       "      <th>9787</th>\n",
       "      <td>9787</td>\n",
       "      <td>train</td>\n",
       "      <td>6810</td>\n",
       "      <td>0</td>\n",
       "      <td>After \"Central City\" loses its mob boss to mur...</td>\n",
       "      <td>['\\n', 'xbos', 'xfld', '1', '6810', 'xfld', '1...</td>\n",
       "      <td>[42, 43, 14, 18, 0, 14, 18, 136, 14, 39, 121, ...</td>\n",
       "      <td>0.979631</td>\n",
       "    </tr>\n",
       "    <tr>\n",
       "      <th>8008</th>\n",
       "      <td>8008</td>\n",
       "      <td>train</td>\n",
       "      <td>17108</td>\n",
       "      <td>1</td>\n",
       "      <td>Very intelligent humor Excellent performing I ...</td>\n",
       "      <td>['\\n', 'xbos', 'xfld', '1', '17108', 'xfld', '...</td>\n",
       "      <td>[42, 43, 14, 18, 0, 14, 18, 18, 14, 39, 71, 11...</td>\n",
       "      <td>0.875189</td>\n",
       "    </tr>\n",
       "    <tr>\n",
       "      <th>13736</th>\n",
       "      <td>13736</td>\n",
       "      <td>train</td>\n",
       "      <td>6164</td>\n",
       "      <td>0</td>\n",
       "      <td>This is one of those awful, sex-driven B-movie...</td>\n",
       "      <td>['\\n', 'xbos', 'xfld', '1', '6164', 'xfld', '1...</td>\n",
       "      <td>[42, 43, 14, 18, 0, 14, 18, 136, 14, 39, 13, 9...</td>\n",
       "      <td>0.000748</td>\n",
       "    </tr>\n",
       "    <tr>\n",
       "      <th>17923</th>\n",
       "      <td>17923</td>\n",
       "      <td>train</td>\n",
       "      <td>12882</td>\n",
       "      <td>1</td>\n",
       "      <td>Melvyn Douglas and Joan Blondell co-star in \"T...</td>\n",
       "      <td>['\\n', 'xbos', 'xfld', '1', '12882', 'xfld', '...</td>\n",
       "      <td>[42, 43, 14, 18, 0, 14, 18, 18, 14, 39, 10067,...</td>\n",
       "      <td>0.994510</td>\n",
       "    </tr>\n",
       "    <tr>\n",
       "      <th>15151</th>\n",
       "      <td>15151</td>\n",
       "      <td>train</td>\n",
       "      <td>7921</td>\n",
       "      <td>0</td>\n",
       "      <td>The film starts to slowly when we got to the c...</td>\n",
       "      <td>['\\n', 'xbos', 'xfld', '1', '7921', 'xfld', '1...</td>\n",
       "      <td>[42, 43, 14, 18, 0, 14, 18, 136, 14, 39, 2, 27...</td>\n",
       "      <td>0.988244</td>\n",
       "    </tr>\n",
       "    <tr>\n",
       "      <th>13856</th>\n",
       "      <td>13856</td>\n",
       "      <td>train</td>\n",
       "      <td>16734</td>\n",
       "      <td>1</td>\n",
       "      <td>Released in December of 1957, Sayonara went on...</td>\n",
       "      <td>['\\n', 'xbos', 'xfld', '1', '16734', 'xfld', '...</td>\n",
       "      <td>[42, 43, 14, 18, 0, 14, 18, 18, 14, 39, 628, 1...</td>\n",
       "      <td>0.982508</td>\n",
       "    </tr>\n",
       "    <tr>\n",
       "      <th>13290</th>\n",
       "      <td>13290</td>\n",
       "      <td>train</td>\n",
       "      <td>14374</td>\n",
       "      <td>1</td>\n",
       "      <td>Down To Earth is the best movie!!! It is SO fu...</td>\n",
       "      <td>['\\n', 'xbos', 'xfld', '1', '14374', 'xfld', '...</td>\n",
       "      <td>[42, 43, 14, 18, 0, 14, 18, 18, 14, 39, 199, 8...</td>\n",
       "      <td>0.003967</td>\n",
       "    </tr>\n",
       "    <tr>\n",
       "      <th>10144</th>\n",
       "      <td>10144</td>\n",
       "      <td>train</td>\n",
       "      <td>13253</td>\n",
       "      <td>1</td>\n",
       "      <td>Man about the house is a true situation comedy...</td>\n",
       "      <td>['\\n', 'xbos', 'xfld', '1', '13253', 'xfld', '...</td>\n",
       "      <td>[42, 43, 14, 18, 0, 14, 18, 18, 14, 39, 147, 6...</td>\n",
       "      <td>0.945054</td>\n",
       "    </tr>\n",
       "    <tr>\n",
       "      <th>12089</th>\n",
       "      <td>12089</td>\n",
       "      <td>train</td>\n",
       "      <td>2258</td>\n",
       "      <td>0</td>\n",
       "      <td>This movie was awful. I had a very difficult t...</td>\n",
       "      <td>['\\n', 'xbos', 'xfld', '1', '2258', 'xfld', '1...</td>\n",
       "      <td>[42, 43, 14, 18, 0, 14, 18, 136, 14, 39, 13, 2...</td>\n",
       "      <td>0.992878</td>\n",
       "    </tr>\n",
       "    <tr>\n",
       "      <th>18230</th>\n",
       "      <td>18230</td>\n",
       "      <td>train</td>\n",
       "      <td>189</td>\n",
       "      <td>0</td>\n",
       "      <td>The championship game is only a couple of days...</td>\n",
       "      <td>['\\n', 'xbos', 'xfld', '1', '189', 'xfld', '1'...</td>\n",
       "      <td>[42, 43, 14, 18, 0, 14, 18, 136, 14, 39, 2, 57...</td>\n",
       "      <td>0.987072</td>\n",
       "    </tr>\n",
       "    <tr>\n",
       "      <th>14746</th>\n",
       "      <td>14746</td>\n",
       "      <td>train</td>\n",
       "      <td>17678</td>\n",
       "      <td>1</td>\n",
       "      <td>I discovered this film after reading the book ...</td>\n",
       "      <td>['\\n', 'xbos', 'xfld', '1', '17678', 'xfld', '...</td>\n",
       "      <td>[42, 43, 14, 18, 0, 14, 18, 18, 14, 39, 12, 19...</td>\n",
       "      <td>0.000642</td>\n",
       "    </tr>\n",
       "    <tr>\n",
       "      <th>19160</th>\n",
       "      <td>19160</td>\n",
       "      <td>train</td>\n",
       "      <td>16202</td>\n",
       "      <td>1</td>\n",
       "      <td>I first read Pearl S Buck's splendid novel in ...</td>\n",
       "      <td>['\\n', 'xbos', 'xfld', '1', '16202', 'xfld', '...</td>\n",
       "      <td>[42, 43, 14, 18, 0, 14, 18, 18, 14, 39, 12, 10...</td>\n",
       "      <td>0.984534</td>\n",
       "    </tr>\n",
       "    <tr>\n",
       "      <th>8881</th>\n",
       "      <td>8881</td>\n",
       "      <td>train</td>\n",
       "      <td>14143</td>\n",
       "      <td>1</td>\n",
       "      <td>Soapdish may go down as one of the single most...</td>\n",
       "      <td>['\\n', 'xbos', 'xfld', '1', '14143', 'xfld', '...</td>\n",
       "      <td>[42, 43, 14, 18, 0, 14, 18, 18, 14, 39, 25897,...</td>\n",
       "      <td>0.909663</td>\n",
       "    </tr>\n",
       "    <tr>\n",
       "      <th>9845</th>\n",
       "      <td>9845</td>\n",
       "      <td>train</td>\n",
       "      <td>14293</td>\n",
       "      <td>1</td>\n",
       "      <td>This is arguably the best film director Haim B...</td>\n",
       "      <td>['\\n', 'xbos', 'xfld', '1', '14293', 'xfld', '...</td>\n",
       "      <td>[42, 43, 14, 18, 0, 14, 18, 18, 14, 39, 13, 9,...</td>\n",
       "      <td>0.002012</td>\n",
       "    </tr>\n",
       "    <tr>\n",
       "      <th>5703</th>\n",
       "      <td>5703</td>\n",
       "      <td>train</td>\n",
       "      <td>3613</td>\n",
       "      <td>0</td>\n",
       "      <td>Why were there so many people crowding into an...</td>\n",
       "      <td>['\\n', 'xbos', 'xfld', '1', '3613', 'xfld', '1...</td>\n",
       "      <td>[42, 43, 14, 18, 0, 14, 18, 136, 14, 39, 156, ...</td>\n",
       "      <td>0.982485</td>\n",
       "    </tr>\n",
       "    <tr>\n",
       "      <th>5574</th>\n",
       "      <td>5574</td>\n",
       "      <td>train</td>\n",
       "      <td>4651</td>\n",
       "      <td>0</td>\n",
       "      <td>An attempt at crossover to appeal to those who...</td>\n",
       "      <td>['\\n', 'xbos', 'xfld', '1', '4651', 'xfld', '1...</td>\n",
       "      <td>[42, 43, 14, 18, 0, 14, 18, 136, 14, 39, 49, 6...</td>\n",
       "      <td>0.991277</td>\n",
       "    </tr>\n",
       "    <tr>\n",
       "      <th>18697</th>\n",
       "      <td>18697</td>\n",
       "      <td>train</td>\n",
       "      <td>10187</td>\n",
       "      <td>0</td>\n",
       "      <td>Picture the scene where a bunch of scriptwrite...</td>\n",
       "      <td>['\\n', 'xbos', 'xfld', '1', '10187', 'xfld', '...</td>\n",
       "      <td>[42, 43, 14, 18, 0, 14, 18, 136, 14, 39, 457, ...</td>\n",
       "      <td>0.006019</td>\n",
       "    </tr>\n",
       "    <tr>\n",
       "      <th>8162</th>\n",
       "      <td>8162</td>\n",
       "      <td>train</td>\n",
       "      <td>17461</td>\n",
       "      <td>1</td>\n",
       "      <td>This was excellent. Touching, action-packed, a...</td>\n",
       "      <td>['\\n', 'xbos', 'xfld', '1', '17461', 'xfld', '...</td>\n",
       "      <td>[42, 43, 14, 18, 0, 14, 18, 18, 14, 39, 13, 20...</td>\n",
       "      <td>0.224789</td>\n",
       "    </tr>\n",
       "    <tr>\n",
       "      <th>14686</th>\n",
       "      <td>14686</td>\n",
       "      <td>train</td>\n",
       "      <td>22773</td>\n",
       "      <td>1</td>\n",
       "      <td>I loved this movie. I'm a Mexican and was in t...</td>\n",
       "      <td>['\\n', 'xbos', 'xfld', '1', '22773', 'xfld', '...</td>\n",
       "      <td>[42, 43, 14, 18, 0, 14, 18, 18, 14, 39, 12, 45...</td>\n",
       "      <td>0.963776</td>\n",
       "    </tr>\n",
       "    <tr>\n",
       "      <th>15182</th>\n",
       "      <td>15182</td>\n",
       "      <td>train</td>\n",
       "      <td>21756</td>\n",
       "      <td>1</td>\n",
       "      <td>The story of this film is truly remarkable. A ...</td>\n",
       "      <td>['\\n', 'xbos', 'xfld', '1', '21756', 'xfld', '...</td>\n",
       "      <td>[42, 43, 14, 18, 0, 14, 18, 18, 14, 39, 2, 83,...</td>\n",
       "      <td>0.004233</td>\n",
       "    </tr>\n",
       "    <tr>\n",
       "      <th>24399</th>\n",
       "      <td>24399</td>\n",
       "      <td>train</td>\n",
       "      <td>17727</td>\n",
       "      <td>1</td>\n",
       "      <td>Steven Spielberg (at 24) had already directed ...</td>\n",
       "      <td>['\\n', 'xbos', 'xfld', '1', '17727', 'xfld', '...</td>\n",
       "      <td>[42, 43, 14, 18, 0, 14, 18, 18, 14, 39, 2127, ...</td>\n",
       "      <td>0.000527</td>\n",
       "    </tr>\n",
       "    <tr>\n",
       "      <th>24017</th>\n",
       "      <td>24017</td>\n",
       "      <td>train</td>\n",
       "      <td>8068</td>\n",
       "      <td>0</td>\n",
       "      <td>I didn't expect much from this film, but oh br...</td>\n",
       "      <td>['\\n', 'xbos', 'xfld', '1', '8068', 'xfld', '1...</td>\n",
       "      <td>[42, 43, 14, 18, 0, 14, 18, 136, 14, 39, 12, 8...</td>\n",
       "      <td>0.000706</td>\n",
       "    </tr>\n",
       "    <tr>\n",
       "      <th>11812</th>\n",
       "      <td>11812</td>\n",
       "      <td>train</td>\n",
       "      <td>21422</td>\n",
       "      <td>1</td>\n",
       "      <td>When an actor has to play the role of an actor...</td>\n",
       "      <td>['\\n', 'xbos', 'xfld', '1', '21422', 'xfld', '...</td>\n",
       "      <td>[42, 43, 14, 18, 0, 14, 18, 18, 14, 39, 69, 49...</td>\n",
       "      <td>0.000584</td>\n",
       "    </tr>\n",
       "  </tbody>\n",
       "</table>\n",
       "<p>2500 rows × 8 columns</p>\n",
       "</div>"
      ],
      "text/plain": [
       "       Unnamed: 0 dataset     id  labels  \\\n",
       "12591       12591   train  22643       1   \n",
       "24924       24924   train  12874       1   \n",
       "4216         4216   train  19765       1   \n",
       "7292         7292   train  22473       1   \n",
       "17835       17835   train  22768       1   \n",
       "4067         4067   train  12403       0   \n",
       "19515       19515   train  22343       1   \n",
       "7667         7667   train  16109       1   \n",
       "16117       16117   train  10291       0   \n",
       "3783         3783   train   1164       0   \n",
       "18160       18160   train  13071       1   \n",
       "15728       15728   train  20454       1   \n",
       "15594       15594   train   3062       0   \n",
       "23264       23264   train   7601       0   \n",
       "13112       13112   train  23647       1   \n",
       "15809       15809   train    544       0   \n",
       "14228       14228   train  22182       1   \n",
       "5671         5671   train   5148       0   \n",
       "15964       15964   train  13292       1   \n",
       "20519       20519   train  11467       0   \n",
       "18173       18173   train   2031       0   \n",
       "5238         5238   train   4391       0   \n",
       "4924         4924   train   1038       0   \n",
       "14860       14860   train  21497       1   \n",
       "10669       10669   train  15125       1   \n",
       "977           977   train   1842       0   \n",
       "11295       11295   train   6679       0   \n",
       "5675         5675   train  10608       0   \n",
       "13973       13973   train  10370       0   \n",
       "12599       12599   train   7148       0   \n",
       "...           ...     ...    ...     ...   \n",
       "5976         5976   train   2785       0   \n",
       "612           612   train  17444       1   \n",
       "6751         6751   train   3334       0   \n",
       "9372         9372   train  20682       1   \n",
       "6967         6967   train   7630       0   \n",
       "309           309   train  18052       1   \n",
       "5631         5631   train   5893       0   \n",
       "9787         9787   train   6810       0   \n",
       "8008         8008   train  17108       1   \n",
       "13736       13736   train   6164       0   \n",
       "17923       17923   train  12882       1   \n",
       "15151       15151   train   7921       0   \n",
       "13856       13856   train  16734       1   \n",
       "13290       13290   train  14374       1   \n",
       "10144       10144   train  13253       1   \n",
       "12089       12089   train   2258       0   \n",
       "18230       18230   train    189       0   \n",
       "14746       14746   train  17678       1   \n",
       "19160       19160   train  16202       1   \n",
       "8881         8881   train  14143       1   \n",
       "9845         9845   train  14293       1   \n",
       "5703         5703   train   3613       0   \n",
       "5574         5574   train   4651       0   \n",
       "18697       18697   train  10187       0   \n",
       "8162         8162   train  17461       1   \n",
       "14686       14686   train  22773       1   \n",
       "15182       15182   train  21756       1   \n",
       "24399       24399   train  17727       1   \n",
       "24017       24017   train   8068       0   \n",
       "11812       11812   train  21422       1   \n",
       "\n",
       "                                                    text  \\\n",
       "12591  The plot of this enjoyable MGM musical is cont...   \n",
       "24924  This movie was extremely funny, I would like t...   \n",
       "4216   If you want to be cynical and pedantic you cou...   \n",
       "7292   FORBIDDEN PLANET is the best SF film from the ...   \n",
       "17835  There are many reasons to watch this movie: to...   \n",
       "4067   This movie tackles child abduction from the po...   \n",
       "19515  I had not seen this movie since the late '80s ...   \n",
       "7667   I've seen hundreds of silent movies. Some will...   \n",
       "16117  As a lesbian, I am always on the lookout for f...   \n",
       "3783   Malcolm McDowell has not had too many good mov...   \n",
       "18160  Emma is a horribly flawed film based on Jane A...   \n",
       "15728  I have read the short story by Norman Maclean,...   \n",
       "15594  In 1914, Charlie Chaplin began making pictures...   \n",
       "23264  It is hard to describe this film and one wants...   \n",
       "13112  Flynn, known mostly for his swashbuckling role...   \n",
       "15809  I notice that the previous reviewer (who appea...   \n",
       "14228  Warning: Does contain spoilers.<br /><br />Ope...   \n",
       "5671   If you were to judge based on the movie alone,...   \n",
       "15964  An angry boy who has tragically lost his paren...   \n",
       "20519  Dave (Devon Sawa) and his friends Sam (Jason S...   \n",
       "18173  I wandered into this movie after watching the ...   \n",
       "5238   Singleton has some serious issues he has to co...   \n",
       "4924   I've never been a huge fan of Mormon films. Be...   \n",
       "14860  May contain minor spoilers.<br /><br />Dressed...   \n",
       "10669  This 1986 Italian-French remake of the 1946 fi...   \n",
       "977    I *loved* the original Scary Movie. I'm a huge...   \n",
       "11295  I saw this movie not knowing anything about it...   \n",
       "5675   A Christmas Story Is A Holiday Classic And My ...   \n",
       "13973  I picked this title up from a friend who had i...   \n",
       "12599  I expected to enjoy a romantic comedy featurin...   \n",
       "...                                                  ...   \n",
       "5976   If there's one thing that annoys me most in se...   \n",
       "612    Once upon a time in a castle...... Two little ...   \n",
       "6751   Watched on Hulu (far too many commercials!) so...   \n",
       "9372   A really sweet movie that has some similaritie...   \n",
       "6967   I'm actually surprised at the amount of good r...   \n",
       "309    I've watched it plenty of times and I'm planni...   \n",
       "5631   Ah, the spirit of '68. The streets of Paris we...   \n",
       "9787   After \"Central City\" loses its mob boss to mur...   \n",
       "8008   Very intelligent humor Excellent performing I ...   \n",
       "13736  This is one of those awful, sex-driven B-movie...   \n",
       "17923  Melvyn Douglas and Joan Blondell co-star in \"T...   \n",
       "15151  The film starts to slowly when we got to the c...   \n",
       "13856  Released in December of 1957, Sayonara went on...   \n",
       "13290  Down To Earth is the best movie!!! It is SO fu...   \n",
       "10144  Man about the house is a true situation comedy...   \n",
       "12089  This movie was awful. I had a very difficult t...   \n",
       "18230  The championship game is only a couple of days...   \n",
       "14746  I discovered this film after reading the book ...   \n",
       "19160  I first read Pearl S Buck's splendid novel in ...   \n",
       "8881   Soapdish may go down as one of the single most...   \n",
       "9845   This is arguably the best film director Haim B...   \n",
       "5703   Why were there so many people crowding into an...   \n",
       "5574   An attempt at crossover to appeal to those who...   \n",
       "18697  Picture the scene where a bunch of scriptwrite...   \n",
       "8162   This was excellent. Touching, action-packed, a...   \n",
       "14686  I loved this movie. I'm a Mexican and was in t...   \n",
       "15182  The story of this film is truly remarkable. A ...   \n",
       "24399  Steven Spielberg (at 24) had already directed ...   \n",
       "24017  I didn't expect much from this film, but oh br...   \n",
       "11812  When an actor has to play the role of an actor...   \n",
       "\n",
       "                                          tokenized_text  \\\n",
       "12591  ['\\n', 'xbos', 'xfld', '1', '22643', 'xfld', '...   \n",
       "24924  ['\\n', 'xbos', 'xfld', '1', '12874', 'xfld', '...   \n",
       "4216   ['\\n', 'xbos', 'xfld', '1', '19765', 'xfld', '...   \n",
       "7292   ['\\n', 'xbos', 'xfld', '1', '22473', 'xfld', '...   \n",
       "17835  ['\\n', 'xbos', 'xfld', '1', '22768', 'xfld', '...   \n",
       "4067   ['\\n', 'xbos', 'xfld', '1', '12403', 'xfld', '...   \n",
       "19515  ['\\n', 'xbos', 'xfld', '1', '22343', 'xfld', '...   \n",
       "7667   ['\\n', 'xbos', 'xfld', '1', '16109', 'xfld', '...   \n",
       "16117  ['\\n', 'xbos', 'xfld', '1', '10291', 'xfld', '...   \n",
       "3783   ['\\n', 'xbos', 'xfld', '1', '1164', 'xfld', '1...   \n",
       "18160  ['\\n', 'xbos', 'xfld', '1', '13071', 'xfld', '...   \n",
       "15728  ['\\n', 'xbos', 'xfld', '1', '20454', 'xfld', '...   \n",
       "15594  ['\\n', 'xbos', 'xfld', '1', '3062', 'xfld', '1...   \n",
       "23264  ['\\n', 'xbos', 'xfld', '1', '7601', 'xfld', '1...   \n",
       "13112  ['\\n', 'xbos', 'xfld', '1', '23647', 'xfld', '...   \n",
       "15809  ['\\n', 'xbos', 'xfld', '1', '544', 'xfld', '1'...   \n",
       "14228  ['\\n', 'xbos', 'xfld', '1', '22182', 'xfld', '...   \n",
       "5671   ['\\n', 'xbos', 'xfld', '1', '5148', 'xfld', '1...   \n",
       "15964  ['\\n', 'xbos', 'xfld', '1', '13292', 'xfld', '...   \n",
       "20519  ['\\n', 'xbos', 'xfld', '1', '11467', 'xfld', '...   \n",
       "18173  ['\\n', 'xbos', 'xfld', '1', '2031', 'xfld', '1...   \n",
       "5238   ['\\n', 'xbos', 'xfld', '1', '4391', 'xfld', '1...   \n",
       "4924   ['\\n', 'xbos', 'xfld', '1', '1038', 'xfld', '1...   \n",
       "14860  ['\\n', 'xbos', 'xfld', '1', '21497', 'xfld', '...   \n",
       "10669  ['\\n', 'xbos', 'xfld', '1', '15125', 'xfld', '...   \n",
       "977    ['\\n', 'xbos', 'xfld', '1', '1842', 'xfld', '1...   \n",
       "11295  ['\\n', 'xbos', 'xfld', '1', '6679', 'xfld', '1...   \n",
       "5675   ['\\n', 'xbos', 'xfld', '1', '10608', 'xfld', '...   \n",
       "13973  ['\\n', 'xbos', 'xfld', '1', '10370', 'xfld', '...   \n",
       "12599  ['\\n', 'xbos', 'xfld', '1', '7148', 'xfld', '1...   \n",
       "...                                                  ...   \n",
       "5976   ['\\n', 'xbos', 'xfld', '1', '2785', 'xfld', '1...   \n",
       "612    ['\\n', 'xbos', 'xfld', '1', '17444', 'xfld', '...   \n",
       "6751   ['\\n', 'xbos', 'xfld', '1', '3334', 'xfld', '1...   \n",
       "9372   ['\\n', 'xbos', 'xfld', '1', '20682', 'xfld', '...   \n",
       "6967   ['\\n', 'xbos', 'xfld', '1', '7630', 'xfld', '1...   \n",
       "309    ['\\n', 'xbos', 'xfld', '1', '18052', 'xfld', '...   \n",
       "5631   ['\\n', 'xbos', 'xfld', '1', '5893', 'xfld', '1...   \n",
       "9787   ['\\n', 'xbos', 'xfld', '1', '6810', 'xfld', '1...   \n",
       "8008   ['\\n', 'xbos', 'xfld', '1', '17108', 'xfld', '...   \n",
       "13736  ['\\n', 'xbos', 'xfld', '1', '6164', 'xfld', '1...   \n",
       "17923  ['\\n', 'xbos', 'xfld', '1', '12882', 'xfld', '...   \n",
       "15151  ['\\n', 'xbos', 'xfld', '1', '7921', 'xfld', '1...   \n",
       "13856  ['\\n', 'xbos', 'xfld', '1', '16734', 'xfld', '...   \n",
       "13290  ['\\n', 'xbos', 'xfld', '1', '14374', 'xfld', '...   \n",
       "10144  ['\\n', 'xbos', 'xfld', '1', '13253', 'xfld', '...   \n",
       "12089  ['\\n', 'xbos', 'xfld', '1', '2258', 'xfld', '1...   \n",
       "18230  ['\\n', 'xbos', 'xfld', '1', '189', 'xfld', '1'...   \n",
       "14746  ['\\n', 'xbos', 'xfld', '1', '17678', 'xfld', '...   \n",
       "19160  ['\\n', 'xbos', 'xfld', '1', '16202', 'xfld', '...   \n",
       "8881   ['\\n', 'xbos', 'xfld', '1', '14143', 'xfld', '...   \n",
       "9845   ['\\n', 'xbos', 'xfld', '1', '14293', 'xfld', '...   \n",
       "5703   ['\\n', 'xbos', 'xfld', '1', '3613', 'xfld', '1...   \n",
       "5574   ['\\n', 'xbos', 'xfld', '1', '4651', 'xfld', '1...   \n",
       "18697  ['\\n', 'xbos', 'xfld', '1', '10187', 'xfld', '...   \n",
       "8162   ['\\n', 'xbos', 'xfld', '1', '17461', 'xfld', '...   \n",
       "14686  ['\\n', 'xbos', 'xfld', '1', '22773', 'xfld', '...   \n",
       "15182  ['\\n', 'xbos', 'xfld', '1', '21756', 'xfld', '...   \n",
       "24399  ['\\n', 'xbos', 'xfld', '1', '17727', 'xfld', '...   \n",
       "24017  ['\\n', 'xbos', 'xfld', '1', '8068', 'xfld', '1...   \n",
       "11812  ['\\n', 'xbos', 'xfld', '1', '21422', 'xfld', '...   \n",
       "\n",
       "                                        numerized_tokens  labels_pred  \n",
       "12591  [42, 43, 14, 18, 0, 14, 18, 18, 14, 39, 2, 135...     0.988415  \n",
       "24924  [42, 43, 14, 18, 0, 14, 18, 18, 14, 39, 13, 23...     0.921730  \n",
       "4216   [42, 43, 14, 18, 0, 14, 18, 18, 14, 39, 62, 28...     0.785717  \n",
       "7292   [42, 43, 14, 18, 0, 14, 18, 18, 14, 39, 33, 44...     0.002084  \n",
       "17835  [42, 43, 14, 18, 0, 14, 18, 18, 14, 39, 54, 35...     0.239121  \n",
       "4067   [42, 43, 14, 18, 0, 14, 18, 136, 14, 39, 13, 2...     0.013578  \n",
       "19515  [42, 43, 14, 18, 0, 14, 18, 18, 14, 39, 12, 86...     0.850616  \n",
       "7667   [42, 43, 14, 18, 0, 14, 18, 18, 14, 39, 12, 16...     0.262059  \n",
       "16117  [42, 43, 14, 18, 0, 14, 18, 136, 14, 39, 22, 6...     0.926781  \n",
       "3783   [42, 43, 14, 18, 0, 14, 18, 136, 14, 39, 7731,...     0.296085  \n",
       "18160  [42, 43, 14, 18, 0, 14, 18, 18, 14, 39, 3314, ...     0.685653  \n",
       "15728  [42, 43, 14, 18, 0, 14, 18, 18, 14, 39, 12, 38...     0.001751  \n",
       "15594  [42, 43, 14, 18, 0, 14, 18, 136, 14, 39, 11, 1...     0.005759  \n",
       "23264  [42, 43, 14, 18, 0, 14, 18, 136, 14, 39, 10, 9...     0.982238  \n",
       "13112  [42, 43, 14, 18, 0, 14, 18, 18, 14, 39, 3121, ...     0.046350  \n",
       "15809  [42, 43, 14, 18, 0, 14, 18, 136, 14, 39, 12, 1...     0.979825  \n",
       "14228  [42, 43, 14, 18, 0, 14, 18, 18, 14, 39, 1754, ...     0.938297  \n",
       "5671   [42, 43, 14, 18, 0, 14, 18, 136, 14, 39, 62, 2...     0.615848  \n",
       "15964  [42, 43, 14, 18, 0, 14, 18, 18, 14, 39, 49, 16...     0.937930  \n",
       "20519  [42, 43, 14, 18, 0, 14, 18, 136, 14, 39, 3034,...     0.002879  \n",
       "18173  [42, 43, 14, 18, 48363, 14, 18, 136, 14, 39, 1...     0.201359  \n",
       "5238   [42, 43, 14, 18, 0, 14, 18, 136, 14, 39, 15605...     0.846254  \n",
       "4924   [42, 43, 14, 18, 0, 14, 18, 136, 14, 39, 12, 1...     0.576038  \n",
       "14860  [42, 43, 14, 18, 0, 14, 18, 18, 14, 39, 224, 2...     0.869694  \n",
       "10669  [42, 43, 14, 18, 0, 14, 18, 18, 14, 39, 13, 61...     0.078752  \n",
       "977    [42, 43, 14, 18, 45541, 14, 18, 136, 14, 39, 1...     0.373293  \n",
       "11295  [42, 43, 14, 18, 0, 14, 18, 136, 14, 39, 12, 2...     0.043340  \n",
       "5675   [42, 43, 14, 18, 0, 14, 18, 136, 14, 39, 6, 11...     0.932882  \n",
       "13973  [42, 43, 14, 18, 0, 14, 18, 136, 14, 39, 12, 1...     0.021593  \n",
       "12599  [42, 43, 14, 18, 0, 14, 18, 136, 14, 39, 12, 8...     0.970023  \n",
       "...                                                  ...          ...  \n",
       "5976   [42, 43, 14, 18, 0, 14, 18, 136, 14, 39, 62, 5...     0.002650  \n",
       "612    [42, 43, 14, 18, 0, 14, 18, 18, 14, 39, 305, 6...     0.002256  \n",
       "6751   [42, 43, 14, 18, 0, 14, 18, 136, 14, 39, 314, ...     0.987396  \n",
       "9372   [42, 43, 14, 18, 0, 14, 18, 18, 14, 39, 6, 82,...     0.028511  \n",
       "6967   [42, 43, 14, 18, 0, 14, 18, 136, 14, 39, 12, 1...     0.001060  \n",
       "309    [42, 43, 14, 18, 0, 14, 18, 18, 14, 39, 12, 16...     0.974395  \n",
       "5631   [42, 43, 14, 18, 0, 14, 18, 136, 14, 39, 3771,...     0.017971  \n",
       "9787   [42, 43, 14, 18, 0, 14, 18, 136, 14, 39, 121, ...     0.979631  \n",
       "8008   [42, 43, 14, 18, 0, 14, 18, 18, 14, 39, 71, 11...     0.875189  \n",
       "13736  [42, 43, 14, 18, 0, 14, 18, 136, 14, 39, 13, 9...     0.000748  \n",
       "17923  [42, 43, 14, 18, 0, 14, 18, 18, 14, 39, 10067,...     0.994510  \n",
       "15151  [42, 43, 14, 18, 0, 14, 18, 136, 14, 39, 2, 27...     0.988244  \n",
       "13856  [42, 43, 14, 18, 0, 14, 18, 18, 14, 39, 628, 1...     0.982508  \n",
       "13290  [42, 43, 14, 18, 0, 14, 18, 18, 14, 39, 199, 8...     0.003967  \n",
       "10144  [42, 43, 14, 18, 0, 14, 18, 18, 14, 39, 147, 6...     0.945054  \n",
       "12089  [42, 43, 14, 18, 0, 14, 18, 136, 14, 39, 13, 2...     0.992878  \n",
       "18230  [42, 43, 14, 18, 0, 14, 18, 136, 14, 39, 2, 57...     0.987072  \n",
       "14746  [42, 43, 14, 18, 0, 14, 18, 18, 14, 39, 12, 19...     0.000642  \n",
       "19160  [42, 43, 14, 18, 0, 14, 18, 18, 14, 39, 12, 10...     0.984534  \n",
       "8881   [42, 43, 14, 18, 0, 14, 18, 18, 14, 39, 25897,...     0.909663  \n",
       "9845   [42, 43, 14, 18, 0, 14, 18, 18, 14, 39, 13, 9,...     0.002012  \n",
       "5703   [42, 43, 14, 18, 0, 14, 18, 136, 14, 39, 156, ...     0.982485  \n",
       "5574   [42, 43, 14, 18, 0, 14, 18, 136, 14, 39, 49, 6...     0.991277  \n",
       "18697  [42, 43, 14, 18, 0, 14, 18, 136, 14, 39, 457, ...     0.006019  \n",
       "8162   [42, 43, 14, 18, 0, 14, 18, 18, 14, 39, 13, 20...     0.224789  \n",
       "14686  [42, 43, 14, 18, 0, 14, 18, 18, 14, 39, 12, 45...     0.963776  \n",
       "15182  [42, 43, 14, 18, 0, 14, 18, 18, 14, 39, 2, 83,...     0.004233  \n",
       "24399  [42, 43, 14, 18, 0, 14, 18, 18, 14, 39, 2127, ...     0.000527  \n",
       "24017  [42, 43, 14, 18, 0, 14, 18, 136, 14, 39, 12, 8...     0.000706  \n",
       "11812  [42, 43, 14, 18, 0, 14, 18, 18, 14, 39, 69, 49...     0.000584  \n",
       "\n",
       "[2500 rows x 8 columns]"
      ]
     },
     "execution_count": 41,
     "metadata": {},
     "output_type": "execute_result"
    }
   ],
   "source": [
    "val_df"
   ]
  },
  {
   "cell_type": "markdown",
   "metadata": {},
   "source": [
    "# predicting test_dl"
   ]
  },
  {
   "cell_type": "code",
   "execution_count": 37,
   "metadata": {},
   "outputs": [],
   "source": [
    "# Predicting val_dl to verify that it works\n",
    "learn.data.test_dl = test_dl\n",
    "log_preds_test = learn.predict(is_test=True);"
   ]
  },
  {
   "cell_type": "code",
   "execution_count": 38,
   "metadata": {},
   "outputs": [],
   "source": [
    "# Getting probs from logprobs\n",
    "probs_test = F.softmax(V(torch.Tensor(log_preds_test)));"
   ]
  },
  {
   "cell_type": "code",
   "execution_count": 39,
   "metadata": {},
   "outputs": [
    {
     "data": {
      "text/plain": [
       "Variable containing:\n",
       " 2.4724e-01  7.5276e-01\n",
       " 2.1383e-03  9.9786e-01\n",
       " 2.8492e-03  9.9715e-01\n",
       "           ⋮            \n",
       " 1.6919e-04  9.9983e-01\n",
       " 8.5364e-01  1.4636e-01\n",
       " 4.6331e-01  5.3669e-01\n",
       "[torch.cuda.FloatTensor of size 25000x2 (GPU 0)]"
      ]
     },
     "execution_count": 39,
     "metadata": {},
     "output_type": "execute_result"
    }
   ],
   "source": [
    "probs_test"
   ]
  },
  {
   "cell_type": "code",
   "execution_count": 40,
   "metadata": {},
   "outputs": [
    {
     "name": "stderr",
     "output_type": "stream",
     "text": [
      "C:\\Users\\rudyg\\AppData\\Local\\conda\\conda\\envs\\fastai\\lib\\site-packages\\ipykernel_launcher.py:1: SettingWithCopyWarning: \n",
      "A value is trying to be set on a copy of a slice from a DataFrame.\n",
      "Try using .loc[row_indexer,col_indexer] = value instead\n",
      "\n",
      "See the caveats in the documentation: http://pandas.pydata.org/pandas-docs/stable/indexing.html#indexing-view-versus-copy\n",
      "  \"\"\"Entry point for launching an IPython kernel.\n"
     ]
    },
    {
     "data": {
      "text/plain": [
       "0.7751478"
      ]
     },
     "execution_count": 40,
     "metadata": {},
     "output_type": "execute_result"
    }
   ],
   "source": [
    "test_df[\"labels\"] = probs_test.detach().data.cpu().numpy()[:, 1]; test_df.labels.mean()"
   ]
  },
  {
   "cell_type": "code",
   "execution_count": 41,
   "metadata": {},
   "outputs": [
    {
     "data": {
      "text/html": [
       "<div>\n",
       "<style scoped>\n",
       "    .dataframe tbody tr th:only-of-type {\n",
       "        vertical-align: middle;\n",
       "    }\n",
       "\n",
       "    .dataframe tbody tr th {\n",
       "        vertical-align: top;\n",
       "    }\n",
       "\n",
       "    .dataframe thead th {\n",
       "        text-align: right;\n",
       "    }\n",
       "</style>\n",
       "<table border=\"1\" class=\"dataframe\">\n",
       "  <thead>\n",
       "    <tr style=\"text-align: right;\">\n",
       "      <th></th>\n",
       "      <th>Unnamed: 0</th>\n",
       "      <th>dataset</th>\n",
       "      <th>id</th>\n",
       "      <th>labels</th>\n",
       "      <th>text</th>\n",
       "      <th>tokenized_text</th>\n",
       "      <th>numerized_tokens</th>\n",
       "    </tr>\n",
       "  </thead>\n",
       "  <tbody>\n",
       "    <tr>\n",
       "      <th>25000</th>\n",
       "      <td>0</td>\n",
       "      <td>test</td>\n",
       "      <td>98481</td>\n",
       "      <td>0.752764</td>\n",
       "      <td>Bud Abbott and Lou Costello always had a good ...</td>\n",
       "      <td>['\\n', 'xbos', 'xfld', '1', '98481', 'xfld', '...</td>\n",
       "      <td>[42, 43, 14, 18, 0, 14, 18, 68, 14, 39, 5284, ...</td>\n",
       "    </tr>\n",
       "    <tr>\n",
       "      <th>25001</th>\n",
       "      <td>1</td>\n",
       "      <td>test</td>\n",
       "      <td>88606</td>\n",
       "      <td>0.997862</td>\n",
       "      <td>This film is not your typical Hollywood fare, ...</td>\n",
       "      <td>['\\n', 'xbos', 'xfld', '1', '88606', 'xfld', '...</td>\n",
       "      <td>[42, 43, 14, 18, 0, 14, 18, 68, 14, 39, 13, 27...</td>\n",
       "    </tr>\n",
       "    <tr>\n",
       "      <th>25002</th>\n",
       "      <td>2</td>\n",
       "      <td>test</td>\n",
       "      <td>88639</td>\n",
       "      <td>0.997151</td>\n",
       "      <td>Henry Thomas, and Robin Tunny, are a couple of...</td>\n",
       "      <td>['\\n', 'xbos', 'xfld', '1', '88639', 'xfld', '...</td>\n",
       "      <td>[42, 43, 14, 18, 0, 14, 18, 68, 14, 39, 1636, ...</td>\n",
       "    </tr>\n",
       "    <tr>\n",
       "      <th>25003</th>\n",
       "      <td>3</td>\n",
       "      <td>test</td>\n",
       "      <td>76170</td>\n",
       "      <td>0.995447</td>\n",
       "      <td>This digital horror film brings us into the Mi...</td>\n",
       "      <td>['\\n', 'xbos', 'xfld', '1', '76170', 'xfld', '...</td>\n",
       "      <td>[42, 43, 14, 18, 0, 14, 18, 68, 14, 39, 13, 36...</td>\n",
       "    </tr>\n",
       "    <tr>\n",
       "      <th>25004</th>\n",
       "      <td>4</td>\n",
       "      <td>test</td>\n",
       "      <td>81803</td>\n",
       "      <td>0.888018</td>\n",
       "      <td>I just saw this on a local independent station...</td>\n",
       "      <td>['\\n', 'xbos', 'xfld', '1', '81803', 'xfld', '...</td>\n",
       "      <td>[42, 43, 14, 18, 0, 14, 18, 68, 14, 39, 12, 56...</td>\n",
       "    </tr>\n",
       "    <tr>\n",
       "      <th>25005</th>\n",
       "      <td>5</td>\n",
       "      <td>test</td>\n",
       "      <td>93371</td>\n",
       "      <td>0.999657</td>\n",
       "      <td>Those wishing to see film noir remakes, should...</td>\n",
       "      <td>['\\n', 'xbos', 'xfld', '1', '93371', 'xfld', '...</td>\n",
       "      <td>[42, 43, 14, 18, 0, 14, 18, 68, 14, 39, 167, 4...</td>\n",
       "    </tr>\n",
       "    <tr>\n",
       "      <th>25006</th>\n",
       "      <td>6</td>\n",
       "      <td>test</td>\n",
       "      <td>87360</td>\n",
       "      <td>0.711946</td>\n",
       "      <td>I never read the book. Now I don't really want...</td>\n",
       "      <td>['\\n', 'xbos', 'xfld', '1', '87360', 'xfld', '...</td>\n",
       "      <td>[42, 43, 14, 18, 0, 14, 18, 68, 14, 39, 12, 13...</td>\n",
       "    </tr>\n",
       "    <tr>\n",
       "      <th>25007</th>\n",
       "      <td>7</td>\n",
       "      <td>test</td>\n",
       "      <td>88547</td>\n",
       "      <td>0.996578</td>\n",
       "      <td>I think that there was too much action in the ...</td>\n",
       "      <td>['\\n', 'xbos', 'xfld', '1', '88547', 'xfld', '...</td>\n",
       "      <td>[42, 43, 14, 18, 0, 14, 18, 68, 14, 39, 12, 12...</td>\n",
       "    </tr>\n",
       "    <tr>\n",
       "      <th>25008</th>\n",
       "      <td>8</td>\n",
       "      <td>test</td>\n",
       "      <td>88215</td>\n",
       "      <td>0.984037</td>\n",
       "      <td>Have wanted to see this for a while: I never t...</td>\n",
       "      <td>['\\n', 'xbos', 'xfld', '1', '88215', 'xfld', '...</td>\n",
       "      <td>[42, 43, 14, 18, 0, 14, 18, 68, 14, 39, 38, 48...</td>\n",
       "    </tr>\n",
       "    <tr>\n",
       "      <th>25009</th>\n",
       "      <td>9</td>\n",
       "      <td>test</td>\n",
       "      <td>96187</td>\n",
       "      <td>0.957583</td>\n",
       "      <td>This is an interesting, hard to find movie fro...</td>\n",
       "      <td>['\\n', 'xbos', 'xfld', '1', '96187', 'xfld', '...</td>\n",
       "      <td>[42, 43, 14, 18, 0, 14, 18, 68, 14, 39, 13, 9,...</td>\n",
       "    </tr>\n",
       "    <tr>\n",
       "      <th>25010</th>\n",
       "      <td>10</td>\n",
       "      <td>test</td>\n",
       "      <td>81251</td>\n",
       "      <td>0.990274</td>\n",
       "      <td>Well, the Hero and the Terror is slightly belo...</td>\n",
       "      <td>['\\n', 'xbos', 'xfld', '1', '81251', 'xfld', '...</td>\n",
       "      <td>[42, 43, 14, 18, 0, 14, 18, 68, 14, 39, 91, 4,...</td>\n",
       "    </tr>\n",
       "    <tr>\n",
       "      <th>25011</th>\n",
       "      <td>11</td>\n",
       "      <td>test</td>\n",
       "      <td>98086</td>\n",
       "      <td>0.999693</td>\n",
       "      <td>I have been an avid chipmunk fan since the lat...</td>\n",
       "      <td>['\\n', 'xbos', 'xfld', '1', '98086', 'xfld', '...</td>\n",
       "      <td>[42, 43, 14, 18, 0, 14, 18, 68, 14, 39, 12, 38...</td>\n",
       "    </tr>\n",
       "    <tr>\n",
       "      <th>25012</th>\n",
       "      <td>12</td>\n",
       "      <td>test</td>\n",
       "      <td>79688</td>\n",
       "      <td>0.969191</td>\n",
       "      <td>42/100. Often referred as \"Tarzan with clothes...</td>\n",
       "      <td>['\\n', 'xbos', 'xfld', '1', '79688', 'xfld', '...</td>\n",
       "      <td>[42, 43, 14, 18, 0, 14, 18, 68, 14, 39, 12066,...</td>\n",
       "    </tr>\n",
       "    <tr>\n",
       "      <th>25013</th>\n",
       "      <td>13</td>\n",
       "      <td>test</td>\n",
       "      <td>90580</td>\n",
       "      <td>0.997749</td>\n",
       "      <td>I caught this movie late one night and never k...</td>\n",
       "      <td>['\\n', 'xbos', 'xfld', '1', '90580', 'xfld', '...</td>\n",
       "      <td>[42, 43, 14, 18, 0, 14, 18, 68, 14, 39, 12, 10...</td>\n",
       "    </tr>\n",
       "    <tr>\n",
       "      <th>25014</th>\n",
       "      <td>14</td>\n",
       "      <td>test</td>\n",
       "      <td>86756</td>\n",
       "      <td>0.130021</td>\n",
       "      <td>Tyrone Power was cast in the lead as Solomon. ...</td>\n",
       "      <td>['\\n', 'xbos', 'xfld', '1', '86756', 'xfld', '...</td>\n",
       "      <td>[42, 43, 14, 18, 0, 14, 18, 68, 14, 39, 12081,...</td>\n",
       "    </tr>\n",
       "    <tr>\n",
       "      <th>25015</th>\n",
       "      <td>15</td>\n",
       "      <td>test</td>\n",
       "      <td>77906</td>\n",
       "      <td>0.018984</td>\n",
       "      <td>This is one of those religious horror films wh...</td>\n",
       "      <td>['\\n', 'xbos', 'xfld', '1', '77906', 'xfld', '...</td>\n",
       "      <td>[42, 43, 14, 18, 0, 14, 18, 68, 14, 39, 13, 9,...</td>\n",
       "    </tr>\n",
       "    <tr>\n",
       "      <th>25016</th>\n",
       "      <td>16</td>\n",
       "      <td>test</td>\n",
       "      <td>95742</td>\n",
       "      <td>0.982198</td>\n",
       "      <td>Being advertised as the most expensive movie e...</td>\n",
       "      <td>['\\n', 'xbos', 'xfld', '1', '95742', 'xfld', '...</td>\n",
       "      <td>[42, 43, 14, 18, 0, 14, 18, 68, 14, 39, 131, 6...</td>\n",
       "    </tr>\n",
       "    <tr>\n",
       "      <th>25017</th>\n",
       "      <td>17</td>\n",
       "      <td>test</td>\n",
       "      <td>77455</td>\n",
       "      <td>0.516934</td>\n",
       "      <td>The Jaws rip off is the trashiest of the all t...</td>\n",
       "      <td>['\\n', 'xbos', 'xfld', '1', '77455', 'xfld', '...</td>\n",
       "      <td>[42, 43, 14, 18, 0, 14, 18, 68, 14, 39, 2, 454...</td>\n",
       "    </tr>\n",
       "    <tr>\n",
       "      <th>25018</th>\n",
       "      <td>18</td>\n",
       "      <td>test</td>\n",
       "      <td>76454</td>\n",
       "      <td>0.971292</td>\n",
       "      <td>After seeing this film I felt sick to my stoma...</td>\n",
       "      <td>['\\n', 'xbos', 'xfld', '1', '76454', 'xfld', '...</td>\n",
       "      <td>[42, 43, 14, 18, 0, 14, 18, 68, 14, 39, 121, 3...</td>\n",
       "    </tr>\n",
       "    <tr>\n",
       "      <th>25019</th>\n",
       "      <td>19</td>\n",
       "      <td>test</td>\n",
       "      <td>92650</td>\n",
       "      <td>0.999594</td>\n",
       "      <td>I first saw this mini-series as a child and th...</td>\n",
       "      <td>['\\n', 'xbos', 'xfld', '1', '92650', 'xfld', '...</td>\n",
       "      <td>[42, 43, 14, 18, 0, 14, 18, 68, 14, 39, 12, 10...</td>\n",
       "    </tr>\n",
       "    <tr>\n",
       "      <th>25020</th>\n",
       "      <td>20</td>\n",
       "      <td>test</td>\n",
       "      <td>98042</td>\n",
       "      <td>0.960670</td>\n",
       "      <td>The beautiful, charming, supremely versatile a...</td>\n",
       "      <td>['\\n', 'xbos', 'xfld', '1', '98042', 'xfld', '...</td>\n",
       "      <td>[42, 43, 14, 18, 0, 14, 18, 68, 14, 39, 2, 333...</td>\n",
       "    </tr>\n",
       "    <tr>\n",
       "      <th>25021</th>\n",
       "      <td>21</td>\n",
       "      <td>test</td>\n",
       "      <td>81107</td>\n",
       "      <td>0.351811</td>\n",
       "      <td>Everyone I know loves this movie, but I am afr...</td>\n",
       "      <td>['\\n', 'xbos', 'xfld', '1', '81107', 'xfld', '...</td>\n",
       "      <td>[42, 43, 14, 18, 0, 14, 18, 68, 14, 39, 316, 1...</td>\n",
       "    </tr>\n",
       "    <tr>\n",
       "      <th>25022</th>\n",
       "      <td>22</td>\n",
       "      <td>test</td>\n",
       "      <td>83839</td>\n",
       "      <td>0.903214</td>\n",
       "      <td>CORRIDORS OF BLOOD &lt;br /&gt;&lt;br /&gt;Aspect ratio: 1...</td>\n",
       "      <td>['\\n', 'xbos', 'xfld', '1', '83839', 'xfld', '...</td>\n",
       "      <td>[42, 43, 14, 18, 0, 14, 18, 68, 14, 39, 33, 92...</td>\n",
       "    </tr>\n",
       "    <tr>\n",
       "      <th>25023</th>\n",
       "      <td>23</td>\n",
       "      <td>test</td>\n",
       "      <td>87324</td>\n",
       "      <td>0.634839</td>\n",
       "      <td>If this movie had been directed by a man, he w...</td>\n",
       "      <td>['\\n', 'xbos', 'xfld', '1', '87324', 'xfld', '...</td>\n",
       "      <td>[42, 43, 14, 18, 0, 14, 18, 68, 14, 39, 62, 13...</td>\n",
       "    </tr>\n",
       "    <tr>\n",
       "      <th>25024</th>\n",
       "      <td>24</td>\n",
       "      <td>test</td>\n",
       "      <td>84526</td>\n",
       "      <td>0.914001</td>\n",
       "      <td>I like Kevin Bacon and Cathy Moriarty, and I l...</td>\n",
       "      <td>['\\n', 'xbos', 'xfld', '1', '84526', 'xfld', '...</td>\n",
       "      <td>[42, 43, 14, 18, 0, 14, 18, 68, 14, 39, 12, 53...</td>\n",
       "    </tr>\n",
       "    <tr>\n",
       "      <th>25025</th>\n",
       "      <td>25</td>\n",
       "      <td>test</td>\n",
       "      <td>93868</td>\n",
       "      <td>0.980647</td>\n",
       "      <td>Passion In The Desert exemplifies spatial gran...</td>\n",
       "      <td>['\\n', 'xbos', 'xfld', '1', '93868', 'xfld', '...</td>\n",
       "      <td>[42, 43, 14, 18, 0, 14, 18, 68, 14, 39, 1649, ...</td>\n",
       "    </tr>\n",
       "    <tr>\n",
       "      <th>25026</th>\n",
       "      <td>26</td>\n",
       "      <td>test</td>\n",
       "      <td>88605</td>\n",
       "      <td>0.989528</td>\n",
       "      <td>I would recommend this film to anyone who is s...</td>\n",
       "      <td>['\\n', 'xbos', 'xfld', '1', '88605', 'xfld', '...</td>\n",
       "      <td>[42, 43, 14, 18, 0, 14, 18, 68, 14, 39, 12, 73...</td>\n",
       "    </tr>\n",
       "    <tr>\n",
       "      <th>25027</th>\n",
       "      <td>27</td>\n",
       "      <td>test</td>\n",
       "      <td>84436</td>\n",
       "      <td>0.407197</td>\n",
       "      <td>No budget direct to video tale of aliens in Ar...</td>\n",
       "      <td>['\\n', 'xbos', 'xfld', '1', '84436', 'xfld', '...</td>\n",
       "      <td>[42, 43, 14, 18, 0, 14, 18, 68, 14, 39, 75, 35...</td>\n",
       "    </tr>\n",
       "    <tr>\n",
       "      <th>25028</th>\n",
       "      <td>28</td>\n",
       "      <td>test</td>\n",
       "      <td>91698</td>\n",
       "      <td>0.733226</td>\n",
       "      <td>Film about the failure of government and the s...</td>\n",
       "      <td>['\\n', 'xbos', 'xfld', '1', '91698', 'xfld', '...</td>\n",
       "      <td>[42, 43, 14, 18, 0, 14, 18, 68, 14, 39, 27, 60...</td>\n",
       "    </tr>\n",
       "    <tr>\n",
       "      <th>25029</th>\n",
       "      <td>29</td>\n",
       "      <td>test</td>\n",
       "      <td>82413</td>\n",
       "      <td>0.445286</td>\n",
       "      <td>I bought this movie for a couple of dollars at...</td>\n",
       "      <td>['\\n', 'xbos', 'xfld', '1', '82413', 'xfld', '...</td>\n",
       "      <td>[42, 43, 14, 18, 0, 14, 18, 68, 14, 39, 12, 12...</td>\n",
       "    </tr>\n",
       "    <tr>\n",
       "      <th>...</th>\n",
       "      <td>...</td>\n",
       "      <td>...</td>\n",
       "      <td>...</td>\n",
       "      <td>...</td>\n",
       "      <td>...</td>\n",
       "      <td>...</td>\n",
       "      <td>...</td>\n",
       "    </tr>\n",
       "    <tr>\n",
       "      <th>25970</th>\n",
       "      <td>970</td>\n",
       "      <td>test</td>\n",
       "      <td>80982</td>\n",
       "      <td>0.983474</td>\n",
       "      <td>did anyone notice?when miss brook went skinny ...</td>\n",
       "      <td>['\\n', 'xbos', 'xfld', '1', '80982', 'xfld', '...</td>\n",
       "      <td>[42, 43, 14, 18, 0, 14, 18, 68, 14, 39, 89, 26...</td>\n",
       "    </tr>\n",
       "    <tr>\n",
       "      <th>25971</th>\n",
       "      <td>971</td>\n",
       "      <td>test</td>\n",
       "      <td>91715</td>\n",
       "      <td>0.995705</td>\n",
       "      <td>i was very impressed with this production on l...</td>\n",
       "      <td>['\\n', 'xbos', 'xfld', '1', '91715', 'xfld', '...</td>\n",
       "      <td>[42, 43, 14, 18, 0, 14, 18, 68, 14, 39, 12, 20...</td>\n",
       "    </tr>\n",
       "    <tr>\n",
       "      <th>25972</th>\n",
       "      <td>972</td>\n",
       "      <td>test</td>\n",
       "      <td>86777</td>\n",
       "      <td>0.892947</td>\n",
       "      <td>I can't knock this film too terribly, because ...</td>\n",
       "      <td>['\\n', 'xbos', 'xfld', '1', '86777', 'xfld', '...</td>\n",
       "      <td>[42, 43, 14, 18, 0, 14, 18, 68, 14, 39, 12, 19...</td>\n",
       "    </tr>\n",
       "    <tr>\n",
       "      <th>25973</th>\n",
       "      <td>973</td>\n",
       "      <td>test</td>\n",
       "      <td>81441</td>\n",
       "      <td>0.083659</td>\n",
       "      <td>The combination of Dan Haggerty (Elves) and Li...</td>\n",
       "      <td>['\\n', 'xbos', 'xfld', '1', '81441', 'xfld', '...</td>\n",
       "      <td>[42, 43, 14, 18, 0, 14, 18, 68, 14, 39, 2, 219...</td>\n",
       "    </tr>\n",
       "    <tr>\n",
       "      <th>25974</th>\n",
       "      <td>974</td>\n",
       "      <td>test</td>\n",
       "      <td>97172</td>\n",
       "      <td>0.717265</td>\n",
       "      <td>Perhaps the deepest cartoon made in the USA, \"...</td>\n",
       "      <td>['\\n', 'xbos', 'xfld', '1', '97172', 'xfld', '...</td>\n",
       "      <td>[42, 43, 14, 18, 0, 14, 18, 68, 14, 39, 409, 2...</td>\n",
       "    </tr>\n",
       "    <tr>\n",
       "      <th>25975</th>\n",
       "      <td>975</td>\n",
       "      <td>test</td>\n",
       "      <td>76066</td>\n",
       "      <td>0.964993</td>\n",
       "      <td>I'm no director or writer or anything related ...</td>\n",
       "      <td>['\\n', 'xbos', 'xfld', '1', '76066', 'xfld', '...</td>\n",
       "      <td>[42, 43, 14, 18, 0, 14, 18, 68, 14, 39, 12, 16...</td>\n",
       "    </tr>\n",
       "    <tr>\n",
       "      <th>25976</th>\n",
       "      <td>976</td>\n",
       "      <td>test</td>\n",
       "      <td>97373</td>\n",
       "      <td>0.999509</td>\n",
       "      <td>\"Cherry\" tells of a naive, unmarried virgin wh...</td>\n",
       "      <td>['\\n', 'xbos', 'xfld', '1', '97373', 'xfld', '...</td>\n",
       "      <td>[42, 43, 14, 18, 0, 14, 18, 68, 14, 39, 16, 97...</td>\n",
       "    </tr>\n",
       "    <tr>\n",
       "      <th>25977</th>\n",
       "      <td>977</td>\n",
       "      <td>test</td>\n",
       "      <td>79730</td>\n",
       "      <td>0.976650</td>\n",
       "      <td>This is one of the best looking films of the p...</td>\n",
       "      <td>['\\n', 'xbos', 'xfld', '1', '79730', 'xfld', '...</td>\n",
       "      <td>[42, 43, 14, 18, 0, 14, 18, 68, 14, 39, 13, 9,...</td>\n",
       "    </tr>\n",
       "    <tr>\n",
       "      <th>25978</th>\n",
       "      <td>978</td>\n",
       "      <td>test</td>\n",
       "      <td>87434</td>\n",
       "      <td>0.668623</td>\n",
       "      <td>This is among one of many USA attempts of rema...</td>\n",
       "      <td>['\\n', 'xbos', 'xfld', '1', '87434', 'xfld', '...</td>\n",
       "      <td>[42, 43, 14, 18, 0, 14, 18, 68, 14, 39, 13, 9,...</td>\n",
       "    </tr>\n",
       "    <tr>\n",
       "      <th>25979</th>\n",
       "      <td>979</td>\n",
       "      <td>test</td>\n",
       "      <td>83930</td>\n",
       "      <td>0.931127</td>\n",
       "      <td>I'd never thought that I would be caught sayin...</td>\n",
       "      <td>['\\n', 'xbos', 'xfld', '1', '83930', 'xfld', '...</td>\n",
       "      <td>[42, 43, 14, 18, 0, 14, 18, 68, 14, 39, 12, 32...</td>\n",
       "    </tr>\n",
       "    <tr>\n",
       "      <th>25980</th>\n",
       "      <td>980</td>\n",
       "      <td>test</td>\n",
       "      <td>86844</td>\n",
       "      <td>0.304409</td>\n",
       "      <td>This movie was utterly and unequivocally terri...</td>\n",
       "      <td>['\\n', 'xbos', 'xfld', '1', '86844', 'xfld', '...</td>\n",
       "      <td>[42, 43, 14, 18, 0, 14, 18, 68, 14, 39, 13, 23...</td>\n",
       "    </tr>\n",
       "    <tr>\n",
       "      <th>25981</th>\n",
       "      <td>981</td>\n",
       "      <td>test</td>\n",
       "      <td>77190</td>\n",
       "      <td>0.181496</td>\n",
       "      <td>My roommate and I have another friend that wor...</td>\n",
       "      <td>['\\n', 'xbos', 'xfld', '1', '77190', 'xfld', '...</td>\n",
       "      <td>[42, 43, 14, 18, 0, 14, 18, 68, 14, 39, 77, 61...</td>\n",
       "    </tr>\n",
       "    <tr>\n",
       "      <th>25982</th>\n",
       "      <td>982</td>\n",
       "      <td>test</td>\n",
       "      <td>83936</td>\n",
       "      <td>0.330920</td>\n",
       "      <td>The fact that this cruddy series could elicit ...</td>\n",
       "      <td>['\\n', 'xbos', 'xfld', '1', '83936', 'xfld', '...</td>\n",
       "      <td>[42, 43, 14, 18, 0, 14, 18, 68, 14, 39, 2, 218...</td>\n",
       "    </tr>\n",
       "    <tr>\n",
       "      <th>25983</th>\n",
       "      <td>983</td>\n",
       "      <td>test</td>\n",
       "      <td>78994</td>\n",
       "      <td>0.888615</td>\n",
       "      <td>Mediocre at best. Slow, but probably more ente...</td>\n",
       "      <td>['\\n', 'xbos', 'xfld', '1', '78994', 'xfld', '...</td>\n",
       "      <td>[42, 43, 14, 18, 0, 14, 18, 68, 14, 39, 1572, ...</td>\n",
       "    </tr>\n",
       "    <tr>\n",
       "      <th>25984</th>\n",
       "      <td>984</td>\n",
       "      <td>test</td>\n",
       "      <td>87983</td>\n",
       "      <td>0.611982</td>\n",
       "      <td>i see there are great reviews of this film alr...</td>\n",
       "      <td>['\\n', 'xbos', 'xfld', '1', '87983', 'xfld', '...</td>\n",
       "      <td>[42, 43, 14, 18, 0, 14, 18, 68, 14, 39, 12, 84...</td>\n",
       "    </tr>\n",
       "    <tr>\n",
       "      <th>25985</th>\n",
       "      <td>985</td>\n",
       "      <td>test</td>\n",
       "      <td>76549</td>\n",
       "      <td>0.797413</td>\n",
       "      <td>After watching this film, I thought to myself,...</td>\n",
       "      <td>['\\n', 'xbos', 'xfld', '1', '76549', 'xfld', '...</td>\n",
       "      <td>[42, 43, 14, 18, 0, 14, 18, 68, 14, 39, 121, 1...</td>\n",
       "    </tr>\n",
       "    <tr>\n",
       "      <th>25986</th>\n",
       "      <td>986</td>\n",
       "      <td>test</td>\n",
       "      <td>89227</td>\n",
       "      <td>0.986766</td>\n",
       "      <td>This movie starts off somewhat slowly and gets...</td>\n",
       "      <td>['\\n', 'xbos', 'xfld', '1', '89227', 'xfld', '...</td>\n",
       "      <td>[42, 43, 14, 18, 0, 14, 18, 68, 14, 39, 13, 23...</td>\n",
       "    </tr>\n",
       "    <tr>\n",
       "      <th>25987</th>\n",
       "      <td>987</td>\n",
       "      <td>test</td>\n",
       "      <td>98472</td>\n",
       "      <td>0.861361</td>\n",
       "      <td>I grew up with the Abbott and Costello movies,...</td>\n",
       "      <td>['\\n', 'xbos', 'xfld', '1', '98472', 'xfld', '...</td>\n",
       "      <td>[42, 43, 14, 18, 0, 14, 18, 68, 14, 39, 12, 21...</td>\n",
       "    </tr>\n",
       "    <tr>\n",
       "      <th>25988</th>\n",
       "      <td>988</td>\n",
       "      <td>test</td>\n",
       "      <td>92694</td>\n",
       "      <td>0.804369</td>\n",
       "      <td>I saw this film at the 2005 Palm Springs Inter...</td>\n",
       "      <td>['\\n', 'xbos', 'xfld', '1', '92694', 'xfld', '...</td>\n",
       "      <td>[42, 43, 14, 18, 0, 14, 18, 68, 14, 39, 12, 23...</td>\n",
       "    </tr>\n",
       "    <tr>\n",
       "      <th>25989</th>\n",
       "      <td>989</td>\n",
       "      <td>test</td>\n",
       "      <td>98615</td>\n",
       "      <td>0.998226</td>\n",
       "      <td>I remember seeing this in the early 90's on UK...</td>\n",
       "      <td>['\\n', 'xbos', 'xfld', '1', '98615', 'xfld', '...</td>\n",
       "      <td>[42, 43, 14, 18, 0, 14, 18, 68, 14, 39, 12, 40...</td>\n",
       "    </tr>\n",
       "    <tr>\n",
       "      <th>25990</th>\n",
       "      <td>990</td>\n",
       "      <td>test</td>\n",
       "      <td>96298</td>\n",
       "      <td>0.425920</td>\n",
       "      <td>This BRASS EYE special PAEDO-GEDDON was swampe...</td>\n",
       "      <td>['\\n', 'xbos', 'xfld', '1', '96298', 'xfld', '...</td>\n",
       "      <td>[42, 43, 14, 18, 0, 14, 18, 68, 14, 39, 13, 33...</td>\n",
       "    </tr>\n",
       "    <tr>\n",
       "      <th>25991</th>\n",
       "      <td>991</td>\n",
       "      <td>test</td>\n",
       "      <td>77215</td>\n",
       "      <td>0.930347</td>\n",
       "      <td>A total and utter travesty of a movie.'Dark po...</td>\n",
       "      <td>['\\n', 'xbos', 'xfld', '1', '77215', 'xfld', '...</td>\n",
       "      <td>[42, 43, 14, 18, 0, 14, 18, 68, 14, 39, 6, 951...</td>\n",
       "    </tr>\n",
       "    <tr>\n",
       "      <th>25992</th>\n",
       "      <td>992</td>\n",
       "      <td>test</td>\n",
       "      <td>90501</td>\n",
       "      <td>0.217283</td>\n",
       "      <td>Rather than go on location and make a realisti...</td>\n",
       "      <td>['\\n', 'xbos', 'xfld', '1', '90501', 'xfld', '...</td>\n",
       "      <td>[42, 43, 14, 18, 0, 14, 18, 68, 14, 39, 273, 9...</td>\n",
       "    </tr>\n",
       "    <tr>\n",
       "      <th>25993</th>\n",
       "      <td>993</td>\n",
       "      <td>test</td>\n",
       "      <td>77327</td>\n",
       "      <td>0.966953</td>\n",
       "      <td>Consider \"I Know All\" Action hero is lighting ...</td>\n",
       "      <td>['\\n', 'xbos', 'xfld', '1', '77327', 'xfld', '...</td>\n",
       "      <td>[42, 43, 14, 18, 0, 14, 18, 68, 14, 39, 1185, ...</td>\n",
       "    </tr>\n",
       "    <tr>\n",
       "      <th>25994</th>\n",
       "      <td>994</td>\n",
       "      <td>test</td>\n",
       "      <td>79437</td>\n",
       "      <td>0.897578</td>\n",
       "      <td>I admit to a secret admiration of the original...</td>\n",
       "      <td>['\\n', 'xbos', 'xfld', '1', '79437', 'xfld', '...</td>\n",
       "      <td>[42, 43, 14, 18, 0, 14, 18, 68, 14, 39, 12, 99...</td>\n",
       "    </tr>\n",
       "    <tr>\n",
       "      <th>25995</th>\n",
       "      <td>995</td>\n",
       "      <td>test</td>\n",
       "      <td>80957</td>\n",
       "      <td>0.947410</td>\n",
       "      <td>This movie reminds me old B movies, but not in...</td>\n",
       "      <td>['\\n', 'xbos', 'xfld', '1', '80957', 'xfld', '...</td>\n",
       "      <td>[42, 43, 14, 18, 0, 14, 18, 68, 14, 39, 13, 23...</td>\n",
       "    </tr>\n",
       "    <tr>\n",
       "      <th>25996</th>\n",
       "      <td>996</td>\n",
       "      <td>test</td>\n",
       "      <td>76319</td>\n",
       "      <td>0.937178</td>\n",
       "      <td>The Man (Gaston Modot) and the Young Girl (Lya...</td>\n",
       "      <td>['\\n', 'xbos', 'xfld', '1', '76319', 'xfld', '...</td>\n",
       "      <td>[42, 43, 14, 18, 0, 14, 18, 68, 14, 39, 2, 147...</td>\n",
       "    </tr>\n",
       "    <tr>\n",
       "      <th>25997</th>\n",
       "      <td>997</td>\n",
       "      <td>test</td>\n",
       "      <td>92207</td>\n",
       "      <td>0.999354</td>\n",
       "      <td>i really love this movie , i saw it for the fi...</td>\n",
       "      <td>['\\n', 'xbos', 'xfld', '1', '92207', 'xfld', '...</td>\n",
       "      <td>[42, 43, 14, 18, 0, 14, 18, 68, 14, 39, 12, 82...</td>\n",
       "    </tr>\n",
       "    <tr>\n",
       "      <th>25998</th>\n",
       "      <td>998</td>\n",
       "      <td>test</td>\n",
       "      <td>75575</td>\n",
       "      <td>0.104411</td>\n",
       "      <td>There are some great Canadian films. There are...</td>\n",
       "      <td>['\\n', 'xbos', 'xfld', '1', '75575', 'xfld', '...</td>\n",
       "      <td>[42, 43, 14, 18, 0, 14, 18, 68, 14, 39, 54, 35...</td>\n",
       "    </tr>\n",
       "    <tr>\n",
       "      <th>25999</th>\n",
       "      <td>999</td>\n",
       "      <td>test</td>\n",
       "      <td>75814</td>\n",
       "      <td>0.941926</td>\n",
       "      <td>Detective Sergent Vince De Carlo (James Luisi)...</td>\n",
       "      <td>['\\n', 'xbos', 'xfld', '1', '75814', 'xfld', '...</td>\n",
       "      <td>[42, 43, 14, 18, 0, 14, 18, 68, 14, 39, 1359, ...</td>\n",
       "    </tr>\n",
       "  </tbody>\n",
       "</table>\n",
       "<p>1000 rows × 7 columns</p>\n",
       "</div>"
      ],
      "text/plain": [
       "       Unnamed: 0 dataset     id    labels  \\\n",
       "25000           0    test  98481  0.752764   \n",
       "25001           1    test  88606  0.997862   \n",
       "25002           2    test  88639  0.997151   \n",
       "25003           3    test  76170  0.995447   \n",
       "25004           4    test  81803  0.888018   \n",
       "25005           5    test  93371  0.999657   \n",
       "25006           6    test  87360  0.711946   \n",
       "25007           7    test  88547  0.996578   \n",
       "25008           8    test  88215  0.984037   \n",
       "25009           9    test  96187  0.957583   \n",
       "25010          10    test  81251  0.990274   \n",
       "25011          11    test  98086  0.999693   \n",
       "25012          12    test  79688  0.969191   \n",
       "25013          13    test  90580  0.997749   \n",
       "25014          14    test  86756  0.130021   \n",
       "25015          15    test  77906  0.018984   \n",
       "25016          16    test  95742  0.982198   \n",
       "25017          17    test  77455  0.516934   \n",
       "25018          18    test  76454  0.971292   \n",
       "25019          19    test  92650  0.999594   \n",
       "25020          20    test  98042  0.960670   \n",
       "25021          21    test  81107  0.351811   \n",
       "25022          22    test  83839  0.903214   \n",
       "25023          23    test  87324  0.634839   \n",
       "25024          24    test  84526  0.914001   \n",
       "25025          25    test  93868  0.980647   \n",
       "25026          26    test  88605  0.989528   \n",
       "25027          27    test  84436  0.407197   \n",
       "25028          28    test  91698  0.733226   \n",
       "25029          29    test  82413  0.445286   \n",
       "...           ...     ...    ...       ...   \n",
       "25970         970    test  80982  0.983474   \n",
       "25971         971    test  91715  0.995705   \n",
       "25972         972    test  86777  0.892947   \n",
       "25973         973    test  81441  0.083659   \n",
       "25974         974    test  97172  0.717265   \n",
       "25975         975    test  76066  0.964993   \n",
       "25976         976    test  97373  0.999509   \n",
       "25977         977    test  79730  0.976650   \n",
       "25978         978    test  87434  0.668623   \n",
       "25979         979    test  83930  0.931127   \n",
       "25980         980    test  86844  0.304409   \n",
       "25981         981    test  77190  0.181496   \n",
       "25982         982    test  83936  0.330920   \n",
       "25983         983    test  78994  0.888615   \n",
       "25984         984    test  87983  0.611982   \n",
       "25985         985    test  76549  0.797413   \n",
       "25986         986    test  89227  0.986766   \n",
       "25987         987    test  98472  0.861361   \n",
       "25988         988    test  92694  0.804369   \n",
       "25989         989    test  98615  0.998226   \n",
       "25990         990    test  96298  0.425920   \n",
       "25991         991    test  77215  0.930347   \n",
       "25992         992    test  90501  0.217283   \n",
       "25993         993    test  77327  0.966953   \n",
       "25994         994    test  79437  0.897578   \n",
       "25995         995    test  80957  0.947410   \n",
       "25996         996    test  76319  0.937178   \n",
       "25997         997    test  92207  0.999354   \n",
       "25998         998    test  75575  0.104411   \n",
       "25999         999    test  75814  0.941926   \n",
       "\n",
       "                                                    text  \\\n",
       "25000  Bud Abbott and Lou Costello always had a good ...   \n",
       "25001  This film is not your typical Hollywood fare, ...   \n",
       "25002  Henry Thomas, and Robin Tunny, are a couple of...   \n",
       "25003  This digital horror film brings us into the Mi...   \n",
       "25004  I just saw this on a local independent station...   \n",
       "25005  Those wishing to see film noir remakes, should...   \n",
       "25006  I never read the book. Now I don't really want...   \n",
       "25007  I think that there was too much action in the ...   \n",
       "25008  Have wanted to see this for a while: I never t...   \n",
       "25009  This is an interesting, hard to find movie fro...   \n",
       "25010  Well, the Hero and the Terror is slightly belo...   \n",
       "25011  I have been an avid chipmunk fan since the lat...   \n",
       "25012  42/100. Often referred as \"Tarzan with clothes...   \n",
       "25013  I caught this movie late one night and never k...   \n",
       "25014  Tyrone Power was cast in the lead as Solomon. ...   \n",
       "25015  This is one of those religious horror films wh...   \n",
       "25016  Being advertised as the most expensive movie e...   \n",
       "25017  The Jaws rip off is the trashiest of the all t...   \n",
       "25018  After seeing this film I felt sick to my stoma...   \n",
       "25019  I first saw this mini-series as a child and th...   \n",
       "25020  The beautiful, charming, supremely versatile a...   \n",
       "25021  Everyone I know loves this movie, but I am afr...   \n",
       "25022  CORRIDORS OF BLOOD <br /><br />Aspect ratio: 1...   \n",
       "25023  If this movie had been directed by a man, he w...   \n",
       "25024  I like Kevin Bacon and Cathy Moriarty, and I l...   \n",
       "25025  Passion In The Desert exemplifies spatial gran...   \n",
       "25026  I would recommend this film to anyone who is s...   \n",
       "25027  No budget direct to video tale of aliens in Ar...   \n",
       "25028  Film about the failure of government and the s...   \n",
       "25029  I bought this movie for a couple of dollars at...   \n",
       "...                                                  ...   \n",
       "25970  did anyone notice?when miss brook went skinny ...   \n",
       "25971  i was very impressed with this production on l...   \n",
       "25972  I can't knock this film too terribly, because ...   \n",
       "25973  The combination of Dan Haggerty (Elves) and Li...   \n",
       "25974  Perhaps the deepest cartoon made in the USA, \"...   \n",
       "25975  I'm no director or writer or anything related ...   \n",
       "25976  \"Cherry\" tells of a naive, unmarried virgin wh...   \n",
       "25977  This is one of the best looking films of the p...   \n",
       "25978  This is among one of many USA attempts of rema...   \n",
       "25979  I'd never thought that I would be caught sayin...   \n",
       "25980  This movie was utterly and unequivocally terri...   \n",
       "25981  My roommate and I have another friend that wor...   \n",
       "25982  The fact that this cruddy series could elicit ...   \n",
       "25983  Mediocre at best. Slow, but probably more ente...   \n",
       "25984  i see there are great reviews of this film alr...   \n",
       "25985  After watching this film, I thought to myself,...   \n",
       "25986  This movie starts off somewhat slowly and gets...   \n",
       "25987  I grew up with the Abbott and Costello movies,...   \n",
       "25988  I saw this film at the 2005 Palm Springs Inter...   \n",
       "25989  I remember seeing this in the early 90's on UK...   \n",
       "25990  This BRASS EYE special PAEDO-GEDDON was swampe...   \n",
       "25991  A total and utter travesty of a movie.'Dark po...   \n",
       "25992  Rather than go on location and make a realisti...   \n",
       "25993  Consider \"I Know All\" Action hero is lighting ...   \n",
       "25994  I admit to a secret admiration of the original...   \n",
       "25995  This movie reminds me old B movies, but not in...   \n",
       "25996  The Man (Gaston Modot) and the Young Girl (Lya...   \n",
       "25997  i really love this movie , i saw it for the fi...   \n",
       "25998  There are some great Canadian films. There are...   \n",
       "25999  Detective Sergent Vince De Carlo (James Luisi)...   \n",
       "\n",
       "                                          tokenized_text  \\\n",
       "25000  ['\\n', 'xbos', 'xfld', '1', '98481', 'xfld', '...   \n",
       "25001  ['\\n', 'xbos', 'xfld', '1', '88606', 'xfld', '...   \n",
       "25002  ['\\n', 'xbos', 'xfld', '1', '88639', 'xfld', '...   \n",
       "25003  ['\\n', 'xbos', 'xfld', '1', '76170', 'xfld', '...   \n",
       "25004  ['\\n', 'xbos', 'xfld', '1', '81803', 'xfld', '...   \n",
       "25005  ['\\n', 'xbos', 'xfld', '1', '93371', 'xfld', '...   \n",
       "25006  ['\\n', 'xbos', 'xfld', '1', '87360', 'xfld', '...   \n",
       "25007  ['\\n', 'xbos', 'xfld', '1', '88547', 'xfld', '...   \n",
       "25008  ['\\n', 'xbos', 'xfld', '1', '88215', 'xfld', '...   \n",
       "25009  ['\\n', 'xbos', 'xfld', '1', '96187', 'xfld', '...   \n",
       "25010  ['\\n', 'xbos', 'xfld', '1', '81251', 'xfld', '...   \n",
       "25011  ['\\n', 'xbos', 'xfld', '1', '98086', 'xfld', '...   \n",
       "25012  ['\\n', 'xbos', 'xfld', '1', '79688', 'xfld', '...   \n",
       "25013  ['\\n', 'xbos', 'xfld', '1', '90580', 'xfld', '...   \n",
       "25014  ['\\n', 'xbos', 'xfld', '1', '86756', 'xfld', '...   \n",
       "25015  ['\\n', 'xbos', 'xfld', '1', '77906', 'xfld', '...   \n",
       "25016  ['\\n', 'xbos', 'xfld', '1', '95742', 'xfld', '...   \n",
       "25017  ['\\n', 'xbos', 'xfld', '1', '77455', 'xfld', '...   \n",
       "25018  ['\\n', 'xbos', 'xfld', '1', '76454', 'xfld', '...   \n",
       "25019  ['\\n', 'xbos', 'xfld', '1', '92650', 'xfld', '...   \n",
       "25020  ['\\n', 'xbos', 'xfld', '1', '98042', 'xfld', '...   \n",
       "25021  ['\\n', 'xbos', 'xfld', '1', '81107', 'xfld', '...   \n",
       "25022  ['\\n', 'xbos', 'xfld', '1', '83839', 'xfld', '...   \n",
       "25023  ['\\n', 'xbos', 'xfld', '1', '87324', 'xfld', '...   \n",
       "25024  ['\\n', 'xbos', 'xfld', '1', '84526', 'xfld', '...   \n",
       "25025  ['\\n', 'xbos', 'xfld', '1', '93868', 'xfld', '...   \n",
       "25026  ['\\n', 'xbos', 'xfld', '1', '88605', 'xfld', '...   \n",
       "25027  ['\\n', 'xbos', 'xfld', '1', '84436', 'xfld', '...   \n",
       "25028  ['\\n', 'xbos', 'xfld', '1', '91698', 'xfld', '...   \n",
       "25029  ['\\n', 'xbos', 'xfld', '1', '82413', 'xfld', '...   \n",
       "...                                                  ...   \n",
       "25970  ['\\n', 'xbos', 'xfld', '1', '80982', 'xfld', '...   \n",
       "25971  ['\\n', 'xbos', 'xfld', '1', '91715', 'xfld', '...   \n",
       "25972  ['\\n', 'xbos', 'xfld', '1', '86777', 'xfld', '...   \n",
       "25973  ['\\n', 'xbos', 'xfld', '1', '81441', 'xfld', '...   \n",
       "25974  ['\\n', 'xbos', 'xfld', '1', '97172', 'xfld', '...   \n",
       "25975  ['\\n', 'xbos', 'xfld', '1', '76066', 'xfld', '...   \n",
       "25976  ['\\n', 'xbos', 'xfld', '1', '97373', 'xfld', '...   \n",
       "25977  ['\\n', 'xbos', 'xfld', '1', '79730', 'xfld', '...   \n",
       "25978  ['\\n', 'xbos', 'xfld', '1', '87434', 'xfld', '...   \n",
       "25979  ['\\n', 'xbos', 'xfld', '1', '83930', 'xfld', '...   \n",
       "25980  ['\\n', 'xbos', 'xfld', '1', '86844', 'xfld', '...   \n",
       "25981  ['\\n', 'xbos', 'xfld', '1', '77190', 'xfld', '...   \n",
       "25982  ['\\n', 'xbos', 'xfld', '1', '83936', 'xfld', '...   \n",
       "25983  ['\\n', 'xbos', 'xfld', '1', '78994', 'xfld', '...   \n",
       "25984  ['\\n', 'xbos', 'xfld', '1', '87983', 'xfld', '...   \n",
       "25985  ['\\n', 'xbos', 'xfld', '1', '76549', 'xfld', '...   \n",
       "25986  ['\\n', 'xbos', 'xfld', '1', '89227', 'xfld', '...   \n",
       "25987  ['\\n', 'xbos', 'xfld', '1', '98472', 'xfld', '...   \n",
       "25988  ['\\n', 'xbos', 'xfld', '1', '92694', 'xfld', '...   \n",
       "25989  ['\\n', 'xbos', 'xfld', '1', '98615', 'xfld', '...   \n",
       "25990  ['\\n', 'xbos', 'xfld', '1', '96298', 'xfld', '...   \n",
       "25991  ['\\n', 'xbos', 'xfld', '1', '77215', 'xfld', '...   \n",
       "25992  ['\\n', 'xbos', 'xfld', '1', '90501', 'xfld', '...   \n",
       "25993  ['\\n', 'xbos', 'xfld', '1', '77327', 'xfld', '...   \n",
       "25994  ['\\n', 'xbos', 'xfld', '1', '79437', 'xfld', '...   \n",
       "25995  ['\\n', 'xbos', 'xfld', '1', '80957', 'xfld', '...   \n",
       "25996  ['\\n', 'xbos', 'xfld', '1', '76319', 'xfld', '...   \n",
       "25997  ['\\n', 'xbos', 'xfld', '1', '92207', 'xfld', '...   \n",
       "25998  ['\\n', 'xbos', 'xfld', '1', '75575', 'xfld', '...   \n",
       "25999  ['\\n', 'xbos', 'xfld', '1', '75814', 'xfld', '...   \n",
       "\n",
       "                                        numerized_tokens  \n",
       "25000  [42, 43, 14, 18, 0, 14, 18, 68, 14, 39, 5284, ...  \n",
       "25001  [42, 43, 14, 18, 0, 14, 18, 68, 14, 39, 13, 27...  \n",
       "25002  [42, 43, 14, 18, 0, 14, 18, 68, 14, 39, 1636, ...  \n",
       "25003  [42, 43, 14, 18, 0, 14, 18, 68, 14, 39, 13, 36...  \n",
       "25004  [42, 43, 14, 18, 0, 14, 18, 68, 14, 39, 12, 56...  \n",
       "25005  [42, 43, 14, 18, 0, 14, 18, 68, 14, 39, 167, 4...  \n",
       "25006  [42, 43, 14, 18, 0, 14, 18, 68, 14, 39, 12, 13...  \n",
       "25007  [42, 43, 14, 18, 0, 14, 18, 68, 14, 39, 12, 12...  \n",
       "25008  [42, 43, 14, 18, 0, 14, 18, 68, 14, 39, 38, 48...  \n",
       "25009  [42, 43, 14, 18, 0, 14, 18, 68, 14, 39, 13, 9,...  \n",
       "25010  [42, 43, 14, 18, 0, 14, 18, 68, 14, 39, 91, 4,...  \n",
       "25011  [42, 43, 14, 18, 0, 14, 18, 68, 14, 39, 12, 38...  \n",
       "25012  [42, 43, 14, 18, 0, 14, 18, 68, 14, 39, 12066,...  \n",
       "25013  [42, 43, 14, 18, 0, 14, 18, 68, 14, 39, 12, 10...  \n",
       "25014  [42, 43, 14, 18, 0, 14, 18, 68, 14, 39, 12081,...  \n",
       "25015  [42, 43, 14, 18, 0, 14, 18, 68, 14, 39, 13, 9,...  \n",
       "25016  [42, 43, 14, 18, 0, 14, 18, 68, 14, 39, 131, 6...  \n",
       "25017  [42, 43, 14, 18, 0, 14, 18, 68, 14, 39, 2, 454...  \n",
       "25018  [42, 43, 14, 18, 0, 14, 18, 68, 14, 39, 121, 3...  \n",
       "25019  [42, 43, 14, 18, 0, 14, 18, 68, 14, 39, 12, 10...  \n",
       "25020  [42, 43, 14, 18, 0, 14, 18, 68, 14, 39, 2, 333...  \n",
       "25021  [42, 43, 14, 18, 0, 14, 18, 68, 14, 39, 316, 1...  \n",
       "25022  [42, 43, 14, 18, 0, 14, 18, 68, 14, 39, 33, 92...  \n",
       "25023  [42, 43, 14, 18, 0, 14, 18, 68, 14, 39, 62, 13...  \n",
       "25024  [42, 43, 14, 18, 0, 14, 18, 68, 14, 39, 12, 53...  \n",
       "25025  [42, 43, 14, 18, 0, 14, 18, 68, 14, 39, 1649, ...  \n",
       "25026  [42, 43, 14, 18, 0, 14, 18, 68, 14, 39, 12, 73...  \n",
       "25027  [42, 43, 14, 18, 0, 14, 18, 68, 14, 39, 75, 35...  \n",
       "25028  [42, 43, 14, 18, 0, 14, 18, 68, 14, 39, 27, 60...  \n",
       "25029  [42, 43, 14, 18, 0, 14, 18, 68, 14, 39, 12, 12...  \n",
       "...                                                  ...  \n",
       "25970  [42, 43, 14, 18, 0, 14, 18, 68, 14, 39, 89, 26...  \n",
       "25971  [42, 43, 14, 18, 0, 14, 18, 68, 14, 39, 12, 20...  \n",
       "25972  [42, 43, 14, 18, 0, 14, 18, 68, 14, 39, 12, 19...  \n",
       "25973  [42, 43, 14, 18, 0, 14, 18, 68, 14, 39, 2, 219...  \n",
       "25974  [42, 43, 14, 18, 0, 14, 18, 68, 14, 39, 409, 2...  \n",
       "25975  [42, 43, 14, 18, 0, 14, 18, 68, 14, 39, 12, 16...  \n",
       "25976  [42, 43, 14, 18, 0, 14, 18, 68, 14, 39, 16, 97...  \n",
       "25977  [42, 43, 14, 18, 0, 14, 18, 68, 14, 39, 13, 9,...  \n",
       "25978  [42, 43, 14, 18, 0, 14, 18, 68, 14, 39, 13, 9,...  \n",
       "25979  [42, 43, 14, 18, 0, 14, 18, 68, 14, 39, 12, 32...  \n",
       "25980  [42, 43, 14, 18, 0, 14, 18, 68, 14, 39, 13, 23...  \n",
       "25981  [42, 43, 14, 18, 0, 14, 18, 68, 14, 39, 77, 61...  \n",
       "25982  [42, 43, 14, 18, 0, 14, 18, 68, 14, 39, 2, 218...  \n",
       "25983  [42, 43, 14, 18, 0, 14, 18, 68, 14, 39, 1572, ...  \n",
       "25984  [42, 43, 14, 18, 0, 14, 18, 68, 14, 39, 12, 84...  \n",
       "25985  [42, 43, 14, 18, 0, 14, 18, 68, 14, 39, 121, 1...  \n",
       "25986  [42, 43, 14, 18, 0, 14, 18, 68, 14, 39, 13, 23...  \n",
       "25987  [42, 43, 14, 18, 0, 14, 18, 68, 14, 39, 12, 21...  \n",
       "25988  [42, 43, 14, 18, 0, 14, 18, 68, 14, 39, 12, 23...  \n",
       "25989  [42, 43, 14, 18, 0, 14, 18, 68, 14, 39, 12, 40...  \n",
       "25990  [42, 43, 14, 18, 0, 14, 18, 68, 14, 39, 13, 33...  \n",
       "25991  [42, 43, 14, 18, 0, 14, 18, 68, 14, 39, 6, 951...  \n",
       "25992  [42, 43, 14, 18, 0, 14, 18, 68, 14, 39, 273, 9...  \n",
       "25993  [42, 43, 14, 18, 0, 14, 18, 68, 14, 39, 1185, ...  \n",
       "25994  [42, 43, 14, 18, 0, 14, 18, 68, 14, 39, 12, 99...  \n",
       "25995  [42, 43, 14, 18, 0, 14, 18, 68, 14, 39, 13, 23...  \n",
       "25996  [42, 43, 14, 18, 0, 14, 18, 68, 14, 39, 2, 147...  \n",
       "25997  [42, 43, 14, 18, 0, 14, 18, 68, 14, 39, 12, 82...  \n",
       "25998  [42, 43, 14, 18, 0, 14, 18, 68, 14, 39, 54, 35...  \n",
       "25999  [42, 43, 14, 18, 0, 14, 18, 68, 14, 39, 1359, ...  \n",
       "\n",
       "[1000 rows x 7 columns]"
      ]
     },
     "execution_count": 41,
     "metadata": {},
     "output_type": "execute_result"
    }
   ],
   "source": [
    "test_df.head(1000)"
   ]
  },
  {
   "cell_type": "code",
   "execution_count": 255,
   "metadata": {
    "scrolled": true
   },
   "outputs": [
    {
     "data": {
      "text/plain": [
       "'When I first saw the Premiere Episode of Farscape, I had no idea what to expect. I was immensely impressed and satisfied with \"Premiere\". Subsequent re-watches, however, have made numerous flaws apparent to me that I missed initially. \"Premiere\" is not a great Farscape Episode, but it deserves credit for successfully and efficiently setting up the plot and giving the basic back stories to many of the regular characters.<br /><br />The episode begins with John Crichton (Ben Browder), an astronaut and scientist, preparing to launch into space in the Farscape Module, a small space ship perfected by Crichton and his friend DK. Crichton has a revealing conversation with his father, Jack Crichton, and then begins his test flight in space. Of course, everything goes wrong and Crichton is \"shot through a wormhole\" and winds up in \"a distant part of the galaxy\".<br /><br />After exiting the wormhole, Crichton\\'s module is pulled on board a living space ship. From here, the characters and story line for the Farscape series are introduced in an entertaining albeit rushed manner.<br /><br />The regular characters are properly introduced during the first half of the episode. Of course, there is Crichton, played well by Ben Browder. He offers a the audience a sympathetic character to identify with. He\\'s lost and has no idea how to do much of anything. In \"Premiere\", Crichton has to choose between joining the prisoners or the Peacekeepers. He knows nothing at all about either side, but in helping Aeryn (a captured Peacekeeper pilot) it becomes clear that he intends to help the Peacekeepers. He probably would not have ended up siding with the prisoners if it hadn\\'t been for Crais, a Peacekeeper captain, declaring Crichton to be the murderer of his brother. This puts Crichton in an interesting situation: he\\'s stuck with bizarre, violent escaped prisoners in a far-off galaxy about which he knows nothing at all. Crichton\\'s total lack of knowledge of the Farsape world makes him a particularly interesting protagonist during Farscape\\'s first season.<br /><br />The supporting cast is just as compelling. There\\'s Zhaan, a blue Delvian and former prisoner. She\\'s peaceful and reasonable, as opposed to fellow prisoner Ka D\\'Argo, a powerful and hard-headed warrior. Virginia Hey is totally covered in blue makeup, allowing her character of Zhaan to appear cool and convincing. D\\'Argo\\'s mega-makeup, in contrast, is below-par. He looks kind of silly with his giant tentacles and strange nose, and there is something peculiar about his eyes. They look as if they have had some sort of allergic reaction to his makeup. Farscape would give some improvements to his makeup in Season 1, but the overall costume would, for me at least, remain as a problem until Season 2.<br /><br />The puppet/digital characters of Rygel and Pilot are, to put it simply, excellent. Rygel is a tiny Hynerian Dominar who floats around on some sort of hovercraft. In \"Premiere\" he is given some good dialogue but not much else. Pilot nearly steals the show as the liaison between the living ship, Moya, and Moya\\'s passengers. Even in the first episode, Pilot gives off the appearance of being a real, living alien; he never once in the show seems to be a giant, expensive machine.<br /><br />The Peacekeeper characters introduced are quite interesting as well. The Peacekeepers are made up of a race called Sebaceans, who look just like humans. The chief antagonist is introduced in \"Premiere\" as Captian Crais, who believes that Crichton killed his brother. In reality, Crais\\'s brother\\'s death was merely an accident resulting from an accidental collision with Crichton\\'s ship. Aeryn Sun, a pilot who Crichton helps escape, tries to explain that the death was an accident, but Crais just claims that she is \"irreversiby contaminated\" and refused to change his mind. Crais obsession for revenge, warranted or not (it should be clear to Crais that Crichton isn\\'t responsible), is mysterious in \"Premiere\", but would be explained later in the season. Aeryn herself provides an extremely interesting character. By being forced to leave the Peacekeepers, she changes her whole way of life, and is in that regard in a similar (though less severe) situation as Crichton.<br /><br />The actual episode, as mentioned earlier, feels somewhat rushed and clunky. So much happens that not enough time is spent on anything. Also, D\\'Argo (for now) looks kind of silly running around in his mediocre costume trying to appear menacing. Still, \"Premiere\" is solid entertainment. The special effects (such as in the starburst sequences) are impressive. Most of the costumes and the sets on board Moya are original. Despite its flaws, \"Premiere\" is a must-see for Farscape fans. 3/4'"
      ]
     },
     "execution_count": 255,
     "metadata": {},
     "output_type": "execute_result"
    }
   ],
   "source": [
    "test_df[(test_df.labels>.4) & (test_df.labels<.5)].text.iloc[10]"
   ]
  },
  {
   "cell_type": "code",
   "execution_count": 34,
   "metadata": {},
   "outputs": [],
   "source": [
    "# Save submission\n",
    "\n",
    "test_df[[\"id\", \"labels\"]].to_csv(\"submission_8.18.csv\", index=False)"
   ]
  },
  {
   "cell_type": "markdown",
   "metadata": {},
   "source": [
    "8.18:\n",
    "Our predictions are working well w the validation set, but not w test set. Test set is predicting mostly negative, although the directionality appears correct. what to do?\n",
    "\n",
    "added test_dl to md. Trying again w fresh classifier. The mean looks good after training two epochs. Training for three more epochs, see if it remains balanced. out of memory error. submit this version to test. gets #5 on leaderboard. bce of around .25 or .27. Train more and see how it improves. training improves w single unfrozen layer. But! With two unfrozen layers, gets unbalanced again!\n",
    "\n",
    "Start afresh. Unfreeze a single layer. trained again. saved. ready for submission."
   ]
  },
  {
   "cell_type": "markdown",
   "metadata": {
    "colab_type": "text",
    "id": "4QDmSR3oMWg2"
   },
   "source": []
  },
  {
   "cell_type": "code",
   "execution_count": null,
   "metadata": {
    "colab": {},
    "colab_type": "code",
    "id": "OqgYMLn5Byb5"
   },
   "outputs": [],
   "source": []
  },
  {
   "cell_type": "markdown",
   "metadata": {
    "colab_type": "text",
    "id": "WZ1OFAsaMWg2"
   },
   "source": [
    "## Fin"
   ]
  },
  {
   "cell_type": "code",
   "execution_count": null,
   "metadata": {
    "colab": {},
    "colab_type": "code",
    "id": "Uqeysp4vMWg3"
   },
   "outputs": [],
   "source": [
    "learn.sched.plot_loss()"
   ]
  }
 ],
 "metadata": {
  "accelerator": "GPU",
  "colab": {
   "collapsed_sections": [],
   "name": "imdb_D.ipynb",
   "provenance": [],
   "version": "0.3.2"
  },
  "kernelspec": {
   "display_name": "Python 3",
   "language": "python",
   "name": "python3"
  },
  "language_info": {
   "codemirror_mode": {
    "name": "ipython",
    "version": 3
   },
   "file_extension": ".py",
   "mimetype": "text/x-python",
   "name": "python",
   "nbconvert_exporter": "python",
   "pygments_lexer": "ipython3",
   "version": "3.6.6"
  }
 },
 "nbformat": 4,
 "nbformat_minor": 1
}
